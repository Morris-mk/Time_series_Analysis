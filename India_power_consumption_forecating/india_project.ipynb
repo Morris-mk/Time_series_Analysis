{
 "cells": [
  {
   "cell_type": "code",
   "execution_count": 1,
   "id": "3e004703",
   "metadata": {},
   "outputs": [
    {
     "name": "stderr",
     "output_type": "stream",
     "text": [
      "c:\\Users\\Morinyo Baddestman\\Documents\\Time_Series_Analysis\\.venv\\Lib\\site-packages\\tqdm\\auto.py:21: TqdmWarning: IProgress not found. Please update jupyter and ipywidgets. See https://ipywidgets.readthedocs.io/en/stable/user_install.html\n",
      "  from .autonotebook import tqdm as notebook_tqdm\n"
     ]
    }
   ],
   "source": [
    "import pandas as pd\n",
    "import numpy as np\n",
    "import matplotlib.pyplot as plt\n",
    "import plotly.express as px\n",
    "import plotly.graph_objects as go\n",
    "\n",
    "from prophet import Prophet\n",
    "from sklearn.metrics import mean_absolute_error, root_mean_squared_error"
   ]
  },
  {
   "cell_type": "code",
   "execution_count": 2,
   "id": "bd73050c",
   "metadata": {},
   "outputs": [
    {
     "data": {
      "application/vnd.microsoft.datawrangler.viewer.v0+json": {
       "columns": [
        {
         "name": "index",
         "rawType": "int64",
         "type": "integer"
        },
        {
         "name": "States",
         "rawType": "object",
         "type": "string"
        },
        {
         "name": "Regions",
         "rawType": "object",
         "type": "string"
        },
        {
         "name": "latitude",
         "rawType": "float64",
         "type": "float"
        },
        {
         "name": "longitude",
         "rawType": "float64",
         "type": "float"
        },
        {
         "name": "Dates",
         "rawType": "object",
         "type": "string"
        },
        {
         "name": "Usage",
         "rawType": "float64",
         "type": "float"
        }
       ],
       "ref": "036d71e6-5652-4c55-a5dd-c5f943a3e8cf",
       "rows": [
        [
         "0",
         "Punjab",
         "NR",
         "31.51997398",
         "75.98000281",
         "02/01/2019 00:00:00",
         "119.9"
        ],
        [
         "1",
         "Haryana",
         "NR",
         "28.45000633",
         "77.01999101",
         "02/01/2019 00:00:00",
         "130.3"
        ],
        [
         "2",
         "Rajasthan",
         "NR",
         "26.44999921",
         "74.63998124",
         "02/01/2019 00:00:00",
         "234.1"
        ],
        [
         "3",
         "Delhi",
         "NR",
         "28.6699929",
         "77.23000403",
         "02/01/2019 00:00:00",
         "85.8"
        ],
        [
         "4",
         "UP",
         "NR",
         "27.59998069",
         "78.05000565",
         "02/01/2019 00:00:00",
         "313.9"
        ]
       ],
       "shape": {
        "columns": 6,
        "rows": 5
       }
      },
      "text/html": [
       "<div>\n",
       "<style scoped>\n",
       "    .dataframe tbody tr th:only-of-type {\n",
       "        vertical-align: middle;\n",
       "    }\n",
       "\n",
       "    .dataframe tbody tr th {\n",
       "        vertical-align: top;\n",
       "    }\n",
       "\n",
       "    .dataframe thead th {\n",
       "        text-align: right;\n",
       "    }\n",
       "</style>\n",
       "<table border=\"1\" class=\"dataframe\">\n",
       "  <thead>\n",
       "    <tr style=\"text-align: right;\">\n",
       "      <th></th>\n",
       "      <th>States</th>\n",
       "      <th>Regions</th>\n",
       "      <th>latitude</th>\n",
       "      <th>longitude</th>\n",
       "      <th>Dates</th>\n",
       "      <th>Usage</th>\n",
       "    </tr>\n",
       "  </thead>\n",
       "  <tbody>\n",
       "    <tr>\n",
       "      <th>0</th>\n",
       "      <td>Punjab</td>\n",
       "      <td>NR</td>\n",
       "      <td>31.519974</td>\n",
       "      <td>75.980003</td>\n",
       "      <td>02/01/2019 00:00:00</td>\n",
       "      <td>119.9</td>\n",
       "    </tr>\n",
       "    <tr>\n",
       "      <th>1</th>\n",
       "      <td>Haryana</td>\n",
       "      <td>NR</td>\n",
       "      <td>28.450006</td>\n",
       "      <td>77.019991</td>\n",
       "      <td>02/01/2019 00:00:00</td>\n",
       "      <td>130.3</td>\n",
       "    </tr>\n",
       "    <tr>\n",
       "      <th>2</th>\n",
       "      <td>Rajasthan</td>\n",
       "      <td>NR</td>\n",
       "      <td>26.449999</td>\n",
       "      <td>74.639981</td>\n",
       "      <td>02/01/2019 00:00:00</td>\n",
       "      <td>234.1</td>\n",
       "    </tr>\n",
       "    <tr>\n",
       "      <th>3</th>\n",
       "      <td>Delhi</td>\n",
       "      <td>NR</td>\n",
       "      <td>28.669993</td>\n",
       "      <td>77.230004</td>\n",
       "      <td>02/01/2019 00:00:00</td>\n",
       "      <td>85.8</td>\n",
       "    </tr>\n",
       "    <tr>\n",
       "      <th>4</th>\n",
       "      <td>UP</td>\n",
       "      <td>NR</td>\n",
       "      <td>27.599981</td>\n",
       "      <td>78.050006</td>\n",
       "      <td>02/01/2019 00:00:00</td>\n",
       "      <td>313.9</td>\n",
       "    </tr>\n",
       "  </tbody>\n",
       "</table>\n",
       "</div>"
      ],
      "text/plain": [
       "      States Regions   latitude  longitude                Dates  Usage\n",
       "0     Punjab      NR  31.519974  75.980003  02/01/2019 00:00:00  119.9\n",
       "1    Haryana      NR  28.450006  77.019991  02/01/2019 00:00:00  130.3\n",
       "2  Rajasthan      NR  26.449999  74.639981  02/01/2019 00:00:00  234.1\n",
       "3      Delhi      NR  28.669993  77.230004  02/01/2019 00:00:00   85.8\n",
       "4         UP      NR  27.599981  78.050006  02/01/2019 00:00:00  313.9"
      ]
     },
     "execution_count": 2,
     "metadata": {},
     "output_type": "execute_result"
    }
   ],
   "source": [
    "# import and show the data\n",
    "df=pd.read_csv(r'https://cf-courses-data.s3.us.cloud-object-storage.appdomain.cloud/IBM-GPXX032NEN/images/data/long_data_.csv')\n",
    "df.head()"
   ]
  },
  {
   "cell_type": "code",
   "execution_count": 3,
   "id": "80d7d551",
   "metadata": {},
   "outputs": [
    {
     "name": "stdout",
     "output_type": "stream",
     "text": [
      "dataframe is of shape\n",
      " (16599, 6)\n",
      "<class 'pandas.core.frame.DataFrame'>\n",
      "RangeIndex: 16599 entries, 0 to 16598\n",
      "Data columns (total 6 columns):\n",
      " #   Column     Non-Null Count  Dtype  \n",
      "---  ------     --------------  -----  \n",
      " 0   States     16599 non-null  object \n",
      " 1   Regions    16599 non-null  object \n",
      " 2   latitude   16599 non-null  float64\n",
      " 3   longitude  16599 non-null  float64\n",
      " 4   Dates      16599 non-null  object \n",
      " 5   Usage      16599 non-null  float64\n",
      "dtypes: float64(3), object(3)\n",
      "memory usage: 778.2+ KB\n",
      "None\n"
     ]
    }
   ],
   "source": [
    "# dataframe features\n",
    "print('dataframe is of shape\\n', df.shape)\n",
    "print(df.info())"
   ]
  },
  {
   "cell_type": "markdown",
   "id": "cc9f6a17",
   "metadata": {},
   "source": [
    "## data preprocessing "
   ]
  },
  {
   "cell_type": "code",
   "execution_count": 4,
   "id": "6f71a4f9",
   "metadata": {},
   "outputs": [],
   "source": [
    "# convert df columns to lower case for easier referrencing\n",
    "df.columns = [col.lower() for col in df.columns]\n",
    "\n",
    "# convert the dates column to date_time format\n",
    "df['dates'] = pd.to_datetime(df['dates'], format='mixed', dayfirst= True)\n",
    "\n",
    "# drop unneccesary columns\n",
    "df = df.drop(['longitude', 'latitude'], axis=1)"
   ]
  },
  {
   "cell_type": "code",
   "execution_count": 5,
   "id": "d5cf32da",
   "metadata": {},
   "outputs": [
    {
     "name": "stdout",
     "output_type": "stream",
     "text": [
      "new shape\n",
      " (498, 2)\n",
      "       dates       usage\n",
      "0 2019-01-02  102.224242\n",
      "1 2019-01-03  103.142424\n",
      "2 2019-01-04  100.124242\n",
      "3 2019-01-05  100.269697\n",
      "4 2019-01-06  100.512121\n"
     ]
    }
   ],
   "source": [
    "# group the data by dates (using the average of all states usage per day)\n",
    "df = df.groupby('dates', as_index=False).mean(numeric_only=True)\n",
    "print('new shape\\n', df.shape)\n",
    "print(df.head())\n"
   ]
  },
  {
   "cell_type": "code",
   "execution_count": 8,
   "id": "4761342a",
   "metadata": {},
   "outputs": [
    {
     "data": {
      "application/vnd.plotly.v1+json": {
       "config": {
        "plotlyServerURL": "https://plot.ly"
       },
       "data": [
        {
         "hovertemplate": "dates=%{x}<br>usage=%{y}<extra></extra>",
         "legendgroup": "",
         "line": {
          "color": "#636efa",
          "dash": "solid"
         },
         "marker": {
          "symbol": "circle"
         },
         "mode": "lines",
         "name": "",
         "orientation": "v",
         "showlegend": false,
         "type": "scatter",
         "x": [
          "2019-01-02T00:00:00.000000000",
          "2019-01-03T00:00:00.000000000",
          "2019-01-04T00:00:00.000000000",
          "2019-01-05T00:00:00.000000000",
          "2019-01-06T00:00:00.000000000",
          "2019-01-07T00:00:00.000000000",
          "2019-01-08T00:00:00.000000000",
          "2019-01-09T00:00:00.000000000",
          "2019-01-10T00:00:00.000000000",
          "2019-01-11T00:00:00.000000000",
          "2019-01-12T00:00:00.000000000",
          "2019-01-13T00:00:00.000000000",
          "2019-01-14T00:00:00.000000000",
          "2019-01-15T00:00:00.000000000",
          "2019-01-16T00:00:00.000000000",
          "2019-01-17T00:00:00.000000000",
          "2019-01-18T00:00:00.000000000",
          "2019-01-19T00:00:00.000000000",
          "2019-01-20T00:00:00.000000000",
          "2019-01-21T00:00:00.000000000",
          "2019-01-22T00:00:00.000000000",
          "2019-01-23T00:00:00.000000000",
          "2019-01-24T00:00:00.000000000",
          "2019-01-25T00:00:00.000000000",
          "2019-01-26T00:00:00.000000000",
          "2019-01-27T00:00:00.000000000",
          "2019-01-28T00:00:00.000000000",
          "2019-01-29T00:00:00.000000000",
          "2019-01-30T00:00:00.000000000",
          "2019-01-31T00:00:00.000000000",
          "2019-02-02T00:00:00.000000000",
          "2019-02-03T00:00:00.000000000",
          "2019-02-04T00:00:00.000000000",
          "2019-02-05T00:00:00.000000000",
          "2019-02-06T00:00:00.000000000",
          "2019-02-07T00:00:00.000000000",
          "2019-02-08T00:00:00.000000000",
          "2019-02-09T00:00:00.000000000",
          "2019-02-10T00:00:00.000000000",
          "2019-02-11T00:00:00.000000000",
          "2019-02-12T00:00:00.000000000",
          "2019-02-13T00:00:00.000000000",
          "2019-02-14T00:00:00.000000000",
          "2019-02-15T00:00:00.000000000",
          "2019-02-16T00:00:00.000000000",
          "2019-02-17T00:00:00.000000000",
          "2019-02-18T00:00:00.000000000",
          "2019-02-19T00:00:00.000000000",
          "2019-02-20T00:00:00.000000000",
          "2019-02-21T00:00:00.000000000",
          "2019-02-22T00:00:00.000000000",
          "2019-02-23T00:00:00.000000000",
          "2019-02-24T00:00:00.000000000",
          "2019-02-25T00:00:00.000000000",
          "2019-02-26T00:00:00.000000000",
          "2019-02-27T00:00:00.000000000",
          "2019-02-28T00:00:00.000000000",
          "2019-03-02T00:00:00.000000000",
          "2019-03-03T00:00:00.000000000",
          "2019-03-04T00:00:00.000000000",
          "2019-03-05T00:00:00.000000000",
          "2019-03-06T00:00:00.000000000",
          "2019-03-07T00:00:00.000000000",
          "2019-03-08T00:00:00.000000000",
          "2019-03-09T00:00:00.000000000",
          "2019-03-10T00:00:00.000000000",
          "2019-03-11T00:00:00.000000000",
          "2019-03-12T00:00:00.000000000",
          "2019-03-13T00:00:00.000000000",
          "2019-03-14T00:00:00.000000000",
          "2019-03-15T00:00:00.000000000",
          "2019-03-16T00:00:00.000000000",
          "2019-03-17T00:00:00.000000000",
          "2019-03-18T00:00:00.000000000",
          "2019-03-19T00:00:00.000000000",
          "2019-03-20T00:00:00.000000000",
          "2019-03-21T00:00:00.000000000",
          "2019-03-22T00:00:00.000000000",
          "2019-03-23T00:00:00.000000000",
          "2019-03-24T00:00:00.000000000",
          "2019-03-25T00:00:00.000000000",
          "2019-03-26T00:00:00.000000000",
          "2019-03-27T00:00:00.000000000",
          "2019-03-28T00:00:00.000000000",
          "2019-03-29T00:00:00.000000000",
          "2019-03-30T00:00:00.000000000",
          "2019-03-31T00:00:00.000000000",
          "2019-04-02T00:00:00.000000000",
          "2019-04-03T00:00:00.000000000",
          "2019-04-04T00:00:00.000000000",
          "2019-04-05T00:00:00.000000000",
          "2019-04-06T00:00:00.000000000",
          "2019-04-07T00:00:00.000000000",
          "2019-04-08T00:00:00.000000000",
          "2019-04-09T00:00:00.000000000",
          "2019-04-10T00:00:00.000000000",
          "2019-04-11T00:00:00.000000000",
          "2019-04-12T00:00:00.000000000",
          "2019-04-13T00:00:00.000000000",
          "2019-04-14T00:00:00.000000000",
          "2019-04-15T00:00:00.000000000",
          "2019-04-16T00:00:00.000000000",
          "2019-04-17T00:00:00.000000000",
          "2019-04-18T00:00:00.000000000",
          "2019-04-19T00:00:00.000000000",
          "2019-04-20T00:00:00.000000000",
          "2019-04-21T00:00:00.000000000",
          "2019-04-22T00:00:00.000000000",
          "2019-04-23T00:00:00.000000000",
          "2019-04-24T00:00:00.000000000",
          "2019-04-25T00:00:00.000000000",
          "2019-04-26T00:00:00.000000000",
          "2019-04-27T00:00:00.000000000",
          "2019-04-28T00:00:00.000000000",
          "2019-04-29T00:00:00.000000000",
          "2019-04-30T00:00:00.000000000",
          "2019-05-02T00:00:00.000000000",
          "2019-05-03T00:00:00.000000000",
          "2019-05-04T00:00:00.000000000",
          "2019-05-05T00:00:00.000000000",
          "2019-05-06T00:00:00.000000000",
          "2019-05-07T00:00:00.000000000",
          "2019-05-08T00:00:00.000000000",
          "2019-05-09T00:00:00.000000000",
          "2019-05-10T00:00:00.000000000",
          "2019-05-11T00:00:00.000000000",
          "2019-05-12T00:00:00.000000000",
          "2019-05-13T00:00:00.000000000",
          "2019-05-14T00:00:00.000000000",
          "2019-05-15T00:00:00.000000000",
          "2019-05-16T00:00:00.000000000",
          "2019-05-17T00:00:00.000000000",
          "2019-05-18T00:00:00.000000000",
          "2019-05-19T00:00:00.000000000",
          "2019-05-20T00:00:00.000000000",
          "2019-05-21T00:00:00.000000000",
          "2019-05-22T00:00:00.000000000",
          "2019-05-23T00:00:00.000000000",
          "2019-05-24T00:00:00.000000000",
          "2019-05-25T00:00:00.000000000",
          "2019-05-26T00:00:00.000000000",
          "2019-05-27T00:00:00.000000000",
          "2019-05-28T00:00:00.000000000",
          "2019-05-29T00:00:00.000000000",
          "2019-05-30T00:00:00.000000000",
          "2019-05-31T00:00:00.000000000",
          "2019-06-02T00:00:00.000000000",
          "2019-06-03T00:00:00.000000000",
          "2019-06-04T00:00:00.000000000",
          "2019-06-05T00:00:00.000000000",
          "2019-06-06T00:00:00.000000000",
          "2019-06-07T00:00:00.000000000",
          "2019-06-08T00:00:00.000000000",
          "2019-06-09T00:00:00.000000000",
          "2019-06-10T00:00:00.000000000",
          "2019-06-11T00:00:00.000000000",
          "2019-06-12T00:00:00.000000000",
          "2019-06-13T00:00:00.000000000",
          "2019-06-14T00:00:00.000000000",
          "2019-06-15T00:00:00.000000000",
          "2019-06-16T00:00:00.000000000",
          "2019-06-17T00:00:00.000000000",
          "2019-06-18T00:00:00.000000000",
          "2019-06-19T00:00:00.000000000",
          "2019-06-20T00:00:00.000000000",
          "2019-06-21T00:00:00.000000000",
          "2019-06-22T00:00:00.000000000",
          "2019-06-23T00:00:00.000000000",
          "2019-06-24T00:00:00.000000000",
          "2019-06-25T00:00:00.000000000",
          "2019-06-26T00:00:00.000000000",
          "2019-06-27T00:00:00.000000000",
          "2019-06-28T00:00:00.000000000",
          "2019-06-29T00:00:00.000000000",
          "2019-06-30T00:00:00.000000000",
          "2019-07-01T00:00:00.000000000",
          "2019-07-02T00:00:00.000000000",
          "2019-07-03T00:00:00.000000000",
          "2019-07-04T00:00:00.000000000",
          "2019-07-05T00:00:00.000000000",
          "2019-07-06T00:00:00.000000000",
          "2019-07-07T00:00:00.000000000",
          "2019-07-08T00:00:00.000000000",
          "2019-07-09T00:00:00.000000000",
          "2019-07-10T00:00:00.000000000",
          "2019-07-11T00:00:00.000000000",
          "2019-07-12T00:00:00.000000000",
          "2019-07-13T00:00:00.000000000",
          "2019-07-14T00:00:00.000000000",
          "2019-07-15T00:00:00.000000000",
          "2019-07-16T00:00:00.000000000",
          "2019-07-17T00:00:00.000000000",
          "2019-07-18T00:00:00.000000000",
          "2019-07-19T00:00:00.000000000",
          "2019-07-20T00:00:00.000000000",
          "2019-07-21T00:00:00.000000000",
          "2019-07-22T00:00:00.000000000",
          "2019-07-23T00:00:00.000000000",
          "2019-07-24T00:00:00.000000000",
          "2019-07-25T00:00:00.000000000",
          "2019-07-26T00:00:00.000000000",
          "2019-07-27T00:00:00.000000000",
          "2019-07-28T00:00:00.000000000",
          "2019-07-29T00:00:00.000000000",
          "2019-07-30T00:00:00.000000000",
          "2019-07-31T00:00:00.000000000",
          "2019-08-01T00:00:00.000000000",
          "2019-08-02T00:00:00.000000000",
          "2019-08-03T00:00:00.000000000",
          "2019-08-04T00:00:00.000000000",
          "2019-08-05T00:00:00.000000000",
          "2019-08-06T00:00:00.000000000",
          "2019-08-08T00:00:00.000000000",
          "2019-08-09T00:00:00.000000000",
          "2019-08-10T00:00:00.000000000",
          "2019-08-11T00:00:00.000000000",
          "2019-08-12T00:00:00.000000000",
          "2019-08-13T00:00:00.000000000",
          "2019-08-14T00:00:00.000000000",
          "2019-08-15T00:00:00.000000000",
          "2019-08-16T00:00:00.000000000",
          "2019-08-17T00:00:00.000000000",
          "2019-08-18T00:00:00.000000000",
          "2019-08-19T00:00:00.000000000",
          "2019-08-20T00:00:00.000000000",
          "2019-08-21T00:00:00.000000000",
          "2019-08-22T00:00:00.000000000",
          "2019-08-23T00:00:00.000000000",
          "2019-08-24T00:00:00.000000000",
          "2019-08-25T00:00:00.000000000",
          "2019-08-26T00:00:00.000000000",
          "2019-08-27T00:00:00.000000000",
          "2019-08-28T00:00:00.000000000",
          "2019-08-29T00:00:00.000000000",
          "2019-08-30T00:00:00.000000000",
          "2019-08-31T00:00:00.000000000",
          "2019-09-01T00:00:00.000000000",
          "2019-09-02T00:00:00.000000000",
          "2019-09-03T00:00:00.000000000",
          "2019-09-04T00:00:00.000000000",
          "2019-09-05T00:00:00.000000000",
          "2019-09-06T00:00:00.000000000",
          "2019-09-08T00:00:00.000000000",
          "2019-09-09T00:00:00.000000000",
          "2019-09-10T00:00:00.000000000",
          "2019-09-11T00:00:00.000000000",
          "2019-09-12T00:00:00.000000000",
          "2019-09-13T00:00:00.000000000",
          "2019-09-14T00:00:00.000000000",
          "2019-09-15T00:00:00.000000000",
          "2019-09-16T00:00:00.000000000",
          "2019-09-17T00:00:00.000000000",
          "2019-09-18T00:00:00.000000000",
          "2019-09-19T00:00:00.000000000",
          "2019-09-20T00:00:00.000000000",
          "2019-09-21T00:00:00.000000000",
          "2019-09-22T00:00:00.000000000",
          "2019-09-23T00:00:00.000000000",
          "2019-09-24T00:00:00.000000000",
          "2019-09-25T00:00:00.000000000",
          "2019-09-26T00:00:00.000000000",
          "2019-09-27T00:00:00.000000000",
          "2019-09-28T00:00:00.000000000",
          "2019-09-29T00:00:00.000000000",
          "2019-09-30T00:00:00.000000000",
          "2019-10-01T00:00:00.000000000",
          "2019-10-02T00:00:00.000000000",
          "2019-10-03T00:00:00.000000000",
          "2019-10-04T00:00:00.000000000",
          "2019-10-05T00:00:00.000000000",
          "2019-10-06T00:00:00.000000000",
          "2019-10-08T00:00:00.000000000",
          "2019-10-09T00:00:00.000000000",
          "2019-10-10T00:00:00.000000000",
          "2019-10-11T00:00:00.000000000",
          "2019-10-12T00:00:00.000000000",
          "2019-10-13T00:00:00.000000000",
          "2019-10-14T00:00:00.000000000",
          "2019-10-15T00:00:00.000000000",
          "2019-10-16T00:00:00.000000000",
          "2019-10-17T00:00:00.000000000",
          "2019-10-18T00:00:00.000000000",
          "2019-10-19T00:00:00.000000000",
          "2019-10-20T00:00:00.000000000",
          "2019-10-21T00:00:00.000000000",
          "2019-10-22T00:00:00.000000000",
          "2019-10-23T00:00:00.000000000",
          "2019-10-24T00:00:00.000000000",
          "2019-10-25T00:00:00.000000000",
          "2019-10-26T00:00:00.000000000",
          "2019-10-27T00:00:00.000000000",
          "2019-10-28T00:00:00.000000000",
          "2019-10-29T00:00:00.000000000",
          "2019-10-30T00:00:00.000000000",
          "2019-10-31T00:00:00.000000000",
          "2019-11-01T00:00:00.000000000",
          "2019-11-02T00:00:00.000000000",
          "2019-11-03T00:00:00.000000000",
          "2019-11-04T00:00:00.000000000",
          "2019-11-05T00:00:00.000000000",
          "2019-11-06T00:00:00.000000000",
          "2019-11-08T00:00:00.000000000",
          "2019-11-09T00:00:00.000000000",
          "2019-11-10T00:00:00.000000000",
          "2019-11-11T00:00:00.000000000",
          "2019-11-12T00:00:00.000000000",
          "2019-11-13T00:00:00.000000000",
          "2019-11-14T00:00:00.000000000",
          "2019-11-15T00:00:00.000000000",
          "2019-11-16T00:00:00.000000000",
          "2019-11-17T00:00:00.000000000",
          "2019-11-18T00:00:00.000000000",
          "2019-11-19T00:00:00.000000000",
          "2019-11-20T00:00:00.000000000",
          "2019-11-21T00:00:00.000000000",
          "2019-11-22T00:00:00.000000000",
          "2019-11-23T00:00:00.000000000",
          "2019-11-24T00:00:00.000000000",
          "2019-11-25T00:00:00.000000000",
          "2019-11-26T00:00:00.000000000",
          "2019-11-27T00:00:00.000000000",
          "2019-11-28T00:00:00.000000000",
          "2019-11-29T00:00:00.000000000",
          "2019-11-30T00:00:00.000000000",
          "2019-12-01T00:00:00.000000000",
          "2019-12-02T00:00:00.000000000",
          "2019-12-03T00:00:00.000000000",
          "2019-12-04T00:00:00.000000000",
          "2019-12-05T00:00:00.000000000",
          "2019-12-06T00:00:00.000000000",
          "2019-12-08T00:00:00.000000000",
          "2019-12-09T00:00:00.000000000",
          "2019-12-10T00:00:00.000000000",
          "2019-12-11T00:00:00.000000000",
          "2019-12-12T00:00:00.000000000",
          "2019-12-13T00:00:00.000000000",
          "2019-12-14T00:00:00.000000000",
          "2019-12-15T00:00:00.000000000",
          "2019-12-16T00:00:00.000000000",
          "2019-12-17T00:00:00.000000000",
          "2019-12-18T00:00:00.000000000",
          "2019-12-19T00:00:00.000000000",
          "2019-12-20T00:00:00.000000000",
          "2019-12-21T00:00:00.000000000",
          "2019-12-22T00:00:00.000000000",
          "2019-12-23T00:00:00.000000000",
          "2019-12-24T00:00:00.000000000",
          "2019-12-25T00:00:00.000000000",
          "2019-12-26T00:00:00.000000000",
          "2019-12-27T00:00:00.000000000",
          "2019-12-28T00:00:00.000000000",
          "2019-12-29T00:00:00.000000000",
          "2019-12-30T00:00:00.000000000",
          "2019-12-31T00:00:00.000000000",
          "2020-01-01T00:00:00.000000000",
          "2020-01-02T00:00:00.000000000",
          "2020-01-03T00:00:00.000000000",
          "2020-01-04T00:00:00.000000000",
          "2020-01-05T00:00:00.000000000",
          "2020-01-13T00:00:00.000000000",
          "2020-01-14T00:00:00.000000000",
          "2020-01-15T00:00:00.000000000",
          "2020-01-16T00:00:00.000000000",
          "2020-01-17T00:00:00.000000000",
          "2020-01-18T00:00:00.000000000",
          "2020-01-19T00:00:00.000000000",
          "2020-01-20T00:00:00.000000000",
          "2020-01-21T00:00:00.000000000",
          "2020-01-22T00:00:00.000000000",
          "2020-01-23T00:00:00.000000000",
          "2020-01-24T00:00:00.000000000",
          "2020-01-25T00:00:00.000000000",
          "2020-01-26T00:00:00.000000000",
          "2020-01-27T00:00:00.000000000",
          "2020-01-28T00:00:00.000000000",
          "2020-01-29T00:00:00.000000000",
          "2020-01-30T00:00:00.000000000",
          "2020-01-31T00:00:00.000000000",
          "2020-02-01T00:00:00.000000000",
          "2020-02-02T00:00:00.000000000",
          "2020-02-03T00:00:00.000000000",
          "2020-02-04T00:00:00.000000000",
          "2020-02-05T00:00:00.000000000",
          "2020-02-13T00:00:00.000000000",
          "2020-02-14T00:00:00.000000000",
          "2020-02-15T00:00:00.000000000",
          "2020-02-16T00:00:00.000000000",
          "2020-02-17T00:00:00.000000000",
          "2020-02-18T00:00:00.000000000",
          "2020-02-19T00:00:00.000000000",
          "2020-02-20T00:00:00.000000000",
          "2020-02-21T00:00:00.000000000",
          "2020-02-22T00:00:00.000000000",
          "2020-02-23T00:00:00.000000000",
          "2020-02-24T00:00:00.000000000",
          "2020-02-25T00:00:00.000000000",
          "2020-02-26T00:00:00.000000000",
          "2020-02-27T00:00:00.000000000",
          "2020-02-28T00:00:00.000000000",
          "2020-02-29T00:00:00.000000000",
          "2020-03-01T00:00:00.000000000",
          "2020-03-02T00:00:00.000000000",
          "2020-03-03T00:00:00.000000000",
          "2020-03-04T00:00:00.000000000",
          "2020-03-05T00:00:00.000000000",
          "2020-03-13T00:00:00.000000000",
          "2020-03-14T00:00:00.000000000",
          "2020-03-15T00:00:00.000000000",
          "2020-03-16T00:00:00.000000000",
          "2020-03-17T00:00:00.000000000",
          "2020-03-18T00:00:00.000000000",
          "2020-03-19T00:00:00.000000000",
          "2020-03-20T00:00:00.000000000",
          "2020-03-21T00:00:00.000000000",
          "2020-03-22T00:00:00.000000000",
          "2020-03-23T00:00:00.000000000",
          "2020-03-24T00:00:00.000000000",
          "2020-03-25T00:00:00.000000000",
          "2020-03-26T00:00:00.000000000",
          "2020-03-27T00:00:00.000000000",
          "2020-03-28T00:00:00.000000000",
          "2020-03-29T00:00:00.000000000",
          "2020-03-30T00:00:00.000000000",
          "2020-03-31T00:00:00.000000000",
          "2020-04-01T00:00:00.000000000",
          "2020-04-02T00:00:00.000000000",
          "2020-04-03T00:00:00.000000000",
          "2020-04-04T00:00:00.000000000",
          "2020-04-05T00:00:00.000000000",
          "2020-04-13T00:00:00.000000000",
          "2020-04-14T00:00:00.000000000",
          "2020-04-15T00:00:00.000000000",
          "2020-04-16T00:00:00.000000000",
          "2020-04-17T00:00:00.000000000",
          "2020-04-18T00:00:00.000000000",
          "2020-04-19T00:00:00.000000000",
          "2020-04-20T00:00:00.000000000",
          "2020-04-21T00:00:00.000000000",
          "2020-04-22T00:00:00.000000000",
          "2020-04-23T00:00:00.000000000",
          "2020-04-24T00:00:00.000000000",
          "2020-04-25T00:00:00.000000000",
          "2020-04-26T00:00:00.000000000",
          "2020-04-27T00:00:00.000000000",
          "2020-04-28T00:00:00.000000000",
          "2020-04-29T00:00:00.000000000",
          "2020-04-30T00:00:00.000000000",
          "2020-05-01T00:00:00.000000000",
          "2020-05-02T00:00:00.000000000",
          "2020-05-03T00:00:00.000000000",
          "2020-05-04T00:00:00.000000000",
          "2020-05-05T00:00:00.000000000",
          "2020-05-13T00:00:00.000000000",
          "2020-05-14T00:00:00.000000000",
          "2020-05-15T00:00:00.000000000",
          "2020-05-16T00:00:00.000000000",
          "2020-05-17T00:00:00.000000000",
          "2020-05-18T00:00:00.000000000",
          "2020-05-19T00:00:00.000000000",
          "2020-05-20T00:00:00.000000000",
          "2020-05-21T00:00:00.000000000",
          "2020-05-22T00:00:00.000000000",
          "2020-05-23T00:00:00.000000000",
          "2020-06-01T00:00:00.000000000",
          "2020-06-02T00:00:00.000000000",
          "2020-06-03T00:00:00.000000000",
          "2020-06-04T00:00:00.000000000",
          "2020-06-05T00:00:00.000000000",
          "2020-07-01T00:00:00.000000000",
          "2020-07-02T00:00:00.000000000",
          "2020-07-03T00:00:00.000000000",
          "2020-07-04T00:00:00.000000000",
          "2020-07-05T00:00:00.000000000",
          "2020-08-01T00:00:00.000000000",
          "2020-08-02T00:00:00.000000000",
          "2020-08-03T00:00:00.000000000",
          "2020-08-04T00:00:00.000000000",
          "2020-08-05T00:00:00.000000000",
          "2020-09-01T00:00:00.000000000",
          "2020-09-02T00:00:00.000000000",
          "2020-09-03T00:00:00.000000000",
          "2020-09-04T00:00:00.000000000",
          "2020-09-05T00:00:00.000000000",
          "2020-10-01T00:00:00.000000000",
          "2020-10-02T00:00:00.000000000",
          "2020-10-03T00:00:00.000000000",
          "2020-10-04T00:00:00.000000000",
          "2020-10-05T00:00:00.000000000",
          "2020-11-01T00:00:00.000000000",
          "2020-11-02T00:00:00.000000000",
          "2020-11-03T00:00:00.000000000",
          "2020-11-04T00:00:00.000000000",
          "2020-11-05T00:00:00.000000000",
          "2020-12-01T00:00:00.000000000",
          "2020-12-02T00:00:00.000000000",
          "2020-12-03T00:00:00.000000000",
          "2020-12-04T00:00:00.000000000",
          "2020-12-05T00:00:00.000000000"
         ],
         "xaxis": "x",
         "y": {
          "bdata": "z5/l/FmOWUCp15F6HclZQGg5f5bzB1lAcSsUt0IRWUCBaQyYxiBZQHd3d3d3F1lAmMaAaQw4WEBMY8A0BixXQKDl/FnO31dAzPmznD9LV0Anm2yyyYZYQDMzMzMzs1hAVVVVVVW1WECrqqqqqgpYQMomm2yySVpAnhLkKUHeWkAxYBoDpjFbQBWKW6G4dVtAzPmznD/rWkCuUNwKxW1aQPjggw8+2FlA8MEHH3xQXUDnz3L+LEddQAnylCBPyVtAjC666KIrXECuUNwKxW1bQJCnBHlKkFtAzPmznD8LW0De3d3d3b1TQBERERER8VNAfPDBBx88VECyySabbHJUQKDl/FnO31RA7hvWvmHtVECmMWAaA+ZUQJNNNtlkc1NAGgOmMWBaVEAaA6YxYBpVQBgwjQHT2FVAUAnylCAvVkDnz3L+LEdWQMv5s5w/i1VANtlkk032V0CkXkfqdWRYQKnXkXodyVhACB988MHHWEB5SpCnBLlYQPDBBx98sFhA3ArFrVD8V0CBaQyYxuBdQP4s589ynl5ARhdddNGlXkBgGgOmMcBeQI4B0xgwjV5AWPuGtW/4XUAREREREVFdQH7D2jes/VlAiluhuBVKWkCw9g1r3zBaQNFFF110UVpAyFOCPCWIWkB+w9o3rB1aQLdCcSsUV1lAbbLJJpuMW0CMLrrooqtcQMhTgjwlSF1AnhLkKUG+XUC9jtTrSJ1dQMhTgjwlKF1A15F6Han3WkAGTGPANIZUQJ0/y/mzfFRAFYpbobg1VUDJU4I8JWhVQLrooosuGlZAZ2ZmZmbmVUAlyFOCPGVWQLD2DWvfMFhAcSsUt0JRWEC3QnErFDdYQFKvI/U60ldAyFOCPCUIWEADpjFgGuNXQENxKxS3YlZAU4I8JcjzWkCW82c5fzZbQKG4FYpbgVtAAAAAAACgW0DuG9a+YQ1cQPYNa9+wFlxATGPANAaMWkBQ3ArFrXBZQEDL+bOcf1lAC8WtUNxKWUBr37D2DUtZQD744IMP3llADZjGgGmsWUB3d3d3d1dYQB988MEHv1xAnhLkKUGeXUDIU4I8JchdQOmiiy666F1Af5bzZzm/XUAK8pQgT4ldQCebbLLJRlxAyFOCPCXIWkB+w9o3rN1aQBERERER8VpAb4XiVijuWkC1b1j7hlVbQJbzZzl/llpAREREREQEWUBLkKcEeUpZQBoDpjFgmllACvKUIE9JWUAYMI0B03hZQO4b1r5hrVlAuBWKW6F4WUDE2jesfcNYQMWtUNwKZVpAXXTRRRcdWkDm/FnOn6VZQCXIU4I8BVlAnT/L+bN8WEA5f5bzZ5lXQKuqqqqqKlZAaDl/lvMnXUCJiIiIiMhdQLLJJptssl1ApV5H6nXkW0DANAZMYwBbQMWtUNwKBVpApjFgGgMGWUB88MEHHzxbQBS3QnErlFtAN6x9w9pXXECyySabbDJdQC3nz3L+bF1A8ZQgTwkyXUDhgw8++CBcQA2YxoBpbFZAfPDBBx8cV0CReh2p1zFWQL9h7RvWvlRAMI0B0xjQU0CdP8v5s1xTQCT1OlKvo1NAHanXkXo9V0CEDz744INXQHTRRRddVFdAhA8++ODjVkDw7u7u7q5WQKDl/FnOv1VA8pQgTwnyU0CCPCXIU2JYQBdddNFF91dAKkGeEuSpWECKW6G4FapYQBA++OCDT1hASb2O1OvIVkC5FYpbobhWQJF6HanXcV1AU4I8JcgTXkCTTTbZZBNeQCT1OlKvY15AxNo3rH1DXUDylCBPCRJdQBS3QnErdFxAOX+W82eZWUBAy/mznB9aQFDcCsWtMFpAwTQGTGNAWkB/lvNnOX9aQLAj9TpSb1pA6nWkXkfKWEBQCfKUIO9ZQCT1OlKvA1tA0xgwjQGzW0ClXkfqdaRbQJmZmZmZ+VtAYu0b1r5hW0Cg5fxZzj9aQO/u7u7ublVA3t3d3d1NVUDZZJNNNtlVQCBPCfKUwFZA2WSTTTY5WED6s5w/y1lYQN7d3d3dXVhAO1KvI/UaWEBXKG6F4jZXQJ4S5ClBXlpAVVVVVVUVW0B6HanXkbpaQBLkKUGeMlhAhA8++OBDWUA5f5bzZzlaQCFPCfKUAFpA1OtIvY7UWEApboXiVmhZQMhTgjwliFlAY8A0BkzDWUDylCBPCfJZQFrOn+X82VlA0xgwjQHzWEDIU4I8JUhdQP1Zzp/lfFxAHqnXkXo9XUCq15F6HWldQBkwjQHTWF1A0xgwjQHzXECdP8v5s9xbQJQgTwny1FhAcSsUt0IxWUDhgw8++EBZQNBy/iznD1lAKkGeEuRpWUAc1r5h7XtaQB988MEHH1tACB988MFnW0DCBx988MFbQFSCPCXI01tAh7VvWPuGW0DE2jesfaNaQLdCcSsUt1pAMI0B0xjwWUDPn+X8Wa5XQHakXkfqNVhAqAR5SpCHWEC66KKLLtpYQBdddNFFN1lAZZNNNtkEWUCeEuQpQV5YQCFPCfKUQFxA1r5h7RvWW0A5f5bzZxlbQLVvWPuG9VpAyFOCPCVoW0BddNFFFz1bQKuqqqqqallACvKUIE/pWUAYMI0B05haQF100UUXvVpA5ClBnhKkWkBwWPuGtW9aQIpbobgV6llAxa1Q3ArlW0BMY8A0BsxbQAV5SpCnRFxAMI0B0xjQXEA0BkxjwPRcQLdCcSsUt1xAERERERHRW0CyySabbBJcQONWKG6FglpApjFgGgMmWUDXkXodqZdZQEDL+bOc/1lAiluhuBWKWkBoOX+W88dZQGAaA6YxoFlAFLdCcSvUWUDTGDCNAbNZQFyhuBWKu1lAb4XiVihOWUCjiy666IJYQM3MzMzMLFdAGTCNAdM4WEAlyFOCPEVYQJbzZzl/llhAu7u7u7vbWEC8u7u7uztZQPcNa9+wFllAOX+W82dZWEA0BkxjwNRcQJUgTwnytFxAKG6F4lbIXECEDz744ONcQDwlyFOCvFxAWPuGtW84XEBVVVVVVfVbQLdCcSsUV1lAIU8J8pQAWUCuUNwKxW1YQGoMmMaAKVhAiluhuBXKWEAC0xgwjQFZQPNnOX+WM1hAoOX8Wc7fW0D1OlKvI3VbQMhTgjwlCFtAyFOCPCWoWEBAy/mznP9ZQNMYMI0Bc1lA4lYoboVCWEB+w9o3rB1VQLD2DWvf0FVAiYiIiIhIVkBgGgOmMQBWQHlKkKcEOVZAm2yyySZbVkDkKUGeEsRVQDCNAdMYMFdAhA8++OCjV0Anm2yyycZXQCpBnhLkqVdAobgViluhV0CYxoBpDJhXQKnXkXodyVZAjgHTGDBtWkBddNFFF91aQBERERER0VpAqAR5SpCHWkCMLrroootaQLdCcSsUl1pAf5bzZzmfWUAUt0JxK5RYQMA0BkxjIFlAYBoDpjFAWUAB0xgwjQFZQAZMY8A0xlhAh7VvWPuGWEC/Ye0b1h5YQD744IMPHl5AqAR5SpCnXkDNzMzMzExdQO4b1r5h7VxAqAR5SpBnXkBeR+p1pB5eQNs3rH3DmlxAIiIiIiLiVkDCBx988MFWQH3D2jesHVhAuuiiiy6aWEAnm2yyyaZYQOt1pF5HCllAZ2ZmZmZGWUDylCBPCVJaQJmZmZmZ+VpApV5H6nUkW0APa9+w9i1bQC+66KKLLltAMWAaA6YRW0Avuuiii25aQPYNa9+wFlhAUNwKxa2wWEBDcSsUt+JYQJ4S5ClBXlhAh7VvWPsmV0A5f5bzZ5lXQBzWvmHtu1ZAh7VvWPtGXEBONtlkk+1cQKgEeUqQ51xALBS3QnFLXEDuG9a+YQ1cQArylCBPCVxAH3zwwQc/W0CSeh2p1xFZQEjqdaRe51ZAAAAAAADgV0AsFLdCcStZQBoDpjFgellAkXodqddRWUCwI/U6Uo9YQIbiVihu5VtA15F6HamXW0DL+bOcP8tbQE8J8pQgr1tAwgcffPBBXEAOa9+w9k1cQIpbobgVKltA5vxZzp8lW0Anm2yyyaZbQNa+Ye0b9ltAMI0B0xgwXEDxlCBPCXJcQOQpQZ4SRFxAdNFFF11UW0BVVVVVVfVXQCXIU4I85VZAoOX8Wc4/WEChuBWKWyFZQFVVVVVVdVlATGPANAZMWUCEDz744INYQEuQpwR5qlhA1OtIvY4UWUAIH3zwwQdZQIXiVihuRVlAsPYNa99wWUDIU4I8JShZQNFFF110UVhAY8A0BkyjXEDxlCBPCTJdQD744IMPfl1ABXlKkKfEXUCkXkfqdeRdQIbiVihuhV1A4LD2DWtfXEBMY8A0BixZQFyhuBWKe1lA2zesfcMaWUD1OlKvIzVZQJbzZzl/lllA+rOcP8uZWUCHtW9Y++ZYQEDL+bOcP1xAERERERFxW0Ak9TpSr2NaQIbiVihu5VtA15F6HamXW0DL+bOcP8tbQE8J8pQgr1tAvY7U60idVEAK8pQgT6lUQG2yySabbFRA2WSTTTZZVEBONtlkky1UQHlKkKcEWVRAuuiiiy76VEDgsPYNa99WQMeAaQyYRldAH3zwwQefV0DuG9a+Ye1WQEuQpwR5ylZAZZNNNtmkVkBAy/mznP9VQDbZZJNNVllAuuiiiy7aWUCVIE8J8vRZQMv5s5w/S1pAj9TrSL1uWkBJvY7U6yhaQIQPPvjgg1lAUq8j9TqyWECrqqqqqkpZQL9h7RvWPllAO1KvI/VaWEDWvmHtG3ZYQHErFLdCUVhAMzMzMzOzV0AC0xgwjSFdQIpbobgV6l1Axa1Q3AplXkC4FYpbodhdQFuhuBWKe11AuRWKW6G4XUDkKUGeEkRdQHodqdeRGlZA3t3d3d1dVkC66KKLLrpWQCFPCfKUwFZAQZ4S5CnhVkCQpwR5StBXQMIHH3zwgVhAa9+w9g1LWkDbN6x9w5paQGTANAZMw1pATjbZZJPtWkCP1OtIve5aQEGeEuQpoVpA9w1r37B2WUCoBHlKkCdXQJCnBHlKcFdAqdeReh3JV0CyySabbBJYQJF6HanXMVhAlSBPCfL0V0Cx9g1r3xBXQLdCcSsUF1tAmZmZmZnZW0BQ3ArFrdBbQIQPPvjg41tAC8WtUNwqXEA++OCDD/5bQGvfsPYN61pAKkGeEuRpWkB00UUXXfRaQCIiIiIiolpAcFj7hrUvWkAViluhuBVZQAgffPDBR1lAkKcEeUrQWEB+w9o3rP1cQBLkKUGeslxAX0fqdaT+XEAvuuiii+5cQEDL+bOcP1xAERERERFxW0Ak9TpSr2NaQCpBnhLkCVtA3t3d3d3dW0D44IMPPlhcQMTaN6x9g1xA+4a1b1g7XEB3d3d3d5dbQBA++OCDz1lA",
          "dtype": "f8"
         },
         "yaxis": "y"
        }
       ],
       "layout": {
        "legend": {
         "tracegroupgap": 0
        },
        "template": {
         "data": {
          "bar": [
           {
            "error_x": {
             "color": "#2a3f5f"
            },
            "error_y": {
             "color": "#2a3f5f"
            },
            "marker": {
             "line": {
              "color": "#E5ECF6",
              "width": 0.5
             },
             "pattern": {
              "fillmode": "overlay",
              "size": 10,
              "solidity": 0.2
             }
            },
            "type": "bar"
           }
          ],
          "barpolar": [
           {
            "marker": {
             "line": {
              "color": "#E5ECF6",
              "width": 0.5
             },
             "pattern": {
              "fillmode": "overlay",
              "size": 10,
              "solidity": 0.2
             }
            },
            "type": "barpolar"
           }
          ],
          "carpet": [
           {
            "aaxis": {
             "endlinecolor": "#2a3f5f",
             "gridcolor": "white",
             "linecolor": "white",
             "minorgridcolor": "white",
             "startlinecolor": "#2a3f5f"
            },
            "baxis": {
             "endlinecolor": "#2a3f5f",
             "gridcolor": "white",
             "linecolor": "white",
             "minorgridcolor": "white",
             "startlinecolor": "#2a3f5f"
            },
            "type": "carpet"
           }
          ],
          "choropleth": [
           {
            "colorbar": {
             "outlinewidth": 0,
             "ticks": ""
            },
            "type": "choropleth"
           }
          ],
          "contour": [
           {
            "colorbar": {
             "outlinewidth": 0,
             "ticks": ""
            },
            "colorscale": [
             [
              0,
              "#0d0887"
             ],
             [
              0.1111111111111111,
              "#46039f"
             ],
             [
              0.2222222222222222,
              "#7201a8"
             ],
             [
              0.3333333333333333,
              "#9c179e"
             ],
             [
              0.4444444444444444,
              "#bd3786"
             ],
             [
              0.5555555555555556,
              "#d8576b"
             ],
             [
              0.6666666666666666,
              "#ed7953"
             ],
             [
              0.7777777777777778,
              "#fb9f3a"
             ],
             [
              0.8888888888888888,
              "#fdca26"
             ],
             [
              1,
              "#f0f921"
             ]
            ],
            "type": "contour"
           }
          ],
          "contourcarpet": [
           {
            "colorbar": {
             "outlinewidth": 0,
             "ticks": ""
            },
            "type": "contourcarpet"
           }
          ],
          "heatmap": [
           {
            "colorbar": {
             "outlinewidth": 0,
             "ticks": ""
            },
            "colorscale": [
             [
              0,
              "#0d0887"
             ],
             [
              0.1111111111111111,
              "#46039f"
             ],
             [
              0.2222222222222222,
              "#7201a8"
             ],
             [
              0.3333333333333333,
              "#9c179e"
             ],
             [
              0.4444444444444444,
              "#bd3786"
             ],
             [
              0.5555555555555556,
              "#d8576b"
             ],
             [
              0.6666666666666666,
              "#ed7953"
             ],
             [
              0.7777777777777778,
              "#fb9f3a"
             ],
             [
              0.8888888888888888,
              "#fdca26"
             ],
             [
              1,
              "#f0f921"
             ]
            ],
            "type": "heatmap"
           }
          ],
          "histogram": [
           {
            "marker": {
             "pattern": {
              "fillmode": "overlay",
              "size": 10,
              "solidity": 0.2
             }
            },
            "type": "histogram"
           }
          ],
          "histogram2d": [
           {
            "colorbar": {
             "outlinewidth": 0,
             "ticks": ""
            },
            "colorscale": [
             [
              0,
              "#0d0887"
             ],
             [
              0.1111111111111111,
              "#46039f"
             ],
             [
              0.2222222222222222,
              "#7201a8"
             ],
             [
              0.3333333333333333,
              "#9c179e"
             ],
             [
              0.4444444444444444,
              "#bd3786"
             ],
             [
              0.5555555555555556,
              "#d8576b"
             ],
             [
              0.6666666666666666,
              "#ed7953"
             ],
             [
              0.7777777777777778,
              "#fb9f3a"
             ],
             [
              0.8888888888888888,
              "#fdca26"
             ],
             [
              1,
              "#f0f921"
             ]
            ],
            "type": "histogram2d"
           }
          ],
          "histogram2dcontour": [
           {
            "colorbar": {
             "outlinewidth": 0,
             "ticks": ""
            },
            "colorscale": [
             [
              0,
              "#0d0887"
             ],
             [
              0.1111111111111111,
              "#46039f"
             ],
             [
              0.2222222222222222,
              "#7201a8"
             ],
             [
              0.3333333333333333,
              "#9c179e"
             ],
             [
              0.4444444444444444,
              "#bd3786"
             ],
             [
              0.5555555555555556,
              "#d8576b"
             ],
             [
              0.6666666666666666,
              "#ed7953"
             ],
             [
              0.7777777777777778,
              "#fb9f3a"
             ],
             [
              0.8888888888888888,
              "#fdca26"
             ],
             [
              1,
              "#f0f921"
             ]
            ],
            "type": "histogram2dcontour"
           }
          ],
          "mesh3d": [
           {
            "colorbar": {
             "outlinewidth": 0,
             "ticks": ""
            },
            "type": "mesh3d"
           }
          ],
          "parcoords": [
           {
            "line": {
             "colorbar": {
              "outlinewidth": 0,
              "ticks": ""
             }
            },
            "type": "parcoords"
           }
          ],
          "pie": [
           {
            "automargin": true,
            "type": "pie"
           }
          ],
          "scatter": [
           {
            "fillpattern": {
             "fillmode": "overlay",
             "size": 10,
             "solidity": 0.2
            },
            "type": "scatter"
           }
          ],
          "scatter3d": [
           {
            "line": {
             "colorbar": {
              "outlinewidth": 0,
              "ticks": ""
             }
            },
            "marker": {
             "colorbar": {
              "outlinewidth": 0,
              "ticks": ""
             }
            },
            "type": "scatter3d"
           }
          ],
          "scattercarpet": [
           {
            "marker": {
             "colorbar": {
              "outlinewidth": 0,
              "ticks": ""
             }
            },
            "type": "scattercarpet"
           }
          ],
          "scattergeo": [
           {
            "marker": {
             "colorbar": {
              "outlinewidth": 0,
              "ticks": ""
             }
            },
            "type": "scattergeo"
           }
          ],
          "scattergl": [
           {
            "marker": {
             "colorbar": {
              "outlinewidth": 0,
              "ticks": ""
             }
            },
            "type": "scattergl"
           }
          ],
          "scattermap": [
           {
            "marker": {
             "colorbar": {
              "outlinewidth": 0,
              "ticks": ""
             }
            },
            "type": "scattermap"
           }
          ],
          "scattermapbox": [
           {
            "marker": {
             "colorbar": {
              "outlinewidth": 0,
              "ticks": ""
             }
            },
            "type": "scattermapbox"
           }
          ],
          "scatterpolar": [
           {
            "marker": {
             "colorbar": {
              "outlinewidth": 0,
              "ticks": ""
             }
            },
            "type": "scatterpolar"
           }
          ],
          "scatterpolargl": [
           {
            "marker": {
             "colorbar": {
              "outlinewidth": 0,
              "ticks": ""
             }
            },
            "type": "scatterpolargl"
           }
          ],
          "scatterternary": [
           {
            "marker": {
             "colorbar": {
              "outlinewidth": 0,
              "ticks": ""
             }
            },
            "type": "scatterternary"
           }
          ],
          "surface": [
           {
            "colorbar": {
             "outlinewidth": 0,
             "ticks": ""
            },
            "colorscale": [
             [
              0,
              "#0d0887"
             ],
             [
              0.1111111111111111,
              "#46039f"
             ],
             [
              0.2222222222222222,
              "#7201a8"
             ],
             [
              0.3333333333333333,
              "#9c179e"
             ],
             [
              0.4444444444444444,
              "#bd3786"
             ],
             [
              0.5555555555555556,
              "#d8576b"
             ],
             [
              0.6666666666666666,
              "#ed7953"
             ],
             [
              0.7777777777777778,
              "#fb9f3a"
             ],
             [
              0.8888888888888888,
              "#fdca26"
             ],
             [
              1,
              "#f0f921"
             ]
            ],
            "type": "surface"
           }
          ],
          "table": [
           {
            "cells": {
             "fill": {
              "color": "#EBF0F8"
             },
             "line": {
              "color": "white"
             }
            },
            "header": {
             "fill": {
              "color": "#C8D4E3"
             },
             "line": {
              "color": "white"
             }
            },
            "type": "table"
           }
          ]
         },
         "layout": {
          "annotationdefaults": {
           "arrowcolor": "#2a3f5f",
           "arrowhead": 0,
           "arrowwidth": 1
          },
          "autotypenumbers": "strict",
          "coloraxis": {
           "colorbar": {
            "outlinewidth": 0,
            "ticks": ""
           }
          },
          "colorscale": {
           "diverging": [
            [
             0,
             "#8e0152"
            ],
            [
             0.1,
             "#c51b7d"
            ],
            [
             0.2,
             "#de77ae"
            ],
            [
             0.3,
             "#f1b6da"
            ],
            [
             0.4,
             "#fde0ef"
            ],
            [
             0.5,
             "#f7f7f7"
            ],
            [
             0.6,
             "#e6f5d0"
            ],
            [
             0.7,
             "#b8e186"
            ],
            [
             0.8,
             "#7fbc41"
            ],
            [
             0.9,
             "#4d9221"
            ],
            [
             1,
             "#276419"
            ]
           ],
           "sequential": [
            [
             0,
             "#0d0887"
            ],
            [
             0.1111111111111111,
             "#46039f"
            ],
            [
             0.2222222222222222,
             "#7201a8"
            ],
            [
             0.3333333333333333,
             "#9c179e"
            ],
            [
             0.4444444444444444,
             "#bd3786"
            ],
            [
             0.5555555555555556,
             "#d8576b"
            ],
            [
             0.6666666666666666,
             "#ed7953"
            ],
            [
             0.7777777777777778,
             "#fb9f3a"
            ],
            [
             0.8888888888888888,
             "#fdca26"
            ],
            [
             1,
             "#f0f921"
            ]
           ],
           "sequentialminus": [
            [
             0,
             "#0d0887"
            ],
            [
             0.1111111111111111,
             "#46039f"
            ],
            [
             0.2222222222222222,
             "#7201a8"
            ],
            [
             0.3333333333333333,
             "#9c179e"
            ],
            [
             0.4444444444444444,
             "#bd3786"
            ],
            [
             0.5555555555555556,
             "#d8576b"
            ],
            [
             0.6666666666666666,
             "#ed7953"
            ],
            [
             0.7777777777777778,
             "#fb9f3a"
            ],
            [
             0.8888888888888888,
             "#fdca26"
            ],
            [
             1,
             "#f0f921"
            ]
           ]
          },
          "colorway": [
           "#636efa",
           "#EF553B",
           "#00cc96",
           "#ab63fa",
           "#FFA15A",
           "#19d3f3",
           "#FF6692",
           "#B6E880",
           "#FF97FF",
           "#FECB52"
          ],
          "font": {
           "color": "#2a3f5f"
          },
          "geo": {
           "bgcolor": "white",
           "lakecolor": "white",
           "landcolor": "#E5ECF6",
           "showlakes": true,
           "showland": true,
           "subunitcolor": "white"
          },
          "hoverlabel": {
           "align": "left"
          },
          "hovermode": "closest",
          "mapbox": {
           "style": "light"
          },
          "paper_bgcolor": "white",
          "plot_bgcolor": "#E5ECF6",
          "polar": {
           "angularaxis": {
            "gridcolor": "white",
            "linecolor": "white",
            "ticks": ""
           },
           "bgcolor": "#E5ECF6",
           "radialaxis": {
            "gridcolor": "white",
            "linecolor": "white",
            "ticks": ""
           }
          },
          "scene": {
           "xaxis": {
            "backgroundcolor": "#E5ECF6",
            "gridcolor": "white",
            "gridwidth": 2,
            "linecolor": "white",
            "showbackground": true,
            "ticks": "",
            "zerolinecolor": "white"
           },
           "yaxis": {
            "backgroundcolor": "#E5ECF6",
            "gridcolor": "white",
            "gridwidth": 2,
            "linecolor": "white",
            "showbackground": true,
            "ticks": "",
            "zerolinecolor": "white"
           },
           "zaxis": {
            "backgroundcolor": "#E5ECF6",
            "gridcolor": "white",
            "gridwidth": 2,
            "linecolor": "white",
            "showbackground": true,
            "ticks": "",
            "zerolinecolor": "white"
           }
          },
          "shapedefaults": {
           "line": {
            "color": "#2a3f5f"
           }
          },
          "ternary": {
           "aaxis": {
            "gridcolor": "white",
            "linecolor": "white",
            "ticks": ""
           },
           "baxis": {
            "gridcolor": "white",
            "linecolor": "white",
            "ticks": ""
           },
           "bgcolor": "#E5ECF6",
           "caxis": {
            "gridcolor": "white",
            "linecolor": "white",
            "ticks": ""
           }
          },
          "title": {
           "x": 0.05
          },
          "xaxis": {
           "automargin": true,
           "gridcolor": "white",
           "linecolor": "white",
           "ticks": "",
           "title": {
            "standoff": 15
           },
           "zerolinecolor": "white",
           "zerolinewidth": 2
          },
          "yaxis": {
           "automargin": true,
           "gridcolor": "white",
           "linecolor": "white",
           "ticks": "",
           "title": {
            "standoff": 15
           },
           "zerolinecolor": "white",
           "zerolinewidth": 2
          }
         }
        },
        "title": {
         "text": "Average Electricity Usage per Day"
        },
        "xaxis": {
         "anchor": "y",
         "domain": [
          0,
          1
         ],
         "title": {
          "text": "dates"
         }
        },
        "yaxis": {
         "anchor": "x",
         "domain": [
          0,
          1
         ],
         "title": {
          "text": "usage"
         }
        }
       }
      }
     },
     "metadata": {},
     "output_type": "display_data"
    }
   ],
   "source": [
    "# visualize the average electricity usage per day \n",
    "fig = px.line(df, x='dates', y= 'usage', title='Average Electricity Usage per Day')\n",
    "fig.show()"
   ]
  },
  {
   "cell_type": "markdown",
   "id": "dea7d4e4",
   "metadata": {},
   "source": [
    "## Modelling\n",
    "\n",
    "### Create the base model\n",
    "i.e. a model with default hyperparameters to serve as the basis to improve the model"
   ]
  },
  {
   "cell_type": "code",
   "execution_count": 10,
   "id": "4413f398",
   "metadata": {},
   "outputs": [
    {
     "data": {
      "application/vnd.microsoft.datawrangler.viewer.v0+json": {
       "columns": [
        {
         "name": "index",
         "rawType": "int64",
         "type": "integer"
        },
        {
         "name": "ds",
         "rawType": "datetime64[ns]",
         "type": "datetime"
        },
        {
         "name": "y",
         "rawType": "float64",
         "type": "float"
        }
       ],
       "ref": "d5564959-5574-409b-b903-f58133d98cf0",
       "rows": [
        [
         "0",
         "2019-01-02 00:00:00",
         "102.22424242424243"
        ],
        [
         "1",
         "2019-01-03 00:00:00",
         "103.14242424242424"
        ],
        [
         "2",
         "2019-01-04 00:00:00",
         "100.12424242424242"
        ],
        [
         "3",
         "2019-01-05 00:00:00",
         "100.26969696969697"
        ],
        [
         "4",
         "2019-01-06 00:00:00",
         "100.51212121212122"
        ]
       ],
       "shape": {
        "columns": 2,
        "rows": 5
       }
      },
      "text/html": [
       "<div>\n",
       "<style scoped>\n",
       "    .dataframe tbody tr th:only-of-type {\n",
       "        vertical-align: middle;\n",
       "    }\n",
       "\n",
       "    .dataframe tbody tr th {\n",
       "        vertical-align: top;\n",
       "    }\n",
       "\n",
       "    .dataframe thead th {\n",
       "        text-align: right;\n",
       "    }\n",
       "</style>\n",
       "<table border=\"1\" class=\"dataframe\">\n",
       "  <thead>\n",
       "    <tr style=\"text-align: right;\">\n",
       "      <th></th>\n",
       "      <th>ds</th>\n",
       "      <th>y</th>\n",
       "    </tr>\n",
       "  </thead>\n",
       "  <tbody>\n",
       "    <tr>\n",
       "      <th>0</th>\n",
       "      <td>2019-01-02</td>\n",
       "      <td>102.224242</td>\n",
       "    </tr>\n",
       "    <tr>\n",
       "      <th>1</th>\n",
       "      <td>2019-01-03</td>\n",
       "      <td>103.142424</td>\n",
       "    </tr>\n",
       "    <tr>\n",
       "      <th>2</th>\n",
       "      <td>2019-01-04</td>\n",
       "      <td>100.124242</td>\n",
       "    </tr>\n",
       "    <tr>\n",
       "      <th>3</th>\n",
       "      <td>2019-01-05</td>\n",
       "      <td>100.269697</td>\n",
       "    </tr>\n",
       "    <tr>\n",
       "      <th>4</th>\n",
       "      <td>2019-01-06</td>\n",
       "      <td>100.512121</td>\n",
       "    </tr>\n",
       "  </tbody>\n",
       "</table>\n",
       "</div>"
      ],
      "text/plain": [
       "          ds           y\n",
       "0 2019-01-02  102.224242\n",
       "1 2019-01-03  103.142424\n",
       "2 2019-01-04  100.124242\n",
       "3 2019-01-05  100.269697\n",
       "4 2019-01-06  100.512121"
      ]
     },
     "execution_count": 10,
     "metadata": {},
     "output_type": "execute_result"
    }
   ],
   "source": [
    "# rename columns to meet prophets specificaions\n",
    "df.columns= ['ds', 'y']\n",
    "df.head()\n"
   ]
  },
  {
   "cell_type": "code",
   "execution_count": 13,
   "id": "63392ef3",
   "metadata": {},
   "outputs": [
    {
     "name": "stderr",
     "output_type": "stream",
     "text": [
      "23:24:40 - cmdstanpy - INFO - Chain [1] start processing\n",
      "23:24:40 - cmdstanpy - INFO - Chain [1] done processing\n"
     ]
    },
    {
     "data": {
      "text/plain": [
       "{'additive': ['weekly',\n",
       "  'additive_terms',\n",
       "  'extra_regressors_additive',\n",
       "  'holidays'],\n",
       " 'multiplicative': ['multiplicative_terms', 'extra_regressors_multiplicative']}"
      ]
     },
     "execution_count": 13,
     "metadata": {},
     "output_type": "execute_result"
    }
   ],
   "source": [
    "# initialize model class\n",
    "model = Prophet()\n",
    "\n",
    "# fit model\n",
    "model.fit(df)\n",
    "\n",
    "# print model components\n",
    "model.component_modes"
   ]
  },
  {
   "cell_type": "code",
   "execution_count": null,
   "id": "7eebe2fe",
   "metadata": {},
   "outputs": [
    {
     "data": {
      "application/vnd.microsoft.datawrangler.viewer.v0+json": {
       "columns": [
        {
         "name": "index",
         "rawType": "int64",
         "type": "integer"
        },
        {
         "name": "ds",
         "rawType": "datetime64[ns]",
         "type": "datetime"
        }
       ],
       "ref": "48459d93-84d3-410c-803a-a26dd065b809",
       "rows": [
        [
         "0",
         "2019-01-02 00:00:00"
        ],
        [
         "1",
         "2019-01-03 00:00:00"
        ],
        [
         "2",
         "2019-01-04 00:00:00"
        ],
        [
         "3",
         "2019-01-05 00:00:00"
        ],
        [
         "4",
         "2019-01-06 00:00:00"
        ]
       ],
       "shape": {
        "columns": 1,
        "rows": 5
       }
      },
      "text/html": [
       "<div>\n",
       "<style scoped>\n",
       "    .dataframe tbody tr th:only-of-type {\n",
       "        vertical-align: middle;\n",
       "    }\n",
       "\n",
       "    .dataframe tbody tr th {\n",
       "        vertical-align: top;\n",
       "    }\n",
       "\n",
       "    .dataframe thead th {\n",
       "        text-align: right;\n",
       "    }\n",
       "</style>\n",
       "<table border=\"1\" class=\"dataframe\">\n",
       "  <thead>\n",
       "    <tr style=\"text-align: right;\">\n",
       "      <th></th>\n",
       "      <th>ds</th>\n",
       "    </tr>\n",
       "  </thead>\n",
       "  <tbody>\n",
       "    <tr>\n",
       "      <th>0</th>\n",
       "      <td>2019-01-02</td>\n",
       "    </tr>\n",
       "    <tr>\n",
       "      <th>1</th>\n",
       "      <td>2019-01-03</td>\n",
       "    </tr>\n",
       "    <tr>\n",
       "      <th>2</th>\n",
       "      <td>2019-01-04</td>\n",
       "    </tr>\n",
       "    <tr>\n",
       "      <th>3</th>\n",
       "      <td>2019-01-05</td>\n",
       "    </tr>\n",
       "    <tr>\n",
       "      <th>4</th>\n",
       "      <td>2019-01-06</td>\n",
       "    </tr>\n",
       "  </tbody>\n",
       "</table>\n",
       "</div>"
      ],
      "text/plain": [
       "          ds\n",
       "0 2019-01-02\n",
       "1 2019-01-03\n",
       "2 2019-01-04\n",
       "3 2019-01-05\n",
       "4 2019-01-06"
      ]
     },
     "execution_count": 14,
     "metadata": {},
     "output_type": "execute_result"
    }
   ],
   "source": [
    "# make a future dataframe for which we make predictions\n",
    "future_dates = model.make_future_dataframe(periods=365, # number of periods to forecast\n",
    "                                        freq= 'd', # frequency = day\n",
    "                                        include_history=True # include historical dates for prediction\n",
    "                                        )\n",
    "\n",
    "# show dataframe\n",
    "future_dates.head()"
   ]
  },
  {
   "cell_type": "code",
   "execution_count": 15,
   "id": "f411588c",
   "metadata": {},
   "outputs": [
    {
     "name": "stdout",
     "output_type": "stream",
     "text": [
      "(863, 16)\n"
     ]
    },
    {
     "data": {
      "application/vnd.microsoft.datawrangler.viewer.v0+json": {
       "columns": [
        {
         "name": "index",
         "rawType": "int64",
         "type": "integer"
        },
        {
         "name": "ds",
         "rawType": "datetime64[ns]",
         "type": "datetime"
        },
        {
         "name": "trend",
         "rawType": "float64",
         "type": "float"
        },
        {
         "name": "yhat_lower",
         "rawType": "float64",
         "type": "float"
        },
        {
         "name": "yhat_upper",
         "rawType": "float64",
         "type": "float"
        },
        {
         "name": "trend_lower",
         "rawType": "float64",
         "type": "float"
        },
        {
         "name": "trend_upper",
         "rawType": "float64",
         "type": "float"
        },
        {
         "name": "additive_terms",
         "rawType": "float64",
         "type": "float"
        },
        {
         "name": "additive_terms_lower",
         "rawType": "float64",
         "type": "float"
        },
        {
         "name": "additive_terms_upper",
         "rawType": "float64",
         "type": "float"
        },
        {
         "name": "weekly",
         "rawType": "float64",
         "type": "float"
        },
        {
         "name": "weekly_lower",
         "rawType": "float64",
         "type": "float"
        },
        {
         "name": "weekly_upper",
         "rawType": "float64",
         "type": "float"
        },
        {
         "name": "multiplicative_terms",
         "rawType": "float64",
         "type": "float"
        },
        {
         "name": "multiplicative_terms_lower",
         "rawType": "float64",
         "type": "float"
        },
        {
         "name": "multiplicative_terms_upper",
         "rawType": "float64",
         "type": "float"
        },
        {
         "name": "yhat",
         "rawType": "float64",
         "type": "float"
        }
       ],
       "ref": "634562d9-eb53-41c5-8398-0e18b6734110",
       "rows": [
        [
         "0",
         "2019-01-02 00:00:00",
         "101.80887016363637",
         "89.15350494180265",
         "114.11218712357403",
         "101.80887016363637",
         "101.80887016363637",
         "-0.12751155236907577",
         "-0.12751155236907577",
         "-0.12751155236907577",
         "-0.12751155236907577",
         "-0.12751155236907577",
         "-0.12751155236907577",
         "0.0",
         "0.0",
         "0.0",
         "101.6813586112673"
        ],
        [
         "1",
         "2019-01-03 00:00:00",
         "101.81382531359196",
         "88.62225189800681",
         "113.21865574042731",
         "101.81382531359196",
         "101.81382531359196",
         "-0.027117494067539872",
         "-0.027117494067539872",
         "-0.027117494067539872",
         "-0.027117494067539872",
         "-0.027117494067539872",
         "-0.027117494067539872",
         "0.0",
         "0.0",
         "0.0",
         "101.78670781952442"
        ],
        [
         "2",
         "2019-01-04 00:00:00",
         "101.81878046354757",
         "88.34331496036816",
         "114.3852998161755",
         "101.81878046354757",
         "101.81878046354757",
         "-0.07394181998334984",
         "-0.07394181998334984",
         "-0.07394181998334984",
         "-0.07394181998334984",
         "-0.07394181998334984",
         "-0.07394181998334984",
         "0.0",
         "0.0",
         "0.0",
         "101.74483864356422"
        ],
        [
         "3",
         "2019-01-05 00:00:00",
         "101.82373561350316",
         "89.67324121549676",
         "114.13695618410617",
         "101.82373561350316",
         "101.82373561350316",
         "-0.3082057236479713",
         "-0.3082057236479713",
         "-0.3082057236479713",
         "-0.3082057236479713",
         "-0.3082057236479713",
         "-0.3082057236479713",
         "0.0",
         "0.0",
         "0.0",
         "101.51552988985519"
        ],
        [
         "4",
         "2019-01-06 00:00:00",
         "101.82869076345878",
         "90.20376226286972",
         "114.06149903412941",
         "101.82869076345878",
         "101.82869076345878",
         "0.08150979328356767",
         "0.08150979328356767",
         "0.08150979328356767",
         "0.08150979328356767",
         "0.08150979328356767",
         "0.08150979328356767",
         "0.0",
         "0.0",
         "0.0",
         "101.91020055674235"
        ]
       ],
       "shape": {
        "columns": 16,
        "rows": 5
       }
      },
      "text/html": [
       "<div>\n",
       "<style scoped>\n",
       "    .dataframe tbody tr th:only-of-type {\n",
       "        vertical-align: middle;\n",
       "    }\n",
       "\n",
       "    .dataframe tbody tr th {\n",
       "        vertical-align: top;\n",
       "    }\n",
       "\n",
       "    .dataframe thead th {\n",
       "        text-align: right;\n",
       "    }\n",
       "</style>\n",
       "<table border=\"1\" class=\"dataframe\">\n",
       "  <thead>\n",
       "    <tr style=\"text-align: right;\">\n",
       "      <th></th>\n",
       "      <th>ds</th>\n",
       "      <th>trend</th>\n",
       "      <th>yhat_lower</th>\n",
       "      <th>yhat_upper</th>\n",
       "      <th>trend_lower</th>\n",
       "      <th>trend_upper</th>\n",
       "      <th>additive_terms</th>\n",
       "      <th>additive_terms_lower</th>\n",
       "      <th>additive_terms_upper</th>\n",
       "      <th>weekly</th>\n",
       "      <th>weekly_lower</th>\n",
       "      <th>weekly_upper</th>\n",
       "      <th>multiplicative_terms</th>\n",
       "      <th>multiplicative_terms_lower</th>\n",
       "      <th>multiplicative_terms_upper</th>\n",
       "      <th>yhat</th>\n",
       "    </tr>\n",
       "  </thead>\n",
       "  <tbody>\n",
       "    <tr>\n",
       "      <th>0</th>\n",
       "      <td>2019-01-02</td>\n",
       "      <td>101.808870</td>\n",
       "      <td>89.153505</td>\n",
       "      <td>114.112187</td>\n",
       "      <td>101.808870</td>\n",
       "      <td>101.808870</td>\n",
       "      <td>-0.127512</td>\n",
       "      <td>-0.127512</td>\n",
       "      <td>-0.127512</td>\n",
       "      <td>-0.127512</td>\n",
       "      <td>-0.127512</td>\n",
       "      <td>-0.127512</td>\n",
       "      <td>0.0</td>\n",
       "      <td>0.0</td>\n",
       "      <td>0.0</td>\n",
       "      <td>101.681359</td>\n",
       "    </tr>\n",
       "    <tr>\n",
       "      <th>1</th>\n",
       "      <td>2019-01-03</td>\n",
       "      <td>101.813825</td>\n",
       "      <td>88.622252</td>\n",
       "      <td>113.218656</td>\n",
       "      <td>101.813825</td>\n",
       "      <td>101.813825</td>\n",
       "      <td>-0.027117</td>\n",
       "      <td>-0.027117</td>\n",
       "      <td>-0.027117</td>\n",
       "      <td>-0.027117</td>\n",
       "      <td>-0.027117</td>\n",
       "      <td>-0.027117</td>\n",
       "      <td>0.0</td>\n",
       "      <td>0.0</td>\n",
       "      <td>0.0</td>\n",
       "      <td>101.786708</td>\n",
       "    </tr>\n",
       "    <tr>\n",
       "      <th>2</th>\n",
       "      <td>2019-01-04</td>\n",
       "      <td>101.818780</td>\n",
       "      <td>88.343315</td>\n",
       "      <td>114.385300</td>\n",
       "      <td>101.818780</td>\n",
       "      <td>101.818780</td>\n",
       "      <td>-0.073942</td>\n",
       "      <td>-0.073942</td>\n",
       "      <td>-0.073942</td>\n",
       "      <td>-0.073942</td>\n",
       "      <td>-0.073942</td>\n",
       "      <td>-0.073942</td>\n",
       "      <td>0.0</td>\n",
       "      <td>0.0</td>\n",
       "      <td>0.0</td>\n",
       "      <td>101.744839</td>\n",
       "    </tr>\n",
       "    <tr>\n",
       "      <th>3</th>\n",
       "      <td>2019-01-05</td>\n",
       "      <td>101.823736</td>\n",
       "      <td>89.673241</td>\n",
       "      <td>114.136956</td>\n",
       "      <td>101.823736</td>\n",
       "      <td>101.823736</td>\n",
       "      <td>-0.308206</td>\n",
       "      <td>-0.308206</td>\n",
       "      <td>-0.308206</td>\n",
       "      <td>-0.308206</td>\n",
       "      <td>-0.308206</td>\n",
       "      <td>-0.308206</td>\n",
       "      <td>0.0</td>\n",
       "      <td>0.0</td>\n",
       "      <td>0.0</td>\n",
       "      <td>101.515530</td>\n",
       "    </tr>\n",
       "    <tr>\n",
       "      <th>4</th>\n",
       "      <td>2019-01-06</td>\n",
       "      <td>101.828691</td>\n",
       "      <td>90.203762</td>\n",
       "      <td>114.061499</td>\n",
       "      <td>101.828691</td>\n",
       "      <td>101.828691</td>\n",
       "      <td>0.081510</td>\n",
       "      <td>0.081510</td>\n",
       "      <td>0.081510</td>\n",
       "      <td>0.081510</td>\n",
       "      <td>0.081510</td>\n",
       "      <td>0.081510</td>\n",
       "      <td>0.0</td>\n",
       "      <td>0.0</td>\n",
       "      <td>0.0</td>\n",
       "      <td>101.910201</td>\n",
       "    </tr>\n",
       "  </tbody>\n",
       "</table>\n",
       "</div>"
      ],
      "text/plain": [
       "          ds       trend  yhat_lower  yhat_upper  trend_lower  trend_upper  \\\n",
       "0 2019-01-02  101.808870   89.153505  114.112187   101.808870   101.808870   \n",
       "1 2019-01-03  101.813825   88.622252  113.218656   101.813825   101.813825   \n",
       "2 2019-01-04  101.818780   88.343315  114.385300   101.818780   101.818780   \n",
       "3 2019-01-05  101.823736   89.673241  114.136956   101.823736   101.823736   \n",
       "4 2019-01-06  101.828691   90.203762  114.061499   101.828691   101.828691   \n",
       "\n",
       "   additive_terms  additive_terms_lower  additive_terms_upper    weekly  \\\n",
       "0       -0.127512             -0.127512             -0.127512 -0.127512   \n",
       "1       -0.027117             -0.027117             -0.027117 -0.027117   \n",
       "2       -0.073942             -0.073942             -0.073942 -0.073942   \n",
       "3       -0.308206             -0.308206             -0.308206 -0.308206   \n",
       "4        0.081510              0.081510              0.081510  0.081510   \n",
       "\n",
       "   weekly_lower  weekly_upper  multiplicative_terms  \\\n",
       "0     -0.127512     -0.127512                   0.0   \n",
       "1     -0.027117     -0.027117                   0.0   \n",
       "2     -0.073942     -0.073942                   0.0   \n",
       "3     -0.308206     -0.308206                   0.0   \n",
       "4      0.081510      0.081510                   0.0   \n",
       "\n",
       "   multiplicative_terms_lower  multiplicative_terms_upper        yhat  \n",
       "0                         0.0                         0.0  101.681359  \n",
       "1                         0.0                         0.0  101.786708  \n",
       "2                         0.0                         0.0  101.744839  \n",
       "3                         0.0                         0.0  101.515530  \n",
       "4                         0.0                         0.0  101.910201  "
      ]
     },
     "execution_count": 15,
     "metadata": {},
     "output_type": "execute_result"
    }
   ],
   "source": [
    "# predict using the future dates\n",
    "prediction = model.predict(future_dates)\n",
    "\n",
    "#show predictions\n",
    "print(prediction.shape)\n",
    "prediction.head()"
   ]
  },
  {
   "cell_type": "code",
   "execution_count": null,
   "id": "944bffa8",
   "metadata": {},
   "outputs": [
    {
     "name": "stderr",
     "output_type": "stream",
     "text": [
      "C:\\Users\\Morinyo Baddestman\\AppData\\Local\\Temp\\ipykernel_4056\\773271589.py:3: UserWarning:\n",
      "\n",
      "FigureCanvasAgg is non-interactive, and thus cannot be shown\n",
      "\n"
     ]
    },
    {
     "data": {
      "image/png": "[encoded data removed]",
      "text/plain": [
       "<Figure size 900x600 with 2 Axes>"
      ]
     },
     "metadata": {},
     "output_type": "display_data"
    }
   ],
   "source": [
    "# visualize the components of the model(the trend and weekly seasonalities to understand the data)\n",
    "fig = model.plot_components(prediction)\n",
    "fig.show()"
   ]
  },
  {
   "cell_type": "markdown",
   "id": "f39a54c3",
   "metadata": {},
   "source": [
    "yhat upper values and yhat lower values represent the Uncertainity Interval\n",
    "\n",
    "There are three sources of uncertainty in the forecast:\n",
    "\n",
    "- uncertainty in the trend.\n",
    "- uncertainty in the seasonality estimates.\n",
    "- additional observation noise.\n",
    "\n",
    "Visualize these uncertainities together with the predictions to have a visual sense of the forecast using scatter trace"
   ]
  },
  {
   "cell_type": "code",
   "execution_count": null,
   "id": "7d36181c",
   "metadata": {},
   "outputs": [
    {
     "data": {
      "application/vnd.plotly.v1+json": {
       "config": {
        "plotlyServerURL": "https://plot.ly"
       },
       "data": [
        {
         "mode": "lines",
         "name": "Forecast",
         "type": "scatter",
         "x": [
          "2019-01-02T00:00:00.000000000",
          "2019-01-03T00:00:00.000000000",
          "2019-01-04T00:00:00.000000000",
          "2019-01-05T00:00:00.000000000",
          "2019-01-06T00:00:00.000000000",
          "2019-01-07T00:00:00.000000000",
          "2019-01-08T00:00:00.000000000",
          "2019-01-09T00:00:00.000000000",
          "2019-01-10T00:00:00.000000000",
          "2019-01-11T00:00:00.000000000",
          "2019-01-12T00:00:00.000000000",
          "2019-01-13T00:00:00.000000000",
          "2019-01-14T00:00:00.000000000",
          "2019-01-15T00:00:00.000000000",
          "2019-01-16T00:00:00.000000000",
          "2019-01-17T00:00:00.000000000",
          "2019-01-18T00:00:00.000000000",
          "2019-01-19T00:00:00.000000000",
          "2019-01-20T00:00:00.000000000",
          "2019-01-21T00:00:00.000000000",
          "2019-01-22T00:00:00.000000000",
          "2019-01-23T00:00:00.000000000",
          "2019-01-24T00:00:00.000000000",
          "2019-01-25T00:00:00.000000000",
          "2019-01-26T00:00:00.000000000",
          "2019-01-27T00:00:00.000000000",
          "2019-01-28T00:00:00.000000000",
          "2019-01-29T00:00:00.000000000",
          "2019-01-30T00:00:00.000000000",
          "2019-01-31T00:00:00.000000000",
          "2019-02-02T00:00:00.000000000",
          "2019-02-03T00:00:00.000000000",
          "2019-02-04T00:00:00.000000000",
          "2019-02-05T00:00:00.000000000",
          "2019-02-06T00:00:00.000000000",
          "2019-02-07T00:00:00.000000000",
          "2019-02-08T00:00:00.000000000",
          "2019-02-09T00:00:00.000000000",
          "2019-02-10T00:00:00.000000000",
          "2019-02-11T00:00:00.000000000",
          "2019-02-12T00:00:00.000000000",
          "2019-02-13T00:00:00.000000000",
          "2019-02-14T00:00:00.000000000",
          "2019-02-15T00:00:00.000000000",
          "2019-02-16T00:00:00.000000000",
          "2019-02-17T00:00:00.000000000",
          "2019-02-18T00:00:00.000000000",
          "2019-02-19T00:00:00.000000000",
          "2019-02-20T00:00:00.000000000",
          "2019-02-21T00:00:00.000000000",
          "2019-02-22T00:00:00.000000000",
          "2019-02-23T00:00:00.000000000",
          "2019-02-24T00:00:00.000000000",
          "2019-02-25T00:00:00.000000000",
          "2019-02-26T00:00:00.000000000",
          "2019-02-27T00:00:00.000000000",
          "2019-02-28T00:00:00.000000000",
          "2019-03-02T00:00:00.000000000",
          "2019-03-03T00:00:00.000000000",
          "2019-03-04T00:00:00.000000000",
          "2019-03-05T00:00:00.000000000",
          "2019-03-06T00:00:00.000000000",
          "2019-03-07T00:00:00.000000000",
          "2019-03-08T00:00:00.000000000",
          "2019-03-09T00:00:00.000000000",
          "2019-03-10T00:00:00.000000000",
          "2019-03-11T00:00:00.000000000",
          "2019-03-12T00:00:00.000000000",
          "2019-03-13T00:00:00.000000000",
          "2019-03-14T00:00:00.000000000",
          "2019-03-15T00:00:00.000000000",
          "2019-03-16T00:00:00.000000000",
          "2019-03-17T00:00:00.000000000",
          "2019-03-18T00:00:00.000000000",
          "2019-03-19T00:00:00.000000000",
          "2019-03-20T00:00:00.000000000",
          "2019-03-21T00:00:00.000000000",
          "2019-03-22T00:00:00.000000000",
          "2019-03-23T00:00:00.000000000",
          "2019-03-24T00:00:00.000000000",
          "2019-03-25T00:00:00.000000000",
          "2019-03-26T00:00:00.000000000",
          "2019-03-27T00:00:00.000000000",
          "2019-03-28T00:00:00.000000000",
          "2019-03-29T00:00:00.000000000",
          "2019-03-30T00:00:00.000000000",
          "2019-03-31T00:00:00.000000000",
          "2019-04-02T00:00:00.000000000",
          "2019-04-03T00:00:00.000000000",
          "2019-04-04T00:00:00.000000000",
          "2019-04-05T00:00:00.000000000",
          "2019-04-06T00:00:00.000000000",
          "2019-04-07T00:00:00.000000000",
          "2019-04-08T00:00:00.000000000",
          "2019-04-09T00:00:00.000000000",
          "2019-04-10T00:00:00.000000000",
          "2019-04-11T00:00:00.000000000",
          "2019-04-12T00:00:00.000000000",
          "2019-04-13T00:00:00.000000000",
          "2019-04-14T00:00:00.000000000",
          "2019-04-15T00:00:00.000000000",
          "2019-04-16T00:00:00.000000000",
          "2019-04-17T00:00:00.000000000",
          "2019-04-18T00:00:00.000000000",
          "2019-04-19T00:00:00.000000000",
          "2019-04-20T00:00:00.000000000",
          "2019-04-21T00:00:00.000000000",
          "2019-04-22T00:00:00.000000000",
          "2019-04-23T00:00:00.000000000",
          "2019-04-24T00:00:00.000000000",
          "2019-04-25T00:00:00.000000000",
          "2019-04-26T00:00:00.000000000",
          "2019-04-27T00:00:00.000000000",
          "2019-04-28T00:00:00.000000000",
          "2019-04-29T00:00:00.000000000",
          "2019-04-30T00:00:00.000000000",
          "2019-05-02T00:00:00.000000000",
          "2019-05-03T00:00:00.000000000",
          "2019-05-04T00:00:00.000000000",
          "2019-05-05T00:00:00.000000000",
          "2019-05-06T00:00:00.000000000",
          "2019-05-07T00:00:00.000000000",
          "2019-05-08T00:00:00.000000000",
          "2019-05-09T00:00:00.000000000",
          "2019-05-10T00:00:00.000000000",
          "2019-05-11T00:00:00.000000000",
          "2019-05-12T00:00:00.000000000",
          "2019-05-13T00:00:00.000000000",
          "2019-05-14T00:00:00.000000000",
          "2019-05-15T00:00:00.000000000",
          "2019-05-16T00:00:00.000000000",
          "2019-05-17T00:00:00.000000000",
          "2019-05-18T00:00:00.000000000",
          "2019-05-19T00:00:00.000000000",
          "2019-05-20T00:00:00.000000000",
          "2019-05-21T00:00:00.000000000",
          "2019-05-22T00:00:00.000000000",
          "2019-05-23T00:00:00.000000000",
          "2019-05-24T00:00:00.000000000",
          "2019-05-25T00:00:00.000000000",
          "2019-05-26T00:00:00.000000000",
          "2019-05-27T00:00:00.000000000",
          "2019-05-28T00:00:00.000000000",
          "2019-05-29T00:00:00.000000000",
          "2019-05-30T00:00:00.000000000",
          "2019-05-31T00:00:00.000000000",
          "2019-06-02T00:00:00.000000000",
          "2019-06-03T00:00:00.000000000",
          "2019-06-04T00:00:00.000000000",
          "2019-06-05T00:00:00.000000000",
          "2019-06-06T00:00:00.000000000",
          "2019-06-07T00:00:00.000000000",
          "2019-06-08T00:00:00.000000000",
          "2019-06-09T00:00:00.000000000",
          "2019-06-10T00:00:00.000000000",
          "2019-06-11T00:00:00.000000000",
          "2019-06-12T00:00:00.000000000",
          "2019-06-13T00:00:00.000000000",
          "2019-06-14T00:00:00.000000000",
          "2019-06-15T00:00:00.000000000",
          "2019-06-16T00:00:00.000000000",
          "2019-06-17T00:00:00.000000000",
          "2019-06-18T00:00:00.000000000",
          "2019-06-19T00:00:00.000000000",
          "2019-06-20T00:00:00.000000000",
          "2019-06-21T00:00:00.000000000",
          "2019-06-22T00:00:00.000000000",
          "2019-06-23T00:00:00.000000000",
          "2019-06-24T00:00:00.000000000",
          "2019-06-25T00:00:00.000000000",
          "2019-06-26T00:00:00.000000000",
          "2019-06-27T00:00:00.000000000",
          "2019-06-28T00:00:00.000000000",
          "2019-06-29T00:00:00.000000000",
          "2019-06-30T00:00:00.000000000",
          "2019-07-01T00:00:00.000000000",
          "2019-07-02T00:00:00.000000000",
          "2019-07-03T00:00:00.000000000",
          "2019-07-04T00:00:00.000000000",
          "2019-07-05T00:00:00.000000000",
          "2019-07-06T00:00:00.000000000",
          "2019-07-07T00:00:00.000000000",
          "2019-07-08T00:00:00.000000000",
          "2019-07-09T00:00:00.000000000",
          "2019-07-10T00:00:00.000000000",
          "2019-07-11T00:00:00.000000000",
          "2019-07-12T00:00:00.000000000",
          "2019-07-13T00:00:00.000000000",
          "2019-07-14T00:00:00.000000000",
          "2019-07-15T00:00:00.000000000",
          "2019-07-16T00:00:00.000000000",
          "2019-07-17T00:00:00.000000000",
          "2019-07-18T00:00:00.000000000",
          "2019-07-19T00:00:00.000000000",
          "2019-07-20T00:00:00.000000000",
          "2019-07-21T00:00:00.000000000",
          "2019-07-22T00:00:00.000000000",
          "2019-07-23T00:00:00.000000000",
          "2019-07-24T00:00:00.000000000",
          "2019-07-25T00:00:00.000000000",
          "2019-07-26T00:00:00.000000000",
          "2019-07-27T00:00:00.000000000",
          "2019-07-28T00:00:00.000000000",
          "2019-07-29T00:00:00.000000000",
          "2019-07-30T00:00:00.000000000",
          "2019-07-31T00:00:00.000000000",
          "2019-08-01T00:00:00.000000000",
          "2019-08-02T00:00:00.000000000",
          "2019-08-03T00:00:00.000000000",
          "2019-08-04T00:00:00.000000000",
          "2019-08-05T00:00:00.000000000",
          "2019-08-06T00:00:00.000000000",
          "2019-08-08T00:00:00.000000000",
          "2019-08-09T00:00:00.000000000",
          "2019-08-10T00:00:00.000000000",
          "2019-08-11T00:00:00.000000000",
          "2019-08-12T00:00:00.000000000",
          "2019-08-13T00:00:00.000000000",
          "2019-08-14T00:00:00.000000000",
          "2019-08-15T00:00:00.000000000",
          "2019-08-16T00:00:00.000000000",
          "2019-08-17T00:00:00.000000000",
          "2019-08-18T00:00:00.000000000",
          "2019-08-19T00:00:00.000000000",
          "2019-08-20T00:00:00.000000000",
          "2019-08-21T00:00:00.000000000",
          "2019-08-22T00:00:00.000000000",
          "2019-08-23T00:00:00.000000000",
          "2019-08-24T00:00:00.000000000",
          "2019-08-25T00:00:00.000000000",
          "2019-08-26T00:00:00.000000000",
          "2019-08-27T00:00:00.000000000",
          "2019-08-28T00:00:00.000000000",
          "2019-08-29T00:00:00.000000000",
          "2019-08-30T00:00:00.000000000",
          "2019-08-31T00:00:00.000000000",
          "2019-09-01T00:00:00.000000000",
          "2019-09-02T00:00:00.000000000",
          "2019-09-03T00:00:00.000000000",
          "2019-09-04T00:00:00.000000000",
          "2019-09-05T00:00:00.000000000",
          "2019-09-06T00:00:00.000000000",
          "2019-09-08T00:00:00.000000000",
          "2019-09-09T00:00:00.000000000",
          "2019-09-10T00:00:00.000000000",
          "2019-09-11T00:00:00.000000000",
          "2019-09-12T00:00:00.000000000",
          "2019-09-13T00:00:00.000000000",
          "2019-09-14T00:00:00.000000000",
          "2019-09-15T00:00:00.000000000",
          "2019-09-16T00:00:00.000000000",
          "2019-09-17T00:00:00.000000000",
          "2019-09-18T00:00:00.000000000",
          "2019-09-19T00:00:00.000000000",
          "2019-09-20T00:00:00.000000000",
          "2019-09-21T00:00:00.000000000",
          "2019-09-22T00:00:00.000000000",
          "2019-09-23T00:00:00.000000000",
          "2019-09-24T00:00:00.000000000",
          "2019-09-25T00:00:00.000000000",
          "2019-09-26T00:00:00.000000000",
          "2019-09-27T00:00:00.000000000",
          "2019-09-28T00:00:00.000000000",
          "2019-09-29T00:00:00.000000000",
          "2019-09-30T00:00:00.000000000",
          "2019-10-01T00:00:00.000000000",
          "2019-10-02T00:00:00.000000000",
          "2019-10-03T00:00:00.000000000",
          "2019-10-04T00:00:00.000000000",
          "2019-10-05T00:00:00.000000000",
          "2019-10-06T00:00:00.000000000",
          "2019-10-08T00:00:00.000000000",
          "2019-10-09T00:00:00.000000000",
          "2019-10-10T00:00:00.000000000",
          "2019-10-11T00:00:00.000000000",
          "2019-10-12T00:00:00.000000000",
          "2019-10-13T00:00:00.000000000",
          "2019-10-14T00:00:00.000000000",
          "2019-10-15T00:00:00.000000000",
          "2019-10-16T00:00:00.000000000",
          "2019-10-17T00:00:00.000000000",
          "2019-10-18T00:00:00.000000000",
          "2019-10-19T00:00:00.000000000",
          "2019-10-20T00:00:00.000000000",
          "2019-10-21T00:00:00.000000000",
          "2019-10-22T00:00:00.000000000",
          "2019-10-23T00:00:00.000000000",
          "2019-10-24T00:00:00.000000000",
          "2019-10-25T00:00:00.000000000",
          "2019-10-26T00:00:00.000000000",
          "2019-10-27T00:00:00.000000000",
          "2019-10-28T00:00:00.000000000",
          "2019-10-29T00:00:00.000000000",
          "2019-10-30T00:00:00.000000000",
          "2019-10-31T00:00:00.000000000",
          "2019-11-01T00:00:00.000000000",
          "2019-11-02T00:00:00.000000000",
          "2019-11-03T00:00:00.000000000",
          "2019-11-04T00:00:00.000000000",
          "2019-11-05T00:00:00.000000000",
          "2019-11-06T00:00:00.000000000",
          "2019-11-08T00:00:00.000000000",
          "2019-11-09T00:00:00.000000000",
          "2019-11-10T00:00:00.000000000",
          "2019-11-11T00:00:00.000000000",
          "2019-11-12T00:00:00.000000000",
          "2019-11-13T00:00:00.000000000",
          "2019-11-14T00:00:00.000000000",
          "2019-11-15T00:00:00.000000000",
          "2019-11-16T00:00:00.000000000",
          "2019-11-17T00:00:00.000000000",
          "2019-11-18T00:00:00.000000000",
          "2019-11-19T00:00:00.000000000",
          "2019-11-20T00:00:00.000000000",
          "2019-11-21T00:00:00.000000000",
          "2019-11-22T00:00:00.000000000",
          "2019-11-23T00:00:00.000000000",
          "2019-11-24T00:00:00.000000000",
          "2019-11-25T00:00:00.000000000",
          "2019-11-26T00:00:00.000000000",
          "2019-11-27T00:00:00.000000000",
          "2019-11-28T00:00:00.000000000",
          "2019-11-29T00:00:00.000000000",
          "2019-11-30T00:00:00.000000000",
          "2019-12-01T00:00:00.000000000",
          "2019-12-02T00:00:00.000000000",
          "2019-12-03T00:00:00.000000000",
          "2019-12-04T00:00:00.000000000",
          "2019-12-05T00:00:00.000000000",
          "2019-12-06T00:00:00.000000000",
          "2019-12-08T00:00:00.000000000",
          "2019-12-09T00:00:00.000000000",
          "2019-12-10T00:00:00.000000000",
          "2019-12-11T00:00:00.000000000",
          "2019-12-12T00:00:00.000000000",
          "2019-12-13T00:00:00.000000000",
          "2019-12-14T00:00:00.000000000",
          "2019-12-15T00:00:00.000000000",
          "2019-12-16T00:00:00.000000000",
          "2019-12-17T00:00:00.000000000",
          "2019-12-18T00:00:00.000000000",
          "2019-12-19T00:00:00.000000000",
          "2019-12-20T00:00:00.000000000",
          "2019-12-21T00:00:00.000000000",
          "2019-12-22T00:00:00.000000000",
          "2019-12-23T00:00:00.000000000",
          "2019-12-24T00:00:00.000000000",
          "2019-12-25T00:00:00.000000000",
          "2019-12-26T00:00:00.000000000",
          "2019-12-27T00:00:00.000000000",
          "2019-12-28T00:00:00.000000000",
          "2019-12-29T00:00:00.000000000",
          "2019-12-30T00:00:00.000000000",
          "2019-12-31T00:00:00.000000000",
          "2020-01-01T00:00:00.000000000",
          "2020-01-02T00:00:00.000000000",
          "2020-01-03T00:00:00.000000000",
          "2020-01-04T00:00:00.000000000",
          "2020-01-05T00:00:00.000000000",
          "2020-01-13T00:00:00.000000000",
          "2020-01-14T00:00:00.000000000",
          "2020-01-15T00:00:00.000000000",
          "2020-01-16T00:00:00.000000000",
          "2020-01-17T00:00:00.000000000",
          "2020-01-18T00:00:00.000000000",
          "2020-01-19T00:00:00.000000000",
          "2020-01-20T00:00:00.000000000",
          "2020-01-21T00:00:00.000000000",
          "2020-01-22T00:00:00.000000000",
          "2020-01-23T00:00:00.000000000",
          "2020-01-24T00:00:00.000000000",
          "2020-01-25T00:00:00.000000000",
          "2020-01-26T00:00:00.000000000",
          "2020-01-27T00:00:00.000000000",
          "2020-01-28T00:00:00.000000000",
          "2020-01-29T00:00:00.000000000",
          "2020-01-30T00:00:00.000000000",
          "2020-01-31T00:00:00.000000000",
          "2020-02-01T00:00:00.000000000",
          "2020-02-02T00:00:00.000000000",
          "2020-02-03T00:00:00.000000000",
          "2020-02-04T00:00:00.000000000",
          "2020-02-05T00:00:00.000000000",
          "2020-02-13T00:00:00.000000000",
          "2020-02-14T00:00:00.000000000",
          "2020-02-15T00:00:00.000000000",
          "2020-02-16T00:00:00.000000000",
          "2020-02-17T00:00:00.000000000",
          "2020-02-18T00:00:00.000000000",
          "2020-02-19T00:00:00.000000000",
          "2020-02-20T00:00:00.000000000",
          "2020-02-21T00:00:00.000000000",
          "2020-02-22T00:00:00.000000000",
          "2020-02-23T00:00:00.000000000",
          "2020-02-24T00:00:00.000000000",
          "2020-02-25T00:00:00.000000000",
          "2020-02-26T00:00:00.000000000",
          "2020-02-27T00:00:00.000000000",
          "2020-02-28T00:00:00.000000000",
          "2020-02-29T00:00:00.000000000",
          "2020-03-01T00:00:00.000000000",
          "2020-03-02T00:00:00.000000000",
          "2020-03-03T00:00:00.000000000",
          "2020-03-04T00:00:00.000000000",
          "2020-03-05T00:00:00.000000000",
          "2020-03-13T00:00:00.000000000",
          "2020-03-14T00:00:00.000000000",
          "2020-03-15T00:00:00.000000000",
          "2020-03-16T00:00:00.000000000",
          "2020-03-17T00:00:00.000000000",
          "2020-03-18T00:00:00.000000000",
          "2020-03-19T00:00:00.000000000",
          "2020-03-20T00:00:00.000000000",
          "2020-03-21T00:00:00.000000000",
          "2020-03-22T00:00:00.000000000",
          "2020-03-23T00:00:00.000000000",
          "2020-03-24T00:00:00.000000000",
          "2020-03-25T00:00:00.000000000",
          "2020-03-26T00:00:00.000000000",
          "2020-03-27T00:00:00.000000000",
          "2020-03-28T00:00:00.000000000",
          "2020-03-29T00:00:00.000000000",
          "2020-03-30T00:00:00.000000000",
          "2020-03-31T00:00:00.000000000",
          "2020-04-01T00:00:00.000000000",
          "2020-04-02T00:00:00.000000000",
          "2020-04-03T00:00:00.000000000",
          "2020-04-04T00:00:00.000000000",
          "2020-04-05T00:00:00.000000000",
          "2020-04-13T00:00:00.000000000",
          "2020-04-14T00:00:00.000000000",
          "2020-04-15T00:00:00.000000000",
          "2020-04-16T00:00:00.000000000",
          "2020-04-17T00:00:00.000000000",
          "2020-04-18T00:00:00.000000000",
          "2020-04-19T00:00:00.000000000",
          "2020-04-20T00:00:00.000000000",
          "2020-04-21T00:00:00.000000000",
          "2020-04-22T00:00:00.000000000",
          "2020-04-23T00:00:00.000000000",
          "2020-04-24T00:00:00.000000000",
          "2020-04-25T00:00:00.000000000",
          "2020-04-26T00:00:00.000000000",
          "2020-04-27T00:00:00.000000000",
          "2020-04-28T00:00:00.000000000",
          "2020-04-29T00:00:00.000000000",
          "2020-04-30T00:00:00.000000000",
          "2020-05-01T00:00:00.000000000",
          "2020-05-02T00:00:00.000000000",
          "2020-05-03T00:00:00.000000000",
          "2020-05-04T00:00:00.000000000",
          "2020-05-05T00:00:00.000000000",
          "2020-05-13T00:00:00.000000000",
          "2020-05-14T00:00:00.000000000",
          "2020-05-15T00:00:00.000000000",
          "2020-05-16T00:00:00.000000000",
          "2020-05-17T00:00:00.000000000",
          "2020-05-18T00:00:00.000000000",
          "2020-05-19T00:00:00.000000000",
          "2020-05-20T00:00:00.000000000",
          "2020-05-21T00:00:00.000000000",
          "2020-05-22T00:00:00.000000000",
          "2020-05-23T00:00:00.000000000",
          "2020-06-01T00:00:00.000000000",
          "2020-06-02T00:00:00.000000000",
          "2020-06-03T00:00:00.000000000",
          "2020-06-04T00:00:00.000000000",
          "2020-06-05T00:00:00.000000000",
          "2020-07-01T00:00:00.000000000",
          "2020-07-02T00:00:00.000000000",
          "2020-07-03T00:00:00.000000000",
          "2020-07-04T00:00:00.000000000",
          "2020-07-05T00:00:00.000000000",
          "2020-08-01T00:00:00.000000000",
          "2020-08-02T00:00:00.000000000",
          "2020-08-03T00:00:00.000000000",
          "2020-08-04T00:00:00.000000000",
          "2020-08-05T00:00:00.000000000",
          "2020-09-01T00:00:00.000000000",
          "2020-09-02T00:00:00.000000000",
          "2020-09-03T00:00:00.000000000",
          "2020-09-04T00:00:00.000000000",
          "2020-09-05T00:00:00.000000000",
          "2020-10-01T00:00:00.000000000",
          "2020-10-02T00:00:00.000000000",
          "2020-10-03T00:00:00.000000000",
          "2020-10-04T00:00:00.000000000",
          "2020-10-05T00:00:00.000000000",
          "2020-11-01T00:00:00.000000000",
          "2020-11-02T00:00:00.000000000",
          "2020-11-03T00:00:00.000000000",
          "2020-11-04T00:00:00.000000000",
          "2020-11-05T00:00:00.000000000",
          "2020-12-01T00:00:00.000000000",
          "2020-12-02T00:00:00.000000000",
          "2020-12-03T00:00:00.000000000",
          "2020-12-04T00:00:00.000000000",
          "2020-12-05T00:00:00.000000000",
          "2020-12-06T00:00:00.000000000",
          "2020-12-07T00:00:00.000000000",
          "2020-12-08T00:00:00.000000000",
          "2020-12-09T00:00:00.000000000",
          "2020-12-10T00:00:00.000000000",
          "2020-12-11T00:00:00.000000000",
          "2020-12-12T00:00:00.000000000",
          "2020-12-13T00:00:00.000000000",
          "2020-12-14T00:00:00.000000000",
          "2020-12-15T00:00:00.000000000",
          "2020-12-16T00:00:00.000000000",
          "2020-12-17T00:00:00.000000000",
          "2020-12-18T00:00:00.000000000",
          "2020-12-19T00:00:00.000000000",
          "2020-12-20T00:00:00.000000000",
          "2020-12-21T00:00:00.000000000",
          "2020-12-22T00:00:00.000000000",
          "2020-12-23T00:00:00.000000000",
          "2020-12-24T00:00:00.000000000",
          "2020-12-25T00:00:00.000000000",
          "2020-12-26T00:00:00.000000000",
          "2020-12-27T00:00:00.000000000",
          "2020-12-28T00:00:00.000000000",
          "2020-12-29T00:00:00.000000000",
          "2020-12-30T00:00:00.000000000",
          "2020-12-31T00:00:00.000000000",
          "2021-01-01T00:00:00.000000000",
          "2021-01-02T00:00:00.000000000",
          "2021-01-03T00:00:00.000000000",
          "2021-01-04T00:00:00.000000000",
          "2021-01-05T00:00:00.000000000",
          "2021-01-06T00:00:00.000000000",
          "2021-01-07T00:00:00.000000000",
          "2021-01-08T00:00:00.000000000",
          "2021-01-09T00:00:00.000000000",
          "2021-01-10T00:00:00.000000000",
          "2021-01-11T00:00:00.000000000",
          "2021-01-12T00:00:00.000000000",
          "2021-01-13T00:00:00.000000000",
          "2021-01-14T00:00:00.000000000",
          "2021-01-15T00:00:00.000000000",
          "2021-01-16T00:00:00.000000000",
          "2021-01-17T00:00:00.000000000",
          "2021-01-18T00:00:00.000000000",
          "2021-01-19T00:00:00.000000000",
          "2021-01-20T00:00:00.000000000",
          "2021-01-21T00:00:00.000000000",
          "2021-01-22T00:00:00.000000000",
          "2021-01-23T00:00:00.000000000",
          "2021-01-24T00:00:00.000000000",
          "2021-01-25T00:00:00.000000000",
          "2021-01-26T00:00:00.000000000",
          "2021-01-27T00:00:00.000000000",
          "2021-01-28T00:00:00.000000000",
          "2021-01-29T00:00:00.000000000",
          "2021-01-30T00:00:00.000000000",
          "2021-01-31T00:00:00.000000000",
          "2021-02-01T00:00:00.000000000",
          "2021-02-02T00:00:00.000000000",
          "2021-02-03T00:00:00.000000000",
          "2021-02-04T00:00:00.000000000",
          "2021-02-05T00:00:00.000000000",
          "2021-02-06T00:00:00.000000000",
          "2021-02-07T00:00:00.000000000",
          "2021-02-08T00:00:00.000000000",
          "2021-02-09T00:00:00.000000000",
          "2021-02-10T00:00:00.000000000",
          "2021-02-11T00:00:00.000000000",
          "2021-02-12T00:00:00.000000000",
          "2021-02-13T00:00:00.000000000",
          "2021-02-14T00:00:00.000000000",
          "2021-02-15T00:00:00.000000000",
          "2021-02-16T00:00:00.000000000",
          "2021-02-17T00:00:00.000000000",
          "2021-02-18T00:00:00.000000000",
          "2021-02-19T00:00:00.000000000",
          "2021-02-20T00:00:00.000000000",
          "2021-02-21T00:00:00.000000000",
          "2021-02-22T00:00:00.000000000",
          "2021-02-23T00:00:00.000000000",
          "2021-02-24T00:00:00.000000000",
          "2021-02-25T00:00:00.000000000",
          "2021-02-26T00:00:00.000000000",
          "2021-02-27T00:00:00.000000000",
          "2021-02-28T00:00:00.000000000",
          "2021-03-01T00:00:00.000000000",
          "2021-03-02T00:00:00.000000000",
          "2021-03-03T00:00:00.000000000",
          "2021-03-04T00:00:00.000000000",
          "2021-03-05T00:00:00.000000000",
          "2021-03-06T00:00:00.000000000",
          "2021-03-07T00:00:00.000000000",
          "2021-03-08T00:00:00.000000000",
          "2021-03-09T00:00:00.000000000",
          "2021-03-10T00:00:00.000000000",
          "2021-03-11T00:00:00.000000000",
          "2021-03-12T00:00:00.000000000",
          "2021-03-13T00:00:00.000000000",
          "2021-03-14T00:00:00.000000000",
          "2021-03-15T00:00:00.000000000",
          "2021-03-16T00:00:00.000000000",
          "2021-03-17T00:00:00.000000000",
          "2021-03-18T00:00:00.000000000",
          "2021-03-19T00:00:00.000000000",
          "2021-03-20T00:00:00.000000000",
          "2021-03-21T00:00:00.000000000",
          "2021-03-22T00:00:00.000000000",
          "2021-03-23T00:00:00.000000000",
          "2021-03-24T00:00:00.000000000",
          "2021-03-25T00:00:00.000000000",
          "2021-03-26T00:00:00.000000000",
          "2021-03-27T00:00:00.000000000",
          "2021-03-28T00:00:00.000000000",
          "2021-03-29T00:00:00.000000000",
          "2021-03-30T00:00:00.000000000",
          "2021-03-31T00:00:00.000000000",
          "2021-04-01T00:00:00.000000000",
          "2021-04-02T00:00:00.000000000",
          "2021-04-03T00:00:00.000000000",
          "2021-04-04T00:00:00.000000000",
          "2021-04-05T00:00:00.000000000",
          "2021-04-06T00:00:00.000000000",
          "2021-04-07T00:00:00.000000000",
          "2021-04-08T00:00:00.000000000",
          "2021-04-09T00:00:00.000000000",
          "2021-04-10T00:00:00.000000000",
          "2021-04-11T00:00:00.000000000",
          "2021-04-12T00:00:00.000000000",
          "2021-04-13T00:00:00.000000000",
          "2021-04-14T00:00:00.000000000",
          "2021-04-15T00:00:00.000000000",
          "2021-04-16T00:00:00.000000000",
          "2021-04-17T00:00:00.000000000",
          "2021-04-18T00:00:00.000000000",
          "2021-04-19T00:00:00.000000000",
          "2021-04-20T00:00:00.000000000",
          "2021-04-21T00:00:00.000000000",
          "2021-04-22T00:00:00.000000000",
          "2021-04-23T00:00:00.000000000",
          "2021-04-24T00:00:00.000000000",
          "2021-04-25T00:00:00.000000000",
          "2021-04-26T00:00:00.000000000",
          "2021-04-27T00:00:00.000000000",
          "2021-04-28T00:00:00.000000000",
          "2021-04-29T00:00:00.000000000",
          "2021-04-30T00:00:00.000000000",
          "2021-05-01T00:00:00.000000000",
          "2021-05-02T00:00:00.000000000",
          "2021-05-03T00:00:00.000000000",
          "2021-05-04T00:00:00.000000000",
          "2021-05-05T00:00:00.000000000",
          "2021-05-06T00:00:00.000000000",
          "2021-05-07T00:00:00.000000000",
          "2021-05-08T00:00:00.000000000",
          "2021-05-09T00:00:00.000000000",
          "2021-05-10T00:00:00.000000000",
          "2021-05-11T00:00:00.000000000",
          "2021-05-12T00:00:00.000000000",
          "2021-05-13T00:00:00.000000000",
          "2021-05-14T00:00:00.000000000",
          "2021-05-15T00:00:00.000000000",
          "2021-05-16T00:00:00.000000000",
          "2021-05-17T00:00:00.000000000",
          "2021-05-18T00:00:00.000000000",
          "2021-05-19T00:00:00.000000000",
          "2021-05-20T00:00:00.000000000",
          "2021-05-21T00:00:00.000000000",
          "2021-05-22T00:00:00.000000000",
          "2021-05-23T00:00:00.000000000",
          "2021-05-24T00:00:00.000000000",
          "2021-05-25T00:00:00.000000000",
          "2021-05-26T00:00:00.000000000",
          "2021-05-27T00:00:00.000000000",
          "2021-05-28T00:00:00.000000000",
          "2021-05-29T00:00:00.000000000",
          "2021-05-30T00:00:00.000000000",
          "2021-05-31T00:00:00.000000000",
          "2021-06-01T00:00:00.000000000",
          "2021-06-02T00:00:00.000000000",
          "2021-06-03T00:00:00.000000000",
          "2021-06-04T00:00:00.000000000",
          "2021-06-05T00:00:00.000000000",
          "2021-06-06T00:00:00.000000000",
          "2021-06-07T00:00:00.000000000",
          "2021-06-08T00:00:00.000000000",
          "2021-06-09T00:00:00.000000000",
          "2021-06-10T00:00:00.000000000",
          "2021-06-11T00:00:00.000000000",
          "2021-06-12T00:00:00.000000000",
          "2021-06-13T00:00:00.000000000",
          "2021-06-14T00:00:00.000000000",
          "2021-06-15T00:00:00.000000000",
          "2021-06-16T00:00:00.000000000",
          "2021-06-17T00:00:00.000000000",
          "2021-06-18T00:00:00.000000000",
          "2021-06-19T00:00:00.000000000",
          "2021-06-20T00:00:00.000000000",
          "2021-06-21T00:00:00.000000000",
          "2021-06-22T00:00:00.000000000",
          "2021-06-23T00:00:00.000000000",
          "2021-06-24T00:00:00.000000000",
          "2021-06-25T00:00:00.000000000",
          "2021-06-26T00:00:00.000000000",
          "2021-06-27T00:00:00.000000000",
          "2021-06-28T00:00:00.000000000",
          "2021-06-29T00:00:00.000000000",
          "2021-06-30T00:00:00.000000000",
          "2021-07-01T00:00:00.000000000",
          "2021-07-02T00:00:00.000000000",
          "2021-07-03T00:00:00.000000000",
          "2021-07-04T00:00:00.000000000",
          "2021-07-05T00:00:00.000000000",
          "2021-07-06T00:00:00.000000000",
          "2021-07-07T00:00:00.000000000",
          "2021-07-08T00:00:00.000000000",
          "2021-07-09T00:00:00.000000000",
          "2021-07-10T00:00:00.000000000",
          "2021-07-11T00:00:00.000000000",
          "2021-07-12T00:00:00.000000000",
          "2021-07-13T00:00:00.000000000",
          "2021-07-14T00:00:00.000000000",
          "2021-07-15T00:00:00.000000000",
          "2021-07-16T00:00:00.000000000",
          "2021-07-17T00:00:00.000000000",
          "2021-07-18T00:00:00.000000000",
          "2021-07-19T00:00:00.000000000",
          "2021-07-20T00:00:00.000000000",
          "2021-07-21T00:00:00.000000000",
          "2021-07-22T00:00:00.000000000",
          "2021-07-23T00:00:00.000000000",
          "2021-07-24T00:00:00.000000000",
          "2021-07-25T00:00:00.000000000",
          "2021-07-26T00:00:00.000000000",
          "2021-07-27T00:00:00.000000000",
          "2021-07-28T00:00:00.000000000",
          "2021-07-29T00:00:00.000000000",
          "2021-07-30T00:00:00.000000000",
          "2021-07-31T00:00:00.000000000",
          "2021-08-01T00:00:00.000000000",
          "2021-08-02T00:00:00.000000000",
          "2021-08-03T00:00:00.000000000",
          "2021-08-04T00:00:00.000000000",
          "2021-08-05T00:00:00.000000000",
          "2021-08-06T00:00:00.000000000",
          "2021-08-07T00:00:00.000000000",
          "2021-08-08T00:00:00.000000000",
          "2021-08-09T00:00:00.000000000",
          "2021-08-10T00:00:00.000000000",
          "2021-08-11T00:00:00.000000000",
          "2021-08-12T00:00:00.000000000",
          "2021-08-13T00:00:00.000000000",
          "2021-08-14T00:00:00.000000000",
          "2021-08-15T00:00:00.000000000",
          "2021-08-16T00:00:00.000000000",
          "2021-08-17T00:00:00.000000000",
          "2021-08-18T00:00:00.000000000",
          "2021-08-19T00:00:00.000000000",
          "2021-08-20T00:00:00.000000000",
          "2021-08-21T00:00:00.000000000",
          "2021-08-22T00:00:00.000000000",
          "2021-08-23T00:00:00.000000000",
          "2021-08-24T00:00:00.000000000",
          "2021-08-25T00:00:00.000000000",
          "2021-08-26T00:00:00.000000000",
          "2021-08-27T00:00:00.000000000",
          "2021-08-28T00:00:00.000000000",
          "2021-08-29T00:00:00.000000000",
          "2021-08-30T00:00:00.000000000",
          "2021-08-31T00:00:00.000000000",
          "2021-09-01T00:00:00.000000000",
          "2021-09-02T00:00:00.000000000",
          "2021-09-03T00:00:00.000000000",
          "2021-09-04T00:00:00.000000000",
          "2021-09-05T00:00:00.000000000",
          "2021-09-06T00:00:00.000000000",
          "2021-09-07T00:00:00.000000000",
          "2021-09-08T00:00:00.000000000",
          "2021-09-09T00:00:00.000000000",
          "2021-09-10T00:00:00.000000000",
          "2021-09-11T00:00:00.000000000",
          "2021-09-12T00:00:00.000000000",
          "2021-09-13T00:00:00.000000000",
          "2021-09-14T00:00:00.000000000",
          "2021-09-15T00:00:00.000000000",
          "2021-09-16T00:00:00.000000000",
          "2021-09-17T00:00:00.000000000",
          "2021-09-18T00:00:00.000000000",
          "2021-09-19T00:00:00.000000000",
          "2021-09-20T00:00:00.000000000",
          "2021-09-21T00:00:00.000000000",
          "2021-09-22T00:00:00.000000000",
          "2021-09-23T00:00:00.000000000",
          "2021-09-24T00:00:00.000000000",
          "2021-09-25T00:00:00.000000000",
          "2021-09-26T00:00:00.000000000",
          "2021-09-27T00:00:00.000000000",
          "2021-09-28T00:00:00.000000000",
          "2021-09-29T00:00:00.000000000",
          "2021-09-30T00:00:00.000000000",
          "2021-10-01T00:00:00.000000000",
          "2021-10-02T00:00:00.000000000",
          "2021-10-03T00:00:00.000000000",
          "2021-10-04T00:00:00.000000000",
          "2021-10-05T00:00:00.000000000",
          "2021-10-06T00:00:00.000000000",
          "2021-10-07T00:00:00.000000000",
          "2021-10-08T00:00:00.000000000",
          "2021-10-09T00:00:00.000000000",
          "2021-10-10T00:00:00.000000000",
          "2021-10-11T00:00:00.000000000",
          "2021-10-12T00:00:00.000000000",
          "2021-10-13T00:00:00.000000000",
          "2021-10-14T00:00:00.000000000",
          "2021-10-15T00:00:00.000000000",
          "2021-10-16T00:00:00.000000000",
          "2021-10-17T00:00:00.000000000",
          "2021-10-18T00:00:00.000000000",
          "2021-10-19T00:00:00.000000000",
          "2021-10-20T00:00:00.000000000",
          "2021-10-21T00:00:00.000000000",
          "2021-10-22T00:00:00.000000000",
          "2021-10-23T00:00:00.000000000",
          "2021-10-24T00:00:00.000000000",
          "2021-10-25T00:00:00.000000000",
          "2021-10-26T00:00:00.000000000",
          "2021-10-27T00:00:00.000000000",
          "2021-10-28T00:00:00.000000000",
          "2021-10-29T00:00:00.000000000",
          "2021-10-30T00:00:00.000000000",
          "2021-10-31T00:00:00.000000000",
          "2021-11-01T00:00:00.000000000",
          "2021-11-02T00:00:00.000000000",
          "2021-11-03T00:00:00.000000000",
          "2021-11-04T00:00:00.000000000",
          "2021-11-05T00:00:00.000000000",
          "2021-11-06T00:00:00.000000000",
          "2021-11-07T00:00:00.000000000",
          "2021-11-08T00:00:00.000000000",
          "2021-11-09T00:00:00.000000000",
          "2021-11-10T00:00:00.000000000",
          "2021-11-11T00:00:00.000000000",
          "2021-11-12T00:00:00.000000000",
          "2021-11-13T00:00:00.000000000",
          "2021-11-14T00:00:00.000000000",
          "2021-11-15T00:00:00.000000000",
          "2021-11-16T00:00:00.000000000",
          "2021-11-17T00:00:00.000000000",
          "2021-11-18T00:00:00.000000000",
          "2021-11-19T00:00:00.000000000",
          "2021-11-20T00:00:00.000000000",
          "2021-11-21T00:00:00.000000000",
          "2021-11-22T00:00:00.000000000",
          "2021-11-23T00:00:00.000000000",
          "2021-11-24T00:00:00.000000000",
          "2021-11-25T00:00:00.000000000",
          "2021-11-26T00:00:00.000000000",
          "2021-11-27T00:00:00.000000000",
          "2021-11-28T00:00:00.000000000",
          "2021-11-29T00:00:00.000000000",
          "2021-11-30T00:00:00.000000000",
          "2021-12-01T00:00:00.000000000",
          "2021-12-02T00:00:00.000000000",
          "2021-12-03T00:00:00.000000000",
          "2021-12-04T00:00:00.000000000",
          "2021-12-05T00:00:00.000000000"
         ],
         "y": {
          "bdata": "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",
          "dtype": "f8"
         }
        },
        {
         "fill": "tonexty",
         "line": {
          "color": "#57b8ff"
         },
         "mode": "lines",
         "name": "Higher uncertainty interval",
         "type": "scatter",
         "x": [
          "2019-01-02T00:00:00.000000000",
          "2019-01-03T00:00:00.000000000",
          "2019-01-04T00:00:00.000000000",
          "2019-01-05T00:00:00.000000000",
          "2019-01-06T00:00:00.000000000",
          "2019-01-07T00:00:00.000000000",
          "2019-01-08T00:00:00.000000000",
          "2019-01-09T00:00:00.000000000",
          "2019-01-10T00:00:00.000000000",
          "2019-01-11T00:00:00.000000000",
          "2019-01-12T00:00:00.000000000",
          "2019-01-13T00:00:00.000000000",
          "2019-01-14T00:00:00.000000000",
          "2019-01-15T00:00:00.000000000",
          "2019-01-16T00:00:00.000000000",
          "2019-01-17T00:00:00.000000000",
          "2019-01-18T00:00:00.000000000",
          "2019-01-19T00:00:00.000000000",
          "2019-01-20T00:00:00.000000000",
          "2019-01-21T00:00:00.000000000",
          "2019-01-22T00:00:00.000000000",
          "2019-01-23T00:00:00.000000000",
          "2019-01-24T00:00:00.000000000",
          "2019-01-25T00:00:00.000000000",
          "2019-01-26T00:00:00.000000000",
          "2019-01-27T00:00:00.000000000",
          "2019-01-28T00:00:00.000000000",
          "2019-01-29T00:00:00.000000000",
          "2019-01-30T00:00:00.000000000",
          "2019-01-31T00:00:00.000000000",
          "2019-02-02T00:00:00.000000000",
          "2019-02-03T00:00:00.000000000",
          "2019-02-04T00:00:00.000000000",
          "2019-02-05T00:00:00.000000000",
          "2019-02-06T00:00:00.000000000",
          "2019-02-07T00:00:00.000000000",
          "2019-02-08T00:00:00.000000000",
          "2019-02-09T00:00:00.000000000",
          "2019-02-10T00:00:00.000000000",
          "2019-02-11T00:00:00.000000000",
          "2019-02-12T00:00:00.000000000",
          "2019-02-13T00:00:00.000000000",
          "2019-02-14T00:00:00.000000000",
          "2019-02-15T00:00:00.000000000",
          "2019-02-16T00:00:00.000000000",
          "2019-02-17T00:00:00.000000000",
          "2019-02-18T00:00:00.000000000",
          "2019-02-19T00:00:00.000000000",
          "2019-02-20T00:00:00.000000000",
          "2019-02-21T00:00:00.000000000",
          "2019-02-22T00:00:00.000000000",
          "2019-02-23T00:00:00.000000000",
          "2019-02-24T00:00:00.000000000",
          "2019-02-25T00:00:00.000000000",
          "2019-02-26T00:00:00.000000000",
          "2019-02-27T00:00:00.000000000",
          "2019-02-28T00:00:00.000000000",
          "2019-03-02T00:00:00.000000000",
          "2019-03-03T00:00:00.000000000",
          "2019-03-04T00:00:00.000000000",
          "2019-03-05T00:00:00.000000000",
          "2019-03-06T00:00:00.000000000",
          "2019-03-07T00:00:00.000000000",
          "2019-03-08T00:00:00.000000000",
          "2019-03-09T00:00:00.000000000",
          "2019-03-10T00:00:00.000000000",
          "2019-03-11T00:00:00.000000000",
          "2019-03-12T00:00:00.000000000",
          "2019-03-13T00:00:00.000000000",
          "2019-03-14T00:00:00.000000000",
          "2019-03-15T00:00:00.000000000",
          "2019-03-16T00:00:00.000000000",
          "2019-03-17T00:00:00.000000000",
          "2019-03-18T00:00:00.000000000",
          "2019-03-19T00:00:00.000000000",
          "2019-03-20T00:00:00.000000000",
          "2019-03-21T00:00:00.000000000",
          "2019-03-22T00:00:00.000000000",
          "2019-03-23T00:00:00.000000000",
          "2019-03-24T00:00:00.000000000",
          "2019-03-25T00:00:00.000000000",
          "2019-03-26T00:00:00.000000000",
          "2019-03-27T00:00:00.000000000",
          "2019-03-28T00:00:00.000000000",
          "2019-03-29T00:00:00.000000000",
          "2019-03-30T00:00:00.000000000",
          "2019-03-31T00:00:00.000000000",
          "2019-04-02T00:00:00.000000000",
          "2019-04-03T00:00:00.000000000",
          "2019-04-04T00:00:00.000000000",
          "2019-04-05T00:00:00.000000000",
          "2019-04-06T00:00:00.000000000",
          "2019-04-07T00:00:00.000000000",
          "2019-04-08T00:00:00.000000000",
          "2019-04-09T00:00:00.000000000",
          "2019-04-10T00:00:00.000000000",
          "2019-04-11T00:00:00.000000000",
          "2019-04-12T00:00:00.000000000",
          "2019-04-13T00:00:00.000000000",
          "2019-04-14T00:00:00.000000000",
          "2019-04-15T00:00:00.000000000",
          "2019-04-16T00:00:00.000000000",
          "2019-04-17T00:00:00.000000000",
          "2019-04-18T00:00:00.000000000",
          "2019-04-19T00:00:00.000000000",
          "2019-04-20T00:00:00.000000000",
          "2019-04-21T00:00:00.000000000",
          "2019-04-22T00:00:00.000000000",
          "2019-04-23T00:00:00.000000000",
          "2019-04-24T00:00:00.000000000",
          "2019-04-25T00:00:00.000000000",
          "2019-04-26T00:00:00.000000000",
          "2019-04-27T00:00:00.000000000",
          "2019-04-28T00:00:00.000000000",
          "2019-04-29T00:00:00.000000000",
          "2019-04-30T00:00:00.000000000",
          "2019-05-02T00:00:00.000000000",
          "2019-05-03T00:00:00.000000000",
          "2019-05-04T00:00:00.000000000",
          "2019-05-05T00:00:00.000000000",
          "2019-05-06T00:00:00.000000000",
          "2019-05-07T00:00:00.000000000",
          "2019-05-08T00:00:00.000000000",
          "2019-05-09T00:00:00.000000000",
          "2019-05-10T00:00:00.000000000",
          "2019-05-11T00:00:00.000000000",
          "2019-05-12T00:00:00.000000000",
          "2019-05-13T00:00:00.000000000",
          "2019-05-14T00:00:00.000000000",
          "2019-05-15T00:00:00.000000000",
          "2019-05-16T00:00:00.000000000",
          "2019-05-17T00:00:00.000000000",
          "2019-05-18T00:00:00.000000000",
          "2019-05-19T00:00:00.000000000",
          "2019-05-20T00:00:00.000000000",
          "2019-05-21T00:00:00.000000000",
          "2019-05-22T00:00:00.000000000",
          "2019-05-23T00:00:00.000000000",
          "2019-05-24T00:00:00.000000000",
          "2019-05-25T00:00:00.000000000",
          "2019-05-26T00:00:00.000000000",
          "2019-05-27T00:00:00.000000000",
          "2019-05-28T00:00:00.000000000",
          "2019-05-29T00:00:00.000000000",
          "2019-05-30T00:00:00.000000000",
          "2019-05-31T00:00:00.000000000",
          "2019-06-02T00:00:00.000000000",
          "2019-06-03T00:00:00.000000000",
          "2019-06-04T00:00:00.000000000",
          "2019-06-05T00:00:00.000000000",
          "2019-06-06T00:00:00.000000000",
          "2019-06-07T00:00:00.000000000",
          "2019-06-08T00:00:00.000000000",
          "2019-06-09T00:00:00.000000000",
          "2019-06-10T00:00:00.000000000",
          "2019-06-11T00:00:00.000000000",
          "2019-06-12T00:00:00.000000000",
          "2019-06-13T00:00:00.000000000",
          "2019-06-14T00:00:00.000000000",
          "2019-06-15T00:00:00.000000000",
          "2019-06-16T00:00:00.000000000",
          "2019-06-17T00:00:00.000000000",
          "2019-06-18T00:00:00.000000000",
          "2019-06-19T00:00:00.000000000",
          "2019-06-20T00:00:00.000000000",
          "2019-06-21T00:00:00.000000000",
          "2019-06-22T00:00:00.000000000",
          "2019-06-23T00:00:00.000000000",
          "2019-06-24T00:00:00.000000000",
          "2019-06-25T00:00:00.000000000",
          "2019-06-26T00:00:00.000000000",
          "2019-06-27T00:00:00.000000000",
          "2019-06-28T00:00:00.000000000",
          "2019-06-29T00:00:00.000000000",
          "2019-06-30T00:00:00.000000000",
          "2019-07-01T00:00:00.000000000",
          "2019-07-02T00:00:00.000000000",
          "2019-07-03T00:00:00.000000000",
          "2019-07-04T00:00:00.000000000",
          "2019-07-05T00:00:00.000000000",
          "2019-07-06T00:00:00.000000000",
          "2019-07-07T00:00:00.000000000",
          "2019-07-08T00:00:00.000000000",
          "2019-07-09T00:00:00.000000000",
          "2019-07-10T00:00:00.000000000",
          "2019-07-11T00:00:00.000000000",
          "2019-07-12T00:00:00.000000000",
          "2019-07-13T00:00:00.000000000",
          "2019-07-14T00:00:00.000000000",
          "2019-07-15T00:00:00.000000000",
          "2019-07-16T00:00:00.000000000",
          "2019-07-17T00:00:00.000000000",
          "2019-07-18T00:00:00.000000000",
          "2019-07-19T00:00:00.000000000",
          "2019-07-20T00:00:00.000000000",
          "2019-07-21T00:00:00.000000000",
          "2019-07-22T00:00:00.000000000",
          "2019-07-23T00:00:00.000000000",
          "2019-07-24T00:00:00.000000000",
          "2019-07-25T00:00:00.000000000",
          "2019-07-26T00:00:00.000000000",
          "2019-07-27T00:00:00.000000000",
          "2019-07-28T00:00:00.000000000",
          "2019-07-29T00:00:00.000000000",
          "2019-07-30T00:00:00.000000000",
          "2019-07-31T00:00:00.000000000",
          "2019-08-01T00:00:00.000000000",
          "2019-08-02T00:00:00.000000000",
          "2019-08-03T00:00:00.000000000",
          "2019-08-04T00:00:00.000000000",
          "2019-08-05T00:00:00.000000000",
          "2019-08-06T00:00:00.000000000",
          "2019-08-08T00:00:00.000000000",
          "2019-08-09T00:00:00.000000000",
          "2019-08-10T00:00:00.000000000",
          "2019-08-11T00:00:00.000000000",
          "2019-08-12T00:00:00.000000000",
          "2019-08-13T00:00:00.000000000",
          "2019-08-14T00:00:00.000000000",
          "2019-08-15T00:00:00.000000000",
          "2019-08-16T00:00:00.000000000",
          "2019-08-17T00:00:00.000000000",
          "2019-08-18T00:00:00.000000000",
          "2019-08-19T00:00:00.000000000",
          "2019-08-20T00:00:00.000000000",
          "2019-08-21T00:00:00.000000000",
          "2019-08-22T00:00:00.000000000",
          "2019-08-23T00:00:00.000000000",
          "2019-08-24T00:00:00.000000000",
          "2019-08-25T00:00:00.000000000",
          "2019-08-26T00:00:00.000000000",
          "2019-08-27T00:00:00.000000000",
          "2019-08-28T00:00:00.000000000",
          "2019-08-29T00:00:00.000000000",
          "2019-08-30T00:00:00.000000000",
          "2019-08-31T00:00:00.000000000",
          "2019-09-01T00:00:00.000000000",
          "2019-09-02T00:00:00.000000000",
          "2019-09-03T00:00:00.000000000",
          "2019-09-04T00:00:00.000000000",
          "2019-09-05T00:00:00.000000000",
          "2019-09-06T00:00:00.000000000",
          "2019-09-08T00:00:00.000000000",
          "2019-09-09T00:00:00.000000000",
          "2019-09-10T00:00:00.000000000",
          "2019-09-11T00:00:00.000000000",
          "2019-09-12T00:00:00.000000000",
          "2019-09-13T00:00:00.000000000",
          "2019-09-14T00:00:00.000000000",
          "2019-09-15T00:00:00.000000000",
          "2019-09-16T00:00:00.000000000",
          "2019-09-17T00:00:00.000000000",
          "2019-09-18T00:00:00.000000000",
          "2019-09-19T00:00:00.000000000",
          "2019-09-20T00:00:00.000000000",
          "2019-09-21T00:00:00.000000000",
          "2019-09-22T00:00:00.000000000",
          "2019-09-23T00:00:00.000000000",
          "2019-09-24T00:00:00.000000000",
          "2019-09-25T00:00:00.000000000",
          "2019-09-26T00:00:00.000000000",
          "2019-09-27T00:00:00.000000000",
          "2019-09-28T00:00:00.000000000",
          "2019-09-29T00:00:00.000000000",
          "2019-09-30T00:00:00.000000000",
          "2019-10-01T00:00:00.000000000",
          "2019-10-02T00:00:00.000000000",
          "2019-10-03T00:00:00.000000000",
          "2019-10-04T00:00:00.000000000",
          "2019-10-05T00:00:00.000000000",
          "2019-10-06T00:00:00.000000000",
          "2019-10-08T00:00:00.000000000",
          "2019-10-09T00:00:00.000000000",
          "2019-10-10T00:00:00.000000000",
          "2019-10-11T00:00:00.000000000",
          "2019-10-12T00:00:00.000000000",
          "2019-10-13T00:00:00.000000000",
          "2019-10-14T00:00:00.000000000",
          "2019-10-15T00:00:00.000000000",
          "2019-10-16T00:00:00.000000000",
          "2019-10-17T00:00:00.000000000",
          "2019-10-18T00:00:00.000000000",
          "2019-10-19T00:00:00.000000000",
          "2019-10-20T00:00:00.000000000",
          "2019-10-21T00:00:00.000000000",
          "2019-10-22T00:00:00.000000000",
          "2019-10-23T00:00:00.000000000",
          "2019-10-24T00:00:00.000000000",
          "2019-10-25T00:00:00.000000000",
          "2019-10-26T00:00:00.000000000",
          "2019-10-27T00:00:00.000000000",
          "2019-10-28T00:00:00.000000000",
          "2019-10-29T00:00:00.000000000",
          "2019-10-30T00:00:00.000000000",
          "2019-10-31T00:00:00.000000000",
          "2019-11-01T00:00:00.000000000",
          "2019-11-02T00:00:00.000000000",
          "2019-11-03T00:00:00.000000000",
          "2019-11-04T00:00:00.000000000",
          "2019-11-05T00:00:00.000000000",
          "2019-11-06T00:00:00.000000000",
          "2019-11-08T00:00:00.000000000",
          "2019-11-09T00:00:00.000000000",
          "2019-11-10T00:00:00.000000000",
          "2019-11-11T00:00:00.000000000",
          "2019-11-12T00:00:00.000000000",
          "2019-11-13T00:00:00.000000000",
          "2019-11-14T00:00:00.000000000",
          "2019-11-15T00:00:00.000000000",
          "2019-11-16T00:00:00.000000000",
          "2019-11-17T00:00:00.000000000",
          "2019-11-18T00:00:00.000000000",
          "2019-11-19T00:00:00.000000000",
          "2019-11-20T00:00:00.000000000",
          "2019-11-21T00:00:00.000000000",
          "2019-11-22T00:00:00.000000000",
          "2019-11-23T00:00:00.000000000",
          "2019-11-24T00:00:00.000000000",
          "2019-11-25T00:00:00.000000000",
          "2019-11-26T00:00:00.000000000",
          "2019-11-27T00:00:00.000000000",
          "2019-11-28T00:00:00.000000000",
          "2019-11-29T00:00:00.000000000",
          "2019-11-30T00:00:00.000000000",
          "2019-12-01T00:00:00.000000000",
          "2019-12-02T00:00:00.000000000",
          "2019-12-03T00:00:00.000000000",
          "2019-12-04T00:00:00.000000000",
          "2019-12-05T00:00:00.000000000",
          "2019-12-06T00:00:00.000000000",
          "2019-12-08T00:00:00.000000000",
          "2019-12-09T00:00:00.000000000",
          "2019-12-10T00:00:00.000000000",
          "2019-12-11T00:00:00.000000000",
          "2019-12-12T00:00:00.000000000",
          "2019-12-13T00:00:00.000000000",
          "2019-12-14T00:00:00.000000000",
          "2019-12-15T00:00:00.000000000",
          "2019-12-16T00:00:00.000000000",
          "2019-12-17T00:00:00.000000000",
          "2019-12-18T00:00:00.000000000",
          "2019-12-19T00:00:00.000000000",
          "2019-12-20T00:00:00.000000000",
          "2019-12-21T00:00:00.000000000",
          "2019-12-22T00:00:00.000000000",
          "2019-12-23T00:00:00.000000000",
          "2019-12-24T00:00:00.000000000",
          "2019-12-25T00:00:00.000000000",
          "2019-12-26T00:00:00.000000000",
          "2019-12-27T00:00:00.000000000",
          "2019-12-28T00:00:00.000000000",
          "2019-12-29T00:00:00.000000000",
          "2019-12-30T00:00:00.000000000",
          "2019-12-31T00:00:00.000000000",
          "2020-01-01T00:00:00.000000000",
          "2020-01-02T00:00:00.000000000",
          "2020-01-03T00:00:00.000000000",
          "2020-01-04T00:00:00.000000000",
          "2020-01-05T00:00:00.000000000",
          "2020-01-13T00:00:00.000000000",
          "2020-01-14T00:00:00.000000000",
          "2020-01-15T00:00:00.000000000",
          "2020-01-16T00:00:00.000000000",
          "2020-01-17T00:00:00.000000000",
          "2020-01-18T00:00:00.000000000",
          "2020-01-19T00:00:00.000000000",
          "2020-01-20T00:00:00.000000000",
          "2020-01-21T00:00:00.000000000",
          "2020-01-22T00:00:00.000000000",
          "2020-01-23T00:00:00.000000000",
          "2020-01-24T00:00:00.000000000",
          "2020-01-25T00:00:00.000000000",
          "2020-01-26T00:00:00.000000000",
          "2020-01-27T00:00:00.000000000",
          "2020-01-28T00:00:00.000000000",
          "2020-01-29T00:00:00.000000000",
          "2020-01-30T00:00:00.000000000",
          "2020-01-31T00:00:00.000000000",
          "2020-02-01T00:00:00.000000000",
          "2020-02-02T00:00:00.000000000",
          "2020-02-03T00:00:00.000000000",
          "2020-02-04T00:00:00.000000000",
          "2020-02-05T00:00:00.000000000",
          "2020-02-13T00:00:00.000000000",
          "2020-02-14T00:00:00.000000000",
          "2020-02-15T00:00:00.000000000",
          "2020-02-16T00:00:00.000000000",
          "2020-02-17T00:00:00.000000000",
          "2020-02-18T00:00:00.000000000",
          "2020-02-19T00:00:00.000000000",
          "2020-02-20T00:00:00.000000000",
          "2020-02-21T00:00:00.000000000",
          "2020-02-22T00:00:00.000000000",
          "2020-02-23T00:00:00.000000000",
          "2020-02-24T00:00:00.000000000",
          "2020-02-25T00:00:00.000000000",
          "2020-02-26T00:00:00.000000000",
          "2020-02-27T00:00:00.000000000",
          "2020-02-28T00:00:00.000000000",
          "2020-02-29T00:00:00.000000000",
          "2020-03-01T00:00:00.000000000",
          "2020-03-02T00:00:00.000000000",
          "2020-03-03T00:00:00.000000000",
          "2020-03-04T00:00:00.000000000",
          "2020-03-05T00:00:00.000000000",
          "2020-03-13T00:00:00.000000000",
          "2020-03-14T00:00:00.000000000",
          "2020-03-15T00:00:00.000000000",
          "2020-03-16T00:00:00.000000000",
          "2020-03-17T00:00:00.000000000",
          "2020-03-18T00:00:00.000000000",
          "2020-03-19T00:00:00.000000000",
          "2020-03-20T00:00:00.000000000",
          "2020-03-21T00:00:00.000000000",
          "2020-03-22T00:00:00.000000000",
          "2020-03-23T00:00:00.000000000",
          "2020-03-24T00:00:00.000000000",
          "2020-03-25T00:00:00.000000000",
          "2020-03-26T00:00:00.000000000",
          "2020-03-27T00:00:00.000000000",
          "2020-03-28T00:00:00.000000000",
          "2020-03-29T00:00:00.000000000",
          "2020-03-30T00:00:00.000000000",
          "2020-03-31T00:00:00.000000000",
          "2020-04-01T00:00:00.000000000",
          "2020-04-02T00:00:00.000000000",
          "2020-04-03T00:00:00.000000000",
          "2020-04-04T00:00:00.000000000",
          "2020-04-05T00:00:00.000000000",
          "2020-04-13T00:00:00.000000000",
          "2020-04-14T00:00:00.000000000",
          "2020-04-15T00:00:00.000000000",
          "2020-04-16T00:00:00.000000000",
          "2020-04-17T00:00:00.000000000",
          "2020-04-18T00:00:00.000000000",
          "2020-04-19T00:00:00.000000000",
          "2020-04-20T00:00:00.000000000",
          "2020-04-21T00:00:00.000000000",
          "2020-04-22T00:00:00.000000000",
          "2020-04-23T00:00:00.000000000",
          "2020-04-24T00:00:00.000000000",
          "2020-04-25T00:00:00.000000000",
          "2020-04-26T00:00:00.000000000",
          "2020-04-27T00:00:00.000000000",
          "2020-04-28T00:00:00.000000000",
          "2020-04-29T00:00:00.000000000",
          "2020-04-30T00:00:00.000000000",
          "2020-05-01T00:00:00.000000000",
          "2020-05-02T00:00:00.000000000",
          "2020-05-03T00:00:00.000000000",
          "2020-05-04T00:00:00.000000000",
          "2020-05-05T00:00:00.000000000",
          "2020-05-13T00:00:00.000000000",
          "2020-05-14T00:00:00.000000000",
          "2020-05-15T00:00:00.000000000",
          "2020-05-16T00:00:00.000000000",
          "2020-05-17T00:00:00.000000000",
          "2020-05-18T00:00:00.000000000",
          "2020-05-19T00:00:00.000000000",
          "2020-05-20T00:00:00.000000000",
          "2020-05-21T00:00:00.000000000",
          "2020-05-22T00:00:00.000000000",
          "2020-05-23T00:00:00.000000000",
          "2020-06-01T00:00:00.000000000",
          "2020-06-02T00:00:00.000000000",
          "2020-06-03T00:00:00.000000000",
          "2020-06-04T00:00:00.000000000",
          "2020-06-05T00:00:00.000000000",
          "2020-07-01T00:00:00.000000000",
          "2020-07-02T00:00:00.000000000",
          "2020-07-03T00:00:00.000000000",
          "2020-07-04T00:00:00.000000000",
          "2020-07-05T00:00:00.000000000",
          "2020-08-01T00:00:00.000000000",
          "2020-08-02T00:00:00.000000000",
          "2020-08-03T00:00:00.000000000",
          "2020-08-04T00:00:00.000000000",
          "2020-08-05T00:00:00.000000000",
          "2020-09-01T00:00:00.000000000",
          "2020-09-02T00:00:00.000000000",
          "2020-09-03T00:00:00.000000000",
          "2020-09-04T00:00:00.000000000",
          "2020-09-05T00:00:00.000000000",
          "2020-10-01T00:00:00.000000000",
          "2020-10-02T00:00:00.000000000",
          "2020-10-03T00:00:00.000000000",
          "2020-10-04T00:00:00.000000000",
          "2020-10-05T00:00:00.000000000",
          "2020-11-01T00:00:00.000000000",
          "2020-11-02T00:00:00.000000000",
          "2020-11-03T00:00:00.000000000",
          "2020-11-04T00:00:00.000000000",
          "2020-11-05T00:00:00.000000000",
          "2020-12-01T00:00:00.000000000",
          "2020-12-02T00:00:00.000000000",
          "2020-12-03T00:00:00.000000000",
          "2020-12-04T00:00:00.000000000",
          "2020-12-05T00:00:00.000000000",
          "2020-12-06T00:00:00.000000000",
          "2020-12-07T00:00:00.000000000",
          "2020-12-08T00:00:00.000000000",
          "2020-12-09T00:00:00.000000000",
          "2020-12-10T00:00:00.000000000",
          "2020-12-11T00:00:00.000000000",
          "2020-12-12T00:00:00.000000000",
          "2020-12-13T00:00:00.000000000",
          "2020-12-14T00:00:00.000000000",
          "2020-12-15T00:00:00.000000000",
          "2020-12-16T00:00:00.000000000",
          "2020-12-17T00:00:00.000000000",
          "2020-12-18T00:00:00.000000000",
          "2020-12-19T00:00:00.000000000",
          "2020-12-20T00:00:00.000000000",
          "2020-12-21T00:00:00.000000000",
          "2020-12-22T00:00:00.000000000",
          "2020-12-23T00:00:00.000000000",
          "2020-12-24T00:00:00.000000000",
          "2020-12-25T00:00:00.000000000",
          "2020-12-26T00:00:00.000000000",
          "2020-12-27T00:00:00.000000000",
          "2020-12-28T00:00:00.000000000",
          "2020-12-29T00:00:00.000000000",
          "2020-12-30T00:00:00.000000000",
          "2020-12-31T00:00:00.000000000",
          "2021-01-01T00:00:00.000000000",
          "2021-01-02T00:00:00.000000000",
          "2021-01-03T00:00:00.000000000",
          "2021-01-04T00:00:00.000000000",
          "2021-01-05T00:00:00.000000000",
          "2021-01-06T00:00:00.000000000",
          "2021-01-07T00:00:00.000000000",
          "2021-01-08T00:00:00.000000000",
          "2021-01-09T00:00:00.000000000",
          "2021-01-10T00:00:00.000000000",
          "2021-01-11T00:00:00.000000000",
          "2021-01-12T00:00:00.000000000",
          "2021-01-13T00:00:00.000000000",
          "2021-01-14T00:00:00.000000000",
          "2021-01-15T00:00:00.000000000",
          "2021-01-16T00:00:00.000000000",
          "2021-01-17T00:00:00.000000000",
          "2021-01-18T00:00:00.000000000",
          "2021-01-19T00:00:00.000000000",
          "2021-01-20T00:00:00.000000000",
          "2021-01-21T00:00:00.000000000",
          "2021-01-22T00:00:00.000000000",
          "2021-01-23T00:00:00.000000000",
          "2021-01-24T00:00:00.000000000",
          "2021-01-25T00:00:00.000000000",
          "2021-01-26T00:00:00.000000000",
          "2021-01-27T00:00:00.000000000",
          "2021-01-28T00:00:00.000000000",
          "2021-01-29T00:00:00.000000000",
          "2021-01-30T00:00:00.000000000",
          "2021-01-31T00:00:00.000000000",
          "2021-02-01T00:00:00.000000000",
          "2021-02-02T00:00:00.000000000",
          "2021-02-03T00:00:00.000000000",
          "2021-02-04T00:00:00.000000000",
          "2021-02-05T00:00:00.000000000",
          "2021-02-06T00:00:00.000000000",
          "2021-02-07T00:00:00.000000000",
          "2021-02-08T00:00:00.000000000",
          "2021-02-09T00:00:00.000000000",
          "2021-02-10T00:00:00.000000000",
          "2021-02-11T00:00:00.000000000",
          "2021-02-12T00:00:00.000000000",
          "2021-02-13T00:00:00.000000000",
          "2021-02-14T00:00:00.000000000",
          "2021-02-15T00:00:00.000000000",
          "2021-02-16T00:00:00.000000000",
          "2021-02-17T00:00:00.000000000",
          "2021-02-18T00:00:00.000000000",
          "2021-02-19T00:00:00.000000000",
          "2021-02-20T00:00:00.000000000",
          "2021-02-21T00:00:00.000000000",
          "2021-02-22T00:00:00.000000000",
          "2021-02-23T00:00:00.000000000",
          "2021-02-24T00:00:00.000000000",
          "2021-02-25T00:00:00.000000000",
          "2021-02-26T00:00:00.000000000",
          "2021-02-27T00:00:00.000000000",
          "2021-02-28T00:00:00.000000000",
          "2021-03-01T00:00:00.000000000",
          "2021-03-02T00:00:00.000000000",
          "2021-03-03T00:00:00.000000000",
          "2021-03-04T00:00:00.000000000",
          "2021-03-05T00:00:00.000000000",
          "2021-03-06T00:00:00.000000000",
          "2021-03-07T00:00:00.000000000",
          "2021-03-08T00:00:00.000000000",
          "2021-03-09T00:00:00.000000000",
          "2021-03-10T00:00:00.000000000",
          "2021-03-11T00:00:00.000000000",
          "2021-03-12T00:00:00.000000000",
          "2021-03-13T00:00:00.000000000",
          "2021-03-14T00:00:00.000000000",
          "2021-03-15T00:00:00.000000000",
          "2021-03-16T00:00:00.000000000",
          "2021-03-17T00:00:00.000000000",
          "2021-03-18T00:00:00.000000000",
          "2021-03-19T00:00:00.000000000",
          "2021-03-20T00:00:00.000000000",
          "2021-03-21T00:00:00.000000000",
          "2021-03-22T00:00:00.000000000",
          "2021-03-23T00:00:00.000000000",
          "2021-03-24T00:00:00.000000000",
          "2021-03-25T00:00:00.000000000",
          "2021-03-26T00:00:00.000000000",
          "2021-03-27T00:00:00.000000000",
          "2021-03-28T00:00:00.000000000",
          "2021-03-29T00:00:00.000000000",
          "2021-03-30T00:00:00.000000000",
          "2021-03-31T00:00:00.000000000",
          "2021-04-01T00:00:00.000000000",
          "2021-04-02T00:00:00.000000000",
          "2021-04-03T00:00:00.000000000",
          "2021-04-04T00:00:00.000000000",
          "2021-04-05T00:00:00.000000000",
          "2021-04-06T00:00:00.000000000",
          "2021-04-07T00:00:00.000000000",
          "2021-04-08T00:00:00.000000000",
          "2021-04-09T00:00:00.000000000",
          "2021-04-10T00:00:00.000000000",
          "2021-04-11T00:00:00.000000000",
          "2021-04-12T00:00:00.000000000",
          "2021-04-13T00:00:00.000000000",
          "2021-04-14T00:00:00.000000000",
          "2021-04-15T00:00:00.000000000",
          "2021-04-16T00:00:00.000000000",
          "2021-04-17T00:00:00.000000000",
          "2021-04-18T00:00:00.000000000",
          "2021-04-19T00:00:00.000000000",
          "2021-04-20T00:00:00.000000000",
          "2021-04-21T00:00:00.000000000",
          "2021-04-22T00:00:00.000000000",
          "2021-04-23T00:00:00.000000000",
          "2021-04-24T00:00:00.000000000",
          "2021-04-25T00:00:00.000000000",
          "2021-04-26T00:00:00.000000000",
          "2021-04-27T00:00:00.000000000",
          "2021-04-28T00:00:00.000000000",
          "2021-04-29T00:00:00.000000000",
          "2021-04-30T00:00:00.000000000",
          "2021-05-01T00:00:00.000000000",
          "2021-05-02T00:00:00.000000000",
          "2021-05-03T00:00:00.000000000",
          "2021-05-04T00:00:00.000000000",
          "2021-05-05T00:00:00.000000000",
          "2021-05-06T00:00:00.000000000",
          "2021-05-07T00:00:00.000000000",
          "2021-05-08T00:00:00.000000000",
          "2021-05-09T00:00:00.000000000",
          "2021-05-10T00:00:00.000000000",
          "2021-05-11T00:00:00.000000000",
          "2021-05-12T00:00:00.000000000",
          "2021-05-13T00:00:00.000000000",
          "2021-05-14T00:00:00.000000000",
          "2021-05-15T00:00:00.000000000",
          "2021-05-16T00:00:00.000000000",
          "2021-05-17T00:00:00.000000000",
          "2021-05-18T00:00:00.000000000",
          "2021-05-19T00:00:00.000000000",
          "2021-05-20T00:00:00.000000000",
          "2021-05-21T00:00:00.000000000",
          "2021-05-22T00:00:00.000000000",
          "2021-05-23T00:00:00.000000000",
          "2021-05-24T00:00:00.000000000",
          "2021-05-25T00:00:00.000000000",
          "2021-05-26T00:00:00.000000000",
          "2021-05-27T00:00:00.000000000",
          "2021-05-28T00:00:00.000000000",
          "2021-05-29T00:00:00.000000000",
          "2021-05-30T00:00:00.000000000",
          "2021-05-31T00:00:00.000000000",
          "2021-06-01T00:00:00.000000000",
          "2021-06-02T00:00:00.000000000",
          "2021-06-03T00:00:00.000000000",
          "2021-06-04T00:00:00.000000000",
          "2021-06-05T00:00:00.000000000",
          "2021-06-06T00:00:00.000000000",
          "2021-06-07T00:00:00.000000000",
          "2021-06-08T00:00:00.000000000",
          "2021-06-09T00:00:00.000000000",
          "2021-06-10T00:00:00.000000000",
          "2021-06-11T00:00:00.000000000",
          "2021-06-12T00:00:00.000000000",
          "2021-06-13T00:00:00.000000000",
          "2021-06-14T00:00:00.000000000",
          "2021-06-15T00:00:00.000000000",
          "2021-06-16T00:00:00.000000000",
          "2021-06-17T00:00:00.000000000",
          "2021-06-18T00:00:00.000000000",
          "2021-06-19T00:00:00.000000000",
          "2021-06-20T00:00:00.000000000",
          "2021-06-21T00:00:00.000000000",
          "2021-06-22T00:00:00.000000000",
          "2021-06-23T00:00:00.000000000",
          "2021-06-24T00:00:00.000000000",
          "2021-06-25T00:00:00.000000000",
          "2021-06-26T00:00:00.000000000",
          "2021-06-27T00:00:00.000000000",
          "2021-06-28T00:00:00.000000000",
          "2021-06-29T00:00:00.000000000",
          "2021-06-30T00:00:00.000000000",
          "2021-07-01T00:00:00.000000000",
          "2021-07-02T00:00:00.000000000",
          "2021-07-03T00:00:00.000000000",
          "2021-07-04T00:00:00.000000000",
          "2021-07-05T00:00:00.000000000",
          "2021-07-06T00:00:00.000000000",
          "2021-07-07T00:00:00.000000000",
          "2021-07-08T00:00:00.000000000",
          "2021-07-09T00:00:00.000000000",
          "2021-07-10T00:00:00.000000000",
          "2021-07-11T00:00:00.000000000",
          "2021-07-12T00:00:00.000000000",
          "2021-07-13T00:00:00.000000000",
          "2021-07-14T00:00:00.000000000",
          "2021-07-15T00:00:00.000000000",
          "2021-07-16T00:00:00.000000000",
          "2021-07-17T00:00:00.000000000",
          "2021-07-18T00:00:00.000000000",
          "2021-07-19T00:00:00.000000000",
          "2021-07-20T00:00:00.000000000",
          "2021-07-21T00:00:00.000000000",
          "2021-07-22T00:00:00.000000000",
          "2021-07-23T00:00:00.000000000",
          "2021-07-24T00:00:00.000000000",
          "2021-07-25T00:00:00.000000000",
          "2021-07-26T00:00:00.000000000",
          "2021-07-27T00:00:00.000000000",
          "2021-07-28T00:00:00.000000000",
          "2021-07-29T00:00:00.000000000",
          "2021-07-30T00:00:00.000000000",
          "2021-07-31T00:00:00.000000000",
          "2021-08-01T00:00:00.000000000",
          "2021-08-02T00:00:00.000000000",
          "2021-08-03T00:00:00.000000000",
          "2021-08-04T00:00:00.000000000",
          "2021-08-05T00:00:00.000000000",
          "2021-08-06T00:00:00.000000000",
          "2021-08-07T00:00:00.000000000",
          "2021-08-08T00:00:00.000000000",
          "2021-08-09T00:00:00.000000000",
          "2021-08-10T00:00:00.000000000",
          "2021-08-11T00:00:00.000000000",
          "2021-08-12T00:00:00.000000000",
          "2021-08-13T00:00:00.000000000",
          "2021-08-14T00:00:00.000000000",
          "2021-08-15T00:00:00.000000000",
          "2021-08-16T00:00:00.000000000",
          "2021-08-17T00:00:00.000000000",
          "2021-08-18T00:00:00.000000000",
          "2021-08-19T00:00:00.000000000",
          "2021-08-20T00:00:00.000000000",
          "2021-08-21T00:00:00.000000000",
          "2021-08-22T00:00:00.000000000",
          "2021-08-23T00:00:00.000000000",
          "2021-08-24T00:00:00.000000000",
          "2021-08-25T00:00:00.000000000",
          "2021-08-26T00:00:00.000000000",
          "2021-08-27T00:00:00.000000000",
          "2021-08-28T00:00:00.000000000",
          "2021-08-29T00:00:00.000000000",
          "2021-08-30T00:00:00.000000000",
          "2021-08-31T00:00:00.000000000",
          "2021-09-01T00:00:00.000000000",
          "2021-09-02T00:00:00.000000000",
          "2021-09-03T00:00:00.000000000",
          "2021-09-04T00:00:00.000000000",
          "2021-09-05T00:00:00.000000000",
          "2021-09-06T00:00:00.000000000",
          "2021-09-07T00:00:00.000000000",
          "2021-09-08T00:00:00.000000000",
          "2021-09-09T00:00:00.000000000",
          "2021-09-10T00:00:00.000000000",
          "2021-09-11T00:00:00.000000000",
          "2021-09-12T00:00:00.000000000",
          "2021-09-13T00:00:00.000000000",
          "2021-09-14T00:00:00.000000000",
          "2021-09-15T00:00:00.000000000",
          "2021-09-16T00:00:00.000000000",
          "2021-09-17T00:00:00.000000000",
          "2021-09-18T00:00:00.000000000",
          "2021-09-19T00:00:00.000000000",
          "2021-09-20T00:00:00.000000000",
          "2021-09-21T00:00:00.000000000",
          "2021-09-22T00:00:00.000000000",
          "2021-09-23T00:00:00.000000000",
          "2021-09-24T00:00:00.000000000",
          "2021-09-25T00:00:00.000000000",
          "2021-09-26T00:00:00.000000000",
          "2021-09-27T00:00:00.000000000",
          "2021-09-28T00:00:00.000000000",
          "2021-09-29T00:00:00.000000000",
          "2021-09-30T00:00:00.000000000",
          "2021-10-01T00:00:00.000000000",
          "2021-10-02T00:00:00.000000000",
          "2021-10-03T00:00:00.000000000",
          "2021-10-04T00:00:00.000000000",
          "2021-10-05T00:00:00.000000000",
          "2021-10-06T00:00:00.000000000",
          "2021-10-07T00:00:00.000000000",
          "2021-10-08T00:00:00.000000000",
          "2021-10-09T00:00:00.000000000",
          "2021-10-10T00:00:00.000000000",
          "2021-10-11T00:00:00.000000000",
          "2021-10-12T00:00:00.000000000",
          "2021-10-13T00:00:00.000000000",
          "2021-10-14T00:00:00.000000000",
          "2021-10-15T00:00:00.000000000",
          "2021-10-16T00:00:00.000000000",
          "2021-10-17T00:00:00.000000000",
          "2021-10-18T00:00:00.000000000",
          "2021-10-19T00:00:00.000000000",
          "2021-10-20T00:00:00.000000000",
          "2021-10-21T00:00:00.000000000",
          "2021-10-22T00:00:00.000000000",
          "2021-10-23T00:00:00.000000000",
          "2021-10-24T00:00:00.000000000",
          "2021-10-25T00:00:00.000000000",
          "2021-10-26T00:00:00.000000000",
          "2021-10-27T00:00:00.000000000",
          "2021-10-28T00:00:00.000000000",
          "2021-10-29T00:00:00.000000000",
          "2021-10-30T00:00:00.000000000",
          "2021-10-31T00:00:00.000000000",
          "2021-11-01T00:00:00.000000000",
          "2021-11-02T00:00:00.000000000",
          "2021-11-03T00:00:00.000000000",
          "2021-11-04T00:00:00.000000000",
          "2021-11-05T00:00:00.000000000",
          "2021-11-06T00:00:00.000000000",
          "2021-11-07T00:00:00.000000000",
          "2021-11-08T00:00:00.000000000",
          "2021-11-09T00:00:00.000000000",
          "2021-11-10T00:00:00.000000000",
          "2021-11-11T00:00:00.000000000",
          "2021-11-12T00:00:00.000000000",
          "2021-11-13T00:00:00.000000000",
          "2021-11-14T00:00:00.000000000",
          "2021-11-15T00:00:00.000000000",
          "2021-11-16T00:00:00.000000000",
          "2021-11-17T00:00:00.000000000",
          "2021-11-18T00:00:00.000000000",
          "2021-11-19T00:00:00.000000000",
          "2021-11-20T00:00:00.000000000",
          "2021-11-21T00:00:00.000000000",
          "2021-11-22T00:00:00.000000000",
          "2021-11-23T00:00:00.000000000",
          "2021-11-24T00:00:00.000000000",
          "2021-11-25T00:00:00.000000000",
          "2021-11-26T00:00:00.000000000",
          "2021-11-27T00:00:00.000000000",
          "2021-11-28T00:00:00.000000000",
          "2021-11-29T00:00:00.000000000",
          "2021-11-30T00:00:00.000000000",
          "2021-12-01T00:00:00.000000000",
          "2021-12-02T00:00:00.000000000",
          "2021-12-03T00:00:00.000000000",
          "2021-12-04T00:00:00.000000000",
          "2021-12-05T00:00:00.000000000"
         ],
         "y": {
          "bdata": "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",
          "dtype": "f8"
         }
        },
        {
         "fill": "tonexty",
         "line": {
          "color": "#57b8ff"
         },
         "mode": "lines",
         "name": "Lower uncertainty interval",
         "type": "scatter",
         "x": [
          "2019-01-02T00:00:00.000000000",
          "2019-01-03T00:00:00.000000000",
          "2019-01-04T00:00:00.000000000",
          "2019-01-05T00:00:00.000000000",
          "2019-01-06T00:00:00.000000000",
          "2019-01-07T00:00:00.000000000",
          "2019-01-08T00:00:00.000000000",
          "2019-01-09T00:00:00.000000000",
          "2019-01-10T00:00:00.000000000",
          "2019-01-11T00:00:00.000000000",
          "2019-01-12T00:00:00.000000000",
          "2019-01-13T00:00:00.000000000",
          "2019-01-14T00:00:00.000000000",
          "2019-01-15T00:00:00.000000000",
          "2019-01-16T00:00:00.000000000",
          "2019-01-17T00:00:00.000000000",
          "2019-01-18T00:00:00.000000000",
          "2019-01-19T00:00:00.000000000",
          "2019-01-20T00:00:00.000000000",
          "2019-01-21T00:00:00.000000000",
          "2019-01-22T00:00:00.000000000",
          "2019-01-23T00:00:00.000000000",
          "2019-01-24T00:00:00.000000000",
          "2019-01-25T00:00:00.000000000",
          "2019-01-26T00:00:00.000000000",
          "2019-01-27T00:00:00.000000000",
          "2019-01-28T00:00:00.000000000",
          "2019-01-29T00:00:00.000000000",
          "2019-01-30T00:00:00.000000000",
          "2019-01-31T00:00:00.000000000",
          "2019-02-02T00:00:00.000000000",
          "2019-02-03T00:00:00.000000000",
          "2019-02-04T00:00:00.000000000",
          "2019-02-05T00:00:00.000000000",
          "2019-02-06T00:00:00.000000000",
          "2019-02-07T00:00:00.000000000",
          "2019-02-08T00:00:00.000000000",
          "2019-02-09T00:00:00.000000000",
          "2019-02-10T00:00:00.000000000",
          "2019-02-11T00:00:00.000000000",
          "2019-02-12T00:00:00.000000000",
          "2019-02-13T00:00:00.000000000",
          "2019-02-14T00:00:00.000000000",
          "2019-02-15T00:00:00.000000000",
          "2019-02-16T00:00:00.000000000",
          "2019-02-17T00:00:00.000000000",
          "2019-02-18T00:00:00.000000000",
          "2019-02-19T00:00:00.000000000",
          "2019-02-20T00:00:00.000000000",
          "2019-02-21T00:00:00.000000000",
          "2019-02-22T00:00:00.000000000",
          "2019-02-23T00:00:00.000000000",
          "2019-02-24T00:00:00.000000000",
          "2019-02-25T00:00:00.000000000",
          "2019-02-26T00:00:00.000000000",
          "2019-02-27T00:00:00.000000000",
          "2019-02-28T00:00:00.000000000",
          "2019-03-02T00:00:00.000000000",
          "2019-03-03T00:00:00.000000000",
          "2019-03-04T00:00:00.000000000",
          "2019-03-05T00:00:00.000000000",
          "2019-03-06T00:00:00.000000000",
          "2019-03-07T00:00:00.000000000",
          "2019-03-08T00:00:00.000000000",
          "2019-03-09T00:00:00.000000000",
          "2019-03-10T00:00:00.000000000",
          "2019-03-11T00:00:00.000000000",
          "2019-03-12T00:00:00.000000000",
          "2019-03-13T00:00:00.000000000",
          "2019-03-14T00:00:00.000000000",
          "2019-03-15T00:00:00.000000000",
          "2019-03-16T00:00:00.000000000",
          "2019-03-17T00:00:00.000000000",
          "2019-03-18T00:00:00.000000000",
          "2019-03-19T00:00:00.000000000",
          "2019-03-20T00:00:00.000000000",
          "2019-03-21T00:00:00.000000000",
          "2019-03-22T00:00:00.000000000",
          "2019-03-23T00:00:00.000000000",
          "2019-03-24T00:00:00.000000000",
          "2019-03-25T00:00:00.000000000",
          "2019-03-26T00:00:00.000000000",
          "2019-03-27T00:00:00.000000000",
          "2019-03-28T00:00:00.000000000",
          "2019-03-29T00:00:00.000000000",
          "2019-03-30T00:00:00.000000000",
          "2019-03-31T00:00:00.000000000",
          "2019-04-02T00:00:00.000000000",
          "2019-04-03T00:00:00.000000000",
          "2019-04-04T00:00:00.000000000",
          "2019-04-05T00:00:00.000000000",
          "2019-04-06T00:00:00.000000000",
          "2019-04-07T00:00:00.000000000",
          "2019-04-08T00:00:00.000000000",
          "2019-04-09T00:00:00.000000000",
          "2019-04-10T00:00:00.000000000",
          "2019-04-11T00:00:00.000000000",
          "2019-04-12T00:00:00.000000000",
          "2019-04-13T00:00:00.000000000",
          "2019-04-14T00:00:00.000000000",
          "2019-04-15T00:00:00.000000000",
          "2019-04-16T00:00:00.000000000",
          "2019-04-17T00:00:00.000000000",
          "2019-04-18T00:00:00.000000000",
          "2019-04-19T00:00:00.000000000",
          "2019-04-20T00:00:00.000000000",
          "2019-04-21T00:00:00.000000000",
          "2019-04-22T00:00:00.000000000",
          "2019-04-23T00:00:00.000000000",
          "2019-04-24T00:00:00.000000000",
          "2019-04-25T00:00:00.000000000",
          "2019-04-26T00:00:00.000000000",
          "2019-04-27T00:00:00.000000000",
          "2019-04-28T00:00:00.000000000",
          "2019-04-29T00:00:00.000000000",
          "2019-04-30T00:00:00.000000000",
          "2019-05-02T00:00:00.000000000",
          "2019-05-03T00:00:00.000000000",
          "2019-05-04T00:00:00.000000000",
          "2019-05-05T00:00:00.000000000",
          "2019-05-06T00:00:00.000000000",
          "2019-05-07T00:00:00.000000000",
          "2019-05-08T00:00:00.000000000",
          "2019-05-09T00:00:00.000000000",
          "2019-05-10T00:00:00.000000000",
          "2019-05-11T00:00:00.000000000",
          "2019-05-12T00:00:00.000000000",
          "2019-05-13T00:00:00.000000000",
          "2019-05-14T00:00:00.000000000",
          "2019-05-15T00:00:00.000000000",
          "2019-05-16T00:00:00.000000000",
          "2019-05-17T00:00:00.000000000",
          "2019-05-18T00:00:00.000000000",
          "2019-05-19T00:00:00.000000000",
          "2019-05-20T00:00:00.000000000",
          "2019-05-21T00:00:00.000000000",
          "2019-05-22T00:00:00.000000000",
          "2019-05-23T00:00:00.000000000",
          "2019-05-24T00:00:00.000000000",
          "2019-05-25T00:00:00.000000000",
          "2019-05-26T00:00:00.000000000",
          "2019-05-27T00:00:00.000000000",
          "2019-05-28T00:00:00.000000000",
          "2019-05-29T00:00:00.000000000",
          "2019-05-30T00:00:00.000000000",
          "2019-05-31T00:00:00.000000000",
          "2019-06-02T00:00:00.000000000",
          "2019-06-03T00:00:00.000000000",
          "2019-06-04T00:00:00.000000000",
          "2019-06-05T00:00:00.000000000",
          "2019-06-06T00:00:00.000000000",
          "2019-06-07T00:00:00.000000000",
          "2019-06-08T00:00:00.000000000",
          "2019-06-09T00:00:00.000000000",
          "2019-06-10T00:00:00.000000000",
          "2019-06-11T00:00:00.000000000",
          "2019-06-12T00:00:00.000000000",
          "2019-06-13T00:00:00.000000000",
          "2019-06-14T00:00:00.000000000",
          "2019-06-15T00:00:00.000000000",
          "2019-06-16T00:00:00.000000000",
          "2019-06-17T00:00:00.000000000",
          "2019-06-18T00:00:00.000000000",
          "2019-06-19T00:00:00.000000000",
          "2019-06-20T00:00:00.000000000",
          "2019-06-21T00:00:00.000000000",
          "2019-06-22T00:00:00.000000000",
          "2019-06-23T00:00:00.000000000",
          "2019-06-24T00:00:00.000000000",
          "2019-06-25T00:00:00.000000000",
          "2019-06-26T00:00:00.000000000",
          "2019-06-27T00:00:00.000000000",
          "2019-06-28T00:00:00.000000000",
          "2019-06-29T00:00:00.000000000",
          "2019-06-30T00:00:00.000000000",
          "2019-07-01T00:00:00.000000000",
          "2019-07-02T00:00:00.000000000",
          "2019-07-03T00:00:00.000000000",
          "2019-07-04T00:00:00.000000000",
          "2019-07-05T00:00:00.000000000",
          "2019-07-06T00:00:00.000000000",
          "2019-07-07T00:00:00.000000000",
          "2019-07-08T00:00:00.000000000",
          "2019-07-09T00:00:00.000000000",
          "2019-07-10T00:00:00.000000000",
          "2019-07-11T00:00:00.000000000",
          "2019-07-12T00:00:00.000000000",
          "2019-07-13T00:00:00.000000000",
          "2019-07-14T00:00:00.000000000",
          "2019-07-15T00:00:00.000000000",
          "2019-07-16T00:00:00.000000000",
          "2019-07-17T00:00:00.000000000",
          "2019-07-18T00:00:00.000000000",
          "2019-07-19T00:00:00.000000000",
          "2019-07-20T00:00:00.000000000",
          "2019-07-21T00:00:00.000000000",
          "2019-07-22T00:00:00.000000000",
          "2019-07-23T00:00:00.000000000",
          "2019-07-24T00:00:00.000000000",
          "2019-07-25T00:00:00.000000000",
          "2019-07-26T00:00:00.000000000",
          "2019-07-27T00:00:00.000000000",
          "2019-07-28T00:00:00.000000000",
          "2019-07-29T00:00:00.000000000",
          "2019-07-30T00:00:00.000000000",
          "2019-07-31T00:00:00.000000000",
          "2019-08-01T00:00:00.000000000",
          "2019-08-02T00:00:00.000000000",
          "2019-08-03T00:00:00.000000000",
          "2019-08-04T00:00:00.000000000",
          "2019-08-05T00:00:00.000000000",
          "2019-08-06T00:00:00.000000000",
          "2019-08-08T00:00:00.000000000",
          "2019-08-09T00:00:00.000000000",
          "2019-08-10T00:00:00.000000000",
          "2019-08-11T00:00:00.000000000",
          "2019-08-12T00:00:00.000000000",
          "2019-08-13T00:00:00.000000000",
          "2019-08-14T00:00:00.000000000",
          "2019-08-15T00:00:00.000000000",
          "2019-08-16T00:00:00.000000000",
          "2019-08-17T00:00:00.000000000",
          "2019-08-18T00:00:00.000000000",
          "2019-08-19T00:00:00.000000000",
          "2019-08-20T00:00:00.000000000",
          "2019-08-21T00:00:00.000000000",
          "2019-08-22T00:00:00.000000000",
          "2019-08-23T00:00:00.000000000",
          "2019-08-24T00:00:00.000000000",
          "2019-08-25T00:00:00.000000000",
          "2019-08-26T00:00:00.000000000",
          "2019-08-27T00:00:00.000000000",
          "2019-08-28T00:00:00.000000000",
          "2019-08-29T00:00:00.000000000",
          "2019-08-30T00:00:00.000000000",
          "2019-08-31T00:00:00.000000000",
          "2019-09-01T00:00:00.000000000",
          "2019-09-02T00:00:00.000000000",
          "2019-09-03T00:00:00.000000000",
          "2019-09-04T00:00:00.000000000",
          "2019-09-05T00:00:00.000000000",
          "2019-09-06T00:00:00.000000000",
          "2019-09-08T00:00:00.000000000",
          "2019-09-09T00:00:00.000000000",
          "2019-09-10T00:00:00.000000000",
          "2019-09-11T00:00:00.000000000",
          "2019-09-12T00:00:00.000000000",
          "2019-09-13T00:00:00.000000000",
          "2019-09-14T00:00:00.000000000",
          "2019-09-15T00:00:00.000000000",
          "2019-09-16T00:00:00.000000000",
          "2019-09-17T00:00:00.000000000",
          "2019-09-18T00:00:00.000000000",
          "2019-09-19T00:00:00.000000000",
          "2019-09-20T00:00:00.000000000",
          "2019-09-21T00:00:00.000000000",
          "2019-09-22T00:00:00.000000000",
          "2019-09-23T00:00:00.000000000",
          "2019-09-24T00:00:00.000000000",
          "2019-09-25T00:00:00.000000000",
          "2019-09-26T00:00:00.000000000",
          "2019-09-27T00:00:00.000000000",
          "2019-09-28T00:00:00.000000000",
          "2019-09-29T00:00:00.000000000",
          "2019-09-30T00:00:00.000000000",
          "2019-10-01T00:00:00.000000000",
          "2019-10-02T00:00:00.000000000",
          "2019-10-03T00:00:00.000000000",
          "2019-10-04T00:00:00.000000000",
          "2019-10-05T00:00:00.000000000",
          "2019-10-06T00:00:00.000000000",
          "2019-10-08T00:00:00.000000000",
          "2019-10-09T00:00:00.000000000",
          "2019-10-10T00:00:00.000000000",
          "2019-10-11T00:00:00.000000000",
          "2019-10-12T00:00:00.000000000",
          "2019-10-13T00:00:00.000000000",
          "2019-10-14T00:00:00.000000000",
          "2019-10-15T00:00:00.000000000",
          "2019-10-16T00:00:00.000000000",
          "2019-10-17T00:00:00.000000000",
          "2019-10-18T00:00:00.000000000",
          "2019-10-19T00:00:00.000000000",
          "2019-10-20T00:00:00.000000000",
          "2019-10-21T00:00:00.000000000",
          "2019-10-22T00:00:00.000000000",
          "2019-10-23T00:00:00.000000000",
          "2019-10-24T00:00:00.000000000",
          "2019-10-25T00:00:00.000000000",
          "2019-10-26T00:00:00.000000000",
          "2019-10-27T00:00:00.000000000",
          "2019-10-28T00:00:00.000000000",
          "2019-10-29T00:00:00.000000000",
          "2019-10-30T00:00:00.000000000",
          "2019-10-31T00:00:00.000000000",
          "2019-11-01T00:00:00.000000000",
          "2019-11-02T00:00:00.000000000",
          "2019-11-03T00:00:00.000000000",
          "2019-11-04T00:00:00.000000000",
          "2019-11-05T00:00:00.000000000",
          "2019-11-06T00:00:00.000000000",
          "2019-11-08T00:00:00.000000000",
          "2019-11-09T00:00:00.000000000",
          "2019-11-10T00:00:00.000000000",
          "2019-11-11T00:00:00.000000000",
          "2019-11-12T00:00:00.000000000",
          "2019-11-13T00:00:00.000000000",
          "2019-11-14T00:00:00.000000000",
          "2019-11-15T00:00:00.000000000",
          "2019-11-16T00:00:00.000000000",
          "2019-11-17T00:00:00.000000000",
          "2019-11-18T00:00:00.000000000",
          "2019-11-19T00:00:00.000000000",
          "2019-11-20T00:00:00.000000000",
          "2019-11-21T00:00:00.000000000",
          "2019-11-22T00:00:00.000000000",
          "2019-11-23T00:00:00.000000000",
          "2019-11-24T00:00:00.000000000",
          "2019-11-25T00:00:00.000000000",
          "2019-11-26T00:00:00.000000000",
          "2019-11-27T00:00:00.000000000",
          "2019-11-28T00:00:00.000000000",
          "2019-11-29T00:00:00.000000000",
          "2019-11-30T00:00:00.000000000",
          "2019-12-01T00:00:00.000000000",
          "2019-12-02T00:00:00.000000000",
          "2019-12-03T00:00:00.000000000",
          "2019-12-04T00:00:00.000000000",
          "2019-12-05T00:00:00.000000000",
          "2019-12-06T00:00:00.000000000",
          "2019-12-08T00:00:00.000000000",
          "2019-12-09T00:00:00.000000000",
          "2019-12-10T00:00:00.000000000",
          "2019-12-11T00:00:00.000000000",
          "2019-12-12T00:00:00.000000000",
          "2019-12-13T00:00:00.000000000",
          "2019-12-14T00:00:00.000000000",
          "2019-12-15T00:00:00.000000000",
          "2019-12-16T00:00:00.000000000",
          "2019-12-17T00:00:00.000000000",
          "2019-12-18T00:00:00.000000000",
          "2019-12-19T00:00:00.000000000",
          "2019-12-20T00:00:00.000000000",
          "2019-12-21T00:00:00.000000000",
          "2019-12-22T00:00:00.000000000",
          "2019-12-23T00:00:00.000000000",
          "2019-12-24T00:00:00.000000000",
          "2019-12-25T00:00:00.000000000",
          "2019-12-26T00:00:00.000000000",
          "2019-12-27T00:00:00.000000000",
          "2019-12-28T00:00:00.000000000",
          "2019-12-29T00:00:00.000000000",
          "2019-12-30T00:00:00.000000000",
          "2019-12-31T00:00:00.000000000",
          "2020-01-01T00:00:00.000000000",
          "2020-01-02T00:00:00.000000000",
          "2020-01-03T00:00:00.000000000",
          "2020-01-04T00:00:00.000000000",
          "2020-01-05T00:00:00.000000000",
          "2020-01-13T00:00:00.000000000",
          "2020-01-14T00:00:00.000000000",
          "2020-01-15T00:00:00.000000000",
          "2020-01-16T00:00:00.000000000",
          "2020-01-17T00:00:00.000000000",
          "2020-01-18T00:00:00.000000000",
          "2020-01-19T00:00:00.000000000",
          "2020-01-20T00:00:00.000000000",
          "2020-01-21T00:00:00.000000000",
          "2020-01-22T00:00:00.000000000",
          "2020-01-23T00:00:00.000000000",
          "2020-01-24T00:00:00.000000000",
          "2020-01-25T00:00:00.000000000",
          "2020-01-26T00:00:00.000000000",
          "2020-01-27T00:00:00.000000000",
          "2020-01-28T00:00:00.000000000",
          "2020-01-29T00:00:00.000000000",
          "2020-01-30T00:00:00.000000000",
          "2020-01-31T00:00:00.000000000",
          "2020-02-01T00:00:00.000000000",
          "2020-02-02T00:00:00.000000000",
          "2020-02-03T00:00:00.000000000",
          "2020-02-04T00:00:00.000000000",
          "2020-02-05T00:00:00.000000000",
          "2020-02-13T00:00:00.000000000",
          "2020-02-14T00:00:00.000000000",
          "2020-02-15T00:00:00.000000000",
          "2020-02-16T00:00:00.000000000",
          "2020-02-17T00:00:00.000000000",
          "2020-02-18T00:00:00.000000000",
          "2020-02-19T00:00:00.000000000",
          "2020-02-20T00:00:00.000000000",
          "2020-02-21T00:00:00.000000000",
          "2020-02-22T00:00:00.000000000",
          "2020-02-23T00:00:00.000000000",
          "2020-02-24T00:00:00.000000000",
          "2020-02-25T00:00:00.000000000",
          "2020-02-26T00:00:00.000000000",
          "2020-02-27T00:00:00.000000000",
          "2020-02-28T00:00:00.000000000",
          "2020-02-29T00:00:00.000000000",
          "2020-03-01T00:00:00.000000000",
          "2020-03-02T00:00:00.000000000",
          "2020-03-03T00:00:00.000000000",
          "2020-03-04T00:00:00.000000000",
          "2020-03-05T00:00:00.000000000",
          "2020-03-13T00:00:00.000000000",
          "2020-03-14T00:00:00.000000000",
          "2020-03-15T00:00:00.000000000",
          "2020-03-16T00:00:00.000000000",
          "2020-03-17T00:00:00.000000000",
          "2020-03-18T00:00:00.000000000",
          "2020-03-19T00:00:00.000000000",
          "2020-03-20T00:00:00.000000000",
          "2020-03-21T00:00:00.000000000",
          "2020-03-22T00:00:00.000000000",
          "2020-03-23T00:00:00.000000000",
          "2020-03-24T00:00:00.000000000",
          "2020-03-25T00:00:00.000000000",
          "2020-03-26T00:00:00.000000000",
          "2020-03-27T00:00:00.000000000",
          "2020-03-28T00:00:00.000000000",
          "2020-03-29T00:00:00.000000000",
          "2020-03-30T00:00:00.000000000",
          "2020-03-31T00:00:00.000000000",
          "2020-04-01T00:00:00.000000000",
          "2020-04-02T00:00:00.000000000",
          "2020-04-03T00:00:00.000000000",
          "2020-04-04T00:00:00.000000000",
          "2020-04-05T00:00:00.000000000",
          "2020-04-13T00:00:00.000000000",
          "2020-04-14T00:00:00.000000000",
          "2020-04-15T00:00:00.000000000",
          "2020-04-16T00:00:00.000000000",
          "2020-04-17T00:00:00.000000000",
          "2020-04-18T00:00:00.000000000",
          "2020-04-19T00:00:00.000000000",
          "2020-04-20T00:00:00.000000000",
          "2020-04-21T00:00:00.000000000",
          "2020-04-22T00:00:00.000000000",
          "2020-04-23T00:00:00.000000000",
          "2020-04-24T00:00:00.000000000",
          "2020-04-25T00:00:00.000000000",
          "2020-04-26T00:00:00.000000000",
          "2020-04-27T00:00:00.000000000",
          "2020-04-28T00:00:00.000000000",
          "2020-04-29T00:00:00.000000000",
          "2020-04-30T00:00:00.000000000",
          "2020-05-01T00:00:00.000000000",
          "2020-05-02T00:00:00.000000000",
          "2020-05-03T00:00:00.000000000",
          "2020-05-04T00:00:00.000000000",
          "2020-05-05T00:00:00.000000000",
          "2020-05-13T00:00:00.000000000",
          "2020-05-14T00:00:00.000000000",
          "2020-05-15T00:00:00.000000000",
          "2020-05-16T00:00:00.000000000",
          "2020-05-17T00:00:00.000000000",
          "2020-05-18T00:00:00.000000000",
          "2020-05-19T00:00:00.000000000",
          "2020-05-20T00:00:00.000000000",
          "2020-05-21T00:00:00.000000000",
          "2020-05-22T00:00:00.000000000",
          "2020-05-23T00:00:00.000000000",
          "2020-06-01T00:00:00.000000000",
          "2020-06-02T00:00:00.000000000",
          "2020-06-03T00:00:00.000000000",
          "2020-06-04T00:00:00.000000000",
          "2020-06-05T00:00:00.000000000",
          "2020-07-01T00:00:00.000000000",
          "2020-07-02T00:00:00.000000000",
          "2020-07-03T00:00:00.000000000",
          "2020-07-04T00:00:00.000000000",
          "2020-07-05T00:00:00.000000000",
          "2020-08-01T00:00:00.000000000",
          "2020-08-02T00:00:00.000000000",
          "2020-08-03T00:00:00.000000000",
          "2020-08-04T00:00:00.000000000",
          "2020-08-05T00:00:00.000000000",
          "2020-09-01T00:00:00.000000000",
          "2020-09-02T00:00:00.000000000",
          "2020-09-03T00:00:00.000000000",
          "2020-09-04T00:00:00.000000000",
          "2020-09-05T00:00:00.000000000",
          "2020-10-01T00:00:00.000000000",
          "2020-10-02T00:00:00.000000000",
          "2020-10-03T00:00:00.000000000",
          "2020-10-04T00:00:00.000000000",
          "2020-10-05T00:00:00.000000000",
          "2020-11-01T00:00:00.000000000",
          "2020-11-02T00:00:00.000000000",
          "2020-11-03T00:00:00.000000000",
          "2020-11-04T00:00:00.000000000",
          "2020-11-05T00:00:00.000000000",
          "2020-12-01T00:00:00.000000000",
          "2020-12-02T00:00:00.000000000",
          "2020-12-03T00:00:00.000000000",
          "2020-12-04T00:00:00.000000000",
          "2020-12-05T00:00:00.000000000",
          "2020-12-06T00:00:00.000000000",
          "2020-12-07T00:00:00.000000000",
          "2020-12-08T00:00:00.000000000",
          "2020-12-09T00:00:00.000000000",
          "2020-12-10T00:00:00.000000000",
          "2020-12-11T00:00:00.000000000",
          "2020-12-12T00:00:00.000000000",
          "2020-12-13T00:00:00.000000000",
          "2020-12-14T00:00:00.000000000",
          "2020-12-15T00:00:00.000000000",
          "2020-12-16T00:00:00.000000000",
          "2020-12-17T00:00:00.000000000",
          "2020-12-18T00:00:00.000000000",
          "2020-12-19T00:00:00.000000000",
          "2020-12-20T00:00:00.000000000",
          "2020-12-21T00:00:00.000000000",
          "2020-12-22T00:00:00.000000000",
          "2020-12-23T00:00:00.000000000",
          "2020-12-24T00:00:00.000000000",
          "2020-12-25T00:00:00.000000000",
          "2020-12-26T00:00:00.000000000",
          "2020-12-27T00:00:00.000000000",
          "2020-12-28T00:00:00.000000000",
          "2020-12-29T00:00:00.000000000",
          "2020-12-30T00:00:00.000000000",
          "2020-12-31T00:00:00.000000000",
          "2021-01-01T00:00:00.000000000",
          "2021-01-02T00:00:00.000000000",
          "2021-01-03T00:00:00.000000000",
          "2021-01-04T00:00:00.000000000",
          "2021-01-05T00:00:00.000000000",
          "2021-01-06T00:00:00.000000000",
          "2021-01-07T00:00:00.000000000",
          "2021-01-08T00:00:00.000000000",
          "2021-01-09T00:00:00.000000000",
          "2021-01-10T00:00:00.000000000",
          "2021-01-11T00:00:00.000000000",
          "2021-01-12T00:00:00.000000000",
          "2021-01-13T00:00:00.000000000",
          "2021-01-14T00:00:00.000000000",
          "2021-01-15T00:00:00.000000000",
          "2021-01-16T00:00:00.000000000",
          "2021-01-17T00:00:00.000000000",
          "2021-01-18T00:00:00.000000000",
          "2021-01-19T00:00:00.000000000",
          "2021-01-20T00:00:00.000000000",
          "2021-01-21T00:00:00.000000000",
          "2021-01-22T00:00:00.000000000",
          "2021-01-23T00:00:00.000000000",
          "2021-01-24T00:00:00.000000000",
          "2021-01-25T00:00:00.000000000",
          "2021-01-26T00:00:00.000000000",
          "2021-01-27T00:00:00.000000000",
          "2021-01-28T00:00:00.000000000",
          "2021-01-29T00:00:00.000000000",
          "2021-01-30T00:00:00.000000000",
          "2021-01-31T00:00:00.000000000",
          "2021-02-01T00:00:00.000000000",
          "2021-02-02T00:00:00.000000000",
          "2021-02-03T00:00:00.000000000",
          "2021-02-04T00:00:00.000000000",
          "2021-02-05T00:00:00.000000000",
          "2021-02-06T00:00:00.000000000",
          "2021-02-07T00:00:00.000000000",
          "2021-02-08T00:00:00.000000000",
          "2021-02-09T00:00:00.000000000",
          "2021-02-10T00:00:00.000000000",
          "2021-02-11T00:00:00.000000000",
          "2021-02-12T00:00:00.000000000",
          "2021-02-13T00:00:00.000000000",
          "2021-02-14T00:00:00.000000000",
          "2021-02-15T00:00:00.000000000",
          "2021-02-16T00:00:00.000000000",
          "2021-02-17T00:00:00.000000000",
          "2021-02-18T00:00:00.000000000",
          "2021-02-19T00:00:00.000000000",
          "2021-02-20T00:00:00.000000000",
          "2021-02-21T00:00:00.000000000",
          "2021-02-22T00:00:00.000000000",
          "2021-02-23T00:00:00.000000000",
          "2021-02-24T00:00:00.000000000",
          "2021-02-25T00:00:00.000000000",
          "2021-02-26T00:00:00.000000000",
          "2021-02-27T00:00:00.000000000",
          "2021-02-28T00:00:00.000000000",
          "2021-03-01T00:00:00.000000000",
          "2021-03-02T00:00:00.000000000",
          "2021-03-03T00:00:00.000000000",
          "2021-03-04T00:00:00.000000000",
          "2021-03-05T00:00:00.000000000",
          "2021-03-06T00:00:00.000000000",
          "2021-03-07T00:00:00.000000000",
          "2021-03-08T00:00:00.000000000",
          "2021-03-09T00:00:00.000000000",
          "2021-03-10T00:00:00.000000000",
          "2021-03-11T00:00:00.000000000",
          "2021-03-12T00:00:00.000000000",
          "2021-03-13T00:00:00.000000000",
          "2021-03-14T00:00:00.000000000",
          "2021-03-15T00:00:00.000000000",
          "2021-03-16T00:00:00.000000000",
          "2021-03-17T00:00:00.000000000",
          "2021-03-18T00:00:00.000000000",
          "2021-03-19T00:00:00.000000000",
          "2021-03-20T00:00:00.000000000",
          "2021-03-21T00:00:00.000000000",
          "2021-03-22T00:00:00.000000000",
          "2021-03-23T00:00:00.000000000",
          "2021-03-24T00:00:00.000000000",
          "2021-03-25T00:00:00.000000000",
          "2021-03-26T00:00:00.000000000",
          "2021-03-27T00:00:00.000000000",
          "2021-03-28T00:00:00.000000000",
          "2021-03-29T00:00:00.000000000",
          "2021-03-30T00:00:00.000000000",
          "2021-03-31T00:00:00.000000000",
          "2021-04-01T00:00:00.000000000",
          "2021-04-02T00:00:00.000000000",
          "2021-04-03T00:00:00.000000000",
          "2021-04-04T00:00:00.000000000",
          "2021-04-05T00:00:00.000000000",
          "2021-04-06T00:00:00.000000000",
          "2021-04-07T00:00:00.000000000",
          "2021-04-08T00:00:00.000000000",
          "2021-04-09T00:00:00.000000000",
          "2021-04-10T00:00:00.000000000",
          "2021-04-11T00:00:00.000000000",
          "2021-04-12T00:00:00.000000000",
          "2021-04-13T00:00:00.000000000",
          "2021-04-14T00:00:00.000000000",
          "2021-04-15T00:00:00.000000000",
          "2021-04-16T00:00:00.000000000",
          "2021-04-17T00:00:00.000000000",
          "2021-04-18T00:00:00.000000000",
          "2021-04-19T00:00:00.000000000",
          "2021-04-20T00:00:00.000000000",
          "2021-04-21T00:00:00.000000000",
          "2021-04-22T00:00:00.000000000",
          "2021-04-23T00:00:00.000000000",
          "2021-04-24T00:00:00.000000000",
          "2021-04-25T00:00:00.000000000",
          "2021-04-26T00:00:00.000000000",
          "2021-04-27T00:00:00.000000000",
          "2021-04-28T00:00:00.000000000",
          "2021-04-29T00:00:00.000000000",
          "2021-04-30T00:00:00.000000000",
          "2021-05-01T00:00:00.000000000",
          "2021-05-02T00:00:00.000000000",
          "2021-05-03T00:00:00.000000000",
          "2021-05-04T00:00:00.000000000",
          "2021-05-05T00:00:00.000000000",
          "2021-05-06T00:00:00.000000000",
          "2021-05-07T00:00:00.000000000",
          "2021-05-08T00:00:00.000000000",
          "2021-05-09T00:00:00.000000000",
          "2021-05-10T00:00:00.000000000",
          "2021-05-11T00:00:00.000000000",
          "2021-05-12T00:00:00.000000000",
          "2021-05-13T00:00:00.000000000",
          "2021-05-14T00:00:00.000000000",
          "2021-05-15T00:00:00.000000000",
          "2021-05-16T00:00:00.000000000",
          "2021-05-17T00:00:00.000000000",
          "2021-05-18T00:00:00.000000000",
          "2021-05-19T00:00:00.000000000",
          "2021-05-20T00:00:00.000000000",
          "2021-05-21T00:00:00.000000000",
          "2021-05-22T00:00:00.000000000",
          "2021-05-23T00:00:00.000000000",
          "2021-05-24T00:00:00.000000000",
          "2021-05-25T00:00:00.000000000",
          "2021-05-26T00:00:00.000000000",
          "2021-05-27T00:00:00.000000000",
          "2021-05-28T00:00:00.000000000",
          "2021-05-29T00:00:00.000000000",
          "2021-05-30T00:00:00.000000000",
          "2021-05-31T00:00:00.000000000",
          "2021-06-01T00:00:00.000000000",
          "2021-06-02T00:00:00.000000000",
          "2021-06-03T00:00:00.000000000",
          "2021-06-04T00:00:00.000000000",
          "2021-06-05T00:00:00.000000000",
          "2021-06-06T00:00:00.000000000",
          "2021-06-07T00:00:00.000000000",
          "2021-06-08T00:00:00.000000000",
          "2021-06-09T00:00:00.000000000",
          "2021-06-10T00:00:00.000000000",
          "2021-06-11T00:00:00.000000000",
          "2021-06-12T00:00:00.000000000",
          "2021-06-13T00:00:00.000000000",
          "2021-06-14T00:00:00.000000000",
          "2021-06-15T00:00:00.000000000",
          "2021-06-16T00:00:00.000000000",
          "2021-06-17T00:00:00.000000000",
          "2021-06-18T00:00:00.000000000",
          "2021-06-19T00:00:00.000000000",
          "2021-06-20T00:00:00.000000000",
          "2021-06-21T00:00:00.000000000",
          "2021-06-22T00:00:00.000000000",
          "2021-06-23T00:00:00.000000000",
          "2021-06-24T00:00:00.000000000",
          "2021-06-25T00:00:00.000000000",
          "2021-06-26T00:00:00.000000000",
          "2021-06-27T00:00:00.000000000",
          "2021-06-28T00:00:00.000000000",
          "2021-06-29T00:00:00.000000000",
          "2021-06-30T00:00:00.000000000",
          "2021-07-01T00:00:00.000000000",
          "2021-07-02T00:00:00.000000000",
          "2021-07-03T00:00:00.000000000",
          "2021-07-04T00:00:00.000000000",
          "2021-07-05T00:00:00.000000000",
          "2021-07-06T00:00:00.000000000",
          "2021-07-07T00:00:00.000000000",
          "2021-07-08T00:00:00.000000000",
          "2021-07-09T00:00:00.000000000",
          "2021-07-10T00:00:00.000000000",
          "2021-07-11T00:00:00.000000000",
          "2021-07-12T00:00:00.000000000",
          "2021-07-13T00:00:00.000000000",
          "2021-07-14T00:00:00.000000000",
          "2021-07-15T00:00:00.000000000",
          "2021-07-16T00:00:00.000000000",
          "2021-07-17T00:00:00.000000000",
          "2021-07-18T00:00:00.000000000",
          "2021-07-19T00:00:00.000000000",
          "2021-07-20T00:00:00.000000000",
          "2021-07-21T00:00:00.000000000",
          "2021-07-22T00:00:00.000000000",
          "2021-07-23T00:00:00.000000000",
          "2021-07-24T00:00:00.000000000",
          "2021-07-25T00:00:00.000000000",
          "2021-07-26T00:00:00.000000000",
          "2021-07-27T00:00:00.000000000",
          "2021-07-28T00:00:00.000000000",
          "2021-07-29T00:00:00.000000000",
          "2021-07-30T00:00:00.000000000",
          "2021-07-31T00:00:00.000000000",
          "2021-08-01T00:00:00.000000000",
          "2021-08-02T00:00:00.000000000",
          "2021-08-03T00:00:00.000000000",
          "2021-08-04T00:00:00.000000000",
          "2021-08-05T00:00:00.000000000",
          "2021-08-06T00:00:00.000000000",
          "2021-08-07T00:00:00.000000000",
          "2021-08-08T00:00:00.000000000",
          "2021-08-09T00:00:00.000000000",
          "2021-08-10T00:00:00.000000000",
          "2021-08-11T00:00:00.000000000",
          "2021-08-12T00:00:00.000000000",
          "2021-08-13T00:00:00.000000000",
          "2021-08-14T00:00:00.000000000",
          "2021-08-15T00:00:00.000000000",
          "2021-08-16T00:00:00.000000000",
          "2021-08-17T00:00:00.000000000",
          "2021-08-18T00:00:00.000000000",
          "2021-08-19T00:00:00.000000000",
          "2021-08-20T00:00:00.000000000",
          "2021-08-21T00:00:00.000000000",
          "2021-08-22T00:00:00.000000000",
          "2021-08-23T00:00:00.000000000",
          "2021-08-24T00:00:00.000000000",
          "2021-08-25T00:00:00.000000000",
          "2021-08-26T00:00:00.000000000",
          "2021-08-27T00:00:00.000000000",
          "2021-08-28T00:00:00.000000000",
          "2021-08-29T00:00:00.000000000",
          "2021-08-30T00:00:00.000000000",
          "2021-08-31T00:00:00.000000000",
          "2021-09-01T00:00:00.000000000",
          "2021-09-02T00:00:00.000000000",
          "2021-09-03T00:00:00.000000000",
          "2021-09-04T00:00:00.000000000",
          "2021-09-05T00:00:00.000000000",
          "2021-09-06T00:00:00.000000000",
          "2021-09-07T00:00:00.000000000",
          "2021-09-08T00:00:00.000000000",
          "2021-09-09T00:00:00.000000000",
          "2021-09-10T00:00:00.000000000",
          "2021-09-11T00:00:00.000000000",
          "2021-09-12T00:00:00.000000000",
          "2021-09-13T00:00:00.000000000",
          "2021-09-14T00:00:00.000000000",
          "2021-09-15T00:00:00.000000000",
          "2021-09-16T00:00:00.000000000",
          "2021-09-17T00:00:00.000000000",
          "2021-09-18T00:00:00.000000000",
          "2021-09-19T00:00:00.000000000",
          "2021-09-20T00:00:00.000000000",
          "2021-09-21T00:00:00.000000000",
          "2021-09-22T00:00:00.000000000",
          "2021-09-23T00:00:00.000000000",
          "2021-09-24T00:00:00.000000000",
          "2021-09-25T00:00:00.000000000",
          "2021-09-26T00:00:00.000000000",
          "2021-09-27T00:00:00.000000000",
          "2021-09-28T00:00:00.000000000",
          "2021-09-29T00:00:00.000000000",
          "2021-09-30T00:00:00.000000000",
          "2021-10-01T00:00:00.000000000",
          "2021-10-02T00:00:00.000000000",
          "2021-10-03T00:00:00.000000000",
          "2021-10-04T00:00:00.000000000",
          "2021-10-05T00:00:00.000000000",
          "2021-10-06T00:00:00.000000000",
          "2021-10-07T00:00:00.000000000",
          "2021-10-08T00:00:00.000000000",
          "2021-10-09T00:00:00.000000000",
          "2021-10-10T00:00:00.000000000",
          "2021-10-11T00:00:00.000000000",
          "2021-10-12T00:00:00.000000000",
          "2021-10-13T00:00:00.000000000",
          "2021-10-14T00:00:00.000000000",
          "2021-10-15T00:00:00.000000000",
          "2021-10-16T00:00:00.000000000",
          "2021-10-17T00:00:00.000000000",
          "2021-10-18T00:00:00.000000000",
          "2021-10-19T00:00:00.000000000",
          "2021-10-20T00:00:00.000000000",
          "2021-10-21T00:00:00.000000000",
          "2021-10-22T00:00:00.000000000",
          "2021-10-23T00:00:00.000000000",
          "2021-10-24T00:00:00.000000000",
          "2021-10-25T00:00:00.000000000",
          "2021-10-26T00:00:00.000000000",
          "2021-10-27T00:00:00.000000000",
          "2021-10-28T00:00:00.000000000",
          "2021-10-29T00:00:00.000000000",
          "2021-10-30T00:00:00.000000000",
          "2021-10-31T00:00:00.000000000",
          "2021-11-01T00:00:00.000000000",
          "2021-11-02T00:00:00.000000000",
          "2021-11-03T00:00:00.000000000",
          "2021-11-04T00:00:00.000000000",
          "2021-11-05T00:00:00.000000000",
          "2021-11-06T00:00:00.000000000",
          "2021-11-07T00:00:00.000000000",
          "2021-11-08T00:00:00.000000000",
          "2021-11-09T00:00:00.000000000",
          "2021-11-10T00:00:00.000000000",
          "2021-11-11T00:00:00.000000000",
          "2021-11-12T00:00:00.000000000",
          "2021-11-13T00:00:00.000000000",
          "2021-11-14T00:00:00.000000000",
          "2021-11-15T00:00:00.000000000",
          "2021-11-16T00:00:00.000000000",
          "2021-11-17T00:00:00.000000000",
          "2021-11-18T00:00:00.000000000",
          "2021-11-19T00:00:00.000000000",
          "2021-11-20T00:00:00.000000000",
          "2021-11-21T00:00:00.000000000",
          "2021-11-22T00:00:00.000000000",
          "2021-11-23T00:00:00.000000000",
          "2021-11-24T00:00:00.000000000",
          "2021-11-25T00:00:00.000000000",
          "2021-11-26T00:00:00.000000000",
          "2021-11-27T00:00:00.000000000",
          "2021-11-28T00:00:00.000000000",
          "2021-11-29T00:00:00.000000000",
          "2021-11-30T00:00:00.000000000",
          "2021-12-01T00:00:00.000000000",
          "2021-12-02T00:00:00.000000000",
          "2021-12-03T00:00:00.000000000",
          "2021-12-04T00:00:00.000000000",
          "2021-12-05T00:00:00.000000000"
         ],
         "y": {
          "bdata": "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",
          "dtype": "f8"
         }
        },
        {
         "name": "Data values",
         "type": "scatter",
         "x": [
          "2019-01-02T00:00:00.000000000",
          "2019-01-03T00:00:00.000000000",
          "2019-01-04T00:00:00.000000000",
          "2019-01-05T00:00:00.000000000",
          "2019-01-06T00:00:00.000000000",
          "2019-01-07T00:00:00.000000000",
          "2019-01-08T00:00:00.000000000",
          "2019-01-09T00:00:00.000000000",
          "2019-01-10T00:00:00.000000000",
          "2019-01-11T00:00:00.000000000",
          "2019-01-12T00:00:00.000000000",
          "2019-01-13T00:00:00.000000000",
          "2019-01-14T00:00:00.000000000",
          "2019-01-15T00:00:00.000000000",
          "2019-01-16T00:00:00.000000000",
          "2019-01-17T00:00:00.000000000",
          "2019-01-18T00:00:00.000000000",
          "2019-01-19T00:00:00.000000000",
          "2019-01-20T00:00:00.000000000",
          "2019-01-21T00:00:00.000000000",
          "2019-01-22T00:00:00.000000000",
          "2019-01-23T00:00:00.000000000",
          "2019-01-24T00:00:00.000000000",
          "2019-01-25T00:00:00.000000000",
          "2019-01-26T00:00:00.000000000",
          "2019-01-27T00:00:00.000000000",
          "2019-01-28T00:00:00.000000000",
          "2019-01-29T00:00:00.000000000",
          "2019-01-30T00:00:00.000000000",
          "2019-01-31T00:00:00.000000000",
          "2019-02-02T00:00:00.000000000",
          "2019-02-03T00:00:00.000000000",
          "2019-02-04T00:00:00.000000000",
          "2019-02-05T00:00:00.000000000",
          "2019-02-06T00:00:00.000000000",
          "2019-02-07T00:00:00.000000000",
          "2019-02-08T00:00:00.000000000",
          "2019-02-09T00:00:00.000000000",
          "2019-02-10T00:00:00.000000000",
          "2019-02-11T00:00:00.000000000",
          "2019-02-12T00:00:00.000000000",
          "2019-02-13T00:00:00.000000000",
          "2019-02-14T00:00:00.000000000",
          "2019-02-15T00:00:00.000000000",
          "2019-02-16T00:00:00.000000000",
          "2019-02-17T00:00:00.000000000",
          "2019-02-18T00:00:00.000000000",
          "2019-02-19T00:00:00.000000000",
          "2019-02-20T00:00:00.000000000",
          "2019-02-21T00:00:00.000000000",
          "2019-02-22T00:00:00.000000000",
          "2019-02-23T00:00:00.000000000",
          "2019-02-24T00:00:00.000000000",
          "2019-02-25T00:00:00.000000000",
          "2019-02-26T00:00:00.000000000",
          "2019-02-27T00:00:00.000000000",
          "2019-02-28T00:00:00.000000000",
          "2019-03-02T00:00:00.000000000",
          "2019-03-03T00:00:00.000000000",
          "2019-03-04T00:00:00.000000000",
          "2019-03-05T00:00:00.000000000",
          "2019-03-06T00:00:00.000000000",
          "2019-03-07T00:00:00.000000000",
          "2019-03-08T00:00:00.000000000",
          "2019-03-09T00:00:00.000000000",
          "2019-03-10T00:00:00.000000000",
          "2019-03-11T00:00:00.000000000",
          "2019-03-12T00:00:00.000000000",
          "2019-03-13T00:00:00.000000000",
          "2019-03-14T00:00:00.000000000",
          "2019-03-15T00:00:00.000000000",
          "2019-03-16T00:00:00.000000000",
          "2019-03-17T00:00:00.000000000",
          "2019-03-18T00:00:00.000000000",
          "2019-03-19T00:00:00.000000000",
          "2019-03-20T00:00:00.000000000",
          "2019-03-21T00:00:00.000000000",
          "2019-03-22T00:00:00.000000000",
          "2019-03-23T00:00:00.000000000",
          "2019-03-24T00:00:00.000000000",
          "2019-03-25T00:00:00.000000000",
          "2019-03-26T00:00:00.000000000",
          "2019-03-27T00:00:00.000000000",
          "2019-03-28T00:00:00.000000000",
          "2019-03-29T00:00:00.000000000",
          "2019-03-30T00:00:00.000000000",
          "2019-03-31T00:00:00.000000000",
          "2019-04-02T00:00:00.000000000",
          "2019-04-03T00:00:00.000000000",
          "2019-04-04T00:00:00.000000000",
          "2019-04-05T00:00:00.000000000",
          "2019-04-06T00:00:00.000000000",
          "2019-04-07T00:00:00.000000000",
          "2019-04-08T00:00:00.000000000",
          "2019-04-09T00:00:00.000000000",
          "2019-04-10T00:00:00.000000000",
          "2019-04-11T00:00:00.000000000",
          "2019-04-12T00:00:00.000000000",
          "2019-04-13T00:00:00.000000000",
          "2019-04-14T00:00:00.000000000",
          "2019-04-15T00:00:00.000000000",
          "2019-04-16T00:00:00.000000000",
          "2019-04-17T00:00:00.000000000",
          "2019-04-18T00:00:00.000000000",
          "2019-04-19T00:00:00.000000000",
          "2019-04-20T00:00:00.000000000",
          "2019-04-21T00:00:00.000000000",
          "2019-04-22T00:00:00.000000000",
          "2019-04-23T00:00:00.000000000",
          "2019-04-24T00:00:00.000000000",
          "2019-04-25T00:00:00.000000000",
          "2019-04-26T00:00:00.000000000",
          "2019-04-27T00:00:00.000000000",
          "2019-04-28T00:00:00.000000000",
          "2019-04-29T00:00:00.000000000",
          "2019-04-30T00:00:00.000000000",
          "2019-05-02T00:00:00.000000000",
          "2019-05-03T00:00:00.000000000",
          "2019-05-04T00:00:00.000000000",
          "2019-05-05T00:00:00.000000000",
          "2019-05-06T00:00:00.000000000",
          "2019-05-07T00:00:00.000000000",
          "2019-05-08T00:00:00.000000000",
          "2019-05-09T00:00:00.000000000",
          "2019-05-10T00:00:00.000000000",
          "2019-05-11T00:00:00.000000000",
          "2019-05-12T00:00:00.000000000",
          "2019-05-13T00:00:00.000000000",
          "2019-05-14T00:00:00.000000000",
          "2019-05-15T00:00:00.000000000",
          "2019-05-16T00:00:00.000000000",
          "2019-05-17T00:00:00.000000000",
          "2019-05-18T00:00:00.000000000",
          "2019-05-19T00:00:00.000000000",
          "2019-05-20T00:00:00.000000000",
          "2019-05-21T00:00:00.000000000",
          "2019-05-22T00:00:00.000000000",
          "2019-05-23T00:00:00.000000000",
          "2019-05-24T00:00:00.000000000",
          "2019-05-25T00:00:00.000000000",
          "2019-05-26T00:00:00.000000000",
          "2019-05-27T00:00:00.000000000",
          "2019-05-28T00:00:00.000000000",
          "2019-05-29T00:00:00.000000000",
          "2019-05-30T00:00:00.000000000",
          "2019-05-31T00:00:00.000000000",
          "2019-06-02T00:00:00.000000000",
          "2019-06-03T00:00:00.000000000",
          "2019-06-04T00:00:00.000000000",
          "2019-06-05T00:00:00.000000000",
          "2019-06-06T00:00:00.000000000",
          "2019-06-07T00:00:00.000000000",
          "2019-06-08T00:00:00.000000000",
          "2019-06-09T00:00:00.000000000",
          "2019-06-10T00:00:00.000000000",
          "2019-06-11T00:00:00.000000000",
          "2019-06-12T00:00:00.000000000",
          "2019-06-13T00:00:00.000000000",
          "2019-06-14T00:00:00.000000000",
          "2019-06-15T00:00:00.000000000",
          "2019-06-16T00:00:00.000000000",
          "2019-06-17T00:00:00.000000000",
          "2019-06-18T00:00:00.000000000",
          "2019-06-19T00:00:00.000000000",
          "2019-06-20T00:00:00.000000000",
          "2019-06-21T00:00:00.000000000",
          "2019-06-22T00:00:00.000000000",
          "2019-06-23T00:00:00.000000000",
          "2019-06-24T00:00:00.000000000",
          "2019-06-25T00:00:00.000000000",
          "2019-06-26T00:00:00.000000000",
          "2019-06-27T00:00:00.000000000",
          "2019-06-28T00:00:00.000000000",
          "2019-06-29T00:00:00.000000000",
          "2019-06-30T00:00:00.000000000",
          "2019-07-01T00:00:00.000000000",
          "2019-07-02T00:00:00.000000000",
          "2019-07-03T00:00:00.000000000",
          "2019-07-04T00:00:00.000000000",
          "2019-07-05T00:00:00.000000000",
          "2019-07-06T00:00:00.000000000",
          "2019-07-07T00:00:00.000000000",
          "2019-07-08T00:00:00.000000000",
          "2019-07-09T00:00:00.000000000",
          "2019-07-10T00:00:00.000000000",
          "2019-07-11T00:00:00.000000000",
          "2019-07-12T00:00:00.000000000",
          "2019-07-13T00:00:00.000000000",
          "2019-07-14T00:00:00.000000000",
          "2019-07-15T00:00:00.000000000",
          "2019-07-16T00:00:00.000000000",
          "2019-07-17T00:00:00.000000000",
          "2019-07-18T00:00:00.000000000",
          "2019-07-19T00:00:00.000000000",
          "2019-07-20T00:00:00.000000000",
          "2019-07-21T00:00:00.000000000",
          "2019-07-22T00:00:00.000000000",
          "2019-07-23T00:00:00.000000000",
          "2019-07-24T00:00:00.000000000",
          "2019-07-25T00:00:00.000000000",
          "2019-07-26T00:00:00.000000000",
          "2019-07-27T00:00:00.000000000",
          "2019-07-28T00:00:00.000000000",
          "2019-07-29T00:00:00.000000000",
          "2019-07-30T00:00:00.000000000",
          "2019-07-31T00:00:00.000000000",
          "2019-08-01T00:00:00.000000000",
          "2019-08-02T00:00:00.000000000",
          "2019-08-03T00:00:00.000000000",
          "2019-08-04T00:00:00.000000000",
          "2019-08-05T00:00:00.000000000",
          "2019-08-06T00:00:00.000000000",
          "2019-08-08T00:00:00.000000000",
          "2019-08-09T00:00:00.000000000",
          "2019-08-10T00:00:00.000000000",
          "2019-08-11T00:00:00.000000000",
          "2019-08-12T00:00:00.000000000",
          "2019-08-13T00:00:00.000000000",
          "2019-08-14T00:00:00.000000000",
          "2019-08-15T00:00:00.000000000",
          "2019-08-16T00:00:00.000000000",
          "2019-08-17T00:00:00.000000000",
          "2019-08-18T00:00:00.000000000",
          "2019-08-19T00:00:00.000000000",
          "2019-08-20T00:00:00.000000000",
          "2019-08-21T00:00:00.000000000",
          "2019-08-22T00:00:00.000000000",
          "2019-08-23T00:00:00.000000000",
          "2019-08-24T00:00:00.000000000",
          "2019-08-25T00:00:00.000000000",
          "2019-08-26T00:00:00.000000000",
          "2019-08-27T00:00:00.000000000",
          "2019-08-28T00:00:00.000000000",
          "2019-08-29T00:00:00.000000000",
          "2019-08-30T00:00:00.000000000",
          "2019-08-31T00:00:00.000000000",
          "2019-09-01T00:00:00.000000000",
          "2019-09-02T00:00:00.000000000",
          "2019-09-03T00:00:00.000000000",
          "2019-09-04T00:00:00.000000000",
          "2019-09-05T00:00:00.000000000",
          "2019-09-06T00:00:00.000000000",
          "2019-09-08T00:00:00.000000000",
          "2019-09-09T00:00:00.000000000",
          "2019-09-10T00:00:00.000000000",
          "2019-09-11T00:00:00.000000000",
          "2019-09-12T00:00:00.000000000",
          "2019-09-13T00:00:00.000000000",
          "2019-09-14T00:00:00.000000000",
          "2019-09-15T00:00:00.000000000",
          "2019-09-16T00:00:00.000000000",
          "2019-09-17T00:00:00.000000000",
          "2019-09-18T00:00:00.000000000",
          "2019-09-19T00:00:00.000000000",
          "2019-09-20T00:00:00.000000000",
          "2019-09-21T00:00:00.000000000",
          "2019-09-22T00:00:00.000000000",
          "2019-09-23T00:00:00.000000000",
          "2019-09-24T00:00:00.000000000",
          "2019-09-25T00:00:00.000000000",
          "2019-09-26T00:00:00.000000000",
          "2019-09-27T00:00:00.000000000",
          "2019-09-28T00:00:00.000000000",
          "2019-09-29T00:00:00.000000000",
          "2019-09-30T00:00:00.000000000",
          "2019-10-01T00:00:00.000000000",
          "2019-10-02T00:00:00.000000000",
          "2019-10-03T00:00:00.000000000",
          "2019-10-04T00:00:00.000000000",
          "2019-10-05T00:00:00.000000000",
          "2019-10-06T00:00:00.000000000",
          "2019-10-08T00:00:00.000000000",
          "2019-10-09T00:00:00.000000000",
          "2019-10-10T00:00:00.000000000",
          "2019-10-11T00:00:00.000000000",
          "2019-10-12T00:00:00.000000000",
          "2019-10-13T00:00:00.000000000",
          "2019-10-14T00:00:00.000000000",
          "2019-10-15T00:00:00.000000000",
          "2019-10-16T00:00:00.000000000",
          "2019-10-17T00:00:00.000000000",
          "2019-10-18T00:00:00.000000000",
          "2019-10-19T00:00:00.000000000",
          "2019-10-20T00:00:00.000000000",
          "2019-10-21T00:00:00.000000000",
          "2019-10-22T00:00:00.000000000",
          "2019-10-23T00:00:00.000000000",
          "2019-10-24T00:00:00.000000000",
          "2019-10-25T00:00:00.000000000",
          "2019-10-26T00:00:00.000000000",
          "2019-10-27T00:00:00.000000000",
          "2019-10-28T00:00:00.000000000",
          "2019-10-29T00:00:00.000000000",
          "2019-10-30T00:00:00.000000000",
          "2019-10-31T00:00:00.000000000",
          "2019-11-01T00:00:00.000000000",
          "2019-11-02T00:00:00.000000000",
          "2019-11-03T00:00:00.000000000",
          "2019-11-04T00:00:00.000000000",
          "2019-11-05T00:00:00.000000000",
          "2019-11-06T00:00:00.000000000",
          "2019-11-08T00:00:00.000000000",
          "2019-11-09T00:00:00.000000000",
          "2019-11-10T00:00:00.000000000",
          "2019-11-11T00:00:00.000000000",
          "2019-11-12T00:00:00.000000000",
          "2019-11-13T00:00:00.000000000",
          "2019-11-14T00:00:00.000000000",
          "2019-11-15T00:00:00.000000000",
          "2019-11-16T00:00:00.000000000",
          "2019-11-17T00:00:00.000000000",
          "2019-11-18T00:00:00.000000000",
          "2019-11-19T00:00:00.000000000",
          "2019-11-20T00:00:00.000000000",
          "2019-11-21T00:00:00.000000000",
          "2019-11-22T00:00:00.000000000",
          "2019-11-23T00:00:00.000000000",
          "2019-11-24T00:00:00.000000000",
          "2019-11-25T00:00:00.000000000",
          "2019-11-26T00:00:00.000000000",
          "2019-11-27T00:00:00.000000000",
          "2019-11-28T00:00:00.000000000",
          "2019-11-29T00:00:00.000000000",
          "2019-11-30T00:00:00.000000000",
          "2019-12-01T00:00:00.000000000",
          "2019-12-02T00:00:00.000000000",
          "2019-12-03T00:00:00.000000000",
          "2019-12-04T00:00:00.000000000",
          "2019-12-05T00:00:00.000000000",
          "2019-12-06T00:00:00.000000000",
          "2019-12-08T00:00:00.000000000",
          "2019-12-09T00:00:00.000000000",
          "2019-12-10T00:00:00.000000000",
          "2019-12-11T00:00:00.000000000",
          "2019-12-12T00:00:00.000000000",
          "2019-12-13T00:00:00.000000000",
          "2019-12-14T00:00:00.000000000",
          "2019-12-15T00:00:00.000000000",
          "2019-12-16T00:00:00.000000000",
          "2019-12-17T00:00:00.000000000",
          "2019-12-18T00:00:00.000000000",
          "2019-12-19T00:00:00.000000000",
          "2019-12-20T00:00:00.000000000",
          "2019-12-21T00:00:00.000000000",
          "2019-12-22T00:00:00.000000000",
          "2019-12-23T00:00:00.000000000",
          "2019-12-24T00:00:00.000000000",
          "2019-12-25T00:00:00.000000000",
          "2019-12-26T00:00:00.000000000",
          "2019-12-27T00:00:00.000000000",
          "2019-12-28T00:00:00.000000000",
          "2019-12-29T00:00:00.000000000",
          "2019-12-30T00:00:00.000000000",
          "2019-12-31T00:00:00.000000000",
          "2020-01-01T00:00:00.000000000",
          "2020-01-02T00:00:00.000000000",
          "2020-01-03T00:00:00.000000000",
          "2020-01-04T00:00:00.000000000",
          "2020-01-05T00:00:00.000000000",
          "2020-01-13T00:00:00.000000000",
          "2020-01-14T00:00:00.000000000",
          "2020-01-15T00:00:00.000000000",
          "2020-01-16T00:00:00.000000000",
          "2020-01-17T00:00:00.000000000",
          "2020-01-18T00:00:00.000000000",
          "2020-01-19T00:00:00.000000000",
          "2020-01-20T00:00:00.000000000",
          "2020-01-21T00:00:00.000000000",
          "2020-01-22T00:00:00.000000000",
          "2020-01-23T00:00:00.000000000",
          "2020-01-24T00:00:00.000000000",
          "2020-01-25T00:00:00.000000000",
          "2020-01-26T00:00:00.000000000",
          "2020-01-27T00:00:00.000000000",
          "2020-01-28T00:00:00.000000000",
          "2020-01-29T00:00:00.000000000",
          "2020-01-30T00:00:00.000000000",
          "2020-01-31T00:00:00.000000000",
          "2020-02-01T00:00:00.000000000",
          "2020-02-02T00:00:00.000000000",
          "2020-02-03T00:00:00.000000000",
          "2020-02-04T00:00:00.000000000",
          "2020-02-05T00:00:00.000000000",
          "2020-02-13T00:00:00.000000000",
          "2020-02-14T00:00:00.000000000",
          "2020-02-15T00:00:00.000000000",
          "2020-02-16T00:00:00.000000000",
          "2020-02-17T00:00:00.000000000",
          "2020-02-18T00:00:00.000000000",
          "2020-02-19T00:00:00.000000000",
          "2020-02-20T00:00:00.000000000",
          "2020-02-21T00:00:00.000000000",
          "2020-02-22T00:00:00.000000000",
          "2020-02-23T00:00:00.000000000",
          "2020-02-24T00:00:00.000000000",
          "2020-02-25T00:00:00.000000000",
          "2020-02-26T00:00:00.000000000",
          "2020-02-27T00:00:00.000000000",
          "2020-02-28T00:00:00.000000000",
          "2020-02-29T00:00:00.000000000",
          "2020-03-01T00:00:00.000000000",
          "2020-03-02T00:00:00.000000000",
          "2020-03-03T00:00:00.000000000",
          "2020-03-04T00:00:00.000000000",
          "2020-03-05T00:00:00.000000000",
          "2020-03-13T00:00:00.000000000",
          "2020-03-14T00:00:00.000000000",
          "2020-03-15T00:00:00.000000000",
          "2020-03-16T00:00:00.000000000",
          "2020-03-17T00:00:00.000000000",
          "2020-03-18T00:00:00.000000000",
          "2020-03-19T00:00:00.000000000",
          "2020-03-20T00:00:00.000000000",
          "2020-03-21T00:00:00.000000000",
          "2020-03-22T00:00:00.000000000",
          "2020-03-23T00:00:00.000000000",
          "2020-03-24T00:00:00.000000000",
          "2020-03-25T00:00:00.000000000",
          "2020-03-26T00:00:00.000000000",
          "2020-03-27T00:00:00.000000000",
          "2020-03-28T00:00:00.000000000",
          "2020-03-29T00:00:00.000000000",
          "2020-03-30T00:00:00.000000000",
          "2020-03-31T00:00:00.000000000",
          "2020-04-01T00:00:00.000000000",
          "2020-04-02T00:00:00.000000000",
          "2020-04-03T00:00:00.000000000",
          "2020-04-04T00:00:00.000000000",
          "2020-04-05T00:00:00.000000000",
          "2020-04-13T00:00:00.000000000",
          "2020-04-14T00:00:00.000000000",
          "2020-04-15T00:00:00.000000000",
          "2020-04-16T00:00:00.000000000",
          "2020-04-17T00:00:00.000000000",
          "2020-04-18T00:00:00.000000000",
          "2020-04-19T00:00:00.000000000",
          "2020-04-20T00:00:00.000000000",
          "2020-04-21T00:00:00.000000000",
          "2020-04-22T00:00:00.000000000",
          "2020-04-23T00:00:00.000000000",
          "2020-04-24T00:00:00.000000000",
          "2020-04-25T00:00:00.000000000",
          "2020-04-26T00:00:00.000000000",
          "2020-04-27T00:00:00.000000000",
          "2020-04-28T00:00:00.000000000",
          "2020-04-29T00:00:00.000000000",
          "2020-04-30T00:00:00.000000000",
          "2020-05-01T00:00:00.000000000",
          "2020-05-02T00:00:00.000000000",
          "2020-05-03T00:00:00.000000000",
          "2020-05-04T00:00:00.000000000",
          "2020-05-05T00:00:00.000000000",
          "2020-05-13T00:00:00.000000000",
          "2020-05-14T00:00:00.000000000",
          "2020-05-15T00:00:00.000000000",
          "2020-05-16T00:00:00.000000000",
          "2020-05-17T00:00:00.000000000",
          "2020-05-18T00:00:00.000000000",
          "2020-05-19T00:00:00.000000000",
          "2020-05-20T00:00:00.000000000",
          "2020-05-21T00:00:00.000000000",
          "2020-05-22T00:00:00.000000000",
          "2020-05-23T00:00:00.000000000",
          "2020-06-01T00:00:00.000000000",
          "2020-06-02T00:00:00.000000000",
          "2020-06-03T00:00:00.000000000",
          "2020-06-04T00:00:00.000000000",
          "2020-06-05T00:00:00.000000000",
          "2020-07-01T00:00:00.000000000",
          "2020-07-02T00:00:00.000000000",
          "2020-07-03T00:00:00.000000000",
          "2020-07-04T00:00:00.000000000",
          "2020-07-05T00:00:00.000000000",
          "2020-08-01T00:00:00.000000000",
          "2020-08-02T00:00:00.000000000",
          "2020-08-03T00:00:00.000000000",
          "2020-08-04T00:00:00.000000000",
          "2020-08-05T00:00:00.000000000",
          "2020-09-01T00:00:00.000000000",
          "2020-09-02T00:00:00.000000000",
          "2020-09-03T00:00:00.000000000",
          "2020-09-04T00:00:00.000000000",
          "2020-09-05T00:00:00.000000000",
          "2020-10-01T00:00:00.000000000",
          "2020-10-02T00:00:00.000000000",
          "2020-10-03T00:00:00.000000000",
          "2020-10-04T00:00:00.000000000",
          "2020-10-05T00:00:00.000000000",
          "2020-11-01T00:00:00.000000000",
          "2020-11-02T00:00:00.000000000",
          "2020-11-03T00:00:00.000000000",
          "2020-11-04T00:00:00.000000000",
          "2020-11-05T00:00:00.000000000",
          "2020-12-01T00:00:00.000000000",
          "2020-12-02T00:00:00.000000000",
          "2020-12-03T00:00:00.000000000",
          "2020-12-04T00:00:00.000000000",
          "2020-12-05T00:00:00.000000000"
         ],
         "y": {
          "bdata": "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",
          "dtype": "f8"
         }
        }
       ],
       "layout": {
        "template": {
         "data": {
          "bar": [
           {
            "error_x": {
             "color": "#2a3f5f"
            },
            "error_y": {
             "color": "#2a3f5f"
            },
            "marker": {
             "line": {
              "color": "#E5ECF6",
              "width": 0.5
             },
             "pattern": {
              "fillmode": "overlay",
              "size": 10,
              "solidity": 0.2
             }
            },
            "type": "bar"
           }
          ],
          "barpolar": [
           {
            "marker": {
             "line": {
              "color": "#E5ECF6",
              "width": 0.5
             },
             "pattern": {
              "fillmode": "overlay",
              "size": 10,
              "solidity": 0.2
             }
            },
            "type": "barpolar"
           }
          ],
          "carpet": [
           {
            "aaxis": {
             "endlinecolor": "#2a3f5f",
             "gridcolor": "white",
             "linecolor": "white",
             "minorgridcolor": "white",
             "startlinecolor": "#2a3f5f"
            },
            "baxis": {
             "endlinecolor": "#2a3f5f",
             "gridcolor": "white",
             "linecolor": "white",
             "minorgridcolor": "white",
             "startlinecolor": "#2a3f5f"
            },
            "type": "carpet"
           }
          ],
          "choropleth": [
           {
            "colorbar": {
             "outlinewidth": 0,
             "ticks": ""
            },
            "type": "choropleth"
           }
          ],
          "contour": [
           {
            "colorbar": {
             "outlinewidth": 0,
             "ticks": ""
            },
            "colorscale": [
             [
              0,
              "#0d0887"
             ],
             [
              0.1111111111111111,
              "#46039f"
             ],
             [
              0.2222222222222222,
              "#7201a8"
             ],
             [
              0.3333333333333333,
              "#9c179e"
             ],
             [
              0.4444444444444444,
              "#bd3786"
             ],
             [
              0.5555555555555556,
              "#d8576b"
             ],
             [
              0.6666666666666666,
              "#ed7953"
             ],
             [
              0.7777777777777778,
              "#fb9f3a"
             ],
             [
              0.8888888888888888,
              "#fdca26"
             ],
             [
              1,
              "#f0f921"
             ]
            ],
            "type": "contour"
           }
          ],
          "contourcarpet": [
           {
            "colorbar": {
             "outlinewidth": 0,
             "ticks": ""
            },
            "type": "contourcarpet"
           }
          ],
          "heatmap": [
           {
            "colorbar": {
             "outlinewidth": 0,
             "ticks": ""
            },
            "colorscale": [
             [
              0,
              "#0d0887"
             ],
             [
              0.1111111111111111,
              "#46039f"
             ],
             [
              0.2222222222222222,
              "#7201a8"
             ],
             [
              0.3333333333333333,
              "#9c179e"
             ],
             [
              0.4444444444444444,
              "#bd3786"
             ],
             [
              0.5555555555555556,
              "#d8576b"
             ],
             [
              0.6666666666666666,
              "#ed7953"
             ],
             [
              0.7777777777777778,
              "#fb9f3a"
             ],
             [
              0.8888888888888888,
              "#fdca26"
             ],
             [
              1,
              "#f0f921"
             ]
            ],
            "type": "heatmap"
           }
          ],
          "histogram": [
           {
            "marker": {
             "pattern": {
              "fillmode": "overlay",
              "size": 10,
              "solidity": 0.2
             }
            },
            "type": "histogram"
           }
          ],
          "histogram2d": [
           {
            "colorbar": {
             "outlinewidth": 0,
             "ticks": ""
            },
            "colorscale": [
             [
              0,
              "#0d0887"
             ],
             [
              0.1111111111111111,
              "#46039f"
             ],
             [
              0.2222222222222222,
              "#7201a8"
             ],
             [
              0.3333333333333333,
              "#9c179e"
             ],
             [
              0.4444444444444444,
              "#bd3786"
             ],
             [
              0.5555555555555556,
              "#d8576b"
             ],
             [
              0.6666666666666666,
              "#ed7953"
             ],
             [
              0.7777777777777778,
              "#fb9f3a"
             ],
             [
              0.8888888888888888,
              "#fdca26"
             ],
             [
              1,
              "#f0f921"
             ]
            ],
            "type": "histogram2d"
           }
          ],
          "histogram2dcontour": [
           {
            "colorbar": {
             "outlinewidth": 0,
             "ticks": ""
            },
            "colorscale": [
             [
              0,
              "#0d0887"
             ],
             [
              0.1111111111111111,
              "#46039f"
             ],
             [
              0.2222222222222222,
              "#7201a8"
             ],
             [
              0.3333333333333333,
              "#9c179e"
             ],
             [
              0.4444444444444444,
              "#bd3786"
             ],
             [
              0.5555555555555556,
              "#d8576b"
             ],
             [
              0.6666666666666666,
              "#ed7953"
             ],
             [
              0.7777777777777778,
              "#fb9f3a"
             ],
             [
              0.8888888888888888,
              "#fdca26"
             ],
             [
              1,
              "#f0f921"
             ]
            ],
            "type": "histogram2dcontour"
           }
          ],
          "mesh3d": [
           {
            "colorbar": {
             "outlinewidth": 0,
             "ticks": ""
            },
            "type": "mesh3d"
           }
          ],
          "parcoords": [
           {
            "line": {
             "colorbar": {
              "outlinewidth": 0,
              "ticks": ""
             }
            },
            "type": "parcoords"
           }
          ],
          "pie": [
           {
            "automargin": true,
            "type": "pie"
           }
          ],
          "scatter": [
           {
            "fillpattern": {
             "fillmode": "overlay",
             "size": 10,
             "solidity": 0.2
            },
            "type": "scatter"
           }
          ],
          "scatter3d": [
           {
            "line": {
             "colorbar": {
              "outlinewidth": 0,
              "ticks": ""
             }
            },
            "marker": {
             "colorbar": {
              "outlinewidth": 0,
              "ticks": ""
             }
            },
            "type": "scatter3d"
           }
          ],
          "scattercarpet": [
           {
            "marker": {
             "colorbar": {
              "outlinewidth": 0,
              "ticks": ""
             }
            },
            "type": "scattercarpet"
           }
          ],
          "scattergeo": [
           {
            "marker": {
             "colorbar": {
              "outlinewidth": 0,
              "ticks": ""
             }
            },
            "type": "scattergeo"
           }
          ],
          "scattergl": [
           {
            "marker": {
             "colorbar": {
              "outlinewidth": 0,
              "ticks": ""
             }
            },
            "type": "scattergl"
           }
          ],
          "scattermap": [
           {
            "marker": {
             "colorbar": {
              "outlinewidth": 0,
              "ticks": ""
             }
            },
            "type": "scattermap"
           }
          ],
          "scattermapbox": [
           {
            "marker": {
             "colorbar": {
              "outlinewidth": 0,
              "ticks": ""
             }
            },
            "type": "scattermapbox"
           }
          ],
          "scatterpolar": [
           {
            "marker": {
             "colorbar": {
              "outlinewidth": 0,
              "ticks": ""
             }
            },
            "type": "scatterpolar"
           }
          ],
          "scatterpolargl": [
           {
            "marker": {
             "colorbar": {
              "outlinewidth": 0,
              "ticks": ""
             }
            },
            "type": "scatterpolargl"
           }
          ],
          "scatterternary": [
           {
            "marker": {
             "colorbar": {
              "outlinewidth": 0,
              "ticks": ""
             }
            },
            "type": "scatterternary"
           }
          ],
          "surface": [
           {
            "colorbar": {
             "outlinewidth": 0,
             "ticks": ""
            },
            "colorscale": [
             [
              0,
              "#0d0887"
             ],
             [
              0.1111111111111111,
              "#46039f"
             ],
             [
              0.2222222222222222,
              "#7201a8"
             ],
             [
              0.3333333333333333,
              "#9c179e"
             ],
             [
              0.4444444444444444,
              "#bd3786"
             ],
             [
              0.5555555555555556,
              "#d8576b"
             ],
             [
              0.6666666666666666,
              "#ed7953"
             ],
             [
              0.7777777777777778,
              "#fb9f3a"
             ],
             [
              0.8888888888888888,
              "#fdca26"
             ],
             [
              1,
              "#f0f921"
             ]
            ],
            "type": "surface"
           }
          ],
          "table": [
           {
            "cells": {
             "fill": {
              "color": "#EBF0F8"
             },
             "line": {
              "color": "white"
             }
            },
            "header": {
             "fill": {
              "color": "#C8D4E3"
             },
             "line": {
              "color": "white"
             }
            },
            "type": "table"
           }
          ]
         },
         "layout": {
          "annotationdefaults": {
           "arrowcolor": "#2a3f5f",
           "arrowhead": 0,
           "arrowwidth": 1
          },
          "autotypenumbers": "strict",
          "coloraxis": {
           "colorbar": {
            "outlinewidth": 0,
            "ticks": ""
           }
          },
          "colorscale": {
           "diverging": [
            [
             0,
             "#8e0152"
            ],
            [
             0.1,
             "#c51b7d"
            ],
            [
             0.2,
             "#de77ae"
            ],
            [
             0.3,
             "#f1b6da"
            ],
            [
             0.4,
             "#fde0ef"
            ],
            [
             0.5,
             "#f7f7f7"
            ],
            [
             0.6,
             "#e6f5d0"
            ],
            [
             0.7,
             "#b8e186"
            ],
            [
             0.8,
             "#7fbc41"
            ],
            [
             0.9,
             "#4d9221"
            ],
            [
             1,
             "#276419"
            ]
           ],
           "sequential": [
            [
             0,
             "#0d0887"
            ],
            [
             0.1111111111111111,
             "#46039f"
            ],
            [
             0.2222222222222222,
             "#7201a8"
            ],
            [
             0.3333333333333333,
             "#9c179e"
            ],
            [
             0.4444444444444444,
             "#bd3786"
            ],
            [
             0.5555555555555556,
             "#d8576b"
            ],
            [
             0.6666666666666666,
             "#ed7953"
            ],
            [
             0.7777777777777778,
             "#fb9f3a"
            ],
            [
             0.8888888888888888,
             "#fdca26"
            ],
            [
             1,
             "#f0f921"
            ]
           ],
           "sequentialminus": [
            [
             0,
             "#0d0887"
            ],
            [
             0.1111111111111111,
             "#46039f"
            ],
            [
             0.2222222222222222,
             "#7201a8"
            ],
            [
             0.3333333333333333,
             "#9c179e"
            ],
            [
             0.4444444444444444,
             "#bd3786"
            ],
            [
             0.5555555555555556,
             "#d8576b"
            ],
            [
             0.6666666666666666,
             "#ed7953"
            ],
            [
             0.7777777777777778,
             "#fb9f3a"
            ],
            [
             0.8888888888888888,
             "#fdca26"
            ],
            [
             1,
             "#f0f921"
            ]
           ]
          },
          "colorway": [
           "#636efa",
           "#EF553B",
           "#00cc96",
           "#ab63fa",
           "#FFA15A",
           "#19d3f3",
           "#FF6692",
           "#B6E880",
           "#FF97FF",
           "#FECB52"
          ],
          "font": {
           "color": "#2a3f5f"
          },
          "geo": {
           "bgcolor": "white",
           "lakecolor": "white",
           "landcolor": "#E5ECF6",
           "showlakes": true,
           "showland": true,
           "subunitcolor": "white"
          },
          "hoverlabel": {
           "align": "left"
          },
          "hovermode": "closest",
          "mapbox": {
           "style": "light"
          },
          "paper_bgcolor": "white",
          "plot_bgcolor": "#E5ECF6",
          "polar": {
           "angularaxis": {
            "gridcolor": "white",
            "linecolor": "white",
            "ticks": ""
           },
           "bgcolor": "#E5ECF6",
           "radialaxis": {
            "gridcolor": "white",
            "linecolor": "white",
            "ticks": ""
           }
          },
          "scene": {
           "xaxis": {
            "backgroundcolor": "#E5ECF6",
            "gridcolor": "white",
            "gridwidth": 2,
            "linecolor": "white",
            "showbackground": true,
            "ticks": "",
            "zerolinecolor": "white"
           },
           "yaxis": {
            "backgroundcolor": "#E5ECF6",
            "gridcolor": "white",
            "gridwidth": 2,
            "linecolor": "white",
            "showbackground": true,
            "ticks": "",
            "zerolinecolor": "white"
           },
           "zaxis": {
            "backgroundcolor": "#E5ECF6",
            "gridcolor": "white",
            "gridwidth": 2,
            "linecolor": "white",
            "showbackground": true,
            "ticks": "",
            "zerolinecolor": "white"
           }
          },
          "shapedefaults": {
           "line": {
            "color": "#2a3f5f"
           }
          },
          "ternary": {
           "aaxis": {
            "gridcolor": "white",
            "linecolor": "white",
            "ticks": ""
           },
           "baxis": {
            "gridcolor": "white",
            "linecolor": "white",
            "ticks": ""
           },
           "bgcolor": "#E5ECF6",
           "caxis": {
            "gridcolor": "white",
            "linecolor": "white",
            "ticks": ""
           }
          },
          "title": {
           "x": 0.05
          },
          "xaxis": {
           "automargin": true,
           "gridcolor": "white",
           "linecolor": "white",
           "ticks": "",
           "title": {
            "standoff": 15
           },
           "zerolinecolor": "white",
           "zerolinewidth": 2
          },
          "yaxis": {
           "automargin": true,
           "gridcolor": "white",
           "linecolor": "white",
           "ticks": "",
           "title": {
            "standoff": 15
           },
           "zerolinecolor": "white",
           "zerolinewidth": 2
          }
         }
        }
       }
      }
     },
     "metadata": {},
     "output_type": "display_data"
    }
   ],
   "source": [
    "# plot the predictions and the optimazations using scatter trace\n",
    "trace_open = go.Scatter(\n",
    "    x = prediction[\"ds\"],\n",
    "    y = prediction[\"yhat\"],\n",
    "    mode = 'lines',\n",
    "    name=\"Forecast\"\n",
    ")\n",
    "trace_high = go.Scatter(\n",
    "    x = prediction[\"ds\"],\n",
    "    y = prediction[\"yhat_upper\"],\n",
    "    mode = 'lines',\n",
    "    fill = \"tonexty\", \n",
    "    line = {\"color\": \"#57b8ff\"}, \n",
    "    name=\"Higher uncertainty interval\"\n",
    ")\n",
    "trace_low = go.Scatter(\n",
    "    x = prediction[\"ds\"],\n",
    "    y = prediction[\"yhat_lower\"],\n",
    "    mode = 'lines',\n",
    "    fill = \"tonexty\", \n",
    "    line = {\"color\": \"#57b8ff\"}, \n",
    "    name=\"Lower uncertainty interval\"\n",
    ")\n",
    "trace_close = go.Scatter(\n",
    "    x = df[\"ds\"],\n",
    "    y = df[\"y\"],\n",
    "    name=\"Data values\"\n",
    ")\n",
    "\n",
    "#make list for all three scattle objects.\n",
    "data = [trace_open,trace_high,trace_low,trace_close]\n",
    "\n",
    "# Construct a new Layout object. \n",
    "layout = go.Layout(title=\"Power consumption forecasting\")\n",
    "\n",
    "fig = go.Figure(data=data)\n",
    "fig.show()"
   ]
  },
  {
   "cell_type": "markdown",
   "id": "77442185",
   "metadata": {},
   "source": [
    "plot the actual vs predicted values without optimization"
   ]
  },
  {
   "cell_type": "code",
   "execution_count": null,
   "id": "cca0d2db",
   "metadata": {},
   "outputs": [
    {
     "data": {
      "application/vnd.plotly.v1+json": {
       "config": {
        "plotlyServerURL": "https://plot.ly"
       },
       "data": [
        {
         "mode": "lines",
         "name": "Actual",
         "type": "scatter",
         "x": [
          "2019-01-02T00:00:00.000000000",
          "2019-01-03T00:00:00.000000000",
          "2019-01-04T00:00:00.000000000",
          "2019-01-05T00:00:00.000000000",
          "2019-01-06T00:00:00.000000000",
          "2019-01-07T00:00:00.000000000",
          "2019-01-08T00:00:00.000000000",
          "2019-01-09T00:00:00.000000000",
          "2019-01-10T00:00:00.000000000",
          "2019-01-11T00:00:00.000000000",
          "2019-01-12T00:00:00.000000000",
          "2019-01-13T00:00:00.000000000",
          "2019-01-14T00:00:00.000000000",
          "2019-01-15T00:00:00.000000000",
          "2019-01-16T00:00:00.000000000",
          "2019-01-17T00:00:00.000000000",
          "2019-01-18T00:00:00.000000000",
          "2019-01-19T00:00:00.000000000",
          "2019-01-20T00:00:00.000000000",
          "2019-01-21T00:00:00.000000000",
          "2019-01-22T00:00:00.000000000",
          "2019-01-23T00:00:00.000000000",
          "2019-01-24T00:00:00.000000000",
          "2019-01-25T00:00:00.000000000",
          "2019-01-26T00:00:00.000000000",
          "2019-01-27T00:00:00.000000000",
          "2019-01-28T00:00:00.000000000",
          "2019-01-29T00:00:00.000000000",
          "2019-01-30T00:00:00.000000000",
          "2019-01-31T00:00:00.000000000",
          "2019-02-02T00:00:00.000000000",
          "2019-02-03T00:00:00.000000000",
          "2019-02-04T00:00:00.000000000",
          "2019-02-05T00:00:00.000000000",
          "2019-02-06T00:00:00.000000000",
          "2019-02-07T00:00:00.000000000",
          "2019-02-08T00:00:00.000000000",
          "2019-02-09T00:00:00.000000000",
          "2019-02-10T00:00:00.000000000",
          "2019-02-11T00:00:00.000000000",
          "2019-02-12T00:00:00.000000000",
          "2019-02-13T00:00:00.000000000",
          "2019-02-14T00:00:00.000000000",
          "2019-02-15T00:00:00.000000000",
          "2019-02-16T00:00:00.000000000",
          "2019-02-17T00:00:00.000000000",
          "2019-02-18T00:00:00.000000000",
          "2019-02-19T00:00:00.000000000",
          "2019-02-20T00:00:00.000000000",
          "2019-02-21T00:00:00.000000000",
          "2019-02-22T00:00:00.000000000",
          "2019-02-23T00:00:00.000000000",
          "2019-02-24T00:00:00.000000000",
          "2019-02-25T00:00:00.000000000",
          "2019-02-26T00:00:00.000000000",
          "2019-02-27T00:00:00.000000000",
          "2019-02-28T00:00:00.000000000",
          "2019-03-02T00:00:00.000000000",
          "2019-03-03T00:00:00.000000000",
          "2019-03-04T00:00:00.000000000",
          "2019-03-05T00:00:00.000000000",
          "2019-03-06T00:00:00.000000000",
          "2019-03-07T00:00:00.000000000",
          "2019-03-08T00:00:00.000000000",
          "2019-03-09T00:00:00.000000000",
          "2019-03-10T00:00:00.000000000",
          "2019-03-11T00:00:00.000000000",
          "2019-03-12T00:00:00.000000000",
          "2019-03-13T00:00:00.000000000",
          "2019-03-14T00:00:00.000000000",
          "2019-03-15T00:00:00.000000000",
          "2019-03-16T00:00:00.000000000",
          "2019-03-17T00:00:00.000000000",
          "2019-03-18T00:00:00.000000000",
          "2019-03-19T00:00:00.000000000",
          "2019-03-20T00:00:00.000000000",
          "2019-03-21T00:00:00.000000000",
          "2019-03-22T00:00:00.000000000",
          "2019-03-23T00:00:00.000000000",
          "2019-03-24T00:00:00.000000000",
          "2019-03-25T00:00:00.000000000",
          "2019-03-26T00:00:00.000000000",
          "2019-03-27T00:00:00.000000000",
          "2019-03-28T00:00:00.000000000",
          "2019-03-29T00:00:00.000000000",
          "2019-03-30T00:00:00.000000000",
          "2019-03-31T00:00:00.000000000",
          "2019-04-02T00:00:00.000000000",
          "2019-04-03T00:00:00.000000000",
          "2019-04-04T00:00:00.000000000",
          "2019-04-05T00:00:00.000000000",
          "2019-04-06T00:00:00.000000000",
          "2019-04-07T00:00:00.000000000",
          "2019-04-08T00:00:00.000000000",
          "2019-04-09T00:00:00.000000000",
          "2019-04-10T00:00:00.000000000",
          "2019-04-11T00:00:00.000000000",
          "2019-04-12T00:00:00.000000000",
          "2019-04-13T00:00:00.000000000",
          "2019-04-14T00:00:00.000000000",
          "2019-04-15T00:00:00.000000000",
          "2019-04-16T00:00:00.000000000",
          "2019-04-17T00:00:00.000000000",
          "2019-04-18T00:00:00.000000000",
          "2019-04-19T00:00:00.000000000",
          "2019-04-20T00:00:00.000000000",
          "2019-04-21T00:00:00.000000000",
          "2019-04-22T00:00:00.000000000",
          "2019-04-23T00:00:00.000000000",
          "2019-04-24T00:00:00.000000000",
          "2019-04-25T00:00:00.000000000",
          "2019-04-26T00:00:00.000000000",
          "2019-04-27T00:00:00.000000000",
          "2019-04-28T00:00:00.000000000",
          "2019-04-29T00:00:00.000000000",
          "2019-04-30T00:00:00.000000000",
          "2019-05-02T00:00:00.000000000",
          "2019-05-03T00:00:00.000000000",
          "2019-05-04T00:00:00.000000000",
          "2019-05-05T00:00:00.000000000",
          "2019-05-06T00:00:00.000000000",
          "2019-05-07T00:00:00.000000000",
          "2019-05-08T00:00:00.000000000",
          "2019-05-09T00:00:00.000000000",
          "2019-05-10T00:00:00.000000000",
          "2019-05-11T00:00:00.000000000",
          "2019-05-12T00:00:00.000000000",
          "2019-05-13T00:00:00.000000000",
          "2019-05-14T00:00:00.000000000",
          "2019-05-15T00:00:00.000000000",
          "2019-05-16T00:00:00.000000000",
          "2019-05-17T00:00:00.000000000",
          "2019-05-18T00:00:00.000000000",
          "2019-05-19T00:00:00.000000000",
          "2019-05-20T00:00:00.000000000",
          "2019-05-21T00:00:00.000000000",
          "2019-05-22T00:00:00.000000000",
          "2019-05-23T00:00:00.000000000",
          "2019-05-24T00:00:00.000000000",
          "2019-05-25T00:00:00.000000000",
          "2019-05-26T00:00:00.000000000",
          "2019-05-27T00:00:00.000000000",
          "2019-05-28T00:00:00.000000000",
          "2019-05-29T00:00:00.000000000",
          "2019-05-30T00:00:00.000000000",
          "2019-05-31T00:00:00.000000000",
          "2019-06-02T00:00:00.000000000",
          "2019-06-03T00:00:00.000000000",
          "2019-06-04T00:00:00.000000000",
          "2019-06-05T00:00:00.000000000",
          "2019-06-06T00:00:00.000000000",
          "2019-06-07T00:00:00.000000000",
          "2019-06-08T00:00:00.000000000",
          "2019-06-09T00:00:00.000000000",
          "2019-06-10T00:00:00.000000000",
          "2019-06-11T00:00:00.000000000",
          "2019-06-12T00:00:00.000000000",
          "2019-06-13T00:00:00.000000000",
          "2019-06-14T00:00:00.000000000",
          "2019-06-15T00:00:00.000000000",
          "2019-06-16T00:00:00.000000000",
          "2019-06-17T00:00:00.000000000",
          "2019-06-18T00:00:00.000000000",
          "2019-06-19T00:00:00.000000000",
          "2019-06-20T00:00:00.000000000",
          "2019-06-21T00:00:00.000000000",
          "2019-06-22T00:00:00.000000000",
          "2019-06-23T00:00:00.000000000",
          "2019-06-24T00:00:00.000000000",
          "2019-06-25T00:00:00.000000000",
          "2019-06-26T00:00:00.000000000",
          "2019-06-27T00:00:00.000000000",
          "2019-06-28T00:00:00.000000000",
          "2019-06-29T00:00:00.000000000",
          "2019-06-30T00:00:00.000000000",
          "2019-07-01T00:00:00.000000000",
          "2019-07-02T00:00:00.000000000",
          "2019-07-03T00:00:00.000000000",
          "2019-07-04T00:00:00.000000000",
          "2019-07-05T00:00:00.000000000",
          "2019-07-06T00:00:00.000000000",
          "2019-07-07T00:00:00.000000000",
          "2019-07-08T00:00:00.000000000",
          "2019-07-09T00:00:00.000000000",
          "2019-07-10T00:00:00.000000000",
          "2019-07-11T00:00:00.000000000",
          "2019-07-12T00:00:00.000000000",
          "2019-07-13T00:00:00.000000000",
          "2019-07-14T00:00:00.000000000",
          "2019-07-15T00:00:00.000000000",
          "2019-07-16T00:00:00.000000000",
          "2019-07-17T00:00:00.000000000",
          "2019-07-18T00:00:00.000000000",
          "2019-07-19T00:00:00.000000000",
          "2019-07-20T00:00:00.000000000",
          "2019-07-21T00:00:00.000000000",
          "2019-07-22T00:00:00.000000000",
          "2019-07-23T00:00:00.000000000",
          "2019-07-24T00:00:00.000000000",
          "2019-07-25T00:00:00.000000000",
          "2019-07-26T00:00:00.000000000",
          "2019-07-27T00:00:00.000000000",
          "2019-07-28T00:00:00.000000000",
          "2019-07-29T00:00:00.000000000",
          "2019-07-30T00:00:00.000000000",
          "2019-07-31T00:00:00.000000000",
          "2019-08-01T00:00:00.000000000",
          "2019-08-02T00:00:00.000000000",
          "2019-08-03T00:00:00.000000000",
          "2019-08-04T00:00:00.000000000",
          "2019-08-05T00:00:00.000000000",
          "2019-08-06T00:00:00.000000000",
          "2019-08-08T00:00:00.000000000",
          "2019-08-09T00:00:00.000000000",
          "2019-08-10T00:00:00.000000000",
          "2019-08-11T00:00:00.000000000",
          "2019-08-12T00:00:00.000000000",
          "2019-08-13T00:00:00.000000000",
          "2019-08-14T00:00:00.000000000",
          "2019-08-15T00:00:00.000000000",
          "2019-08-16T00:00:00.000000000",
          "2019-08-17T00:00:00.000000000",
          "2019-08-18T00:00:00.000000000",
          "2019-08-19T00:00:00.000000000",
          "2019-08-20T00:00:00.000000000",
          "2019-08-21T00:00:00.000000000",
          "2019-08-22T00:00:00.000000000",
          "2019-08-23T00:00:00.000000000",
          "2019-08-24T00:00:00.000000000",
          "2019-08-25T00:00:00.000000000",
          "2019-08-26T00:00:00.000000000",
          "2019-08-27T00:00:00.000000000",
          "2019-08-28T00:00:00.000000000",
          "2019-08-29T00:00:00.000000000",
          "2019-08-30T00:00:00.000000000",
          "2019-08-31T00:00:00.000000000",
          "2019-09-01T00:00:00.000000000",
          "2019-09-02T00:00:00.000000000",
          "2019-09-03T00:00:00.000000000",
          "2019-09-04T00:00:00.000000000",
          "2019-09-05T00:00:00.000000000",
          "2019-09-06T00:00:00.000000000",
          "2019-09-08T00:00:00.000000000",
          "2019-09-09T00:00:00.000000000",
          "2019-09-10T00:00:00.000000000",
          "2019-09-11T00:00:00.000000000",
          "2019-09-12T00:00:00.000000000",
          "2019-09-13T00:00:00.000000000",
          "2019-09-14T00:00:00.000000000",
          "2019-09-15T00:00:00.000000000",
          "2019-09-16T00:00:00.000000000",
          "2019-09-17T00:00:00.000000000",
          "2019-09-18T00:00:00.000000000",
          "2019-09-19T00:00:00.000000000",
          "2019-09-20T00:00:00.000000000",
          "2019-09-21T00:00:00.000000000",
          "2019-09-22T00:00:00.000000000",
          "2019-09-23T00:00:00.000000000",
          "2019-09-24T00:00:00.000000000",
          "2019-09-25T00:00:00.000000000",
          "2019-09-26T00:00:00.000000000",
          "2019-09-27T00:00:00.000000000",
          "2019-09-28T00:00:00.000000000",
          "2019-09-29T00:00:00.000000000",
          "2019-09-30T00:00:00.000000000",
          "2019-10-01T00:00:00.000000000",
          "2019-10-02T00:00:00.000000000",
          "2019-10-03T00:00:00.000000000",
          "2019-10-04T00:00:00.000000000",
          "2019-10-05T00:00:00.000000000",
          "2019-10-06T00:00:00.000000000",
          "2019-10-08T00:00:00.000000000",
          "2019-10-09T00:00:00.000000000",
          "2019-10-10T00:00:00.000000000",
          "2019-10-11T00:00:00.000000000",
          "2019-10-12T00:00:00.000000000",
          "2019-10-13T00:00:00.000000000",
          "2019-10-14T00:00:00.000000000",
          "2019-10-15T00:00:00.000000000",
          "2019-10-16T00:00:00.000000000",
          "2019-10-17T00:00:00.000000000",
          "2019-10-18T00:00:00.000000000",
          "2019-10-19T00:00:00.000000000",
          "2019-10-20T00:00:00.000000000",
          "2019-10-21T00:00:00.000000000",
          "2019-10-22T00:00:00.000000000",
          "2019-10-23T00:00:00.000000000",
          "2019-10-24T00:00:00.000000000",
          "2019-10-25T00:00:00.000000000",
          "2019-10-26T00:00:00.000000000",
          "2019-10-27T00:00:00.000000000",
          "2019-10-28T00:00:00.000000000",
          "2019-10-29T00:00:00.000000000",
          "2019-10-30T00:00:00.000000000",
          "2019-10-31T00:00:00.000000000",
          "2019-11-01T00:00:00.000000000",
          "2019-11-02T00:00:00.000000000",
          "2019-11-03T00:00:00.000000000",
          "2019-11-04T00:00:00.000000000",
          "2019-11-05T00:00:00.000000000",
          "2019-11-06T00:00:00.000000000",
          "2019-11-08T00:00:00.000000000",
          "2019-11-09T00:00:00.000000000",
          "2019-11-10T00:00:00.000000000",
          "2019-11-11T00:00:00.000000000",
          "2019-11-12T00:00:00.000000000",
          "2019-11-13T00:00:00.000000000",
          "2019-11-14T00:00:00.000000000",
          "2019-11-15T00:00:00.000000000",
          "2019-11-16T00:00:00.000000000",
          "2019-11-17T00:00:00.000000000",
          "2019-11-18T00:00:00.000000000",
          "2019-11-19T00:00:00.000000000",
          "2019-11-20T00:00:00.000000000",
          "2019-11-21T00:00:00.000000000",
          "2019-11-22T00:00:00.000000000",
          "2019-11-23T00:00:00.000000000",
          "2019-11-24T00:00:00.000000000",
          "2019-11-25T00:00:00.000000000",
          "2019-11-26T00:00:00.000000000",
          "2019-11-27T00:00:00.000000000",
          "2019-11-28T00:00:00.000000000",
          "2019-11-29T00:00:00.000000000",
          "2019-11-30T00:00:00.000000000",
          "2019-12-01T00:00:00.000000000",
          "2019-12-02T00:00:00.000000000",
          "2019-12-03T00:00:00.000000000",
          "2019-12-04T00:00:00.000000000",
          "2019-12-05T00:00:00.000000000",
          "2019-12-06T00:00:00.000000000",
          "2019-12-08T00:00:00.000000000",
          "2019-12-09T00:00:00.000000000",
          "2019-12-10T00:00:00.000000000",
          "2019-12-11T00:00:00.000000000",
          "2019-12-12T00:00:00.000000000",
          "2019-12-13T00:00:00.000000000",
          "2019-12-14T00:00:00.000000000",
          "2019-12-15T00:00:00.000000000",
          "2019-12-16T00:00:00.000000000",
          "2019-12-17T00:00:00.000000000",
          "2019-12-18T00:00:00.000000000",
          "2019-12-19T00:00:00.000000000",
          "2019-12-20T00:00:00.000000000",
          "2019-12-21T00:00:00.000000000",
          "2019-12-22T00:00:00.000000000",
          "2019-12-23T00:00:00.000000000",
          "2019-12-24T00:00:00.000000000",
          "2019-12-25T00:00:00.000000000",
          "2019-12-26T00:00:00.000000000",
          "2019-12-27T00:00:00.000000000",
          "2019-12-28T00:00:00.000000000",
          "2019-12-29T00:00:00.000000000",
          "2019-12-30T00:00:00.000000000",
          "2019-12-31T00:00:00.000000000",
          "2020-01-01T00:00:00.000000000",
          "2020-01-02T00:00:00.000000000",
          "2020-01-03T00:00:00.000000000",
          "2020-01-04T00:00:00.000000000",
          "2020-01-05T00:00:00.000000000",
          "2020-01-13T00:00:00.000000000",
          "2020-01-14T00:00:00.000000000",
          "2020-01-15T00:00:00.000000000",
          "2020-01-16T00:00:00.000000000",
          "2020-01-17T00:00:00.000000000",
          "2020-01-18T00:00:00.000000000",
          "2020-01-19T00:00:00.000000000",
          "2020-01-20T00:00:00.000000000",
          "2020-01-21T00:00:00.000000000",
          "2020-01-22T00:00:00.000000000",
          "2020-01-23T00:00:00.000000000",
          "2020-01-24T00:00:00.000000000",
          "2020-01-25T00:00:00.000000000",
          "2020-01-26T00:00:00.000000000",
          "2020-01-27T00:00:00.000000000",
          "2020-01-28T00:00:00.000000000",
          "2020-01-29T00:00:00.000000000",
          "2020-01-30T00:00:00.000000000",
          "2020-01-31T00:00:00.000000000",
          "2020-02-01T00:00:00.000000000",
          "2020-02-02T00:00:00.000000000",
          "2020-02-03T00:00:00.000000000",
          "2020-02-04T00:00:00.000000000",
          "2020-02-05T00:00:00.000000000",
          "2020-02-13T00:00:00.000000000",
          "2020-02-14T00:00:00.000000000",
          "2020-02-15T00:00:00.000000000",
          "2020-02-16T00:00:00.000000000",
          "2020-02-17T00:00:00.000000000",
          "2020-02-18T00:00:00.000000000",
          "2020-02-19T00:00:00.000000000",
          "2020-02-20T00:00:00.000000000",
          "2020-02-21T00:00:00.000000000",
          "2020-02-22T00:00:00.000000000",
          "2020-02-23T00:00:00.000000000",
          "2020-02-24T00:00:00.000000000",
          "2020-02-25T00:00:00.000000000",
          "2020-02-26T00:00:00.000000000",
          "2020-02-27T00:00:00.000000000",
          "2020-02-28T00:00:00.000000000",
          "2020-02-29T00:00:00.000000000",
          "2020-03-01T00:00:00.000000000",
          "2020-03-02T00:00:00.000000000",
          "2020-03-03T00:00:00.000000000",
          "2020-03-04T00:00:00.000000000",
          "2020-03-05T00:00:00.000000000",
          "2020-03-13T00:00:00.000000000",
          "2020-03-14T00:00:00.000000000",
          "2020-03-15T00:00:00.000000000",
          "2020-03-16T00:00:00.000000000",
          "2020-03-17T00:00:00.000000000",
          "2020-03-18T00:00:00.000000000",
          "2020-03-19T00:00:00.000000000",
          "2020-03-20T00:00:00.000000000",
          "2020-03-21T00:00:00.000000000",
          "2020-03-22T00:00:00.000000000",
          "2020-03-23T00:00:00.000000000",
          "2020-03-24T00:00:00.000000000",
          "2020-03-25T00:00:00.000000000",
          "2020-03-26T00:00:00.000000000",
          "2020-03-27T00:00:00.000000000",
          "2020-03-28T00:00:00.000000000",
          "2020-03-29T00:00:00.000000000",
          "2020-03-30T00:00:00.000000000",
          "2020-03-31T00:00:00.000000000",
          "2020-04-01T00:00:00.000000000",
          "2020-04-02T00:00:00.000000000",
          "2020-04-03T00:00:00.000000000",
          "2020-04-04T00:00:00.000000000",
          "2020-04-05T00:00:00.000000000",
          "2020-04-13T00:00:00.000000000",
          "2020-04-14T00:00:00.000000000",
          "2020-04-15T00:00:00.000000000",
          "2020-04-16T00:00:00.000000000",
          "2020-04-17T00:00:00.000000000",
          "2020-04-18T00:00:00.000000000",
          "2020-04-19T00:00:00.000000000",
          "2020-04-20T00:00:00.000000000",
          "2020-04-21T00:00:00.000000000",
          "2020-04-22T00:00:00.000000000",
          "2020-04-23T00:00:00.000000000",
          "2020-04-24T00:00:00.000000000",
          "2020-04-25T00:00:00.000000000",
          "2020-04-26T00:00:00.000000000",
          "2020-04-27T00:00:00.000000000",
          "2020-04-28T00:00:00.000000000",
          "2020-04-29T00:00:00.000000000",
          "2020-04-30T00:00:00.000000000",
          "2020-05-01T00:00:00.000000000",
          "2020-05-02T00:00:00.000000000",
          "2020-05-03T00:00:00.000000000",
          "2020-05-04T00:00:00.000000000",
          "2020-05-05T00:00:00.000000000",
          "2020-05-13T00:00:00.000000000",
          "2020-05-14T00:00:00.000000000",
          "2020-05-15T00:00:00.000000000",
          "2020-05-16T00:00:00.000000000",
          "2020-05-17T00:00:00.000000000",
          "2020-05-18T00:00:00.000000000",
          "2020-05-19T00:00:00.000000000",
          "2020-05-20T00:00:00.000000000",
          "2020-05-21T00:00:00.000000000",
          "2020-05-22T00:00:00.000000000",
          "2020-05-23T00:00:00.000000000",
          "2020-06-01T00:00:00.000000000",
          "2020-06-02T00:00:00.000000000",
          "2020-06-03T00:00:00.000000000",
          "2020-06-04T00:00:00.000000000",
          "2020-06-05T00:00:00.000000000",
          "2020-07-01T00:00:00.000000000",
          "2020-07-02T00:00:00.000000000",
          "2020-07-03T00:00:00.000000000",
          "2020-07-04T00:00:00.000000000",
          "2020-07-05T00:00:00.000000000",
          "2020-08-01T00:00:00.000000000",
          "2020-08-02T00:00:00.000000000",
          "2020-08-03T00:00:00.000000000",
          "2020-08-04T00:00:00.000000000",
          "2020-08-05T00:00:00.000000000",
          "2020-09-01T00:00:00.000000000",
          "2020-09-02T00:00:00.000000000",
          "2020-09-03T00:00:00.000000000",
          "2020-09-04T00:00:00.000000000",
          "2020-09-05T00:00:00.000000000",
          "2020-10-01T00:00:00.000000000",
          "2020-10-02T00:00:00.000000000",
          "2020-10-03T00:00:00.000000000",
          "2020-10-04T00:00:00.000000000",
          "2020-10-05T00:00:00.000000000",
          "2020-11-01T00:00:00.000000000",
          "2020-11-02T00:00:00.000000000",
          "2020-11-03T00:00:00.000000000",
          "2020-11-04T00:00:00.000000000",
          "2020-11-05T00:00:00.000000000",
          "2020-12-01T00:00:00.000000000",
          "2020-12-02T00:00:00.000000000",
          "2020-12-03T00:00:00.000000000",
          "2020-12-04T00:00:00.000000000",
          "2020-12-05T00:00:00.000000000"
         ],
         "y": {
          "bdata": "z5/l/FmOWUCp15F6HclZQGg5f5bzB1lAcSsUt0IRWUCBaQyYxiBZQHd3d3d3F1lAmMaAaQw4WEBMY8A0BixXQKDl/FnO31dAzPmznD9LV0Anm2yyyYZYQDMzMzMzs1hAVVVVVVW1WECrqqqqqgpYQMomm2yySVpAnhLkKUHeWkAxYBoDpjFbQBWKW6G4dVtAzPmznD/rWkCuUNwKxW1aQPjggw8+2FlA8MEHH3xQXUDnz3L+LEddQAnylCBPyVtAjC666KIrXECuUNwKxW1bQJCnBHlKkFtAzPmznD8LW0De3d3d3b1TQBERERER8VNAfPDBBx88VECyySabbHJUQKDl/FnO31RA7hvWvmHtVECmMWAaA+ZUQJNNNtlkc1NAGgOmMWBaVEAaA6YxYBpVQBgwjQHT2FVAUAnylCAvVkDnz3L+LEdWQMv5s5w/i1VANtlkk032V0CkXkfqdWRYQKnXkXodyVhACB988MHHWEB5SpCnBLlYQPDBBx98sFhA3ArFrVD8V0CBaQyYxuBdQP4s589ynl5ARhdddNGlXkBgGgOmMcBeQI4B0xgwjV5AWPuGtW/4XUAREREREVFdQH7D2jes/VlAiluhuBVKWkCw9g1r3zBaQNFFF110UVpAyFOCPCWIWkB+w9o3rB1aQLdCcSsUV1lAbbLJJpuMW0CMLrrooqtcQMhTgjwlSF1AnhLkKUG+XUC9jtTrSJ1dQMhTgjwlKF1A15F6Han3WkAGTGPANIZUQJ0/y/mzfFRAFYpbobg1VUDJU4I8JWhVQLrooosuGlZAZ2ZmZmbmVUAlyFOCPGVWQLD2DWvfMFhAcSsUt0JRWEC3QnErFDdYQFKvI/U60ldAyFOCPCUIWEADpjFgGuNXQENxKxS3YlZAU4I8JcjzWkCW82c5fzZbQKG4FYpbgVtAAAAAAACgW0DuG9a+YQ1cQPYNa9+wFlxATGPANAaMWkBQ3ArFrXBZQEDL+bOcf1lAC8WtUNxKWUBr37D2DUtZQD744IMP3llADZjGgGmsWUB3d3d3d1dYQB988MEHv1xAnhLkKUGeXUDIU4I8JchdQOmiiy666F1Af5bzZzm/XUAK8pQgT4ldQCebbLLJRlxAyFOCPCXIWkB+w9o3rN1aQBERERER8VpAb4XiVijuWkC1b1j7hlVbQJbzZzl/llpAREREREQEWUBLkKcEeUpZQBoDpjFgmllACvKUIE9JWUAYMI0B03hZQO4b1r5hrVlAuBWKW6F4WUDE2jesfcNYQMWtUNwKZVpAXXTRRRcdWkDm/FnOn6VZQCXIU4I8BVlAnT/L+bN8WEA5f5bzZ5lXQKuqqqqqKlZAaDl/lvMnXUCJiIiIiMhdQLLJJptssl1ApV5H6nXkW0DANAZMYwBbQMWtUNwKBVpApjFgGgMGWUB88MEHHzxbQBS3QnErlFtAN6x9w9pXXECyySabbDJdQC3nz3L+bF1A8ZQgTwkyXUDhgw8++CBcQA2YxoBpbFZAfPDBBx8cV0CReh2p1zFWQL9h7RvWvlRAMI0B0xjQU0CdP8v5s1xTQCT1OlKvo1NAHanXkXo9V0CEDz744INXQHTRRRddVFdAhA8++ODjVkDw7u7u7q5WQKDl/FnOv1VA8pQgTwnyU0CCPCXIU2JYQBdddNFF91dAKkGeEuSpWECKW6G4FapYQBA++OCDT1hASb2O1OvIVkC5FYpbobhWQJF6HanXcV1AU4I8JcgTXkCTTTbZZBNeQCT1OlKvY15AxNo3rH1DXUDylCBPCRJdQBS3QnErdFxAOX+W82eZWUBAy/mznB9aQFDcCsWtMFpAwTQGTGNAWkB/lvNnOX9aQLAj9TpSb1pA6nWkXkfKWEBQCfKUIO9ZQCT1OlKvA1tA0xgwjQGzW0ClXkfqdaRbQJmZmZmZ+VtAYu0b1r5hW0Cg5fxZzj9aQO/u7u7ublVA3t3d3d1NVUDZZJNNNtlVQCBPCfKUwFZA2WSTTTY5WED6s5w/y1lYQN7d3d3dXVhAO1KvI/UaWEBXKG6F4jZXQJ4S5ClBXlpAVVVVVVUVW0B6HanXkbpaQBLkKUGeMlhAhA8++OBDWUA5f5bzZzlaQCFPCfKUAFpA1OtIvY7UWEApboXiVmhZQMhTgjwliFlAY8A0BkzDWUDylCBPCfJZQFrOn+X82VlA0xgwjQHzWEDIU4I8JUhdQP1Zzp/lfFxAHqnXkXo9XUCq15F6HWldQBkwjQHTWF1A0xgwjQHzXECdP8v5s9xbQJQgTwny1FhAcSsUt0IxWUDhgw8++EBZQNBy/iznD1lAKkGeEuRpWUAc1r5h7XtaQB988MEHH1tACB988MFnW0DCBx988MFbQFSCPCXI01tAh7VvWPuGW0DE2jesfaNaQLdCcSsUt1pAMI0B0xjwWUDPn+X8Wa5XQHakXkfqNVhAqAR5SpCHWEC66KKLLtpYQBdddNFFN1lAZZNNNtkEWUCeEuQpQV5YQCFPCfKUQFxA1r5h7RvWW0A5f5bzZxlbQLVvWPuG9VpAyFOCPCVoW0BddNFFFz1bQKuqqqqqallACvKUIE/pWUAYMI0B05haQF100UUXvVpA5ClBnhKkWkBwWPuGtW9aQIpbobgV6llAxa1Q3ArlW0BMY8A0BsxbQAV5SpCnRFxAMI0B0xjQXEA0BkxjwPRcQLdCcSsUt1xAERERERHRW0CyySabbBJcQONWKG6FglpApjFgGgMmWUDXkXodqZdZQEDL+bOc/1lAiluhuBWKWkBoOX+W88dZQGAaA6YxoFlAFLdCcSvUWUDTGDCNAbNZQFyhuBWKu1lAb4XiVihOWUCjiy666IJYQM3MzMzMLFdAGTCNAdM4WEAlyFOCPEVYQJbzZzl/llhAu7u7u7vbWEC8u7u7uztZQPcNa9+wFllAOX+W82dZWEA0BkxjwNRcQJUgTwnytFxAKG6F4lbIXECEDz744ONcQDwlyFOCvFxAWPuGtW84XEBVVVVVVfVbQLdCcSsUV1lAIU8J8pQAWUCuUNwKxW1YQGoMmMaAKVhAiluhuBXKWEAC0xgwjQFZQPNnOX+WM1hAoOX8Wc7fW0D1OlKvI3VbQMhTgjwlCFtAyFOCPCWoWEBAy/mznP9ZQNMYMI0Bc1lA4lYoboVCWEB+w9o3rB1VQLD2DWvf0FVAiYiIiIhIVkBgGgOmMQBWQHlKkKcEOVZAm2yyySZbVkDkKUGeEsRVQDCNAdMYMFdAhA8++OCjV0Anm2yyycZXQCpBnhLkqVdAobgViluhV0CYxoBpDJhXQKnXkXodyVZAjgHTGDBtWkBddNFFF91aQBERERER0VpAqAR5SpCHWkCMLrroootaQLdCcSsUl1pAf5bzZzmfWUAUt0JxK5RYQMA0BkxjIFlAYBoDpjFAWUAB0xgwjQFZQAZMY8A0xlhAh7VvWPuGWEC/Ye0b1h5YQD744IMPHl5AqAR5SpCnXkDNzMzMzExdQO4b1r5h7VxAqAR5SpBnXkBeR+p1pB5eQNs3rH3DmlxAIiIiIiLiVkDCBx988MFWQH3D2jesHVhAuuiiiy6aWEAnm2yyyaZYQOt1pF5HCllAZ2ZmZmZGWUDylCBPCVJaQJmZmZmZ+VpApV5H6nUkW0APa9+w9i1bQC+66KKLLltAMWAaA6YRW0Avuuiii25aQPYNa9+wFlhAUNwKxa2wWEBDcSsUt+JYQJ4S5ClBXlhAh7VvWPsmV0A5f5bzZ5lXQBzWvmHtu1ZAh7VvWPtGXEBONtlkk+1cQKgEeUqQ51xALBS3QnFLXEDuG9a+YQ1cQArylCBPCVxAH3zwwQc/W0CSeh2p1xFZQEjqdaRe51ZAAAAAAADgV0AsFLdCcStZQBoDpjFgellAkXodqddRWUCwI/U6Uo9YQIbiVihu5VtA15F6HamXW0DL+bOcP8tbQE8J8pQgr1tAwgcffPBBXEAOa9+w9k1cQIpbobgVKltA5vxZzp8lW0Anm2yyyaZbQNa+Ye0b9ltAMI0B0xgwXEDxlCBPCXJcQOQpQZ4SRFxAdNFFF11UW0BVVVVVVfVXQCXIU4I85VZAoOX8Wc4/WEChuBWKWyFZQFVVVVVVdVlATGPANAZMWUCEDz744INYQEuQpwR5qlhA1OtIvY4UWUAIH3zwwQdZQIXiVihuRVlAsPYNa99wWUDIU4I8JShZQNFFF110UVhAY8A0BkyjXEDxlCBPCTJdQD744IMPfl1ABXlKkKfEXUCkXkfqdeRdQIbiVihuhV1A4LD2DWtfXEBMY8A0BixZQFyhuBWKe1lA2zesfcMaWUD1OlKvIzVZQJbzZzl/lllA+rOcP8uZWUCHtW9Y++ZYQEDL+bOcP1xAERERERFxW0Ak9TpSr2NaQIbiVihu5VtA15F6HamXW0DL+bOcP8tbQE8J8pQgr1tAvY7U60idVEAK8pQgT6lUQG2yySabbFRA2WSTTTZZVEBONtlkky1UQHlKkKcEWVRAuuiiiy76VEDgsPYNa99WQMeAaQyYRldAH3zwwQefV0DuG9a+Ye1WQEuQpwR5ylZAZZNNNtmkVkBAy/mznP9VQDbZZJNNVllAuuiiiy7aWUCVIE8J8vRZQMv5s5w/S1pAj9TrSL1uWkBJvY7U6yhaQIQPPvjgg1lAUq8j9TqyWECrqqqqqkpZQL9h7RvWPllAO1KvI/VaWEDWvmHtG3ZYQHErFLdCUVhAMzMzMzOzV0AC0xgwjSFdQIpbobgV6l1Axa1Q3AplXkC4FYpbodhdQFuhuBWKe11AuRWKW6G4XUDkKUGeEkRdQHodqdeRGlZA3t3d3d1dVkC66KKLLrpWQCFPCfKUwFZAQZ4S5CnhVkCQpwR5StBXQMIHH3zwgVhAa9+w9g1LWkDbN6x9w5paQGTANAZMw1pATjbZZJPtWkCP1OtIve5aQEGeEuQpoVpA9w1r37B2WUCoBHlKkCdXQJCnBHlKcFdAqdeReh3JV0CyySabbBJYQJF6HanXMVhAlSBPCfL0V0Cx9g1r3xBXQLdCcSsUF1tAmZmZmZnZW0BQ3ArFrdBbQIQPPvjg41tAC8WtUNwqXEA++OCDD/5bQGvfsPYN61pAKkGeEuRpWkB00UUXXfRaQCIiIiIiolpAcFj7hrUvWkAViluhuBVZQAgffPDBR1lAkKcEeUrQWEB+w9o3rP1cQBLkKUGeslxAX0fqdaT+XEAvuuiii+5cQEDL+bOcP1xAERERERFxW0Ak9TpSr2NaQCpBnhLkCVtA3t3d3d3dW0D44IMPPlhcQMTaN6x9g1xA+4a1b1g7XEB3d3d3d5dbQBA++OCDz1lA",
          "dtype": "f8"
         }
        },
        {
         "mode": "lines+markers",
         "name": "predicted",
         "type": "scatter",
         "x": [
          "2019-01-02T00:00:00.000000000",
          "2019-01-03T00:00:00.000000000",
          "2019-01-04T00:00:00.000000000",
          "2019-01-05T00:00:00.000000000",
          "2019-01-06T00:00:00.000000000",
          "2019-01-07T00:00:00.000000000",
          "2019-01-08T00:00:00.000000000",
          "2019-01-09T00:00:00.000000000",
          "2019-01-10T00:00:00.000000000",
          "2019-01-11T00:00:00.000000000",
          "2019-01-12T00:00:00.000000000",
          "2019-01-13T00:00:00.000000000",
          "2019-01-14T00:00:00.000000000",
          "2019-01-15T00:00:00.000000000",
          "2019-01-16T00:00:00.000000000",
          "2019-01-17T00:00:00.000000000",
          "2019-01-18T00:00:00.000000000",
          "2019-01-19T00:00:00.000000000",
          "2019-01-20T00:00:00.000000000",
          "2019-01-21T00:00:00.000000000",
          "2019-01-22T00:00:00.000000000",
          "2019-01-23T00:00:00.000000000",
          "2019-01-24T00:00:00.000000000",
          "2019-01-25T00:00:00.000000000",
          "2019-01-26T00:00:00.000000000",
          "2019-01-27T00:00:00.000000000",
          "2019-01-28T00:00:00.000000000",
          "2019-01-29T00:00:00.000000000",
          "2019-01-30T00:00:00.000000000",
          "2019-01-31T00:00:00.000000000",
          "2019-02-02T00:00:00.000000000",
          "2019-02-03T00:00:00.000000000",
          "2019-02-04T00:00:00.000000000",
          "2019-02-05T00:00:00.000000000",
          "2019-02-06T00:00:00.000000000",
          "2019-02-07T00:00:00.000000000",
          "2019-02-08T00:00:00.000000000",
          "2019-02-09T00:00:00.000000000",
          "2019-02-10T00:00:00.000000000",
          "2019-02-11T00:00:00.000000000",
          "2019-02-12T00:00:00.000000000",
          "2019-02-13T00:00:00.000000000",
          "2019-02-14T00:00:00.000000000",
          "2019-02-15T00:00:00.000000000",
          "2019-02-16T00:00:00.000000000",
          "2019-02-17T00:00:00.000000000",
          "2019-02-18T00:00:00.000000000",
          "2019-02-19T00:00:00.000000000",
          "2019-02-20T00:00:00.000000000",
          "2019-02-21T00:00:00.000000000",
          "2019-02-22T00:00:00.000000000",
          "2019-02-23T00:00:00.000000000",
          "2019-02-24T00:00:00.000000000",
          "2019-02-25T00:00:00.000000000",
          "2019-02-26T00:00:00.000000000",
          "2019-02-27T00:00:00.000000000",
          "2019-02-28T00:00:00.000000000",
          "2019-03-02T00:00:00.000000000",
          "2019-03-03T00:00:00.000000000",
          "2019-03-04T00:00:00.000000000",
          "2019-03-05T00:00:00.000000000",
          "2019-03-06T00:00:00.000000000",
          "2019-03-07T00:00:00.000000000",
          "2019-03-08T00:00:00.000000000",
          "2019-03-09T00:00:00.000000000",
          "2019-03-10T00:00:00.000000000",
          "2019-03-11T00:00:00.000000000",
          "2019-03-12T00:00:00.000000000",
          "2019-03-13T00:00:00.000000000",
          "2019-03-14T00:00:00.000000000",
          "2019-03-15T00:00:00.000000000",
          "2019-03-16T00:00:00.000000000",
          "2019-03-17T00:00:00.000000000",
          "2019-03-18T00:00:00.000000000",
          "2019-03-19T00:00:00.000000000",
          "2019-03-20T00:00:00.000000000",
          "2019-03-21T00:00:00.000000000",
          "2019-03-22T00:00:00.000000000",
          "2019-03-23T00:00:00.000000000",
          "2019-03-24T00:00:00.000000000",
          "2019-03-25T00:00:00.000000000",
          "2019-03-26T00:00:00.000000000",
          "2019-03-27T00:00:00.000000000",
          "2019-03-28T00:00:00.000000000",
          "2019-03-29T00:00:00.000000000",
          "2019-03-30T00:00:00.000000000",
          "2019-03-31T00:00:00.000000000",
          "2019-04-02T00:00:00.000000000",
          "2019-04-03T00:00:00.000000000",
          "2019-04-04T00:00:00.000000000",
          "2019-04-05T00:00:00.000000000",
          "2019-04-06T00:00:00.000000000",
          "2019-04-07T00:00:00.000000000",
          "2019-04-08T00:00:00.000000000",
          "2019-04-09T00:00:00.000000000",
          "2019-04-10T00:00:00.000000000",
          "2019-04-11T00:00:00.000000000",
          "2019-04-12T00:00:00.000000000",
          "2019-04-13T00:00:00.000000000",
          "2019-04-14T00:00:00.000000000",
          "2019-04-15T00:00:00.000000000",
          "2019-04-16T00:00:00.000000000",
          "2019-04-17T00:00:00.000000000",
          "2019-04-18T00:00:00.000000000",
          "2019-04-19T00:00:00.000000000",
          "2019-04-20T00:00:00.000000000",
          "2019-04-21T00:00:00.000000000",
          "2019-04-22T00:00:00.000000000",
          "2019-04-23T00:00:00.000000000",
          "2019-04-24T00:00:00.000000000",
          "2019-04-25T00:00:00.000000000",
          "2019-04-26T00:00:00.000000000",
          "2019-04-27T00:00:00.000000000",
          "2019-04-28T00:00:00.000000000",
          "2019-04-29T00:00:00.000000000",
          "2019-04-30T00:00:00.000000000",
          "2019-05-02T00:00:00.000000000",
          "2019-05-03T00:00:00.000000000",
          "2019-05-04T00:00:00.000000000",
          "2019-05-05T00:00:00.000000000",
          "2019-05-06T00:00:00.000000000",
          "2019-05-07T00:00:00.000000000",
          "2019-05-08T00:00:00.000000000",
          "2019-05-09T00:00:00.000000000",
          "2019-05-10T00:00:00.000000000",
          "2019-05-11T00:00:00.000000000",
          "2019-05-12T00:00:00.000000000",
          "2019-05-13T00:00:00.000000000",
          "2019-05-14T00:00:00.000000000",
          "2019-05-15T00:00:00.000000000",
          "2019-05-16T00:00:00.000000000",
          "2019-05-17T00:00:00.000000000",
          "2019-05-18T00:00:00.000000000",
          "2019-05-19T00:00:00.000000000",
          "2019-05-20T00:00:00.000000000",
          "2019-05-21T00:00:00.000000000",
          "2019-05-22T00:00:00.000000000",
          "2019-05-23T00:00:00.000000000",
          "2019-05-24T00:00:00.000000000",
          "2019-05-25T00:00:00.000000000",
          "2019-05-26T00:00:00.000000000",
          "2019-05-27T00:00:00.000000000",
          "2019-05-28T00:00:00.000000000",
          "2019-05-29T00:00:00.000000000",
          "2019-05-30T00:00:00.000000000",
          "2019-05-31T00:00:00.000000000",
          "2019-06-02T00:00:00.000000000",
          "2019-06-03T00:00:00.000000000",
          "2019-06-04T00:00:00.000000000",
          "2019-06-05T00:00:00.000000000",
          "2019-06-06T00:00:00.000000000",
          "2019-06-07T00:00:00.000000000",
          "2019-06-08T00:00:00.000000000",
          "2019-06-09T00:00:00.000000000",
          "2019-06-10T00:00:00.000000000",
          "2019-06-11T00:00:00.000000000",
          "2019-06-12T00:00:00.000000000",
          "2019-06-13T00:00:00.000000000",
          "2019-06-14T00:00:00.000000000",
          "2019-06-15T00:00:00.000000000",
          "2019-06-16T00:00:00.000000000",
          "2019-06-17T00:00:00.000000000",
          "2019-06-18T00:00:00.000000000",
          "2019-06-19T00:00:00.000000000",
          "2019-06-20T00:00:00.000000000",
          "2019-06-21T00:00:00.000000000",
          "2019-06-22T00:00:00.000000000",
          "2019-06-23T00:00:00.000000000",
          "2019-06-24T00:00:00.000000000",
          "2019-06-25T00:00:00.000000000",
          "2019-06-26T00:00:00.000000000",
          "2019-06-27T00:00:00.000000000",
          "2019-06-28T00:00:00.000000000",
          "2019-06-29T00:00:00.000000000",
          "2019-06-30T00:00:00.000000000",
          "2019-07-01T00:00:00.000000000",
          "2019-07-02T00:00:00.000000000",
          "2019-07-03T00:00:00.000000000",
          "2019-07-04T00:00:00.000000000",
          "2019-07-05T00:00:00.000000000",
          "2019-07-06T00:00:00.000000000",
          "2019-07-07T00:00:00.000000000",
          "2019-07-08T00:00:00.000000000",
          "2019-07-09T00:00:00.000000000",
          "2019-07-10T00:00:00.000000000",
          "2019-07-11T00:00:00.000000000",
          "2019-07-12T00:00:00.000000000",
          "2019-07-13T00:00:00.000000000",
          "2019-07-14T00:00:00.000000000",
          "2019-07-15T00:00:00.000000000",
          "2019-07-16T00:00:00.000000000",
          "2019-07-17T00:00:00.000000000",
          "2019-07-18T00:00:00.000000000",
          "2019-07-19T00:00:00.000000000",
          "2019-07-20T00:00:00.000000000",
          "2019-07-21T00:00:00.000000000",
          "2019-07-22T00:00:00.000000000",
          "2019-07-23T00:00:00.000000000",
          "2019-07-24T00:00:00.000000000",
          "2019-07-25T00:00:00.000000000",
          "2019-07-26T00:00:00.000000000",
          "2019-07-27T00:00:00.000000000",
          "2019-07-28T00:00:00.000000000",
          "2019-07-29T00:00:00.000000000",
          "2019-07-30T00:00:00.000000000",
          "2019-07-31T00:00:00.000000000",
          "2019-08-01T00:00:00.000000000",
          "2019-08-02T00:00:00.000000000",
          "2019-08-03T00:00:00.000000000",
          "2019-08-04T00:00:00.000000000",
          "2019-08-05T00:00:00.000000000",
          "2019-08-06T00:00:00.000000000",
          "2019-08-08T00:00:00.000000000",
          "2019-08-09T00:00:00.000000000",
          "2019-08-10T00:00:00.000000000",
          "2019-08-11T00:00:00.000000000",
          "2019-08-12T00:00:00.000000000",
          "2019-08-13T00:00:00.000000000",
          "2019-08-14T00:00:00.000000000",
          "2019-08-15T00:00:00.000000000",
          "2019-08-16T00:00:00.000000000",
          "2019-08-17T00:00:00.000000000",
          "2019-08-18T00:00:00.000000000",
          "2019-08-19T00:00:00.000000000",
          "2019-08-20T00:00:00.000000000",
          "2019-08-21T00:00:00.000000000",
          "2019-08-22T00:00:00.000000000",
          "2019-08-23T00:00:00.000000000",
          "2019-08-24T00:00:00.000000000",
          "2019-08-25T00:00:00.000000000",
          "2019-08-26T00:00:00.000000000",
          "2019-08-27T00:00:00.000000000",
          "2019-08-28T00:00:00.000000000",
          "2019-08-29T00:00:00.000000000",
          "2019-08-30T00:00:00.000000000",
          "2019-08-31T00:00:00.000000000",
          "2019-09-01T00:00:00.000000000",
          "2019-09-02T00:00:00.000000000",
          "2019-09-03T00:00:00.000000000",
          "2019-09-04T00:00:00.000000000",
          "2019-09-05T00:00:00.000000000",
          "2019-09-06T00:00:00.000000000",
          "2019-09-08T00:00:00.000000000",
          "2019-09-09T00:00:00.000000000",
          "2019-09-10T00:00:00.000000000",
          "2019-09-11T00:00:00.000000000",
          "2019-09-12T00:00:00.000000000",
          "2019-09-13T00:00:00.000000000",
          "2019-09-14T00:00:00.000000000",
          "2019-09-15T00:00:00.000000000",
          "2019-09-16T00:00:00.000000000",
          "2019-09-17T00:00:00.000000000",
          "2019-09-18T00:00:00.000000000",
          "2019-09-19T00:00:00.000000000",
          "2019-09-20T00:00:00.000000000",
          "2019-09-21T00:00:00.000000000",
          "2019-09-22T00:00:00.000000000",
          "2019-09-23T00:00:00.000000000",
          "2019-09-24T00:00:00.000000000",
          "2019-09-25T00:00:00.000000000",
          "2019-09-26T00:00:00.000000000",
          "2019-09-27T00:00:00.000000000",
          "2019-09-28T00:00:00.000000000",
          "2019-09-29T00:00:00.000000000",
          "2019-09-30T00:00:00.000000000",
          "2019-10-01T00:00:00.000000000",
          "2019-10-02T00:00:00.000000000",
          "2019-10-03T00:00:00.000000000",
          "2019-10-04T00:00:00.000000000",
          "2019-10-05T00:00:00.000000000",
          "2019-10-06T00:00:00.000000000",
          "2019-10-08T00:00:00.000000000",
          "2019-10-09T00:00:00.000000000",
          "2019-10-10T00:00:00.000000000",
          "2019-10-11T00:00:00.000000000",
          "2019-10-12T00:00:00.000000000",
          "2019-10-13T00:00:00.000000000",
          "2019-10-14T00:00:00.000000000",
          "2019-10-15T00:00:00.000000000",
          "2019-10-16T00:00:00.000000000",
          "2019-10-17T00:00:00.000000000",
          "2019-10-18T00:00:00.000000000",
          "2019-10-19T00:00:00.000000000",
          "2019-10-20T00:00:00.000000000",
          "2019-10-21T00:00:00.000000000",
          "2019-10-22T00:00:00.000000000",
          "2019-10-23T00:00:00.000000000",
          "2019-10-24T00:00:00.000000000",
          "2019-10-25T00:00:00.000000000",
          "2019-10-26T00:00:00.000000000",
          "2019-10-27T00:00:00.000000000",
          "2019-10-28T00:00:00.000000000",
          "2019-10-29T00:00:00.000000000",
          "2019-10-30T00:00:00.000000000",
          "2019-10-31T00:00:00.000000000",
          "2019-11-01T00:00:00.000000000",
          "2019-11-02T00:00:00.000000000",
          "2019-11-03T00:00:00.000000000",
          "2019-11-04T00:00:00.000000000",
          "2019-11-05T00:00:00.000000000",
          "2019-11-06T00:00:00.000000000",
          "2019-11-08T00:00:00.000000000",
          "2019-11-09T00:00:00.000000000",
          "2019-11-10T00:00:00.000000000",
          "2019-11-11T00:00:00.000000000",
          "2019-11-12T00:00:00.000000000",
          "2019-11-13T00:00:00.000000000",
          "2019-11-14T00:00:00.000000000",
          "2019-11-15T00:00:00.000000000",
          "2019-11-16T00:00:00.000000000",
          "2019-11-17T00:00:00.000000000",
          "2019-11-18T00:00:00.000000000",
          "2019-11-19T00:00:00.000000000",
          "2019-11-20T00:00:00.000000000",
          "2019-11-21T00:00:00.000000000",
          "2019-11-22T00:00:00.000000000",
          "2019-11-23T00:00:00.000000000",
          "2019-11-24T00:00:00.000000000",
          "2019-11-25T00:00:00.000000000",
          "2019-11-26T00:00:00.000000000",
          "2019-11-27T00:00:00.000000000",
          "2019-11-28T00:00:00.000000000",
          "2019-11-29T00:00:00.000000000",
          "2019-11-30T00:00:00.000000000",
          "2019-12-01T00:00:00.000000000",
          "2019-12-02T00:00:00.000000000",
          "2019-12-03T00:00:00.000000000",
          "2019-12-04T00:00:00.000000000",
          "2019-12-05T00:00:00.000000000",
          "2019-12-06T00:00:00.000000000",
          "2019-12-08T00:00:00.000000000",
          "2019-12-09T00:00:00.000000000",
          "2019-12-10T00:00:00.000000000",
          "2019-12-11T00:00:00.000000000",
          "2019-12-12T00:00:00.000000000",
          "2019-12-13T00:00:00.000000000",
          "2019-12-14T00:00:00.000000000",
          "2019-12-15T00:00:00.000000000",
          "2019-12-16T00:00:00.000000000",
          "2019-12-17T00:00:00.000000000",
          "2019-12-18T00:00:00.000000000",
          "2019-12-19T00:00:00.000000000",
          "2019-12-20T00:00:00.000000000",
          "2019-12-21T00:00:00.000000000",
          "2019-12-22T00:00:00.000000000",
          "2019-12-23T00:00:00.000000000",
          "2019-12-24T00:00:00.000000000",
          "2019-12-25T00:00:00.000000000",
          "2019-12-26T00:00:00.000000000",
          "2019-12-27T00:00:00.000000000",
          "2019-12-28T00:00:00.000000000",
          "2019-12-29T00:00:00.000000000",
          "2019-12-30T00:00:00.000000000",
          "2019-12-31T00:00:00.000000000",
          "2020-01-01T00:00:00.000000000",
          "2020-01-02T00:00:00.000000000",
          "2020-01-03T00:00:00.000000000",
          "2020-01-04T00:00:00.000000000",
          "2020-01-05T00:00:00.000000000",
          "2020-01-13T00:00:00.000000000",
          "2020-01-14T00:00:00.000000000",
          "2020-01-15T00:00:00.000000000",
          "2020-01-16T00:00:00.000000000",
          "2020-01-17T00:00:00.000000000",
          "2020-01-18T00:00:00.000000000",
          "2020-01-19T00:00:00.000000000",
          "2020-01-20T00:00:00.000000000",
          "2020-01-21T00:00:00.000000000",
          "2020-01-22T00:00:00.000000000",
          "2020-01-23T00:00:00.000000000",
          "2020-01-24T00:00:00.000000000",
          "2020-01-25T00:00:00.000000000",
          "2020-01-26T00:00:00.000000000",
          "2020-01-27T00:00:00.000000000",
          "2020-01-28T00:00:00.000000000",
          "2020-01-29T00:00:00.000000000",
          "2020-01-30T00:00:00.000000000",
          "2020-01-31T00:00:00.000000000",
          "2020-02-01T00:00:00.000000000",
          "2020-02-02T00:00:00.000000000",
          "2020-02-03T00:00:00.000000000",
          "2020-02-04T00:00:00.000000000",
          "2020-02-05T00:00:00.000000000",
          "2020-02-13T00:00:00.000000000",
          "2020-02-14T00:00:00.000000000",
          "2020-02-15T00:00:00.000000000",
          "2020-02-16T00:00:00.000000000",
          "2020-02-17T00:00:00.000000000",
          "2020-02-18T00:00:00.000000000",
          "2020-02-19T00:00:00.000000000",
          "2020-02-20T00:00:00.000000000",
          "2020-02-21T00:00:00.000000000",
          "2020-02-22T00:00:00.000000000",
          "2020-02-23T00:00:00.000000000",
          "2020-02-24T00:00:00.000000000",
          "2020-02-25T00:00:00.000000000",
          "2020-02-26T00:00:00.000000000",
          "2020-02-27T00:00:00.000000000",
          "2020-02-28T00:00:00.000000000",
          "2020-02-29T00:00:00.000000000",
          "2020-03-01T00:00:00.000000000",
          "2020-03-02T00:00:00.000000000",
          "2020-03-03T00:00:00.000000000",
          "2020-03-04T00:00:00.000000000",
          "2020-03-05T00:00:00.000000000",
          "2020-03-13T00:00:00.000000000",
          "2020-03-14T00:00:00.000000000",
          "2020-03-15T00:00:00.000000000",
          "2020-03-16T00:00:00.000000000",
          "2020-03-17T00:00:00.000000000",
          "2020-03-18T00:00:00.000000000",
          "2020-03-19T00:00:00.000000000",
          "2020-03-20T00:00:00.000000000",
          "2020-03-21T00:00:00.000000000",
          "2020-03-22T00:00:00.000000000",
          "2020-03-23T00:00:00.000000000",
          "2020-03-24T00:00:00.000000000",
          "2020-03-25T00:00:00.000000000",
          "2020-03-26T00:00:00.000000000",
          "2020-03-27T00:00:00.000000000",
          "2020-03-28T00:00:00.000000000",
          "2020-03-29T00:00:00.000000000",
          "2020-03-30T00:00:00.000000000",
          "2020-03-31T00:00:00.000000000",
          "2020-04-01T00:00:00.000000000",
          "2020-04-02T00:00:00.000000000",
          "2020-04-03T00:00:00.000000000",
          "2020-04-04T00:00:00.000000000",
          "2020-04-05T00:00:00.000000000",
          "2020-04-13T00:00:00.000000000",
          "2020-04-14T00:00:00.000000000",
          "2020-04-15T00:00:00.000000000",
          "2020-04-16T00:00:00.000000000",
          "2020-04-17T00:00:00.000000000",
          "2020-04-18T00:00:00.000000000",
          "2020-04-19T00:00:00.000000000",
          "2020-04-20T00:00:00.000000000",
          "2020-04-21T00:00:00.000000000",
          "2020-04-22T00:00:00.000000000",
          "2020-04-23T00:00:00.000000000",
          "2020-04-24T00:00:00.000000000",
          "2020-04-25T00:00:00.000000000",
          "2020-04-26T00:00:00.000000000",
          "2020-04-27T00:00:00.000000000",
          "2020-04-28T00:00:00.000000000",
          "2020-04-29T00:00:00.000000000",
          "2020-04-30T00:00:00.000000000",
          "2020-05-01T00:00:00.000000000",
          "2020-05-02T00:00:00.000000000",
          "2020-05-03T00:00:00.000000000",
          "2020-05-04T00:00:00.000000000",
          "2020-05-05T00:00:00.000000000",
          "2020-05-13T00:00:00.000000000",
          "2020-05-14T00:00:00.000000000",
          "2020-05-15T00:00:00.000000000",
          "2020-05-16T00:00:00.000000000",
          "2020-05-17T00:00:00.000000000",
          "2020-05-18T00:00:00.000000000",
          "2020-05-19T00:00:00.000000000",
          "2020-05-20T00:00:00.000000000",
          "2020-05-21T00:00:00.000000000",
          "2020-05-22T00:00:00.000000000",
          "2020-05-23T00:00:00.000000000",
          "2020-06-01T00:00:00.000000000",
          "2020-06-02T00:00:00.000000000",
          "2020-06-03T00:00:00.000000000",
          "2020-06-04T00:00:00.000000000",
          "2020-06-05T00:00:00.000000000",
          "2020-07-01T00:00:00.000000000",
          "2020-07-02T00:00:00.000000000",
          "2020-07-03T00:00:00.000000000",
          "2020-07-04T00:00:00.000000000",
          "2020-07-05T00:00:00.000000000",
          "2020-08-01T00:00:00.000000000",
          "2020-08-02T00:00:00.000000000",
          "2020-08-03T00:00:00.000000000",
          "2020-08-04T00:00:00.000000000",
          "2020-08-05T00:00:00.000000000",
          "2020-09-01T00:00:00.000000000",
          "2020-09-02T00:00:00.000000000",
          "2020-09-03T00:00:00.000000000",
          "2020-09-04T00:00:00.000000000",
          "2020-09-05T00:00:00.000000000",
          "2020-10-01T00:00:00.000000000",
          "2020-10-02T00:00:00.000000000",
          "2020-10-03T00:00:00.000000000",
          "2020-10-04T00:00:00.000000000",
          "2020-10-05T00:00:00.000000000",
          "2020-11-01T00:00:00.000000000",
          "2020-11-02T00:00:00.000000000",
          "2020-11-03T00:00:00.000000000",
          "2020-11-04T00:00:00.000000000",
          "2020-11-05T00:00:00.000000000",
          "2020-12-01T00:00:00.000000000",
          "2020-12-02T00:00:00.000000000",
          "2020-12-03T00:00:00.000000000",
          "2020-12-04T00:00:00.000000000",
          "2020-12-05T00:00:00.000000000",
          "2020-12-06T00:00:00.000000000",
          "2020-12-07T00:00:00.000000000",
          "2020-12-08T00:00:00.000000000",
          "2020-12-09T00:00:00.000000000",
          "2020-12-10T00:00:00.000000000",
          "2020-12-11T00:00:00.000000000",
          "2020-12-12T00:00:00.000000000",
          "2020-12-13T00:00:00.000000000",
          "2020-12-14T00:00:00.000000000",
          "2020-12-15T00:00:00.000000000",
          "2020-12-16T00:00:00.000000000",
          "2020-12-17T00:00:00.000000000",
          "2020-12-18T00:00:00.000000000",
          "2020-12-19T00:00:00.000000000",
          "2020-12-20T00:00:00.000000000",
          "2020-12-21T00:00:00.000000000",
          "2020-12-22T00:00:00.000000000",
          "2020-12-23T00:00:00.000000000",
          "2020-12-24T00:00:00.000000000",
          "2020-12-25T00:00:00.000000000",
          "2020-12-26T00:00:00.000000000",
          "2020-12-27T00:00:00.000000000",
          "2020-12-28T00:00:00.000000000",
          "2020-12-29T00:00:00.000000000",
          "2020-12-30T00:00:00.000000000",
          "2020-12-31T00:00:00.000000000",
          "2021-01-01T00:00:00.000000000",
          "2021-01-02T00:00:00.000000000",
          "2021-01-03T00:00:00.000000000",
          "2021-01-04T00:00:00.000000000",
          "2021-01-05T00:00:00.000000000",
          "2021-01-06T00:00:00.000000000",
          "2021-01-07T00:00:00.000000000",
          "2021-01-08T00:00:00.000000000",
          "2021-01-09T00:00:00.000000000",
          "2021-01-10T00:00:00.000000000",
          "2021-01-11T00:00:00.000000000",
          "2021-01-12T00:00:00.000000000",
          "2021-01-13T00:00:00.000000000",
          "2021-01-14T00:00:00.000000000",
          "2021-01-15T00:00:00.000000000",
          "2021-01-16T00:00:00.000000000",
          "2021-01-17T00:00:00.000000000",
          "2021-01-18T00:00:00.000000000",
          "2021-01-19T00:00:00.000000000",
          "2021-01-20T00:00:00.000000000",
          "2021-01-21T00:00:00.000000000",
          "2021-01-22T00:00:00.000000000",
          "2021-01-23T00:00:00.000000000",
          "2021-01-24T00:00:00.000000000",
          "2021-01-25T00:00:00.000000000",
          "2021-01-26T00:00:00.000000000",
          "2021-01-27T00:00:00.000000000",
          "2021-01-28T00:00:00.000000000",
          "2021-01-29T00:00:00.000000000",
          "2021-01-30T00:00:00.000000000",
          "2021-01-31T00:00:00.000000000",
          "2021-02-01T00:00:00.000000000",
          "2021-02-02T00:00:00.000000000",
          "2021-02-03T00:00:00.000000000",
          "2021-02-04T00:00:00.000000000",
          "2021-02-05T00:00:00.000000000",
          "2021-02-06T00:00:00.000000000",
          "2021-02-07T00:00:00.000000000",
          "2021-02-08T00:00:00.000000000",
          "2021-02-09T00:00:00.000000000",
          "2021-02-10T00:00:00.000000000",
          "2021-02-11T00:00:00.000000000",
          "2021-02-12T00:00:00.000000000",
          "2021-02-13T00:00:00.000000000",
          "2021-02-14T00:00:00.000000000",
          "2021-02-15T00:00:00.000000000",
          "2021-02-16T00:00:00.000000000",
          "2021-02-17T00:00:00.000000000",
          "2021-02-18T00:00:00.000000000",
          "2021-02-19T00:00:00.000000000",
          "2021-02-20T00:00:00.000000000",
          "2021-02-21T00:00:00.000000000",
          "2021-02-22T00:00:00.000000000",
          "2021-02-23T00:00:00.000000000",
          "2021-02-24T00:00:00.000000000",
          "2021-02-25T00:00:00.000000000",
          "2021-02-26T00:00:00.000000000",
          "2021-02-27T00:00:00.000000000",
          "2021-02-28T00:00:00.000000000",
          "2021-03-01T00:00:00.000000000",
          "2021-03-02T00:00:00.000000000",
          "2021-03-03T00:00:00.000000000",
          "2021-03-04T00:00:00.000000000",
          "2021-03-05T00:00:00.000000000",
          "2021-03-06T00:00:00.000000000",
          "2021-03-07T00:00:00.000000000",
          "2021-03-08T00:00:00.000000000",
          "2021-03-09T00:00:00.000000000",
          "2021-03-10T00:00:00.000000000",
          "2021-03-11T00:00:00.000000000",
          "2021-03-12T00:00:00.000000000",
          "2021-03-13T00:00:00.000000000",
          "2021-03-14T00:00:00.000000000",
          "2021-03-15T00:00:00.000000000",
          "2021-03-16T00:00:00.000000000",
          "2021-03-17T00:00:00.000000000",
          "2021-03-18T00:00:00.000000000",
          "2021-03-19T00:00:00.000000000",
          "2021-03-20T00:00:00.000000000",
          "2021-03-21T00:00:00.000000000",
          "2021-03-22T00:00:00.000000000",
          "2021-03-23T00:00:00.000000000",
          "2021-03-24T00:00:00.000000000",
          "2021-03-25T00:00:00.000000000",
          "2021-03-26T00:00:00.000000000",
          "2021-03-27T00:00:00.000000000",
          "2021-03-28T00:00:00.000000000",
          "2021-03-29T00:00:00.000000000",
          "2021-03-30T00:00:00.000000000",
          "2021-03-31T00:00:00.000000000",
          "2021-04-01T00:00:00.000000000",
          "2021-04-02T00:00:00.000000000",
          "2021-04-03T00:00:00.000000000",
          "2021-04-04T00:00:00.000000000",
          "2021-04-05T00:00:00.000000000",
          "2021-04-06T00:00:00.000000000",
          "2021-04-07T00:00:00.000000000",
          "2021-04-08T00:00:00.000000000",
          "2021-04-09T00:00:00.000000000",
          "2021-04-10T00:00:00.000000000",
          "2021-04-11T00:00:00.000000000",
          "2021-04-12T00:00:00.000000000",
          "2021-04-13T00:00:00.000000000",
          "2021-04-14T00:00:00.000000000",
          "2021-04-15T00:00:00.000000000",
          "2021-04-16T00:00:00.000000000",
          "2021-04-17T00:00:00.000000000",
          "2021-04-18T00:00:00.000000000",
          "2021-04-19T00:00:00.000000000",
          "2021-04-20T00:00:00.000000000",
          "2021-04-21T00:00:00.000000000",
          "2021-04-22T00:00:00.000000000",
          "2021-04-23T00:00:00.000000000",
          "2021-04-24T00:00:00.000000000",
          "2021-04-25T00:00:00.000000000",
          "2021-04-26T00:00:00.000000000",
          "2021-04-27T00:00:00.000000000",
          "2021-04-28T00:00:00.000000000",
          "2021-04-29T00:00:00.000000000",
          "2021-04-30T00:00:00.000000000",
          "2021-05-01T00:00:00.000000000",
          "2021-05-02T00:00:00.000000000",
          "2021-05-03T00:00:00.000000000",
          "2021-05-04T00:00:00.000000000",
          "2021-05-05T00:00:00.000000000",
          "2021-05-06T00:00:00.000000000",
          "2021-05-07T00:00:00.000000000",
          "2021-05-08T00:00:00.000000000",
          "2021-05-09T00:00:00.000000000",
          "2021-05-10T00:00:00.000000000",
          "2021-05-11T00:00:00.000000000",
          "2021-05-12T00:00:00.000000000",
          "2021-05-13T00:00:00.000000000",
          "2021-05-14T00:00:00.000000000",
          "2021-05-15T00:00:00.000000000",
          "2021-05-16T00:00:00.000000000",
          "2021-05-17T00:00:00.000000000",
          "2021-05-18T00:00:00.000000000",
          "2021-05-19T00:00:00.000000000",
          "2021-05-20T00:00:00.000000000",
          "2021-05-21T00:00:00.000000000",
          "2021-05-22T00:00:00.000000000",
          "2021-05-23T00:00:00.000000000",
          "2021-05-24T00:00:00.000000000",
          "2021-05-25T00:00:00.000000000",
          "2021-05-26T00:00:00.000000000",
          "2021-05-27T00:00:00.000000000",
          "2021-05-28T00:00:00.000000000",
          "2021-05-29T00:00:00.000000000",
          "2021-05-30T00:00:00.000000000",
          "2021-05-31T00:00:00.000000000",
          "2021-06-01T00:00:00.000000000",
          "2021-06-02T00:00:00.000000000",
          "2021-06-03T00:00:00.000000000",
          "2021-06-04T00:00:00.000000000",
          "2021-06-05T00:00:00.000000000",
          "2021-06-06T00:00:00.000000000",
          "2021-06-07T00:00:00.000000000",
          "2021-06-08T00:00:00.000000000",
          "2021-06-09T00:00:00.000000000",
          "2021-06-10T00:00:00.000000000",
          "2021-06-11T00:00:00.000000000",
          "2021-06-12T00:00:00.000000000",
          "2021-06-13T00:00:00.000000000",
          "2021-06-14T00:00:00.000000000",
          "2021-06-15T00:00:00.000000000",
          "2021-06-16T00:00:00.000000000",
          "2021-06-17T00:00:00.000000000",
          "2021-06-18T00:00:00.000000000",
          "2021-06-19T00:00:00.000000000",
          "2021-06-20T00:00:00.000000000",
          "2021-06-21T00:00:00.000000000",
          "2021-06-22T00:00:00.000000000",
          "2021-06-23T00:00:00.000000000",
          "2021-06-24T00:00:00.000000000",
          "2021-06-25T00:00:00.000000000",
          "2021-06-26T00:00:00.000000000",
          "2021-06-27T00:00:00.000000000",
          "2021-06-28T00:00:00.000000000",
          "2021-06-29T00:00:00.000000000",
          "2021-06-30T00:00:00.000000000",
          "2021-07-01T00:00:00.000000000",
          "2021-07-02T00:00:00.000000000",
          "2021-07-03T00:00:00.000000000",
          "2021-07-04T00:00:00.000000000",
          "2021-07-05T00:00:00.000000000",
          "2021-07-06T00:00:00.000000000",
          "2021-07-07T00:00:00.000000000",
          "2021-07-08T00:00:00.000000000",
          "2021-07-09T00:00:00.000000000",
          "2021-07-10T00:00:00.000000000",
          "2021-07-11T00:00:00.000000000",
          "2021-07-12T00:00:00.000000000",
          "2021-07-13T00:00:00.000000000",
          "2021-07-14T00:00:00.000000000",
          "2021-07-15T00:00:00.000000000",
          "2021-07-16T00:00:00.000000000",
          "2021-07-17T00:00:00.000000000",
          "2021-07-18T00:00:00.000000000",
          "2021-07-19T00:00:00.000000000",
          "2021-07-20T00:00:00.000000000",
          "2021-07-21T00:00:00.000000000",
          "2021-07-22T00:00:00.000000000",
          "2021-07-23T00:00:00.000000000",
          "2021-07-24T00:00:00.000000000",
          "2021-07-25T00:00:00.000000000",
          "2021-07-26T00:00:00.000000000",
          "2021-07-27T00:00:00.000000000",
          "2021-07-28T00:00:00.000000000",
          "2021-07-29T00:00:00.000000000",
          "2021-07-30T00:00:00.000000000",
          "2021-07-31T00:00:00.000000000",
          "2021-08-01T00:00:00.000000000",
          "2021-08-02T00:00:00.000000000",
          "2021-08-03T00:00:00.000000000",
          "2021-08-04T00:00:00.000000000",
          "2021-08-05T00:00:00.000000000",
          "2021-08-06T00:00:00.000000000",
          "2021-08-07T00:00:00.000000000",
          "2021-08-08T00:00:00.000000000",
          "2021-08-09T00:00:00.000000000",
          "2021-08-10T00:00:00.000000000",
          "2021-08-11T00:00:00.000000000",
          "2021-08-12T00:00:00.000000000",
          "2021-08-13T00:00:00.000000000",
          "2021-08-14T00:00:00.000000000",
          "2021-08-15T00:00:00.000000000",
          "2021-08-16T00:00:00.000000000",
          "2021-08-17T00:00:00.000000000",
          "2021-08-18T00:00:00.000000000",
          "2021-08-19T00:00:00.000000000",
          "2021-08-20T00:00:00.000000000",
          "2021-08-21T00:00:00.000000000",
          "2021-08-22T00:00:00.000000000",
          "2021-08-23T00:00:00.000000000",
          "2021-08-24T00:00:00.000000000",
          "2021-08-25T00:00:00.000000000",
          "2021-08-26T00:00:00.000000000",
          "2021-08-27T00:00:00.000000000",
          "2021-08-28T00:00:00.000000000",
          "2021-08-29T00:00:00.000000000",
          "2021-08-30T00:00:00.000000000",
          "2021-08-31T00:00:00.000000000",
          "2021-09-01T00:00:00.000000000",
          "2021-09-02T00:00:00.000000000",
          "2021-09-03T00:00:00.000000000",
          "2021-09-04T00:00:00.000000000",
          "2021-09-05T00:00:00.000000000",
          "2021-09-06T00:00:00.000000000",
          "2021-09-07T00:00:00.000000000",
          "2021-09-08T00:00:00.000000000",
          "2021-09-09T00:00:00.000000000",
          "2021-09-10T00:00:00.000000000",
          "2021-09-11T00:00:00.000000000",
          "2021-09-12T00:00:00.000000000",
          "2021-09-13T00:00:00.000000000",
          "2021-09-14T00:00:00.000000000",
          "2021-09-15T00:00:00.000000000",
          "2021-09-16T00:00:00.000000000",
          "2021-09-17T00:00:00.000000000",
          "2021-09-18T00:00:00.000000000",
          "2021-09-19T00:00:00.000000000",
          "2021-09-20T00:00:00.000000000",
          "2021-09-21T00:00:00.000000000",
          "2021-09-22T00:00:00.000000000",
          "2021-09-23T00:00:00.000000000",
          "2021-09-24T00:00:00.000000000",
          "2021-09-25T00:00:00.000000000",
          "2021-09-26T00:00:00.000000000",
          "2021-09-27T00:00:00.000000000",
          "2021-09-28T00:00:00.000000000",
          "2021-09-29T00:00:00.000000000",
          "2021-09-30T00:00:00.000000000",
          "2021-10-01T00:00:00.000000000",
          "2021-10-02T00:00:00.000000000",
          "2021-10-03T00:00:00.000000000",
          "2021-10-04T00:00:00.000000000",
          "2021-10-05T00:00:00.000000000",
          "2021-10-06T00:00:00.000000000",
          "2021-10-07T00:00:00.000000000",
          "2021-10-08T00:00:00.000000000",
          "2021-10-09T00:00:00.000000000",
          "2021-10-10T00:00:00.000000000",
          "2021-10-11T00:00:00.000000000",
          "2021-10-12T00:00:00.000000000",
          "2021-10-13T00:00:00.000000000",
          "2021-10-14T00:00:00.000000000",
          "2021-10-15T00:00:00.000000000",
          "2021-10-16T00:00:00.000000000",
          "2021-10-17T00:00:00.000000000",
          "2021-10-18T00:00:00.000000000",
          "2021-10-19T00:00:00.000000000",
          "2021-10-20T00:00:00.000000000",
          "2021-10-21T00:00:00.000000000",
          "2021-10-22T00:00:00.000000000",
          "2021-10-23T00:00:00.000000000",
          "2021-10-24T00:00:00.000000000",
          "2021-10-25T00:00:00.000000000",
          "2021-10-26T00:00:00.000000000",
          "2021-10-27T00:00:00.000000000",
          "2021-10-28T00:00:00.000000000",
          "2021-10-29T00:00:00.000000000",
          "2021-10-30T00:00:00.000000000",
          "2021-10-31T00:00:00.000000000",
          "2021-11-01T00:00:00.000000000",
          "2021-11-02T00:00:00.000000000",
          "2021-11-03T00:00:00.000000000",
          "2021-11-04T00:00:00.000000000",
          "2021-11-05T00:00:00.000000000",
          "2021-11-06T00:00:00.000000000",
          "2021-11-07T00:00:00.000000000",
          "2021-11-08T00:00:00.000000000",
          "2021-11-09T00:00:00.000000000",
          "2021-11-10T00:00:00.000000000",
          "2021-11-11T00:00:00.000000000",
          "2021-11-12T00:00:00.000000000",
          "2021-11-13T00:00:00.000000000",
          "2021-11-14T00:00:00.000000000",
          "2021-11-15T00:00:00.000000000",
          "2021-11-16T00:00:00.000000000",
          "2021-11-17T00:00:00.000000000",
          "2021-11-18T00:00:00.000000000",
          "2021-11-19T00:00:00.000000000",
          "2021-11-20T00:00:00.000000000",
          "2021-11-21T00:00:00.000000000",
          "2021-11-22T00:00:00.000000000",
          "2021-11-23T00:00:00.000000000",
          "2021-11-24T00:00:00.000000000",
          "2021-11-25T00:00:00.000000000",
          "2021-11-26T00:00:00.000000000",
          "2021-11-27T00:00:00.000000000",
          "2021-11-28T00:00:00.000000000",
          "2021-11-29T00:00:00.000000000",
          "2021-11-30T00:00:00.000000000",
          "2021-12-01T00:00:00.000000000",
          "2021-12-02T00:00:00.000000000",
          "2021-12-03T00:00:00.000000000",
          "2021-12-04T00:00:00.000000000",
          "2021-12-05T00:00:00.000000000"
         ],
         "y": {
          "bdata": "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",
          "dtype": "f8"
         }
        }
       ],
       "layout": {
        "template": {
         "data": {
          "bar": [
           {
            "error_x": {
             "color": "#2a3f5f"
            },
            "error_y": {
             "color": "#2a3f5f"
            },
            "marker": {
             "line": {
              "color": "#E5ECF6",
              "width": 0.5
             },
             "pattern": {
              "fillmode": "overlay",
              "size": 10,
              "solidity": 0.2
             }
            },
            "type": "bar"
           }
          ],
          "barpolar": [
           {
            "marker": {
             "line": {
              "color": "#E5ECF6",
              "width": 0.5
             },
             "pattern": {
              "fillmode": "overlay",
              "size": 10,
              "solidity": 0.2
             }
            },
            "type": "barpolar"
           }
          ],
          "carpet": [
           {
            "aaxis": {
             "endlinecolor": "#2a3f5f",
             "gridcolor": "white",
             "linecolor": "white",
             "minorgridcolor": "white",
             "startlinecolor": "#2a3f5f"
            },
            "baxis": {
             "endlinecolor": "#2a3f5f",
             "gridcolor": "white",
             "linecolor": "white",
             "minorgridcolor": "white",
             "startlinecolor": "#2a3f5f"
            },
            "type": "carpet"
           }
          ],
          "choropleth": [
           {
            "colorbar": {
             "outlinewidth": 0,
             "ticks": ""
            },
            "type": "choropleth"
           }
          ],
          "contour": [
           {
            "colorbar": {
             "outlinewidth": 0,
             "ticks": ""
            },
            "colorscale": [
             [
              0,
              "#0d0887"
             ],
             [
              0.1111111111111111,
              "#46039f"
             ],
             [
              0.2222222222222222,
              "#7201a8"
             ],
             [
              0.3333333333333333,
              "#9c179e"
             ],
             [
              0.4444444444444444,
              "#bd3786"
             ],
             [
              0.5555555555555556,
              "#d8576b"
             ],
             [
              0.6666666666666666,
              "#ed7953"
             ],
             [
              0.7777777777777778,
              "#fb9f3a"
             ],
             [
              0.8888888888888888,
              "#fdca26"
             ],
             [
              1,
              "#f0f921"
             ]
            ],
            "type": "contour"
           }
          ],
          "contourcarpet": [
           {
            "colorbar": {
             "outlinewidth": 0,
             "ticks": ""
            },
            "type": "contourcarpet"
           }
          ],
          "heatmap": [
           {
            "colorbar": {
             "outlinewidth": 0,
             "ticks": ""
            },
            "colorscale": [
             [
              0,
              "#0d0887"
             ],
             [
              0.1111111111111111,
              "#46039f"
             ],
             [
              0.2222222222222222,
              "#7201a8"
             ],
             [
              0.3333333333333333,
              "#9c179e"
             ],
             [
              0.4444444444444444,
              "#bd3786"
             ],
             [
              0.5555555555555556,
              "#d8576b"
             ],
             [
              0.6666666666666666,
              "#ed7953"
             ],
             [
              0.7777777777777778,
              "#fb9f3a"
             ],
             [
              0.8888888888888888,
              "#fdca26"
             ],
             [
              1,
              "#f0f921"
             ]
            ],
            "type": "heatmap"
           }
          ],
          "histogram": [
           {
            "marker": {
             "pattern": {
              "fillmode": "overlay",
              "size": 10,
              "solidity": 0.2
             }
            },
            "type": "histogram"
           }
          ],
          "histogram2d": [
           {
            "colorbar": {
             "outlinewidth": 0,
             "ticks": ""
            },
            "colorscale": [
             [
              0,
              "#0d0887"
             ],
             [
              0.1111111111111111,
              "#46039f"
             ],
             [
              0.2222222222222222,
              "#7201a8"
             ],
             [
              0.3333333333333333,
              "#9c179e"
             ],
             [
              0.4444444444444444,
              "#bd3786"
             ],
             [
              0.5555555555555556,
              "#d8576b"
             ],
             [
              0.6666666666666666,
              "#ed7953"
             ],
             [
              0.7777777777777778,
              "#fb9f3a"
             ],
             [
              0.8888888888888888,
              "#fdca26"
             ],
             [
              1,
              "#f0f921"
             ]
            ],
            "type": "histogram2d"
           }
          ],
          "histogram2dcontour": [
           {
            "colorbar": {
             "outlinewidth": 0,
             "ticks": ""
            },
            "colorscale": [
             [
              0,
              "#0d0887"
             ],
             [
              0.1111111111111111,
              "#46039f"
             ],
             [
              0.2222222222222222,
              "#7201a8"
             ],
             [
              0.3333333333333333,
              "#9c179e"
             ],
             [
              0.4444444444444444,
              "#bd3786"
             ],
             [
              0.5555555555555556,
              "#d8576b"
             ],
             [
              0.6666666666666666,
              "#ed7953"
             ],
             [
              0.7777777777777778,
              "#fb9f3a"
             ],
             [
              0.8888888888888888,
              "#fdca26"
             ],
             [
              1,
              "#f0f921"
             ]
            ],
            "type": "histogram2dcontour"
           }
          ],
          "mesh3d": [
           {
            "colorbar": {
             "outlinewidth": 0,
             "ticks": ""
            },
            "type": "mesh3d"
           }
          ],
          "parcoords": [
           {
            "line": {
             "colorbar": {
              "outlinewidth": 0,
              "ticks": ""
             }
            },
            "type": "parcoords"
           }
          ],
          "pie": [
           {
            "automargin": true,
            "type": "pie"
           }
          ],
          "scatter": [
           {
            "fillpattern": {
             "fillmode": "overlay",
             "size": 10,
             "solidity": 0.2
            },
            "type": "scatter"
           }
          ],
          "scatter3d": [
           {
            "line": {
             "colorbar": {
              "outlinewidth": 0,
              "ticks": ""
             }
            },
            "marker": {
             "colorbar": {
              "outlinewidth": 0,
              "ticks": ""
             }
            },
            "type": "scatter3d"
           }
          ],
          "scattercarpet": [
           {
            "marker": {
             "colorbar": {
              "outlinewidth": 0,
              "ticks": ""
             }
            },
            "type": "scattercarpet"
           }
          ],
          "scattergeo": [
           {
            "marker": {
             "colorbar": {
              "outlinewidth": 0,
              "ticks": ""
             }
            },
            "type": "scattergeo"
           }
          ],
          "scattergl": [
           {
            "marker": {
             "colorbar": {
              "outlinewidth": 0,
              "ticks": ""
             }
            },
            "type": "scattergl"
           }
          ],
          "scattermap": [
           {
            "marker": {
             "colorbar": {
              "outlinewidth": 0,
              "ticks": ""
             }
            },
            "type": "scattermap"
           }
          ],
          "scattermapbox": [
           {
            "marker": {
             "colorbar": {
              "outlinewidth": 0,
              "ticks": ""
             }
            },
            "type": "scattermapbox"
           }
          ],
          "scatterpolar": [
           {
            "marker": {
             "colorbar": {
              "outlinewidth": 0,
              "ticks": ""
             }
            },
            "type": "scatterpolar"
           }
          ],
          "scatterpolargl": [
           {
            "marker": {
             "colorbar": {
              "outlinewidth": 0,
              "ticks": ""
             }
            },
            "type": "scatterpolargl"
           }
          ],
          "scatterternary": [
           {
            "marker": {
             "colorbar": {
              "outlinewidth": 0,
              "ticks": ""
             }
            },
            "type": "scatterternary"
           }
          ],
          "surface": [
           {
            "colorbar": {
             "outlinewidth": 0,
             "ticks": ""
            },
            "colorscale": [
             [
              0,
              "#0d0887"
             ],
             [
              0.1111111111111111,
              "#46039f"
             ],
             [
              0.2222222222222222,
              "#7201a8"
             ],
             [
              0.3333333333333333,
              "#9c179e"
             ],
             [
              0.4444444444444444,
              "#bd3786"
             ],
             [
              0.5555555555555556,
              "#d8576b"
             ],
             [
              0.6666666666666666,
              "#ed7953"
             ],
             [
              0.7777777777777778,
              "#fb9f3a"
             ],
             [
              0.8888888888888888,
              "#fdca26"
             ],
             [
              1,
              "#f0f921"
             ]
            ],
            "type": "surface"
           }
          ],
          "table": [
           {
            "cells": {
             "fill": {
              "color": "#EBF0F8"
             },
             "line": {
              "color": "white"
             }
            },
            "header": {
             "fill": {
              "color": "#C8D4E3"
             },
             "line": {
              "color": "white"
             }
            },
            "type": "table"
           }
          ]
         },
         "layout": {
          "annotationdefaults": {
           "arrowcolor": "#2a3f5f",
           "arrowhead": 0,
           "arrowwidth": 1
          },
          "autotypenumbers": "strict",
          "coloraxis": {
           "colorbar": {
            "outlinewidth": 0,
            "ticks": ""
           }
          },
          "colorscale": {
           "diverging": [
            [
             0,
             "#8e0152"
            ],
            [
             0.1,
             "#c51b7d"
            ],
            [
             0.2,
             "#de77ae"
            ],
            [
             0.3,
             "#f1b6da"
            ],
            [
             0.4,
             "#fde0ef"
            ],
            [
             0.5,
             "#f7f7f7"
            ],
            [
             0.6,
             "#e6f5d0"
            ],
            [
             0.7,
             "#b8e186"
            ],
            [
             0.8,
             "#7fbc41"
            ],
            [
             0.9,
             "#4d9221"
            ],
            [
             1,
             "#276419"
            ]
           ],
           "sequential": [
            [
             0,
             "#0d0887"
            ],
            [
             0.1111111111111111,
             "#46039f"
            ],
            [
             0.2222222222222222,
             "#7201a8"
            ],
            [
             0.3333333333333333,
             "#9c179e"
            ],
            [
             0.4444444444444444,
             "#bd3786"
            ],
            [
             0.5555555555555556,
             "#d8576b"
            ],
            [
             0.6666666666666666,
             "#ed7953"
            ],
            [
             0.7777777777777778,
             "#fb9f3a"
            ],
            [
             0.8888888888888888,
             "#fdca26"
            ],
            [
             1,
             "#f0f921"
            ]
           ],
           "sequentialminus": [
            [
             0,
             "#0d0887"
            ],
            [
             0.1111111111111111,
             "#46039f"
            ],
            [
             0.2222222222222222,
             "#7201a8"
            ],
            [
             0.3333333333333333,
             "#9c179e"
            ],
            [
             0.4444444444444444,
             "#bd3786"
            ],
            [
             0.5555555555555556,
             "#d8576b"
            ],
            [
             0.6666666666666666,
             "#ed7953"
            ],
            [
             0.7777777777777778,
             "#fb9f3a"
            ],
            [
             0.8888888888888888,
             "#fdca26"
            ],
            [
             1,
             "#f0f921"
            ]
           ]
          },
          "colorway": [
           "#636efa",
           "#EF553B",
           "#00cc96",
           "#ab63fa",
           "#FFA15A",
           "#19d3f3",
           "#FF6692",
           "#B6E880",
           "#FF97FF",
           "#FECB52"
          ],
          "font": {
           "color": "#2a3f5f"
          },
          "geo": {
           "bgcolor": "white",
           "lakecolor": "white",
           "landcolor": "#E5ECF6",
           "showlakes": true,
           "showland": true,
           "subunitcolor": "white"
          },
          "hoverlabel": {
           "align": "left"
          },
          "hovermode": "closest",
          "mapbox": {
           "style": "light"
          },
          "paper_bgcolor": "white",
          "plot_bgcolor": "#E5ECF6",
          "polar": {
           "angularaxis": {
            "gridcolor": "white",
            "linecolor": "white",
            "ticks": ""
           },
           "bgcolor": "#E5ECF6",
           "radialaxis": {
            "gridcolor": "white",
            "linecolor": "white",
            "ticks": ""
           }
          },
          "scene": {
           "xaxis": {
            "backgroundcolor": "#E5ECF6",
            "gridcolor": "white",
            "gridwidth": 2,
            "linecolor": "white",
            "showbackground": true,
            "ticks": "",
            "zerolinecolor": "white"
           },
           "yaxis": {
            "backgroundcolor": "#E5ECF6",
            "gridcolor": "white",
            "gridwidth": 2,
            "linecolor": "white",
            "showbackground": true,
            "ticks": "",
            "zerolinecolor": "white"
           },
           "zaxis": {
            "backgroundcolor": "#E5ECF6",
            "gridcolor": "white",
            "gridwidth": 2,
            "linecolor": "white",
            "showbackground": true,
            "ticks": "",
            "zerolinecolor": "white"
           }
          },
          "shapedefaults": {
           "line": {
            "color": "#2a3f5f"
           }
          },
          "ternary": {
           "aaxis": {
            "gridcolor": "white",
            "linecolor": "white",
            "ticks": ""
           },
           "baxis": {
            "gridcolor": "white",
            "linecolor": "white",
            "ticks": ""
           },
           "bgcolor": "#E5ECF6",
           "caxis": {
            "gridcolor": "white",
            "linecolor": "white",
            "ticks": ""
           }
          },
          "title": {
           "x": 0.05
          },
          "xaxis": {
           "automargin": true,
           "gridcolor": "white",
           "linecolor": "white",
           "ticks": "",
           "title": {
            "standoff": 15
           },
           "zerolinecolor": "white",
           "zerolinewidth": 2
          },
          "yaxis": {
           "automargin": true,
           "gridcolor": "white",
           "linecolor": "white",
           "ticks": "",
           "title": {
            "standoff": 15
           },
           "zerolinecolor": "white",
           "zerolinewidth": 2
          }
         }
        }
       }
      }
     },
     "metadata": {},
     "output_type": "display_data"
    }
   ],
   "source": [
    "fig = go.Figure([go.Scatter(x=df['ds'], y=df['y'],mode='lines',\n",
    "                    name='Actual')])\n",
    "\n",
    "\n",
    "fig.add_trace(go.Scatter(x=prediction['ds'], y=prediction['yhat'],\n",
    "                   mode='lines+markers',\n",
    "                    name='predicted'))\n",
    "\n",
    "fig.show()"
   ]
  },
  {
   "cell_type": "code",
   "execution_count": 22,
   "id": "2beeeb64",
   "metadata": {},
   "outputs": [
    {
     "name": "stdout",
     "output_type": "stream",
     "text": [
      "MAE: 7.904\n"
     ]
    }
   ],
   "source": [
    "# mean absolute error\n",
    "#Return a Numpy representation of the DataFrame.\n",
    "y_true = df['y'].values\n",
    "\n",
    "#Here we have specified [:498] because in y_true we have 498 data points so for comparing both series we need equal shape of series.\n",
    "y_pred = prediction['yhat'][:498].values \n",
    "\n",
    "\n",
    "mae = mean_absolute_error(y_true, y_pred)\n",
    "print('MAE: %.3f' % mae)"
   ]
  },
  {
   "cell_type": "markdown",
   "id": "e20aaa83",
   "metadata": {},
   "source": [
    "### optimizing the model for better perfomamnce"
   ]
  },
  {
   "cell_type": "code",
   "execution_count": 23,
   "id": "25003f86",
   "metadata": {},
   "outputs": [
    {
     "name": "stderr",
     "output_type": "stream",
     "text": [
      "23:51:38 - cmdstanpy - INFO - Chain [1] start processing\n",
      "23:51:38 - cmdstanpy - INFO - Chain [1] done processing\n"
     ]
    },
    {
     "data": {
      "text/plain": [
       "{'additive': ['yearly',\n",
       "  'weekly',\n",
       "  'daily',\n",
       "  'additive_terms',\n",
       "  'extra_regressors_additive',\n",
       "  'holidays'],\n",
       " 'multiplicative': ['multiplicative_terms', 'extra_regressors_multiplicative']}"
      ]
     },
     "execution_count": 23,
     "metadata": {},
     "output_type": "execute_result"
    }
   ],
   "source": [
    "# initialize and tune hyperparameters\n",
    "model1=Prophet(daily_seasonality=True).add_seasonality(name='yearly',\n",
    "                                                       period=365,\n",
    "                                                       fourier_order=70)\n",
    "\n",
    "# fit the model to the data \n",
    "model1.fit(df)\n",
    "\n",
    "#print model components\n",
    "model1.component_modes"
   ]
  },
  {
   "cell_type": "code",
   "execution_count": 24,
   "id": "34246016",
   "metadata": {},
   "outputs": [],
   "source": [
    "# make future dataframe\n",
    "future_dates1=model1.make_future_dataframe(periods=365)\n",
    "\n",
    "prediction1=model1.predict(future_dates1)"
   ]
  },
  {
   "cell_type": "code",
   "execution_count": 25,
   "id": "79cf50b5",
   "metadata": {},
   "outputs": [
    {
     "name": "stderr",
     "output_type": "stream",
     "text": [
      "C:\\Users\\Morinyo Baddestman\\AppData\\Local\\Temp\\ipykernel_4056\\2761334639.py:3: UserWarning:\n",
      "\n",
      "FigureCanvasAgg is non-interactive, and thus cannot be shown\n",
      "\n"
     ]
    },
    {
     "data": {
      "image/png": "[encoded data removed]",
      "text/plain": [
       "<Figure size 900x1200 with 4 Axes>"
      ]
     },
     "metadata": {},
     "output_type": "display_data"
    }
   ],
   "source": [
    "# plot the model components\n",
    "fig = model1.plot_components(prediction1)\n",
    "fig.show()"
   ]
  },
  {
   "cell_type": "code",
   "execution_count": null,
   "id": "78a0692a",
   "metadata": {},
   "outputs": [
    {
     "name": "stdout",
     "output_type": "stream",
     "text": [
      "MAE: 4.020\n"
     ]
    }
   ],
   "source": [
    "# evaluate the models perfomance\n",
    "y_true = df['y'].values\n",
    "y_pred = prediction1['yhat'][:498].values\n",
    "mae = mean_absolute_error(y_true, y_pred)\n",
    "print('MAE: %.3f' % mae)"
   ]
  },
  {
   "cell_type": "markdown",
   "id": "b372f6e8",
   "metadata": {},
   "source": [
    "On tuning the model hyperparameters the model shows some improvemets in the mean absolute error metric"
   ]
  },
  {
   "cell_type": "code",
   "execution_count": null,
   "id": "3a6585b1",
   "metadata": {},
   "outputs": [
    {
     "data": {
      "application/vnd.plotly.v1+json": {
       "config": {
        "plotlyServerURL": "https://plot.ly"
       },
       "data": [
        {
         "mode": "lines",
         "name": "Actual",
         "type": "scatter",
         "x": [
          "2019-01-02T00:00:00.000000000",
          "2019-01-03T00:00:00.000000000",
          "2019-01-04T00:00:00.000000000",
          "2019-01-05T00:00:00.000000000",
          "2019-01-06T00:00:00.000000000",
          "2019-01-07T00:00:00.000000000",
          "2019-01-08T00:00:00.000000000",
          "2019-01-09T00:00:00.000000000",
          "2019-01-10T00:00:00.000000000",
          "2019-01-11T00:00:00.000000000",
          "2019-01-12T00:00:00.000000000",
          "2019-01-13T00:00:00.000000000",
          "2019-01-14T00:00:00.000000000",
          "2019-01-15T00:00:00.000000000",
          "2019-01-16T00:00:00.000000000",
          "2019-01-17T00:00:00.000000000",
          "2019-01-18T00:00:00.000000000",
          "2019-01-19T00:00:00.000000000",
          "2019-01-20T00:00:00.000000000",
          "2019-01-21T00:00:00.000000000",
          "2019-01-22T00:00:00.000000000",
          "2019-01-23T00:00:00.000000000",
          "2019-01-24T00:00:00.000000000",
          "2019-01-25T00:00:00.000000000",
          "2019-01-26T00:00:00.000000000",
          "2019-01-27T00:00:00.000000000",
          "2019-01-28T00:00:00.000000000",
          "2019-01-29T00:00:00.000000000",
          "2019-01-30T00:00:00.000000000",
          "2019-01-31T00:00:00.000000000",
          "2019-02-02T00:00:00.000000000",
          "2019-02-03T00:00:00.000000000",
          "2019-02-04T00:00:00.000000000",
          "2019-02-05T00:00:00.000000000",
          "2019-02-06T00:00:00.000000000",
          "2019-02-07T00:00:00.000000000",
          "2019-02-08T00:00:00.000000000",
          "2019-02-09T00:00:00.000000000",
          "2019-02-10T00:00:00.000000000",
          "2019-02-11T00:00:00.000000000",
          "2019-02-12T00:00:00.000000000",
          "2019-02-13T00:00:00.000000000",
          "2019-02-14T00:00:00.000000000",
          "2019-02-15T00:00:00.000000000",
          "2019-02-16T00:00:00.000000000",
          "2019-02-17T00:00:00.000000000",
          "2019-02-18T00:00:00.000000000",
          "2019-02-19T00:00:00.000000000",
          "2019-02-20T00:00:00.000000000",
          "2019-02-21T00:00:00.000000000",
          "2019-02-22T00:00:00.000000000",
          "2019-02-23T00:00:00.000000000",
          "2019-02-24T00:00:00.000000000",
          "2019-02-25T00:00:00.000000000",
          "2019-02-26T00:00:00.000000000",
          "2019-02-27T00:00:00.000000000",
          "2019-02-28T00:00:00.000000000",
          "2019-03-02T00:00:00.000000000",
          "2019-03-03T00:00:00.000000000",
          "2019-03-04T00:00:00.000000000",
          "2019-03-05T00:00:00.000000000",
          "2019-03-06T00:00:00.000000000",
          "2019-03-07T00:00:00.000000000",
          "2019-03-08T00:00:00.000000000",
          "2019-03-09T00:00:00.000000000",
          "2019-03-10T00:00:00.000000000",
          "2019-03-11T00:00:00.000000000",
          "2019-03-12T00:00:00.000000000",
          "2019-03-13T00:00:00.000000000",
          "2019-03-14T00:00:00.000000000",
          "2019-03-15T00:00:00.000000000",
          "2019-03-16T00:00:00.000000000",
          "2019-03-17T00:00:00.000000000",
          "2019-03-18T00:00:00.000000000",
          "2019-03-19T00:00:00.000000000",
          "2019-03-20T00:00:00.000000000",
          "2019-03-21T00:00:00.000000000",
          "2019-03-22T00:00:00.000000000",
          "2019-03-23T00:00:00.000000000",
          "2019-03-24T00:00:00.000000000",
          "2019-03-25T00:00:00.000000000",
          "2019-03-26T00:00:00.000000000",
          "2019-03-27T00:00:00.000000000",
          "2019-03-28T00:00:00.000000000",
          "2019-03-29T00:00:00.000000000",
          "2019-03-30T00:00:00.000000000",
          "2019-03-31T00:00:00.000000000",
          "2019-04-02T00:00:00.000000000",
          "2019-04-03T00:00:00.000000000",
          "2019-04-04T00:00:00.000000000",
          "2019-04-05T00:00:00.000000000",
          "2019-04-06T00:00:00.000000000",
          "2019-04-07T00:00:00.000000000",
          "2019-04-08T00:00:00.000000000",
          "2019-04-09T00:00:00.000000000",
          "2019-04-10T00:00:00.000000000",
          "2019-04-11T00:00:00.000000000",
          "2019-04-12T00:00:00.000000000",
          "2019-04-13T00:00:00.000000000",
          "2019-04-14T00:00:00.000000000",
          "2019-04-15T00:00:00.000000000",
          "2019-04-16T00:00:00.000000000",
          "2019-04-17T00:00:00.000000000",
          "2019-04-18T00:00:00.000000000",
          "2019-04-19T00:00:00.000000000",
          "2019-04-20T00:00:00.000000000",
          "2019-04-21T00:00:00.000000000",
          "2019-04-22T00:00:00.000000000",
          "2019-04-23T00:00:00.000000000",
          "2019-04-24T00:00:00.000000000",
          "2019-04-25T00:00:00.000000000",
          "2019-04-26T00:00:00.000000000",
          "2019-04-27T00:00:00.000000000",
          "2019-04-28T00:00:00.000000000",
          "2019-04-29T00:00:00.000000000",
          "2019-04-30T00:00:00.000000000",
          "2019-05-02T00:00:00.000000000",
          "2019-05-03T00:00:00.000000000",
          "2019-05-04T00:00:00.000000000",
          "2019-05-05T00:00:00.000000000",
          "2019-05-06T00:00:00.000000000",
          "2019-05-07T00:00:00.000000000",
          "2019-05-08T00:00:00.000000000",
          "2019-05-09T00:00:00.000000000",
          "2019-05-10T00:00:00.000000000",
          "2019-05-11T00:00:00.000000000",
          "2019-05-12T00:00:00.000000000",
          "2019-05-13T00:00:00.000000000",
          "2019-05-14T00:00:00.000000000",
          "2019-05-15T00:00:00.000000000",
          "2019-05-16T00:00:00.000000000",
          "2019-05-17T00:00:00.000000000",
          "2019-05-18T00:00:00.000000000",
          "2019-05-19T00:00:00.000000000",
          "2019-05-20T00:00:00.000000000",
          "2019-05-21T00:00:00.000000000",
          "2019-05-22T00:00:00.000000000",
          "2019-05-23T00:00:00.000000000",
          "2019-05-24T00:00:00.000000000",
          "2019-05-25T00:00:00.000000000",
          "2019-05-26T00:00:00.000000000",
          "2019-05-27T00:00:00.000000000",
          "2019-05-28T00:00:00.000000000",
          "2019-05-29T00:00:00.000000000",
          "2019-05-30T00:00:00.000000000",
          "2019-05-31T00:00:00.000000000",
          "2019-06-02T00:00:00.000000000",
          "2019-06-03T00:00:00.000000000",
          "2019-06-04T00:00:00.000000000",
          "2019-06-05T00:00:00.000000000",
          "2019-06-06T00:00:00.000000000",
          "2019-06-07T00:00:00.000000000",
          "2019-06-08T00:00:00.000000000",
          "2019-06-09T00:00:00.000000000",
          "2019-06-10T00:00:00.000000000",
          "2019-06-11T00:00:00.000000000",
          "2019-06-12T00:00:00.000000000",
          "2019-06-13T00:00:00.000000000",
          "2019-06-14T00:00:00.000000000",
          "2019-06-15T00:00:00.000000000",
          "2019-06-16T00:00:00.000000000",
          "2019-06-17T00:00:00.000000000",
          "2019-06-18T00:00:00.000000000",
          "2019-06-19T00:00:00.000000000",
          "2019-06-20T00:00:00.000000000",
          "2019-06-21T00:00:00.000000000",
          "2019-06-22T00:00:00.000000000",
          "2019-06-23T00:00:00.000000000",
          "2019-06-24T00:00:00.000000000",
          "2019-06-25T00:00:00.000000000",
          "2019-06-26T00:00:00.000000000",
          "2019-06-27T00:00:00.000000000",
          "2019-06-28T00:00:00.000000000",
          "2019-06-29T00:00:00.000000000",
          "2019-06-30T00:00:00.000000000",
          "2019-07-01T00:00:00.000000000",
          "2019-07-02T00:00:00.000000000",
          "2019-07-03T00:00:00.000000000",
          "2019-07-04T00:00:00.000000000",
          "2019-07-05T00:00:00.000000000",
          "2019-07-06T00:00:00.000000000",
          "2019-07-07T00:00:00.000000000",
          "2019-07-08T00:00:00.000000000",
          "2019-07-09T00:00:00.000000000",
          "2019-07-10T00:00:00.000000000",
          "2019-07-11T00:00:00.000000000",
          "2019-07-12T00:00:00.000000000",
          "2019-07-13T00:00:00.000000000",
          "2019-07-14T00:00:00.000000000",
          "2019-07-15T00:00:00.000000000",
          "2019-07-16T00:00:00.000000000",
          "2019-07-17T00:00:00.000000000",
          "2019-07-18T00:00:00.000000000",
          "2019-07-19T00:00:00.000000000",
          "2019-07-20T00:00:00.000000000",
          "2019-07-21T00:00:00.000000000",
          "2019-07-22T00:00:00.000000000",
          "2019-07-23T00:00:00.000000000",
          "2019-07-24T00:00:00.000000000",
          "2019-07-25T00:00:00.000000000",
          "2019-07-26T00:00:00.000000000",
          "2019-07-27T00:00:00.000000000",
          "2019-07-28T00:00:00.000000000",
          "2019-07-29T00:00:00.000000000",
          "2019-07-30T00:00:00.000000000",
          "2019-07-31T00:00:00.000000000",
          "2019-08-01T00:00:00.000000000",
          "2019-08-02T00:00:00.000000000",
          "2019-08-03T00:00:00.000000000",
          "2019-08-04T00:00:00.000000000",
          "2019-08-05T00:00:00.000000000",
          "2019-08-06T00:00:00.000000000",
          "2019-08-08T00:00:00.000000000",
          "2019-08-09T00:00:00.000000000",
          "2019-08-10T00:00:00.000000000",
          "2019-08-11T00:00:00.000000000",
          "2019-08-12T00:00:00.000000000",
          "2019-08-13T00:00:00.000000000",
          "2019-08-14T00:00:00.000000000",
          "2019-08-15T00:00:00.000000000",
          "2019-08-16T00:00:00.000000000",
          "2019-08-17T00:00:00.000000000",
          "2019-08-18T00:00:00.000000000",
          "2019-08-19T00:00:00.000000000",
          "2019-08-20T00:00:00.000000000",
          "2019-08-21T00:00:00.000000000",
          "2019-08-22T00:00:00.000000000",
          "2019-08-23T00:00:00.000000000",
          "2019-08-24T00:00:00.000000000",
          "2019-08-25T00:00:00.000000000",
          "2019-08-26T00:00:00.000000000",
          "2019-08-27T00:00:00.000000000",
          "2019-08-28T00:00:00.000000000",
          "2019-08-29T00:00:00.000000000",
          "2019-08-30T00:00:00.000000000",
          "2019-08-31T00:00:00.000000000",
          "2019-09-01T00:00:00.000000000",
          "2019-09-02T00:00:00.000000000",
          "2019-09-03T00:00:00.000000000",
          "2019-09-04T00:00:00.000000000",
          "2019-09-05T00:00:00.000000000",
          "2019-09-06T00:00:00.000000000",
          "2019-09-08T00:00:00.000000000",
          "2019-09-09T00:00:00.000000000",
          "2019-09-10T00:00:00.000000000",
          "2019-09-11T00:00:00.000000000",
          "2019-09-12T00:00:00.000000000",
          "2019-09-13T00:00:00.000000000",
          "2019-09-14T00:00:00.000000000",
          "2019-09-15T00:00:00.000000000",
          "2019-09-16T00:00:00.000000000",
          "2019-09-17T00:00:00.000000000",
          "2019-09-18T00:00:00.000000000",
          "2019-09-19T00:00:00.000000000",
          "2019-09-20T00:00:00.000000000",
          "2019-09-21T00:00:00.000000000",
          "2019-09-22T00:00:00.000000000",
          "2019-09-23T00:00:00.000000000",
          "2019-09-24T00:00:00.000000000",
          "2019-09-25T00:00:00.000000000",
          "2019-09-26T00:00:00.000000000",
          "2019-09-27T00:00:00.000000000",
          "2019-09-28T00:00:00.000000000",
          "2019-09-29T00:00:00.000000000",
          "2019-09-30T00:00:00.000000000",
          "2019-10-01T00:00:00.000000000",
          "2019-10-02T00:00:00.000000000",
          "2019-10-03T00:00:00.000000000",
          "2019-10-04T00:00:00.000000000",
          "2019-10-05T00:00:00.000000000",
          "2019-10-06T00:00:00.000000000",
          "2019-10-08T00:00:00.000000000",
          "2019-10-09T00:00:00.000000000",
          "2019-10-10T00:00:00.000000000",
          "2019-10-11T00:00:00.000000000",
          "2019-10-12T00:00:00.000000000",
          "2019-10-13T00:00:00.000000000",
          "2019-10-14T00:00:00.000000000",
          "2019-10-15T00:00:00.000000000",
          "2019-10-16T00:00:00.000000000",
          "2019-10-17T00:00:00.000000000",
          "2019-10-18T00:00:00.000000000",
          "2019-10-19T00:00:00.000000000",
          "2019-10-20T00:00:00.000000000",
          "2019-10-21T00:00:00.000000000",
          "2019-10-22T00:00:00.000000000",
          "2019-10-23T00:00:00.000000000",
          "2019-10-24T00:00:00.000000000",
          "2019-10-25T00:00:00.000000000",
          "2019-10-26T00:00:00.000000000",
          "2019-10-27T00:00:00.000000000",
          "2019-10-28T00:00:00.000000000",
          "2019-10-29T00:00:00.000000000",
          "2019-10-30T00:00:00.000000000",
          "2019-10-31T00:00:00.000000000",
          "2019-11-01T00:00:00.000000000",
          "2019-11-02T00:00:00.000000000",
          "2019-11-03T00:00:00.000000000",
          "2019-11-04T00:00:00.000000000",
          "2019-11-05T00:00:00.000000000",
          "2019-11-06T00:00:00.000000000",
          "2019-11-08T00:00:00.000000000",
          "2019-11-09T00:00:00.000000000",
          "2019-11-10T00:00:00.000000000",
          "2019-11-11T00:00:00.000000000",
          "2019-11-12T00:00:00.000000000",
          "2019-11-13T00:00:00.000000000",
          "2019-11-14T00:00:00.000000000",
          "2019-11-15T00:00:00.000000000",
          "2019-11-16T00:00:00.000000000",
          "2019-11-17T00:00:00.000000000",
          "2019-11-18T00:00:00.000000000",
          "2019-11-19T00:00:00.000000000",
          "2019-11-20T00:00:00.000000000",
          "2019-11-21T00:00:00.000000000",
          "2019-11-22T00:00:00.000000000",
          "2019-11-23T00:00:00.000000000",
          "2019-11-24T00:00:00.000000000",
          "2019-11-25T00:00:00.000000000",
          "2019-11-26T00:00:00.000000000",
          "2019-11-27T00:00:00.000000000",
          "2019-11-28T00:00:00.000000000",
          "2019-11-29T00:00:00.000000000",
          "2019-11-30T00:00:00.000000000",
          "2019-12-01T00:00:00.000000000",
          "2019-12-02T00:00:00.000000000",
          "2019-12-03T00:00:00.000000000",
          "2019-12-04T00:00:00.000000000",
          "2019-12-05T00:00:00.000000000",
          "2019-12-06T00:00:00.000000000",
          "2019-12-08T00:00:00.000000000",
          "2019-12-09T00:00:00.000000000",
          "2019-12-10T00:00:00.000000000",
          "2019-12-11T00:00:00.000000000",
          "2019-12-12T00:00:00.000000000",
          "2019-12-13T00:00:00.000000000",
          "2019-12-14T00:00:00.000000000",
          "2019-12-15T00:00:00.000000000",
          "2019-12-16T00:00:00.000000000",
          "2019-12-17T00:00:00.000000000",
          "2019-12-18T00:00:00.000000000",
          "2019-12-19T00:00:00.000000000",
          "2019-12-20T00:00:00.000000000",
          "2019-12-21T00:00:00.000000000",
          "2019-12-22T00:00:00.000000000",
          "2019-12-23T00:00:00.000000000",
          "2019-12-24T00:00:00.000000000",
          "2019-12-25T00:00:00.000000000",
          "2019-12-26T00:00:00.000000000",
          "2019-12-27T00:00:00.000000000",
          "2019-12-28T00:00:00.000000000",
          "2019-12-29T00:00:00.000000000",
          "2019-12-30T00:00:00.000000000",
          "2019-12-31T00:00:00.000000000",
          "2020-01-01T00:00:00.000000000",
          "2020-01-02T00:00:00.000000000",
          "2020-01-03T00:00:00.000000000",
          "2020-01-04T00:00:00.000000000",
          "2020-01-05T00:00:00.000000000",
          "2020-01-13T00:00:00.000000000",
          "2020-01-14T00:00:00.000000000",
          "2020-01-15T00:00:00.000000000",
          "2020-01-16T00:00:00.000000000",
          "2020-01-17T00:00:00.000000000",
          "2020-01-18T00:00:00.000000000",
          "2020-01-19T00:00:00.000000000",
          "2020-01-20T00:00:00.000000000",
          "2020-01-21T00:00:00.000000000",
          "2020-01-22T00:00:00.000000000",
          "2020-01-23T00:00:00.000000000",
          "2020-01-24T00:00:00.000000000",
          "2020-01-25T00:00:00.000000000",
          "2020-01-26T00:00:00.000000000",
          "2020-01-27T00:00:00.000000000",
          "2020-01-28T00:00:00.000000000",
          "2020-01-29T00:00:00.000000000",
          "2020-01-30T00:00:00.000000000",
          "2020-01-31T00:00:00.000000000",
          "2020-02-01T00:00:00.000000000",
          "2020-02-02T00:00:00.000000000",
          "2020-02-03T00:00:00.000000000",
          "2020-02-04T00:00:00.000000000",
          "2020-02-05T00:00:00.000000000",
          "2020-02-13T00:00:00.000000000",
          "2020-02-14T00:00:00.000000000",
          "2020-02-15T00:00:00.000000000",
          "2020-02-16T00:00:00.000000000",
          "2020-02-17T00:00:00.000000000",
          "2020-02-18T00:00:00.000000000",
          "2020-02-19T00:00:00.000000000",
          "2020-02-20T00:00:00.000000000",
          "2020-02-21T00:00:00.000000000",
          "2020-02-22T00:00:00.000000000",
          "2020-02-23T00:00:00.000000000",
          "2020-02-24T00:00:00.000000000",
          "2020-02-25T00:00:00.000000000",
          "2020-02-26T00:00:00.000000000",
          "2020-02-27T00:00:00.000000000",
          "2020-02-28T00:00:00.000000000",
          "2020-02-29T00:00:00.000000000",
          "2020-03-01T00:00:00.000000000",
          "2020-03-02T00:00:00.000000000",
          "2020-03-03T00:00:00.000000000",
          "2020-03-04T00:00:00.000000000",
          "2020-03-05T00:00:00.000000000",
          "2020-03-13T00:00:00.000000000",
          "2020-03-14T00:00:00.000000000",
          "2020-03-15T00:00:00.000000000",
          "2020-03-16T00:00:00.000000000",
          "2020-03-17T00:00:00.000000000",
          "2020-03-18T00:00:00.000000000",
          "2020-03-19T00:00:00.000000000",
          "2020-03-20T00:00:00.000000000",
          "2020-03-21T00:00:00.000000000",
          "2020-03-22T00:00:00.000000000",
          "2020-03-23T00:00:00.000000000",
          "2020-03-24T00:00:00.000000000",
          "2020-03-25T00:00:00.000000000",
          "2020-03-26T00:00:00.000000000",
          "2020-03-27T00:00:00.000000000",
          "2020-03-28T00:00:00.000000000",
          "2020-03-29T00:00:00.000000000",
          "2020-03-30T00:00:00.000000000",
          "2020-03-31T00:00:00.000000000",
          "2020-04-01T00:00:00.000000000",
          "2020-04-02T00:00:00.000000000",
          "2020-04-03T00:00:00.000000000",
          "2020-04-04T00:00:00.000000000",
          "2020-04-05T00:00:00.000000000",
          "2020-04-13T00:00:00.000000000",
          "2020-04-14T00:00:00.000000000",
          "2020-04-15T00:00:00.000000000",
          "2020-04-16T00:00:00.000000000",
          "2020-04-17T00:00:00.000000000",
          "2020-04-18T00:00:00.000000000",
          "2020-04-19T00:00:00.000000000",
          "2020-04-20T00:00:00.000000000",
          "2020-04-21T00:00:00.000000000",
          "2020-04-22T00:00:00.000000000",
          "2020-04-23T00:00:00.000000000",
          "2020-04-24T00:00:00.000000000",
          "2020-04-25T00:00:00.000000000",
          "2020-04-26T00:00:00.000000000",
          "2020-04-27T00:00:00.000000000",
          "2020-04-28T00:00:00.000000000",
          "2020-04-29T00:00:00.000000000",
          "2020-04-30T00:00:00.000000000",
          "2020-05-01T00:00:00.000000000",
          "2020-05-02T00:00:00.000000000",
          "2020-05-03T00:00:00.000000000",
          "2020-05-04T00:00:00.000000000",
          "2020-05-05T00:00:00.000000000",
          "2020-05-13T00:00:00.000000000",
          "2020-05-14T00:00:00.000000000",
          "2020-05-15T00:00:00.000000000",
          "2020-05-16T00:00:00.000000000",
          "2020-05-17T00:00:00.000000000",
          "2020-05-18T00:00:00.000000000",
          "2020-05-19T00:00:00.000000000",
          "2020-05-20T00:00:00.000000000",
          "2020-05-21T00:00:00.000000000",
          "2020-05-22T00:00:00.000000000",
          "2020-05-23T00:00:00.000000000",
          "2020-06-01T00:00:00.000000000",
          "2020-06-02T00:00:00.000000000",
          "2020-06-03T00:00:00.000000000",
          "2020-06-04T00:00:00.000000000",
          "2020-06-05T00:00:00.000000000",
          "2020-07-01T00:00:00.000000000",
          "2020-07-02T00:00:00.000000000",
          "2020-07-03T00:00:00.000000000",
          "2020-07-04T00:00:00.000000000",
          "2020-07-05T00:00:00.000000000",
          "2020-08-01T00:00:00.000000000",
          "2020-08-02T00:00:00.000000000",
          "2020-08-03T00:00:00.000000000",
          "2020-08-04T00:00:00.000000000",
          "2020-08-05T00:00:00.000000000",
          "2020-09-01T00:00:00.000000000",
          "2020-09-02T00:00:00.000000000",
          "2020-09-03T00:00:00.000000000",
          "2020-09-04T00:00:00.000000000",
          "2020-09-05T00:00:00.000000000",
          "2020-10-01T00:00:00.000000000",
          "2020-10-02T00:00:00.000000000",
          "2020-10-03T00:00:00.000000000",
          "2020-10-04T00:00:00.000000000",
          "2020-10-05T00:00:00.000000000",
          "2020-11-01T00:00:00.000000000",
          "2020-11-02T00:00:00.000000000",
          "2020-11-03T00:00:00.000000000",
          "2020-11-04T00:00:00.000000000",
          "2020-11-05T00:00:00.000000000",
          "2020-12-01T00:00:00.000000000",
          "2020-12-02T00:00:00.000000000",
          "2020-12-03T00:00:00.000000000",
          "2020-12-04T00:00:00.000000000",
          "2020-12-05T00:00:00.000000000"
         ],
         "y": {
          "bdata": "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",
          "dtype": "f8"
         }
        },
        {
         "mode": "lines+markers",
         "name": "predicted",
         "type": "scatter",
         "x": [
          "2019-01-02T00:00:00.000000000",
          "2019-01-03T00:00:00.000000000",
          "2019-01-04T00:00:00.000000000",
          "2019-01-05T00:00:00.000000000",
          "2019-01-06T00:00:00.000000000",
          "2019-01-07T00:00:00.000000000",
          "2019-01-08T00:00:00.000000000",
          "2019-01-09T00:00:00.000000000",
          "2019-01-10T00:00:00.000000000",
          "2019-01-11T00:00:00.000000000",
          "2019-01-12T00:00:00.000000000",
          "2019-01-13T00:00:00.000000000",
          "2019-01-14T00:00:00.000000000",
          "2019-01-15T00:00:00.000000000",
          "2019-01-16T00:00:00.000000000",
          "2019-01-17T00:00:00.000000000",
          "2019-01-18T00:00:00.000000000",
          "2019-01-19T00:00:00.000000000",
          "2019-01-20T00:00:00.000000000",
          "2019-01-21T00:00:00.000000000",
          "2019-01-22T00:00:00.000000000",
          "2019-01-23T00:00:00.000000000",
          "2019-01-24T00:00:00.000000000",
          "2019-01-25T00:00:00.000000000",
          "2019-01-26T00:00:00.000000000",
          "2019-01-27T00:00:00.000000000",
          "2019-01-28T00:00:00.000000000",
          "2019-01-29T00:00:00.000000000",
          "2019-01-30T00:00:00.000000000",
          "2019-01-31T00:00:00.000000000",
          "2019-02-02T00:00:00.000000000",
          "2019-02-03T00:00:00.000000000",
          "2019-02-04T00:00:00.000000000",
          "2019-02-05T00:00:00.000000000",
          "2019-02-06T00:00:00.000000000",
          "2019-02-07T00:00:00.000000000",
          "2019-02-08T00:00:00.000000000",
          "2019-02-09T00:00:00.000000000",
          "2019-02-10T00:00:00.000000000",
          "2019-02-11T00:00:00.000000000",
          "2019-02-12T00:00:00.000000000",
          "2019-02-13T00:00:00.000000000",
          "2019-02-14T00:00:00.000000000",
          "2019-02-15T00:00:00.000000000",
          "2019-02-16T00:00:00.000000000",
          "2019-02-17T00:00:00.000000000",
          "2019-02-18T00:00:00.000000000",
          "2019-02-19T00:00:00.000000000",
          "2019-02-20T00:00:00.000000000",
          "2019-02-21T00:00:00.000000000",
          "2019-02-22T00:00:00.000000000",
          "2019-02-23T00:00:00.000000000",
          "2019-02-24T00:00:00.000000000",
          "2019-02-25T00:00:00.000000000",
          "2019-02-26T00:00:00.000000000",
          "2019-02-27T00:00:00.000000000",
          "2019-02-28T00:00:00.000000000",
          "2019-03-02T00:00:00.000000000",
          "2019-03-03T00:00:00.000000000",
          "2019-03-04T00:00:00.000000000",
          "2019-03-05T00:00:00.000000000",
          "2019-03-06T00:00:00.000000000",
          "2019-03-07T00:00:00.000000000",
          "2019-03-08T00:00:00.000000000",
          "2019-03-09T00:00:00.000000000",
          "2019-03-10T00:00:00.000000000",
          "2019-03-11T00:00:00.000000000",
          "2019-03-12T00:00:00.000000000",
          "2019-03-13T00:00:00.000000000",
          "2019-03-14T00:00:00.000000000",
          "2019-03-15T00:00:00.000000000",
          "2019-03-16T00:00:00.000000000",
          "2019-03-17T00:00:00.000000000",
          "2019-03-18T00:00:00.000000000",
          "2019-03-19T00:00:00.000000000",
          "2019-03-20T00:00:00.000000000",
          "2019-03-21T00:00:00.000000000",
          "2019-03-22T00:00:00.000000000",
          "2019-03-23T00:00:00.000000000",
          "2019-03-24T00:00:00.000000000",
          "2019-03-25T00:00:00.000000000",
          "2019-03-26T00:00:00.000000000",
          "2019-03-27T00:00:00.000000000",
          "2019-03-28T00:00:00.000000000",
          "2019-03-29T00:00:00.000000000",
          "2019-03-30T00:00:00.000000000",
          "2019-03-31T00:00:00.000000000",
          "2019-04-02T00:00:00.000000000",
          "2019-04-03T00:00:00.000000000",
          "2019-04-04T00:00:00.000000000",
          "2019-04-05T00:00:00.000000000",
          "2019-04-06T00:00:00.000000000",
          "2019-04-07T00:00:00.000000000",
          "2019-04-08T00:00:00.000000000",
          "2019-04-09T00:00:00.000000000",
          "2019-04-10T00:00:00.000000000",
          "2019-04-11T00:00:00.000000000",
          "2019-04-12T00:00:00.000000000",
          "2019-04-13T00:00:00.000000000",
          "2019-04-14T00:00:00.000000000",
          "2019-04-15T00:00:00.000000000",
          "2019-04-16T00:00:00.000000000",
          "2019-04-17T00:00:00.000000000",
          "2019-04-18T00:00:00.000000000",
          "2019-04-19T00:00:00.000000000",
          "2019-04-20T00:00:00.000000000",
          "2019-04-21T00:00:00.000000000",
          "2019-04-22T00:00:00.000000000",
          "2019-04-23T00:00:00.000000000",
          "2019-04-24T00:00:00.000000000",
          "2019-04-25T00:00:00.000000000",
          "2019-04-26T00:00:00.000000000",
          "2019-04-27T00:00:00.000000000",
          "2019-04-28T00:00:00.000000000",
          "2019-04-29T00:00:00.000000000",
          "2019-04-30T00:00:00.000000000",
          "2019-05-02T00:00:00.000000000",
          "2019-05-03T00:00:00.000000000",
          "2019-05-04T00:00:00.000000000",
          "2019-05-05T00:00:00.000000000",
          "2019-05-06T00:00:00.000000000",
          "2019-05-07T00:00:00.000000000",
          "2019-05-08T00:00:00.000000000",
          "2019-05-09T00:00:00.000000000",
          "2019-05-10T00:00:00.000000000",
          "2019-05-11T00:00:00.000000000",
          "2019-05-12T00:00:00.000000000",
          "2019-05-13T00:00:00.000000000",
          "2019-05-14T00:00:00.000000000",
          "2019-05-15T00:00:00.000000000",
          "2019-05-16T00:00:00.000000000",
          "2019-05-17T00:00:00.000000000",
          "2019-05-18T00:00:00.000000000",
          "2019-05-19T00:00:00.000000000",
          "2019-05-20T00:00:00.000000000",
          "2019-05-21T00:00:00.000000000",
          "2019-05-22T00:00:00.000000000",
          "2019-05-23T00:00:00.000000000",
          "2019-05-24T00:00:00.000000000",
          "2019-05-25T00:00:00.000000000",
          "2019-05-26T00:00:00.000000000",
          "2019-05-27T00:00:00.000000000",
          "2019-05-28T00:00:00.000000000",
          "2019-05-29T00:00:00.000000000",
          "2019-05-30T00:00:00.000000000",
          "2019-05-31T00:00:00.000000000",
          "2019-06-02T00:00:00.000000000",
          "2019-06-03T00:00:00.000000000",
          "2019-06-04T00:00:00.000000000",
          "2019-06-05T00:00:00.000000000",
          "2019-06-06T00:00:00.000000000",
          "2019-06-07T00:00:00.000000000",
          "2019-06-08T00:00:00.000000000",
          "2019-06-09T00:00:00.000000000",
          "2019-06-10T00:00:00.000000000",
          "2019-06-11T00:00:00.000000000",
          "2019-06-12T00:00:00.000000000",
          "2019-06-13T00:00:00.000000000",
          "2019-06-14T00:00:00.000000000",
          "2019-06-15T00:00:00.000000000",
          "2019-06-16T00:00:00.000000000",
          "2019-06-17T00:00:00.000000000",
          "2019-06-18T00:00:00.000000000",
          "2019-06-19T00:00:00.000000000",
          "2019-06-20T00:00:00.000000000",
          "2019-06-21T00:00:00.000000000",
          "2019-06-22T00:00:00.000000000",
          "2019-06-23T00:00:00.000000000",
          "2019-06-24T00:00:00.000000000",
          "2019-06-25T00:00:00.000000000",
          "2019-06-26T00:00:00.000000000",
          "2019-06-27T00:00:00.000000000",
          "2019-06-28T00:00:00.000000000",
          "2019-06-29T00:00:00.000000000",
          "2019-06-30T00:00:00.000000000",
          "2019-07-01T00:00:00.000000000",
          "2019-07-02T00:00:00.000000000",
          "2019-07-03T00:00:00.000000000",
          "2019-07-04T00:00:00.000000000",
          "2019-07-05T00:00:00.000000000",
          "2019-07-06T00:00:00.000000000",
          "2019-07-07T00:00:00.000000000",
          "2019-07-08T00:00:00.000000000",
          "2019-07-09T00:00:00.000000000",
          "2019-07-10T00:00:00.000000000",
          "2019-07-11T00:00:00.000000000",
          "2019-07-12T00:00:00.000000000",
          "2019-07-13T00:00:00.000000000",
          "2019-07-14T00:00:00.000000000",
          "2019-07-15T00:00:00.000000000",
          "2019-07-16T00:00:00.000000000",
          "2019-07-17T00:00:00.000000000",
          "2019-07-18T00:00:00.000000000",
          "2019-07-19T00:00:00.000000000",
          "2019-07-20T00:00:00.000000000",
          "2019-07-21T00:00:00.000000000",
          "2019-07-22T00:00:00.000000000",
          "2019-07-23T00:00:00.000000000",
          "2019-07-24T00:00:00.000000000",
          "2019-07-25T00:00:00.000000000",
          "2019-07-26T00:00:00.000000000",
          "2019-07-27T00:00:00.000000000",
          "2019-07-28T00:00:00.000000000",
          "2019-07-29T00:00:00.000000000",
          "2019-07-30T00:00:00.000000000",
          "2019-07-31T00:00:00.000000000",
          "2019-08-01T00:00:00.000000000",
          "2019-08-02T00:00:00.000000000",
          "2019-08-03T00:00:00.000000000",
          "2019-08-04T00:00:00.000000000",
          "2019-08-05T00:00:00.000000000",
          "2019-08-06T00:00:00.000000000",
          "2019-08-08T00:00:00.000000000",
          "2019-08-09T00:00:00.000000000",
          "2019-08-10T00:00:00.000000000",
          "2019-08-11T00:00:00.000000000",
          "2019-08-12T00:00:00.000000000",
          "2019-08-13T00:00:00.000000000",
          "2019-08-14T00:00:00.000000000",
          "2019-08-15T00:00:00.000000000",
          "2019-08-16T00:00:00.000000000",
          "2019-08-17T00:00:00.000000000",
          "2019-08-18T00:00:00.000000000",
          "2019-08-19T00:00:00.000000000",
          "2019-08-20T00:00:00.000000000",
          "2019-08-21T00:00:00.000000000",
          "2019-08-22T00:00:00.000000000",
          "2019-08-23T00:00:00.000000000",
          "2019-08-24T00:00:00.000000000",
          "2019-08-25T00:00:00.000000000",
          "2019-08-26T00:00:00.000000000",
          "2019-08-27T00:00:00.000000000",
          "2019-08-28T00:00:00.000000000",
          "2019-08-29T00:00:00.000000000",
          "2019-08-30T00:00:00.000000000",
          "2019-08-31T00:00:00.000000000",
          "2019-09-01T00:00:00.000000000",
          "2019-09-02T00:00:00.000000000",
          "2019-09-03T00:00:00.000000000",
          "2019-09-04T00:00:00.000000000",
          "2019-09-05T00:00:00.000000000",
          "2019-09-06T00:00:00.000000000",
          "2019-09-08T00:00:00.000000000",
          "2019-09-09T00:00:00.000000000",
          "2019-09-10T00:00:00.000000000",
          "2019-09-11T00:00:00.000000000",
          "2019-09-12T00:00:00.000000000",
          "2019-09-13T00:00:00.000000000",
          "2019-09-14T00:00:00.000000000",
          "2019-09-15T00:00:00.000000000",
          "2019-09-16T00:00:00.000000000",
          "2019-09-17T00:00:00.000000000",
          "2019-09-18T00:00:00.000000000",
          "2019-09-19T00:00:00.000000000",
          "2019-09-20T00:00:00.000000000",
          "2019-09-21T00:00:00.000000000",
          "2019-09-22T00:00:00.000000000",
          "2019-09-23T00:00:00.000000000",
          "2019-09-24T00:00:00.000000000",
          "2019-09-25T00:00:00.000000000",
          "2019-09-26T00:00:00.000000000",
          "2019-09-27T00:00:00.000000000",
          "2019-09-28T00:00:00.000000000",
          "2019-09-29T00:00:00.000000000",
          "2019-09-30T00:00:00.000000000",
          "2019-10-01T00:00:00.000000000",
          "2019-10-02T00:00:00.000000000",
          "2019-10-03T00:00:00.000000000",
          "2019-10-04T00:00:00.000000000",
          "2019-10-05T00:00:00.000000000",
          "2019-10-06T00:00:00.000000000",
          "2019-10-08T00:00:00.000000000",
          "2019-10-09T00:00:00.000000000",
          "2019-10-10T00:00:00.000000000",
          "2019-10-11T00:00:00.000000000",
          "2019-10-12T00:00:00.000000000",
          "2019-10-13T00:00:00.000000000",
          "2019-10-14T00:00:00.000000000",
          "2019-10-15T00:00:00.000000000",
          "2019-10-16T00:00:00.000000000",
          "2019-10-17T00:00:00.000000000",
          "2019-10-18T00:00:00.000000000",
          "2019-10-19T00:00:00.000000000",
          "2019-10-20T00:00:00.000000000",
          "2019-10-21T00:00:00.000000000",
          "2019-10-22T00:00:00.000000000",
          "2019-10-23T00:00:00.000000000",
          "2019-10-24T00:00:00.000000000",
          "2019-10-25T00:00:00.000000000",
          "2019-10-26T00:00:00.000000000",
          "2019-10-27T00:00:00.000000000",
          "2019-10-28T00:00:00.000000000",
          "2019-10-29T00:00:00.000000000",
          "2019-10-30T00:00:00.000000000",
          "2019-10-31T00:00:00.000000000",
          "2019-11-01T00:00:00.000000000",
          "2019-11-02T00:00:00.000000000",
          "2019-11-03T00:00:00.000000000",
          "2019-11-04T00:00:00.000000000",
          "2019-11-05T00:00:00.000000000",
          "2019-11-06T00:00:00.000000000",
          "2019-11-08T00:00:00.000000000",
          "2019-11-09T00:00:00.000000000",
          "2019-11-10T00:00:00.000000000",
          "2019-11-11T00:00:00.000000000",
          "2019-11-12T00:00:00.000000000",
          "2019-11-13T00:00:00.000000000",
          "2019-11-14T00:00:00.000000000",
          "2019-11-15T00:00:00.000000000",
          "2019-11-16T00:00:00.000000000",
          "2019-11-17T00:00:00.000000000",
          "2019-11-18T00:00:00.000000000",
          "2019-11-19T00:00:00.000000000",
          "2019-11-20T00:00:00.000000000",
          "2019-11-21T00:00:00.000000000",
          "2019-11-22T00:00:00.000000000",
          "2019-11-23T00:00:00.000000000",
          "2019-11-24T00:00:00.000000000",
          "2019-11-25T00:00:00.000000000",
          "2019-11-26T00:00:00.000000000",
          "2019-11-27T00:00:00.000000000",
          "2019-11-28T00:00:00.000000000",
          "2019-11-29T00:00:00.000000000",
          "2019-11-30T00:00:00.000000000",
          "2019-12-01T00:00:00.000000000",
          "2019-12-02T00:00:00.000000000",
          "2019-12-03T00:00:00.000000000",
          "2019-12-04T00:00:00.000000000",
          "2019-12-05T00:00:00.000000000",
          "2019-12-06T00:00:00.000000000",
          "2019-12-08T00:00:00.000000000",
          "2019-12-09T00:00:00.000000000",
          "2019-12-10T00:00:00.000000000",
          "2019-12-11T00:00:00.000000000",
          "2019-12-12T00:00:00.000000000",
          "2019-12-13T00:00:00.000000000",
          "2019-12-14T00:00:00.000000000",
          "2019-12-15T00:00:00.000000000",
          "2019-12-16T00:00:00.000000000",
          "2019-12-17T00:00:00.000000000",
          "2019-12-18T00:00:00.000000000",
          "2019-12-19T00:00:00.000000000",
          "2019-12-20T00:00:00.000000000",
          "2019-12-21T00:00:00.000000000",
          "2019-12-22T00:00:00.000000000",
          "2019-12-23T00:00:00.000000000",
          "2019-12-24T00:00:00.000000000",
          "2019-12-25T00:00:00.000000000",
          "2019-12-26T00:00:00.000000000",
          "2019-12-27T00:00:00.000000000",
          "2019-12-28T00:00:00.000000000",
          "2019-12-29T00:00:00.000000000",
          "2019-12-30T00:00:00.000000000",
          "2019-12-31T00:00:00.000000000",
          "2020-01-01T00:00:00.000000000",
          "2020-01-02T00:00:00.000000000",
          "2020-01-03T00:00:00.000000000",
          "2020-01-04T00:00:00.000000000",
          "2020-01-05T00:00:00.000000000",
          "2020-01-13T00:00:00.000000000",
          "2020-01-14T00:00:00.000000000",
          "2020-01-15T00:00:00.000000000",
          "2020-01-16T00:00:00.000000000",
          "2020-01-17T00:00:00.000000000",
          "2020-01-18T00:00:00.000000000",
          "2020-01-19T00:00:00.000000000",
          "2020-01-20T00:00:00.000000000",
          "2020-01-21T00:00:00.000000000",
          "2020-01-22T00:00:00.000000000",
          "2020-01-23T00:00:00.000000000",
          "2020-01-24T00:00:00.000000000",
          "2020-01-25T00:00:00.000000000",
          "2020-01-26T00:00:00.000000000",
          "2020-01-27T00:00:00.000000000",
          "2020-01-28T00:00:00.000000000",
          "2020-01-29T00:00:00.000000000",
          "2020-01-30T00:00:00.000000000",
          "2020-01-31T00:00:00.000000000",
          "2020-02-01T00:00:00.000000000",
          "2020-02-02T00:00:00.000000000",
          "2020-02-03T00:00:00.000000000",
          "2020-02-04T00:00:00.000000000",
          "2020-02-05T00:00:00.000000000",
          "2020-02-13T00:00:00.000000000",
          "2020-02-14T00:00:00.000000000",
          "2020-02-15T00:00:00.000000000",
          "2020-02-16T00:00:00.000000000",
          "2020-02-17T00:00:00.000000000",
          "2020-02-18T00:00:00.000000000",
          "2020-02-19T00:00:00.000000000",
          "2020-02-20T00:00:00.000000000",
          "2020-02-21T00:00:00.000000000",
          "2020-02-22T00:00:00.000000000",
          "2020-02-23T00:00:00.000000000",
          "2020-02-24T00:00:00.000000000",
          "2020-02-25T00:00:00.000000000",
          "2020-02-26T00:00:00.000000000",
          "2020-02-27T00:00:00.000000000",
          "2020-02-28T00:00:00.000000000",
          "2020-02-29T00:00:00.000000000",
          "2020-03-01T00:00:00.000000000",
          "2020-03-02T00:00:00.000000000",
          "2020-03-03T00:00:00.000000000",
          "2020-03-04T00:00:00.000000000",
          "2020-03-05T00:00:00.000000000",
          "2020-03-13T00:00:00.000000000",
          "2020-03-14T00:00:00.000000000",
          "2020-03-15T00:00:00.000000000",
          "2020-03-16T00:00:00.000000000",
          "2020-03-17T00:00:00.000000000",
          "2020-03-18T00:00:00.000000000",
          "2020-03-19T00:00:00.000000000",
          "2020-03-20T00:00:00.000000000",
          "2020-03-21T00:00:00.000000000",
          "2020-03-22T00:00:00.000000000",
          "2020-03-23T00:00:00.000000000",
          "2020-03-24T00:00:00.000000000",
          "2020-03-25T00:00:00.000000000",
          "2020-03-26T00:00:00.000000000",
          "2020-03-27T00:00:00.000000000",
          "2020-03-28T00:00:00.000000000",
          "2020-03-29T00:00:00.000000000",
          "2020-03-30T00:00:00.000000000",
          "2020-03-31T00:00:00.000000000",
          "2020-04-01T00:00:00.000000000",
          "2020-04-02T00:00:00.000000000",
          "2020-04-03T00:00:00.000000000",
          "2020-04-04T00:00:00.000000000",
          "2020-04-05T00:00:00.000000000",
          "2020-04-13T00:00:00.000000000",
          "2020-04-14T00:00:00.000000000",
          "2020-04-15T00:00:00.000000000",
          "2020-04-16T00:00:00.000000000",
          "2020-04-17T00:00:00.000000000",
          "2020-04-18T00:00:00.000000000",
          "2020-04-19T00:00:00.000000000",
          "2020-04-20T00:00:00.000000000",
          "2020-04-21T00:00:00.000000000",
          "2020-04-22T00:00:00.000000000",
          "2020-04-23T00:00:00.000000000",
          "2020-04-24T00:00:00.000000000",
          "2020-04-25T00:00:00.000000000",
          "2020-04-26T00:00:00.000000000",
          "2020-04-27T00:00:00.000000000",
          "2020-04-28T00:00:00.000000000",
          "2020-04-29T00:00:00.000000000",
          "2020-04-30T00:00:00.000000000",
          "2020-05-01T00:00:00.000000000",
          "2020-05-02T00:00:00.000000000",
          "2020-05-03T00:00:00.000000000",
          "2020-05-04T00:00:00.000000000",
          "2020-05-05T00:00:00.000000000",
          "2020-05-13T00:00:00.000000000",
          "2020-05-14T00:00:00.000000000",
          "2020-05-15T00:00:00.000000000",
          "2020-05-16T00:00:00.000000000",
          "2020-05-17T00:00:00.000000000",
          "2020-05-18T00:00:00.000000000",
          "2020-05-19T00:00:00.000000000",
          "2020-05-20T00:00:00.000000000",
          "2020-05-21T00:00:00.000000000",
          "2020-05-22T00:00:00.000000000",
          "2020-05-23T00:00:00.000000000",
          "2020-06-01T00:00:00.000000000",
          "2020-06-02T00:00:00.000000000",
          "2020-06-03T00:00:00.000000000",
          "2020-06-04T00:00:00.000000000",
          "2020-06-05T00:00:00.000000000",
          "2020-07-01T00:00:00.000000000",
          "2020-07-02T00:00:00.000000000",
          "2020-07-03T00:00:00.000000000",
          "2020-07-04T00:00:00.000000000",
          "2020-07-05T00:00:00.000000000",
          "2020-08-01T00:00:00.000000000",
          "2020-08-02T00:00:00.000000000",
          "2020-08-03T00:00:00.000000000",
          "2020-08-04T00:00:00.000000000",
          "2020-08-05T00:00:00.000000000",
          "2020-09-01T00:00:00.000000000",
          "2020-09-02T00:00:00.000000000",
          "2020-09-03T00:00:00.000000000",
          "2020-09-04T00:00:00.000000000",
          "2020-09-05T00:00:00.000000000",
          "2020-10-01T00:00:00.000000000",
          "2020-10-02T00:00:00.000000000",
          "2020-10-03T00:00:00.000000000",
          "2020-10-04T00:00:00.000000000",
          "2020-10-05T00:00:00.000000000",
          "2020-11-01T00:00:00.000000000",
          "2020-11-02T00:00:00.000000000",
          "2020-11-03T00:00:00.000000000",
          "2020-11-04T00:00:00.000000000",
          "2020-11-05T00:00:00.000000000",
          "2020-12-01T00:00:00.000000000",
          "2020-12-02T00:00:00.000000000",
          "2020-12-03T00:00:00.000000000",
          "2020-12-04T00:00:00.000000000",
          "2020-12-05T00:00:00.000000000",
          "2020-12-06T00:00:00.000000000",
          "2020-12-07T00:00:00.000000000",
          "2020-12-08T00:00:00.000000000",
          "2020-12-09T00:00:00.000000000",
          "2020-12-10T00:00:00.000000000",
          "2020-12-11T00:00:00.000000000",
          "2020-12-12T00:00:00.000000000",
          "2020-12-13T00:00:00.000000000",
          "2020-12-14T00:00:00.000000000",
          "2020-12-15T00:00:00.000000000",
          "2020-12-16T00:00:00.000000000",
          "2020-12-17T00:00:00.000000000",
          "2020-12-18T00:00:00.000000000",
          "2020-12-19T00:00:00.000000000",
          "2020-12-20T00:00:00.000000000",
          "2020-12-21T00:00:00.000000000",
          "2020-12-22T00:00:00.000000000",
          "2020-12-23T00:00:00.000000000",
          "2020-12-24T00:00:00.000000000",
          "2020-12-25T00:00:00.000000000",
          "2020-12-26T00:00:00.000000000",
          "2020-12-27T00:00:00.000000000",
          "2020-12-28T00:00:00.000000000",
          "2020-12-29T00:00:00.000000000",
          "2020-12-30T00:00:00.000000000",
          "2020-12-31T00:00:00.000000000",
          "2021-01-01T00:00:00.000000000",
          "2021-01-02T00:00:00.000000000",
          "2021-01-03T00:00:00.000000000",
          "2021-01-04T00:00:00.000000000",
          "2021-01-05T00:00:00.000000000",
          "2021-01-06T00:00:00.000000000",
          "2021-01-07T00:00:00.000000000",
          "2021-01-08T00:00:00.000000000",
          "2021-01-09T00:00:00.000000000",
          "2021-01-10T00:00:00.000000000",
          "2021-01-11T00:00:00.000000000",
          "2021-01-12T00:00:00.000000000",
          "2021-01-13T00:00:00.000000000",
          "2021-01-14T00:00:00.000000000",
          "2021-01-15T00:00:00.000000000",
          "2021-01-16T00:00:00.000000000",
          "2021-01-17T00:00:00.000000000",
          "2021-01-18T00:00:00.000000000",
          "2021-01-19T00:00:00.000000000",
          "2021-01-20T00:00:00.000000000",
          "2021-01-21T00:00:00.000000000",
          "2021-01-22T00:00:00.000000000",
          "2021-01-23T00:00:00.000000000",
          "2021-01-24T00:00:00.000000000",
          "2021-01-25T00:00:00.000000000",
          "2021-01-26T00:00:00.000000000",
          "2021-01-27T00:00:00.000000000",
          "2021-01-28T00:00:00.000000000",
          "2021-01-29T00:00:00.000000000",
          "2021-01-30T00:00:00.000000000",
          "2021-01-31T00:00:00.000000000",
          "2021-02-01T00:00:00.000000000",
          "2021-02-02T00:00:00.000000000",
          "2021-02-03T00:00:00.000000000",
          "2021-02-04T00:00:00.000000000",
          "2021-02-05T00:00:00.000000000",
          "2021-02-06T00:00:00.000000000",
          "2021-02-07T00:00:00.000000000",
          "2021-02-08T00:00:00.000000000",
          "2021-02-09T00:00:00.000000000",
          "2021-02-10T00:00:00.000000000",
          "2021-02-11T00:00:00.000000000",
          "2021-02-12T00:00:00.000000000",
          "2021-02-13T00:00:00.000000000",
          "2021-02-14T00:00:00.000000000",
          "2021-02-15T00:00:00.000000000",
          "2021-02-16T00:00:00.000000000",
          "2021-02-17T00:00:00.000000000",
          "2021-02-18T00:00:00.000000000",
          "2021-02-19T00:00:00.000000000",
          "2021-02-20T00:00:00.000000000",
          "2021-02-21T00:00:00.000000000",
          "2021-02-22T00:00:00.000000000",
          "2021-02-23T00:00:00.000000000",
          "2021-02-24T00:00:00.000000000",
          "2021-02-25T00:00:00.000000000",
          "2021-02-26T00:00:00.000000000",
          "2021-02-27T00:00:00.000000000",
          "2021-02-28T00:00:00.000000000",
          "2021-03-01T00:00:00.000000000",
          "2021-03-02T00:00:00.000000000",
          "2021-03-03T00:00:00.000000000",
          "2021-03-04T00:00:00.000000000",
          "2021-03-05T00:00:00.000000000",
          "2021-03-06T00:00:00.000000000",
          "2021-03-07T00:00:00.000000000",
          "2021-03-08T00:00:00.000000000",
          "2021-03-09T00:00:00.000000000",
          "2021-03-10T00:00:00.000000000",
          "2021-03-11T00:00:00.000000000",
          "2021-03-12T00:00:00.000000000",
          "2021-03-13T00:00:00.000000000",
          "2021-03-14T00:00:00.000000000",
          "2021-03-15T00:00:00.000000000",
          "2021-03-16T00:00:00.000000000",
          "2021-03-17T00:00:00.000000000",
          "2021-03-18T00:00:00.000000000",
          "2021-03-19T00:00:00.000000000",
          "2021-03-20T00:00:00.000000000",
          "2021-03-21T00:00:00.000000000",
          "2021-03-22T00:00:00.000000000",
          "2021-03-23T00:00:00.000000000",
          "2021-03-24T00:00:00.000000000",
          "2021-03-25T00:00:00.000000000",
          "2021-03-26T00:00:00.000000000",
          "2021-03-27T00:00:00.000000000",
          "2021-03-28T00:00:00.000000000",
          "2021-03-29T00:00:00.000000000",
          "2021-03-30T00:00:00.000000000",
          "2021-03-31T00:00:00.000000000",
          "2021-04-01T00:00:00.000000000",
          "2021-04-02T00:00:00.000000000",
          "2021-04-03T00:00:00.000000000",
          "2021-04-04T00:00:00.000000000",
          "2021-04-05T00:00:00.000000000",
          "2021-04-06T00:00:00.000000000",
          "2021-04-07T00:00:00.000000000",
          "2021-04-08T00:00:00.000000000",
          "2021-04-09T00:00:00.000000000",
          "2021-04-10T00:00:00.000000000",
          "2021-04-11T00:00:00.000000000",
          "2021-04-12T00:00:00.000000000",
          "2021-04-13T00:00:00.000000000",
          "2021-04-14T00:00:00.000000000",
          "2021-04-15T00:00:00.000000000",
          "2021-04-16T00:00:00.000000000",
          "2021-04-17T00:00:00.000000000",
          "2021-04-18T00:00:00.000000000",
          "2021-04-19T00:00:00.000000000",
          "2021-04-20T00:00:00.000000000",
          "2021-04-21T00:00:00.000000000",
          "2021-04-22T00:00:00.000000000",
          "2021-04-23T00:00:00.000000000",
          "2021-04-24T00:00:00.000000000",
          "2021-04-25T00:00:00.000000000",
          "2021-04-26T00:00:00.000000000",
          "2021-04-27T00:00:00.000000000",
          "2021-04-28T00:00:00.000000000",
          "2021-04-29T00:00:00.000000000",
          "2021-04-30T00:00:00.000000000",
          "2021-05-01T00:00:00.000000000",
          "2021-05-02T00:00:00.000000000",
          "2021-05-03T00:00:00.000000000",
          "2021-05-04T00:00:00.000000000",
          "2021-05-05T00:00:00.000000000",
          "2021-05-06T00:00:00.000000000",
          "2021-05-07T00:00:00.000000000",
          "2021-05-08T00:00:00.000000000",
          "2021-05-09T00:00:00.000000000",
          "2021-05-10T00:00:00.000000000",
          "2021-05-11T00:00:00.000000000",
          "2021-05-12T00:00:00.000000000",
          "2021-05-13T00:00:00.000000000",
          "2021-05-14T00:00:00.000000000",
          "2021-05-15T00:00:00.000000000",
          "2021-05-16T00:00:00.000000000",
          "2021-05-17T00:00:00.000000000",
          "2021-05-18T00:00:00.000000000",
          "2021-05-19T00:00:00.000000000",
          "2021-05-20T00:00:00.000000000",
          "2021-05-21T00:00:00.000000000",
          "2021-05-22T00:00:00.000000000",
          "2021-05-23T00:00:00.000000000",
          "2021-05-24T00:00:00.000000000",
          "2021-05-25T00:00:00.000000000",
          "2021-05-26T00:00:00.000000000",
          "2021-05-27T00:00:00.000000000",
          "2021-05-28T00:00:00.000000000",
          "2021-05-29T00:00:00.000000000",
          "2021-05-30T00:00:00.000000000",
          "2021-05-31T00:00:00.000000000",
          "2021-06-01T00:00:00.000000000",
          "2021-06-02T00:00:00.000000000",
          "2021-06-03T00:00:00.000000000",
          "2021-06-04T00:00:00.000000000",
          "2021-06-05T00:00:00.000000000",
          "2021-06-06T00:00:00.000000000",
          "2021-06-07T00:00:00.000000000",
          "2021-06-08T00:00:00.000000000",
          "2021-06-09T00:00:00.000000000",
          "2021-06-10T00:00:00.000000000",
          "2021-06-11T00:00:00.000000000",
          "2021-06-12T00:00:00.000000000",
          "2021-06-13T00:00:00.000000000",
          "2021-06-14T00:00:00.000000000",
          "2021-06-15T00:00:00.000000000",
          "2021-06-16T00:00:00.000000000",
          "2021-06-17T00:00:00.000000000",
          "2021-06-18T00:00:00.000000000",
          "2021-06-19T00:00:00.000000000",
          "2021-06-20T00:00:00.000000000",
          "2021-06-21T00:00:00.000000000",
          "2021-06-22T00:00:00.000000000",
          "2021-06-23T00:00:00.000000000",
          "2021-06-24T00:00:00.000000000",
          "2021-06-25T00:00:00.000000000",
          "2021-06-26T00:00:00.000000000",
          "2021-06-27T00:00:00.000000000",
          "2021-06-28T00:00:00.000000000",
          "2021-06-29T00:00:00.000000000",
          "2021-06-30T00:00:00.000000000",
          "2021-07-01T00:00:00.000000000",
          "2021-07-02T00:00:00.000000000",
          "2021-07-03T00:00:00.000000000",
          "2021-07-04T00:00:00.000000000",
          "2021-07-05T00:00:00.000000000",
          "2021-07-06T00:00:00.000000000",
          "2021-07-07T00:00:00.000000000",
          "2021-07-08T00:00:00.000000000",
          "2021-07-09T00:00:00.000000000",
          "2021-07-10T00:00:00.000000000",
          "2021-07-11T00:00:00.000000000",
          "2021-07-12T00:00:00.000000000",
          "2021-07-13T00:00:00.000000000",
          "2021-07-14T00:00:00.000000000",
          "2021-07-15T00:00:00.000000000",
          "2021-07-16T00:00:00.000000000",
          "2021-07-17T00:00:00.000000000",
          "2021-07-18T00:00:00.000000000",
          "2021-07-19T00:00:00.000000000",
          "2021-07-20T00:00:00.000000000",
          "2021-07-21T00:00:00.000000000",
          "2021-07-22T00:00:00.000000000",
          "2021-07-23T00:00:00.000000000",
          "2021-07-24T00:00:00.000000000",
          "2021-07-25T00:00:00.000000000",
          "2021-07-26T00:00:00.000000000",
          "2021-07-27T00:00:00.000000000",
          "2021-07-28T00:00:00.000000000",
          "2021-07-29T00:00:00.000000000",
          "2021-07-30T00:00:00.000000000",
          "2021-07-31T00:00:00.000000000",
          "2021-08-01T00:00:00.000000000",
          "2021-08-02T00:00:00.000000000",
          "2021-08-03T00:00:00.000000000",
          "2021-08-04T00:00:00.000000000",
          "2021-08-05T00:00:00.000000000",
          "2021-08-06T00:00:00.000000000",
          "2021-08-07T00:00:00.000000000",
          "2021-08-08T00:00:00.000000000",
          "2021-08-09T00:00:00.000000000",
          "2021-08-10T00:00:00.000000000",
          "2021-08-11T00:00:00.000000000",
          "2021-08-12T00:00:00.000000000",
          "2021-08-13T00:00:00.000000000",
          "2021-08-14T00:00:00.000000000",
          "2021-08-15T00:00:00.000000000",
          "2021-08-16T00:00:00.000000000",
          "2021-08-17T00:00:00.000000000",
          "2021-08-18T00:00:00.000000000",
          "2021-08-19T00:00:00.000000000",
          "2021-08-20T00:00:00.000000000",
          "2021-08-21T00:00:00.000000000",
          "2021-08-22T00:00:00.000000000",
          "2021-08-23T00:00:00.000000000",
          "2021-08-24T00:00:00.000000000",
          "2021-08-25T00:00:00.000000000",
          "2021-08-26T00:00:00.000000000",
          "2021-08-27T00:00:00.000000000",
          "2021-08-28T00:00:00.000000000",
          "2021-08-29T00:00:00.000000000",
          "2021-08-30T00:00:00.000000000",
          "2021-08-31T00:00:00.000000000",
          "2021-09-01T00:00:00.000000000",
          "2021-09-02T00:00:00.000000000",
          "2021-09-03T00:00:00.000000000",
          "2021-09-04T00:00:00.000000000",
          "2021-09-05T00:00:00.000000000",
          "2021-09-06T00:00:00.000000000",
          "2021-09-07T00:00:00.000000000",
          "2021-09-08T00:00:00.000000000",
          "2021-09-09T00:00:00.000000000",
          "2021-09-10T00:00:00.000000000",
          "2021-09-11T00:00:00.000000000",
          "2021-09-12T00:00:00.000000000",
          "2021-09-13T00:00:00.000000000",
          "2021-09-14T00:00:00.000000000",
          "2021-09-15T00:00:00.000000000",
          "2021-09-16T00:00:00.000000000",
          "2021-09-17T00:00:00.000000000",
          "2021-09-18T00:00:00.000000000",
          "2021-09-19T00:00:00.000000000",
          "2021-09-20T00:00:00.000000000",
          "2021-09-21T00:00:00.000000000",
          "2021-09-22T00:00:00.000000000",
          "2021-09-23T00:00:00.000000000",
          "2021-09-24T00:00:00.000000000",
          "2021-09-25T00:00:00.000000000",
          "2021-09-26T00:00:00.000000000",
          "2021-09-27T00:00:00.000000000",
          "2021-09-28T00:00:00.000000000",
          "2021-09-29T00:00:00.000000000",
          "2021-09-30T00:00:00.000000000",
          "2021-10-01T00:00:00.000000000",
          "2021-10-02T00:00:00.000000000",
          "2021-10-03T00:00:00.000000000",
          "2021-10-04T00:00:00.000000000",
          "2021-10-05T00:00:00.000000000",
          "2021-10-06T00:00:00.000000000",
          "2021-10-07T00:00:00.000000000",
          "2021-10-08T00:00:00.000000000",
          "2021-10-09T00:00:00.000000000",
          "2021-10-10T00:00:00.000000000",
          "2021-10-11T00:00:00.000000000",
          "2021-10-12T00:00:00.000000000",
          "2021-10-13T00:00:00.000000000",
          "2021-10-14T00:00:00.000000000",
          "2021-10-15T00:00:00.000000000",
          "2021-10-16T00:00:00.000000000",
          "2021-10-17T00:00:00.000000000",
          "2021-10-18T00:00:00.000000000",
          "2021-10-19T00:00:00.000000000",
          "2021-10-20T00:00:00.000000000",
          "2021-10-21T00:00:00.000000000",
          "2021-10-22T00:00:00.000000000",
          "2021-10-23T00:00:00.000000000",
          "2021-10-24T00:00:00.000000000",
          "2021-10-25T00:00:00.000000000",
          "2021-10-26T00:00:00.000000000",
          "2021-10-27T00:00:00.000000000",
          "2021-10-28T00:00:00.000000000",
          "2021-10-29T00:00:00.000000000",
          "2021-10-30T00:00:00.000000000",
          "2021-10-31T00:00:00.000000000",
          "2021-11-01T00:00:00.000000000",
          "2021-11-02T00:00:00.000000000",
          "2021-11-03T00:00:00.000000000",
          "2021-11-04T00:00:00.000000000",
          "2021-11-05T00:00:00.000000000",
          "2021-11-06T00:00:00.000000000",
          "2021-11-07T00:00:00.000000000",
          "2021-11-08T00:00:00.000000000",
          "2021-11-09T00:00:00.000000000",
          "2021-11-10T00:00:00.000000000",
          "2021-11-11T00:00:00.000000000",
          "2021-11-12T00:00:00.000000000",
          "2021-11-13T00:00:00.000000000",
          "2021-11-14T00:00:00.000000000",
          "2021-11-15T00:00:00.000000000",
          "2021-11-16T00:00:00.000000000",
          "2021-11-17T00:00:00.000000000",
          "2021-11-18T00:00:00.000000000",
          "2021-11-19T00:00:00.000000000",
          "2021-11-20T00:00:00.000000000",
          "2021-11-21T00:00:00.000000000",
          "2021-11-22T00:00:00.000000000",
          "2021-11-23T00:00:00.000000000",
          "2021-11-24T00:00:00.000000000",
          "2021-11-25T00:00:00.000000000",
          "2021-11-26T00:00:00.000000000",
          "2021-11-27T00:00:00.000000000",
          "2021-11-28T00:00:00.000000000",
          "2021-11-29T00:00:00.000000000",
          "2021-11-30T00:00:00.000000000",
          "2021-12-01T00:00:00.000000000",
          "2021-12-02T00:00:00.000000000",
          "2021-12-03T00:00:00.000000000",
          "2021-12-04T00:00:00.000000000",
          "2021-12-05T00:00:00.000000000"
         ],
         "y": {
          "bdata": "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",
          "dtype": "f8"
         }
        }
       ],
       "layout": {
        "template": {
         "data": {
          "bar": [
           {
            "error_x": {
             "color": "#2a3f5f"
            },
            "error_y": {
             "color": "#2a3f5f"
            },
            "marker": {
             "line": {
              "color": "#E5ECF6",
              "width": 0.5
             },
             "pattern": {
              "fillmode": "overlay",
              "size": 10,
              "solidity": 0.2
             }
            },
            "type": "bar"
           }
          ],
          "barpolar": [
           {
            "marker": {
             "line": {
              "color": "#E5ECF6",
              "width": 0.5
             },
             "pattern": {
              "fillmode": "overlay",
              "size": 10,
              "solidity": 0.2
             }
            },
            "type": "barpolar"
           }
          ],
          "carpet": [
           {
            "aaxis": {
             "endlinecolor": "#2a3f5f",
             "gridcolor": "white",
             "linecolor": "white",
             "minorgridcolor": "white",
             "startlinecolor": "#2a3f5f"
            },
            "baxis": {
             "endlinecolor": "#2a3f5f",
             "gridcolor": "white",
             "linecolor": "white",
             "minorgridcolor": "white",
             "startlinecolor": "#2a3f5f"
            },
            "type": "carpet"
           }
          ],
          "choropleth": [
           {
            "colorbar": {
             "outlinewidth": 0,
             "ticks": ""
            },
            "type": "choropleth"
           }
          ],
          "contour": [
           {
            "colorbar": {
             "outlinewidth": 0,
             "ticks": ""
            },
            "colorscale": [
             [
              0,
              "#0d0887"
             ],
             [
              0.1111111111111111,
              "#46039f"
             ],
             [
              0.2222222222222222,
              "#7201a8"
             ],
             [
              0.3333333333333333,
              "#9c179e"
             ],
             [
              0.4444444444444444,
              "#bd3786"
             ],
             [
              0.5555555555555556,
              "#d8576b"
             ],
             [
              0.6666666666666666,
              "#ed7953"
             ],
             [
              0.7777777777777778,
              "#fb9f3a"
             ],
             [
              0.8888888888888888,
              "#fdca26"
             ],
             [
              1,
              "#f0f921"
             ]
            ],
            "type": "contour"
           }
          ],
          "contourcarpet": [
           {
            "colorbar": {
             "outlinewidth": 0,
             "ticks": ""
            },
            "type": "contourcarpet"
           }
          ],
          "heatmap": [
           {
            "colorbar": {
             "outlinewidth": 0,
             "ticks": ""
            },
            "colorscale": [
             [
              0,
              "#0d0887"
             ],
             [
              0.1111111111111111,
              "#46039f"
             ],
             [
              0.2222222222222222,
              "#7201a8"
             ],
             [
              0.3333333333333333,
              "#9c179e"
             ],
             [
              0.4444444444444444,
              "#bd3786"
             ],
             [
              0.5555555555555556,
              "#d8576b"
             ],
             [
              0.6666666666666666,
              "#ed7953"
             ],
             [
              0.7777777777777778,
              "#fb9f3a"
             ],
             [
              0.8888888888888888,
              "#fdca26"
             ],
             [
              1,
              "#f0f921"
             ]
            ],
            "type": "heatmap"
           }
          ],
          "histogram": [
           {
            "marker": {
             "pattern": {
              "fillmode": "overlay",
              "size": 10,
              "solidity": 0.2
             }
            },
            "type": "histogram"
           }
          ],
          "histogram2d": [
           {
            "colorbar": {
             "outlinewidth": 0,
             "ticks": ""
            },
            "colorscale": [
             [
              0,
              "#0d0887"
             ],
             [
              0.1111111111111111,
              "#46039f"
             ],
             [
              0.2222222222222222,
              "#7201a8"
             ],
             [
              0.3333333333333333,
              "#9c179e"
             ],
             [
              0.4444444444444444,
              "#bd3786"
             ],
             [
              0.5555555555555556,
              "#d8576b"
             ],
             [
              0.6666666666666666,
              "#ed7953"
             ],
             [
              0.7777777777777778,
              "#fb9f3a"
             ],
             [
              0.8888888888888888,
              "#fdca26"
             ],
             [
              1,
              "#f0f921"
             ]
            ],
            "type": "histogram2d"
           }
          ],
          "histogram2dcontour": [
           {
            "colorbar": {
             "outlinewidth": 0,
             "ticks": ""
            },
            "colorscale": [
             [
              0,
              "#0d0887"
             ],
             [
              0.1111111111111111,
              "#46039f"
             ],
             [
              0.2222222222222222,
              "#7201a8"
             ],
             [
              0.3333333333333333,
              "#9c179e"
             ],
             [
              0.4444444444444444,
              "#bd3786"
             ],
             [
              0.5555555555555556,
              "#d8576b"
             ],
             [
              0.6666666666666666,
              "#ed7953"
             ],
             [
              0.7777777777777778,
              "#fb9f3a"
             ],
             [
              0.8888888888888888,
              "#fdca26"
             ],
             [
              1,
              "#f0f921"
             ]
            ],
            "type": "histogram2dcontour"
           }
          ],
          "mesh3d": [
           {
            "colorbar": {
             "outlinewidth": 0,
             "ticks": ""
            },
            "type": "mesh3d"
           }
          ],
          "parcoords": [
           {
            "line": {
             "colorbar": {
              "outlinewidth": 0,
              "ticks": ""
             }
            },
            "type": "parcoords"
           }
          ],
          "pie": [
           {
            "automargin": true,
            "type": "pie"
           }
          ],
          "scatter": [
           {
            "fillpattern": {
             "fillmode": "overlay",
             "size": 10,
             "solidity": 0.2
            },
            "type": "scatter"
           }
          ],
          "scatter3d": [
           {
            "line": {
             "colorbar": {
              "outlinewidth": 0,
              "ticks": ""
             }
            },
            "marker": {
             "colorbar": {
              "outlinewidth": 0,
              "ticks": ""
             }
            },
            "type": "scatter3d"
           }
          ],
          "scattercarpet": [
           {
            "marker": {
             "colorbar": {
              "outlinewidth": 0,
              "ticks": ""
             }
            },
            "type": "scattercarpet"
           }
          ],
          "scattergeo": [
           {
            "marker": {
             "colorbar": {
              "outlinewidth": 0,
              "ticks": ""
             }
            },
            "type": "scattergeo"
           }
          ],
          "scattergl": [
           {
            "marker": {
             "colorbar": {
              "outlinewidth": 0,
              "ticks": ""
             }
            },
            "type": "scattergl"
           }
          ],
          "scattermap": [
           {
            "marker": {
             "colorbar": {
              "outlinewidth": 0,
              "ticks": ""
             }
            },
            "type": "scattermap"
           }
          ],
          "scattermapbox": [
           {
            "marker": {
             "colorbar": {
              "outlinewidth": 0,
              "ticks": ""
             }
            },
            "type": "scattermapbox"
           }
          ],
          "scatterpolar": [
           {
            "marker": {
             "colorbar": {
              "outlinewidth": 0,
              "ticks": ""
             }
            },
            "type": "scatterpolar"
           }
          ],
          "scatterpolargl": [
           {
            "marker": {
             "colorbar": {
              "outlinewidth": 0,
              "ticks": ""
             }
            },
            "type": "scatterpolargl"
           }
          ],
          "scatterternary": [
           {
            "marker": {
             "colorbar": {
              "outlinewidth": 0,
              "ticks": ""
             }
            },
            "type": "scatterternary"
           }
          ],
          "surface": [
           {
            "colorbar": {
             "outlinewidth": 0,
             "ticks": ""
            },
            "colorscale": [
             [
              0,
              "#0d0887"
             ],
             [
              0.1111111111111111,
              "#46039f"
             ],
             [
              0.2222222222222222,
              "#7201a8"
             ],
             [
              0.3333333333333333,
              "#9c179e"
             ],
             [
              0.4444444444444444,
              "#bd3786"
             ],
             [
              0.5555555555555556,
              "#d8576b"
             ],
             [
              0.6666666666666666,
              "#ed7953"
             ],
             [
              0.7777777777777778,
              "#fb9f3a"
             ],
             [
              0.8888888888888888,
              "#fdca26"
             ],
             [
              1,
              "#f0f921"
             ]
            ],
            "type": "surface"
           }
          ],
          "table": [
           {
            "cells": {
             "fill": {
              "color": "#EBF0F8"
             },
             "line": {
              "color": "white"
             }
            },
            "header": {
             "fill": {
              "color": "#C8D4E3"
             },
             "line": {
              "color": "white"
             }
            },
            "type": "table"
           }
          ]
         },
         "layout": {
          "annotationdefaults": {
           "arrowcolor": "#2a3f5f",
           "arrowhead": 0,
           "arrowwidth": 1
          },
          "autotypenumbers": "strict",
          "coloraxis": {
           "colorbar": {
            "outlinewidth": 0,
            "ticks": ""
           }
          },
          "colorscale": {
           "diverging": [
            [
             0,
             "#8e0152"
            ],
            [
             0.1,
             "#c51b7d"
            ],
            [
             0.2,
             "#de77ae"
            ],
            [
             0.3,
             "#f1b6da"
            ],
            [
             0.4,
             "#fde0ef"
            ],
            [
             0.5,
             "#f7f7f7"
            ],
            [
             0.6,
             "#e6f5d0"
            ],
            [
             0.7,
             "#b8e186"
            ],
            [
             0.8,
             "#7fbc41"
            ],
            [
             0.9,
             "#4d9221"
            ],
            [
             1,
             "#276419"
            ]
           ],
           "sequential": [
            [
             0,
             "#0d0887"
            ],
            [
             0.1111111111111111,
             "#46039f"
            ],
            [
             0.2222222222222222,
             "#7201a8"
            ],
            [
             0.3333333333333333,
             "#9c179e"
            ],
            [
             0.4444444444444444,
             "#bd3786"
            ],
            [
             0.5555555555555556,
             "#d8576b"
            ],
            [
             0.6666666666666666,
             "#ed7953"
            ],
            [
             0.7777777777777778,
             "#fb9f3a"
            ],
            [
             0.8888888888888888,
             "#fdca26"
            ],
            [
             1,
             "#f0f921"
            ]
           ],
           "sequentialminus": [
            [
             0,
             "#0d0887"
            ],
            [
             0.1111111111111111,
             "#46039f"
            ],
            [
             0.2222222222222222,
             "#7201a8"
            ],
            [
             0.3333333333333333,
             "#9c179e"
            ],
            [
             0.4444444444444444,
             "#bd3786"
            ],
            [
             0.5555555555555556,
             "#d8576b"
            ],
            [
             0.6666666666666666,
             "#ed7953"
            ],
            [
             0.7777777777777778,
             "#fb9f3a"
            ],
            [
             0.8888888888888888,
             "#fdca26"
            ],
            [
             1,
             "#f0f921"
            ]
           ]
          },
          "colorway": [
           "#636efa",
           "#EF553B",
           "#00cc96",
           "#ab63fa",
           "#FFA15A",
           "#19d3f3",
           "#FF6692",
           "#B6E880",
           "#FF97FF",
           "#FECB52"
          ],
          "font": {
           "color": "#2a3f5f"
          },
          "geo": {
           "bgcolor": "white",
           "lakecolor": "white",
           "landcolor": "#E5ECF6",
           "showlakes": true,
           "showland": true,
           "subunitcolor": "white"
          },
          "hoverlabel": {
           "align": "left"
          },
          "hovermode": "closest",
          "mapbox": {
           "style": "light"
          },
          "paper_bgcolor": "white",
          "plot_bgcolor": "#E5ECF6",
          "polar": {
           "angularaxis": {
            "gridcolor": "white",
            "linecolor": "white",
            "ticks": ""
           },
           "bgcolor": "#E5ECF6",
           "radialaxis": {
            "gridcolor": "white",
            "linecolor": "white",
            "ticks": ""
           }
          },
          "scene": {
           "xaxis": {
            "backgroundcolor": "#E5ECF6",
            "gridcolor": "white",
            "gridwidth": 2,
            "linecolor": "white",
            "showbackground": true,
            "ticks": "",
            "zerolinecolor": "white"
           },
           "yaxis": {
            "backgroundcolor": "#E5ECF6",
            "gridcolor": "white",
            "gridwidth": 2,
            "linecolor": "white",
            "showbackground": true,
            "ticks": "",
            "zerolinecolor": "white"
           },
           "zaxis": {
            "backgroundcolor": "#E5ECF6",
            "gridcolor": "white",
            "gridwidth": 2,
            "linecolor": "white",
            "showbackground": true,
            "ticks": "",
            "zerolinecolor": "white"
           }
          },
          "shapedefaults": {
           "line": {
            "color": "#2a3f5f"
           }
          },
          "ternary": {
           "aaxis": {
            "gridcolor": "white",
            "linecolor": "white",
            "ticks": ""
           },
           "baxis": {
            "gridcolor": "white",
            "linecolor": "white",
            "ticks": ""
           },
           "bgcolor": "#E5ECF6",
           "caxis": {
            "gridcolor": "white",
            "linecolor": "white",
            "ticks": ""
           }
          },
          "title": {
           "x": 0.05
          },
          "xaxis": {
           "automargin": true,
           "gridcolor": "white",
           "linecolor": "white",
           "ticks": "",
           "title": {
            "standoff": 15
           },
           "zerolinecolor": "white",
           "zerolinewidth": 2
          },
          "yaxis": {
           "automargin": true,
           "gridcolor": "white",
           "linecolor": "white",
           "ticks": "",
           "title": {
            "standoff": 15
           },
           "zerolinecolor": "white",
           "zerolinewidth": 2
          }
         }
        }
       }
      }
     },
     "metadata": {},
     "output_type": "display_data"
    }
   ],
   "source": [
    "# plot the predicted values against the actual values\n",
    "fig = go.Figure([go.Scatter(x=df['ds'], y=df['y'],mode='lines',\n",
    "                    name='Actual')])\n",
    "\n",
    "fig.add_trace(go.Scatter(x=prediction1['ds'], y=prediction1['yhat'],\n",
    "                   mode='lines+markers',\n",
    "                    name='predicted'))\n",
    "\n",
    "fig.show()"
   ]
  }
 ],
 "metadata": {
  "kernelspec": {
   "display_name": ".venv",
   "language": "python",
   "name": "python3"
  },
  "language_info": {
   "codemirror_mode": {
    "name": "ipython",
    "version": 3
   },
   "file_extension": ".py",
   "mimetype": "text/x-python",
   "name": "python",
   "nbconvert_exporter": "python",
   "pygments_lexer": "ipython3",
   "version": "3.13.0"
  }
 },
 "nbformat": 4,
 "nbformat_minor": 5
}
