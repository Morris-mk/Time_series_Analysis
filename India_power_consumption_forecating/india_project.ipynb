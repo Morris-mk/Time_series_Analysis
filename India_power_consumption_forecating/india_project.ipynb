{
 "cells": [
  {
   "cell_type": "code",
   "execution_count": 1,
   "id": "3e004703",
   "metadata": {},
   "outputs": [
    {
     "name": "stderr",
     "output_type": "stream",
     "text": [
      "c:\\Users\\Morinyo Baddestman\\Documents\\Time_Series_Analysis\\.venv\\Lib\\site-packages\\tqdm\\auto.py:21: TqdmWarning: IProgress not found. Please update jupyter and ipywidgets. See https://ipywidgets.readthedocs.io/en/stable/user_install.html\n",
      "  from .autonotebook import tqdm as notebook_tqdm\n"
     ]
    }
   ],
   "source": [
    "import pandas as pd\n",
    "import numpy as np\n",
    "import matplotlib.pyplot as plt\n",
    "import plotly.express as px\n",
    "import plotly.graph_objects as go\n",
    "\n",
    "from prophet import Prophet\n",
    "from sklearn.metrics import mean_absolute_error"
   ]
  },
  {
   "cell_type": "code",
   "execution_count": null,
   "id": "bd73050c",
   "metadata": {},
   "outputs": [],
   "source": [
    "# import and show the data\n",
    "df=pd.read_csv(r'https://cf-courses-data.s3.us.cloud-object-storage.appdomain.cloud/IBM-GPXX032NEN/images/data/long_data_.csv')\n",
    "df.head()"
   ]
  },
  {
   "cell_type": "code",
   "execution_count": 2,
   "id": "1284d608",
   "metadata": {},
   "outputs": [
    {
     "data": {
      "application/vnd.microsoft.datawrangler.viewer.v0+json": {
       "columns": [
        {
         "name": "index",
         "rawType": "int64",
         "type": "integer"
        },
        {
         "name": "States",
         "rawType": "object",
         "type": "string"
        },
        {
         "name": "Regions",
         "rawType": "object",
         "type": "string"
        },
        {
         "name": "latitude",
         "rawType": "float64",
         "type": "float"
        },
        {
         "name": "longitude",
         "rawType": "float64",
         "type": "float"
        },
        {
         "name": "Dates",
         "rawType": "object",
         "type": "string"
        },
        {
         "name": "Usage",
         "rawType": "float64",
         "type": "float"
        }
       ],
       "ref": "e9cdaf5c-aec0-4199-b23d-38a657a3cc93",
       "rows": [
        [
         "0",
         "Punjab",
         "NR",
         "31.51997398",
         "75.98000281",
         "02/01/2019 00:00:00",
         "119.9"
        ],
        [
         "1",
         "Haryana",
         "NR",
         "28.45000633",
         "77.01999101",
         "02/01/2019 00:00:00",
         "130.3"
        ],
        [
         "2",
         "Rajasthan",
         "NR",
         "26.44999921",
         "74.63998124",
         "02/01/2019 00:00:00",
         "234.1"
        ],
        [
         "3",
         "Delhi",
         "NR",
         "28.6699929",
         "77.23000403",
         "02/01/2019 00:00:00",
         "85.8"
        ],
        [
         "4",
         "UP",
         "NR",
         "27.59998069",
         "78.05000565",
         "02/01/2019 00:00:00",
         "313.9"
        ]
       ],
       "shape": {
        "columns": 6,
        "rows": 5
       }
      },
      "text/html": [
       "<div>\n",
       "<style scoped>\n",
       "    .dataframe tbody tr th:only-of-type {\n",
       "        vertical-align: middle;\n",
       "    }\n",
       "\n",
       "    .dataframe tbody tr th {\n",
       "        vertical-align: top;\n",
       "    }\n",
       "\n",
       "    .dataframe thead th {\n",
       "        text-align: right;\n",
       "    }\n",
       "</style>\n",
       "<table border=\"1\" class=\"dataframe\">\n",
       "  <thead>\n",
       "    <tr style=\"text-align: right;\">\n",
       "      <th></th>\n",
       "      <th>States</th>\n",
       "      <th>Regions</th>\n",
       "      <th>latitude</th>\n",
       "      <th>longitude</th>\n",
       "      <th>Dates</th>\n",
       "      <th>Usage</th>\n",
       "    </tr>\n",
       "  </thead>\n",
       "  <tbody>\n",
       "    <tr>\n",
       "      <th>0</th>\n",
       "      <td>Punjab</td>\n",
       "      <td>NR</td>\n",
       "      <td>31.519974</td>\n",
       "      <td>75.980003</td>\n",
       "      <td>02/01/2019 00:00:00</td>\n",
       "      <td>119.9</td>\n",
       "    </tr>\n",
       "    <tr>\n",
       "      <th>1</th>\n",
       "      <td>Haryana</td>\n",
       "      <td>NR</td>\n",
       "      <td>28.450006</td>\n",
       "      <td>77.019991</td>\n",
       "      <td>02/01/2019 00:00:00</td>\n",
       "      <td>130.3</td>\n",
       "    </tr>\n",
       "    <tr>\n",
       "      <th>2</th>\n",
       "      <td>Rajasthan</td>\n",
       "      <td>NR</td>\n",
       "      <td>26.449999</td>\n",
       "      <td>74.639981</td>\n",
       "      <td>02/01/2019 00:00:00</td>\n",
       "      <td>234.1</td>\n",
       "    </tr>\n",
       "    <tr>\n",
       "      <th>3</th>\n",
       "      <td>Delhi</td>\n",
       "      <td>NR</td>\n",
       "      <td>28.669993</td>\n",
       "      <td>77.230004</td>\n",
       "      <td>02/01/2019 00:00:00</td>\n",
       "      <td>85.8</td>\n",
       "    </tr>\n",
       "    <tr>\n",
       "      <th>4</th>\n",
       "      <td>UP</td>\n",
       "      <td>NR</td>\n",
       "      <td>27.599981</td>\n",
       "      <td>78.050006</td>\n",
       "      <td>02/01/2019 00:00:00</td>\n",
       "      <td>313.9</td>\n",
       "    </tr>\n",
       "  </tbody>\n",
       "</table>\n",
       "</div>"
      ],
      "text/plain": [
       "      States Regions   latitude  longitude                Dates  Usage\n",
       "0     Punjab      NR  31.519974  75.980003  02/01/2019 00:00:00  119.9\n",
       "1    Haryana      NR  28.450006  77.019991  02/01/2019 00:00:00  130.3\n",
       "2  Rajasthan      NR  26.449999  74.639981  02/01/2019 00:00:00  234.1\n",
       "3      Delhi      NR  28.669993  77.230004  02/01/2019 00:00:00   85.8\n",
       "4         UP      NR  27.599981  78.050006  02/01/2019 00:00:00  313.9"
      ]
     },
     "execution_count": 2,
     "metadata": {},
     "output_type": "execute_result"
    }
   ],
   "source": [
    "df = pd.read_csv(r\"C:\\Users\\Morinyo Baddestman\\Documents\\long_data_.csv\")\n",
    "df.head()"
   ]
  },
  {
   "cell_type": "code",
   "execution_count": 3,
   "id": "80d7d551",
   "metadata": {},
   "outputs": [
    {
     "name": "stdout",
     "output_type": "stream",
     "text": [
      "dataframe is of shape\n",
      " (16599, 6)\n",
      "<class 'pandas.core.frame.DataFrame'>\n",
      "RangeIndex: 16599 entries, 0 to 16598\n",
      "Data columns (total 6 columns):\n",
      " #   Column     Non-Null Count  Dtype  \n",
      "---  ------     --------------  -----  \n",
      " 0   States     16599 non-null  object \n",
      " 1   Regions    16599 non-null  object \n",
      " 2   latitude   16599 non-null  float64\n",
      " 3   longitude  16599 non-null  float64\n",
      " 4   Dates      16599 non-null  object \n",
      " 5   Usage      16599 non-null  float64\n",
      "dtypes: float64(3), object(3)\n",
      "memory usage: 778.2+ KB\n",
      "None\n"
     ]
    }
   ],
   "source": [
    "# dataframe features\n",
    "print('dataframe is of shape\\n', df.shape)\n",
    "print(df.info())"
   ]
  },
  {
   "cell_type": "markdown",
   "id": "cc9f6a17",
   "metadata": {},
   "source": [
    "## data cleaning and wrangling"
   ]
  },
  {
   "cell_type": "code",
   "execution_count": 4,
   "id": "6f71a4f9",
   "metadata": {},
   "outputs": [],
   "source": [
    "# convert df columns to lower case for easier referrencing\n",
    "df.columns = [col.lower() for col in df.columns]\n",
    "\n",
    "# convert the dates column to date_time format\n",
    "df['dates'] = pd.to_datetime(df['dates'], format='mixed', dayfirst= True)\n",
    "\n",
    "# drop unneccesary columns\n",
    "df = df.drop(['longitude', 'latitude'], axis=1)"
   ]
  },
  {
   "cell_type": "code",
   "execution_count": 5,
   "id": "d5cf32da",
   "metadata": {},
   "outputs": [
    {
     "name": "stdout",
     "output_type": "stream",
     "text": [
      "new shape\n",
      " (498, 2)\n",
      "       dates       usage\n",
      "0 2019-01-02  102.224242\n",
      "1 2019-01-03  103.142424\n",
      "2 2019-01-04  100.124242\n",
      "3 2019-01-05  100.269697\n",
      "4 2019-01-06  100.512121\n"
     ]
    }
   ],
   "source": [
    "# group the data by dates\n",
    "df = df.groupby('dates', as_index=False).mean(numeric_only=True)\n",
    "print('new shape\\n', df.shape)\n",
    "print(df.head())\n"
   ]
  },
  {
   "cell_type": "markdown",
   "id": "696b3223",
   "metadata": {},
   "source": [
    "## Visualizations"
   ]
  },
  {
   "cell_type": "code",
   "execution_count": 6,
   "id": "4761342a",
   "metadata": {},
   "outputs": [
    {
     "data": {
      "application/vnd.plotly.v1+json": {
       "config": {
        "plotlyServerURL": "https://plot.ly"
       },
       "data": [
        {
         "hovertemplate": "dates=%{x}<br>usage=%{y}<extra></extra>",
         "legendgroup": "",
         "line": {
          "color": "#636efa",
          "dash": "solid"
         },
         "marker": {
          "symbol": "circle"
         },
         "mode": "lines",
         "name": "",
         "orientation": "v",
         "showlegend": false,
         "type": "scatter",
         "x": [
          "2019-01-02T00:00:00.000000000",
          "2019-01-03T00:00:00.000000000",
          "2019-01-04T00:00:00.000000000",
          "2019-01-05T00:00:00.000000000",
          "2019-01-06T00:00:00.000000000",
          "2019-01-07T00:00:00.000000000",
          "2019-01-08T00:00:00.000000000",
          "2019-01-09T00:00:00.000000000",
          "2019-01-10T00:00:00.000000000",
          "2019-01-11T00:00:00.000000000",
          "2019-01-12T00:00:00.000000000",
          "2019-01-13T00:00:00.000000000",
          "2019-01-14T00:00:00.000000000",
          "2019-01-15T00:00:00.000000000",
          "2019-01-16T00:00:00.000000000",
          "2019-01-17T00:00:00.000000000",
          "2019-01-18T00:00:00.000000000",
          "2019-01-19T00:00:00.000000000",
          "2019-01-20T00:00:00.000000000",
          "2019-01-21T00:00:00.000000000",
          "2019-01-22T00:00:00.000000000",
          "2019-01-23T00:00:00.000000000",
          "2019-01-24T00:00:00.000000000",
          "2019-01-25T00:00:00.000000000",
          "2019-01-26T00:00:00.000000000",
          "2019-01-27T00:00:00.000000000",
          "2019-01-28T00:00:00.000000000",
          "2019-01-29T00:00:00.000000000",
          "2019-01-30T00:00:00.000000000",
          "2019-01-31T00:00:00.000000000",
          "2019-02-02T00:00:00.000000000",
          "2019-02-03T00:00:00.000000000",
          "2019-02-04T00:00:00.000000000",
          "2019-02-05T00:00:00.000000000",
          "2019-02-06T00:00:00.000000000",
          "2019-02-07T00:00:00.000000000",
          "2019-02-08T00:00:00.000000000",
          "2019-02-09T00:00:00.000000000",
          "2019-02-10T00:00:00.000000000",
          "2019-02-11T00:00:00.000000000",
          "2019-02-12T00:00:00.000000000",
          "2019-02-13T00:00:00.000000000",
          "2019-02-14T00:00:00.000000000",
          "2019-02-15T00:00:00.000000000",
          "2019-02-16T00:00:00.000000000",
          "2019-02-17T00:00:00.000000000",
          "2019-02-18T00:00:00.000000000",
          "2019-02-19T00:00:00.000000000",
          "2019-02-20T00:00:00.000000000",
          "2019-02-21T00:00:00.000000000",
          "2019-02-22T00:00:00.000000000",
          "2019-02-23T00:00:00.000000000",
          "2019-02-24T00:00:00.000000000",
          "2019-02-25T00:00:00.000000000",
          "2019-02-26T00:00:00.000000000",
          "2019-02-27T00:00:00.000000000",
          "2019-02-28T00:00:00.000000000",
          "2019-03-02T00:00:00.000000000",
          "2019-03-03T00:00:00.000000000",
          "2019-03-04T00:00:00.000000000",
          "2019-03-05T00:00:00.000000000",
          "2019-03-06T00:00:00.000000000",
          "2019-03-07T00:00:00.000000000",
          "2019-03-08T00:00:00.000000000",
          "2019-03-09T00:00:00.000000000",
          "2019-03-10T00:00:00.000000000",
          "2019-03-11T00:00:00.000000000",
          "2019-03-12T00:00:00.000000000",
          "2019-03-13T00:00:00.000000000",
          "2019-03-14T00:00:00.000000000",
          "2019-03-15T00:00:00.000000000",
          "2019-03-16T00:00:00.000000000",
          "2019-03-17T00:00:00.000000000",
          "2019-03-18T00:00:00.000000000",
          "2019-03-19T00:00:00.000000000",
          "2019-03-20T00:00:00.000000000",
          "2019-03-21T00:00:00.000000000",
          "2019-03-22T00:00:00.000000000",
          "2019-03-23T00:00:00.000000000",
          "2019-03-24T00:00:00.000000000",
          "2019-03-25T00:00:00.000000000",
          "2019-03-26T00:00:00.000000000",
          "2019-03-27T00:00:00.000000000",
          "2019-03-28T00:00:00.000000000",
          "2019-03-29T00:00:00.000000000",
          "2019-03-30T00:00:00.000000000",
          "2019-03-31T00:00:00.000000000",
          "2019-04-02T00:00:00.000000000",
          "2019-04-03T00:00:00.000000000",
          "2019-04-04T00:00:00.000000000",
          "2019-04-05T00:00:00.000000000",
          "2019-04-06T00:00:00.000000000",
          "2019-04-07T00:00:00.000000000",
          "2019-04-08T00:00:00.000000000",
          "2019-04-09T00:00:00.000000000",
          "2019-04-10T00:00:00.000000000",
          "2019-04-11T00:00:00.000000000",
          "2019-04-12T00:00:00.000000000",
          "2019-04-13T00:00:00.000000000",
          "2019-04-14T00:00:00.000000000",
          "2019-04-15T00:00:00.000000000",
          "2019-04-16T00:00:00.000000000",
          "2019-04-17T00:00:00.000000000",
          "2019-04-18T00:00:00.000000000",
          "2019-04-19T00:00:00.000000000",
          "2019-04-20T00:00:00.000000000",
          "2019-04-21T00:00:00.000000000",
          "2019-04-22T00:00:00.000000000",
          "2019-04-23T00:00:00.000000000",
          "2019-04-24T00:00:00.000000000",
          "2019-04-25T00:00:00.000000000",
          "2019-04-26T00:00:00.000000000",
          "2019-04-27T00:00:00.000000000",
          "2019-04-28T00:00:00.000000000",
          "2019-04-29T00:00:00.000000000",
          "2019-04-30T00:00:00.000000000",
          "2019-05-02T00:00:00.000000000",
          "2019-05-03T00:00:00.000000000",
          "2019-05-04T00:00:00.000000000",
          "2019-05-05T00:00:00.000000000",
          "2019-05-06T00:00:00.000000000",
          "2019-05-07T00:00:00.000000000",
          "2019-05-08T00:00:00.000000000",
          "2019-05-09T00:00:00.000000000",
          "2019-05-10T00:00:00.000000000",
          "2019-05-11T00:00:00.000000000",
          "2019-05-12T00:00:00.000000000",
          "2019-05-13T00:00:00.000000000",
          "2019-05-14T00:00:00.000000000",
          "2019-05-15T00:00:00.000000000",
          "2019-05-16T00:00:00.000000000",
          "2019-05-17T00:00:00.000000000",
          "2019-05-18T00:00:00.000000000",
          "2019-05-19T00:00:00.000000000",
          "2019-05-20T00:00:00.000000000",
          "2019-05-21T00:00:00.000000000",
          "2019-05-22T00:00:00.000000000",
          "2019-05-23T00:00:00.000000000",
          "2019-05-24T00:00:00.000000000",
          "2019-05-25T00:00:00.000000000",
          "2019-05-26T00:00:00.000000000",
          "2019-05-27T00:00:00.000000000",
          "2019-05-28T00:00:00.000000000",
          "2019-05-29T00:00:00.000000000",
          "2019-05-30T00:00:00.000000000",
          "2019-05-31T00:00:00.000000000",
          "2019-06-02T00:00:00.000000000",
          "2019-06-03T00:00:00.000000000",
          "2019-06-04T00:00:00.000000000",
          "2019-06-05T00:00:00.000000000",
          "2019-06-06T00:00:00.000000000",
          "2019-06-07T00:00:00.000000000",
          "2019-06-08T00:00:00.000000000",
          "2019-06-09T00:00:00.000000000",
          "2019-06-10T00:00:00.000000000",
          "2019-06-11T00:00:00.000000000",
          "2019-06-12T00:00:00.000000000",
          "2019-06-13T00:00:00.000000000",
          "2019-06-14T00:00:00.000000000",
          "2019-06-15T00:00:00.000000000",
          "2019-06-16T00:00:00.000000000",
          "2019-06-17T00:00:00.000000000",
          "2019-06-18T00:00:00.000000000",
          "2019-06-19T00:00:00.000000000",
          "2019-06-20T00:00:00.000000000",
          "2019-06-21T00:00:00.000000000",
          "2019-06-22T00:00:00.000000000",
          "2019-06-23T00:00:00.000000000",
          "2019-06-24T00:00:00.000000000",
          "2019-06-25T00:00:00.000000000",
          "2019-06-26T00:00:00.000000000",
          "2019-06-27T00:00:00.000000000",
          "2019-06-28T00:00:00.000000000",
          "2019-06-29T00:00:00.000000000",
          "2019-06-30T00:00:00.000000000",
          "2019-07-01T00:00:00.000000000",
          "2019-07-02T00:00:00.000000000",
          "2019-07-03T00:00:00.000000000",
          "2019-07-04T00:00:00.000000000",
          "2019-07-05T00:00:00.000000000",
          "2019-07-06T00:00:00.000000000",
          "2019-07-07T00:00:00.000000000",
          "2019-07-08T00:00:00.000000000",
          "2019-07-09T00:00:00.000000000",
          "2019-07-10T00:00:00.000000000",
          "2019-07-11T00:00:00.000000000",
          "2019-07-12T00:00:00.000000000",
          "2019-07-13T00:00:00.000000000",
          "2019-07-14T00:00:00.000000000",
          "2019-07-15T00:00:00.000000000",
          "2019-07-16T00:00:00.000000000",
          "2019-07-17T00:00:00.000000000",
          "2019-07-18T00:00:00.000000000",
          "2019-07-19T00:00:00.000000000",
          "2019-07-20T00:00:00.000000000",
          "2019-07-21T00:00:00.000000000",
          "2019-07-22T00:00:00.000000000",
          "2019-07-23T00:00:00.000000000",
          "2019-07-24T00:00:00.000000000",
          "2019-07-25T00:00:00.000000000",
          "2019-07-26T00:00:00.000000000",
          "2019-07-27T00:00:00.000000000",
          "2019-07-28T00:00:00.000000000",
          "2019-07-29T00:00:00.000000000",
          "2019-07-30T00:00:00.000000000",
          "2019-07-31T00:00:00.000000000",
          "2019-08-01T00:00:00.000000000",
          "2019-08-02T00:00:00.000000000",
          "2019-08-03T00:00:00.000000000",
          "2019-08-04T00:00:00.000000000",
          "2019-08-05T00:00:00.000000000",
          "2019-08-06T00:00:00.000000000",
          "2019-08-08T00:00:00.000000000",
          "2019-08-09T00:00:00.000000000",
          "2019-08-10T00:00:00.000000000",
          "2019-08-11T00:00:00.000000000",
          "2019-08-12T00:00:00.000000000",
          "2019-08-13T00:00:00.000000000",
          "2019-08-14T00:00:00.000000000",
          "2019-08-15T00:00:00.000000000",
          "2019-08-16T00:00:00.000000000",
          "2019-08-17T00:00:00.000000000",
          "2019-08-18T00:00:00.000000000",
          "2019-08-19T00:00:00.000000000",
          "2019-08-20T00:00:00.000000000",
          "2019-08-21T00:00:00.000000000",
          "2019-08-22T00:00:00.000000000",
          "2019-08-23T00:00:00.000000000",
          "2019-08-24T00:00:00.000000000",
          "2019-08-25T00:00:00.000000000",
          "2019-08-26T00:00:00.000000000",
          "2019-08-27T00:00:00.000000000",
          "2019-08-28T00:00:00.000000000",
          "2019-08-29T00:00:00.000000000",
          "2019-08-30T00:00:00.000000000",
          "2019-08-31T00:00:00.000000000",
          "2019-09-01T00:00:00.000000000",
          "2019-09-02T00:00:00.000000000",
          "2019-09-03T00:00:00.000000000",
          "2019-09-04T00:00:00.000000000",
          "2019-09-05T00:00:00.000000000",
          "2019-09-06T00:00:00.000000000",
          "2019-09-08T00:00:00.000000000",
          "2019-09-09T00:00:00.000000000",
          "2019-09-10T00:00:00.000000000",
          "2019-09-11T00:00:00.000000000",
          "2019-09-12T00:00:00.000000000",
          "2019-09-13T00:00:00.000000000",
          "2019-09-14T00:00:00.000000000",
          "2019-09-15T00:00:00.000000000",
          "2019-09-16T00:00:00.000000000",
          "2019-09-17T00:00:00.000000000",
          "2019-09-18T00:00:00.000000000",
          "2019-09-19T00:00:00.000000000",
          "2019-09-20T00:00:00.000000000",
          "2019-09-21T00:00:00.000000000",
          "2019-09-22T00:00:00.000000000",
          "2019-09-23T00:00:00.000000000",
          "2019-09-24T00:00:00.000000000",
          "2019-09-25T00:00:00.000000000",
          "2019-09-26T00:00:00.000000000",
          "2019-09-27T00:00:00.000000000",
          "2019-09-28T00:00:00.000000000",
          "2019-09-29T00:00:00.000000000",
          "2019-09-30T00:00:00.000000000",
          "2019-10-01T00:00:00.000000000",
          "2019-10-02T00:00:00.000000000",
          "2019-10-03T00:00:00.000000000",
          "2019-10-04T00:00:00.000000000",
          "2019-10-05T00:00:00.000000000",
          "2019-10-06T00:00:00.000000000",
          "2019-10-08T00:00:00.000000000",
          "2019-10-09T00:00:00.000000000",
          "2019-10-10T00:00:00.000000000",
          "2019-10-11T00:00:00.000000000",
          "2019-10-12T00:00:00.000000000",
          "2019-10-13T00:00:00.000000000",
          "2019-10-14T00:00:00.000000000",
          "2019-10-15T00:00:00.000000000",
          "2019-10-16T00:00:00.000000000",
          "2019-10-17T00:00:00.000000000",
          "2019-10-18T00:00:00.000000000",
          "2019-10-19T00:00:00.000000000",
          "2019-10-20T00:00:00.000000000",
          "2019-10-21T00:00:00.000000000",
          "2019-10-22T00:00:00.000000000",
          "2019-10-23T00:00:00.000000000",
          "2019-10-24T00:00:00.000000000",
          "2019-10-25T00:00:00.000000000",
          "2019-10-26T00:00:00.000000000",
          "2019-10-27T00:00:00.000000000",
          "2019-10-28T00:00:00.000000000",
          "2019-10-29T00:00:00.000000000",
          "2019-10-30T00:00:00.000000000",
          "2019-10-31T00:00:00.000000000",
          "2019-11-01T00:00:00.000000000",
          "2019-11-02T00:00:00.000000000",
          "2019-11-03T00:00:00.000000000",
          "2019-11-04T00:00:00.000000000",
          "2019-11-05T00:00:00.000000000",
          "2019-11-06T00:00:00.000000000",
          "2019-11-08T00:00:00.000000000",
          "2019-11-09T00:00:00.000000000",
          "2019-11-10T00:00:00.000000000",
          "2019-11-11T00:00:00.000000000",
          "2019-11-12T00:00:00.000000000",
          "2019-11-13T00:00:00.000000000",
          "2019-11-14T00:00:00.000000000",
          "2019-11-15T00:00:00.000000000",
          "2019-11-16T00:00:00.000000000",
          "2019-11-17T00:00:00.000000000",
          "2019-11-18T00:00:00.000000000",
          "2019-11-19T00:00:00.000000000",
          "2019-11-20T00:00:00.000000000",
          "2019-11-21T00:00:00.000000000",
          "2019-11-22T00:00:00.000000000",
          "2019-11-23T00:00:00.000000000",
          "2019-11-24T00:00:00.000000000",
          "2019-11-25T00:00:00.000000000",
          "2019-11-26T00:00:00.000000000",
          "2019-11-27T00:00:00.000000000",
          "2019-11-28T00:00:00.000000000",
          "2019-11-29T00:00:00.000000000",
          "2019-11-30T00:00:00.000000000",
          "2019-12-01T00:00:00.000000000",
          "2019-12-02T00:00:00.000000000",
          "2019-12-03T00:00:00.000000000",
          "2019-12-04T00:00:00.000000000",
          "2019-12-05T00:00:00.000000000",
          "2019-12-06T00:00:00.000000000",
          "2019-12-08T00:00:00.000000000",
          "2019-12-09T00:00:00.000000000",
          "2019-12-10T00:00:00.000000000",
          "2019-12-11T00:00:00.000000000",
          "2019-12-12T00:00:00.000000000",
          "2019-12-13T00:00:00.000000000",
          "2019-12-14T00:00:00.000000000",
          "2019-12-15T00:00:00.000000000",
          "2019-12-16T00:00:00.000000000",
          "2019-12-17T00:00:00.000000000",
          "2019-12-18T00:00:00.000000000",
          "2019-12-19T00:00:00.000000000",
          "2019-12-20T00:00:00.000000000",
          "2019-12-21T00:00:00.000000000",
          "2019-12-22T00:00:00.000000000",
          "2019-12-23T00:00:00.000000000",
          "2019-12-24T00:00:00.000000000",
          "2019-12-25T00:00:00.000000000",
          "2019-12-26T00:00:00.000000000",
          "2019-12-27T00:00:00.000000000",
          "2019-12-28T00:00:00.000000000",
          "2019-12-29T00:00:00.000000000",
          "2019-12-30T00:00:00.000000000",
          "2019-12-31T00:00:00.000000000",
          "2020-01-01T00:00:00.000000000",
          "2020-01-02T00:00:00.000000000",
          "2020-01-03T00:00:00.000000000",
          "2020-01-04T00:00:00.000000000",
          "2020-01-05T00:00:00.000000000",
          "2020-01-13T00:00:00.000000000",
          "2020-01-14T00:00:00.000000000",
          "2020-01-15T00:00:00.000000000",
          "2020-01-16T00:00:00.000000000",
          "2020-01-17T00:00:00.000000000",
          "2020-01-18T00:00:00.000000000",
          "2020-01-19T00:00:00.000000000",
          "2020-01-20T00:00:00.000000000",
          "2020-01-21T00:00:00.000000000",
          "2020-01-22T00:00:00.000000000",
          "2020-01-23T00:00:00.000000000",
          "2020-01-24T00:00:00.000000000",
          "2020-01-25T00:00:00.000000000",
          "2020-01-26T00:00:00.000000000",
          "2020-01-27T00:00:00.000000000",
          "2020-01-28T00:00:00.000000000",
          "2020-01-29T00:00:00.000000000",
          "2020-01-30T00:00:00.000000000",
          "2020-01-31T00:00:00.000000000",
          "2020-02-01T00:00:00.000000000",
          "2020-02-02T00:00:00.000000000",
          "2020-02-03T00:00:00.000000000",
          "2020-02-04T00:00:00.000000000",
          "2020-02-05T00:00:00.000000000",
          "2020-02-13T00:00:00.000000000",
          "2020-02-14T00:00:00.000000000",
          "2020-02-15T00:00:00.000000000",
          "2020-02-16T00:00:00.000000000",
          "2020-02-17T00:00:00.000000000",
          "2020-02-18T00:00:00.000000000",
          "2020-02-19T00:00:00.000000000",
          "2020-02-20T00:00:00.000000000",
          "2020-02-21T00:00:00.000000000",
          "2020-02-22T00:00:00.000000000",
          "2020-02-23T00:00:00.000000000",
          "2020-02-24T00:00:00.000000000",
          "2020-02-25T00:00:00.000000000",
          "2020-02-26T00:00:00.000000000",
          "2020-02-27T00:00:00.000000000",
          "2020-02-28T00:00:00.000000000",
          "2020-02-29T00:00:00.000000000",
          "2020-03-01T00:00:00.000000000",
          "2020-03-02T00:00:00.000000000",
          "2020-03-03T00:00:00.000000000",
          "2020-03-04T00:00:00.000000000",
          "2020-03-05T00:00:00.000000000",
          "2020-03-13T00:00:00.000000000",
          "2020-03-14T00:00:00.000000000",
          "2020-03-15T00:00:00.000000000",
          "2020-03-16T00:00:00.000000000",
          "2020-03-17T00:00:00.000000000",
          "2020-03-18T00:00:00.000000000",
          "2020-03-19T00:00:00.000000000",
          "2020-03-20T00:00:00.000000000",
          "2020-03-21T00:00:00.000000000",
          "2020-03-22T00:00:00.000000000",
          "2020-03-23T00:00:00.000000000",
          "2020-03-24T00:00:00.000000000",
          "2020-03-25T00:00:00.000000000",
          "2020-03-26T00:00:00.000000000",
          "2020-03-27T00:00:00.000000000",
          "2020-03-28T00:00:00.000000000",
          "2020-03-29T00:00:00.000000000",
          "2020-03-30T00:00:00.000000000",
          "2020-03-31T00:00:00.000000000",
          "2020-04-01T00:00:00.000000000",
          "2020-04-02T00:00:00.000000000",
          "2020-04-03T00:00:00.000000000",
          "2020-04-04T00:00:00.000000000",
          "2020-04-05T00:00:00.000000000",
          "2020-04-13T00:00:00.000000000",
          "2020-04-14T00:00:00.000000000",
          "2020-04-15T00:00:00.000000000",
          "2020-04-16T00:00:00.000000000",
          "2020-04-17T00:00:00.000000000",
          "2020-04-18T00:00:00.000000000",
          "2020-04-19T00:00:00.000000000",
          "2020-04-20T00:00:00.000000000",
          "2020-04-21T00:00:00.000000000",
          "2020-04-22T00:00:00.000000000",
          "2020-04-23T00:00:00.000000000",
          "2020-04-24T00:00:00.000000000",
          "2020-04-25T00:00:00.000000000",
          "2020-04-26T00:00:00.000000000",
          "2020-04-27T00:00:00.000000000",
          "2020-04-28T00:00:00.000000000",
          "2020-04-29T00:00:00.000000000",
          "2020-04-30T00:00:00.000000000",
          "2020-05-01T00:00:00.000000000",
          "2020-05-02T00:00:00.000000000",
          "2020-05-03T00:00:00.000000000",
          "2020-05-04T00:00:00.000000000",
          "2020-05-05T00:00:00.000000000",
          "2020-05-13T00:00:00.000000000",
          "2020-05-14T00:00:00.000000000",
          "2020-05-15T00:00:00.000000000",
          "2020-05-16T00:00:00.000000000",
          "2020-05-17T00:00:00.000000000",
          "2020-05-18T00:00:00.000000000",
          "2020-05-19T00:00:00.000000000",
          "2020-05-20T00:00:00.000000000",
          "2020-05-21T00:00:00.000000000",
          "2020-05-22T00:00:00.000000000",
          "2020-05-23T00:00:00.000000000",
          "2020-06-01T00:00:00.000000000",
          "2020-06-02T00:00:00.000000000",
          "2020-06-03T00:00:00.000000000",
          "2020-06-04T00:00:00.000000000",
          "2020-06-05T00:00:00.000000000",
          "2020-07-01T00:00:00.000000000",
          "2020-07-02T00:00:00.000000000",
          "2020-07-03T00:00:00.000000000",
          "2020-07-04T00:00:00.000000000",
          "2020-07-05T00:00:00.000000000",
          "2020-08-01T00:00:00.000000000",
          "2020-08-02T00:00:00.000000000",
          "2020-08-03T00:00:00.000000000",
          "2020-08-04T00:00:00.000000000",
          "2020-08-05T00:00:00.000000000",
          "2020-09-01T00:00:00.000000000",
          "2020-09-02T00:00:00.000000000",
          "2020-09-03T00:00:00.000000000",
          "2020-09-04T00:00:00.000000000",
          "2020-09-05T00:00:00.000000000",
          "2020-10-01T00:00:00.000000000",
          "2020-10-02T00:00:00.000000000",
          "2020-10-03T00:00:00.000000000",
          "2020-10-04T00:00:00.000000000",
          "2020-10-05T00:00:00.000000000",
          "2020-11-01T00:00:00.000000000",
          "2020-11-02T00:00:00.000000000",
          "2020-11-03T00:00:00.000000000",
          "2020-11-04T00:00:00.000000000",
          "2020-11-05T00:00:00.000000000",
          "2020-12-01T00:00:00.000000000",
          "2020-12-02T00:00:00.000000000",
          "2020-12-03T00:00:00.000000000",
          "2020-12-04T00:00:00.000000000",
          "2020-12-05T00:00:00.000000000"
         ],
         "xaxis": "x",
         "y": {
          "bdata": "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",
          "dtype": "f8"
         },
         "yaxis": "y"
        }
       ],
       "layout": {
        "legend": {
         "tracegroupgap": 0
        },
        "margin": {
         "t": 60
        },
        "template": {
         "data": {
          "bar": [
           {
            "error_x": {
             "color": "#2a3f5f"
            },
            "error_y": {
             "color": "#2a3f5f"
            },
            "marker": {
             "line": {
              "color": "#E5ECF6",
              "width": 0.5
             },
             "pattern": {
              "fillmode": "overlay",
              "size": 10,
              "solidity": 0.2
             }
            },
            "type": "bar"
           }
          ],
          "barpolar": [
           {
            "marker": {
             "line": {
              "color": "#E5ECF6",
              "width": 0.5
             },
             "pattern": {
              "fillmode": "overlay",
              "size": 10,
              "solidity": 0.2
             }
            },
            "type": "barpolar"
           }
          ],
          "carpet": [
           {
            "aaxis": {
             "endlinecolor": "#2a3f5f",
             "gridcolor": "white",
             "linecolor": "white",
             "minorgridcolor": "white",
             "startlinecolor": "#2a3f5f"
            },
            "baxis": {
             "endlinecolor": "#2a3f5f",
             "gridcolor": "white",
             "linecolor": "white",
             "minorgridcolor": "white",
             "startlinecolor": "#2a3f5f"
            },
            "type": "carpet"
           }
          ],
          "choropleth": [
           {
            "colorbar": {
             "outlinewidth": 0,
             "ticks": ""
            },
            "type": "choropleth"
           }
          ],
          "contour": [
           {
            "colorbar": {
             "outlinewidth": 0,
             "ticks": ""
            },
            "colorscale": [
             [
              0,
              "#0d0887"
             ],
             [
              0.1111111111111111,
              "#46039f"
             ],
             [
              0.2222222222222222,
              "#7201a8"
             ],
             [
              0.3333333333333333,
              "#9c179e"
             ],
             [
              0.4444444444444444,
              "#bd3786"
             ],
             [
              0.5555555555555556,
              "#d8576b"
             ],
             [
              0.6666666666666666,
              "#ed7953"
             ],
             [
              0.7777777777777778,
              "#fb9f3a"
             ],
             [
              0.8888888888888888,
              "#fdca26"
             ],
             [
              1,
              "#f0f921"
             ]
            ],
            "type": "contour"
           }
          ],
          "contourcarpet": [
           {
            "colorbar": {
             "outlinewidth": 0,
             "ticks": ""
            },
            "type": "contourcarpet"
           }
          ],
          "heatmap": [
           {
            "colorbar": {
             "outlinewidth": 0,
             "ticks": ""
            },
            "colorscale": [
             [
              0,
              "#0d0887"
             ],
             [
              0.1111111111111111,
              "#46039f"
             ],
             [
              0.2222222222222222,
              "#7201a8"
             ],
             [
              0.3333333333333333,
              "#9c179e"
             ],
             [
              0.4444444444444444,
              "#bd3786"
             ],
             [
              0.5555555555555556,
              "#d8576b"
             ],
             [
              0.6666666666666666,
              "#ed7953"
             ],
             [
              0.7777777777777778,
              "#fb9f3a"
             ],
             [
              0.8888888888888888,
              "#fdca26"
             ],
             [
              1,
              "#f0f921"
             ]
            ],
            "type": "heatmap"
           }
          ],
          "histogram": [
           {
            "marker": {
             "pattern": {
              "fillmode": "overlay",
              "size": 10,
              "solidity": 0.2
             }
            },
            "type": "histogram"
           }
          ],
          "histogram2d": [
           {
            "colorbar": {
             "outlinewidth": 0,
             "ticks": ""
            },
            "colorscale": [
             [
              0,
              "#0d0887"
             ],
             [
              0.1111111111111111,
              "#46039f"
             ],
             [
              0.2222222222222222,
              "#7201a8"
             ],
             [
              0.3333333333333333,
              "#9c179e"
             ],
             [
              0.4444444444444444,
              "#bd3786"
             ],
             [
              0.5555555555555556,
              "#d8576b"
             ],
             [
              0.6666666666666666,
              "#ed7953"
             ],
             [
              0.7777777777777778,
              "#fb9f3a"
             ],
             [
              0.8888888888888888,
              "#fdca26"
             ],
             [
              1,
              "#f0f921"
             ]
            ],
            "type": "histogram2d"
           }
          ],
          "histogram2dcontour": [
           {
            "colorbar": {
             "outlinewidth": 0,
             "ticks": ""
            },
            "colorscale": [
             [
              0,
              "#0d0887"
             ],
             [
              0.1111111111111111,
              "#46039f"
             ],
             [
              0.2222222222222222,
              "#7201a8"
             ],
             [
              0.3333333333333333,
              "#9c179e"
             ],
             [
              0.4444444444444444,
              "#bd3786"
             ],
             [
              0.5555555555555556,
              "#d8576b"
             ],
             [
              0.6666666666666666,
              "#ed7953"
             ],
             [
              0.7777777777777778,
              "#fb9f3a"
             ],
             [
              0.8888888888888888,
              "#fdca26"
             ],
             [
              1,
              "#f0f921"
             ]
            ],
            "type": "histogram2dcontour"
           }
          ],
          "mesh3d": [
           {
            "colorbar": {
             "outlinewidth": 0,
             "ticks": ""
            },
            "type": "mesh3d"
           }
          ],
          "parcoords": [
           {
            "line": {
             "colorbar": {
              "outlinewidth": 0,
              "ticks": ""
             }
            },
            "type": "parcoords"
           }
          ],
          "pie": [
           {
            "automargin": true,
            "type": "pie"
           }
          ],
          "scatter": [
           {
            "fillpattern": {
             "fillmode": "overlay",
             "size": 10,
             "solidity": 0.2
            },
            "type": "scatter"
           }
          ],
          "scatter3d": [
           {
            "line": {
             "colorbar": {
              "outlinewidth": 0,
              "ticks": ""
             }
            },
            "marker": {
             "colorbar": {
              "outlinewidth": 0,
              "ticks": ""
             }
            },
            "type": "scatter3d"
           }
          ],
          "scattercarpet": [
           {
            "marker": {
             "colorbar": {
              "outlinewidth": 0,
              "ticks": ""
             }
            },
            "type": "scattercarpet"
           }
          ],
          "scattergeo": [
           {
            "marker": {
             "colorbar": {
              "outlinewidth": 0,
              "ticks": ""
             }
            },
            "type": "scattergeo"
           }
          ],
          "scattergl": [
           {
            "marker": {
             "colorbar": {
              "outlinewidth": 0,
              "ticks": ""
             }
            },
            "type": "scattergl"
           }
          ],
          "scattermap": [
           {
            "marker": {
             "colorbar": {
              "outlinewidth": 0,
              "ticks": ""
             }
            },
            "type": "scattermap"
           }
          ],
          "scattermapbox": [
           {
            "marker": {
             "colorbar": {
              "outlinewidth": 0,
              "ticks": ""
             }
            },
            "type": "scattermapbox"
           }
          ],
          "scatterpolar": [
           {
            "marker": {
             "colorbar": {
              "outlinewidth": 0,
              "ticks": ""
             }
            },
            "type": "scatterpolar"
           }
          ],
          "scatterpolargl": [
           {
            "marker": {
             "colorbar": {
              "outlinewidth": 0,
              "ticks": ""
             }
            },
            "type": "scatterpolargl"
           }
          ],
          "scatterternary": [
           {
            "marker": {
             "colorbar": {
              "outlinewidth": 0,
              "ticks": ""
             }
            },
            "type": "scatterternary"
           }
          ],
          "surface": [
           {
            "colorbar": {
             "outlinewidth": 0,
             "ticks": ""
            },
            "colorscale": [
             [
              0,
              "#0d0887"
             ],
             [
              0.1111111111111111,
              "#46039f"
             ],
             [
              0.2222222222222222,
              "#7201a8"
             ],
             [
              0.3333333333333333,
              "#9c179e"
             ],
             [
              0.4444444444444444,
              "#bd3786"
             ],
             [
              0.5555555555555556,
              "#d8576b"
             ],
             [
              0.6666666666666666,
              "#ed7953"
             ],
             [
              0.7777777777777778,
              "#fb9f3a"
             ],
             [
              0.8888888888888888,
              "#fdca26"
             ],
             [
              1,
              "#f0f921"
             ]
            ],
            "type": "surface"
           }
          ],
          "table": [
           {
            "cells": {
             "fill": {
              "color": "#EBF0F8"
             },
             "line": {
              "color": "white"
             }
            },
            "header": {
             "fill": {
              "color": "#C8D4E3"
             },
             "line": {
              "color": "white"
             }
            },
            "type": "table"
           }
          ]
         },
         "layout": {
          "annotationdefaults": {
           "arrowcolor": "#2a3f5f",
           "arrowhead": 0,
           "arrowwidth": 1
          },
          "autotypenumbers": "strict",
          "coloraxis": {
           "colorbar": {
            "outlinewidth": 0,
            "ticks": ""
           }
          },
          "colorscale": {
           "diverging": [
            [
             0,
             "#8e0152"
            ],
            [
             0.1,
             "#c51b7d"
            ],
            [
             0.2,
             "#de77ae"
            ],
            [
             0.3,
             "#f1b6da"
            ],
            [
             0.4,
             "#fde0ef"
            ],
            [
             0.5,
             "#f7f7f7"
            ],
            [
             0.6,
             "#e6f5d0"
            ],
            [
             0.7,
             "#b8e186"
            ],
            [
             0.8,
             "#7fbc41"
            ],
            [
             0.9,
             "#4d9221"
            ],
            [
             1,
             "#276419"
            ]
           ],
           "sequential": [
            [
             0,
             "#0d0887"
            ],
            [
             0.1111111111111111,
             "#46039f"
            ],
            [
             0.2222222222222222,
             "#7201a8"
            ],
            [
             0.3333333333333333,
             "#9c179e"
            ],
            [
             0.4444444444444444,
             "#bd3786"
            ],
            [
             0.5555555555555556,
             "#d8576b"
            ],
            [
             0.6666666666666666,
             "#ed7953"
            ],
            [
             0.7777777777777778,
             "#fb9f3a"
            ],
            [
             0.8888888888888888,
             "#fdca26"
            ],
            [
             1,
             "#f0f921"
            ]
           ],
           "sequentialminus": [
            [
             0,
             "#0d0887"
            ],
            [
             0.1111111111111111,
             "#46039f"
            ],
            [
             0.2222222222222222,
             "#7201a8"
            ],
            [
             0.3333333333333333,
             "#9c179e"
            ],
            [
             0.4444444444444444,
             "#bd3786"
            ],
            [
             0.5555555555555556,
             "#d8576b"
            ],
            [
             0.6666666666666666,
             "#ed7953"
            ],
            [
             0.7777777777777778,
             "#fb9f3a"
            ],
            [
             0.8888888888888888,
             "#fdca26"
            ],
            [
             1,
             "#f0f921"
            ]
           ]
          },
          "colorway": [
           "#636efa",
           "#EF553B",
           "#00cc96",
           "#ab63fa",
           "#FFA15A",
           "#19d3f3",
           "#FF6692",
           "#B6E880",
           "#FF97FF",
           "#FECB52"
          ],
          "font": {
           "color": "#2a3f5f"
          },
          "geo": {
           "bgcolor": "white",
           "lakecolor": "white",
           "landcolor": "#E5ECF6",
           "showlakes": true,
           "showland": true,
           "subunitcolor": "white"
          },
          "hoverlabel": {
           "align": "left"
          },
          "hovermode": "closest",
          "mapbox": {
           "style": "light"
          },
          "paper_bgcolor": "white",
          "plot_bgcolor": "#E5ECF6",
          "polar": {
           "angularaxis": {
            "gridcolor": "white",
            "linecolor": "white",
            "ticks": ""
           },
           "bgcolor": "#E5ECF6",
           "radialaxis": {
            "gridcolor": "white",
            "linecolor": "white",
            "ticks": ""
           }
          },
          "scene": {
           "xaxis": {
            "backgroundcolor": "#E5ECF6",
            "gridcolor": "white",
            "gridwidth": 2,
            "linecolor": "white",
            "showbackground": true,
            "ticks": "",
            "zerolinecolor": "white"
           },
           "yaxis": {
            "backgroundcolor": "#E5ECF6",
            "gridcolor": "white",
            "gridwidth": 2,
            "linecolor": "white",
            "showbackground": true,
            "ticks": "",
            "zerolinecolor": "white"
           },
           "zaxis": {
            "backgroundcolor": "#E5ECF6",
            "gridcolor": "white",
            "gridwidth": 2,
            "linecolor": "white",
            "showbackground": true,
            "ticks": "",
            "zerolinecolor": "white"
           }
          },
          "shapedefaults": {
           "line": {
            "color": "#2a3f5f"
           }
          },
          "ternary": {
           "aaxis": {
            "gridcolor": "white",
            "linecolor": "white",
            "ticks": ""
           },
           "baxis": {
            "gridcolor": "white",
            "linecolor": "white",
            "ticks": ""
           },
           "bgcolor": "#E5ECF6",
           "caxis": {
            "gridcolor": "white",
            "linecolor": "white",
            "ticks": ""
           }
          },
          "title": {
           "x": 0.05
          },
          "xaxis": {
           "automargin": true,
           "gridcolor": "white",
           "linecolor": "white",
           "ticks": "",
           "title": {
            "standoff": 15
           },
           "zerolinecolor": "white",
           "zerolinewidth": 2
          },
          "yaxis": {
           "automargin": true,
           "gridcolor": "white",
           "linecolor": "white",
           "ticks": "",
           "title": {
            "standoff": 15
           },
           "zerolinecolor": "white",
           "zerolinewidth": 2
          }
         }
        },
        "xaxis": {
         "anchor": "y",
         "domain": [
          0,
          1
         ],
         "title": {
          "text": "dates"
         }
        },
        "yaxis": {
         "anchor": "x",
         "domain": [
          0,
          1
         ],
         "title": {
          "text": "usage"
         }
        }
       }
      }
     },
     "metadata": {},
     "output_type": "display_data"
    }
   ],
   "source": [
    "fig = px.line(df, x='dates', y= 'usage')\n",
    "fig.show()"
   ]
  },
  {
   "cell_type": "code",
   "execution_count": null,
   "id": "ce5e7017",
   "metadata": {},
   "outputs": [],
   "source": []
  },
  {
   "cell_type": "markdown",
   "id": "dea7d4e4",
   "metadata": {},
   "source": [
    "## Modelling"
   ]
  },
  {
   "cell_type": "code",
   "execution_count": 7,
   "id": "4413f398",
   "metadata": {},
   "outputs": [
    {
     "data": {
      "application/vnd.microsoft.datawrangler.viewer.v0+json": {
       "columns": [
        {
         "name": "index",
         "rawType": "int64",
         "type": "integer"
        },
        {
         "name": "ds",
         "rawType": "datetime64[ns]",
         "type": "datetime"
        },
        {
         "name": "y",
         "rawType": "float64",
         "type": "float"
        }
       ],
       "ref": "514206e7-5eaa-4ff1-a422-1f740a2dcd2e",
       "rows": [
        [
         "0",
         "2019-01-02 00:00:00",
         "102.22424242424243"
        ],
        [
         "1",
         "2019-01-03 00:00:00",
         "103.14242424242424"
        ],
        [
         "2",
         "2019-01-04 00:00:00",
         "100.12424242424242"
        ],
        [
         "3",
         "2019-01-05 00:00:00",
         "100.26969696969697"
        ],
        [
         "4",
         "2019-01-06 00:00:00",
         "100.51212121212122"
        ]
       ],
       "shape": {
        "columns": 2,
        "rows": 5
       }
      },
      "text/html": [
       "<div>\n",
       "<style scoped>\n",
       "    .dataframe tbody tr th:only-of-type {\n",
       "        vertical-align: middle;\n",
       "    }\n",
       "\n",
       "    .dataframe tbody tr th {\n",
       "        vertical-align: top;\n",
       "    }\n",
       "\n",
       "    .dataframe thead th {\n",
       "        text-align: right;\n",
       "    }\n",
       "</style>\n",
       "<table border=\"1\" class=\"dataframe\">\n",
       "  <thead>\n",
       "    <tr style=\"text-align: right;\">\n",
       "      <th></th>\n",
       "      <th>ds</th>\n",
       "      <th>y</th>\n",
       "    </tr>\n",
       "  </thead>\n",
       "  <tbody>\n",
       "    <tr>\n",
       "      <th>0</th>\n",
       "      <td>2019-01-02</td>\n",
       "      <td>102.224242</td>\n",
       "    </tr>\n",
       "    <tr>\n",
       "      <th>1</th>\n",
       "      <td>2019-01-03</td>\n",
       "      <td>103.142424</td>\n",
       "    </tr>\n",
       "    <tr>\n",
       "      <th>2</th>\n",
       "      <td>2019-01-04</td>\n",
       "      <td>100.124242</td>\n",
       "    </tr>\n",
       "    <tr>\n",
       "      <th>3</th>\n",
       "      <td>2019-01-05</td>\n",
       "      <td>100.269697</td>\n",
       "    </tr>\n",
       "    <tr>\n",
       "      <th>4</th>\n",
       "      <td>2019-01-06</td>\n",
       "      <td>100.512121</td>\n",
       "    </tr>\n",
       "  </tbody>\n",
       "</table>\n",
       "</div>"
      ],
      "text/plain": [
       "          ds           y\n",
       "0 2019-01-02  102.224242\n",
       "1 2019-01-03  103.142424\n",
       "2 2019-01-04  100.124242\n",
       "3 2019-01-05  100.269697\n",
       "4 2019-01-06  100.512121"
      ]
     },
     "execution_count": 7,
     "metadata": {},
     "output_type": "execute_result"
    }
   ],
   "source": [
    "# specify column names used by prophet\n",
    "df.columns= ['ds', 'y']\n",
    "df.head()\n"
   ]
  },
  {
   "cell_type": "code",
   "execution_count": null,
   "id": "77469523",
   "metadata": {},
   "outputs": [],
   "source": [
    "# split the data\n"
   ]
  },
  {
   "cell_type": "code",
   "execution_count": 8,
   "id": "63392ef3",
   "metadata": {},
   "outputs": [
    {
     "name": "stderr",
     "output_type": "stream",
     "text": [
      "09:34:32 - cmdstanpy - INFO - Chain [1] start processing\n",
      "09:34:35 - cmdstanpy - INFO - Chain [1] done processing\n"
     ]
    },
    {
     "data": {
      "text/plain": [
       "{'additive': ['weekly',\n",
       "  'additive_terms',\n",
       "  'extra_regressors_additive',\n",
       "  'holidays'],\n",
       " 'multiplicative': ['multiplicative_terms', 'extra_regressors_multiplicative']}"
      ]
     },
     "execution_count": 8,
     "metadata": {},
     "output_type": "execute_result"
    }
   ],
   "source": [
    "# initialize model class\n",
    "model = Prophet()\n",
    "\n",
    "# fit model\n",
    "model.fit(df)\n",
    "\n",
    "# print model components\n",
    "model.component_modes"
   ]
  },
  {
   "cell_type": "code",
   "execution_count": 19,
   "id": "7eebe2fe",
   "metadata": {},
   "outputs": [
    {
     "data": {
      "application/vnd.microsoft.datawrangler.viewer.v0+json": {
       "columns": [
        {
         "name": "index",
         "rawType": "int64",
         "type": "integer"
        },
        {
         "name": "ds",
         "rawType": "datetime64[ns]",
         "type": "datetime"
        }
       ],
       "ref": "e41f33ce-a5f4-4098-9f50-a886f43eaa51",
       "rows": [
        [
         "0",
         "2019-01-02 00:00:00"
        ],
        [
         "1",
         "2019-01-03 00:00:00"
        ],
        [
         "2",
         "2019-01-04 00:00:00"
        ],
        [
         "3",
         "2019-01-05 00:00:00"
        ],
        [
         "4",
         "2019-01-06 00:00:00"
        ]
       ],
       "shape": {
        "columns": 1,
        "rows": 5
       }
      },
      "text/html": [
       "<div>\n",
       "<style scoped>\n",
       "    .dataframe tbody tr th:only-of-type {\n",
       "        vertical-align: middle;\n",
       "    }\n",
       "\n",
       "    .dataframe tbody tr th {\n",
       "        vertical-align: top;\n",
       "    }\n",
       "\n",
       "    .dataframe thead th {\n",
       "        text-align: right;\n",
       "    }\n",
       "</style>\n",
       "<table border=\"1\" class=\"dataframe\">\n",
       "  <thead>\n",
       "    <tr style=\"text-align: right;\">\n",
       "      <th></th>\n",
       "      <th>ds</th>\n",
       "    </tr>\n",
       "  </thead>\n",
       "  <tbody>\n",
       "    <tr>\n",
       "      <th>0</th>\n",
       "      <td>2019-01-02</td>\n",
       "    </tr>\n",
       "    <tr>\n",
       "      <th>1</th>\n",
       "      <td>2019-01-03</td>\n",
       "    </tr>\n",
       "    <tr>\n",
       "      <th>2</th>\n",
       "      <td>2019-01-04</td>\n",
       "    </tr>\n",
       "    <tr>\n",
       "      <th>3</th>\n",
       "      <td>2019-01-05</td>\n",
       "    </tr>\n",
       "    <tr>\n",
       "      <th>4</th>\n",
       "      <td>2019-01-06</td>\n",
       "    </tr>\n",
       "  </tbody>\n",
       "</table>\n",
       "</div>"
      ],
      "text/plain": [
       "          ds\n",
       "0 2019-01-02\n",
       "1 2019-01-03\n",
       "2 2019-01-04\n",
       "3 2019-01-05\n",
       "4 2019-01-06"
      ]
     },
     "execution_count": 19,
     "metadata": {},
     "output_type": "execute_result"
    }
   ],
   "source": [
    "# make a future dataframe\n",
    "future_dates = model.make_future_dataframe(periods=365, # number of periods to forecast\n",
    "                                        freq= 'd', # frequency = day\n",
    "                                        include_history=True # include historical dates for prediction\n",
    "                                        )\n",
    "\n",
    "# show dataframe\n",
    "future_dates.head()"
   ]
  },
  {
   "cell_type": "code",
   "execution_count": 20,
   "id": "f411588c",
   "metadata": {},
   "outputs": [
    {
     "name": "stdout",
     "output_type": "stream",
     "text": [
      "(863, 16)\n"
     ]
    },
    {
     "data": {
      "application/vnd.microsoft.datawrangler.viewer.v0+json": {
       "columns": [
        {
         "name": "index",
         "rawType": "int64",
         "type": "integer"
        },
        {
         "name": "ds",
         "rawType": "datetime64[ns]",
         "type": "datetime"
        },
        {
         "name": "trend",
         "rawType": "float64",
         "type": "float"
        },
        {
         "name": "yhat_lower",
         "rawType": "float64",
         "type": "float"
        },
        {
         "name": "yhat_upper",
         "rawType": "float64",
         "type": "float"
        },
        {
         "name": "trend_lower",
         "rawType": "float64",
         "type": "float"
        },
        {
         "name": "trend_upper",
         "rawType": "float64",
         "type": "float"
        },
        {
         "name": "additive_terms",
         "rawType": "float64",
         "type": "float"
        },
        {
         "name": "additive_terms_lower",
         "rawType": "float64",
         "type": "float"
        },
        {
         "name": "additive_terms_upper",
         "rawType": "float64",
         "type": "float"
        },
        {
         "name": "weekly",
         "rawType": "float64",
         "type": "float"
        },
        {
         "name": "weekly_lower",
         "rawType": "float64",
         "type": "float"
        },
        {
         "name": "weekly_upper",
         "rawType": "float64",
         "type": "float"
        },
        {
         "name": "multiplicative_terms",
         "rawType": "float64",
         "type": "float"
        },
        {
         "name": "multiplicative_terms_lower",
         "rawType": "float64",
         "type": "float"
        },
        {
         "name": "multiplicative_terms_upper",
         "rawType": "float64",
         "type": "float"
        },
        {
         "name": "yhat",
         "rawType": "float64",
         "type": "float"
        }
       ],
       "ref": "0062f689-87aa-421c-904f-2117b0a69853",
       "rows": [
        [
         "0",
         "2019-01-02 00:00:00",
         "101.80887016363637",
         "89.24025702564764",
         "114.080166973147",
         "101.80887016363637",
         "101.80887016363637",
         "-0.12751155236907577",
         "-0.12751155236907577",
         "-0.12751155236907577",
         "-0.12751155236907577",
         "-0.12751155236907577",
         "-0.12751155236907577",
         "0.0",
         "0.0",
         "0.0",
         "101.6813586112673"
        ],
        [
         "1",
         "2019-01-03 00:00:00",
         "101.81382531359196",
         "89.84617702909249",
         "113.78792961380894",
         "101.81382531359196",
         "101.81382531359196",
         "-0.027117494067539872",
         "-0.027117494067539872",
         "-0.027117494067539872",
         "-0.027117494067539872",
         "-0.027117494067539872",
         "-0.027117494067539872",
         "0.0",
         "0.0",
         "0.0",
         "101.78670781952442"
        ],
        [
         "2",
         "2019-01-04 00:00:00",
         "101.81878046354757",
         "89.80807167024133",
         "113.59519390774733",
         "101.81878046354757",
         "101.81878046354757",
         "-0.07394181998334984",
         "-0.07394181998334984",
         "-0.07394181998334984",
         "-0.07394181998334984",
         "-0.07394181998334984",
         "-0.07394181998334984",
         "0.0",
         "0.0",
         "0.0",
         "101.74483864356422"
        ],
        [
         "3",
         "2019-01-05 00:00:00",
         "101.82373561350316",
         "88.65020795954884",
         "113.5947252895485",
         "101.82373561350316",
         "101.82373561350316",
         "-0.3082057236479713",
         "-0.3082057236479713",
         "-0.3082057236479713",
         "-0.3082057236479713",
         "-0.3082057236479713",
         "-0.3082057236479713",
         "0.0",
         "0.0",
         "0.0",
         "101.51552988985519"
        ],
        [
         "4",
         "2019-01-06 00:00:00",
         "101.82869076345878",
         "88.32216781225848",
         "114.68896263209375",
         "101.82869076345878",
         "101.82869076345878",
         "0.08150979328356767",
         "0.08150979328356767",
         "0.08150979328356767",
         "0.08150979328356767",
         "0.08150979328356767",
         "0.08150979328356767",
         "0.0",
         "0.0",
         "0.0",
         "101.91020055674235"
        ]
       ],
       "shape": {
        "columns": 16,
        "rows": 5
       }
      },
      "text/html": [
       "<div>\n",
       "<style scoped>\n",
       "    .dataframe tbody tr th:only-of-type {\n",
       "        vertical-align: middle;\n",
       "    }\n",
       "\n",
       "    .dataframe tbody tr th {\n",
       "        vertical-align: top;\n",
       "    }\n",
       "\n",
       "    .dataframe thead th {\n",
       "        text-align: right;\n",
       "    }\n",
       "</style>\n",
       "<table border=\"1\" class=\"dataframe\">\n",
       "  <thead>\n",
       "    <tr style=\"text-align: right;\">\n",
       "      <th></th>\n",
       "      <th>ds</th>\n",
       "      <th>trend</th>\n",
       "      <th>yhat_lower</th>\n",
       "      <th>yhat_upper</th>\n",
       "      <th>trend_lower</th>\n",
       "      <th>trend_upper</th>\n",
       "      <th>additive_terms</th>\n",
       "      <th>additive_terms_lower</th>\n",
       "      <th>additive_terms_upper</th>\n",
       "      <th>weekly</th>\n",
       "      <th>weekly_lower</th>\n",
       "      <th>weekly_upper</th>\n",
       "      <th>multiplicative_terms</th>\n",
       "      <th>multiplicative_terms_lower</th>\n",
       "      <th>multiplicative_terms_upper</th>\n",
       "      <th>yhat</th>\n",
       "    </tr>\n",
       "  </thead>\n",
       "  <tbody>\n",
       "    <tr>\n",
       "      <th>0</th>\n",
       "      <td>2019-01-02</td>\n",
       "      <td>101.808870</td>\n",
       "      <td>89.240257</td>\n",
       "      <td>114.080167</td>\n",
       "      <td>101.808870</td>\n",
       "      <td>101.808870</td>\n",
       "      <td>-0.127512</td>\n",
       "      <td>-0.127512</td>\n",
       "      <td>-0.127512</td>\n",
       "      <td>-0.127512</td>\n",
       "      <td>-0.127512</td>\n",
       "      <td>-0.127512</td>\n",
       "      <td>0.0</td>\n",
       "      <td>0.0</td>\n",
       "      <td>0.0</td>\n",
       "      <td>101.681359</td>\n",
       "    </tr>\n",
       "    <tr>\n",
       "      <th>1</th>\n",
       "      <td>2019-01-03</td>\n",
       "      <td>101.813825</td>\n",
       "      <td>89.846177</td>\n",
       "      <td>113.787930</td>\n",
       "      <td>101.813825</td>\n",
       "      <td>101.813825</td>\n",
       "      <td>-0.027117</td>\n",
       "      <td>-0.027117</td>\n",
       "      <td>-0.027117</td>\n",
       "      <td>-0.027117</td>\n",
       "      <td>-0.027117</td>\n",
       "      <td>-0.027117</td>\n",
       "      <td>0.0</td>\n",
       "      <td>0.0</td>\n",
       "      <td>0.0</td>\n",
       "      <td>101.786708</td>\n",
       "    </tr>\n",
       "    <tr>\n",
       "      <th>2</th>\n",
       "      <td>2019-01-04</td>\n",
       "      <td>101.818780</td>\n",
       "      <td>89.808072</td>\n",
       "      <td>113.595194</td>\n",
       "      <td>101.818780</td>\n",
       "      <td>101.818780</td>\n",
       "      <td>-0.073942</td>\n",
       "      <td>-0.073942</td>\n",
       "      <td>-0.073942</td>\n",
       "      <td>-0.073942</td>\n",
       "      <td>-0.073942</td>\n",
       "      <td>-0.073942</td>\n",
       "      <td>0.0</td>\n",
       "      <td>0.0</td>\n",
       "      <td>0.0</td>\n",
       "      <td>101.744839</td>\n",
       "    </tr>\n",
       "    <tr>\n",
       "      <th>3</th>\n",
       "      <td>2019-01-05</td>\n",
       "      <td>101.823736</td>\n",
       "      <td>88.650208</td>\n",
       "      <td>113.594725</td>\n",
       "      <td>101.823736</td>\n",
       "      <td>101.823736</td>\n",
       "      <td>-0.308206</td>\n",
       "      <td>-0.308206</td>\n",
       "      <td>-0.308206</td>\n",
       "      <td>-0.308206</td>\n",
       "      <td>-0.308206</td>\n",
       "      <td>-0.308206</td>\n",
       "      <td>0.0</td>\n",
       "      <td>0.0</td>\n",
       "      <td>0.0</td>\n",
       "      <td>101.515530</td>\n",
       "    </tr>\n",
       "    <tr>\n",
       "      <th>4</th>\n",
       "      <td>2019-01-06</td>\n",
       "      <td>101.828691</td>\n",
       "      <td>88.322168</td>\n",
       "      <td>114.688963</td>\n",
       "      <td>101.828691</td>\n",
       "      <td>101.828691</td>\n",
       "      <td>0.081510</td>\n",
       "      <td>0.081510</td>\n",
       "      <td>0.081510</td>\n",
       "      <td>0.081510</td>\n",
       "      <td>0.081510</td>\n",
       "      <td>0.081510</td>\n",
       "      <td>0.0</td>\n",
       "      <td>0.0</td>\n",
       "      <td>0.0</td>\n",
       "      <td>101.910201</td>\n",
       "    </tr>\n",
       "  </tbody>\n",
       "</table>\n",
       "</div>"
      ],
      "text/plain": [
       "          ds       trend  yhat_lower  yhat_upper  trend_lower  trend_upper  \\\n",
       "0 2019-01-02  101.808870   89.240257  114.080167   101.808870   101.808870   \n",
       "1 2019-01-03  101.813825   89.846177  113.787930   101.813825   101.813825   \n",
       "2 2019-01-04  101.818780   89.808072  113.595194   101.818780   101.818780   \n",
       "3 2019-01-05  101.823736   88.650208  113.594725   101.823736   101.823736   \n",
       "4 2019-01-06  101.828691   88.322168  114.688963   101.828691   101.828691   \n",
       "\n",
       "   additive_terms  additive_terms_lower  additive_terms_upper    weekly  \\\n",
       "0       -0.127512             -0.127512             -0.127512 -0.127512   \n",
       "1       -0.027117             -0.027117             -0.027117 -0.027117   \n",
       "2       -0.073942             -0.073942             -0.073942 -0.073942   \n",
       "3       -0.308206             -0.308206             -0.308206 -0.308206   \n",
       "4        0.081510              0.081510              0.081510  0.081510   \n",
       "\n",
       "   weekly_lower  weekly_upper  multiplicative_terms  \\\n",
       "0     -0.127512     -0.127512                   0.0   \n",
       "1     -0.027117     -0.027117                   0.0   \n",
       "2     -0.073942     -0.073942                   0.0   \n",
       "3     -0.308206     -0.308206                   0.0   \n",
       "4      0.081510      0.081510                   0.0   \n",
       "\n",
       "   multiplicative_terms_lower  multiplicative_terms_upper        yhat  \n",
       "0                         0.0                         0.0  101.681359  \n",
       "1                         0.0                         0.0  101.786708  \n",
       "2                         0.0                         0.0  101.744839  \n",
       "3                         0.0                         0.0  101.515530  \n",
       "4                         0.0                         0.0  101.910201  "
      ]
     },
     "execution_count": 20,
     "metadata": {},
     "output_type": "execute_result"
    }
   ],
   "source": [
    "# predict using the future dates\n",
    "prediction = model.predict(future_dates)\n",
    "\n",
    "#show predictions\n",
    "print(prediction.shape)\n",
    "prediction.head()"
   ]
  },
  {
   "cell_type": "code",
   "execution_count": 21,
   "id": "7d36181c",
   "metadata": {},
   "outputs": [
    {
     "data": {
      "application/vnd.plotly.v1+json": {
       "config": {
        "plotlyServerURL": "https://plot.ly"
       },
       "data": [
        {
         "mode": "lines",
         "name": "Forecast",
         "type": "scatter",
         "x": [
          "2019-01-02T00:00:00.000000000",
          "2019-01-03T00:00:00.000000000",
          "2019-01-04T00:00:00.000000000",
          "2019-01-05T00:00:00.000000000",
          "2019-01-06T00:00:00.000000000",
          "2019-01-07T00:00:00.000000000",
          "2019-01-08T00:00:00.000000000",
          "2019-01-09T00:00:00.000000000",
          "2019-01-10T00:00:00.000000000",
          "2019-01-11T00:00:00.000000000",
          "2019-01-12T00:00:00.000000000",
          "2019-01-13T00:00:00.000000000",
          "2019-01-14T00:00:00.000000000",
          "2019-01-15T00:00:00.000000000",
          "2019-01-16T00:00:00.000000000",
          "2019-01-17T00:00:00.000000000",
          "2019-01-18T00:00:00.000000000",
          "2019-01-19T00:00:00.000000000",
          "2019-01-20T00:00:00.000000000",
          "2019-01-21T00:00:00.000000000",
          "2019-01-22T00:00:00.000000000",
          "2019-01-23T00:00:00.000000000",
          "2019-01-24T00:00:00.000000000",
          "2019-01-25T00:00:00.000000000",
          "2019-01-26T00:00:00.000000000",
          "2019-01-27T00:00:00.000000000",
          "2019-01-28T00:00:00.000000000",
          "2019-01-29T00:00:00.000000000",
          "2019-01-30T00:00:00.000000000",
          "2019-01-31T00:00:00.000000000",
          "2019-02-02T00:00:00.000000000",
          "2019-02-03T00:00:00.000000000",
          "2019-02-04T00:00:00.000000000",
          "2019-02-05T00:00:00.000000000",
          "2019-02-06T00:00:00.000000000",
          "2019-02-07T00:00:00.000000000",
          "2019-02-08T00:00:00.000000000",
          "2019-02-09T00:00:00.000000000",
          "2019-02-10T00:00:00.000000000",
          "2019-02-11T00:00:00.000000000",
          "2019-02-12T00:00:00.000000000",
          "2019-02-13T00:00:00.000000000",
          "2019-02-14T00:00:00.000000000",
          "2019-02-15T00:00:00.000000000",
          "2019-02-16T00:00:00.000000000",
          "2019-02-17T00:00:00.000000000",
          "2019-02-18T00:00:00.000000000",
          "2019-02-19T00:00:00.000000000",
          "2019-02-20T00:00:00.000000000",
          "2019-02-21T00:00:00.000000000",
          "2019-02-22T00:00:00.000000000",
          "2019-02-23T00:00:00.000000000",
          "2019-02-24T00:00:00.000000000",
          "2019-02-25T00:00:00.000000000",
          "2019-02-26T00:00:00.000000000",
          "2019-02-27T00:00:00.000000000",
          "2019-02-28T00:00:00.000000000",
          "2019-03-02T00:00:00.000000000",
          "2019-03-03T00:00:00.000000000",
          "2019-03-04T00:00:00.000000000",
          "2019-03-05T00:00:00.000000000",
          "2019-03-06T00:00:00.000000000",
          "2019-03-07T00:00:00.000000000",
          "2019-03-08T00:00:00.000000000",
          "2019-03-09T00:00:00.000000000",
          "2019-03-10T00:00:00.000000000",
          "2019-03-11T00:00:00.000000000",
          "2019-03-12T00:00:00.000000000",
          "2019-03-13T00:00:00.000000000",
          "2019-03-14T00:00:00.000000000",
          "2019-03-15T00:00:00.000000000",
          "2019-03-16T00:00:00.000000000",
          "2019-03-17T00:00:00.000000000",
          "2019-03-18T00:00:00.000000000",
          "2019-03-19T00:00:00.000000000",
          "2019-03-20T00:00:00.000000000",
          "2019-03-21T00:00:00.000000000",
          "2019-03-22T00:00:00.000000000",
          "2019-03-23T00:00:00.000000000",
          "2019-03-24T00:00:00.000000000",
          "2019-03-25T00:00:00.000000000",
          "2019-03-26T00:00:00.000000000",
          "2019-03-27T00:00:00.000000000",
          "2019-03-28T00:00:00.000000000",
          "2019-03-29T00:00:00.000000000",
          "2019-03-30T00:00:00.000000000",
          "2019-03-31T00:00:00.000000000",
          "2019-04-02T00:00:00.000000000",
          "2019-04-03T00:00:00.000000000",
          "2019-04-04T00:00:00.000000000",
          "2019-04-05T00:00:00.000000000",
          "2019-04-06T00:00:00.000000000",
          "2019-04-07T00:00:00.000000000",
          "2019-04-08T00:00:00.000000000",
          "2019-04-09T00:00:00.000000000",
          "2019-04-10T00:00:00.000000000",
          "2019-04-11T00:00:00.000000000",
          "2019-04-12T00:00:00.000000000",
          "2019-04-13T00:00:00.000000000",
          "2019-04-14T00:00:00.000000000",
          "2019-04-15T00:00:00.000000000",
          "2019-04-16T00:00:00.000000000",
          "2019-04-17T00:00:00.000000000",
          "2019-04-18T00:00:00.000000000",
          "2019-04-19T00:00:00.000000000",
          "2019-04-20T00:00:00.000000000",
          "2019-04-21T00:00:00.000000000",
          "2019-04-22T00:00:00.000000000",
          "2019-04-23T00:00:00.000000000",
          "2019-04-24T00:00:00.000000000",
          "2019-04-25T00:00:00.000000000",
          "2019-04-26T00:00:00.000000000",
          "2019-04-27T00:00:00.000000000",
          "2019-04-28T00:00:00.000000000",
          "2019-04-29T00:00:00.000000000",
          "2019-04-30T00:00:00.000000000",
          "2019-05-02T00:00:00.000000000",
          "2019-05-03T00:00:00.000000000",
          "2019-05-04T00:00:00.000000000",
          "2019-05-05T00:00:00.000000000",
          "2019-05-06T00:00:00.000000000",
          "2019-05-07T00:00:00.000000000",
          "2019-05-08T00:00:00.000000000",
          "2019-05-09T00:00:00.000000000",
          "2019-05-10T00:00:00.000000000",
          "2019-05-11T00:00:00.000000000",
          "2019-05-12T00:00:00.000000000",
          "2019-05-13T00:00:00.000000000",
          "2019-05-14T00:00:00.000000000",
          "2019-05-15T00:00:00.000000000",
          "2019-05-16T00:00:00.000000000",
          "2019-05-17T00:00:00.000000000",
          "2019-05-18T00:00:00.000000000",
          "2019-05-19T00:00:00.000000000",
          "2019-05-20T00:00:00.000000000",
          "2019-05-21T00:00:00.000000000",
          "2019-05-22T00:00:00.000000000",
          "2019-05-23T00:00:00.000000000",
          "2019-05-24T00:00:00.000000000",
          "2019-05-25T00:00:00.000000000",
          "2019-05-26T00:00:00.000000000",
          "2019-05-27T00:00:00.000000000",
          "2019-05-28T00:00:00.000000000",
          "2019-05-29T00:00:00.000000000",
          "2019-05-30T00:00:00.000000000",
          "2019-05-31T00:00:00.000000000",
          "2019-06-02T00:00:00.000000000",
          "2019-06-03T00:00:00.000000000",
          "2019-06-04T00:00:00.000000000",
          "2019-06-05T00:00:00.000000000",
          "2019-06-06T00:00:00.000000000",
          "2019-06-07T00:00:00.000000000",
          "2019-06-08T00:00:00.000000000",
          "2019-06-09T00:00:00.000000000",
          "2019-06-10T00:00:00.000000000",
          "2019-06-11T00:00:00.000000000",
          "2019-06-12T00:00:00.000000000",
          "2019-06-13T00:00:00.000000000",
          "2019-06-14T00:00:00.000000000",
          "2019-06-15T00:00:00.000000000",
          "2019-06-16T00:00:00.000000000",
          "2019-06-17T00:00:00.000000000",
          "2019-06-18T00:00:00.000000000",
          "2019-06-19T00:00:00.000000000",
          "2019-06-20T00:00:00.000000000",
          "2019-06-21T00:00:00.000000000",
          "2019-06-22T00:00:00.000000000",
          "2019-06-23T00:00:00.000000000",
          "2019-06-24T00:00:00.000000000",
          "2019-06-25T00:00:00.000000000",
          "2019-06-26T00:00:00.000000000",
          "2019-06-27T00:00:00.000000000",
          "2019-06-28T00:00:00.000000000",
          "2019-06-29T00:00:00.000000000",
          "2019-06-30T00:00:00.000000000",
          "2019-07-01T00:00:00.000000000",
          "2019-07-02T00:00:00.000000000",
          "2019-07-03T00:00:00.000000000",
          "2019-07-04T00:00:00.000000000",
          "2019-07-05T00:00:00.000000000",
          "2019-07-06T00:00:00.000000000",
          "2019-07-07T00:00:00.000000000",
          "2019-07-08T00:00:00.000000000",
          "2019-07-09T00:00:00.000000000",
          "2019-07-10T00:00:00.000000000",
          "2019-07-11T00:00:00.000000000",
          "2019-07-12T00:00:00.000000000",
          "2019-07-13T00:00:00.000000000",
          "2019-07-14T00:00:00.000000000",
          "2019-07-15T00:00:00.000000000",
          "2019-07-16T00:00:00.000000000",
          "2019-07-17T00:00:00.000000000",
          "2019-07-18T00:00:00.000000000",
          "2019-07-19T00:00:00.000000000",
          "2019-07-20T00:00:00.000000000",
          "2019-07-21T00:00:00.000000000",
          "2019-07-22T00:00:00.000000000",
          "2019-07-23T00:00:00.000000000",
          "2019-07-24T00:00:00.000000000",
          "2019-07-25T00:00:00.000000000",
          "2019-07-26T00:00:00.000000000",
          "2019-07-27T00:00:00.000000000",
          "2019-07-28T00:00:00.000000000",
          "2019-07-29T00:00:00.000000000",
          "2019-07-30T00:00:00.000000000",
          "2019-07-31T00:00:00.000000000",
          "2019-08-01T00:00:00.000000000",
          "2019-08-02T00:00:00.000000000",
          "2019-08-03T00:00:00.000000000",
          "2019-08-04T00:00:00.000000000",
          "2019-08-05T00:00:00.000000000",
          "2019-08-06T00:00:00.000000000",
          "2019-08-08T00:00:00.000000000",
          "2019-08-09T00:00:00.000000000",
          "2019-08-10T00:00:00.000000000",
          "2019-08-11T00:00:00.000000000",
          "2019-08-12T00:00:00.000000000",
          "2019-08-13T00:00:00.000000000",
          "2019-08-14T00:00:00.000000000",
          "2019-08-15T00:00:00.000000000",
          "2019-08-16T00:00:00.000000000",
          "2019-08-17T00:00:00.000000000",
          "2019-08-18T00:00:00.000000000",
          "2019-08-19T00:00:00.000000000",
          "2019-08-20T00:00:00.000000000",
          "2019-08-21T00:00:00.000000000",
          "2019-08-22T00:00:00.000000000",
          "2019-08-23T00:00:00.000000000",
          "2019-08-24T00:00:00.000000000",
          "2019-08-25T00:00:00.000000000",
          "2019-08-26T00:00:00.000000000",
          "2019-08-27T00:00:00.000000000",
          "2019-08-28T00:00:00.000000000",
          "2019-08-29T00:00:00.000000000",
          "2019-08-30T00:00:00.000000000",
          "2019-08-31T00:00:00.000000000",
          "2019-09-01T00:00:00.000000000",
          "2019-09-02T00:00:00.000000000",
          "2019-09-03T00:00:00.000000000",
          "2019-09-04T00:00:00.000000000",
          "2019-09-05T00:00:00.000000000",
          "2019-09-06T00:00:00.000000000",
          "2019-09-08T00:00:00.000000000",
          "2019-09-09T00:00:00.000000000",
          "2019-09-10T00:00:00.000000000",
          "2019-09-11T00:00:00.000000000",
          "2019-09-12T00:00:00.000000000",
          "2019-09-13T00:00:00.000000000",
          "2019-09-14T00:00:00.000000000",
          "2019-09-15T00:00:00.000000000",
          "2019-09-16T00:00:00.000000000",
          "2019-09-17T00:00:00.000000000",
          "2019-09-18T00:00:00.000000000",
          "2019-09-19T00:00:00.000000000",
          "2019-09-20T00:00:00.000000000",
          "2019-09-21T00:00:00.000000000",
          "2019-09-22T00:00:00.000000000",
          "2019-09-23T00:00:00.000000000",
          "2019-09-24T00:00:00.000000000",
          "2019-09-25T00:00:00.000000000",
          "2019-09-26T00:00:00.000000000",
          "2019-09-27T00:00:00.000000000",
          "2019-09-28T00:00:00.000000000",
          "2019-09-29T00:00:00.000000000",
          "2019-09-30T00:00:00.000000000",
          "2019-10-01T00:00:00.000000000",
          "2019-10-02T00:00:00.000000000",
          "2019-10-03T00:00:00.000000000",
          "2019-10-04T00:00:00.000000000",
          "2019-10-05T00:00:00.000000000",
          "2019-10-06T00:00:00.000000000",
          "2019-10-08T00:00:00.000000000",
          "2019-10-09T00:00:00.000000000",
          "2019-10-10T00:00:00.000000000",
          "2019-10-11T00:00:00.000000000",
          "2019-10-12T00:00:00.000000000",
          "2019-10-13T00:00:00.000000000",
          "2019-10-14T00:00:00.000000000",
          "2019-10-15T00:00:00.000000000",
          "2019-10-16T00:00:00.000000000",
          "2019-10-17T00:00:00.000000000",
          "2019-10-18T00:00:00.000000000",
          "2019-10-19T00:00:00.000000000",
          "2019-10-20T00:00:00.000000000",
          "2019-10-21T00:00:00.000000000",
          "2019-10-22T00:00:00.000000000",
          "2019-10-23T00:00:00.000000000",
          "2019-10-24T00:00:00.000000000",
          "2019-10-25T00:00:00.000000000",
          "2019-10-26T00:00:00.000000000",
          "2019-10-27T00:00:00.000000000",
          "2019-10-28T00:00:00.000000000",
          "2019-10-29T00:00:00.000000000",
          "2019-10-30T00:00:00.000000000",
          "2019-10-31T00:00:00.000000000",
          "2019-11-01T00:00:00.000000000",
          "2019-11-02T00:00:00.000000000",
          "2019-11-03T00:00:00.000000000",
          "2019-11-04T00:00:00.000000000",
          "2019-11-05T00:00:00.000000000",
          "2019-11-06T00:00:00.000000000",
          "2019-11-08T00:00:00.000000000",
          "2019-11-09T00:00:00.000000000",
          "2019-11-10T00:00:00.000000000",
          "2019-11-11T00:00:00.000000000",
          "2019-11-12T00:00:00.000000000",
          "2019-11-13T00:00:00.000000000",
          "2019-11-14T00:00:00.000000000",
          "2019-11-15T00:00:00.000000000",
          "2019-11-16T00:00:00.000000000",
          "2019-11-17T00:00:00.000000000",
          "2019-11-18T00:00:00.000000000",
          "2019-11-19T00:00:00.000000000",
          "2019-11-20T00:00:00.000000000",
          "2019-11-21T00:00:00.000000000",
          "2019-11-22T00:00:00.000000000",
          "2019-11-23T00:00:00.000000000",
          "2019-11-24T00:00:00.000000000",
          "2019-11-25T00:00:00.000000000",
          "2019-11-26T00:00:00.000000000",
          "2019-11-27T00:00:00.000000000",
          "2019-11-28T00:00:00.000000000",
          "2019-11-29T00:00:00.000000000",
          "2019-11-30T00:00:00.000000000",
          "2019-12-01T00:00:00.000000000",
          "2019-12-02T00:00:00.000000000",
          "2019-12-03T00:00:00.000000000",
          "2019-12-04T00:00:00.000000000",
          "2019-12-05T00:00:00.000000000",
          "2019-12-06T00:00:00.000000000",
          "2019-12-08T00:00:00.000000000",
          "2019-12-09T00:00:00.000000000",
          "2019-12-10T00:00:00.000000000",
          "2019-12-11T00:00:00.000000000",
          "2019-12-12T00:00:00.000000000",
          "2019-12-13T00:00:00.000000000",
          "2019-12-14T00:00:00.000000000",
          "2019-12-15T00:00:00.000000000",
          "2019-12-16T00:00:00.000000000",
          "2019-12-17T00:00:00.000000000",
          "2019-12-18T00:00:00.000000000",
          "2019-12-19T00:00:00.000000000",
          "2019-12-20T00:00:00.000000000",
          "2019-12-21T00:00:00.000000000",
          "2019-12-22T00:00:00.000000000",
          "2019-12-23T00:00:00.000000000",
          "2019-12-24T00:00:00.000000000",
          "2019-12-25T00:00:00.000000000",
          "2019-12-26T00:00:00.000000000",
          "2019-12-27T00:00:00.000000000",
          "2019-12-28T00:00:00.000000000",
          "2019-12-29T00:00:00.000000000",
          "2019-12-30T00:00:00.000000000",
          "2019-12-31T00:00:00.000000000",
          "2020-01-01T00:00:00.000000000",
          "2020-01-02T00:00:00.000000000",
          "2020-01-03T00:00:00.000000000",
          "2020-01-04T00:00:00.000000000",
          "2020-01-05T00:00:00.000000000",
          "2020-01-13T00:00:00.000000000",
          "2020-01-14T00:00:00.000000000",
          "2020-01-15T00:00:00.000000000",
          "2020-01-16T00:00:00.000000000",
          "2020-01-17T00:00:00.000000000",
          "2020-01-18T00:00:00.000000000",
          "2020-01-19T00:00:00.000000000",
          "2020-01-20T00:00:00.000000000",
          "2020-01-21T00:00:00.000000000",
          "2020-01-22T00:00:00.000000000",
          "2020-01-23T00:00:00.000000000",
          "2020-01-24T00:00:00.000000000",
          "2020-01-25T00:00:00.000000000",
          "2020-01-26T00:00:00.000000000",
          "2020-01-27T00:00:00.000000000",
          "2020-01-28T00:00:00.000000000",
          "2020-01-29T00:00:00.000000000",
          "2020-01-30T00:00:00.000000000",
          "2020-01-31T00:00:00.000000000",
          "2020-02-01T00:00:00.000000000",
          "2020-02-02T00:00:00.000000000",
          "2020-02-03T00:00:00.000000000",
          "2020-02-04T00:00:00.000000000",
          "2020-02-05T00:00:00.000000000",
          "2020-02-13T00:00:00.000000000",
          "2020-02-14T00:00:00.000000000",
          "2020-02-15T00:00:00.000000000",
          "2020-02-16T00:00:00.000000000",
          "2020-02-17T00:00:00.000000000",
          "2020-02-18T00:00:00.000000000",
          "2020-02-19T00:00:00.000000000",
          "2020-02-20T00:00:00.000000000",
          "2020-02-21T00:00:00.000000000",
          "2020-02-22T00:00:00.000000000",
          "2020-02-23T00:00:00.000000000",
          "2020-02-24T00:00:00.000000000",
          "2020-02-25T00:00:00.000000000",
          "2020-02-26T00:00:00.000000000",
          "2020-02-27T00:00:00.000000000",
          "2020-02-28T00:00:00.000000000",
          "2020-02-29T00:00:00.000000000",
          "2020-03-01T00:00:00.000000000",
          "2020-03-02T00:00:00.000000000",
          "2020-03-03T00:00:00.000000000",
          "2020-03-04T00:00:00.000000000",
          "2020-03-05T00:00:00.000000000",
          "2020-03-13T00:00:00.000000000",
          "2020-03-14T00:00:00.000000000",
          "2020-03-15T00:00:00.000000000",
          "2020-03-16T00:00:00.000000000",
          "2020-03-17T00:00:00.000000000",
          "2020-03-18T00:00:00.000000000",
          "2020-03-19T00:00:00.000000000",
          "2020-03-20T00:00:00.000000000",
          "2020-03-21T00:00:00.000000000",
          "2020-03-22T00:00:00.000000000",
          "2020-03-23T00:00:00.000000000",
          "2020-03-24T00:00:00.000000000",
          "2020-03-25T00:00:00.000000000",
          "2020-03-26T00:00:00.000000000",
          "2020-03-27T00:00:00.000000000",
          "2020-03-28T00:00:00.000000000",
          "2020-03-29T00:00:00.000000000",
          "2020-03-30T00:00:00.000000000",
          "2020-03-31T00:00:00.000000000",
          "2020-04-01T00:00:00.000000000",
          "2020-04-02T00:00:00.000000000",
          "2020-04-03T00:00:00.000000000",
          "2020-04-04T00:00:00.000000000",
          "2020-04-05T00:00:00.000000000",
          "2020-04-13T00:00:00.000000000",
          "2020-04-14T00:00:00.000000000",
          "2020-04-15T00:00:00.000000000",
          "2020-04-16T00:00:00.000000000",
          "2020-04-17T00:00:00.000000000",
          "2020-04-18T00:00:00.000000000",
          "2020-04-19T00:00:00.000000000",
          "2020-04-20T00:00:00.000000000",
          "2020-04-21T00:00:00.000000000",
          "2020-04-22T00:00:00.000000000",
          "2020-04-23T00:00:00.000000000",
          "2020-04-24T00:00:00.000000000",
          "2020-04-25T00:00:00.000000000",
          "2020-04-26T00:00:00.000000000",
          "2020-04-27T00:00:00.000000000",
          "2020-04-28T00:00:00.000000000",
          "2020-04-29T00:00:00.000000000",
          "2020-04-30T00:00:00.000000000",
          "2020-05-01T00:00:00.000000000",
          "2020-05-02T00:00:00.000000000",
          "2020-05-03T00:00:00.000000000",
          "2020-05-04T00:00:00.000000000",
          "2020-05-05T00:00:00.000000000",
          "2020-05-13T00:00:00.000000000",
          "2020-05-14T00:00:00.000000000",
          "2020-05-15T00:00:00.000000000",
          "2020-05-16T00:00:00.000000000",
          "2020-05-17T00:00:00.000000000",
          "2020-05-18T00:00:00.000000000",
          "2020-05-19T00:00:00.000000000",
          "2020-05-20T00:00:00.000000000",
          "2020-05-21T00:00:00.000000000",
          "2020-05-22T00:00:00.000000000",
          "2020-05-23T00:00:00.000000000",
          "2020-06-01T00:00:00.000000000",
          "2020-06-02T00:00:00.000000000",
          "2020-06-03T00:00:00.000000000",
          "2020-06-04T00:00:00.000000000",
          "2020-06-05T00:00:00.000000000",
          "2020-07-01T00:00:00.000000000",
          "2020-07-02T00:00:00.000000000",
          "2020-07-03T00:00:00.000000000",
          "2020-07-04T00:00:00.000000000",
          "2020-07-05T00:00:00.000000000",
          "2020-08-01T00:00:00.000000000",
          "2020-08-02T00:00:00.000000000",
          "2020-08-03T00:00:00.000000000",
          "2020-08-04T00:00:00.000000000",
          "2020-08-05T00:00:00.000000000",
          "2020-09-01T00:00:00.000000000",
          "2020-09-02T00:00:00.000000000",
          "2020-09-03T00:00:00.000000000",
          "2020-09-04T00:00:00.000000000",
          "2020-09-05T00:00:00.000000000",
          "2020-10-01T00:00:00.000000000",
          "2020-10-02T00:00:00.000000000",
          "2020-10-03T00:00:00.000000000",
          "2020-10-04T00:00:00.000000000",
          "2020-10-05T00:00:00.000000000",
          "2020-11-01T00:00:00.000000000",
          "2020-11-02T00:00:00.000000000",
          "2020-11-03T00:00:00.000000000",
          "2020-11-04T00:00:00.000000000",
          "2020-11-05T00:00:00.000000000",
          "2020-12-01T00:00:00.000000000",
          "2020-12-02T00:00:00.000000000",
          "2020-12-03T00:00:00.000000000",
          "2020-12-04T00:00:00.000000000",
          "2020-12-05T00:00:00.000000000",
          "2020-12-06T00:00:00.000000000",
          "2020-12-07T00:00:00.000000000",
          "2020-12-08T00:00:00.000000000",
          "2020-12-09T00:00:00.000000000",
          "2020-12-10T00:00:00.000000000",
          "2020-12-11T00:00:00.000000000",
          "2020-12-12T00:00:00.000000000",
          "2020-12-13T00:00:00.000000000",
          "2020-12-14T00:00:00.000000000",
          "2020-12-15T00:00:00.000000000",
          "2020-12-16T00:00:00.000000000",
          "2020-12-17T00:00:00.000000000",
          "2020-12-18T00:00:00.000000000",
          "2020-12-19T00:00:00.000000000",
          "2020-12-20T00:00:00.000000000",
          "2020-12-21T00:00:00.000000000",
          "2020-12-22T00:00:00.000000000",
          "2020-12-23T00:00:00.000000000",
          "2020-12-24T00:00:00.000000000",
          "2020-12-25T00:00:00.000000000",
          "2020-12-26T00:00:00.000000000",
          "2020-12-27T00:00:00.000000000",
          "2020-12-28T00:00:00.000000000",
          "2020-12-29T00:00:00.000000000",
          "2020-12-30T00:00:00.000000000",
          "2020-12-31T00:00:00.000000000",
          "2021-01-01T00:00:00.000000000",
          "2021-01-02T00:00:00.000000000",
          "2021-01-03T00:00:00.000000000",
          "2021-01-04T00:00:00.000000000",
          "2021-01-05T00:00:00.000000000",
          "2021-01-06T00:00:00.000000000",
          "2021-01-07T00:00:00.000000000",
          "2021-01-08T00:00:00.000000000",
          "2021-01-09T00:00:00.000000000",
          "2021-01-10T00:00:00.000000000",
          "2021-01-11T00:00:00.000000000",
          "2021-01-12T00:00:00.000000000",
          "2021-01-13T00:00:00.000000000",
          "2021-01-14T00:00:00.000000000",
          "2021-01-15T00:00:00.000000000",
          "2021-01-16T00:00:00.000000000",
          "2021-01-17T00:00:00.000000000",
          "2021-01-18T00:00:00.000000000",
          "2021-01-19T00:00:00.000000000",
          "2021-01-20T00:00:00.000000000",
          "2021-01-21T00:00:00.000000000",
          "2021-01-22T00:00:00.000000000",
          "2021-01-23T00:00:00.000000000",
          "2021-01-24T00:00:00.000000000",
          "2021-01-25T00:00:00.000000000",
          "2021-01-26T00:00:00.000000000",
          "2021-01-27T00:00:00.000000000",
          "2021-01-28T00:00:00.000000000",
          "2021-01-29T00:00:00.000000000",
          "2021-01-30T00:00:00.000000000",
          "2021-01-31T00:00:00.000000000",
          "2021-02-01T00:00:00.000000000",
          "2021-02-02T00:00:00.000000000",
          "2021-02-03T00:00:00.000000000",
          "2021-02-04T00:00:00.000000000",
          "2021-02-05T00:00:00.000000000",
          "2021-02-06T00:00:00.000000000",
          "2021-02-07T00:00:00.000000000",
          "2021-02-08T00:00:00.000000000",
          "2021-02-09T00:00:00.000000000",
          "2021-02-10T00:00:00.000000000",
          "2021-02-11T00:00:00.000000000",
          "2021-02-12T00:00:00.000000000",
          "2021-02-13T00:00:00.000000000",
          "2021-02-14T00:00:00.000000000",
          "2021-02-15T00:00:00.000000000",
          "2021-02-16T00:00:00.000000000",
          "2021-02-17T00:00:00.000000000",
          "2021-02-18T00:00:00.000000000",
          "2021-02-19T00:00:00.000000000",
          "2021-02-20T00:00:00.000000000",
          "2021-02-21T00:00:00.000000000",
          "2021-02-22T00:00:00.000000000",
          "2021-02-23T00:00:00.000000000",
          "2021-02-24T00:00:00.000000000",
          "2021-02-25T00:00:00.000000000",
          "2021-02-26T00:00:00.000000000",
          "2021-02-27T00:00:00.000000000",
          "2021-02-28T00:00:00.000000000",
          "2021-03-01T00:00:00.000000000",
          "2021-03-02T00:00:00.000000000",
          "2021-03-03T00:00:00.000000000",
          "2021-03-04T00:00:00.000000000",
          "2021-03-05T00:00:00.000000000",
          "2021-03-06T00:00:00.000000000",
          "2021-03-07T00:00:00.000000000",
          "2021-03-08T00:00:00.000000000",
          "2021-03-09T00:00:00.000000000",
          "2021-03-10T00:00:00.000000000",
          "2021-03-11T00:00:00.000000000",
          "2021-03-12T00:00:00.000000000",
          "2021-03-13T00:00:00.000000000",
          "2021-03-14T00:00:00.000000000",
          "2021-03-15T00:00:00.000000000",
          "2021-03-16T00:00:00.000000000",
          "2021-03-17T00:00:00.000000000",
          "2021-03-18T00:00:00.000000000",
          "2021-03-19T00:00:00.000000000",
          "2021-03-20T00:00:00.000000000",
          "2021-03-21T00:00:00.000000000",
          "2021-03-22T00:00:00.000000000",
          "2021-03-23T00:00:00.000000000",
          "2021-03-24T00:00:00.000000000",
          "2021-03-25T00:00:00.000000000",
          "2021-03-26T00:00:00.000000000",
          "2021-03-27T00:00:00.000000000",
          "2021-03-28T00:00:00.000000000",
          "2021-03-29T00:00:00.000000000",
          "2021-03-30T00:00:00.000000000",
          "2021-03-31T00:00:00.000000000",
          "2021-04-01T00:00:00.000000000",
          "2021-04-02T00:00:00.000000000",
          "2021-04-03T00:00:00.000000000",
          "2021-04-04T00:00:00.000000000",
          "2021-04-05T00:00:00.000000000",
          "2021-04-06T00:00:00.000000000",
          "2021-04-07T00:00:00.000000000",
          "2021-04-08T00:00:00.000000000",
          "2021-04-09T00:00:00.000000000",
          "2021-04-10T00:00:00.000000000",
          "2021-04-11T00:00:00.000000000",
          "2021-04-12T00:00:00.000000000",
          "2021-04-13T00:00:00.000000000",
          "2021-04-14T00:00:00.000000000",
          "2021-04-15T00:00:00.000000000",
          "2021-04-16T00:00:00.000000000",
          "2021-04-17T00:00:00.000000000",
          "2021-04-18T00:00:00.000000000",
          "2021-04-19T00:00:00.000000000",
          "2021-04-20T00:00:00.000000000",
          "2021-04-21T00:00:00.000000000",
          "2021-04-22T00:00:00.000000000",
          "2021-04-23T00:00:00.000000000",
          "2021-04-24T00:00:00.000000000",
          "2021-04-25T00:00:00.000000000",
          "2021-04-26T00:00:00.000000000",
          "2021-04-27T00:00:00.000000000",
          "2021-04-28T00:00:00.000000000",
          "2021-04-29T00:00:00.000000000",
          "2021-04-30T00:00:00.000000000",
          "2021-05-01T00:00:00.000000000",
          "2021-05-02T00:00:00.000000000",
          "2021-05-03T00:00:00.000000000",
          "2021-05-04T00:00:00.000000000",
          "2021-05-05T00:00:00.000000000",
          "2021-05-06T00:00:00.000000000",
          "2021-05-07T00:00:00.000000000",
          "2021-05-08T00:00:00.000000000",
          "2021-05-09T00:00:00.000000000",
          "2021-05-10T00:00:00.000000000",
          "2021-05-11T00:00:00.000000000",
          "2021-05-12T00:00:00.000000000",
          "2021-05-13T00:00:00.000000000",
          "2021-05-14T00:00:00.000000000",
          "2021-05-15T00:00:00.000000000",
          "2021-05-16T00:00:00.000000000",
          "2021-05-17T00:00:00.000000000",
          "2021-05-18T00:00:00.000000000",
          "2021-05-19T00:00:00.000000000",
          "2021-05-20T00:00:00.000000000",
          "2021-05-21T00:00:00.000000000",
          "2021-05-22T00:00:00.000000000",
          "2021-05-23T00:00:00.000000000",
          "2021-05-24T00:00:00.000000000",
          "2021-05-25T00:00:00.000000000",
          "2021-05-26T00:00:00.000000000",
          "2021-05-27T00:00:00.000000000",
          "2021-05-28T00:00:00.000000000",
          "2021-05-29T00:00:00.000000000",
          "2021-05-30T00:00:00.000000000",
          "2021-05-31T00:00:00.000000000",
          "2021-06-01T00:00:00.000000000",
          "2021-06-02T00:00:00.000000000",
          "2021-06-03T00:00:00.000000000",
          "2021-06-04T00:00:00.000000000",
          "2021-06-05T00:00:00.000000000",
          "2021-06-06T00:00:00.000000000",
          "2021-06-07T00:00:00.000000000",
          "2021-06-08T00:00:00.000000000",
          "2021-06-09T00:00:00.000000000",
          "2021-06-10T00:00:00.000000000",
          "2021-06-11T00:00:00.000000000",
          "2021-06-12T00:00:00.000000000",
          "2021-06-13T00:00:00.000000000",
          "2021-06-14T00:00:00.000000000",
          "2021-06-15T00:00:00.000000000",
          "2021-06-16T00:00:00.000000000",
          "2021-06-17T00:00:00.000000000",
          "2021-06-18T00:00:00.000000000",
          "2021-06-19T00:00:00.000000000",
          "2021-06-20T00:00:00.000000000",
          "2021-06-21T00:00:00.000000000",
          "2021-06-22T00:00:00.000000000",
          "2021-06-23T00:00:00.000000000",
          "2021-06-24T00:00:00.000000000",
          "2021-06-25T00:00:00.000000000",
          "2021-06-26T00:00:00.000000000",
          "2021-06-27T00:00:00.000000000",
          "2021-06-28T00:00:00.000000000",
          "2021-06-29T00:00:00.000000000",
          "2021-06-30T00:00:00.000000000",
          "2021-07-01T00:00:00.000000000",
          "2021-07-02T00:00:00.000000000",
          "2021-07-03T00:00:00.000000000",
          "2021-07-04T00:00:00.000000000",
          "2021-07-05T00:00:00.000000000",
          "2021-07-06T00:00:00.000000000",
          "2021-07-07T00:00:00.000000000",
          "2021-07-08T00:00:00.000000000",
          "2021-07-09T00:00:00.000000000",
          "2021-07-10T00:00:00.000000000",
          "2021-07-11T00:00:00.000000000",
          "2021-07-12T00:00:00.000000000",
          "2021-07-13T00:00:00.000000000",
          "2021-07-14T00:00:00.000000000",
          "2021-07-15T00:00:00.000000000",
          "2021-07-16T00:00:00.000000000",
          "2021-07-17T00:00:00.000000000",
          "2021-07-18T00:00:00.000000000",
          "2021-07-19T00:00:00.000000000",
          "2021-07-20T00:00:00.000000000",
          "2021-07-21T00:00:00.000000000",
          "2021-07-22T00:00:00.000000000",
          "2021-07-23T00:00:00.000000000",
          "2021-07-24T00:00:00.000000000",
          "2021-07-25T00:00:00.000000000",
          "2021-07-26T00:00:00.000000000",
          "2021-07-27T00:00:00.000000000",
          "2021-07-28T00:00:00.000000000",
          "2021-07-29T00:00:00.000000000",
          "2021-07-30T00:00:00.000000000",
          "2021-07-31T00:00:00.000000000",
          "2021-08-01T00:00:00.000000000",
          "2021-08-02T00:00:00.000000000",
          "2021-08-03T00:00:00.000000000",
          "2021-08-04T00:00:00.000000000",
          "2021-08-05T00:00:00.000000000",
          "2021-08-06T00:00:00.000000000",
          "2021-08-07T00:00:00.000000000",
          "2021-08-08T00:00:00.000000000",
          "2021-08-09T00:00:00.000000000",
          "2021-08-10T00:00:00.000000000",
          "2021-08-11T00:00:00.000000000",
          "2021-08-12T00:00:00.000000000",
          "2021-08-13T00:00:00.000000000",
          "2021-08-14T00:00:00.000000000",
          "2021-08-15T00:00:00.000000000",
          "2021-08-16T00:00:00.000000000",
          "2021-08-17T00:00:00.000000000",
          "2021-08-18T00:00:00.000000000",
          "2021-08-19T00:00:00.000000000",
          "2021-08-20T00:00:00.000000000",
          "2021-08-21T00:00:00.000000000",
          "2021-08-22T00:00:00.000000000",
          "2021-08-23T00:00:00.000000000",
          "2021-08-24T00:00:00.000000000",
          "2021-08-25T00:00:00.000000000",
          "2021-08-26T00:00:00.000000000",
          "2021-08-27T00:00:00.000000000",
          "2021-08-28T00:00:00.000000000",
          "2021-08-29T00:00:00.000000000",
          "2021-08-30T00:00:00.000000000",
          "2021-08-31T00:00:00.000000000",
          "2021-09-01T00:00:00.000000000",
          "2021-09-02T00:00:00.000000000",
          "2021-09-03T00:00:00.000000000",
          "2021-09-04T00:00:00.000000000",
          "2021-09-05T00:00:00.000000000",
          "2021-09-06T00:00:00.000000000",
          "2021-09-07T00:00:00.000000000",
          "2021-09-08T00:00:00.000000000",
          "2021-09-09T00:00:00.000000000",
          "2021-09-10T00:00:00.000000000",
          "2021-09-11T00:00:00.000000000",
          "2021-09-12T00:00:00.000000000",
          "2021-09-13T00:00:00.000000000",
          "2021-09-14T00:00:00.000000000",
          "2021-09-15T00:00:00.000000000",
          "2021-09-16T00:00:00.000000000",
          "2021-09-17T00:00:00.000000000",
          "2021-09-18T00:00:00.000000000",
          "2021-09-19T00:00:00.000000000",
          "2021-09-20T00:00:00.000000000",
          "2021-09-21T00:00:00.000000000",
          "2021-09-22T00:00:00.000000000",
          "2021-09-23T00:00:00.000000000",
          "2021-09-24T00:00:00.000000000",
          "2021-09-25T00:00:00.000000000",
          "2021-09-26T00:00:00.000000000",
          "2021-09-27T00:00:00.000000000",
          "2021-09-28T00:00:00.000000000",
          "2021-09-29T00:00:00.000000000",
          "2021-09-30T00:00:00.000000000",
          "2021-10-01T00:00:00.000000000",
          "2021-10-02T00:00:00.000000000",
          "2021-10-03T00:00:00.000000000",
          "2021-10-04T00:00:00.000000000",
          "2021-10-05T00:00:00.000000000",
          "2021-10-06T00:00:00.000000000",
          "2021-10-07T00:00:00.000000000",
          "2021-10-08T00:00:00.000000000",
          "2021-10-09T00:00:00.000000000",
          "2021-10-10T00:00:00.000000000",
          "2021-10-11T00:00:00.000000000",
          "2021-10-12T00:00:00.000000000",
          "2021-10-13T00:00:00.000000000",
          "2021-10-14T00:00:00.000000000",
          "2021-10-15T00:00:00.000000000",
          "2021-10-16T00:00:00.000000000",
          "2021-10-17T00:00:00.000000000",
          "2021-10-18T00:00:00.000000000",
          "2021-10-19T00:00:00.000000000",
          "2021-10-20T00:00:00.000000000",
          "2021-10-21T00:00:00.000000000",
          "2021-10-22T00:00:00.000000000",
          "2021-10-23T00:00:00.000000000",
          "2021-10-24T00:00:00.000000000",
          "2021-10-25T00:00:00.000000000",
          "2021-10-26T00:00:00.000000000",
          "2021-10-27T00:00:00.000000000",
          "2021-10-28T00:00:00.000000000",
          "2021-10-29T00:00:00.000000000",
          "2021-10-30T00:00:00.000000000",
          "2021-10-31T00:00:00.000000000",
          "2021-11-01T00:00:00.000000000",
          "2021-11-02T00:00:00.000000000",
          "2021-11-03T00:00:00.000000000",
          "2021-11-04T00:00:00.000000000",
          "2021-11-05T00:00:00.000000000",
          "2021-11-06T00:00:00.000000000",
          "2021-11-07T00:00:00.000000000",
          "2021-11-08T00:00:00.000000000",
          "2021-11-09T00:00:00.000000000",
          "2021-11-10T00:00:00.000000000",
          "2021-11-11T00:00:00.000000000",
          "2021-11-12T00:00:00.000000000",
          "2021-11-13T00:00:00.000000000",
          "2021-11-14T00:00:00.000000000",
          "2021-11-15T00:00:00.000000000",
          "2021-11-16T00:00:00.000000000",
          "2021-11-17T00:00:00.000000000",
          "2021-11-18T00:00:00.000000000",
          "2021-11-19T00:00:00.000000000",
          "2021-11-20T00:00:00.000000000",
          "2021-11-21T00:00:00.000000000",
          "2021-11-22T00:00:00.000000000",
          "2021-11-23T00:00:00.000000000",
          "2021-11-24T00:00:00.000000000",
          "2021-11-25T00:00:00.000000000",
          "2021-11-26T00:00:00.000000000",
          "2021-11-27T00:00:00.000000000",
          "2021-11-28T00:00:00.000000000",
          "2021-11-29T00:00:00.000000000",
          "2021-11-30T00:00:00.000000000",
          "2021-12-01T00:00:00.000000000",
          "2021-12-02T00:00:00.000000000",
          "2021-12-03T00:00:00.000000000",
          "2021-12-04T00:00:00.000000000",
          "2021-12-05T00:00:00.000000000"
         ],
         "y": {
          "bdata": "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",
          "dtype": "f8"
         }
        },
        {
         "fill": "tonexty",
         "line": {
          "color": "#57b8ff"
         },
         "mode": "lines",
         "name": "Higher uncertainty interval",
         "type": "scatter",
         "x": [
          "2019-01-02T00:00:00.000000000",
          "2019-01-03T00:00:00.000000000",
          "2019-01-04T00:00:00.000000000",
          "2019-01-05T00:00:00.000000000",
          "2019-01-06T00:00:00.000000000",
          "2019-01-07T00:00:00.000000000",
          "2019-01-08T00:00:00.000000000",
          "2019-01-09T00:00:00.000000000",
          "2019-01-10T00:00:00.000000000",
          "2019-01-11T00:00:00.000000000",
          "2019-01-12T00:00:00.000000000",
          "2019-01-13T00:00:00.000000000",
          "2019-01-14T00:00:00.000000000",
          "2019-01-15T00:00:00.000000000",
          "2019-01-16T00:00:00.000000000",
          "2019-01-17T00:00:00.000000000",
          "2019-01-18T00:00:00.000000000",
          "2019-01-19T00:00:00.000000000",
          "2019-01-20T00:00:00.000000000",
          "2019-01-21T00:00:00.000000000",
          "2019-01-22T00:00:00.000000000",
          "2019-01-23T00:00:00.000000000",
          "2019-01-24T00:00:00.000000000",
          "2019-01-25T00:00:00.000000000",
          "2019-01-26T00:00:00.000000000",
          "2019-01-27T00:00:00.000000000",
          "2019-01-28T00:00:00.000000000",
          "2019-01-29T00:00:00.000000000",
          "2019-01-30T00:00:00.000000000",
          "2019-01-31T00:00:00.000000000",
          "2019-02-02T00:00:00.000000000",
          "2019-02-03T00:00:00.000000000",
          "2019-02-04T00:00:00.000000000",
          "2019-02-05T00:00:00.000000000",
          "2019-02-06T00:00:00.000000000",
          "2019-02-07T00:00:00.000000000",
          "2019-02-08T00:00:00.000000000",
          "2019-02-09T00:00:00.000000000",
          "2019-02-10T00:00:00.000000000",
          "2019-02-11T00:00:00.000000000",
          "2019-02-12T00:00:00.000000000",
          "2019-02-13T00:00:00.000000000",
          "2019-02-14T00:00:00.000000000",
          "2019-02-15T00:00:00.000000000",
          "2019-02-16T00:00:00.000000000",
          "2019-02-17T00:00:00.000000000",
          "2019-02-18T00:00:00.000000000",
          "2019-02-19T00:00:00.000000000",
          "2019-02-20T00:00:00.000000000",
          "2019-02-21T00:00:00.000000000",
          "2019-02-22T00:00:00.000000000",
          "2019-02-23T00:00:00.000000000",
          "2019-02-24T00:00:00.000000000",
          "2019-02-25T00:00:00.000000000",
          "2019-02-26T00:00:00.000000000",
          "2019-02-27T00:00:00.000000000",
          "2019-02-28T00:00:00.000000000",
          "2019-03-02T00:00:00.000000000",
          "2019-03-03T00:00:00.000000000",
          "2019-03-04T00:00:00.000000000",
          "2019-03-05T00:00:00.000000000",
          "2019-03-06T00:00:00.000000000",
          "2019-03-07T00:00:00.000000000",
          "2019-03-08T00:00:00.000000000",
          "2019-03-09T00:00:00.000000000",
          "2019-03-10T00:00:00.000000000",
          "2019-03-11T00:00:00.000000000",
          "2019-03-12T00:00:00.000000000",
          "2019-03-13T00:00:00.000000000",
          "2019-03-14T00:00:00.000000000",
          "2019-03-15T00:00:00.000000000",
          "2019-03-16T00:00:00.000000000",
          "2019-03-17T00:00:00.000000000",
          "2019-03-18T00:00:00.000000000",
          "2019-03-19T00:00:00.000000000",
          "2019-03-20T00:00:00.000000000",
          "2019-03-21T00:00:00.000000000",
          "2019-03-22T00:00:00.000000000",
          "2019-03-23T00:00:00.000000000",
          "2019-03-24T00:00:00.000000000",
          "2019-03-25T00:00:00.000000000",
          "2019-03-26T00:00:00.000000000",
          "2019-03-27T00:00:00.000000000",
          "2019-03-28T00:00:00.000000000",
          "2019-03-29T00:00:00.000000000",
          "2019-03-30T00:00:00.000000000",
          "2019-03-31T00:00:00.000000000",
          "2019-04-02T00:00:00.000000000",
          "2019-04-03T00:00:00.000000000",
          "2019-04-04T00:00:00.000000000",
          "2019-04-05T00:00:00.000000000",
          "2019-04-06T00:00:00.000000000",
          "2019-04-07T00:00:00.000000000",
          "2019-04-08T00:00:00.000000000",
          "2019-04-09T00:00:00.000000000",
          "2019-04-10T00:00:00.000000000",
          "2019-04-11T00:00:00.000000000",
          "2019-04-12T00:00:00.000000000",
          "2019-04-13T00:00:00.000000000",
          "2019-04-14T00:00:00.000000000",
          "2019-04-15T00:00:00.000000000",
          "2019-04-16T00:00:00.000000000",
          "2019-04-17T00:00:00.000000000",
          "2019-04-18T00:00:00.000000000",
          "2019-04-19T00:00:00.000000000",
          "2019-04-20T00:00:00.000000000",
          "2019-04-21T00:00:00.000000000",
          "2019-04-22T00:00:00.000000000",
          "2019-04-23T00:00:00.000000000",
          "2019-04-24T00:00:00.000000000",
          "2019-04-25T00:00:00.000000000",
          "2019-04-26T00:00:00.000000000",
          "2019-04-27T00:00:00.000000000",
          "2019-04-28T00:00:00.000000000",
          "2019-04-29T00:00:00.000000000",
          "2019-04-30T00:00:00.000000000",
          "2019-05-02T00:00:00.000000000",
          "2019-05-03T00:00:00.000000000",
          "2019-05-04T00:00:00.000000000",
          "2019-05-05T00:00:00.000000000",
          "2019-05-06T00:00:00.000000000",
          "2019-05-07T00:00:00.000000000",
          "2019-05-08T00:00:00.000000000",
          "2019-05-09T00:00:00.000000000",
          "2019-05-10T00:00:00.000000000",
          "2019-05-11T00:00:00.000000000",
          "2019-05-12T00:00:00.000000000",
          "2019-05-13T00:00:00.000000000",
          "2019-05-14T00:00:00.000000000",
          "2019-05-15T00:00:00.000000000",
          "2019-05-16T00:00:00.000000000",
          "2019-05-17T00:00:00.000000000",
          "2019-05-18T00:00:00.000000000",
          "2019-05-19T00:00:00.000000000",
          "2019-05-20T00:00:00.000000000",
          "2019-05-21T00:00:00.000000000",
          "2019-05-22T00:00:00.000000000",
          "2019-05-23T00:00:00.000000000",
          "2019-05-24T00:00:00.000000000",
          "2019-05-25T00:00:00.000000000",
          "2019-05-26T00:00:00.000000000",
          "2019-05-27T00:00:00.000000000",
          "2019-05-28T00:00:00.000000000",
          "2019-05-29T00:00:00.000000000",
          "2019-05-30T00:00:00.000000000",
          "2019-05-31T00:00:00.000000000",
          "2019-06-02T00:00:00.000000000",
          "2019-06-03T00:00:00.000000000",
          "2019-06-04T00:00:00.000000000",
          "2019-06-05T00:00:00.000000000",
          "2019-06-06T00:00:00.000000000",
          "2019-06-07T00:00:00.000000000",
          "2019-06-08T00:00:00.000000000",
          "2019-06-09T00:00:00.000000000",
          "2019-06-10T00:00:00.000000000",
          "2019-06-11T00:00:00.000000000",
          "2019-06-12T00:00:00.000000000",
          "2019-06-13T00:00:00.000000000",
          "2019-06-14T00:00:00.000000000",
          "2019-06-15T00:00:00.000000000",
          "2019-06-16T00:00:00.000000000",
          "2019-06-17T00:00:00.000000000",
          "2019-06-18T00:00:00.000000000",
          "2019-06-19T00:00:00.000000000",
          "2019-06-20T00:00:00.000000000",
          "2019-06-21T00:00:00.000000000",
          "2019-06-22T00:00:00.000000000",
          "2019-06-23T00:00:00.000000000",
          "2019-06-24T00:00:00.000000000",
          "2019-06-25T00:00:00.000000000",
          "2019-06-26T00:00:00.000000000",
          "2019-06-27T00:00:00.000000000",
          "2019-06-28T00:00:00.000000000",
          "2019-06-29T00:00:00.000000000",
          "2019-06-30T00:00:00.000000000",
          "2019-07-01T00:00:00.000000000",
          "2019-07-02T00:00:00.000000000",
          "2019-07-03T00:00:00.000000000",
          "2019-07-04T00:00:00.000000000",
          "2019-07-05T00:00:00.000000000",
          "2019-07-06T00:00:00.000000000",
          "2019-07-07T00:00:00.000000000",
          "2019-07-08T00:00:00.000000000",
          "2019-07-09T00:00:00.000000000",
          "2019-07-10T00:00:00.000000000",
          "2019-07-11T00:00:00.000000000",
          "2019-07-12T00:00:00.000000000",
          "2019-07-13T00:00:00.000000000",
          "2019-07-14T00:00:00.000000000",
          "2019-07-15T00:00:00.000000000",
          "2019-07-16T00:00:00.000000000",
          "2019-07-17T00:00:00.000000000",
          "2019-07-18T00:00:00.000000000",
          "2019-07-19T00:00:00.000000000",
          "2019-07-20T00:00:00.000000000",
          "2019-07-21T00:00:00.000000000",
          "2019-07-22T00:00:00.000000000",
          "2019-07-23T00:00:00.000000000",
          "2019-07-24T00:00:00.000000000",
          "2019-07-25T00:00:00.000000000",
          "2019-07-26T00:00:00.000000000",
          "2019-07-27T00:00:00.000000000",
          "2019-07-28T00:00:00.000000000",
          "2019-07-29T00:00:00.000000000",
          "2019-07-30T00:00:00.000000000",
          "2019-07-31T00:00:00.000000000",
          "2019-08-01T00:00:00.000000000",
          "2019-08-02T00:00:00.000000000",
          "2019-08-03T00:00:00.000000000",
          "2019-08-04T00:00:00.000000000",
          "2019-08-05T00:00:00.000000000",
          "2019-08-06T00:00:00.000000000",
          "2019-08-08T00:00:00.000000000",
          "2019-08-09T00:00:00.000000000",
          "2019-08-10T00:00:00.000000000",
          "2019-08-11T00:00:00.000000000",
          "2019-08-12T00:00:00.000000000",
          "2019-08-13T00:00:00.000000000",
          "2019-08-14T00:00:00.000000000",
          "2019-08-15T00:00:00.000000000",
          "2019-08-16T00:00:00.000000000",
          "2019-08-17T00:00:00.000000000",
          "2019-08-18T00:00:00.000000000",
          "2019-08-19T00:00:00.000000000",
          "2019-08-20T00:00:00.000000000",
          "2019-08-21T00:00:00.000000000",
          "2019-08-22T00:00:00.000000000",
          "2019-08-23T00:00:00.000000000",
          "2019-08-24T00:00:00.000000000",
          "2019-08-25T00:00:00.000000000",
          "2019-08-26T00:00:00.000000000",
          "2019-08-27T00:00:00.000000000",
          "2019-08-28T00:00:00.000000000",
          "2019-08-29T00:00:00.000000000",
          "2019-08-30T00:00:00.000000000",
          "2019-08-31T00:00:00.000000000",
          "2019-09-01T00:00:00.000000000",
          "2019-09-02T00:00:00.000000000",
          "2019-09-03T00:00:00.000000000",
          "2019-09-04T00:00:00.000000000",
          "2019-09-05T00:00:00.000000000",
          "2019-09-06T00:00:00.000000000",
          "2019-09-08T00:00:00.000000000",
          "2019-09-09T00:00:00.000000000",
          "2019-09-10T00:00:00.000000000",
          "2019-09-11T00:00:00.000000000",
          "2019-09-12T00:00:00.000000000",
          "2019-09-13T00:00:00.000000000",
          "2019-09-14T00:00:00.000000000",
          "2019-09-15T00:00:00.000000000",
          "2019-09-16T00:00:00.000000000",
          "2019-09-17T00:00:00.000000000",
          "2019-09-18T00:00:00.000000000",
          "2019-09-19T00:00:00.000000000",
          "2019-09-20T00:00:00.000000000",
          "2019-09-21T00:00:00.000000000",
          "2019-09-22T00:00:00.000000000",
          "2019-09-23T00:00:00.000000000",
          "2019-09-24T00:00:00.000000000",
          "2019-09-25T00:00:00.000000000",
          "2019-09-26T00:00:00.000000000",
          "2019-09-27T00:00:00.000000000",
          "2019-09-28T00:00:00.000000000",
          "2019-09-29T00:00:00.000000000",
          "2019-09-30T00:00:00.000000000",
          "2019-10-01T00:00:00.000000000",
          "2019-10-02T00:00:00.000000000",
          "2019-10-03T00:00:00.000000000",
          "2019-10-04T00:00:00.000000000",
          "2019-10-05T00:00:00.000000000",
          "2019-10-06T00:00:00.000000000",
          "2019-10-08T00:00:00.000000000",
          "2019-10-09T00:00:00.000000000",
          "2019-10-10T00:00:00.000000000",
          "2019-10-11T00:00:00.000000000",
          "2019-10-12T00:00:00.000000000",
          "2019-10-13T00:00:00.000000000",
          "2019-10-14T00:00:00.000000000",
          "2019-10-15T00:00:00.000000000",
          "2019-10-16T00:00:00.000000000",
          "2019-10-17T00:00:00.000000000",
          "2019-10-18T00:00:00.000000000",
          "2019-10-19T00:00:00.000000000",
          "2019-10-20T00:00:00.000000000",
          "2019-10-21T00:00:00.000000000",
          "2019-10-22T00:00:00.000000000",
          "2019-10-23T00:00:00.000000000",
          "2019-10-24T00:00:00.000000000",
          "2019-10-25T00:00:00.000000000",
          "2019-10-26T00:00:00.000000000",
          "2019-10-27T00:00:00.000000000",
          "2019-10-28T00:00:00.000000000",
          "2019-10-29T00:00:00.000000000",
          "2019-10-30T00:00:00.000000000",
          "2019-10-31T00:00:00.000000000",
          "2019-11-01T00:00:00.000000000",
          "2019-11-02T00:00:00.000000000",
          "2019-11-03T00:00:00.000000000",
          "2019-11-04T00:00:00.000000000",
          "2019-11-05T00:00:00.000000000",
          "2019-11-06T00:00:00.000000000",
          "2019-11-08T00:00:00.000000000",
          "2019-11-09T00:00:00.000000000",
          "2019-11-10T00:00:00.000000000",
          "2019-11-11T00:00:00.000000000",
          "2019-11-12T00:00:00.000000000",
          "2019-11-13T00:00:00.000000000",
          "2019-11-14T00:00:00.000000000",
          "2019-11-15T00:00:00.000000000",
          "2019-11-16T00:00:00.000000000",
          "2019-11-17T00:00:00.000000000",
          "2019-11-18T00:00:00.000000000",
          "2019-11-19T00:00:00.000000000",
          "2019-11-20T00:00:00.000000000",
          "2019-11-21T00:00:00.000000000",
          "2019-11-22T00:00:00.000000000",
          "2019-11-23T00:00:00.000000000",
          "2019-11-24T00:00:00.000000000",
          "2019-11-25T00:00:00.000000000",
          "2019-11-26T00:00:00.000000000",
          "2019-11-27T00:00:00.000000000",
          "2019-11-28T00:00:00.000000000",
          "2019-11-29T00:00:00.000000000",
          "2019-11-30T00:00:00.000000000",
          "2019-12-01T00:00:00.000000000",
          "2019-12-02T00:00:00.000000000",
          "2019-12-03T00:00:00.000000000",
          "2019-12-04T00:00:00.000000000",
          "2019-12-05T00:00:00.000000000",
          "2019-12-06T00:00:00.000000000",
          "2019-12-08T00:00:00.000000000",
          "2019-12-09T00:00:00.000000000",
          "2019-12-10T00:00:00.000000000",
          "2019-12-11T00:00:00.000000000",
          "2019-12-12T00:00:00.000000000",
          "2019-12-13T00:00:00.000000000",
          "2019-12-14T00:00:00.000000000",
          "2019-12-15T00:00:00.000000000",
          "2019-12-16T00:00:00.000000000",
          "2019-12-17T00:00:00.000000000",
          "2019-12-18T00:00:00.000000000",
          "2019-12-19T00:00:00.000000000",
          "2019-12-20T00:00:00.000000000",
          "2019-12-21T00:00:00.000000000",
          "2019-12-22T00:00:00.000000000",
          "2019-12-23T00:00:00.000000000",
          "2019-12-24T00:00:00.000000000",
          "2019-12-25T00:00:00.000000000",
          "2019-12-26T00:00:00.000000000",
          "2019-12-27T00:00:00.000000000",
          "2019-12-28T00:00:00.000000000",
          "2019-12-29T00:00:00.000000000",
          "2019-12-30T00:00:00.000000000",
          "2019-12-31T00:00:00.000000000",
          "2020-01-01T00:00:00.000000000",
          "2020-01-02T00:00:00.000000000",
          "2020-01-03T00:00:00.000000000",
          "2020-01-04T00:00:00.000000000",
          "2020-01-05T00:00:00.000000000",
          "2020-01-13T00:00:00.000000000",
          "2020-01-14T00:00:00.000000000",
          "2020-01-15T00:00:00.000000000",
          "2020-01-16T00:00:00.000000000",
          "2020-01-17T00:00:00.000000000",
          "2020-01-18T00:00:00.000000000",
          "2020-01-19T00:00:00.000000000",
          "2020-01-20T00:00:00.000000000",
          "2020-01-21T00:00:00.000000000",
          "2020-01-22T00:00:00.000000000",
          "2020-01-23T00:00:00.000000000",
          "2020-01-24T00:00:00.000000000",
          "2020-01-25T00:00:00.000000000",
          "2020-01-26T00:00:00.000000000",
          "2020-01-27T00:00:00.000000000",
          "2020-01-28T00:00:00.000000000",
          "2020-01-29T00:00:00.000000000",
          "2020-01-30T00:00:00.000000000",
          "2020-01-31T00:00:00.000000000",
          "2020-02-01T00:00:00.000000000",
          "2020-02-02T00:00:00.000000000",
          "2020-02-03T00:00:00.000000000",
          "2020-02-04T00:00:00.000000000",
          "2020-02-05T00:00:00.000000000",
          "2020-02-13T00:00:00.000000000",
          "2020-02-14T00:00:00.000000000",
          "2020-02-15T00:00:00.000000000",
          "2020-02-16T00:00:00.000000000",
          "2020-02-17T00:00:00.000000000",
          "2020-02-18T00:00:00.000000000",
          "2020-02-19T00:00:00.000000000",
          "2020-02-20T00:00:00.000000000",
          "2020-02-21T00:00:00.000000000",
          "2020-02-22T00:00:00.000000000",
          "2020-02-23T00:00:00.000000000",
          "2020-02-24T00:00:00.000000000",
          "2020-02-25T00:00:00.000000000",
          "2020-02-26T00:00:00.000000000",
          "2020-02-27T00:00:00.000000000",
          "2020-02-28T00:00:00.000000000",
          "2020-02-29T00:00:00.000000000",
          "2020-03-01T00:00:00.000000000",
          "2020-03-02T00:00:00.000000000",
          "2020-03-03T00:00:00.000000000",
          "2020-03-04T00:00:00.000000000",
          "2020-03-05T00:00:00.000000000",
          "2020-03-13T00:00:00.000000000",
          "2020-03-14T00:00:00.000000000",
          "2020-03-15T00:00:00.000000000",
          "2020-03-16T00:00:00.000000000",
          "2020-03-17T00:00:00.000000000",
          "2020-03-18T00:00:00.000000000",
          "2020-03-19T00:00:00.000000000",
          "2020-03-20T00:00:00.000000000",
          "2020-03-21T00:00:00.000000000",
          "2020-03-22T00:00:00.000000000",
          "2020-03-23T00:00:00.000000000",
          "2020-03-24T00:00:00.000000000",
          "2020-03-25T00:00:00.000000000",
          "2020-03-26T00:00:00.000000000",
          "2020-03-27T00:00:00.000000000",
          "2020-03-28T00:00:00.000000000",
          "2020-03-29T00:00:00.000000000",
          "2020-03-30T00:00:00.000000000",
          "2020-03-31T00:00:00.000000000",
          "2020-04-01T00:00:00.000000000",
          "2020-04-02T00:00:00.000000000",
          "2020-04-03T00:00:00.000000000",
          "2020-04-04T00:00:00.000000000",
          "2020-04-05T00:00:00.000000000",
          "2020-04-13T00:00:00.000000000",
          "2020-04-14T00:00:00.000000000",
          "2020-04-15T00:00:00.000000000",
          "2020-04-16T00:00:00.000000000",
          "2020-04-17T00:00:00.000000000",
          "2020-04-18T00:00:00.000000000",
          "2020-04-19T00:00:00.000000000",
          "2020-04-20T00:00:00.000000000",
          "2020-04-21T00:00:00.000000000",
          "2020-04-22T00:00:00.000000000",
          "2020-04-23T00:00:00.000000000",
          "2020-04-24T00:00:00.000000000",
          "2020-04-25T00:00:00.000000000",
          "2020-04-26T00:00:00.000000000",
          "2020-04-27T00:00:00.000000000",
          "2020-04-28T00:00:00.000000000",
          "2020-04-29T00:00:00.000000000",
          "2020-04-30T00:00:00.000000000",
          "2020-05-01T00:00:00.000000000",
          "2020-05-02T00:00:00.000000000",
          "2020-05-03T00:00:00.000000000",
          "2020-05-04T00:00:00.000000000",
          "2020-05-05T00:00:00.000000000",
          "2020-05-13T00:00:00.000000000",
          "2020-05-14T00:00:00.000000000",
          "2020-05-15T00:00:00.000000000",
          "2020-05-16T00:00:00.000000000",
          "2020-05-17T00:00:00.000000000",
          "2020-05-18T00:00:00.000000000",
          "2020-05-19T00:00:00.000000000",
          "2020-05-20T00:00:00.000000000",
          "2020-05-21T00:00:00.000000000",
          "2020-05-22T00:00:00.000000000",
          "2020-05-23T00:00:00.000000000",
          "2020-06-01T00:00:00.000000000",
          "2020-06-02T00:00:00.000000000",
          "2020-06-03T00:00:00.000000000",
          "2020-06-04T00:00:00.000000000",
          "2020-06-05T00:00:00.000000000",
          "2020-07-01T00:00:00.000000000",
          "2020-07-02T00:00:00.000000000",
          "2020-07-03T00:00:00.000000000",
          "2020-07-04T00:00:00.000000000",
          "2020-07-05T00:00:00.000000000",
          "2020-08-01T00:00:00.000000000",
          "2020-08-02T00:00:00.000000000",
          "2020-08-03T00:00:00.000000000",
          "2020-08-04T00:00:00.000000000",
          "2020-08-05T00:00:00.000000000",
          "2020-09-01T00:00:00.000000000",
          "2020-09-02T00:00:00.000000000",
          "2020-09-03T00:00:00.000000000",
          "2020-09-04T00:00:00.000000000",
          "2020-09-05T00:00:00.000000000",
          "2020-10-01T00:00:00.000000000",
          "2020-10-02T00:00:00.000000000",
          "2020-10-03T00:00:00.000000000",
          "2020-10-04T00:00:00.000000000",
          "2020-10-05T00:00:00.000000000",
          "2020-11-01T00:00:00.000000000",
          "2020-11-02T00:00:00.000000000",
          "2020-11-03T00:00:00.000000000",
          "2020-11-04T00:00:00.000000000",
          "2020-11-05T00:00:00.000000000",
          "2020-12-01T00:00:00.000000000",
          "2020-12-02T00:00:00.000000000",
          "2020-12-03T00:00:00.000000000",
          "2020-12-04T00:00:00.000000000",
          "2020-12-05T00:00:00.000000000",
          "2020-12-06T00:00:00.000000000",
          "2020-12-07T00:00:00.000000000",
          "2020-12-08T00:00:00.000000000",
          "2020-12-09T00:00:00.000000000",
          "2020-12-10T00:00:00.000000000",
          "2020-12-11T00:00:00.000000000",
          "2020-12-12T00:00:00.000000000",
          "2020-12-13T00:00:00.000000000",
          "2020-12-14T00:00:00.000000000",
          "2020-12-15T00:00:00.000000000",
          "2020-12-16T00:00:00.000000000",
          "2020-12-17T00:00:00.000000000",
          "2020-12-18T00:00:00.000000000",
          "2020-12-19T00:00:00.000000000",
          "2020-12-20T00:00:00.000000000",
          "2020-12-21T00:00:00.000000000",
          "2020-12-22T00:00:00.000000000",
          "2020-12-23T00:00:00.000000000",
          "2020-12-24T00:00:00.000000000",
          "2020-12-25T00:00:00.000000000",
          "2020-12-26T00:00:00.000000000",
          "2020-12-27T00:00:00.000000000",
          "2020-12-28T00:00:00.000000000",
          "2020-12-29T00:00:00.000000000",
          "2020-12-30T00:00:00.000000000",
          "2020-12-31T00:00:00.000000000",
          "2021-01-01T00:00:00.000000000",
          "2021-01-02T00:00:00.000000000",
          "2021-01-03T00:00:00.000000000",
          "2021-01-04T00:00:00.000000000",
          "2021-01-05T00:00:00.000000000",
          "2021-01-06T00:00:00.000000000",
          "2021-01-07T00:00:00.000000000",
          "2021-01-08T00:00:00.000000000",
          "2021-01-09T00:00:00.000000000",
          "2021-01-10T00:00:00.000000000",
          "2021-01-11T00:00:00.000000000",
          "2021-01-12T00:00:00.000000000",
          "2021-01-13T00:00:00.000000000",
          "2021-01-14T00:00:00.000000000",
          "2021-01-15T00:00:00.000000000",
          "2021-01-16T00:00:00.000000000",
          "2021-01-17T00:00:00.000000000",
          "2021-01-18T00:00:00.000000000",
          "2021-01-19T00:00:00.000000000",
          "2021-01-20T00:00:00.000000000",
          "2021-01-21T00:00:00.000000000",
          "2021-01-22T00:00:00.000000000",
          "2021-01-23T00:00:00.000000000",
          "2021-01-24T00:00:00.000000000",
          "2021-01-25T00:00:00.000000000",
          "2021-01-26T00:00:00.000000000",
          "2021-01-27T00:00:00.000000000",
          "2021-01-28T00:00:00.000000000",
          "2021-01-29T00:00:00.000000000",
          "2021-01-30T00:00:00.000000000",
          "2021-01-31T00:00:00.000000000",
          "2021-02-01T00:00:00.000000000",
          "2021-02-02T00:00:00.000000000",
          "2021-02-03T00:00:00.000000000",
          "2021-02-04T00:00:00.000000000",
          "2021-02-05T00:00:00.000000000",
          "2021-02-06T00:00:00.000000000",
          "2021-02-07T00:00:00.000000000",
          "2021-02-08T00:00:00.000000000",
          "2021-02-09T00:00:00.000000000",
          "2021-02-10T00:00:00.000000000",
          "2021-02-11T00:00:00.000000000",
          "2021-02-12T00:00:00.000000000",
          "2021-02-13T00:00:00.000000000",
          "2021-02-14T00:00:00.000000000",
          "2021-02-15T00:00:00.000000000",
          "2021-02-16T00:00:00.000000000",
          "2021-02-17T00:00:00.000000000",
          "2021-02-18T00:00:00.000000000",
          "2021-02-19T00:00:00.000000000",
          "2021-02-20T00:00:00.000000000",
          "2021-02-21T00:00:00.000000000",
          "2021-02-22T00:00:00.000000000",
          "2021-02-23T00:00:00.000000000",
          "2021-02-24T00:00:00.000000000",
          "2021-02-25T00:00:00.000000000",
          "2021-02-26T00:00:00.000000000",
          "2021-02-27T00:00:00.000000000",
          "2021-02-28T00:00:00.000000000",
          "2021-03-01T00:00:00.000000000",
          "2021-03-02T00:00:00.000000000",
          "2021-03-03T00:00:00.000000000",
          "2021-03-04T00:00:00.000000000",
          "2021-03-05T00:00:00.000000000",
          "2021-03-06T00:00:00.000000000",
          "2021-03-07T00:00:00.000000000",
          "2021-03-08T00:00:00.000000000",
          "2021-03-09T00:00:00.000000000",
          "2021-03-10T00:00:00.000000000",
          "2021-03-11T00:00:00.000000000",
          "2021-03-12T00:00:00.000000000",
          "2021-03-13T00:00:00.000000000",
          "2021-03-14T00:00:00.000000000",
          "2021-03-15T00:00:00.000000000",
          "2021-03-16T00:00:00.000000000",
          "2021-03-17T00:00:00.000000000",
          "2021-03-18T00:00:00.000000000",
          "2021-03-19T00:00:00.000000000",
          "2021-03-20T00:00:00.000000000",
          "2021-03-21T00:00:00.000000000",
          "2021-03-22T00:00:00.000000000",
          "2021-03-23T00:00:00.000000000",
          "2021-03-24T00:00:00.000000000",
          "2021-03-25T00:00:00.000000000",
          "2021-03-26T00:00:00.000000000",
          "2021-03-27T00:00:00.000000000",
          "2021-03-28T00:00:00.000000000",
          "2021-03-29T00:00:00.000000000",
          "2021-03-30T00:00:00.000000000",
          "2021-03-31T00:00:00.000000000",
          "2021-04-01T00:00:00.000000000",
          "2021-04-02T00:00:00.000000000",
          "2021-04-03T00:00:00.000000000",
          "2021-04-04T00:00:00.000000000",
          "2021-04-05T00:00:00.000000000",
          "2021-04-06T00:00:00.000000000",
          "2021-04-07T00:00:00.000000000",
          "2021-04-08T00:00:00.000000000",
          "2021-04-09T00:00:00.000000000",
          "2021-04-10T00:00:00.000000000",
          "2021-04-11T00:00:00.000000000",
          "2021-04-12T00:00:00.000000000",
          "2021-04-13T00:00:00.000000000",
          "2021-04-14T00:00:00.000000000",
          "2021-04-15T00:00:00.000000000",
          "2021-04-16T00:00:00.000000000",
          "2021-04-17T00:00:00.000000000",
          "2021-04-18T00:00:00.000000000",
          "2021-04-19T00:00:00.000000000",
          "2021-04-20T00:00:00.000000000",
          "2021-04-21T00:00:00.000000000",
          "2021-04-22T00:00:00.000000000",
          "2021-04-23T00:00:00.000000000",
          "2021-04-24T00:00:00.000000000",
          "2021-04-25T00:00:00.000000000",
          "2021-04-26T00:00:00.000000000",
          "2021-04-27T00:00:00.000000000",
          "2021-04-28T00:00:00.000000000",
          "2021-04-29T00:00:00.000000000",
          "2021-04-30T00:00:00.000000000",
          "2021-05-01T00:00:00.000000000",
          "2021-05-02T00:00:00.000000000",
          "2021-05-03T00:00:00.000000000",
          "2021-05-04T00:00:00.000000000",
          "2021-05-05T00:00:00.000000000",
          "2021-05-06T00:00:00.000000000",
          "2021-05-07T00:00:00.000000000",
          "2021-05-08T00:00:00.000000000",
          "2021-05-09T00:00:00.000000000",
          "2021-05-10T00:00:00.000000000",
          "2021-05-11T00:00:00.000000000",
          "2021-05-12T00:00:00.000000000",
          "2021-05-13T00:00:00.000000000",
          "2021-05-14T00:00:00.000000000",
          "2021-05-15T00:00:00.000000000",
          "2021-05-16T00:00:00.000000000",
          "2021-05-17T00:00:00.000000000",
          "2021-05-18T00:00:00.000000000",
          "2021-05-19T00:00:00.000000000",
          "2021-05-20T00:00:00.000000000",
          "2021-05-21T00:00:00.000000000",
          "2021-05-22T00:00:00.000000000",
          "2021-05-23T00:00:00.000000000",
          "2021-05-24T00:00:00.000000000",
          "2021-05-25T00:00:00.000000000",
          "2021-05-26T00:00:00.000000000",
          "2021-05-27T00:00:00.000000000",
          "2021-05-28T00:00:00.000000000",
          "2021-05-29T00:00:00.000000000",
          "2021-05-30T00:00:00.000000000",
          "2021-05-31T00:00:00.000000000",
          "2021-06-01T00:00:00.000000000",
          "2021-06-02T00:00:00.000000000",
          "2021-06-03T00:00:00.000000000",
          "2021-06-04T00:00:00.000000000",
          "2021-06-05T00:00:00.000000000",
          "2021-06-06T00:00:00.000000000",
          "2021-06-07T00:00:00.000000000",
          "2021-06-08T00:00:00.000000000",
          "2021-06-09T00:00:00.000000000",
          "2021-06-10T00:00:00.000000000",
          "2021-06-11T00:00:00.000000000",
          "2021-06-12T00:00:00.000000000",
          "2021-06-13T00:00:00.000000000",
          "2021-06-14T00:00:00.000000000",
          "2021-06-15T00:00:00.000000000",
          "2021-06-16T00:00:00.000000000",
          "2021-06-17T00:00:00.000000000",
          "2021-06-18T00:00:00.000000000",
          "2021-06-19T00:00:00.000000000",
          "2021-06-20T00:00:00.000000000",
          "2021-06-21T00:00:00.000000000",
          "2021-06-22T00:00:00.000000000",
          "2021-06-23T00:00:00.000000000",
          "2021-06-24T00:00:00.000000000",
          "2021-06-25T00:00:00.000000000",
          "2021-06-26T00:00:00.000000000",
          "2021-06-27T00:00:00.000000000",
          "2021-06-28T00:00:00.000000000",
          "2021-06-29T00:00:00.000000000",
          "2021-06-30T00:00:00.000000000",
          "2021-07-01T00:00:00.000000000",
          "2021-07-02T00:00:00.000000000",
          "2021-07-03T00:00:00.000000000",
          "2021-07-04T00:00:00.000000000",
          "2021-07-05T00:00:00.000000000",
          "2021-07-06T00:00:00.000000000",
          "2021-07-07T00:00:00.000000000",
          "2021-07-08T00:00:00.000000000",
          "2021-07-09T00:00:00.000000000",
          "2021-07-10T00:00:00.000000000",
          "2021-07-11T00:00:00.000000000",
          "2021-07-12T00:00:00.000000000",
          "2021-07-13T00:00:00.000000000",
          "2021-07-14T00:00:00.000000000",
          "2021-07-15T00:00:00.000000000",
          "2021-07-16T00:00:00.000000000",
          "2021-07-17T00:00:00.000000000",
          "2021-07-18T00:00:00.000000000",
          "2021-07-19T00:00:00.000000000",
          "2021-07-20T00:00:00.000000000",
          "2021-07-21T00:00:00.000000000",
          "2021-07-22T00:00:00.000000000",
          "2021-07-23T00:00:00.000000000",
          "2021-07-24T00:00:00.000000000",
          "2021-07-25T00:00:00.000000000",
          "2021-07-26T00:00:00.000000000",
          "2021-07-27T00:00:00.000000000",
          "2021-07-28T00:00:00.000000000",
          "2021-07-29T00:00:00.000000000",
          "2021-07-30T00:00:00.000000000",
          "2021-07-31T00:00:00.000000000",
          "2021-08-01T00:00:00.000000000",
          "2021-08-02T00:00:00.000000000",
          "2021-08-03T00:00:00.000000000",
          "2021-08-04T00:00:00.000000000",
          "2021-08-05T00:00:00.000000000",
          "2021-08-06T00:00:00.000000000",
          "2021-08-07T00:00:00.000000000",
          "2021-08-08T00:00:00.000000000",
          "2021-08-09T00:00:00.000000000",
          "2021-08-10T00:00:00.000000000",
          "2021-08-11T00:00:00.000000000",
          "2021-08-12T00:00:00.000000000",
          "2021-08-13T00:00:00.000000000",
          "2021-08-14T00:00:00.000000000",
          "2021-08-15T00:00:00.000000000",
          "2021-08-16T00:00:00.000000000",
          "2021-08-17T00:00:00.000000000",
          "2021-08-18T00:00:00.000000000",
          "2021-08-19T00:00:00.000000000",
          "2021-08-20T00:00:00.000000000",
          "2021-08-21T00:00:00.000000000",
          "2021-08-22T00:00:00.000000000",
          "2021-08-23T00:00:00.000000000",
          "2021-08-24T00:00:00.000000000",
          "2021-08-25T00:00:00.000000000",
          "2021-08-26T00:00:00.000000000",
          "2021-08-27T00:00:00.000000000",
          "2021-08-28T00:00:00.000000000",
          "2021-08-29T00:00:00.000000000",
          "2021-08-30T00:00:00.000000000",
          "2021-08-31T00:00:00.000000000",
          "2021-09-01T00:00:00.000000000",
          "2021-09-02T00:00:00.000000000",
          "2021-09-03T00:00:00.000000000",
          "2021-09-04T00:00:00.000000000",
          "2021-09-05T00:00:00.000000000",
          "2021-09-06T00:00:00.000000000",
          "2021-09-07T00:00:00.000000000",
          "2021-09-08T00:00:00.000000000",
          "2021-09-09T00:00:00.000000000",
          "2021-09-10T00:00:00.000000000",
          "2021-09-11T00:00:00.000000000",
          "2021-09-12T00:00:00.000000000",
          "2021-09-13T00:00:00.000000000",
          "2021-09-14T00:00:00.000000000",
          "2021-09-15T00:00:00.000000000",
          "2021-09-16T00:00:00.000000000",
          "2021-09-17T00:00:00.000000000",
          "2021-09-18T00:00:00.000000000",
          "2021-09-19T00:00:00.000000000",
          "2021-09-20T00:00:00.000000000",
          "2021-09-21T00:00:00.000000000",
          "2021-09-22T00:00:00.000000000",
          "2021-09-23T00:00:00.000000000",
          "2021-09-24T00:00:00.000000000",
          "2021-09-25T00:00:00.000000000",
          "2021-09-26T00:00:00.000000000",
          "2021-09-27T00:00:00.000000000",
          "2021-09-28T00:00:00.000000000",
          "2021-09-29T00:00:00.000000000",
          "2021-09-30T00:00:00.000000000",
          "2021-10-01T00:00:00.000000000",
          "2021-10-02T00:00:00.000000000",
          "2021-10-03T00:00:00.000000000",
          "2021-10-04T00:00:00.000000000",
          "2021-10-05T00:00:00.000000000",
          "2021-10-06T00:00:00.000000000",
          "2021-10-07T00:00:00.000000000",
          "2021-10-08T00:00:00.000000000",
          "2021-10-09T00:00:00.000000000",
          "2021-10-10T00:00:00.000000000",
          "2021-10-11T00:00:00.000000000",
          "2021-10-12T00:00:00.000000000",
          "2021-10-13T00:00:00.000000000",
          "2021-10-14T00:00:00.000000000",
          "2021-10-15T00:00:00.000000000",
          "2021-10-16T00:00:00.000000000",
          "2021-10-17T00:00:00.000000000",
          "2021-10-18T00:00:00.000000000",
          "2021-10-19T00:00:00.000000000",
          "2021-10-20T00:00:00.000000000",
          "2021-10-21T00:00:00.000000000",
          "2021-10-22T00:00:00.000000000",
          "2021-10-23T00:00:00.000000000",
          "2021-10-24T00:00:00.000000000",
          "2021-10-25T00:00:00.000000000",
          "2021-10-26T00:00:00.000000000",
          "2021-10-27T00:00:00.000000000",
          "2021-10-28T00:00:00.000000000",
          "2021-10-29T00:00:00.000000000",
          "2021-10-30T00:00:00.000000000",
          "2021-10-31T00:00:00.000000000",
          "2021-11-01T00:00:00.000000000",
          "2021-11-02T00:00:00.000000000",
          "2021-11-03T00:00:00.000000000",
          "2021-11-04T00:00:00.000000000",
          "2021-11-05T00:00:00.000000000",
          "2021-11-06T00:00:00.000000000",
          "2021-11-07T00:00:00.000000000",
          "2021-11-08T00:00:00.000000000",
          "2021-11-09T00:00:00.000000000",
          "2021-11-10T00:00:00.000000000",
          "2021-11-11T00:00:00.000000000",
          "2021-11-12T00:00:00.000000000",
          "2021-11-13T00:00:00.000000000",
          "2021-11-14T00:00:00.000000000",
          "2021-11-15T00:00:00.000000000",
          "2021-11-16T00:00:00.000000000",
          "2021-11-17T00:00:00.000000000",
          "2021-11-18T00:00:00.000000000",
          "2021-11-19T00:00:00.000000000",
          "2021-11-20T00:00:00.000000000",
          "2021-11-21T00:00:00.000000000",
          "2021-11-22T00:00:00.000000000",
          "2021-11-23T00:00:00.000000000",
          "2021-11-24T00:00:00.000000000",
          "2021-11-25T00:00:00.000000000",
          "2021-11-26T00:00:00.000000000",
          "2021-11-27T00:00:00.000000000",
          "2021-11-28T00:00:00.000000000",
          "2021-11-29T00:00:00.000000000",
          "2021-11-30T00:00:00.000000000",
          "2021-12-01T00:00:00.000000000",
          "2021-12-02T00:00:00.000000000",
          "2021-12-03T00:00:00.000000000",
          "2021-12-04T00:00:00.000000000",
          "2021-12-05T00:00:00.000000000"
         ],
         "y": {
          "bdata": "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",
          "dtype": "f8"
         }
        },
        {
         "fill": "tonexty",
         "line": {
          "color": "#57b8ff"
         },
         "mode": "lines",
         "name": "Lower uncertainty interval",
         "type": "scatter",
         "x": [
          "2019-01-02T00:00:00.000000000",
          "2019-01-03T00:00:00.000000000",
          "2019-01-04T00:00:00.000000000",
          "2019-01-05T00:00:00.000000000",
          "2019-01-06T00:00:00.000000000",
          "2019-01-07T00:00:00.000000000",
          "2019-01-08T00:00:00.000000000",
          "2019-01-09T00:00:00.000000000",
          "2019-01-10T00:00:00.000000000",
          "2019-01-11T00:00:00.000000000",
          "2019-01-12T00:00:00.000000000",
          "2019-01-13T00:00:00.000000000",
          "2019-01-14T00:00:00.000000000",
          "2019-01-15T00:00:00.000000000",
          "2019-01-16T00:00:00.000000000",
          "2019-01-17T00:00:00.000000000",
          "2019-01-18T00:00:00.000000000",
          "2019-01-19T00:00:00.000000000",
          "2019-01-20T00:00:00.000000000",
          "2019-01-21T00:00:00.000000000",
          "2019-01-22T00:00:00.000000000",
          "2019-01-23T00:00:00.000000000",
          "2019-01-24T00:00:00.000000000",
          "2019-01-25T00:00:00.000000000",
          "2019-01-26T00:00:00.000000000",
          "2019-01-27T00:00:00.000000000",
          "2019-01-28T00:00:00.000000000",
          "2019-01-29T00:00:00.000000000",
          "2019-01-30T00:00:00.000000000",
          "2019-01-31T00:00:00.000000000",
          "2019-02-02T00:00:00.000000000",
          "2019-02-03T00:00:00.000000000",
          "2019-02-04T00:00:00.000000000",
          "2019-02-05T00:00:00.000000000",
          "2019-02-06T00:00:00.000000000",
          "2019-02-07T00:00:00.000000000",
          "2019-02-08T00:00:00.000000000",
          "2019-02-09T00:00:00.000000000",
          "2019-02-10T00:00:00.000000000",
          "2019-02-11T00:00:00.000000000",
          "2019-02-12T00:00:00.000000000",
          "2019-02-13T00:00:00.000000000",
          "2019-02-14T00:00:00.000000000",
          "2019-02-15T00:00:00.000000000",
          "2019-02-16T00:00:00.000000000",
          "2019-02-17T00:00:00.000000000",
          "2019-02-18T00:00:00.000000000",
          "2019-02-19T00:00:00.000000000",
          "2019-02-20T00:00:00.000000000",
          "2019-02-21T00:00:00.000000000",
          "2019-02-22T00:00:00.000000000",
          "2019-02-23T00:00:00.000000000",
          "2019-02-24T00:00:00.000000000",
          "2019-02-25T00:00:00.000000000",
          "2019-02-26T00:00:00.000000000",
          "2019-02-27T00:00:00.000000000",
          "2019-02-28T00:00:00.000000000",
          "2019-03-02T00:00:00.000000000",
          "2019-03-03T00:00:00.000000000",
          "2019-03-04T00:00:00.000000000",
          "2019-03-05T00:00:00.000000000",
          "2019-03-06T00:00:00.000000000",
          "2019-03-07T00:00:00.000000000",
          "2019-03-08T00:00:00.000000000",
          "2019-03-09T00:00:00.000000000",
          "2019-03-10T00:00:00.000000000",
          "2019-03-11T00:00:00.000000000",
          "2019-03-12T00:00:00.000000000",
          "2019-03-13T00:00:00.000000000",
          "2019-03-14T00:00:00.000000000",
          "2019-03-15T00:00:00.000000000",
          "2019-03-16T00:00:00.000000000",
          "2019-03-17T00:00:00.000000000",
          "2019-03-18T00:00:00.000000000",
          "2019-03-19T00:00:00.000000000",
          "2019-03-20T00:00:00.000000000",
          "2019-03-21T00:00:00.000000000",
          "2019-03-22T00:00:00.000000000",
          "2019-03-23T00:00:00.000000000",
          "2019-03-24T00:00:00.000000000",
          "2019-03-25T00:00:00.000000000",
          "2019-03-26T00:00:00.000000000",
          "2019-03-27T00:00:00.000000000",
          "2019-03-28T00:00:00.000000000",
          "2019-03-29T00:00:00.000000000",
          "2019-03-30T00:00:00.000000000",
          "2019-03-31T00:00:00.000000000",
          "2019-04-02T00:00:00.000000000",
          "2019-04-03T00:00:00.000000000",
          "2019-04-04T00:00:00.000000000",
          "2019-04-05T00:00:00.000000000",
          "2019-04-06T00:00:00.000000000",
          "2019-04-07T00:00:00.000000000",
          "2019-04-08T00:00:00.000000000",
          "2019-04-09T00:00:00.000000000",
          "2019-04-10T00:00:00.000000000",
          "2019-04-11T00:00:00.000000000",
          "2019-04-12T00:00:00.000000000",
          "2019-04-13T00:00:00.000000000",
          "2019-04-14T00:00:00.000000000",
          "2019-04-15T00:00:00.000000000",
          "2019-04-16T00:00:00.000000000",
          "2019-04-17T00:00:00.000000000",
          "2019-04-18T00:00:00.000000000",
          "2019-04-19T00:00:00.000000000",
          "2019-04-20T00:00:00.000000000",
          "2019-04-21T00:00:00.000000000",
          "2019-04-22T00:00:00.000000000",
          "2019-04-23T00:00:00.000000000",
          "2019-04-24T00:00:00.000000000",
          "2019-04-25T00:00:00.000000000",
          "2019-04-26T00:00:00.000000000",
          "2019-04-27T00:00:00.000000000",
          "2019-04-28T00:00:00.000000000",
          "2019-04-29T00:00:00.000000000",
          "2019-04-30T00:00:00.000000000",
          "2019-05-02T00:00:00.000000000",
          "2019-05-03T00:00:00.000000000",
          "2019-05-04T00:00:00.000000000",
          "2019-05-05T00:00:00.000000000",
          "2019-05-06T00:00:00.000000000",
          "2019-05-07T00:00:00.000000000",
          "2019-05-08T00:00:00.000000000",
          "2019-05-09T00:00:00.000000000",
          "2019-05-10T00:00:00.000000000",
          "2019-05-11T00:00:00.000000000",
          "2019-05-12T00:00:00.000000000",
          "2019-05-13T00:00:00.000000000",
          "2019-05-14T00:00:00.000000000",
          "2019-05-15T00:00:00.000000000",
          "2019-05-16T00:00:00.000000000",
          "2019-05-17T00:00:00.000000000",
          "2019-05-18T00:00:00.000000000",
          "2019-05-19T00:00:00.000000000",
          "2019-05-20T00:00:00.000000000",
          "2019-05-21T00:00:00.000000000",
          "2019-05-22T00:00:00.000000000",
          "2019-05-23T00:00:00.000000000",
          "2019-05-24T00:00:00.000000000",
          "2019-05-25T00:00:00.000000000",
          "2019-05-26T00:00:00.000000000",
          "2019-05-27T00:00:00.000000000",
          "2019-05-28T00:00:00.000000000",
          "2019-05-29T00:00:00.000000000",
          "2019-05-30T00:00:00.000000000",
          "2019-05-31T00:00:00.000000000",
          "2019-06-02T00:00:00.000000000",
          "2019-06-03T00:00:00.000000000",
          "2019-06-04T00:00:00.000000000",
          "2019-06-05T00:00:00.000000000",
          "2019-06-06T00:00:00.000000000",
          "2019-06-07T00:00:00.000000000",
          "2019-06-08T00:00:00.000000000",
          "2019-06-09T00:00:00.000000000",
          "2019-06-10T00:00:00.000000000",
          "2019-06-11T00:00:00.000000000",
          "2019-06-12T00:00:00.000000000",
          "2019-06-13T00:00:00.000000000",
          "2019-06-14T00:00:00.000000000",
          "2019-06-15T00:00:00.000000000",
          "2019-06-16T00:00:00.000000000",
          "2019-06-17T00:00:00.000000000",
          "2019-06-18T00:00:00.000000000",
          "2019-06-19T00:00:00.000000000",
          "2019-06-20T00:00:00.000000000",
          "2019-06-21T00:00:00.000000000",
          "2019-06-22T00:00:00.000000000",
          "2019-06-23T00:00:00.000000000",
          "2019-06-24T00:00:00.000000000",
          "2019-06-25T00:00:00.000000000",
          "2019-06-26T00:00:00.000000000",
          "2019-06-27T00:00:00.000000000",
          "2019-06-28T00:00:00.000000000",
          "2019-06-29T00:00:00.000000000",
          "2019-06-30T00:00:00.000000000",
          "2019-07-01T00:00:00.000000000",
          "2019-07-02T00:00:00.000000000",
          "2019-07-03T00:00:00.000000000",
          "2019-07-04T00:00:00.000000000",
          "2019-07-05T00:00:00.000000000",
          "2019-07-06T00:00:00.000000000",
          "2019-07-07T00:00:00.000000000",
          "2019-07-08T00:00:00.000000000",
          "2019-07-09T00:00:00.000000000",
          "2019-07-10T00:00:00.000000000",
          "2019-07-11T00:00:00.000000000",
          "2019-07-12T00:00:00.000000000",
          "2019-07-13T00:00:00.000000000",
          "2019-07-14T00:00:00.000000000",
          "2019-07-15T00:00:00.000000000",
          "2019-07-16T00:00:00.000000000",
          "2019-07-17T00:00:00.000000000",
          "2019-07-18T00:00:00.000000000",
          "2019-07-19T00:00:00.000000000",
          "2019-07-20T00:00:00.000000000",
          "2019-07-21T00:00:00.000000000",
          "2019-07-22T00:00:00.000000000",
          "2019-07-23T00:00:00.000000000",
          "2019-07-24T00:00:00.000000000",
          "2019-07-25T00:00:00.000000000",
          "2019-07-26T00:00:00.000000000",
          "2019-07-27T00:00:00.000000000",
          "2019-07-28T00:00:00.000000000",
          "2019-07-29T00:00:00.000000000",
          "2019-07-30T00:00:00.000000000",
          "2019-07-31T00:00:00.000000000",
          "2019-08-01T00:00:00.000000000",
          "2019-08-02T00:00:00.000000000",
          "2019-08-03T00:00:00.000000000",
          "2019-08-04T00:00:00.000000000",
          "2019-08-05T00:00:00.000000000",
          "2019-08-06T00:00:00.000000000",
          "2019-08-08T00:00:00.000000000",
          "2019-08-09T00:00:00.000000000",
          "2019-08-10T00:00:00.000000000",
          "2019-08-11T00:00:00.000000000",
          "2019-08-12T00:00:00.000000000",
          "2019-08-13T00:00:00.000000000",
          "2019-08-14T00:00:00.000000000",
          "2019-08-15T00:00:00.000000000",
          "2019-08-16T00:00:00.000000000",
          "2019-08-17T00:00:00.000000000",
          "2019-08-18T00:00:00.000000000",
          "2019-08-19T00:00:00.000000000",
          "2019-08-20T00:00:00.000000000",
          "2019-08-21T00:00:00.000000000",
          "2019-08-22T00:00:00.000000000",
          "2019-08-23T00:00:00.000000000",
          "2019-08-24T00:00:00.000000000",
          "2019-08-25T00:00:00.000000000",
          "2019-08-26T00:00:00.000000000",
          "2019-08-27T00:00:00.000000000",
          "2019-08-28T00:00:00.000000000",
          "2019-08-29T00:00:00.000000000",
          "2019-08-30T00:00:00.000000000",
          "2019-08-31T00:00:00.000000000",
          "2019-09-01T00:00:00.000000000",
          "2019-09-02T00:00:00.000000000",
          "2019-09-03T00:00:00.000000000",
          "2019-09-04T00:00:00.000000000",
          "2019-09-05T00:00:00.000000000",
          "2019-09-06T00:00:00.000000000",
          "2019-09-08T00:00:00.000000000",
          "2019-09-09T00:00:00.000000000",
          "2019-09-10T00:00:00.000000000",
          "2019-09-11T00:00:00.000000000",
          "2019-09-12T00:00:00.000000000",
          "2019-09-13T00:00:00.000000000",
          "2019-09-14T00:00:00.000000000",
          "2019-09-15T00:00:00.000000000",
          "2019-09-16T00:00:00.000000000",
          "2019-09-17T00:00:00.000000000",
          "2019-09-18T00:00:00.000000000",
          "2019-09-19T00:00:00.000000000",
          "2019-09-20T00:00:00.000000000",
          "2019-09-21T00:00:00.000000000",
          "2019-09-22T00:00:00.000000000",
          "2019-09-23T00:00:00.000000000",
          "2019-09-24T00:00:00.000000000",
          "2019-09-25T00:00:00.000000000",
          "2019-09-26T00:00:00.000000000",
          "2019-09-27T00:00:00.000000000",
          "2019-09-28T00:00:00.000000000",
          "2019-09-29T00:00:00.000000000",
          "2019-09-30T00:00:00.000000000",
          "2019-10-01T00:00:00.000000000",
          "2019-10-02T00:00:00.000000000",
          "2019-10-03T00:00:00.000000000",
          "2019-10-04T00:00:00.000000000",
          "2019-10-05T00:00:00.000000000",
          "2019-10-06T00:00:00.000000000",
          "2019-10-08T00:00:00.000000000",
          "2019-10-09T00:00:00.000000000",
          "2019-10-10T00:00:00.000000000",
          "2019-10-11T00:00:00.000000000",
          "2019-10-12T00:00:00.000000000",
          "2019-10-13T00:00:00.000000000",
          "2019-10-14T00:00:00.000000000",
          "2019-10-15T00:00:00.000000000",
          "2019-10-16T00:00:00.000000000",
          "2019-10-17T00:00:00.000000000",
          "2019-10-18T00:00:00.000000000",
          "2019-10-19T00:00:00.000000000",
          "2019-10-20T00:00:00.000000000",
          "2019-10-21T00:00:00.000000000",
          "2019-10-22T00:00:00.000000000",
          "2019-10-23T00:00:00.000000000",
          "2019-10-24T00:00:00.000000000",
          "2019-10-25T00:00:00.000000000",
          "2019-10-26T00:00:00.000000000",
          "2019-10-27T00:00:00.000000000",
          "2019-10-28T00:00:00.000000000",
          "2019-10-29T00:00:00.000000000",
          "2019-10-30T00:00:00.000000000",
          "2019-10-31T00:00:00.000000000",
          "2019-11-01T00:00:00.000000000",
          "2019-11-02T00:00:00.000000000",
          "2019-11-03T00:00:00.000000000",
          "2019-11-04T00:00:00.000000000",
          "2019-11-05T00:00:00.000000000",
          "2019-11-06T00:00:00.000000000",
          "2019-11-08T00:00:00.000000000",
          "2019-11-09T00:00:00.000000000",
          "2019-11-10T00:00:00.000000000",
          "2019-11-11T00:00:00.000000000",
          "2019-11-12T00:00:00.000000000",
          "2019-11-13T00:00:00.000000000",
          "2019-11-14T00:00:00.000000000",
          "2019-11-15T00:00:00.000000000",
          "2019-11-16T00:00:00.000000000",
          "2019-11-17T00:00:00.000000000",
          "2019-11-18T00:00:00.000000000",
          "2019-11-19T00:00:00.000000000",
          "2019-11-20T00:00:00.000000000",
          "2019-11-21T00:00:00.000000000",
          "2019-11-22T00:00:00.000000000",
          "2019-11-23T00:00:00.000000000",
          "2019-11-24T00:00:00.000000000",
          "2019-11-25T00:00:00.000000000",
          "2019-11-26T00:00:00.000000000",
          "2019-11-27T00:00:00.000000000",
          "2019-11-28T00:00:00.000000000",
          "2019-11-29T00:00:00.000000000",
          "2019-11-30T00:00:00.000000000",
          "2019-12-01T00:00:00.000000000",
          "2019-12-02T00:00:00.000000000",
          "2019-12-03T00:00:00.000000000",
          "2019-12-04T00:00:00.000000000",
          "2019-12-05T00:00:00.000000000",
          "2019-12-06T00:00:00.000000000",
          "2019-12-08T00:00:00.000000000",
          "2019-12-09T00:00:00.000000000",
          "2019-12-10T00:00:00.000000000",
          "2019-12-11T00:00:00.000000000",
          "2019-12-12T00:00:00.000000000",
          "2019-12-13T00:00:00.000000000",
          "2019-12-14T00:00:00.000000000",
          "2019-12-15T00:00:00.000000000",
          "2019-12-16T00:00:00.000000000",
          "2019-12-17T00:00:00.000000000",
          "2019-12-18T00:00:00.000000000",
          "2019-12-19T00:00:00.000000000",
          "2019-12-20T00:00:00.000000000",
          "2019-12-21T00:00:00.000000000",
          "2019-12-22T00:00:00.000000000",
          "2019-12-23T00:00:00.000000000",
          "2019-12-24T00:00:00.000000000",
          "2019-12-25T00:00:00.000000000",
          "2019-12-26T00:00:00.000000000",
          "2019-12-27T00:00:00.000000000",
          "2019-12-28T00:00:00.000000000",
          "2019-12-29T00:00:00.000000000",
          "2019-12-30T00:00:00.000000000",
          "2019-12-31T00:00:00.000000000",
          "2020-01-01T00:00:00.000000000",
          "2020-01-02T00:00:00.000000000",
          "2020-01-03T00:00:00.000000000",
          "2020-01-04T00:00:00.000000000",
          "2020-01-05T00:00:00.000000000",
          "2020-01-13T00:00:00.000000000",
          "2020-01-14T00:00:00.000000000",
          "2020-01-15T00:00:00.000000000",
          "2020-01-16T00:00:00.000000000",
          "2020-01-17T00:00:00.000000000",
          "2020-01-18T00:00:00.000000000",
          "2020-01-19T00:00:00.000000000",
          "2020-01-20T00:00:00.000000000",
          "2020-01-21T00:00:00.000000000",
          "2020-01-22T00:00:00.000000000",
          "2020-01-23T00:00:00.000000000",
          "2020-01-24T00:00:00.000000000",
          "2020-01-25T00:00:00.000000000",
          "2020-01-26T00:00:00.000000000",
          "2020-01-27T00:00:00.000000000",
          "2020-01-28T00:00:00.000000000",
          "2020-01-29T00:00:00.000000000",
          "2020-01-30T00:00:00.000000000",
          "2020-01-31T00:00:00.000000000",
          "2020-02-01T00:00:00.000000000",
          "2020-02-02T00:00:00.000000000",
          "2020-02-03T00:00:00.000000000",
          "2020-02-04T00:00:00.000000000",
          "2020-02-05T00:00:00.000000000",
          "2020-02-13T00:00:00.000000000",
          "2020-02-14T00:00:00.000000000",
          "2020-02-15T00:00:00.000000000",
          "2020-02-16T00:00:00.000000000",
          "2020-02-17T00:00:00.000000000",
          "2020-02-18T00:00:00.000000000",
          "2020-02-19T00:00:00.000000000",
          "2020-02-20T00:00:00.000000000",
          "2020-02-21T00:00:00.000000000",
          "2020-02-22T00:00:00.000000000",
          "2020-02-23T00:00:00.000000000",
          "2020-02-24T00:00:00.000000000",
          "2020-02-25T00:00:00.000000000",
          "2020-02-26T00:00:00.000000000",
          "2020-02-27T00:00:00.000000000",
          "2020-02-28T00:00:00.000000000",
          "2020-02-29T00:00:00.000000000",
          "2020-03-01T00:00:00.000000000",
          "2020-03-02T00:00:00.000000000",
          "2020-03-03T00:00:00.000000000",
          "2020-03-04T00:00:00.000000000",
          "2020-03-05T00:00:00.000000000",
          "2020-03-13T00:00:00.000000000",
          "2020-03-14T00:00:00.000000000",
          "2020-03-15T00:00:00.000000000",
          "2020-03-16T00:00:00.000000000",
          "2020-03-17T00:00:00.000000000",
          "2020-03-18T00:00:00.000000000",
          "2020-03-19T00:00:00.000000000",
          "2020-03-20T00:00:00.000000000",
          "2020-03-21T00:00:00.000000000",
          "2020-03-22T00:00:00.000000000",
          "2020-03-23T00:00:00.000000000",
          "2020-03-24T00:00:00.000000000",
          "2020-03-25T00:00:00.000000000",
          "2020-03-26T00:00:00.000000000",
          "2020-03-27T00:00:00.000000000",
          "2020-03-28T00:00:00.000000000",
          "2020-03-29T00:00:00.000000000",
          "2020-03-30T00:00:00.000000000",
          "2020-03-31T00:00:00.000000000",
          "2020-04-01T00:00:00.000000000",
          "2020-04-02T00:00:00.000000000",
          "2020-04-03T00:00:00.000000000",
          "2020-04-04T00:00:00.000000000",
          "2020-04-05T00:00:00.000000000",
          "2020-04-13T00:00:00.000000000",
          "2020-04-14T00:00:00.000000000",
          "2020-04-15T00:00:00.000000000",
          "2020-04-16T00:00:00.000000000",
          "2020-04-17T00:00:00.000000000",
          "2020-04-18T00:00:00.000000000",
          "2020-04-19T00:00:00.000000000",
          "2020-04-20T00:00:00.000000000",
          "2020-04-21T00:00:00.000000000",
          "2020-04-22T00:00:00.000000000",
          "2020-04-23T00:00:00.000000000",
          "2020-04-24T00:00:00.000000000",
          "2020-04-25T00:00:00.000000000",
          "2020-04-26T00:00:00.000000000",
          "2020-04-27T00:00:00.000000000",
          "2020-04-28T00:00:00.000000000",
          "2020-04-29T00:00:00.000000000",
          "2020-04-30T00:00:00.000000000",
          "2020-05-01T00:00:00.000000000",
          "2020-05-02T00:00:00.000000000",
          "2020-05-03T00:00:00.000000000",
          "2020-05-04T00:00:00.000000000",
          "2020-05-05T00:00:00.000000000",
          "2020-05-13T00:00:00.000000000",
          "2020-05-14T00:00:00.000000000",
          "2020-05-15T00:00:00.000000000",
          "2020-05-16T00:00:00.000000000",
          "2020-05-17T00:00:00.000000000",
          "2020-05-18T00:00:00.000000000",
          "2020-05-19T00:00:00.000000000",
          "2020-05-20T00:00:00.000000000",
          "2020-05-21T00:00:00.000000000",
          "2020-05-22T00:00:00.000000000",
          "2020-05-23T00:00:00.000000000",
          "2020-06-01T00:00:00.000000000",
          "2020-06-02T00:00:00.000000000",
          "2020-06-03T00:00:00.000000000",
          "2020-06-04T00:00:00.000000000",
          "2020-06-05T00:00:00.000000000",
          "2020-07-01T00:00:00.000000000",
          "2020-07-02T00:00:00.000000000",
          "2020-07-03T00:00:00.000000000",
          "2020-07-04T00:00:00.000000000",
          "2020-07-05T00:00:00.000000000",
          "2020-08-01T00:00:00.000000000",
          "2020-08-02T00:00:00.000000000",
          "2020-08-03T00:00:00.000000000",
          "2020-08-04T00:00:00.000000000",
          "2020-08-05T00:00:00.000000000",
          "2020-09-01T00:00:00.000000000",
          "2020-09-02T00:00:00.000000000",
          "2020-09-03T00:00:00.000000000",
          "2020-09-04T00:00:00.000000000",
          "2020-09-05T00:00:00.000000000",
          "2020-10-01T00:00:00.000000000",
          "2020-10-02T00:00:00.000000000",
          "2020-10-03T00:00:00.000000000",
          "2020-10-04T00:00:00.000000000",
          "2020-10-05T00:00:00.000000000",
          "2020-11-01T00:00:00.000000000",
          "2020-11-02T00:00:00.000000000",
          "2020-11-03T00:00:00.000000000",
          "2020-11-04T00:00:00.000000000",
          "2020-11-05T00:00:00.000000000",
          "2020-12-01T00:00:00.000000000",
          "2020-12-02T00:00:00.000000000",
          "2020-12-03T00:00:00.000000000",
          "2020-12-04T00:00:00.000000000",
          "2020-12-05T00:00:00.000000000",
          "2020-12-06T00:00:00.000000000",
          "2020-12-07T00:00:00.000000000",
          "2020-12-08T00:00:00.000000000",
          "2020-12-09T00:00:00.000000000",
          "2020-12-10T00:00:00.000000000",
          "2020-12-11T00:00:00.000000000",
          "2020-12-12T00:00:00.000000000",
          "2020-12-13T00:00:00.000000000",
          "2020-12-14T00:00:00.000000000",
          "2020-12-15T00:00:00.000000000",
          "2020-12-16T00:00:00.000000000",
          "2020-12-17T00:00:00.000000000",
          "2020-12-18T00:00:00.000000000",
          "2020-12-19T00:00:00.000000000",
          "2020-12-20T00:00:00.000000000",
          "2020-12-21T00:00:00.000000000",
          "2020-12-22T00:00:00.000000000",
          "2020-12-23T00:00:00.000000000",
          "2020-12-24T00:00:00.000000000",
          "2020-12-25T00:00:00.000000000",
          "2020-12-26T00:00:00.000000000",
          "2020-12-27T00:00:00.000000000",
          "2020-12-28T00:00:00.000000000",
          "2020-12-29T00:00:00.000000000",
          "2020-12-30T00:00:00.000000000",
          "2020-12-31T00:00:00.000000000",
          "2021-01-01T00:00:00.000000000",
          "2021-01-02T00:00:00.000000000",
          "2021-01-03T00:00:00.000000000",
          "2021-01-04T00:00:00.000000000",
          "2021-01-05T00:00:00.000000000",
          "2021-01-06T00:00:00.000000000",
          "2021-01-07T00:00:00.000000000",
          "2021-01-08T00:00:00.000000000",
          "2021-01-09T00:00:00.000000000",
          "2021-01-10T00:00:00.000000000",
          "2021-01-11T00:00:00.000000000",
          "2021-01-12T00:00:00.000000000",
          "2021-01-13T00:00:00.000000000",
          "2021-01-14T00:00:00.000000000",
          "2021-01-15T00:00:00.000000000",
          "2021-01-16T00:00:00.000000000",
          "2021-01-17T00:00:00.000000000",
          "2021-01-18T00:00:00.000000000",
          "2021-01-19T00:00:00.000000000",
          "2021-01-20T00:00:00.000000000",
          "2021-01-21T00:00:00.000000000",
          "2021-01-22T00:00:00.000000000",
          "2021-01-23T00:00:00.000000000",
          "2021-01-24T00:00:00.000000000",
          "2021-01-25T00:00:00.000000000",
          "2021-01-26T00:00:00.000000000",
          "2021-01-27T00:00:00.000000000",
          "2021-01-28T00:00:00.000000000",
          "2021-01-29T00:00:00.000000000",
          "2021-01-30T00:00:00.000000000",
          "2021-01-31T00:00:00.000000000",
          "2021-02-01T00:00:00.000000000",
          "2021-02-02T00:00:00.000000000",
          "2021-02-03T00:00:00.000000000",
          "2021-02-04T00:00:00.000000000",
          "2021-02-05T00:00:00.000000000",
          "2021-02-06T00:00:00.000000000",
          "2021-02-07T00:00:00.000000000",
          "2021-02-08T00:00:00.000000000",
          "2021-02-09T00:00:00.000000000",
          "2021-02-10T00:00:00.000000000",
          "2021-02-11T00:00:00.000000000",
          "2021-02-12T00:00:00.000000000",
          "2021-02-13T00:00:00.000000000",
          "2021-02-14T00:00:00.000000000",
          "2021-02-15T00:00:00.000000000",
          "2021-02-16T00:00:00.000000000",
          "2021-02-17T00:00:00.000000000",
          "2021-02-18T00:00:00.000000000",
          "2021-02-19T00:00:00.000000000",
          "2021-02-20T00:00:00.000000000",
          "2021-02-21T00:00:00.000000000",
          "2021-02-22T00:00:00.000000000",
          "2021-02-23T00:00:00.000000000",
          "2021-02-24T00:00:00.000000000",
          "2021-02-25T00:00:00.000000000",
          "2021-02-26T00:00:00.000000000",
          "2021-02-27T00:00:00.000000000",
          "2021-02-28T00:00:00.000000000",
          "2021-03-01T00:00:00.000000000",
          "2021-03-02T00:00:00.000000000",
          "2021-03-03T00:00:00.000000000",
          "2021-03-04T00:00:00.000000000",
          "2021-03-05T00:00:00.000000000",
          "2021-03-06T00:00:00.000000000",
          "2021-03-07T00:00:00.000000000",
          "2021-03-08T00:00:00.000000000",
          "2021-03-09T00:00:00.000000000",
          "2021-03-10T00:00:00.000000000",
          "2021-03-11T00:00:00.000000000",
          "2021-03-12T00:00:00.000000000",
          "2021-03-13T00:00:00.000000000",
          "2021-03-14T00:00:00.000000000",
          "2021-03-15T00:00:00.000000000",
          "2021-03-16T00:00:00.000000000",
          "2021-03-17T00:00:00.000000000",
          "2021-03-18T00:00:00.000000000",
          "2021-03-19T00:00:00.000000000",
          "2021-03-20T00:00:00.000000000",
          "2021-03-21T00:00:00.000000000",
          "2021-03-22T00:00:00.000000000",
          "2021-03-23T00:00:00.000000000",
          "2021-03-24T00:00:00.000000000",
          "2021-03-25T00:00:00.000000000",
          "2021-03-26T00:00:00.000000000",
          "2021-03-27T00:00:00.000000000",
          "2021-03-28T00:00:00.000000000",
          "2021-03-29T00:00:00.000000000",
          "2021-03-30T00:00:00.000000000",
          "2021-03-31T00:00:00.000000000",
          "2021-04-01T00:00:00.000000000",
          "2021-04-02T00:00:00.000000000",
          "2021-04-03T00:00:00.000000000",
          "2021-04-04T00:00:00.000000000",
          "2021-04-05T00:00:00.000000000",
          "2021-04-06T00:00:00.000000000",
          "2021-04-07T00:00:00.000000000",
          "2021-04-08T00:00:00.000000000",
          "2021-04-09T00:00:00.000000000",
          "2021-04-10T00:00:00.000000000",
          "2021-04-11T00:00:00.000000000",
          "2021-04-12T00:00:00.000000000",
          "2021-04-13T00:00:00.000000000",
          "2021-04-14T00:00:00.000000000",
          "2021-04-15T00:00:00.000000000",
          "2021-04-16T00:00:00.000000000",
          "2021-04-17T00:00:00.000000000",
          "2021-04-18T00:00:00.000000000",
          "2021-04-19T00:00:00.000000000",
          "2021-04-20T00:00:00.000000000",
          "2021-04-21T00:00:00.000000000",
          "2021-04-22T00:00:00.000000000",
          "2021-04-23T00:00:00.000000000",
          "2021-04-24T00:00:00.000000000",
          "2021-04-25T00:00:00.000000000",
          "2021-04-26T00:00:00.000000000",
          "2021-04-27T00:00:00.000000000",
          "2021-04-28T00:00:00.000000000",
          "2021-04-29T00:00:00.000000000",
          "2021-04-30T00:00:00.000000000",
          "2021-05-01T00:00:00.000000000",
          "2021-05-02T00:00:00.000000000",
          "2021-05-03T00:00:00.000000000",
          "2021-05-04T00:00:00.000000000",
          "2021-05-05T00:00:00.000000000",
          "2021-05-06T00:00:00.000000000",
          "2021-05-07T00:00:00.000000000",
          "2021-05-08T00:00:00.000000000",
          "2021-05-09T00:00:00.000000000",
          "2021-05-10T00:00:00.000000000",
          "2021-05-11T00:00:00.000000000",
          "2021-05-12T00:00:00.000000000",
          "2021-05-13T00:00:00.000000000",
          "2021-05-14T00:00:00.000000000",
          "2021-05-15T00:00:00.000000000",
          "2021-05-16T00:00:00.000000000",
          "2021-05-17T00:00:00.000000000",
          "2021-05-18T00:00:00.000000000",
          "2021-05-19T00:00:00.000000000",
          "2021-05-20T00:00:00.000000000",
          "2021-05-21T00:00:00.000000000",
          "2021-05-22T00:00:00.000000000",
          "2021-05-23T00:00:00.000000000",
          "2021-05-24T00:00:00.000000000",
          "2021-05-25T00:00:00.000000000",
          "2021-05-26T00:00:00.000000000",
          "2021-05-27T00:00:00.000000000",
          "2021-05-28T00:00:00.000000000",
          "2021-05-29T00:00:00.000000000",
          "2021-05-30T00:00:00.000000000",
          "2021-05-31T00:00:00.000000000",
          "2021-06-01T00:00:00.000000000",
          "2021-06-02T00:00:00.000000000",
          "2021-06-03T00:00:00.000000000",
          "2021-06-04T00:00:00.000000000",
          "2021-06-05T00:00:00.000000000",
          "2021-06-06T00:00:00.000000000",
          "2021-06-07T00:00:00.000000000",
          "2021-06-08T00:00:00.000000000",
          "2021-06-09T00:00:00.000000000",
          "2021-06-10T00:00:00.000000000",
          "2021-06-11T00:00:00.000000000",
          "2021-06-12T00:00:00.000000000",
          "2021-06-13T00:00:00.000000000",
          "2021-06-14T00:00:00.000000000",
          "2021-06-15T00:00:00.000000000",
          "2021-06-16T00:00:00.000000000",
          "2021-06-17T00:00:00.000000000",
          "2021-06-18T00:00:00.000000000",
          "2021-06-19T00:00:00.000000000",
          "2021-06-20T00:00:00.000000000",
          "2021-06-21T00:00:00.000000000",
          "2021-06-22T00:00:00.000000000",
          "2021-06-23T00:00:00.000000000",
          "2021-06-24T00:00:00.000000000",
          "2021-06-25T00:00:00.000000000",
          "2021-06-26T00:00:00.000000000",
          "2021-06-27T00:00:00.000000000",
          "2021-06-28T00:00:00.000000000",
          "2021-06-29T00:00:00.000000000",
          "2021-06-30T00:00:00.000000000",
          "2021-07-01T00:00:00.000000000",
          "2021-07-02T00:00:00.000000000",
          "2021-07-03T00:00:00.000000000",
          "2021-07-04T00:00:00.000000000",
          "2021-07-05T00:00:00.000000000",
          "2021-07-06T00:00:00.000000000",
          "2021-07-07T00:00:00.000000000",
          "2021-07-08T00:00:00.000000000",
          "2021-07-09T00:00:00.000000000",
          "2021-07-10T00:00:00.000000000",
          "2021-07-11T00:00:00.000000000",
          "2021-07-12T00:00:00.000000000",
          "2021-07-13T00:00:00.000000000",
          "2021-07-14T00:00:00.000000000",
          "2021-07-15T00:00:00.000000000",
          "2021-07-16T00:00:00.000000000",
          "2021-07-17T00:00:00.000000000",
          "2021-07-18T00:00:00.000000000",
          "2021-07-19T00:00:00.000000000",
          "2021-07-20T00:00:00.000000000",
          "2021-07-21T00:00:00.000000000",
          "2021-07-22T00:00:00.000000000",
          "2021-07-23T00:00:00.000000000",
          "2021-07-24T00:00:00.000000000",
          "2021-07-25T00:00:00.000000000",
          "2021-07-26T00:00:00.000000000",
          "2021-07-27T00:00:00.000000000",
          "2021-07-28T00:00:00.000000000",
          "2021-07-29T00:00:00.000000000",
          "2021-07-30T00:00:00.000000000",
          "2021-07-31T00:00:00.000000000",
          "2021-08-01T00:00:00.000000000",
          "2021-08-02T00:00:00.000000000",
          "2021-08-03T00:00:00.000000000",
          "2021-08-04T00:00:00.000000000",
          "2021-08-05T00:00:00.000000000",
          "2021-08-06T00:00:00.000000000",
          "2021-08-07T00:00:00.000000000",
          "2021-08-08T00:00:00.000000000",
          "2021-08-09T00:00:00.000000000",
          "2021-08-10T00:00:00.000000000",
          "2021-08-11T00:00:00.000000000",
          "2021-08-12T00:00:00.000000000",
          "2021-08-13T00:00:00.000000000",
          "2021-08-14T00:00:00.000000000",
          "2021-08-15T00:00:00.000000000",
          "2021-08-16T00:00:00.000000000",
          "2021-08-17T00:00:00.000000000",
          "2021-08-18T00:00:00.000000000",
          "2021-08-19T00:00:00.000000000",
          "2021-08-20T00:00:00.000000000",
          "2021-08-21T00:00:00.000000000",
          "2021-08-22T00:00:00.000000000",
          "2021-08-23T00:00:00.000000000",
          "2021-08-24T00:00:00.000000000",
          "2021-08-25T00:00:00.000000000",
          "2021-08-26T00:00:00.000000000",
          "2021-08-27T00:00:00.000000000",
          "2021-08-28T00:00:00.000000000",
          "2021-08-29T00:00:00.000000000",
          "2021-08-30T00:00:00.000000000",
          "2021-08-31T00:00:00.000000000",
          "2021-09-01T00:00:00.000000000",
          "2021-09-02T00:00:00.000000000",
          "2021-09-03T00:00:00.000000000",
          "2021-09-04T00:00:00.000000000",
          "2021-09-05T00:00:00.000000000",
          "2021-09-06T00:00:00.000000000",
          "2021-09-07T00:00:00.000000000",
          "2021-09-08T00:00:00.000000000",
          "2021-09-09T00:00:00.000000000",
          "2021-09-10T00:00:00.000000000",
          "2021-09-11T00:00:00.000000000",
          "2021-09-12T00:00:00.000000000",
          "2021-09-13T00:00:00.000000000",
          "2021-09-14T00:00:00.000000000",
          "2021-09-15T00:00:00.000000000",
          "2021-09-16T00:00:00.000000000",
          "2021-09-17T00:00:00.000000000",
          "2021-09-18T00:00:00.000000000",
          "2021-09-19T00:00:00.000000000",
          "2021-09-20T00:00:00.000000000",
          "2021-09-21T00:00:00.000000000",
          "2021-09-22T00:00:00.000000000",
          "2021-09-23T00:00:00.000000000",
          "2021-09-24T00:00:00.000000000",
          "2021-09-25T00:00:00.000000000",
          "2021-09-26T00:00:00.000000000",
          "2021-09-27T00:00:00.000000000",
          "2021-09-28T00:00:00.000000000",
          "2021-09-29T00:00:00.000000000",
          "2021-09-30T00:00:00.000000000",
          "2021-10-01T00:00:00.000000000",
          "2021-10-02T00:00:00.000000000",
          "2021-10-03T00:00:00.000000000",
          "2021-10-04T00:00:00.000000000",
          "2021-10-05T00:00:00.000000000",
          "2021-10-06T00:00:00.000000000",
          "2021-10-07T00:00:00.000000000",
          "2021-10-08T00:00:00.000000000",
          "2021-10-09T00:00:00.000000000",
          "2021-10-10T00:00:00.000000000",
          "2021-10-11T00:00:00.000000000",
          "2021-10-12T00:00:00.000000000",
          "2021-10-13T00:00:00.000000000",
          "2021-10-14T00:00:00.000000000",
          "2021-10-15T00:00:00.000000000",
          "2021-10-16T00:00:00.000000000",
          "2021-10-17T00:00:00.000000000",
          "2021-10-18T00:00:00.000000000",
          "2021-10-19T00:00:00.000000000",
          "2021-10-20T00:00:00.000000000",
          "2021-10-21T00:00:00.000000000",
          "2021-10-22T00:00:00.000000000",
          "2021-10-23T00:00:00.000000000",
          "2021-10-24T00:00:00.000000000",
          "2021-10-25T00:00:00.000000000",
          "2021-10-26T00:00:00.000000000",
          "2021-10-27T00:00:00.000000000",
          "2021-10-28T00:00:00.000000000",
          "2021-10-29T00:00:00.000000000",
          "2021-10-30T00:00:00.000000000",
          "2021-10-31T00:00:00.000000000",
          "2021-11-01T00:00:00.000000000",
          "2021-11-02T00:00:00.000000000",
          "2021-11-03T00:00:00.000000000",
          "2021-11-04T00:00:00.000000000",
          "2021-11-05T00:00:00.000000000",
          "2021-11-06T00:00:00.000000000",
          "2021-11-07T00:00:00.000000000",
          "2021-11-08T00:00:00.000000000",
          "2021-11-09T00:00:00.000000000",
          "2021-11-10T00:00:00.000000000",
          "2021-11-11T00:00:00.000000000",
          "2021-11-12T00:00:00.000000000",
          "2021-11-13T00:00:00.000000000",
          "2021-11-14T00:00:00.000000000",
          "2021-11-15T00:00:00.000000000",
          "2021-11-16T00:00:00.000000000",
          "2021-11-17T00:00:00.000000000",
          "2021-11-18T00:00:00.000000000",
          "2021-11-19T00:00:00.000000000",
          "2021-11-20T00:00:00.000000000",
          "2021-11-21T00:00:00.000000000",
          "2021-11-22T00:00:00.000000000",
          "2021-11-23T00:00:00.000000000",
          "2021-11-24T00:00:00.000000000",
          "2021-11-25T00:00:00.000000000",
          "2021-11-26T00:00:00.000000000",
          "2021-11-27T00:00:00.000000000",
          "2021-11-28T00:00:00.000000000",
          "2021-11-29T00:00:00.000000000",
          "2021-11-30T00:00:00.000000000",
          "2021-12-01T00:00:00.000000000",
          "2021-12-02T00:00:00.000000000",
          "2021-12-03T00:00:00.000000000",
          "2021-12-04T00:00:00.000000000",
          "2021-12-05T00:00:00.000000000"
         ],
         "y": {
          "bdata": "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",
          "dtype": "f8"
         }
        },
        {
         "name": "Data values",
         "type": "scatter",
         "x": [
          "2019-01-02T00:00:00.000000000",
          "2019-01-03T00:00:00.000000000",
          "2019-01-04T00:00:00.000000000",
          "2019-01-05T00:00:00.000000000",
          "2019-01-06T00:00:00.000000000",
          "2019-01-07T00:00:00.000000000",
          "2019-01-08T00:00:00.000000000",
          "2019-01-09T00:00:00.000000000",
          "2019-01-10T00:00:00.000000000",
          "2019-01-11T00:00:00.000000000",
          "2019-01-12T00:00:00.000000000",
          "2019-01-13T00:00:00.000000000",
          "2019-01-14T00:00:00.000000000",
          "2019-01-15T00:00:00.000000000",
          "2019-01-16T00:00:00.000000000",
          "2019-01-17T00:00:00.000000000",
          "2019-01-18T00:00:00.000000000",
          "2019-01-19T00:00:00.000000000",
          "2019-01-20T00:00:00.000000000",
          "2019-01-21T00:00:00.000000000",
          "2019-01-22T00:00:00.000000000",
          "2019-01-23T00:00:00.000000000",
          "2019-01-24T00:00:00.000000000",
          "2019-01-25T00:00:00.000000000",
          "2019-01-26T00:00:00.000000000",
          "2019-01-27T00:00:00.000000000",
          "2019-01-28T00:00:00.000000000",
          "2019-01-29T00:00:00.000000000",
          "2019-01-30T00:00:00.000000000",
          "2019-01-31T00:00:00.000000000",
          "2019-02-02T00:00:00.000000000",
          "2019-02-03T00:00:00.000000000",
          "2019-02-04T00:00:00.000000000",
          "2019-02-05T00:00:00.000000000",
          "2019-02-06T00:00:00.000000000",
          "2019-02-07T00:00:00.000000000",
          "2019-02-08T00:00:00.000000000",
          "2019-02-09T00:00:00.000000000",
          "2019-02-10T00:00:00.000000000",
          "2019-02-11T00:00:00.000000000",
          "2019-02-12T00:00:00.000000000",
          "2019-02-13T00:00:00.000000000",
          "2019-02-14T00:00:00.000000000",
          "2019-02-15T00:00:00.000000000",
          "2019-02-16T00:00:00.000000000",
          "2019-02-17T00:00:00.000000000",
          "2019-02-18T00:00:00.000000000",
          "2019-02-19T00:00:00.000000000",
          "2019-02-20T00:00:00.000000000",
          "2019-02-21T00:00:00.000000000",
          "2019-02-22T00:00:00.000000000",
          "2019-02-23T00:00:00.000000000",
          "2019-02-24T00:00:00.000000000",
          "2019-02-25T00:00:00.000000000",
          "2019-02-26T00:00:00.000000000",
          "2019-02-27T00:00:00.000000000",
          "2019-02-28T00:00:00.000000000",
          "2019-03-02T00:00:00.000000000",
          "2019-03-03T00:00:00.000000000",
          "2019-03-04T00:00:00.000000000",
          "2019-03-05T00:00:00.000000000",
          "2019-03-06T00:00:00.000000000",
          "2019-03-07T00:00:00.000000000",
          "2019-03-08T00:00:00.000000000",
          "2019-03-09T00:00:00.000000000",
          "2019-03-10T00:00:00.000000000",
          "2019-03-11T00:00:00.000000000",
          "2019-03-12T00:00:00.000000000",
          "2019-03-13T00:00:00.000000000",
          "2019-03-14T00:00:00.000000000",
          "2019-03-15T00:00:00.000000000",
          "2019-03-16T00:00:00.000000000",
          "2019-03-17T00:00:00.000000000",
          "2019-03-18T00:00:00.000000000",
          "2019-03-19T00:00:00.000000000",
          "2019-03-20T00:00:00.000000000",
          "2019-03-21T00:00:00.000000000",
          "2019-03-22T00:00:00.000000000",
          "2019-03-23T00:00:00.000000000",
          "2019-03-24T00:00:00.000000000",
          "2019-03-25T00:00:00.000000000",
          "2019-03-26T00:00:00.000000000",
          "2019-03-27T00:00:00.000000000",
          "2019-03-28T00:00:00.000000000",
          "2019-03-29T00:00:00.000000000",
          "2019-03-30T00:00:00.000000000",
          "2019-03-31T00:00:00.000000000",
          "2019-04-02T00:00:00.000000000",
          "2019-04-03T00:00:00.000000000",
          "2019-04-04T00:00:00.000000000",
          "2019-04-05T00:00:00.000000000",
          "2019-04-06T00:00:00.000000000",
          "2019-04-07T00:00:00.000000000",
          "2019-04-08T00:00:00.000000000",
          "2019-04-09T00:00:00.000000000",
          "2019-04-10T00:00:00.000000000",
          "2019-04-11T00:00:00.000000000",
          "2019-04-12T00:00:00.000000000",
          "2019-04-13T00:00:00.000000000",
          "2019-04-14T00:00:00.000000000",
          "2019-04-15T00:00:00.000000000",
          "2019-04-16T00:00:00.000000000",
          "2019-04-17T00:00:00.000000000",
          "2019-04-18T00:00:00.000000000",
          "2019-04-19T00:00:00.000000000",
          "2019-04-20T00:00:00.000000000",
          "2019-04-21T00:00:00.000000000",
          "2019-04-22T00:00:00.000000000",
          "2019-04-23T00:00:00.000000000",
          "2019-04-24T00:00:00.000000000",
          "2019-04-25T00:00:00.000000000",
          "2019-04-26T00:00:00.000000000",
          "2019-04-27T00:00:00.000000000",
          "2019-04-28T00:00:00.000000000",
          "2019-04-29T00:00:00.000000000",
          "2019-04-30T00:00:00.000000000",
          "2019-05-02T00:00:00.000000000",
          "2019-05-03T00:00:00.000000000",
          "2019-05-04T00:00:00.000000000",
          "2019-05-05T00:00:00.000000000",
          "2019-05-06T00:00:00.000000000",
          "2019-05-07T00:00:00.000000000",
          "2019-05-08T00:00:00.000000000",
          "2019-05-09T00:00:00.000000000",
          "2019-05-10T00:00:00.000000000",
          "2019-05-11T00:00:00.000000000",
          "2019-05-12T00:00:00.000000000",
          "2019-05-13T00:00:00.000000000",
          "2019-05-14T00:00:00.000000000",
          "2019-05-15T00:00:00.000000000",
          "2019-05-16T00:00:00.000000000",
          "2019-05-17T00:00:00.000000000",
          "2019-05-18T00:00:00.000000000",
          "2019-05-19T00:00:00.000000000",
          "2019-05-20T00:00:00.000000000",
          "2019-05-21T00:00:00.000000000",
          "2019-05-22T00:00:00.000000000",
          "2019-05-23T00:00:00.000000000",
          "2019-05-24T00:00:00.000000000",
          "2019-05-25T00:00:00.000000000",
          "2019-05-26T00:00:00.000000000",
          "2019-05-27T00:00:00.000000000",
          "2019-05-28T00:00:00.000000000",
          "2019-05-29T00:00:00.000000000",
          "2019-05-30T00:00:00.000000000",
          "2019-05-31T00:00:00.000000000",
          "2019-06-02T00:00:00.000000000",
          "2019-06-03T00:00:00.000000000",
          "2019-06-04T00:00:00.000000000",
          "2019-06-05T00:00:00.000000000",
          "2019-06-06T00:00:00.000000000",
          "2019-06-07T00:00:00.000000000",
          "2019-06-08T00:00:00.000000000",
          "2019-06-09T00:00:00.000000000",
          "2019-06-10T00:00:00.000000000",
          "2019-06-11T00:00:00.000000000",
          "2019-06-12T00:00:00.000000000",
          "2019-06-13T00:00:00.000000000",
          "2019-06-14T00:00:00.000000000",
          "2019-06-15T00:00:00.000000000",
          "2019-06-16T00:00:00.000000000",
          "2019-06-17T00:00:00.000000000",
          "2019-06-18T00:00:00.000000000",
          "2019-06-19T00:00:00.000000000",
          "2019-06-20T00:00:00.000000000",
          "2019-06-21T00:00:00.000000000",
          "2019-06-22T00:00:00.000000000",
          "2019-06-23T00:00:00.000000000",
          "2019-06-24T00:00:00.000000000",
          "2019-06-25T00:00:00.000000000",
          "2019-06-26T00:00:00.000000000",
          "2019-06-27T00:00:00.000000000",
          "2019-06-28T00:00:00.000000000",
          "2019-06-29T00:00:00.000000000",
          "2019-06-30T00:00:00.000000000",
          "2019-07-01T00:00:00.000000000",
          "2019-07-02T00:00:00.000000000",
          "2019-07-03T00:00:00.000000000",
          "2019-07-04T00:00:00.000000000",
          "2019-07-05T00:00:00.000000000",
          "2019-07-06T00:00:00.000000000",
          "2019-07-07T00:00:00.000000000",
          "2019-07-08T00:00:00.000000000",
          "2019-07-09T00:00:00.000000000",
          "2019-07-10T00:00:00.000000000",
          "2019-07-11T00:00:00.000000000",
          "2019-07-12T00:00:00.000000000",
          "2019-07-13T00:00:00.000000000",
          "2019-07-14T00:00:00.000000000",
          "2019-07-15T00:00:00.000000000",
          "2019-07-16T00:00:00.000000000",
          "2019-07-17T00:00:00.000000000",
          "2019-07-18T00:00:00.000000000",
          "2019-07-19T00:00:00.000000000",
          "2019-07-20T00:00:00.000000000",
          "2019-07-21T00:00:00.000000000",
          "2019-07-22T00:00:00.000000000",
          "2019-07-23T00:00:00.000000000",
          "2019-07-24T00:00:00.000000000",
          "2019-07-25T00:00:00.000000000",
          "2019-07-26T00:00:00.000000000",
          "2019-07-27T00:00:00.000000000",
          "2019-07-28T00:00:00.000000000",
          "2019-07-29T00:00:00.000000000",
          "2019-07-30T00:00:00.000000000",
          "2019-07-31T00:00:00.000000000",
          "2019-08-01T00:00:00.000000000",
          "2019-08-02T00:00:00.000000000",
          "2019-08-03T00:00:00.000000000",
          "2019-08-04T00:00:00.000000000",
          "2019-08-05T00:00:00.000000000",
          "2019-08-06T00:00:00.000000000",
          "2019-08-08T00:00:00.000000000",
          "2019-08-09T00:00:00.000000000",
          "2019-08-10T00:00:00.000000000",
          "2019-08-11T00:00:00.000000000",
          "2019-08-12T00:00:00.000000000",
          "2019-08-13T00:00:00.000000000",
          "2019-08-14T00:00:00.000000000",
          "2019-08-15T00:00:00.000000000",
          "2019-08-16T00:00:00.000000000",
          "2019-08-17T00:00:00.000000000",
          "2019-08-18T00:00:00.000000000",
          "2019-08-19T00:00:00.000000000",
          "2019-08-20T00:00:00.000000000",
          "2019-08-21T00:00:00.000000000",
          "2019-08-22T00:00:00.000000000",
          "2019-08-23T00:00:00.000000000",
          "2019-08-24T00:00:00.000000000",
          "2019-08-25T00:00:00.000000000",
          "2019-08-26T00:00:00.000000000",
          "2019-08-27T00:00:00.000000000",
          "2019-08-28T00:00:00.000000000",
          "2019-08-29T00:00:00.000000000",
          "2019-08-30T00:00:00.000000000",
          "2019-08-31T00:00:00.000000000",
          "2019-09-01T00:00:00.000000000",
          "2019-09-02T00:00:00.000000000",
          "2019-09-03T00:00:00.000000000",
          "2019-09-04T00:00:00.000000000",
          "2019-09-05T00:00:00.000000000",
          "2019-09-06T00:00:00.000000000",
          "2019-09-08T00:00:00.000000000",
          "2019-09-09T00:00:00.000000000",
          "2019-09-10T00:00:00.000000000",
          "2019-09-11T00:00:00.000000000",
          "2019-09-12T00:00:00.000000000",
          "2019-09-13T00:00:00.000000000",
          "2019-09-14T00:00:00.000000000",
          "2019-09-15T00:00:00.000000000",
          "2019-09-16T00:00:00.000000000",
          "2019-09-17T00:00:00.000000000",
          "2019-09-18T00:00:00.000000000",
          "2019-09-19T00:00:00.000000000",
          "2019-09-20T00:00:00.000000000",
          "2019-09-21T00:00:00.000000000",
          "2019-09-22T00:00:00.000000000",
          "2019-09-23T00:00:00.000000000",
          "2019-09-24T00:00:00.000000000",
          "2019-09-25T00:00:00.000000000",
          "2019-09-26T00:00:00.000000000",
          "2019-09-27T00:00:00.000000000",
          "2019-09-28T00:00:00.000000000",
          "2019-09-29T00:00:00.000000000",
          "2019-09-30T00:00:00.000000000",
          "2019-10-01T00:00:00.000000000",
          "2019-10-02T00:00:00.000000000",
          "2019-10-03T00:00:00.000000000",
          "2019-10-04T00:00:00.000000000",
          "2019-10-05T00:00:00.000000000",
          "2019-10-06T00:00:00.000000000",
          "2019-10-08T00:00:00.000000000",
          "2019-10-09T00:00:00.000000000",
          "2019-10-10T00:00:00.000000000",
          "2019-10-11T00:00:00.000000000",
          "2019-10-12T00:00:00.000000000",
          "2019-10-13T00:00:00.000000000",
          "2019-10-14T00:00:00.000000000",
          "2019-10-15T00:00:00.000000000",
          "2019-10-16T00:00:00.000000000",
          "2019-10-17T00:00:00.000000000",
          "2019-10-18T00:00:00.000000000",
          "2019-10-19T00:00:00.000000000",
          "2019-10-20T00:00:00.000000000",
          "2019-10-21T00:00:00.000000000",
          "2019-10-22T00:00:00.000000000",
          "2019-10-23T00:00:00.000000000",
          "2019-10-24T00:00:00.000000000",
          "2019-10-25T00:00:00.000000000",
          "2019-10-26T00:00:00.000000000",
          "2019-10-27T00:00:00.000000000",
          "2019-10-28T00:00:00.000000000",
          "2019-10-29T00:00:00.000000000",
          "2019-10-30T00:00:00.000000000",
          "2019-10-31T00:00:00.000000000",
          "2019-11-01T00:00:00.000000000",
          "2019-11-02T00:00:00.000000000",
          "2019-11-03T00:00:00.000000000",
          "2019-11-04T00:00:00.000000000",
          "2019-11-05T00:00:00.000000000",
          "2019-11-06T00:00:00.000000000",
          "2019-11-08T00:00:00.000000000",
          "2019-11-09T00:00:00.000000000",
          "2019-11-10T00:00:00.000000000",
          "2019-11-11T00:00:00.000000000",
          "2019-11-12T00:00:00.000000000",
          "2019-11-13T00:00:00.000000000",
          "2019-11-14T00:00:00.000000000",
          "2019-11-15T00:00:00.000000000",
          "2019-11-16T00:00:00.000000000",
          "2019-11-17T00:00:00.000000000",
          "2019-11-18T00:00:00.000000000",
          "2019-11-19T00:00:00.000000000",
          "2019-11-20T00:00:00.000000000",
          "2019-11-21T00:00:00.000000000",
          "2019-11-22T00:00:00.000000000",
          "2019-11-23T00:00:00.000000000",
          "2019-11-24T00:00:00.000000000",
          "2019-11-25T00:00:00.000000000",
          "2019-11-26T00:00:00.000000000",
          "2019-11-27T00:00:00.000000000",
          "2019-11-28T00:00:00.000000000",
          "2019-11-29T00:00:00.000000000",
          "2019-11-30T00:00:00.000000000",
          "2019-12-01T00:00:00.000000000",
          "2019-12-02T00:00:00.000000000",
          "2019-12-03T00:00:00.000000000",
          "2019-12-04T00:00:00.000000000",
          "2019-12-05T00:00:00.000000000",
          "2019-12-06T00:00:00.000000000",
          "2019-12-08T00:00:00.000000000",
          "2019-12-09T00:00:00.000000000",
          "2019-12-10T00:00:00.000000000",
          "2019-12-11T00:00:00.000000000",
          "2019-12-12T00:00:00.000000000",
          "2019-12-13T00:00:00.000000000",
          "2019-12-14T00:00:00.000000000",
          "2019-12-15T00:00:00.000000000",
          "2019-12-16T00:00:00.000000000",
          "2019-12-17T00:00:00.000000000",
          "2019-12-18T00:00:00.000000000",
          "2019-12-19T00:00:00.000000000",
          "2019-12-20T00:00:00.000000000",
          "2019-12-21T00:00:00.000000000",
          "2019-12-22T00:00:00.000000000",
          "2019-12-23T00:00:00.000000000",
          "2019-12-24T00:00:00.000000000",
          "2019-12-25T00:00:00.000000000",
          "2019-12-26T00:00:00.000000000",
          "2019-12-27T00:00:00.000000000",
          "2019-12-28T00:00:00.000000000",
          "2019-12-29T00:00:00.000000000",
          "2019-12-30T00:00:00.000000000",
          "2019-12-31T00:00:00.000000000",
          "2020-01-01T00:00:00.000000000",
          "2020-01-02T00:00:00.000000000",
          "2020-01-03T00:00:00.000000000",
          "2020-01-04T00:00:00.000000000",
          "2020-01-05T00:00:00.000000000",
          "2020-01-13T00:00:00.000000000",
          "2020-01-14T00:00:00.000000000",
          "2020-01-15T00:00:00.000000000",
          "2020-01-16T00:00:00.000000000",
          "2020-01-17T00:00:00.000000000",
          "2020-01-18T00:00:00.000000000",
          "2020-01-19T00:00:00.000000000",
          "2020-01-20T00:00:00.000000000",
          "2020-01-21T00:00:00.000000000",
          "2020-01-22T00:00:00.000000000",
          "2020-01-23T00:00:00.000000000",
          "2020-01-24T00:00:00.000000000",
          "2020-01-25T00:00:00.000000000",
          "2020-01-26T00:00:00.000000000",
          "2020-01-27T00:00:00.000000000",
          "2020-01-28T00:00:00.000000000",
          "2020-01-29T00:00:00.000000000",
          "2020-01-30T00:00:00.000000000",
          "2020-01-31T00:00:00.000000000",
          "2020-02-01T00:00:00.000000000",
          "2020-02-02T00:00:00.000000000",
          "2020-02-03T00:00:00.000000000",
          "2020-02-04T00:00:00.000000000",
          "2020-02-05T00:00:00.000000000",
          "2020-02-13T00:00:00.000000000",
          "2020-02-14T00:00:00.000000000",
          "2020-02-15T00:00:00.000000000",
          "2020-02-16T00:00:00.000000000",
          "2020-02-17T00:00:00.000000000",
          "2020-02-18T00:00:00.000000000",
          "2020-02-19T00:00:00.000000000",
          "2020-02-20T00:00:00.000000000",
          "2020-02-21T00:00:00.000000000",
          "2020-02-22T00:00:00.000000000",
          "2020-02-23T00:00:00.000000000",
          "2020-02-24T00:00:00.000000000",
          "2020-02-25T00:00:00.000000000",
          "2020-02-26T00:00:00.000000000",
          "2020-02-27T00:00:00.000000000",
          "2020-02-28T00:00:00.000000000",
          "2020-02-29T00:00:00.000000000",
          "2020-03-01T00:00:00.000000000",
          "2020-03-02T00:00:00.000000000",
          "2020-03-03T00:00:00.000000000",
          "2020-03-04T00:00:00.000000000",
          "2020-03-05T00:00:00.000000000",
          "2020-03-13T00:00:00.000000000",
          "2020-03-14T00:00:00.000000000",
          "2020-03-15T00:00:00.000000000",
          "2020-03-16T00:00:00.000000000",
          "2020-03-17T00:00:00.000000000",
          "2020-03-18T00:00:00.000000000",
          "2020-03-19T00:00:00.000000000",
          "2020-03-20T00:00:00.000000000",
          "2020-03-21T00:00:00.000000000",
          "2020-03-22T00:00:00.000000000",
          "2020-03-23T00:00:00.000000000",
          "2020-03-24T00:00:00.000000000",
          "2020-03-25T00:00:00.000000000",
          "2020-03-26T00:00:00.000000000",
          "2020-03-27T00:00:00.000000000",
          "2020-03-28T00:00:00.000000000",
          "2020-03-29T00:00:00.000000000",
          "2020-03-30T00:00:00.000000000",
          "2020-03-31T00:00:00.000000000",
          "2020-04-01T00:00:00.000000000",
          "2020-04-02T00:00:00.000000000",
          "2020-04-03T00:00:00.000000000",
          "2020-04-04T00:00:00.000000000",
          "2020-04-05T00:00:00.000000000",
          "2020-04-13T00:00:00.000000000",
          "2020-04-14T00:00:00.000000000",
          "2020-04-15T00:00:00.000000000",
          "2020-04-16T00:00:00.000000000",
          "2020-04-17T00:00:00.000000000",
          "2020-04-18T00:00:00.000000000",
          "2020-04-19T00:00:00.000000000",
          "2020-04-20T00:00:00.000000000",
          "2020-04-21T00:00:00.000000000",
          "2020-04-22T00:00:00.000000000",
          "2020-04-23T00:00:00.000000000",
          "2020-04-24T00:00:00.000000000",
          "2020-04-25T00:00:00.000000000",
          "2020-04-26T00:00:00.000000000",
          "2020-04-27T00:00:00.000000000",
          "2020-04-28T00:00:00.000000000",
          "2020-04-29T00:00:00.000000000",
          "2020-04-30T00:00:00.000000000",
          "2020-05-01T00:00:00.000000000",
          "2020-05-02T00:00:00.000000000",
          "2020-05-03T00:00:00.000000000",
          "2020-05-04T00:00:00.000000000",
          "2020-05-05T00:00:00.000000000",
          "2020-05-13T00:00:00.000000000",
          "2020-05-14T00:00:00.000000000",
          "2020-05-15T00:00:00.000000000",
          "2020-05-16T00:00:00.000000000",
          "2020-05-17T00:00:00.000000000",
          "2020-05-18T00:00:00.000000000",
          "2020-05-19T00:00:00.000000000",
          "2020-05-20T00:00:00.000000000",
          "2020-05-21T00:00:00.000000000",
          "2020-05-22T00:00:00.000000000",
          "2020-05-23T00:00:00.000000000",
          "2020-06-01T00:00:00.000000000",
          "2020-06-02T00:00:00.000000000",
          "2020-06-03T00:00:00.000000000",
          "2020-06-04T00:00:00.000000000",
          "2020-06-05T00:00:00.000000000",
          "2020-07-01T00:00:00.000000000",
          "2020-07-02T00:00:00.000000000",
          "2020-07-03T00:00:00.000000000",
          "2020-07-04T00:00:00.000000000",
          "2020-07-05T00:00:00.000000000",
          "2020-08-01T00:00:00.000000000",
          "2020-08-02T00:00:00.000000000",
          "2020-08-03T00:00:00.000000000",
          "2020-08-04T00:00:00.000000000",
          "2020-08-05T00:00:00.000000000",
          "2020-09-01T00:00:00.000000000",
          "2020-09-02T00:00:00.000000000",
          "2020-09-03T00:00:00.000000000",
          "2020-09-04T00:00:00.000000000",
          "2020-09-05T00:00:00.000000000",
          "2020-10-01T00:00:00.000000000",
          "2020-10-02T00:00:00.000000000",
          "2020-10-03T00:00:00.000000000",
          "2020-10-04T00:00:00.000000000",
          "2020-10-05T00:00:00.000000000",
          "2020-11-01T00:00:00.000000000",
          "2020-11-02T00:00:00.000000000",
          "2020-11-03T00:00:00.000000000",
          "2020-11-04T00:00:00.000000000",
          "2020-11-05T00:00:00.000000000",
          "2020-12-01T00:00:00.000000000",
          "2020-12-02T00:00:00.000000000",
          "2020-12-03T00:00:00.000000000",
          "2020-12-04T00:00:00.000000000",
          "2020-12-05T00:00:00.000000000"
         ],
         "y": {
          "bdata": "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",
          "dtype": "f8"
         }
        }
       ],
       "layout": {
        "template": {
         "data": {
          "bar": [
           {
            "error_x": {
             "color": "#2a3f5f"
            },
            "error_y": {
             "color": "#2a3f5f"
            },
            "marker": {
             "line": {
              "color": "#E5ECF6",
              "width": 0.5
             },
             "pattern": {
              "fillmode": "overlay",
              "size": 10,
              "solidity": 0.2
             }
            },
            "type": "bar"
           }
          ],
          "barpolar": [
           {
            "marker": {
             "line": {
              "color": "#E5ECF6",
              "width": 0.5
             },
             "pattern": {
              "fillmode": "overlay",
              "size": 10,
              "solidity": 0.2
             }
            },
            "type": "barpolar"
           }
          ],
          "carpet": [
           {
            "aaxis": {
             "endlinecolor": "#2a3f5f",
             "gridcolor": "white",
             "linecolor": "white",
             "minorgridcolor": "white",
             "startlinecolor": "#2a3f5f"
            },
            "baxis": {
             "endlinecolor": "#2a3f5f",
             "gridcolor": "white",
             "linecolor": "white",
             "minorgridcolor": "white",
             "startlinecolor": "#2a3f5f"
            },
            "type": "carpet"
           }
          ],
          "choropleth": [
           {
            "colorbar": {
             "outlinewidth": 0,
             "ticks": ""
            },
            "type": "choropleth"
           }
          ],
          "contour": [
           {
            "colorbar": {
             "outlinewidth": 0,
             "ticks": ""
            },
            "colorscale": [
             [
              0,
              "#0d0887"
             ],
             [
              0.1111111111111111,
              "#46039f"
             ],
             [
              0.2222222222222222,
              "#7201a8"
             ],
             [
              0.3333333333333333,
              "#9c179e"
             ],
             [
              0.4444444444444444,
              "#bd3786"
             ],
             [
              0.5555555555555556,
              "#d8576b"
             ],
             [
              0.6666666666666666,
              "#ed7953"
             ],
             [
              0.7777777777777778,
              "#fb9f3a"
             ],
             [
              0.8888888888888888,
              "#fdca26"
             ],
             [
              1,
              "#f0f921"
             ]
            ],
            "type": "contour"
           }
          ],
          "contourcarpet": [
           {
            "colorbar": {
             "outlinewidth": 0,
             "ticks": ""
            },
            "type": "contourcarpet"
           }
          ],
          "heatmap": [
           {
            "colorbar": {
             "outlinewidth": 0,
             "ticks": ""
            },
            "colorscale": [
             [
              0,
              "#0d0887"
             ],
             [
              0.1111111111111111,
              "#46039f"
             ],
             [
              0.2222222222222222,
              "#7201a8"
             ],
             [
              0.3333333333333333,
              "#9c179e"
             ],
             [
              0.4444444444444444,
              "#bd3786"
             ],
             [
              0.5555555555555556,
              "#d8576b"
             ],
             [
              0.6666666666666666,
              "#ed7953"
             ],
             [
              0.7777777777777778,
              "#fb9f3a"
             ],
             [
              0.8888888888888888,
              "#fdca26"
             ],
             [
              1,
              "#f0f921"
             ]
            ],
            "type": "heatmap"
           }
          ],
          "histogram": [
           {
            "marker": {
             "pattern": {
              "fillmode": "overlay",
              "size": 10,
              "solidity": 0.2
             }
            },
            "type": "histogram"
           }
          ],
          "histogram2d": [
           {
            "colorbar": {
             "outlinewidth": 0,
             "ticks": ""
            },
            "colorscale": [
             [
              0,
              "#0d0887"
             ],
             [
              0.1111111111111111,
              "#46039f"
             ],
             [
              0.2222222222222222,
              "#7201a8"
             ],
             [
              0.3333333333333333,
              "#9c179e"
             ],
             [
              0.4444444444444444,
              "#bd3786"
             ],
             [
              0.5555555555555556,
              "#d8576b"
             ],
             [
              0.6666666666666666,
              "#ed7953"
             ],
             [
              0.7777777777777778,
              "#fb9f3a"
             ],
             [
              0.8888888888888888,
              "#fdca26"
             ],
             [
              1,
              "#f0f921"
             ]
            ],
            "type": "histogram2d"
           }
          ],
          "histogram2dcontour": [
           {
            "colorbar": {
             "outlinewidth": 0,
             "ticks": ""
            },
            "colorscale": [
             [
              0,
              "#0d0887"
             ],
             [
              0.1111111111111111,
              "#46039f"
             ],
             [
              0.2222222222222222,
              "#7201a8"
             ],
             [
              0.3333333333333333,
              "#9c179e"
             ],
             [
              0.4444444444444444,
              "#bd3786"
             ],
             [
              0.5555555555555556,
              "#d8576b"
             ],
             [
              0.6666666666666666,
              "#ed7953"
             ],
             [
              0.7777777777777778,
              "#fb9f3a"
             ],
             [
              0.8888888888888888,
              "#fdca26"
             ],
             [
              1,
              "#f0f921"
             ]
            ],
            "type": "histogram2dcontour"
           }
          ],
          "mesh3d": [
           {
            "colorbar": {
             "outlinewidth": 0,
             "ticks": ""
            },
            "type": "mesh3d"
           }
          ],
          "parcoords": [
           {
            "line": {
             "colorbar": {
              "outlinewidth": 0,
              "ticks": ""
             }
            },
            "type": "parcoords"
           }
          ],
          "pie": [
           {
            "automargin": true,
            "type": "pie"
           }
          ],
          "scatter": [
           {
            "fillpattern": {
             "fillmode": "overlay",
             "size": 10,
             "solidity": 0.2
            },
            "type": "scatter"
           }
          ],
          "scatter3d": [
           {
            "line": {
             "colorbar": {
              "outlinewidth": 0,
              "ticks": ""
             }
            },
            "marker": {
             "colorbar": {
              "outlinewidth": 0,
              "ticks": ""
             }
            },
            "type": "scatter3d"
           }
          ],
          "scattercarpet": [
           {
            "marker": {
             "colorbar": {
              "outlinewidth": 0,
              "ticks": ""
             }
            },
            "type": "scattercarpet"
           }
          ],
          "scattergeo": [
           {
            "marker": {
             "colorbar": {
              "outlinewidth": 0,
              "ticks": ""
             }
            },
            "type": "scattergeo"
           }
          ],
          "scattergl": [
           {
            "marker": {
             "colorbar": {
              "outlinewidth": 0,
              "ticks": ""
             }
            },
            "type": "scattergl"
           }
          ],
          "scattermap": [
           {
            "marker": {
             "colorbar": {
              "outlinewidth": 0,
              "ticks": ""
             }
            },
            "type": "scattermap"
           }
          ],
          "scattermapbox": [
           {
            "marker": {
             "colorbar": {
              "outlinewidth": 0,
              "ticks": ""
             }
            },
            "type": "scattermapbox"
           }
          ],
          "scatterpolar": [
           {
            "marker": {
             "colorbar": {
              "outlinewidth": 0,
              "ticks": ""
             }
            },
            "type": "scatterpolar"
           }
          ],
          "scatterpolargl": [
           {
            "marker": {
             "colorbar": {
              "outlinewidth": 0,
              "ticks": ""
             }
            },
            "type": "scatterpolargl"
           }
          ],
          "scatterternary": [
           {
            "marker": {
             "colorbar": {
              "outlinewidth": 0,
              "ticks": ""
             }
            },
            "type": "scatterternary"
           }
          ],
          "surface": [
           {
            "colorbar": {
             "outlinewidth": 0,
             "ticks": ""
            },
            "colorscale": [
             [
              0,
              "#0d0887"
             ],
             [
              0.1111111111111111,
              "#46039f"
             ],
             [
              0.2222222222222222,
              "#7201a8"
             ],
             [
              0.3333333333333333,
              "#9c179e"
             ],
             [
              0.4444444444444444,
              "#bd3786"
             ],
             [
              0.5555555555555556,
              "#d8576b"
             ],
             [
              0.6666666666666666,
              "#ed7953"
             ],
             [
              0.7777777777777778,
              "#fb9f3a"
             ],
             [
              0.8888888888888888,
              "#fdca26"
             ],
             [
              1,
              "#f0f921"
             ]
            ],
            "type": "surface"
           }
          ],
          "table": [
           {
            "cells": {
             "fill": {
              "color": "#EBF0F8"
             },
             "line": {
              "color": "white"
             }
            },
            "header": {
             "fill": {
              "color": "#C8D4E3"
             },
             "line": {
              "color": "white"
             }
            },
            "type": "table"
           }
          ]
         },
         "layout": {
          "annotationdefaults": {
           "arrowcolor": "#2a3f5f",
           "arrowhead": 0,
           "arrowwidth": 1
          },
          "autotypenumbers": "strict",
          "coloraxis": {
           "colorbar": {
            "outlinewidth": 0,
            "ticks": ""
           }
          },
          "colorscale": {
           "diverging": [
            [
             0,
             "#8e0152"
            ],
            [
             0.1,
             "#c51b7d"
            ],
            [
             0.2,
             "#de77ae"
            ],
            [
             0.3,
             "#f1b6da"
            ],
            [
             0.4,
             "#fde0ef"
            ],
            [
             0.5,
             "#f7f7f7"
            ],
            [
             0.6,
             "#e6f5d0"
            ],
            [
             0.7,
             "#b8e186"
            ],
            [
             0.8,
             "#7fbc41"
            ],
            [
             0.9,
             "#4d9221"
            ],
            [
             1,
             "#276419"
            ]
           ],
           "sequential": [
            [
             0,
             "#0d0887"
            ],
            [
             0.1111111111111111,
             "#46039f"
            ],
            [
             0.2222222222222222,
             "#7201a8"
            ],
            [
             0.3333333333333333,
             "#9c179e"
            ],
            [
             0.4444444444444444,
             "#bd3786"
            ],
            [
             0.5555555555555556,
             "#d8576b"
            ],
            [
             0.6666666666666666,
             "#ed7953"
            ],
            [
             0.7777777777777778,
             "#fb9f3a"
            ],
            [
             0.8888888888888888,
             "#fdca26"
            ],
            [
             1,
             "#f0f921"
            ]
           ],
           "sequentialminus": [
            [
             0,
             "#0d0887"
            ],
            [
             0.1111111111111111,
             "#46039f"
            ],
            [
             0.2222222222222222,
             "#7201a8"
            ],
            [
             0.3333333333333333,
             "#9c179e"
            ],
            [
             0.4444444444444444,
             "#bd3786"
            ],
            [
             0.5555555555555556,
             "#d8576b"
            ],
            [
             0.6666666666666666,
             "#ed7953"
            ],
            [
             0.7777777777777778,
             "#fb9f3a"
            ],
            [
             0.8888888888888888,
             "#fdca26"
            ],
            [
             1,
             "#f0f921"
            ]
           ]
          },
          "colorway": [
           "#636efa",
           "#EF553B",
           "#00cc96",
           "#ab63fa",
           "#FFA15A",
           "#19d3f3",
           "#FF6692",
           "#B6E880",
           "#FF97FF",
           "#FECB52"
          ],
          "font": {
           "color": "#2a3f5f"
          },
          "geo": {
           "bgcolor": "white",
           "lakecolor": "white",
           "landcolor": "#E5ECF6",
           "showlakes": true,
           "showland": true,
           "subunitcolor": "white"
          },
          "hoverlabel": {
           "align": "left"
          },
          "hovermode": "closest",
          "mapbox": {
           "style": "light"
          },
          "paper_bgcolor": "white",
          "plot_bgcolor": "#E5ECF6",
          "polar": {
           "angularaxis": {
            "gridcolor": "white",
            "linecolor": "white",
            "ticks": ""
           },
           "bgcolor": "#E5ECF6",
           "radialaxis": {
            "gridcolor": "white",
            "linecolor": "white",
            "ticks": ""
           }
          },
          "scene": {
           "xaxis": {
            "backgroundcolor": "#E5ECF6",
            "gridcolor": "white",
            "gridwidth": 2,
            "linecolor": "white",
            "showbackground": true,
            "ticks": "",
            "zerolinecolor": "white"
           },
           "yaxis": {
            "backgroundcolor": "#E5ECF6",
            "gridcolor": "white",
            "gridwidth": 2,
            "linecolor": "white",
            "showbackground": true,
            "ticks": "",
            "zerolinecolor": "white"
           },
           "zaxis": {
            "backgroundcolor": "#E5ECF6",
            "gridcolor": "white",
            "gridwidth": 2,
            "linecolor": "white",
            "showbackground": true,
            "ticks": "",
            "zerolinecolor": "white"
           }
          },
          "shapedefaults": {
           "line": {
            "color": "#2a3f5f"
           }
          },
          "ternary": {
           "aaxis": {
            "gridcolor": "white",
            "linecolor": "white",
            "ticks": ""
           },
           "baxis": {
            "gridcolor": "white",
            "linecolor": "white",
            "ticks": ""
           },
           "bgcolor": "#E5ECF6",
           "caxis": {
            "gridcolor": "white",
            "linecolor": "white",
            "ticks": ""
           }
          },
          "title": {
           "x": 0.05
          },
          "xaxis": {
           "automargin": true,
           "gridcolor": "white",
           "linecolor": "white",
           "ticks": "",
           "title": {
            "standoff": 15
           },
           "zerolinecolor": "white",
           "zerolinewidth": 2
          },
          "yaxis": {
           "automargin": true,
           "gridcolor": "white",
           "linecolor": "white",
           "ticks": "",
           "title": {
            "standoff": 15
           },
           "zerolinecolor": "white",
           "zerolinewidth": 2
          }
         }
        }
       }
      }
     },
     "metadata": {},
     "output_type": "display_data"
    }
   ],
   "source": [
    "# plot the predictions\n",
    "trace_open = go.Scatter(\n",
    "    x = prediction[\"ds\"],\n",
    "    y = prediction[\"yhat\"],\n",
    "    mode = 'lines',\n",
    "    name=\"Forecast\"\n",
    ")\n",
    "trace_high = go.Scatter(\n",
    "    x = prediction[\"ds\"],\n",
    "    y = prediction[\"yhat_upper\"],\n",
    "    mode = 'lines',\n",
    "    fill = \"tonexty\", \n",
    "    line = {\"color\": \"#57b8ff\"}, \n",
    "    name=\"Higher uncertainty interval\"\n",
    ")\n",
    "trace_low = go.Scatter(\n",
    "    x = prediction[\"ds\"],\n",
    "    y = prediction[\"yhat_lower\"],\n",
    "    mode = 'lines',\n",
    "    fill = \"tonexty\", \n",
    "    line = {\"color\": \"#57b8ff\"}, \n",
    "    name=\"Lower uncertainty interval\"\n",
    ")\n",
    "trace_close = go.Scatter(\n",
    "    x = df[\"ds\"],\n",
    "    y = df[\"y\"],\n",
    "    name=\"Data values\"\n",
    ")\n",
    "\n",
    "#make list for all three scattle objects.\n",
    "data = [trace_open,trace_high,trace_low,trace_close]\n",
    "\n",
    "# Construct a new Layout object. \n",
    "\n",
    "#title - It will display string as a title of graph\n",
    "layout = go.Layout(title=\"Power consumption forecasting\")\n",
    "\n",
    "#A list or tuple of trace instances (e.g. [Scatter(…), Bar(…)]) or A single trace instance (e.g. Scatter(…), Bar(…), etc.)\n",
    "#A list or tuple of dicts of string/value properties where: - The ‘type’ property specifies the trace type.\n",
    "\n",
    "fig = go.Figure(data=data)\n",
    "fig.show()"
   ]
  },
  {
   "cell_type": "code",
   "execution_count": 22,
   "id": "cca0d2db",
   "metadata": {},
   "outputs": [
    {
     "data": {
      "application/vnd.plotly.v1+json": {
       "config": {
        "plotlyServerURL": "https://plot.ly"
       },
       "data": [
        {
         "mode": "lines",
         "name": "Actual",
         "type": "scatter",
         "x": [
          "2019-01-02T00:00:00.000000000",
          "2019-01-03T00:00:00.000000000",
          "2019-01-04T00:00:00.000000000",
          "2019-01-05T00:00:00.000000000",
          "2019-01-06T00:00:00.000000000",
          "2019-01-07T00:00:00.000000000",
          "2019-01-08T00:00:00.000000000",
          "2019-01-09T00:00:00.000000000",
          "2019-01-10T00:00:00.000000000",
          "2019-01-11T00:00:00.000000000",
          "2019-01-12T00:00:00.000000000",
          "2019-01-13T00:00:00.000000000",
          "2019-01-14T00:00:00.000000000",
          "2019-01-15T00:00:00.000000000",
          "2019-01-16T00:00:00.000000000",
          "2019-01-17T00:00:00.000000000",
          "2019-01-18T00:00:00.000000000",
          "2019-01-19T00:00:00.000000000",
          "2019-01-20T00:00:00.000000000",
          "2019-01-21T00:00:00.000000000",
          "2019-01-22T00:00:00.000000000",
          "2019-01-23T00:00:00.000000000",
          "2019-01-24T00:00:00.000000000",
          "2019-01-25T00:00:00.000000000",
          "2019-01-26T00:00:00.000000000",
          "2019-01-27T00:00:00.000000000",
          "2019-01-28T00:00:00.000000000",
          "2019-01-29T00:00:00.000000000",
          "2019-01-30T00:00:00.000000000",
          "2019-01-31T00:00:00.000000000",
          "2019-02-02T00:00:00.000000000",
          "2019-02-03T00:00:00.000000000",
          "2019-02-04T00:00:00.000000000",
          "2019-02-05T00:00:00.000000000",
          "2019-02-06T00:00:00.000000000",
          "2019-02-07T00:00:00.000000000",
          "2019-02-08T00:00:00.000000000",
          "2019-02-09T00:00:00.000000000",
          "2019-02-10T00:00:00.000000000",
          "2019-02-11T00:00:00.000000000",
          "2019-02-12T00:00:00.000000000",
          "2019-02-13T00:00:00.000000000",
          "2019-02-14T00:00:00.000000000",
          "2019-02-15T00:00:00.000000000",
          "2019-02-16T00:00:00.000000000",
          "2019-02-17T00:00:00.000000000",
          "2019-02-18T00:00:00.000000000",
          "2019-02-19T00:00:00.000000000",
          "2019-02-20T00:00:00.000000000",
          "2019-02-21T00:00:00.000000000",
          "2019-02-22T00:00:00.000000000",
          "2019-02-23T00:00:00.000000000",
          "2019-02-24T00:00:00.000000000",
          "2019-02-25T00:00:00.000000000",
          "2019-02-26T00:00:00.000000000",
          "2019-02-27T00:00:00.000000000",
          "2019-02-28T00:00:00.000000000",
          "2019-03-02T00:00:00.000000000",
          "2019-03-03T00:00:00.000000000",
          "2019-03-04T00:00:00.000000000",
          "2019-03-05T00:00:00.000000000",
          "2019-03-06T00:00:00.000000000",
          "2019-03-07T00:00:00.000000000",
          "2019-03-08T00:00:00.000000000",
          "2019-03-09T00:00:00.000000000",
          "2019-03-10T00:00:00.000000000",
          "2019-03-11T00:00:00.000000000",
          "2019-03-12T00:00:00.000000000",
          "2019-03-13T00:00:00.000000000",
          "2019-03-14T00:00:00.000000000",
          "2019-03-15T00:00:00.000000000",
          "2019-03-16T00:00:00.000000000",
          "2019-03-17T00:00:00.000000000",
          "2019-03-18T00:00:00.000000000",
          "2019-03-19T00:00:00.000000000",
          "2019-03-20T00:00:00.000000000",
          "2019-03-21T00:00:00.000000000",
          "2019-03-22T00:00:00.000000000",
          "2019-03-23T00:00:00.000000000",
          "2019-03-24T00:00:00.000000000",
          "2019-03-25T00:00:00.000000000",
          "2019-03-26T00:00:00.000000000",
          "2019-03-27T00:00:00.000000000",
          "2019-03-28T00:00:00.000000000",
          "2019-03-29T00:00:00.000000000",
          "2019-03-30T00:00:00.000000000",
          "2019-03-31T00:00:00.000000000",
          "2019-04-02T00:00:00.000000000",
          "2019-04-03T00:00:00.000000000",
          "2019-04-04T00:00:00.000000000",
          "2019-04-05T00:00:00.000000000",
          "2019-04-06T00:00:00.000000000",
          "2019-04-07T00:00:00.000000000",
          "2019-04-08T00:00:00.000000000",
          "2019-04-09T00:00:00.000000000",
          "2019-04-10T00:00:00.000000000",
          "2019-04-11T00:00:00.000000000",
          "2019-04-12T00:00:00.000000000",
          "2019-04-13T00:00:00.000000000",
          "2019-04-14T00:00:00.000000000",
          "2019-04-15T00:00:00.000000000",
          "2019-04-16T00:00:00.000000000",
          "2019-04-17T00:00:00.000000000",
          "2019-04-18T00:00:00.000000000",
          "2019-04-19T00:00:00.000000000",
          "2019-04-20T00:00:00.000000000",
          "2019-04-21T00:00:00.000000000",
          "2019-04-22T00:00:00.000000000",
          "2019-04-23T00:00:00.000000000",
          "2019-04-24T00:00:00.000000000",
          "2019-04-25T00:00:00.000000000",
          "2019-04-26T00:00:00.000000000",
          "2019-04-27T00:00:00.000000000",
          "2019-04-28T00:00:00.000000000",
          "2019-04-29T00:00:00.000000000",
          "2019-04-30T00:00:00.000000000",
          "2019-05-02T00:00:00.000000000",
          "2019-05-03T00:00:00.000000000",
          "2019-05-04T00:00:00.000000000",
          "2019-05-05T00:00:00.000000000",
          "2019-05-06T00:00:00.000000000",
          "2019-05-07T00:00:00.000000000",
          "2019-05-08T00:00:00.000000000",
          "2019-05-09T00:00:00.000000000",
          "2019-05-10T00:00:00.000000000",
          "2019-05-11T00:00:00.000000000",
          "2019-05-12T00:00:00.000000000",
          "2019-05-13T00:00:00.000000000",
          "2019-05-14T00:00:00.000000000",
          "2019-05-15T00:00:00.000000000",
          "2019-05-16T00:00:00.000000000",
          "2019-05-17T00:00:00.000000000",
          "2019-05-18T00:00:00.000000000",
          "2019-05-19T00:00:00.000000000",
          "2019-05-20T00:00:00.000000000",
          "2019-05-21T00:00:00.000000000",
          "2019-05-22T00:00:00.000000000",
          "2019-05-23T00:00:00.000000000",
          "2019-05-24T00:00:00.000000000",
          "2019-05-25T00:00:00.000000000",
          "2019-05-26T00:00:00.000000000",
          "2019-05-27T00:00:00.000000000",
          "2019-05-28T00:00:00.000000000",
          "2019-05-29T00:00:00.000000000",
          "2019-05-30T00:00:00.000000000",
          "2019-05-31T00:00:00.000000000",
          "2019-06-02T00:00:00.000000000",
          "2019-06-03T00:00:00.000000000",
          "2019-06-04T00:00:00.000000000",
          "2019-06-05T00:00:00.000000000",
          "2019-06-06T00:00:00.000000000",
          "2019-06-07T00:00:00.000000000",
          "2019-06-08T00:00:00.000000000",
          "2019-06-09T00:00:00.000000000",
          "2019-06-10T00:00:00.000000000",
          "2019-06-11T00:00:00.000000000",
          "2019-06-12T00:00:00.000000000",
          "2019-06-13T00:00:00.000000000",
          "2019-06-14T00:00:00.000000000",
          "2019-06-15T00:00:00.000000000",
          "2019-06-16T00:00:00.000000000",
          "2019-06-17T00:00:00.000000000",
          "2019-06-18T00:00:00.000000000",
          "2019-06-19T00:00:00.000000000",
          "2019-06-20T00:00:00.000000000",
          "2019-06-21T00:00:00.000000000",
          "2019-06-22T00:00:00.000000000",
          "2019-06-23T00:00:00.000000000",
          "2019-06-24T00:00:00.000000000",
          "2019-06-25T00:00:00.000000000",
          "2019-06-26T00:00:00.000000000",
          "2019-06-27T00:00:00.000000000",
          "2019-06-28T00:00:00.000000000",
          "2019-06-29T00:00:00.000000000",
          "2019-06-30T00:00:00.000000000",
          "2019-07-01T00:00:00.000000000",
          "2019-07-02T00:00:00.000000000",
          "2019-07-03T00:00:00.000000000",
          "2019-07-04T00:00:00.000000000",
          "2019-07-05T00:00:00.000000000",
          "2019-07-06T00:00:00.000000000",
          "2019-07-07T00:00:00.000000000",
          "2019-07-08T00:00:00.000000000",
          "2019-07-09T00:00:00.000000000",
          "2019-07-10T00:00:00.000000000",
          "2019-07-11T00:00:00.000000000",
          "2019-07-12T00:00:00.000000000",
          "2019-07-13T00:00:00.000000000",
          "2019-07-14T00:00:00.000000000",
          "2019-07-15T00:00:00.000000000",
          "2019-07-16T00:00:00.000000000",
          "2019-07-17T00:00:00.000000000",
          "2019-07-18T00:00:00.000000000",
          "2019-07-19T00:00:00.000000000",
          "2019-07-20T00:00:00.000000000",
          "2019-07-21T00:00:00.000000000",
          "2019-07-22T00:00:00.000000000",
          "2019-07-23T00:00:00.000000000",
          "2019-07-24T00:00:00.000000000",
          "2019-07-25T00:00:00.000000000",
          "2019-07-26T00:00:00.000000000",
          "2019-07-27T00:00:00.000000000",
          "2019-07-28T00:00:00.000000000",
          "2019-07-29T00:00:00.000000000",
          "2019-07-30T00:00:00.000000000",
          "2019-07-31T00:00:00.000000000",
          "2019-08-01T00:00:00.000000000",
          "2019-08-02T00:00:00.000000000",
          "2019-08-03T00:00:00.000000000",
          "2019-08-04T00:00:00.000000000",
          "2019-08-05T00:00:00.000000000",
          "2019-08-06T00:00:00.000000000",
          "2019-08-08T00:00:00.000000000",
          "2019-08-09T00:00:00.000000000",
          "2019-08-10T00:00:00.000000000",
          "2019-08-11T00:00:00.000000000",
          "2019-08-12T00:00:00.000000000",
          "2019-08-13T00:00:00.000000000",
          "2019-08-14T00:00:00.000000000",
          "2019-08-15T00:00:00.000000000",
          "2019-08-16T00:00:00.000000000",
          "2019-08-17T00:00:00.000000000",
          "2019-08-18T00:00:00.000000000",
          "2019-08-19T00:00:00.000000000",
          "2019-08-20T00:00:00.000000000",
          "2019-08-21T00:00:00.000000000",
          "2019-08-22T00:00:00.000000000",
          "2019-08-23T00:00:00.000000000",
          "2019-08-24T00:00:00.000000000",
          "2019-08-25T00:00:00.000000000",
          "2019-08-26T00:00:00.000000000",
          "2019-08-27T00:00:00.000000000",
          "2019-08-28T00:00:00.000000000",
          "2019-08-29T00:00:00.000000000",
          "2019-08-30T00:00:00.000000000",
          "2019-08-31T00:00:00.000000000",
          "2019-09-01T00:00:00.000000000",
          "2019-09-02T00:00:00.000000000",
          "2019-09-03T00:00:00.000000000",
          "2019-09-04T00:00:00.000000000",
          "2019-09-05T00:00:00.000000000",
          "2019-09-06T00:00:00.000000000",
          "2019-09-08T00:00:00.000000000",
          "2019-09-09T00:00:00.000000000",
          "2019-09-10T00:00:00.000000000",
          "2019-09-11T00:00:00.000000000",
          "2019-09-12T00:00:00.000000000",
          "2019-09-13T00:00:00.000000000",
          "2019-09-14T00:00:00.000000000",
          "2019-09-15T00:00:00.000000000",
          "2019-09-16T00:00:00.000000000",
          "2019-09-17T00:00:00.000000000",
          "2019-09-18T00:00:00.000000000",
          "2019-09-19T00:00:00.000000000",
          "2019-09-20T00:00:00.000000000",
          "2019-09-21T00:00:00.000000000",
          "2019-09-22T00:00:00.000000000",
          "2019-09-23T00:00:00.000000000",
          "2019-09-24T00:00:00.000000000",
          "2019-09-25T00:00:00.000000000",
          "2019-09-26T00:00:00.000000000",
          "2019-09-27T00:00:00.000000000",
          "2019-09-28T00:00:00.000000000",
          "2019-09-29T00:00:00.000000000",
          "2019-09-30T00:00:00.000000000",
          "2019-10-01T00:00:00.000000000",
          "2019-10-02T00:00:00.000000000",
          "2019-10-03T00:00:00.000000000",
          "2019-10-04T00:00:00.000000000",
          "2019-10-05T00:00:00.000000000",
          "2019-10-06T00:00:00.000000000",
          "2019-10-08T00:00:00.000000000",
          "2019-10-09T00:00:00.000000000",
          "2019-10-10T00:00:00.000000000",
          "2019-10-11T00:00:00.000000000",
          "2019-10-12T00:00:00.000000000",
          "2019-10-13T00:00:00.000000000",
          "2019-10-14T00:00:00.000000000",
          "2019-10-15T00:00:00.000000000",
          "2019-10-16T00:00:00.000000000",
          "2019-10-17T00:00:00.000000000",
          "2019-10-18T00:00:00.000000000",
          "2019-10-19T00:00:00.000000000",
          "2019-10-20T00:00:00.000000000",
          "2019-10-21T00:00:00.000000000",
          "2019-10-22T00:00:00.000000000",
          "2019-10-23T00:00:00.000000000",
          "2019-10-24T00:00:00.000000000",
          "2019-10-25T00:00:00.000000000",
          "2019-10-26T00:00:00.000000000",
          "2019-10-27T00:00:00.000000000",
          "2019-10-28T00:00:00.000000000",
          "2019-10-29T00:00:00.000000000",
          "2019-10-30T00:00:00.000000000",
          "2019-10-31T00:00:00.000000000",
          "2019-11-01T00:00:00.000000000",
          "2019-11-02T00:00:00.000000000",
          "2019-11-03T00:00:00.000000000",
          "2019-11-04T00:00:00.000000000",
          "2019-11-05T00:00:00.000000000",
          "2019-11-06T00:00:00.000000000",
          "2019-11-08T00:00:00.000000000",
          "2019-11-09T00:00:00.000000000",
          "2019-11-10T00:00:00.000000000",
          "2019-11-11T00:00:00.000000000",
          "2019-11-12T00:00:00.000000000",
          "2019-11-13T00:00:00.000000000",
          "2019-11-14T00:00:00.000000000",
          "2019-11-15T00:00:00.000000000",
          "2019-11-16T00:00:00.000000000",
          "2019-11-17T00:00:00.000000000",
          "2019-11-18T00:00:00.000000000",
          "2019-11-19T00:00:00.000000000",
          "2019-11-20T00:00:00.000000000",
          "2019-11-21T00:00:00.000000000",
          "2019-11-22T00:00:00.000000000",
          "2019-11-23T00:00:00.000000000",
          "2019-11-24T00:00:00.000000000",
          "2019-11-25T00:00:00.000000000",
          "2019-11-26T00:00:00.000000000",
          "2019-11-27T00:00:00.000000000",
          "2019-11-28T00:00:00.000000000",
          "2019-11-29T00:00:00.000000000",
          "2019-11-30T00:00:00.000000000",
          "2019-12-01T00:00:00.000000000",
          "2019-12-02T00:00:00.000000000",
          "2019-12-03T00:00:00.000000000",
          "2019-12-04T00:00:00.000000000",
          "2019-12-05T00:00:00.000000000",
          "2019-12-06T00:00:00.000000000",
          "2019-12-08T00:00:00.000000000",
          "2019-12-09T00:00:00.000000000",
          "2019-12-10T00:00:00.000000000",
          "2019-12-11T00:00:00.000000000",
          "2019-12-12T00:00:00.000000000",
          "2019-12-13T00:00:00.000000000",
          "2019-12-14T00:00:00.000000000",
          "2019-12-15T00:00:00.000000000",
          "2019-12-16T00:00:00.000000000",
          "2019-12-17T00:00:00.000000000",
          "2019-12-18T00:00:00.000000000",
          "2019-12-19T00:00:00.000000000",
          "2019-12-20T00:00:00.000000000",
          "2019-12-21T00:00:00.000000000",
          "2019-12-22T00:00:00.000000000",
          "2019-12-23T00:00:00.000000000",
          "2019-12-24T00:00:00.000000000",
          "2019-12-25T00:00:00.000000000",
          "2019-12-26T00:00:00.000000000",
          "2019-12-27T00:00:00.000000000",
          "2019-12-28T00:00:00.000000000",
          "2019-12-29T00:00:00.000000000",
          "2019-12-30T00:00:00.000000000",
          "2019-12-31T00:00:00.000000000",
          "2020-01-01T00:00:00.000000000",
          "2020-01-02T00:00:00.000000000",
          "2020-01-03T00:00:00.000000000",
          "2020-01-04T00:00:00.000000000",
          "2020-01-05T00:00:00.000000000",
          "2020-01-13T00:00:00.000000000",
          "2020-01-14T00:00:00.000000000",
          "2020-01-15T00:00:00.000000000",
          "2020-01-16T00:00:00.000000000",
          "2020-01-17T00:00:00.000000000",
          "2020-01-18T00:00:00.000000000",
          "2020-01-19T00:00:00.000000000",
          "2020-01-20T00:00:00.000000000",
          "2020-01-21T00:00:00.000000000",
          "2020-01-22T00:00:00.000000000",
          "2020-01-23T00:00:00.000000000",
          "2020-01-24T00:00:00.000000000",
          "2020-01-25T00:00:00.000000000",
          "2020-01-26T00:00:00.000000000",
          "2020-01-27T00:00:00.000000000",
          "2020-01-28T00:00:00.000000000",
          "2020-01-29T00:00:00.000000000",
          "2020-01-30T00:00:00.000000000",
          "2020-01-31T00:00:00.000000000",
          "2020-02-01T00:00:00.000000000",
          "2020-02-02T00:00:00.000000000",
          "2020-02-03T00:00:00.000000000",
          "2020-02-04T00:00:00.000000000",
          "2020-02-05T00:00:00.000000000",
          "2020-02-13T00:00:00.000000000",
          "2020-02-14T00:00:00.000000000",
          "2020-02-15T00:00:00.000000000",
          "2020-02-16T00:00:00.000000000",
          "2020-02-17T00:00:00.000000000",
          "2020-02-18T00:00:00.000000000",
          "2020-02-19T00:00:00.000000000",
          "2020-02-20T00:00:00.000000000",
          "2020-02-21T00:00:00.000000000",
          "2020-02-22T00:00:00.000000000",
          "2020-02-23T00:00:00.000000000",
          "2020-02-24T00:00:00.000000000",
          "2020-02-25T00:00:00.000000000",
          "2020-02-26T00:00:00.000000000",
          "2020-02-27T00:00:00.000000000",
          "2020-02-28T00:00:00.000000000",
          "2020-02-29T00:00:00.000000000",
          "2020-03-01T00:00:00.000000000",
          "2020-03-02T00:00:00.000000000",
          "2020-03-03T00:00:00.000000000",
          "2020-03-04T00:00:00.000000000",
          "2020-03-05T00:00:00.000000000",
          "2020-03-13T00:00:00.000000000",
          "2020-03-14T00:00:00.000000000",
          "2020-03-15T00:00:00.000000000",
          "2020-03-16T00:00:00.000000000",
          "2020-03-17T00:00:00.000000000",
          "2020-03-18T00:00:00.000000000",
          "2020-03-19T00:00:00.000000000",
          "2020-03-20T00:00:00.000000000",
          "2020-03-21T00:00:00.000000000",
          "2020-03-22T00:00:00.000000000",
          "2020-03-23T00:00:00.000000000",
          "2020-03-24T00:00:00.000000000",
          "2020-03-25T00:00:00.000000000",
          "2020-03-26T00:00:00.000000000",
          "2020-03-27T00:00:00.000000000",
          "2020-03-28T00:00:00.000000000",
          "2020-03-29T00:00:00.000000000",
          "2020-03-30T00:00:00.000000000",
          "2020-03-31T00:00:00.000000000",
          "2020-04-01T00:00:00.000000000",
          "2020-04-02T00:00:00.000000000",
          "2020-04-03T00:00:00.000000000",
          "2020-04-04T00:00:00.000000000",
          "2020-04-05T00:00:00.000000000",
          "2020-04-13T00:00:00.000000000",
          "2020-04-14T00:00:00.000000000",
          "2020-04-15T00:00:00.000000000",
          "2020-04-16T00:00:00.000000000",
          "2020-04-17T00:00:00.000000000",
          "2020-04-18T00:00:00.000000000",
          "2020-04-19T00:00:00.000000000",
          "2020-04-20T00:00:00.000000000",
          "2020-04-21T00:00:00.000000000",
          "2020-04-22T00:00:00.000000000",
          "2020-04-23T00:00:00.000000000",
          "2020-04-24T00:00:00.000000000",
          "2020-04-25T00:00:00.000000000",
          "2020-04-26T00:00:00.000000000",
          "2020-04-27T00:00:00.000000000",
          "2020-04-28T00:00:00.000000000",
          "2020-04-29T00:00:00.000000000",
          "2020-04-30T00:00:00.000000000",
          "2020-05-01T00:00:00.000000000",
          "2020-05-02T00:00:00.000000000",
          "2020-05-03T00:00:00.000000000",
          "2020-05-04T00:00:00.000000000",
          "2020-05-05T00:00:00.000000000",
          "2020-05-13T00:00:00.000000000",
          "2020-05-14T00:00:00.000000000",
          "2020-05-15T00:00:00.000000000",
          "2020-05-16T00:00:00.000000000",
          "2020-05-17T00:00:00.000000000",
          "2020-05-18T00:00:00.000000000",
          "2020-05-19T00:00:00.000000000",
          "2020-05-20T00:00:00.000000000",
          "2020-05-21T00:00:00.000000000",
          "2020-05-22T00:00:00.000000000",
          "2020-05-23T00:00:00.000000000",
          "2020-06-01T00:00:00.000000000",
          "2020-06-02T00:00:00.000000000",
          "2020-06-03T00:00:00.000000000",
          "2020-06-04T00:00:00.000000000",
          "2020-06-05T00:00:00.000000000",
          "2020-07-01T00:00:00.000000000",
          "2020-07-02T00:00:00.000000000",
          "2020-07-03T00:00:00.000000000",
          "2020-07-04T00:00:00.000000000",
          "2020-07-05T00:00:00.000000000",
          "2020-08-01T00:00:00.000000000",
          "2020-08-02T00:00:00.000000000",
          "2020-08-03T00:00:00.000000000",
          "2020-08-04T00:00:00.000000000",
          "2020-08-05T00:00:00.000000000",
          "2020-09-01T00:00:00.000000000",
          "2020-09-02T00:00:00.000000000",
          "2020-09-03T00:00:00.000000000",
          "2020-09-04T00:00:00.000000000",
          "2020-09-05T00:00:00.000000000",
          "2020-10-01T00:00:00.000000000",
          "2020-10-02T00:00:00.000000000",
          "2020-10-03T00:00:00.000000000",
          "2020-10-04T00:00:00.000000000",
          "2020-10-05T00:00:00.000000000",
          "2020-11-01T00:00:00.000000000",
          "2020-11-02T00:00:00.000000000",
          "2020-11-03T00:00:00.000000000",
          "2020-11-04T00:00:00.000000000",
          "2020-11-05T00:00:00.000000000",
          "2020-12-01T00:00:00.000000000",
          "2020-12-02T00:00:00.000000000",
          "2020-12-03T00:00:00.000000000",
          "2020-12-04T00:00:00.000000000",
          "2020-12-05T00:00:00.000000000"
         ],
         "y": {
          "bdata": "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",
          "dtype": "f8"
         }
        },
        {
         "mode": "lines+markers",
         "name": "predicted",
         "type": "scatter",
         "x": [
          "2019-01-02T00:00:00.000000000",
          "2019-01-03T00:00:00.000000000",
          "2019-01-04T00:00:00.000000000",
          "2019-01-05T00:00:00.000000000",
          "2019-01-06T00:00:00.000000000",
          "2019-01-07T00:00:00.000000000",
          "2019-01-08T00:00:00.000000000",
          "2019-01-09T00:00:00.000000000",
          "2019-01-10T00:00:00.000000000",
          "2019-01-11T00:00:00.000000000",
          "2019-01-12T00:00:00.000000000",
          "2019-01-13T00:00:00.000000000",
          "2019-01-14T00:00:00.000000000",
          "2019-01-15T00:00:00.000000000",
          "2019-01-16T00:00:00.000000000",
          "2019-01-17T00:00:00.000000000",
          "2019-01-18T00:00:00.000000000",
          "2019-01-19T00:00:00.000000000",
          "2019-01-20T00:00:00.000000000",
          "2019-01-21T00:00:00.000000000",
          "2019-01-22T00:00:00.000000000",
          "2019-01-23T00:00:00.000000000",
          "2019-01-24T00:00:00.000000000",
          "2019-01-25T00:00:00.000000000",
          "2019-01-26T00:00:00.000000000",
          "2019-01-27T00:00:00.000000000",
          "2019-01-28T00:00:00.000000000",
          "2019-01-29T00:00:00.000000000",
          "2019-01-30T00:00:00.000000000",
          "2019-01-31T00:00:00.000000000",
          "2019-02-02T00:00:00.000000000",
          "2019-02-03T00:00:00.000000000",
          "2019-02-04T00:00:00.000000000",
          "2019-02-05T00:00:00.000000000",
          "2019-02-06T00:00:00.000000000",
          "2019-02-07T00:00:00.000000000",
          "2019-02-08T00:00:00.000000000",
          "2019-02-09T00:00:00.000000000",
          "2019-02-10T00:00:00.000000000",
          "2019-02-11T00:00:00.000000000",
          "2019-02-12T00:00:00.000000000",
          "2019-02-13T00:00:00.000000000",
          "2019-02-14T00:00:00.000000000",
          "2019-02-15T00:00:00.000000000",
          "2019-02-16T00:00:00.000000000",
          "2019-02-17T00:00:00.000000000",
          "2019-02-18T00:00:00.000000000",
          "2019-02-19T00:00:00.000000000",
          "2019-02-20T00:00:00.000000000",
          "2019-02-21T00:00:00.000000000",
          "2019-02-22T00:00:00.000000000",
          "2019-02-23T00:00:00.000000000",
          "2019-02-24T00:00:00.000000000",
          "2019-02-25T00:00:00.000000000",
          "2019-02-26T00:00:00.000000000",
          "2019-02-27T00:00:00.000000000",
          "2019-02-28T00:00:00.000000000",
          "2019-03-02T00:00:00.000000000",
          "2019-03-03T00:00:00.000000000",
          "2019-03-04T00:00:00.000000000",
          "2019-03-05T00:00:00.000000000",
          "2019-03-06T00:00:00.000000000",
          "2019-03-07T00:00:00.000000000",
          "2019-03-08T00:00:00.000000000",
          "2019-03-09T00:00:00.000000000",
          "2019-03-10T00:00:00.000000000",
          "2019-03-11T00:00:00.000000000",
          "2019-03-12T00:00:00.000000000",
          "2019-03-13T00:00:00.000000000",
          "2019-03-14T00:00:00.000000000",
          "2019-03-15T00:00:00.000000000",
          "2019-03-16T00:00:00.000000000",
          "2019-03-17T00:00:00.000000000",
          "2019-03-18T00:00:00.000000000",
          "2019-03-19T00:00:00.000000000",
          "2019-03-20T00:00:00.000000000",
          "2019-03-21T00:00:00.000000000",
          "2019-03-22T00:00:00.000000000",
          "2019-03-23T00:00:00.000000000",
          "2019-03-24T00:00:00.000000000",
          "2019-03-25T00:00:00.000000000",
          "2019-03-26T00:00:00.000000000",
          "2019-03-27T00:00:00.000000000",
          "2019-03-28T00:00:00.000000000",
          "2019-03-29T00:00:00.000000000",
          "2019-03-30T00:00:00.000000000",
          "2019-03-31T00:00:00.000000000",
          "2019-04-02T00:00:00.000000000",
          "2019-04-03T00:00:00.000000000",
          "2019-04-04T00:00:00.000000000",
          "2019-04-05T00:00:00.000000000",
          "2019-04-06T00:00:00.000000000",
          "2019-04-07T00:00:00.000000000",
          "2019-04-08T00:00:00.000000000",
          "2019-04-09T00:00:00.000000000",
          "2019-04-10T00:00:00.000000000",
          "2019-04-11T00:00:00.000000000",
          "2019-04-12T00:00:00.000000000",
          "2019-04-13T00:00:00.000000000",
          "2019-04-14T00:00:00.000000000",
          "2019-04-15T00:00:00.000000000",
          "2019-04-16T00:00:00.000000000",
          "2019-04-17T00:00:00.000000000",
          "2019-04-18T00:00:00.000000000",
          "2019-04-19T00:00:00.000000000",
          "2019-04-20T00:00:00.000000000",
          "2019-04-21T00:00:00.000000000",
          "2019-04-22T00:00:00.000000000",
          "2019-04-23T00:00:00.000000000",
          "2019-04-24T00:00:00.000000000",
          "2019-04-25T00:00:00.000000000",
          "2019-04-26T00:00:00.000000000",
          "2019-04-27T00:00:00.000000000",
          "2019-04-28T00:00:00.000000000",
          "2019-04-29T00:00:00.000000000",
          "2019-04-30T00:00:00.000000000",
          "2019-05-02T00:00:00.000000000",
          "2019-05-03T00:00:00.000000000",
          "2019-05-04T00:00:00.000000000",
          "2019-05-05T00:00:00.000000000",
          "2019-05-06T00:00:00.000000000",
          "2019-05-07T00:00:00.000000000",
          "2019-05-08T00:00:00.000000000",
          "2019-05-09T00:00:00.000000000",
          "2019-05-10T00:00:00.000000000",
          "2019-05-11T00:00:00.000000000",
          "2019-05-12T00:00:00.000000000",
          "2019-05-13T00:00:00.000000000",
          "2019-05-14T00:00:00.000000000",
          "2019-05-15T00:00:00.000000000",
          "2019-05-16T00:00:00.000000000",
          "2019-05-17T00:00:00.000000000",
          "2019-05-18T00:00:00.000000000",
          "2019-05-19T00:00:00.000000000",
          "2019-05-20T00:00:00.000000000",
          "2019-05-21T00:00:00.000000000",
          "2019-05-22T00:00:00.000000000",
          "2019-05-23T00:00:00.000000000",
          "2019-05-24T00:00:00.000000000",
          "2019-05-25T00:00:00.000000000",
          "2019-05-26T00:00:00.000000000",
          "2019-05-27T00:00:00.000000000",
          "2019-05-28T00:00:00.000000000",
          "2019-05-29T00:00:00.000000000",
          "2019-05-30T00:00:00.000000000",
          "2019-05-31T00:00:00.000000000",
          "2019-06-02T00:00:00.000000000",
          "2019-06-03T00:00:00.000000000",
          "2019-06-04T00:00:00.000000000",
          "2019-06-05T00:00:00.000000000",
          "2019-06-06T00:00:00.000000000",
          "2019-06-07T00:00:00.000000000",
          "2019-06-08T00:00:00.000000000",
          "2019-06-09T00:00:00.000000000",
          "2019-06-10T00:00:00.000000000",
          "2019-06-11T00:00:00.000000000",
          "2019-06-12T00:00:00.000000000",
          "2019-06-13T00:00:00.000000000",
          "2019-06-14T00:00:00.000000000",
          "2019-06-15T00:00:00.000000000",
          "2019-06-16T00:00:00.000000000",
          "2019-06-17T00:00:00.000000000",
          "2019-06-18T00:00:00.000000000",
          "2019-06-19T00:00:00.000000000",
          "2019-06-20T00:00:00.000000000",
          "2019-06-21T00:00:00.000000000",
          "2019-06-22T00:00:00.000000000",
          "2019-06-23T00:00:00.000000000",
          "2019-06-24T00:00:00.000000000",
          "2019-06-25T00:00:00.000000000",
          "2019-06-26T00:00:00.000000000",
          "2019-06-27T00:00:00.000000000",
          "2019-06-28T00:00:00.000000000",
          "2019-06-29T00:00:00.000000000",
          "2019-06-30T00:00:00.000000000",
          "2019-07-01T00:00:00.000000000",
          "2019-07-02T00:00:00.000000000",
          "2019-07-03T00:00:00.000000000",
          "2019-07-04T00:00:00.000000000",
          "2019-07-05T00:00:00.000000000",
          "2019-07-06T00:00:00.000000000",
          "2019-07-07T00:00:00.000000000",
          "2019-07-08T00:00:00.000000000",
          "2019-07-09T00:00:00.000000000",
          "2019-07-10T00:00:00.000000000",
          "2019-07-11T00:00:00.000000000",
          "2019-07-12T00:00:00.000000000",
          "2019-07-13T00:00:00.000000000",
          "2019-07-14T00:00:00.000000000",
          "2019-07-15T00:00:00.000000000",
          "2019-07-16T00:00:00.000000000",
          "2019-07-17T00:00:00.000000000",
          "2019-07-18T00:00:00.000000000",
          "2019-07-19T00:00:00.000000000",
          "2019-07-20T00:00:00.000000000",
          "2019-07-21T00:00:00.000000000",
          "2019-07-22T00:00:00.000000000",
          "2019-07-23T00:00:00.000000000",
          "2019-07-24T00:00:00.000000000",
          "2019-07-25T00:00:00.000000000",
          "2019-07-26T00:00:00.000000000",
          "2019-07-27T00:00:00.000000000",
          "2019-07-28T00:00:00.000000000",
          "2019-07-29T00:00:00.000000000",
          "2019-07-30T00:00:00.000000000",
          "2019-07-31T00:00:00.000000000",
          "2019-08-01T00:00:00.000000000",
          "2019-08-02T00:00:00.000000000",
          "2019-08-03T00:00:00.000000000",
          "2019-08-04T00:00:00.000000000",
          "2019-08-05T00:00:00.000000000",
          "2019-08-06T00:00:00.000000000",
          "2019-08-08T00:00:00.000000000",
          "2019-08-09T00:00:00.000000000",
          "2019-08-10T00:00:00.000000000",
          "2019-08-11T00:00:00.000000000",
          "2019-08-12T00:00:00.000000000",
          "2019-08-13T00:00:00.000000000",
          "2019-08-14T00:00:00.000000000",
          "2019-08-15T00:00:00.000000000",
          "2019-08-16T00:00:00.000000000",
          "2019-08-17T00:00:00.000000000",
          "2019-08-18T00:00:00.000000000",
          "2019-08-19T00:00:00.000000000",
          "2019-08-20T00:00:00.000000000",
          "2019-08-21T00:00:00.000000000",
          "2019-08-22T00:00:00.000000000",
          "2019-08-23T00:00:00.000000000",
          "2019-08-24T00:00:00.000000000",
          "2019-08-25T00:00:00.000000000",
          "2019-08-26T00:00:00.000000000",
          "2019-08-27T00:00:00.000000000",
          "2019-08-28T00:00:00.000000000",
          "2019-08-29T00:00:00.000000000",
          "2019-08-30T00:00:00.000000000",
          "2019-08-31T00:00:00.000000000",
          "2019-09-01T00:00:00.000000000",
          "2019-09-02T00:00:00.000000000",
          "2019-09-03T00:00:00.000000000",
          "2019-09-04T00:00:00.000000000",
          "2019-09-05T00:00:00.000000000",
          "2019-09-06T00:00:00.000000000",
          "2019-09-08T00:00:00.000000000",
          "2019-09-09T00:00:00.000000000",
          "2019-09-10T00:00:00.000000000",
          "2019-09-11T00:00:00.000000000",
          "2019-09-12T00:00:00.000000000",
          "2019-09-13T00:00:00.000000000",
          "2019-09-14T00:00:00.000000000",
          "2019-09-15T00:00:00.000000000",
          "2019-09-16T00:00:00.000000000",
          "2019-09-17T00:00:00.000000000",
          "2019-09-18T00:00:00.000000000",
          "2019-09-19T00:00:00.000000000",
          "2019-09-20T00:00:00.000000000",
          "2019-09-21T00:00:00.000000000",
          "2019-09-22T00:00:00.000000000",
          "2019-09-23T00:00:00.000000000",
          "2019-09-24T00:00:00.000000000",
          "2019-09-25T00:00:00.000000000",
          "2019-09-26T00:00:00.000000000",
          "2019-09-27T00:00:00.000000000",
          "2019-09-28T00:00:00.000000000",
          "2019-09-29T00:00:00.000000000",
          "2019-09-30T00:00:00.000000000",
          "2019-10-01T00:00:00.000000000",
          "2019-10-02T00:00:00.000000000",
          "2019-10-03T00:00:00.000000000",
          "2019-10-04T00:00:00.000000000",
          "2019-10-05T00:00:00.000000000",
          "2019-10-06T00:00:00.000000000",
          "2019-10-08T00:00:00.000000000",
          "2019-10-09T00:00:00.000000000",
          "2019-10-10T00:00:00.000000000",
          "2019-10-11T00:00:00.000000000",
          "2019-10-12T00:00:00.000000000",
          "2019-10-13T00:00:00.000000000",
          "2019-10-14T00:00:00.000000000",
          "2019-10-15T00:00:00.000000000",
          "2019-10-16T00:00:00.000000000",
          "2019-10-17T00:00:00.000000000",
          "2019-10-18T00:00:00.000000000",
          "2019-10-19T00:00:00.000000000",
          "2019-10-20T00:00:00.000000000",
          "2019-10-21T00:00:00.000000000",
          "2019-10-22T00:00:00.000000000",
          "2019-10-23T00:00:00.000000000",
          "2019-10-24T00:00:00.000000000",
          "2019-10-25T00:00:00.000000000",
          "2019-10-26T00:00:00.000000000",
          "2019-10-27T00:00:00.000000000",
          "2019-10-28T00:00:00.000000000",
          "2019-10-29T00:00:00.000000000",
          "2019-10-30T00:00:00.000000000",
          "2019-10-31T00:00:00.000000000",
          "2019-11-01T00:00:00.000000000",
          "2019-11-02T00:00:00.000000000",
          "2019-11-03T00:00:00.000000000",
          "2019-11-04T00:00:00.000000000",
          "2019-11-05T00:00:00.000000000",
          "2019-11-06T00:00:00.000000000",
          "2019-11-08T00:00:00.000000000",
          "2019-11-09T00:00:00.000000000",
          "2019-11-10T00:00:00.000000000",
          "2019-11-11T00:00:00.000000000",
          "2019-11-12T00:00:00.000000000",
          "2019-11-13T00:00:00.000000000",
          "2019-11-14T00:00:00.000000000",
          "2019-11-15T00:00:00.000000000",
          "2019-11-16T00:00:00.000000000",
          "2019-11-17T00:00:00.000000000",
          "2019-11-18T00:00:00.000000000",
          "2019-11-19T00:00:00.000000000",
          "2019-11-20T00:00:00.000000000",
          "2019-11-21T00:00:00.000000000",
          "2019-11-22T00:00:00.000000000",
          "2019-11-23T00:00:00.000000000",
          "2019-11-24T00:00:00.000000000",
          "2019-11-25T00:00:00.000000000",
          "2019-11-26T00:00:00.000000000",
          "2019-11-27T00:00:00.000000000",
          "2019-11-28T00:00:00.000000000",
          "2019-11-29T00:00:00.000000000",
          "2019-11-30T00:00:00.000000000",
          "2019-12-01T00:00:00.000000000",
          "2019-12-02T00:00:00.000000000",
          "2019-12-03T00:00:00.000000000",
          "2019-12-04T00:00:00.000000000",
          "2019-12-05T00:00:00.000000000",
          "2019-12-06T00:00:00.000000000",
          "2019-12-08T00:00:00.000000000",
          "2019-12-09T00:00:00.000000000",
          "2019-12-10T00:00:00.000000000",
          "2019-12-11T00:00:00.000000000",
          "2019-12-12T00:00:00.000000000",
          "2019-12-13T00:00:00.000000000",
          "2019-12-14T00:00:00.000000000",
          "2019-12-15T00:00:00.000000000",
          "2019-12-16T00:00:00.000000000",
          "2019-12-17T00:00:00.000000000",
          "2019-12-18T00:00:00.000000000",
          "2019-12-19T00:00:00.000000000",
          "2019-12-20T00:00:00.000000000",
          "2019-12-21T00:00:00.000000000",
          "2019-12-22T00:00:00.000000000",
          "2019-12-23T00:00:00.000000000",
          "2019-12-24T00:00:00.000000000",
          "2019-12-25T00:00:00.000000000",
          "2019-12-26T00:00:00.000000000",
          "2019-12-27T00:00:00.000000000",
          "2019-12-28T00:00:00.000000000",
          "2019-12-29T00:00:00.000000000",
          "2019-12-30T00:00:00.000000000",
          "2019-12-31T00:00:00.000000000",
          "2020-01-01T00:00:00.000000000",
          "2020-01-02T00:00:00.000000000",
          "2020-01-03T00:00:00.000000000",
          "2020-01-04T00:00:00.000000000",
          "2020-01-05T00:00:00.000000000",
          "2020-01-13T00:00:00.000000000",
          "2020-01-14T00:00:00.000000000",
          "2020-01-15T00:00:00.000000000",
          "2020-01-16T00:00:00.000000000",
          "2020-01-17T00:00:00.000000000",
          "2020-01-18T00:00:00.000000000",
          "2020-01-19T00:00:00.000000000",
          "2020-01-20T00:00:00.000000000",
          "2020-01-21T00:00:00.000000000",
          "2020-01-22T00:00:00.000000000",
          "2020-01-23T00:00:00.000000000",
          "2020-01-24T00:00:00.000000000",
          "2020-01-25T00:00:00.000000000",
          "2020-01-26T00:00:00.000000000",
          "2020-01-27T00:00:00.000000000",
          "2020-01-28T00:00:00.000000000",
          "2020-01-29T00:00:00.000000000",
          "2020-01-30T00:00:00.000000000",
          "2020-01-31T00:00:00.000000000",
          "2020-02-01T00:00:00.000000000",
          "2020-02-02T00:00:00.000000000",
          "2020-02-03T00:00:00.000000000",
          "2020-02-04T00:00:00.000000000",
          "2020-02-05T00:00:00.000000000",
          "2020-02-13T00:00:00.000000000",
          "2020-02-14T00:00:00.000000000",
          "2020-02-15T00:00:00.000000000",
          "2020-02-16T00:00:00.000000000",
          "2020-02-17T00:00:00.000000000",
          "2020-02-18T00:00:00.000000000",
          "2020-02-19T00:00:00.000000000",
          "2020-02-20T00:00:00.000000000",
          "2020-02-21T00:00:00.000000000",
          "2020-02-22T00:00:00.000000000",
          "2020-02-23T00:00:00.000000000",
          "2020-02-24T00:00:00.000000000",
          "2020-02-25T00:00:00.000000000",
          "2020-02-26T00:00:00.000000000",
          "2020-02-27T00:00:00.000000000",
          "2020-02-28T00:00:00.000000000",
          "2020-02-29T00:00:00.000000000",
          "2020-03-01T00:00:00.000000000",
          "2020-03-02T00:00:00.000000000",
          "2020-03-03T00:00:00.000000000",
          "2020-03-04T00:00:00.000000000",
          "2020-03-05T00:00:00.000000000",
          "2020-03-13T00:00:00.000000000",
          "2020-03-14T00:00:00.000000000",
          "2020-03-15T00:00:00.000000000",
          "2020-03-16T00:00:00.000000000",
          "2020-03-17T00:00:00.000000000",
          "2020-03-18T00:00:00.000000000",
          "2020-03-19T00:00:00.000000000",
          "2020-03-20T00:00:00.000000000",
          "2020-03-21T00:00:00.000000000",
          "2020-03-22T00:00:00.000000000",
          "2020-03-23T00:00:00.000000000",
          "2020-03-24T00:00:00.000000000",
          "2020-03-25T00:00:00.000000000",
          "2020-03-26T00:00:00.000000000",
          "2020-03-27T00:00:00.000000000",
          "2020-03-28T00:00:00.000000000",
          "2020-03-29T00:00:00.000000000",
          "2020-03-30T00:00:00.000000000",
          "2020-03-31T00:00:00.000000000",
          "2020-04-01T00:00:00.000000000",
          "2020-04-02T00:00:00.000000000",
          "2020-04-03T00:00:00.000000000",
          "2020-04-04T00:00:00.000000000",
          "2020-04-05T00:00:00.000000000",
          "2020-04-13T00:00:00.000000000",
          "2020-04-14T00:00:00.000000000",
          "2020-04-15T00:00:00.000000000",
          "2020-04-16T00:00:00.000000000",
          "2020-04-17T00:00:00.000000000",
          "2020-04-18T00:00:00.000000000",
          "2020-04-19T00:00:00.000000000",
          "2020-04-20T00:00:00.000000000",
          "2020-04-21T00:00:00.000000000",
          "2020-04-22T00:00:00.000000000",
          "2020-04-23T00:00:00.000000000",
          "2020-04-24T00:00:00.000000000",
          "2020-04-25T00:00:00.000000000",
          "2020-04-26T00:00:00.000000000",
          "2020-04-27T00:00:00.000000000",
          "2020-04-28T00:00:00.000000000",
          "2020-04-29T00:00:00.000000000",
          "2020-04-30T00:00:00.000000000",
          "2020-05-01T00:00:00.000000000",
          "2020-05-02T00:00:00.000000000",
          "2020-05-03T00:00:00.000000000",
          "2020-05-04T00:00:00.000000000",
          "2020-05-05T00:00:00.000000000",
          "2020-05-13T00:00:00.000000000",
          "2020-05-14T00:00:00.000000000",
          "2020-05-15T00:00:00.000000000",
          "2020-05-16T00:00:00.000000000",
          "2020-05-17T00:00:00.000000000",
          "2020-05-18T00:00:00.000000000",
          "2020-05-19T00:00:00.000000000",
          "2020-05-20T00:00:00.000000000",
          "2020-05-21T00:00:00.000000000",
          "2020-05-22T00:00:00.000000000",
          "2020-05-23T00:00:00.000000000",
          "2020-06-01T00:00:00.000000000",
          "2020-06-02T00:00:00.000000000",
          "2020-06-03T00:00:00.000000000",
          "2020-06-04T00:00:00.000000000",
          "2020-06-05T00:00:00.000000000",
          "2020-07-01T00:00:00.000000000",
          "2020-07-02T00:00:00.000000000",
          "2020-07-03T00:00:00.000000000",
          "2020-07-04T00:00:00.000000000",
          "2020-07-05T00:00:00.000000000",
          "2020-08-01T00:00:00.000000000",
          "2020-08-02T00:00:00.000000000",
          "2020-08-03T00:00:00.000000000",
          "2020-08-04T00:00:00.000000000",
          "2020-08-05T00:00:00.000000000",
          "2020-09-01T00:00:00.000000000",
          "2020-09-02T00:00:00.000000000",
          "2020-09-03T00:00:00.000000000",
          "2020-09-04T00:00:00.000000000",
          "2020-09-05T00:00:00.000000000",
          "2020-10-01T00:00:00.000000000",
          "2020-10-02T00:00:00.000000000",
          "2020-10-03T00:00:00.000000000",
          "2020-10-04T00:00:00.000000000",
          "2020-10-05T00:00:00.000000000",
          "2020-11-01T00:00:00.000000000",
          "2020-11-02T00:00:00.000000000",
          "2020-11-03T00:00:00.000000000",
          "2020-11-04T00:00:00.000000000",
          "2020-11-05T00:00:00.000000000",
          "2020-12-01T00:00:00.000000000",
          "2020-12-02T00:00:00.000000000",
          "2020-12-03T00:00:00.000000000",
          "2020-12-04T00:00:00.000000000",
          "2020-12-05T00:00:00.000000000",
          "2020-12-06T00:00:00.000000000",
          "2020-12-07T00:00:00.000000000",
          "2020-12-08T00:00:00.000000000",
          "2020-12-09T00:00:00.000000000",
          "2020-12-10T00:00:00.000000000",
          "2020-12-11T00:00:00.000000000",
          "2020-12-12T00:00:00.000000000",
          "2020-12-13T00:00:00.000000000",
          "2020-12-14T00:00:00.000000000",
          "2020-12-15T00:00:00.000000000",
          "2020-12-16T00:00:00.000000000",
          "2020-12-17T00:00:00.000000000",
          "2020-12-18T00:00:00.000000000",
          "2020-12-19T00:00:00.000000000",
          "2020-12-20T00:00:00.000000000",
          "2020-12-21T00:00:00.000000000",
          "2020-12-22T00:00:00.000000000",
          "2020-12-23T00:00:00.000000000",
          "2020-12-24T00:00:00.000000000",
          "2020-12-25T00:00:00.000000000",
          "2020-12-26T00:00:00.000000000",
          "2020-12-27T00:00:00.000000000",
          "2020-12-28T00:00:00.000000000",
          "2020-12-29T00:00:00.000000000",
          "2020-12-30T00:00:00.000000000",
          "2020-12-31T00:00:00.000000000",
          "2021-01-01T00:00:00.000000000",
          "2021-01-02T00:00:00.000000000",
          "2021-01-03T00:00:00.000000000",
          "2021-01-04T00:00:00.000000000",
          "2021-01-05T00:00:00.000000000",
          "2021-01-06T00:00:00.000000000",
          "2021-01-07T00:00:00.000000000",
          "2021-01-08T00:00:00.000000000",
          "2021-01-09T00:00:00.000000000",
          "2021-01-10T00:00:00.000000000",
          "2021-01-11T00:00:00.000000000",
          "2021-01-12T00:00:00.000000000",
          "2021-01-13T00:00:00.000000000",
          "2021-01-14T00:00:00.000000000",
          "2021-01-15T00:00:00.000000000",
          "2021-01-16T00:00:00.000000000",
          "2021-01-17T00:00:00.000000000",
          "2021-01-18T00:00:00.000000000",
          "2021-01-19T00:00:00.000000000",
          "2021-01-20T00:00:00.000000000",
          "2021-01-21T00:00:00.000000000",
          "2021-01-22T00:00:00.000000000",
          "2021-01-23T00:00:00.000000000",
          "2021-01-24T00:00:00.000000000",
          "2021-01-25T00:00:00.000000000",
          "2021-01-26T00:00:00.000000000",
          "2021-01-27T00:00:00.000000000",
          "2021-01-28T00:00:00.000000000",
          "2021-01-29T00:00:00.000000000",
          "2021-01-30T00:00:00.000000000",
          "2021-01-31T00:00:00.000000000",
          "2021-02-01T00:00:00.000000000",
          "2021-02-02T00:00:00.000000000",
          "2021-02-03T00:00:00.000000000",
          "2021-02-04T00:00:00.000000000",
          "2021-02-05T00:00:00.000000000",
          "2021-02-06T00:00:00.000000000",
          "2021-02-07T00:00:00.000000000",
          "2021-02-08T00:00:00.000000000",
          "2021-02-09T00:00:00.000000000",
          "2021-02-10T00:00:00.000000000",
          "2021-02-11T00:00:00.000000000",
          "2021-02-12T00:00:00.000000000",
          "2021-02-13T00:00:00.000000000",
          "2021-02-14T00:00:00.000000000",
          "2021-02-15T00:00:00.000000000",
          "2021-02-16T00:00:00.000000000",
          "2021-02-17T00:00:00.000000000",
          "2021-02-18T00:00:00.000000000",
          "2021-02-19T00:00:00.000000000",
          "2021-02-20T00:00:00.000000000",
          "2021-02-21T00:00:00.000000000",
          "2021-02-22T00:00:00.000000000",
          "2021-02-23T00:00:00.000000000",
          "2021-02-24T00:00:00.000000000",
          "2021-02-25T00:00:00.000000000",
          "2021-02-26T00:00:00.000000000",
          "2021-02-27T00:00:00.000000000",
          "2021-02-28T00:00:00.000000000",
          "2021-03-01T00:00:00.000000000",
          "2021-03-02T00:00:00.000000000",
          "2021-03-03T00:00:00.000000000",
          "2021-03-04T00:00:00.000000000",
          "2021-03-05T00:00:00.000000000",
          "2021-03-06T00:00:00.000000000",
          "2021-03-07T00:00:00.000000000",
          "2021-03-08T00:00:00.000000000",
          "2021-03-09T00:00:00.000000000",
          "2021-03-10T00:00:00.000000000",
          "2021-03-11T00:00:00.000000000",
          "2021-03-12T00:00:00.000000000",
          "2021-03-13T00:00:00.000000000",
          "2021-03-14T00:00:00.000000000",
          "2021-03-15T00:00:00.000000000",
          "2021-03-16T00:00:00.000000000",
          "2021-03-17T00:00:00.000000000",
          "2021-03-18T00:00:00.000000000",
          "2021-03-19T00:00:00.000000000",
          "2021-03-20T00:00:00.000000000",
          "2021-03-21T00:00:00.000000000",
          "2021-03-22T00:00:00.000000000",
          "2021-03-23T00:00:00.000000000",
          "2021-03-24T00:00:00.000000000",
          "2021-03-25T00:00:00.000000000",
          "2021-03-26T00:00:00.000000000",
          "2021-03-27T00:00:00.000000000",
          "2021-03-28T00:00:00.000000000",
          "2021-03-29T00:00:00.000000000",
          "2021-03-30T00:00:00.000000000",
          "2021-03-31T00:00:00.000000000",
          "2021-04-01T00:00:00.000000000",
          "2021-04-02T00:00:00.000000000",
          "2021-04-03T00:00:00.000000000",
          "2021-04-04T00:00:00.000000000",
          "2021-04-05T00:00:00.000000000",
          "2021-04-06T00:00:00.000000000",
          "2021-04-07T00:00:00.000000000",
          "2021-04-08T00:00:00.000000000",
          "2021-04-09T00:00:00.000000000",
          "2021-04-10T00:00:00.000000000",
          "2021-04-11T00:00:00.000000000",
          "2021-04-12T00:00:00.000000000",
          "2021-04-13T00:00:00.000000000",
          "2021-04-14T00:00:00.000000000",
          "2021-04-15T00:00:00.000000000",
          "2021-04-16T00:00:00.000000000",
          "2021-04-17T00:00:00.000000000",
          "2021-04-18T00:00:00.000000000",
          "2021-04-19T00:00:00.000000000",
          "2021-04-20T00:00:00.000000000",
          "2021-04-21T00:00:00.000000000",
          "2021-04-22T00:00:00.000000000",
          "2021-04-23T00:00:00.000000000",
          "2021-04-24T00:00:00.000000000",
          "2021-04-25T00:00:00.000000000",
          "2021-04-26T00:00:00.000000000",
          "2021-04-27T00:00:00.000000000",
          "2021-04-28T00:00:00.000000000",
          "2021-04-29T00:00:00.000000000",
          "2021-04-30T00:00:00.000000000",
          "2021-05-01T00:00:00.000000000",
          "2021-05-02T00:00:00.000000000",
          "2021-05-03T00:00:00.000000000",
          "2021-05-04T00:00:00.000000000",
          "2021-05-05T00:00:00.000000000",
          "2021-05-06T00:00:00.000000000",
          "2021-05-07T00:00:00.000000000",
          "2021-05-08T00:00:00.000000000",
          "2021-05-09T00:00:00.000000000",
          "2021-05-10T00:00:00.000000000",
          "2021-05-11T00:00:00.000000000",
          "2021-05-12T00:00:00.000000000",
          "2021-05-13T00:00:00.000000000",
          "2021-05-14T00:00:00.000000000",
          "2021-05-15T00:00:00.000000000",
          "2021-05-16T00:00:00.000000000",
          "2021-05-17T00:00:00.000000000",
          "2021-05-18T00:00:00.000000000",
          "2021-05-19T00:00:00.000000000",
          "2021-05-20T00:00:00.000000000",
          "2021-05-21T00:00:00.000000000",
          "2021-05-22T00:00:00.000000000",
          "2021-05-23T00:00:00.000000000",
          "2021-05-24T00:00:00.000000000",
          "2021-05-25T00:00:00.000000000",
          "2021-05-26T00:00:00.000000000",
          "2021-05-27T00:00:00.000000000",
          "2021-05-28T00:00:00.000000000",
          "2021-05-29T00:00:00.000000000",
          "2021-05-30T00:00:00.000000000",
          "2021-05-31T00:00:00.000000000",
          "2021-06-01T00:00:00.000000000",
          "2021-06-02T00:00:00.000000000",
          "2021-06-03T00:00:00.000000000",
          "2021-06-04T00:00:00.000000000",
          "2021-06-05T00:00:00.000000000",
          "2021-06-06T00:00:00.000000000",
          "2021-06-07T00:00:00.000000000",
          "2021-06-08T00:00:00.000000000",
          "2021-06-09T00:00:00.000000000",
          "2021-06-10T00:00:00.000000000",
          "2021-06-11T00:00:00.000000000",
          "2021-06-12T00:00:00.000000000",
          "2021-06-13T00:00:00.000000000",
          "2021-06-14T00:00:00.000000000",
          "2021-06-15T00:00:00.000000000",
          "2021-06-16T00:00:00.000000000",
          "2021-06-17T00:00:00.000000000",
          "2021-06-18T00:00:00.000000000",
          "2021-06-19T00:00:00.000000000",
          "2021-06-20T00:00:00.000000000",
          "2021-06-21T00:00:00.000000000",
          "2021-06-22T00:00:00.000000000",
          "2021-06-23T00:00:00.000000000",
          "2021-06-24T00:00:00.000000000",
          "2021-06-25T00:00:00.000000000",
          "2021-06-26T00:00:00.000000000",
          "2021-06-27T00:00:00.000000000",
          "2021-06-28T00:00:00.000000000",
          "2021-06-29T00:00:00.000000000",
          "2021-06-30T00:00:00.000000000",
          "2021-07-01T00:00:00.000000000",
          "2021-07-02T00:00:00.000000000",
          "2021-07-03T00:00:00.000000000",
          "2021-07-04T00:00:00.000000000",
          "2021-07-05T00:00:00.000000000",
          "2021-07-06T00:00:00.000000000",
          "2021-07-07T00:00:00.000000000",
          "2021-07-08T00:00:00.000000000",
          "2021-07-09T00:00:00.000000000",
          "2021-07-10T00:00:00.000000000",
          "2021-07-11T00:00:00.000000000",
          "2021-07-12T00:00:00.000000000",
          "2021-07-13T00:00:00.000000000",
          "2021-07-14T00:00:00.000000000",
          "2021-07-15T00:00:00.000000000",
          "2021-07-16T00:00:00.000000000",
          "2021-07-17T00:00:00.000000000",
          "2021-07-18T00:00:00.000000000",
          "2021-07-19T00:00:00.000000000",
          "2021-07-20T00:00:00.000000000",
          "2021-07-21T00:00:00.000000000",
          "2021-07-22T00:00:00.000000000",
          "2021-07-23T00:00:00.000000000",
          "2021-07-24T00:00:00.000000000",
          "2021-07-25T00:00:00.000000000",
          "2021-07-26T00:00:00.000000000",
          "2021-07-27T00:00:00.000000000",
          "2021-07-28T00:00:00.000000000",
          "2021-07-29T00:00:00.000000000",
          "2021-07-30T00:00:00.000000000",
          "2021-07-31T00:00:00.000000000",
          "2021-08-01T00:00:00.000000000",
          "2021-08-02T00:00:00.000000000",
          "2021-08-03T00:00:00.000000000",
          "2021-08-04T00:00:00.000000000",
          "2021-08-05T00:00:00.000000000",
          "2021-08-06T00:00:00.000000000",
          "2021-08-07T00:00:00.000000000",
          "2021-08-08T00:00:00.000000000",
          "2021-08-09T00:00:00.000000000",
          "2021-08-10T00:00:00.000000000",
          "2021-08-11T00:00:00.000000000",
          "2021-08-12T00:00:00.000000000",
          "2021-08-13T00:00:00.000000000",
          "2021-08-14T00:00:00.000000000",
          "2021-08-15T00:00:00.000000000",
          "2021-08-16T00:00:00.000000000",
          "2021-08-17T00:00:00.000000000",
          "2021-08-18T00:00:00.000000000",
          "2021-08-19T00:00:00.000000000",
          "2021-08-20T00:00:00.000000000",
          "2021-08-21T00:00:00.000000000",
          "2021-08-22T00:00:00.000000000",
          "2021-08-23T00:00:00.000000000",
          "2021-08-24T00:00:00.000000000",
          "2021-08-25T00:00:00.000000000",
          "2021-08-26T00:00:00.000000000",
          "2021-08-27T00:00:00.000000000",
          "2021-08-28T00:00:00.000000000",
          "2021-08-29T00:00:00.000000000",
          "2021-08-30T00:00:00.000000000",
          "2021-08-31T00:00:00.000000000",
          "2021-09-01T00:00:00.000000000",
          "2021-09-02T00:00:00.000000000",
          "2021-09-03T00:00:00.000000000",
          "2021-09-04T00:00:00.000000000",
          "2021-09-05T00:00:00.000000000",
          "2021-09-06T00:00:00.000000000",
          "2021-09-07T00:00:00.000000000",
          "2021-09-08T00:00:00.000000000",
          "2021-09-09T00:00:00.000000000",
          "2021-09-10T00:00:00.000000000",
          "2021-09-11T00:00:00.000000000",
          "2021-09-12T00:00:00.000000000",
          "2021-09-13T00:00:00.000000000",
          "2021-09-14T00:00:00.000000000",
          "2021-09-15T00:00:00.000000000",
          "2021-09-16T00:00:00.000000000",
          "2021-09-17T00:00:00.000000000",
          "2021-09-18T00:00:00.000000000",
          "2021-09-19T00:00:00.000000000",
          "2021-09-20T00:00:00.000000000",
          "2021-09-21T00:00:00.000000000",
          "2021-09-22T00:00:00.000000000",
          "2021-09-23T00:00:00.000000000",
          "2021-09-24T00:00:00.000000000",
          "2021-09-25T00:00:00.000000000",
          "2021-09-26T00:00:00.000000000",
          "2021-09-27T00:00:00.000000000",
          "2021-09-28T00:00:00.000000000",
          "2021-09-29T00:00:00.000000000",
          "2021-09-30T00:00:00.000000000",
          "2021-10-01T00:00:00.000000000",
          "2021-10-02T00:00:00.000000000",
          "2021-10-03T00:00:00.000000000",
          "2021-10-04T00:00:00.000000000",
          "2021-10-05T00:00:00.000000000",
          "2021-10-06T00:00:00.000000000",
          "2021-10-07T00:00:00.000000000",
          "2021-10-08T00:00:00.000000000",
          "2021-10-09T00:00:00.000000000",
          "2021-10-10T00:00:00.000000000",
          "2021-10-11T00:00:00.000000000",
          "2021-10-12T00:00:00.000000000",
          "2021-10-13T00:00:00.000000000",
          "2021-10-14T00:00:00.000000000",
          "2021-10-15T00:00:00.000000000",
          "2021-10-16T00:00:00.000000000",
          "2021-10-17T00:00:00.000000000",
          "2021-10-18T00:00:00.000000000",
          "2021-10-19T00:00:00.000000000",
          "2021-10-20T00:00:00.000000000",
          "2021-10-21T00:00:00.000000000",
          "2021-10-22T00:00:00.000000000",
          "2021-10-23T00:00:00.000000000",
          "2021-10-24T00:00:00.000000000",
          "2021-10-25T00:00:00.000000000",
          "2021-10-26T00:00:00.000000000",
          "2021-10-27T00:00:00.000000000",
          "2021-10-28T00:00:00.000000000",
          "2021-10-29T00:00:00.000000000",
          "2021-10-30T00:00:00.000000000",
          "2021-10-31T00:00:00.000000000",
          "2021-11-01T00:00:00.000000000",
          "2021-11-02T00:00:00.000000000",
          "2021-11-03T00:00:00.000000000",
          "2021-11-04T00:00:00.000000000",
          "2021-11-05T00:00:00.000000000",
          "2021-11-06T00:00:00.000000000",
          "2021-11-07T00:00:00.000000000",
          "2021-11-08T00:00:00.000000000",
          "2021-11-09T00:00:00.000000000",
          "2021-11-10T00:00:00.000000000",
          "2021-11-11T00:00:00.000000000",
          "2021-11-12T00:00:00.000000000",
          "2021-11-13T00:00:00.000000000",
          "2021-11-14T00:00:00.000000000",
          "2021-11-15T00:00:00.000000000",
          "2021-11-16T00:00:00.000000000",
          "2021-11-17T00:00:00.000000000",
          "2021-11-18T00:00:00.000000000",
          "2021-11-19T00:00:00.000000000",
          "2021-11-20T00:00:00.000000000",
          "2021-11-21T00:00:00.000000000",
          "2021-11-22T00:00:00.000000000",
          "2021-11-23T00:00:00.000000000",
          "2021-11-24T00:00:00.000000000",
          "2021-11-25T00:00:00.000000000",
          "2021-11-26T00:00:00.000000000",
          "2021-11-27T00:00:00.000000000",
          "2021-11-28T00:00:00.000000000",
          "2021-11-29T00:00:00.000000000",
          "2021-11-30T00:00:00.000000000",
          "2021-12-01T00:00:00.000000000",
          "2021-12-02T00:00:00.000000000",
          "2021-12-03T00:00:00.000000000",
          "2021-12-04T00:00:00.000000000",
          "2021-12-05T00:00:00.000000000"
         ],
         "y": {
          "bdata": "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",
          "dtype": "f8"
         }
        }
       ],
       "layout": {
        "template": {
         "data": {
          "bar": [
           {
            "error_x": {
             "color": "#2a3f5f"
            },
            "error_y": {
             "color": "#2a3f5f"
            },
            "marker": {
             "line": {
              "color": "#E5ECF6",
              "width": 0.5
             },
             "pattern": {
              "fillmode": "overlay",
              "size": 10,
              "solidity": 0.2
             }
            },
            "type": "bar"
           }
          ],
          "barpolar": [
           {
            "marker": {
             "line": {
              "color": "#E5ECF6",
              "width": 0.5
             },
             "pattern": {
              "fillmode": "overlay",
              "size": 10,
              "solidity": 0.2
             }
            },
            "type": "barpolar"
           }
          ],
          "carpet": [
           {
            "aaxis": {
             "endlinecolor": "#2a3f5f",
             "gridcolor": "white",
             "linecolor": "white",
             "minorgridcolor": "white",
             "startlinecolor": "#2a3f5f"
            },
            "baxis": {
             "endlinecolor": "#2a3f5f",
             "gridcolor": "white",
             "linecolor": "white",
             "minorgridcolor": "white",
             "startlinecolor": "#2a3f5f"
            },
            "type": "carpet"
           }
          ],
          "choropleth": [
           {
            "colorbar": {
             "outlinewidth": 0,
             "ticks": ""
            },
            "type": "choropleth"
           }
          ],
          "contour": [
           {
            "colorbar": {
             "outlinewidth": 0,
             "ticks": ""
            },
            "colorscale": [
             [
              0,
              "#0d0887"
             ],
             [
              0.1111111111111111,
              "#46039f"
             ],
             [
              0.2222222222222222,
              "#7201a8"
             ],
             [
              0.3333333333333333,
              "#9c179e"
             ],
             [
              0.4444444444444444,
              "#bd3786"
             ],
             [
              0.5555555555555556,
              "#d8576b"
             ],
             [
              0.6666666666666666,
              "#ed7953"
             ],
             [
              0.7777777777777778,
              "#fb9f3a"
             ],
             [
              0.8888888888888888,
              "#fdca26"
             ],
             [
              1,
              "#f0f921"
             ]
            ],
            "type": "contour"
           }
          ],
          "contourcarpet": [
           {
            "colorbar": {
             "outlinewidth": 0,
             "ticks": ""
            },
            "type": "contourcarpet"
           }
          ],
          "heatmap": [
           {
            "colorbar": {
             "outlinewidth": 0,
             "ticks": ""
            },
            "colorscale": [
             [
              0,
              "#0d0887"
             ],
             [
              0.1111111111111111,
              "#46039f"
             ],
             [
              0.2222222222222222,
              "#7201a8"
             ],
             [
              0.3333333333333333,
              "#9c179e"
             ],
             [
              0.4444444444444444,
              "#bd3786"
             ],
             [
              0.5555555555555556,
              "#d8576b"
             ],
             [
              0.6666666666666666,
              "#ed7953"
             ],
             [
              0.7777777777777778,
              "#fb9f3a"
             ],
             [
              0.8888888888888888,
              "#fdca26"
             ],
             [
              1,
              "#f0f921"
             ]
            ],
            "type": "heatmap"
           }
          ],
          "histogram": [
           {
            "marker": {
             "pattern": {
              "fillmode": "overlay",
              "size": 10,
              "solidity": 0.2
             }
            },
            "type": "histogram"
           }
          ],
          "histogram2d": [
           {
            "colorbar": {
             "outlinewidth": 0,
             "ticks": ""
            },
            "colorscale": [
             [
              0,
              "#0d0887"
             ],
             [
              0.1111111111111111,
              "#46039f"
             ],
             [
              0.2222222222222222,
              "#7201a8"
             ],
             [
              0.3333333333333333,
              "#9c179e"
             ],
             [
              0.4444444444444444,
              "#bd3786"
             ],
             [
              0.5555555555555556,
              "#d8576b"
             ],
             [
              0.6666666666666666,
              "#ed7953"
             ],
             [
              0.7777777777777778,
              "#fb9f3a"
             ],
             [
              0.8888888888888888,
              "#fdca26"
             ],
             [
              1,
              "#f0f921"
             ]
            ],
            "type": "histogram2d"
           }
          ],
          "histogram2dcontour": [
           {
            "colorbar": {
             "outlinewidth": 0,
             "ticks": ""
            },
            "colorscale": [
             [
              0,
              "#0d0887"
             ],
             [
              0.1111111111111111,
              "#46039f"
             ],
             [
              0.2222222222222222,
              "#7201a8"
             ],
             [
              0.3333333333333333,
              "#9c179e"
             ],
             [
              0.4444444444444444,
              "#bd3786"
             ],
             [
              0.5555555555555556,
              "#d8576b"
             ],
             [
              0.6666666666666666,
              "#ed7953"
             ],
             [
              0.7777777777777778,
              "#fb9f3a"
             ],
             [
              0.8888888888888888,
              "#fdca26"
             ],
             [
              1,
              "#f0f921"
             ]
            ],
            "type": "histogram2dcontour"
           }
          ],
          "mesh3d": [
           {
            "colorbar": {
             "outlinewidth": 0,
             "ticks": ""
            },
            "type": "mesh3d"
           }
          ],
          "parcoords": [
           {
            "line": {
             "colorbar": {
              "outlinewidth": 0,
              "ticks": ""
             }
            },
            "type": "parcoords"
           }
          ],
          "pie": [
           {
            "automargin": true,
            "type": "pie"
           }
          ],
          "scatter": [
           {
            "fillpattern": {
             "fillmode": "overlay",
             "size": 10,
             "solidity": 0.2
            },
            "type": "scatter"
           }
          ],
          "scatter3d": [
           {
            "line": {
             "colorbar": {
              "outlinewidth": 0,
              "ticks": ""
             }
            },
            "marker": {
             "colorbar": {
              "outlinewidth": 0,
              "ticks": ""
             }
            },
            "type": "scatter3d"
           }
          ],
          "scattercarpet": [
           {
            "marker": {
             "colorbar": {
              "outlinewidth": 0,
              "ticks": ""
             }
            },
            "type": "scattercarpet"
           }
          ],
          "scattergeo": [
           {
            "marker": {
             "colorbar": {
              "outlinewidth": 0,
              "ticks": ""
             }
            },
            "type": "scattergeo"
           }
          ],
          "scattergl": [
           {
            "marker": {
             "colorbar": {
              "outlinewidth": 0,
              "ticks": ""
             }
            },
            "type": "scattergl"
           }
          ],
          "scattermap": [
           {
            "marker": {
             "colorbar": {
              "outlinewidth": 0,
              "ticks": ""
             }
            },
            "type": "scattermap"
           }
          ],
          "scattermapbox": [
           {
            "marker": {
             "colorbar": {
              "outlinewidth": 0,
              "ticks": ""
             }
            },
            "type": "scattermapbox"
           }
          ],
          "scatterpolar": [
           {
            "marker": {
             "colorbar": {
              "outlinewidth": 0,
              "ticks": ""
             }
            },
            "type": "scatterpolar"
           }
          ],
          "scatterpolargl": [
           {
            "marker": {
             "colorbar": {
              "outlinewidth": 0,
              "ticks": ""
             }
            },
            "type": "scatterpolargl"
           }
          ],
          "scatterternary": [
           {
            "marker": {
             "colorbar": {
              "outlinewidth": 0,
              "ticks": ""
             }
            },
            "type": "scatterternary"
           }
          ],
          "surface": [
           {
            "colorbar": {
             "outlinewidth": 0,
             "ticks": ""
            },
            "colorscale": [
             [
              0,
              "#0d0887"
             ],
             [
              0.1111111111111111,
              "#46039f"
             ],
             [
              0.2222222222222222,
              "#7201a8"
             ],
             [
              0.3333333333333333,
              "#9c179e"
             ],
             [
              0.4444444444444444,
              "#bd3786"
             ],
             [
              0.5555555555555556,
              "#d8576b"
             ],
             [
              0.6666666666666666,
              "#ed7953"
             ],
             [
              0.7777777777777778,
              "#fb9f3a"
             ],
             [
              0.8888888888888888,
              "#fdca26"
             ],
             [
              1,
              "#f0f921"
             ]
            ],
            "type": "surface"
           }
          ],
          "table": [
           {
            "cells": {
             "fill": {
              "color": "#EBF0F8"
             },
             "line": {
              "color": "white"
             }
            },
            "header": {
             "fill": {
              "color": "#C8D4E3"
             },
             "line": {
              "color": "white"
             }
            },
            "type": "table"
           }
          ]
         },
         "layout": {
          "annotationdefaults": {
           "arrowcolor": "#2a3f5f",
           "arrowhead": 0,
           "arrowwidth": 1
          },
          "autotypenumbers": "strict",
          "coloraxis": {
           "colorbar": {
            "outlinewidth": 0,
            "ticks": ""
           }
          },
          "colorscale": {
           "diverging": [
            [
             0,
             "#8e0152"
            ],
            [
             0.1,
             "#c51b7d"
            ],
            [
             0.2,
             "#de77ae"
            ],
            [
             0.3,
             "#f1b6da"
            ],
            [
             0.4,
             "#fde0ef"
            ],
            [
             0.5,
             "#f7f7f7"
            ],
            [
             0.6,
             "#e6f5d0"
            ],
            [
             0.7,
             "#b8e186"
            ],
            [
             0.8,
             "#7fbc41"
            ],
            [
             0.9,
             "#4d9221"
            ],
            [
             1,
             "#276419"
            ]
           ],
           "sequential": [
            [
             0,
             "#0d0887"
            ],
            [
             0.1111111111111111,
             "#46039f"
            ],
            [
             0.2222222222222222,
             "#7201a8"
            ],
            [
             0.3333333333333333,
             "#9c179e"
            ],
            [
             0.4444444444444444,
             "#bd3786"
            ],
            [
             0.5555555555555556,
             "#d8576b"
            ],
            [
             0.6666666666666666,
             "#ed7953"
            ],
            [
             0.7777777777777778,
             "#fb9f3a"
            ],
            [
             0.8888888888888888,
             "#fdca26"
            ],
            [
             1,
             "#f0f921"
            ]
           ],
           "sequentialminus": [
            [
             0,
             "#0d0887"
            ],
            [
             0.1111111111111111,
             "#46039f"
            ],
            [
             0.2222222222222222,
             "#7201a8"
            ],
            [
             0.3333333333333333,
             "#9c179e"
            ],
            [
             0.4444444444444444,
             "#bd3786"
            ],
            [
             0.5555555555555556,
             "#d8576b"
            ],
            [
             0.6666666666666666,
             "#ed7953"
            ],
            [
             0.7777777777777778,
             "#fb9f3a"
            ],
            [
             0.8888888888888888,
             "#fdca26"
            ],
            [
             1,
             "#f0f921"
            ]
           ]
          },
          "colorway": [
           "#636efa",
           "#EF553B",
           "#00cc96",
           "#ab63fa",
           "#FFA15A",
           "#19d3f3",
           "#FF6692",
           "#B6E880",
           "#FF97FF",
           "#FECB52"
          ],
          "font": {
           "color": "#2a3f5f"
          },
          "geo": {
           "bgcolor": "white",
           "lakecolor": "white",
           "landcolor": "#E5ECF6",
           "showlakes": true,
           "showland": true,
           "subunitcolor": "white"
          },
          "hoverlabel": {
           "align": "left"
          },
          "hovermode": "closest",
          "mapbox": {
           "style": "light"
          },
          "paper_bgcolor": "white",
          "plot_bgcolor": "#E5ECF6",
          "polar": {
           "angularaxis": {
            "gridcolor": "white",
            "linecolor": "white",
            "ticks": ""
           },
           "bgcolor": "#E5ECF6",
           "radialaxis": {
            "gridcolor": "white",
            "linecolor": "white",
            "ticks": ""
           }
          },
          "scene": {
           "xaxis": {
            "backgroundcolor": "#E5ECF6",
            "gridcolor": "white",
            "gridwidth": 2,
            "linecolor": "white",
            "showbackground": true,
            "ticks": "",
            "zerolinecolor": "white"
           },
           "yaxis": {
            "backgroundcolor": "#E5ECF6",
            "gridcolor": "white",
            "gridwidth": 2,
            "linecolor": "white",
            "showbackground": true,
            "ticks": "",
            "zerolinecolor": "white"
           },
           "zaxis": {
            "backgroundcolor": "#E5ECF6",
            "gridcolor": "white",
            "gridwidth": 2,
            "linecolor": "white",
            "showbackground": true,
            "ticks": "",
            "zerolinecolor": "white"
           }
          },
          "shapedefaults": {
           "line": {
            "color": "#2a3f5f"
           }
          },
          "ternary": {
           "aaxis": {
            "gridcolor": "white",
            "linecolor": "white",
            "ticks": ""
           },
           "baxis": {
            "gridcolor": "white",
            "linecolor": "white",
            "ticks": ""
           },
           "bgcolor": "#E5ECF6",
           "caxis": {
            "gridcolor": "white",
            "linecolor": "white",
            "ticks": ""
           }
          },
          "title": {
           "x": 0.05
          },
          "xaxis": {
           "automargin": true,
           "gridcolor": "white",
           "linecolor": "white",
           "ticks": "",
           "title": {
            "standoff": 15
           },
           "zerolinecolor": "white",
           "zerolinewidth": 2
          },
          "yaxis": {
           "automargin": true,
           "gridcolor": "white",
           "linecolor": "white",
           "ticks": "",
           "title": {
            "standoff": 15
           },
           "zerolinecolor": "white",
           "zerolinewidth": 2
          }
         }
        }
       }
      }
     },
     "metadata": {},
     "output_type": "display_data"
    }
   ],
   "source": [
    "fig = go.Figure([go.Scatter(x=df['ds'], y=df['y'],mode='lines',\n",
    "                    name='Actual')])\n",
    "#You can add traces using an Express plot by using add_trace\n",
    "fig.add_trace(go.Scatter(x=prediction['ds'], y=prediction['yhat'],\n",
    "                   mode='lines+markers',\n",
    "                    name='predicted'))\n",
    "#To display a figure using the renderers framework, you call the .show() method on a graph object figure, or pass the figure to the plotly.io.show function. \n",
    "#With either approach, plotly.py will display the figure using the current default renderer(s).\n",
    "fig.show()"
   ]
  },
  {
   "cell_type": "code",
   "execution_count": 23,
   "id": "2beeeb64",
   "metadata": {},
   "outputs": [
    {
     "name": "stdout",
     "output_type": "stream",
     "text": [
      "MAE: 7.904\n"
     ]
    }
   ],
   "source": [
    "# mean absolute error\n",
    "#Return a Numpy representation of the DataFrame.\n",
    "y_true = df['y'].values\n",
    "\n",
    "#Here we have specified [:498] because in y_true we have 498 data points so for comparing both series we need equal shape of series.\n",
    "y_pred = prediction['yhat'][:498].values \n",
    "\n",
    "#Parameters:\n",
    "#y_truearray-like of shape = (n_samples) or (n_samples, n_outputs)\n",
    "#Ground truth (correct) target values.\n",
    "\n",
    "#y_predarray-like of shape = (n_samples) or (n_samples, n_outputs)\n",
    "#Estimated target values.\n",
    "\n",
    "mae = mean_absolute_error(y_true, y_pred)\n",
    "print('MAE: %.3f' % mae)"
   ]
  },
  {
   "cell_type": "markdown",
   "id": "e20aaa83",
   "metadata": {},
   "source": [
    "## optimizing the model for better perfomamnce"
   ]
  },
  {
   "cell_type": "code",
   "execution_count": 24,
   "id": "25003f86",
   "metadata": {},
   "outputs": [
    {
     "name": "stderr",
     "output_type": "stream",
     "text": [
      "09:47:48 - cmdstanpy - INFO - Chain [1] start processing\n",
      "09:47:50 - cmdstanpy - INFO - Chain [1] done processing\n"
     ]
    },
    {
     "data": {
      "text/plain": [
       "{'additive': ['yearly',\n",
       "  'weekly',\n",
       "  'daily',\n",
       "  'additive_terms',\n",
       "  'extra_regressors_additive',\n",
       "  'holidays'],\n",
       " 'multiplicative': ['multiplicative_terms', 'extra_regressors_multiplicative']}"
      ]
     },
     "execution_count": 24,
     "metadata": {},
     "output_type": "execute_result"
    }
   ],
   "source": [
    "# initialize and tune hyperparameters\n",
    "model1=Prophet(daily_seasonality=True).add_seasonality(name='yearly',period=365,fourier_order=70)\n",
    "\n",
    "# fit the model to the data \n",
    "model1.fit(df)\n",
    "\n",
    "#print model components\n",
    "model1.component_modes"
   ]
  },
  {
   "cell_type": "code",
   "execution_count": 26,
   "id": "34246016",
   "metadata": {},
   "outputs": [],
   "source": [
    "# make future dataframe\n",
    "future_dates1=model1.make_future_dataframe(periods=365)\n",
    "\n",
    "prediction1=model1.predict(future_dates1)"
   ]
  },
  {
   "cell_type": "code",
   "execution_count": 27,
   "id": "78a0692a",
   "metadata": {},
   "outputs": [
    {
     "name": "stdout",
     "output_type": "stream",
     "text": [
      "MAE: 4.020\n"
     ]
    }
   ],
   "source": [
    "from sklearn.metrics import mean_absolute_error\n",
    "y_true = df['y'].values\n",
    "y_pred = prediction1['yhat'][:498].values\n",
    "mae = mean_absolute_error(y_true, y_pred)\n",
    "print('MAE: %.3f' % mae)"
   ]
  },
  {
   "cell_type": "code",
   "execution_count": 28,
   "id": "3a6585b1",
   "metadata": {},
   "outputs": [
    {
     "data": {
      "application/vnd.plotly.v1+json": {
       "config": {
        "plotlyServerURL": "https://plot.ly"
       },
       "data": [
        {
         "mode": "lines",
         "name": "Actual",
         "type": "scatter",
         "x": [
          "2019-01-02T00:00:00.000000000",
          "2019-01-03T00:00:00.000000000",
          "2019-01-04T00:00:00.000000000",
          "2019-01-05T00:00:00.000000000",
          "2019-01-06T00:00:00.000000000",
          "2019-01-07T00:00:00.000000000",
          "2019-01-08T00:00:00.000000000",
          "2019-01-09T00:00:00.000000000",
          "2019-01-10T00:00:00.000000000",
          "2019-01-11T00:00:00.000000000",
          "2019-01-12T00:00:00.000000000",
          "2019-01-13T00:00:00.000000000",
          "2019-01-14T00:00:00.000000000",
          "2019-01-15T00:00:00.000000000",
          "2019-01-16T00:00:00.000000000",
          "2019-01-17T00:00:00.000000000",
          "2019-01-18T00:00:00.000000000",
          "2019-01-19T00:00:00.000000000",
          "2019-01-20T00:00:00.000000000",
          "2019-01-21T00:00:00.000000000",
          "2019-01-22T00:00:00.000000000",
          "2019-01-23T00:00:00.000000000",
          "2019-01-24T00:00:00.000000000",
          "2019-01-25T00:00:00.000000000",
          "2019-01-26T00:00:00.000000000",
          "2019-01-27T00:00:00.000000000",
          "2019-01-28T00:00:00.000000000",
          "2019-01-29T00:00:00.000000000",
          "2019-01-30T00:00:00.000000000",
          "2019-01-31T00:00:00.000000000",
          "2019-02-02T00:00:00.000000000",
          "2019-02-03T00:00:00.000000000",
          "2019-02-04T00:00:00.000000000",
          "2019-02-05T00:00:00.000000000",
          "2019-02-06T00:00:00.000000000",
          "2019-02-07T00:00:00.000000000",
          "2019-02-08T00:00:00.000000000",
          "2019-02-09T00:00:00.000000000",
          "2019-02-10T00:00:00.000000000",
          "2019-02-11T00:00:00.000000000",
          "2019-02-12T00:00:00.000000000",
          "2019-02-13T00:00:00.000000000",
          "2019-02-14T00:00:00.000000000",
          "2019-02-15T00:00:00.000000000",
          "2019-02-16T00:00:00.000000000",
          "2019-02-17T00:00:00.000000000",
          "2019-02-18T00:00:00.000000000",
          "2019-02-19T00:00:00.000000000",
          "2019-02-20T00:00:00.000000000",
          "2019-02-21T00:00:00.000000000",
          "2019-02-22T00:00:00.000000000",
          "2019-02-23T00:00:00.000000000",
          "2019-02-24T00:00:00.000000000",
          "2019-02-25T00:00:00.000000000",
          "2019-02-26T00:00:00.000000000",
          "2019-02-27T00:00:00.000000000",
          "2019-02-28T00:00:00.000000000",
          "2019-03-02T00:00:00.000000000",
          "2019-03-03T00:00:00.000000000",
          "2019-03-04T00:00:00.000000000",
          "2019-03-05T00:00:00.000000000",
          "2019-03-06T00:00:00.000000000",
          "2019-03-07T00:00:00.000000000",
          "2019-03-08T00:00:00.000000000",
          "2019-03-09T00:00:00.000000000",
          "2019-03-10T00:00:00.000000000",
          "2019-03-11T00:00:00.000000000",
          "2019-03-12T00:00:00.000000000",
          "2019-03-13T00:00:00.000000000",
          "2019-03-14T00:00:00.000000000",
          "2019-03-15T00:00:00.000000000",
          "2019-03-16T00:00:00.000000000",
          "2019-03-17T00:00:00.000000000",
          "2019-03-18T00:00:00.000000000",
          "2019-03-19T00:00:00.000000000",
          "2019-03-20T00:00:00.000000000",
          "2019-03-21T00:00:00.000000000",
          "2019-03-22T00:00:00.000000000",
          "2019-03-23T00:00:00.000000000",
          "2019-03-24T00:00:00.000000000",
          "2019-03-25T00:00:00.000000000",
          "2019-03-26T00:00:00.000000000",
          "2019-03-27T00:00:00.000000000",
          "2019-03-28T00:00:00.000000000",
          "2019-03-29T00:00:00.000000000",
          "2019-03-30T00:00:00.000000000",
          "2019-03-31T00:00:00.000000000",
          "2019-04-02T00:00:00.000000000",
          "2019-04-03T00:00:00.000000000",
          "2019-04-04T00:00:00.000000000",
          "2019-04-05T00:00:00.000000000",
          "2019-04-06T00:00:00.000000000",
          "2019-04-07T00:00:00.000000000",
          "2019-04-08T00:00:00.000000000",
          "2019-04-09T00:00:00.000000000",
          "2019-04-10T00:00:00.000000000",
          "2019-04-11T00:00:00.000000000",
          "2019-04-12T00:00:00.000000000",
          "2019-04-13T00:00:00.000000000",
          "2019-04-14T00:00:00.000000000",
          "2019-04-15T00:00:00.000000000",
          "2019-04-16T00:00:00.000000000",
          "2019-04-17T00:00:00.000000000",
          "2019-04-18T00:00:00.000000000",
          "2019-04-19T00:00:00.000000000",
          "2019-04-20T00:00:00.000000000",
          "2019-04-21T00:00:00.000000000",
          "2019-04-22T00:00:00.000000000",
          "2019-04-23T00:00:00.000000000",
          "2019-04-24T00:00:00.000000000",
          "2019-04-25T00:00:00.000000000",
          "2019-04-26T00:00:00.000000000",
          "2019-04-27T00:00:00.000000000",
          "2019-04-28T00:00:00.000000000",
          "2019-04-29T00:00:00.000000000",
          "2019-04-30T00:00:00.000000000",
          "2019-05-02T00:00:00.000000000",
          "2019-05-03T00:00:00.000000000",
          "2019-05-04T00:00:00.000000000",
          "2019-05-05T00:00:00.000000000",
          "2019-05-06T00:00:00.000000000",
          "2019-05-07T00:00:00.000000000",
          "2019-05-08T00:00:00.000000000",
          "2019-05-09T00:00:00.000000000",
          "2019-05-10T00:00:00.000000000",
          "2019-05-11T00:00:00.000000000",
          "2019-05-12T00:00:00.000000000",
          "2019-05-13T00:00:00.000000000",
          "2019-05-14T00:00:00.000000000",
          "2019-05-15T00:00:00.000000000",
          "2019-05-16T00:00:00.000000000",
          "2019-05-17T00:00:00.000000000",
          "2019-05-18T00:00:00.000000000",
          "2019-05-19T00:00:00.000000000",
          "2019-05-20T00:00:00.000000000",
          "2019-05-21T00:00:00.000000000",
          "2019-05-22T00:00:00.000000000",
          "2019-05-23T00:00:00.000000000",
          "2019-05-24T00:00:00.000000000",
          "2019-05-25T00:00:00.000000000",
          "2019-05-26T00:00:00.000000000",
          "2019-05-27T00:00:00.000000000",
          "2019-05-28T00:00:00.000000000",
          "2019-05-29T00:00:00.000000000",
          "2019-05-30T00:00:00.000000000",
          "2019-05-31T00:00:00.000000000",
          "2019-06-02T00:00:00.000000000",
          "2019-06-03T00:00:00.000000000",
          "2019-06-04T00:00:00.000000000",
          "2019-06-05T00:00:00.000000000",
          "2019-06-06T00:00:00.000000000",
          "2019-06-07T00:00:00.000000000",
          "2019-06-08T00:00:00.000000000",
          "2019-06-09T00:00:00.000000000",
          "2019-06-10T00:00:00.000000000",
          "2019-06-11T00:00:00.000000000",
          "2019-06-12T00:00:00.000000000",
          "2019-06-13T00:00:00.000000000",
          "2019-06-14T00:00:00.000000000",
          "2019-06-15T00:00:00.000000000",
          "2019-06-16T00:00:00.000000000",
          "2019-06-17T00:00:00.000000000",
          "2019-06-18T00:00:00.000000000",
          "2019-06-19T00:00:00.000000000",
          "2019-06-20T00:00:00.000000000",
          "2019-06-21T00:00:00.000000000",
          "2019-06-22T00:00:00.000000000",
          "2019-06-23T00:00:00.000000000",
          "2019-06-24T00:00:00.000000000",
          "2019-06-25T00:00:00.000000000",
          "2019-06-26T00:00:00.000000000",
          "2019-06-27T00:00:00.000000000",
          "2019-06-28T00:00:00.000000000",
          "2019-06-29T00:00:00.000000000",
          "2019-06-30T00:00:00.000000000",
          "2019-07-01T00:00:00.000000000",
          "2019-07-02T00:00:00.000000000",
          "2019-07-03T00:00:00.000000000",
          "2019-07-04T00:00:00.000000000",
          "2019-07-05T00:00:00.000000000",
          "2019-07-06T00:00:00.000000000",
          "2019-07-07T00:00:00.000000000",
          "2019-07-08T00:00:00.000000000",
          "2019-07-09T00:00:00.000000000",
          "2019-07-10T00:00:00.000000000",
          "2019-07-11T00:00:00.000000000",
          "2019-07-12T00:00:00.000000000",
          "2019-07-13T00:00:00.000000000",
          "2019-07-14T00:00:00.000000000",
          "2019-07-15T00:00:00.000000000",
          "2019-07-16T00:00:00.000000000",
          "2019-07-17T00:00:00.000000000",
          "2019-07-18T00:00:00.000000000",
          "2019-07-19T00:00:00.000000000",
          "2019-07-20T00:00:00.000000000",
          "2019-07-21T00:00:00.000000000",
          "2019-07-22T00:00:00.000000000",
          "2019-07-23T00:00:00.000000000",
          "2019-07-24T00:00:00.000000000",
          "2019-07-25T00:00:00.000000000",
          "2019-07-26T00:00:00.000000000",
          "2019-07-27T00:00:00.000000000",
          "2019-07-28T00:00:00.000000000",
          "2019-07-29T00:00:00.000000000",
          "2019-07-30T00:00:00.000000000",
          "2019-07-31T00:00:00.000000000",
          "2019-08-01T00:00:00.000000000",
          "2019-08-02T00:00:00.000000000",
          "2019-08-03T00:00:00.000000000",
          "2019-08-04T00:00:00.000000000",
          "2019-08-05T00:00:00.000000000",
          "2019-08-06T00:00:00.000000000",
          "2019-08-08T00:00:00.000000000",
          "2019-08-09T00:00:00.000000000",
          "2019-08-10T00:00:00.000000000",
          "2019-08-11T00:00:00.000000000",
          "2019-08-12T00:00:00.000000000",
          "2019-08-13T00:00:00.000000000",
          "2019-08-14T00:00:00.000000000",
          "2019-08-15T00:00:00.000000000",
          "2019-08-16T00:00:00.000000000",
          "2019-08-17T00:00:00.000000000",
          "2019-08-18T00:00:00.000000000",
          "2019-08-19T00:00:00.000000000",
          "2019-08-20T00:00:00.000000000",
          "2019-08-21T00:00:00.000000000",
          "2019-08-22T00:00:00.000000000",
          "2019-08-23T00:00:00.000000000",
          "2019-08-24T00:00:00.000000000",
          "2019-08-25T00:00:00.000000000",
          "2019-08-26T00:00:00.000000000",
          "2019-08-27T00:00:00.000000000",
          "2019-08-28T00:00:00.000000000",
          "2019-08-29T00:00:00.000000000",
          "2019-08-30T00:00:00.000000000",
          "2019-08-31T00:00:00.000000000",
          "2019-09-01T00:00:00.000000000",
          "2019-09-02T00:00:00.000000000",
          "2019-09-03T00:00:00.000000000",
          "2019-09-04T00:00:00.000000000",
          "2019-09-05T00:00:00.000000000",
          "2019-09-06T00:00:00.000000000",
          "2019-09-08T00:00:00.000000000",
          "2019-09-09T00:00:00.000000000",
          "2019-09-10T00:00:00.000000000",
          "2019-09-11T00:00:00.000000000",
          "2019-09-12T00:00:00.000000000",
          "2019-09-13T00:00:00.000000000",
          "2019-09-14T00:00:00.000000000",
          "2019-09-15T00:00:00.000000000",
          "2019-09-16T00:00:00.000000000",
          "2019-09-17T00:00:00.000000000",
          "2019-09-18T00:00:00.000000000",
          "2019-09-19T00:00:00.000000000",
          "2019-09-20T00:00:00.000000000",
          "2019-09-21T00:00:00.000000000",
          "2019-09-22T00:00:00.000000000",
          "2019-09-23T00:00:00.000000000",
          "2019-09-24T00:00:00.000000000",
          "2019-09-25T00:00:00.000000000",
          "2019-09-26T00:00:00.000000000",
          "2019-09-27T00:00:00.000000000",
          "2019-09-28T00:00:00.000000000",
          "2019-09-29T00:00:00.000000000",
          "2019-09-30T00:00:00.000000000",
          "2019-10-01T00:00:00.000000000",
          "2019-10-02T00:00:00.000000000",
          "2019-10-03T00:00:00.000000000",
          "2019-10-04T00:00:00.000000000",
          "2019-10-05T00:00:00.000000000",
          "2019-10-06T00:00:00.000000000",
          "2019-10-08T00:00:00.000000000",
          "2019-10-09T00:00:00.000000000",
          "2019-10-10T00:00:00.000000000",
          "2019-10-11T00:00:00.000000000",
          "2019-10-12T00:00:00.000000000",
          "2019-10-13T00:00:00.000000000",
          "2019-10-14T00:00:00.000000000",
          "2019-10-15T00:00:00.000000000",
          "2019-10-16T00:00:00.000000000",
          "2019-10-17T00:00:00.000000000",
          "2019-10-18T00:00:00.000000000",
          "2019-10-19T00:00:00.000000000",
          "2019-10-20T00:00:00.000000000",
          "2019-10-21T00:00:00.000000000",
          "2019-10-22T00:00:00.000000000",
          "2019-10-23T00:00:00.000000000",
          "2019-10-24T00:00:00.000000000",
          "2019-10-25T00:00:00.000000000",
          "2019-10-26T00:00:00.000000000",
          "2019-10-27T00:00:00.000000000",
          "2019-10-28T00:00:00.000000000",
          "2019-10-29T00:00:00.000000000",
          "2019-10-30T00:00:00.000000000",
          "2019-10-31T00:00:00.000000000",
          "2019-11-01T00:00:00.000000000",
          "2019-11-02T00:00:00.000000000",
          "2019-11-03T00:00:00.000000000",
          "2019-11-04T00:00:00.000000000",
          "2019-11-05T00:00:00.000000000",
          "2019-11-06T00:00:00.000000000",
          "2019-11-08T00:00:00.000000000",
          "2019-11-09T00:00:00.000000000",
          "2019-11-10T00:00:00.000000000",
          "2019-11-11T00:00:00.000000000",
          "2019-11-12T00:00:00.000000000",
          "2019-11-13T00:00:00.000000000",
          "2019-11-14T00:00:00.000000000",
          "2019-11-15T00:00:00.000000000",
          "2019-11-16T00:00:00.000000000",
          "2019-11-17T00:00:00.000000000",
          "2019-11-18T00:00:00.000000000",
          "2019-11-19T00:00:00.000000000",
          "2019-11-20T00:00:00.000000000",
          "2019-11-21T00:00:00.000000000",
          "2019-11-22T00:00:00.000000000",
          "2019-11-23T00:00:00.000000000",
          "2019-11-24T00:00:00.000000000",
          "2019-11-25T00:00:00.000000000",
          "2019-11-26T00:00:00.000000000",
          "2019-11-27T00:00:00.000000000",
          "2019-11-28T00:00:00.000000000",
          "2019-11-29T00:00:00.000000000",
          "2019-11-30T00:00:00.000000000",
          "2019-12-01T00:00:00.000000000",
          "2019-12-02T00:00:00.000000000",
          "2019-12-03T00:00:00.000000000",
          "2019-12-04T00:00:00.000000000",
          "2019-12-05T00:00:00.000000000",
          "2019-12-06T00:00:00.000000000",
          "2019-12-08T00:00:00.000000000",
          "2019-12-09T00:00:00.000000000",
          "2019-12-10T00:00:00.000000000",
          "2019-12-11T00:00:00.000000000",
          "2019-12-12T00:00:00.000000000",
          "2019-12-13T00:00:00.000000000",
          "2019-12-14T00:00:00.000000000",
          "2019-12-15T00:00:00.000000000",
          "2019-12-16T00:00:00.000000000",
          "2019-12-17T00:00:00.000000000",
          "2019-12-18T00:00:00.000000000",
          "2019-12-19T00:00:00.000000000",
          "2019-12-20T00:00:00.000000000",
          "2019-12-21T00:00:00.000000000",
          "2019-12-22T00:00:00.000000000",
          "2019-12-23T00:00:00.000000000",
          "2019-12-24T00:00:00.000000000",
          "2019-12-25T00:00:00.000000000",
          "2019-12-26T00:00:00.000000000",
          "2019-12-27T00:00:00.000000000",
          "2019-12-28T00:00:00.000000000",
          "2019-12-29T00:00:00.000000000",
          "2019-12-30T00:00:00.000000000",
          "2019-12-31T00:00:00.000000000",
          "2020-01-01T00:00:00.000000000",
          "2020-01-02T00:00:00.000000000",
          "2020-01-03T00:00:00.000000000",
          "2020-01-04T00:00:00.000000000",
          "2020-01-05T00:00:00.000000000",
          "2020-01-13T00:00:00.000000000",
          "2020-01-14T00:00:00.000000000",
          "2020-01-15T00:00:00.000000000",
          "2020-01-16T00:00:00.000000000",
          "2020-01-17T00:00:00.000000000",
          "2020-01-18T00:00:00.000000000",
          "2020-01-19T00:00:00.000000000",
          "2020-01-20T00:00:00.000000000",
          "2020-01-21T00:00:00.000000000",
          "2020-01-22T00:00:00.000000000",
          "2020-01-23T00:00:00.000000000",
          "2020-01-24T00:00:00.000000000",
          "2020-01-25T00:00:00.000000000",
          "2020-01-26T00:00:00.000000000",
          "2020-01-27T00:00:00.000000000",
          "2020-01-28T00:00:00.000000000",
          "2020-01-29T00:00:00.000000000",
          "2020-01-30T00:00:00.000000000",
          "2020-01-31T00:00:00.000000000",
          "2020-02-01T00:00:00.000000000",
          "2020-02-02T00:00:00.000000000",
          "2020-02-03T00:00:00.000000000",
          "2020-02-04T00:00:00.000000000",
          "2020-02-05T00:00:00.000000000",
          "2020-02-13T00:00:00.000000000",
          "2020-02-14T00:00:00.000000000",
          "2020-02-15T00:00:00.000000000",
          "2020-02-16T00:00:00.000000000",
          "2020-02-17T00:00:00.000000000",
          "2020-02-18T00:00:00.000000000",
          "2020-02-19T00:00:00.000000000",
          "2020-02-20T00:00:00.000000000",
          "2020-02-21T00:00:00.000000000",
          "2020-02-22T00:00:00.000000000",
          "2020-02-23T00:00:00.000000000",
          "2020-02-24T00:00:00.000000000",
          "2020-02-25T00:00:00.000000000",
          "2020-02-26T00:00:00.000000000",
          "2020-02-27T00:00:00.000000000",
          "2020-02-28T00:00:00.000000000",
          "2020-02-29T00:00:00.000000000",
          "2020-03-01T00:00:00.000000000",
          "2020-03-02T00:00:00.000000000",
          "2020-03-03T00:00:00.000000000",
          "2020-03-04T00:00:00.000000000",
          "2020-03-05T00:00:00.000000000",
          "2020-03-13T00:00:00.000000000",
          "2020-03-14T00:00:00.000000000",
          "2020-03-15T00:00:00.000000000",
          "2020-03-16T00:00:00.000000000",
          "2020-03-17T00:00:00.000000000",
          "2020-03-18T00:00:00.000000000",
          "2020-03-19T00:00:00.000000000",
          "2020-03-20T00:00:00.000000000",
          "2020-03-21T00:00:00.000000000",
          "2020-03-22T00:00:00.000000000",
          "2020-03-23T00:00:00.000000000",
          "2020-03-24T00:00:00.000000000",
          "2020-03-25T00:00:00.000000000",
          "2020-03-26T00:00:00.000000000",
          "2020-03-27T00:00:00.000000000",
          "2020-03-28T00:00:00.000000000",
          "2020-03-29T00:00:00.000000000",
          "2020-03-30T00:00:00.000000000",
          "2020-03-31T00:00:00.000000000",
          "2020-04-01T00:00:00.000000000",
          "2020-04-02T00:00:00.000000000",
          "2020-04-03T00:00:00.000000000",
          "2020-04-04T00:00:00.000000000",
          "2020-04-05T00:00:00.000000000",
          "2020-04-13T00:00:00.000000000",
          "2020-04-14T00:00:00.000000000",
          "2020-04-15T00:00:00.000000000",
          "2020-04-16T00:00:00.000000000",
          "2020-04-17T00:00:00.000000000",
          "2020-04-18T00:00:00.000000000",
          "2020-04-19T00:00:00.000000000",
          "2020-04-20T00:00:00.000000000",
          "2020-04-21T00:00:00.000000000",
          "2020-04-22T00:00:00.000000000",
          "2020-04-23T00:00:00.000000000",
          "2020-04-24T00:00:00.000000000",
          "2020-04-25T00:00:00.000000000",
          "2020-04-26T00:00:00.000000000",
          "2020-04-27T00:00:00.000000000",
          "2020-04-28T00:00:00.000000000",
          "2020-04-29T00:00:00.000000000",
          "2020-04-30T00:00:00.000000000",
          "2020-05-01T00:00:00.000000000",
          "2020-05-02T00:00:00.000000000",
          "2020-05-03T00:00:00.000000000",
          "2020-05-04T00:00:00.000000000",
          "2020-05-05T00:00:00.000000000",
          "2020-05-13T00:00:00.000000000",
          "2020-05-14T00:00:00.000000000",
          "2020-05-15T00:00:00.000000000",
          "2020-05-16T00:00:00.000000000",
          "2020-05-17T00:00:00.000000000",
          "2020-05-18T00:00:00.000000000",
          "2020-05-19T00:00:00.000000000",
          "2020-05-20T00:00:00.000000000",
          "2020-05-21T00:00:00.000000000",
          "2020-05-22T00:00:00.000000000",
          "2020-05-23T00:00:00.000000000",
          "2020-06-01T00:00:00.000000000",
          "2020-06-02T00:00:00.000000000",
          "2020-06-03T00:00:00.000000000",
          "2020-06-04T00:00:00.000000000",
          "2020-06-05T00:00:00.000000000",
          "2020-07-01T00:00:00.000000000",
          "2020-07-02T00:00:00.000000000",
          "2020-07-03T00:00:00.000000000",
          "2020-07-04T00:00:00.000000000",
          "2020-07-05T00:00:00.000000000",
          "2020-08-01T00:00:00.000000000",
          "2020-08-02T00:00:00.000000000",
          "2020-08-03T00:00:00.000000000",
          "2020-08-04T00:00:00.000000000",
          "2020-08-05T00:00:00.000000000",
          "2020-09-01T00:00:00.000000000",
          "2020-09-02T00:00:00.000000000",
          "2020-09-03T00:00:00.000000000",
          "2020-09-04T00:00:00.000000000",
          "2020-09-05T00:00:00.000000000",
          "2020-10-01T00:00:00.000000000",
          "2020-10-02T00:00:00.000000000",
          "2020-10-03T00:00:00.000000000",
          "2020-10-04T00:00:00.000000000",
          "2020-10-05T00:00:00.000000000",
          "2020-11-01T00:00:00.000000000",
          "2020-11-02T00:00:00.000000000",
          "2020-11-03T00:00:00.000000000",
          "2020-11-04T00:00:00.000000000",
          "2020-11-05T00:00:00.000000000",
          "2020-12-01T00:00:00.000000000",
          "2020-12-02T00:00:00.000000000",
          "2020-12-03T00:00:00.000000000",
          "2020-12-04T00:00:00.000000000",
          "2020-12-05T00:00:00.000000000"
         ],
         "y": {
          "bdata": "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",
          "dtype": "f8"
         }
        },
        {
         "mode": "lines+markers",
         "name": "predicted",
         "type": "scatter",
         "x": [
          "2019-01-02T00:00:00.000000000",
          "2019-01-03T00:00:00.000000000",
          "2019-01-04T00:00:00.000000000",
          "2019-01-05T00:00:00.000000000",
          "2019-01-06T00:00:00.000000000",
          "2019-01-07T00:00:00.000000000",
          "2019-01-08T00:00:00.000000000",
          "2019-01-09T00:00:00.000000000",
          "2019-01-10T00:00:00.000000000",
          "2019-01-11T00:00:00.000000000",
          "2019-01-12T00:00:00.000000000",
          "2019-01-13T00:00:00.000000000",
          "2019-01-14T00:00:00.000000000",
          "2019-01-15T00:00:00.000000000",
          "2019-01-16T00:00:00.000000000",
          "2019-01-17T00:00:00.000000000",
          "2019-01-18T00:00:00.000000000",
          "2019-01-19T00:00:00.000000000",
          "2019-01-20T00:00:00.000000000",
          "2019-01-21T00:00:00.000000000",
          "2019-01-22T00:00:00.000000000",
          "2019-01-23T00:00:00.000000000",
          "2019-01-24T00:00:00.000000000",
          "2019-01-25T00:00:00.000000000",
          "2019-01-26T00:00:00.000000000",
          "2019-01-27T00:00:00.000000000",
          "2019-01-28T00:00:00.000000000",
          "2019-01-29T00:00:00.000000000",
          "2019-01-30T00:00:00.000000000",
          "2019-01-31T00:00:00.000000000",
          "2019-02-02T00:00:00.000000000",
          "2019-02-03T00:00:00.000000000",
          "2019-02-04T00:00:00.000000000",
          "2019-02-05T00:00:00.000000000",
          "2019-02-06T00:00:00.000000000",
          "2019-02-07T00:00:00.000000000",
          "2019-02-08T00:00:00.000000000",
          "2019-02-09T00:00:00.000000000",
          "2019-02-10T00:00:00.000000000",
          "2019-02-11T00:00:00.000000000",
          "2019-02-12T00:00:00.000000000",
          "2019-02-13T00:00:00.000000000",
          "2019-02-14T00:00:00.000000000",
          "2019-02-15T00:00:00.000000000",
          "2019-02-16T00:00:00.000000000",
          "2019-02-17T00:00:00.000000000",
          "2019-02-18T00:00:00.000000000",
          "2019-02-19T00:00:00.000000000",
          "2019-02-20T00:00:00.000000000",
          "2019-02-21T00:00:00.000000000",
          "2019-02-22T00:00:00.000000000",
          "2019-02-23T00:00:00.000000000",
          "2019-02-24T00:00:00.000000000",
          "2019-02-25T00:00:00.000000000",
          "2019-02-26T00:00:00.000000000",
          "2019-02-27T00:00:00.000000000",
          "2019-02-28T00:00:00.000000000",
          "2019-03-02T00:00:00.000000000",
          "2019-03-03T00:00:00.000000000",
          "2019-03-04T00:00:00.000000000",
          "2019-03-05T00:00:00.000000000",
          "2019-03-06T00:00:00.000000000",
          "2019-03-07T00:00:00.000000000",
          "2019-03-08T00:00:00.000000000",
          "2019-03-09T00:00:00.000000000",
          "2019-03-10T00:00:00.000000000",
          "2019-03-11T00:00:00.000000000",
          "2019-03-12T00:00:00.000000000",
          "2019-03-13T00:00:00.000000000",
          "2019-03-14T00:00:00.000000000",
          "2019-03-15T00:00:00.000000000",
          "2019-03-16T00:00:00.000000000",
          "2019-03-17T00:00:00.000000000",
          "2019-03-18T00:00:00.000000000",
          "2019-03-19T00:00:00.000000000",
          "2019-03-20T00:00:00.000000000",
          "2019-03-21T00:00:00.000000000",
          "2019-03-22T00:00:00.000000000",
          "2019-03-23T00:00:00.000000000",
          "2019-03-24T00:00:00.000000000",
          "2019-03-25T00:00:00.000000000",
          "2019-03-26T00:00:00.000000000",
          "2019-03-27T00:00:00.000000000",
          "2019-03-28T00:00:00.000000000",
          "2019-03-29T00:00:00.000000000",
          "2019-03-30T00:00:00.000000000",
          "2019-03-31T00:00:00.000000000",
          "2019-04-02T00:00:00.000000000",
          "2019-04-03T00:00:00.000000000",
          "2019-04-04T00:00:00.000000000",
          "2019-04-05T00:00:00.000000000",
          "2019-04-06T00:00:00.000000000",
          "2019-04-07T00:00:00.000000000",
          "2019-04-08T00:00:00.000000000",
          "2019-04-09T00:00:00.000000000",
          "2019-04-10T00:00:00.000000000",
          "2019-04-11T00:00:00.000000000",
          "2019-04-12T00:00:00.000000000",
          "2019-04-13T00:00:00.000000000",
          "2019-04-14T00:00:00.000000000",
          "2019-04-15T00:00:00.000000000",
          "2019-04-16T00:00:00.000000000",
          "2019-04-17T00:00:00.000000000",
          "2019-04-18T00:00:00.000000000",
          "2019-04-19T00:00:00.000000000",
          "2019-04-20T00:00:00.000000000",
          "2019-04-21T00:00:00.000000000",
          "2019-04-22T00:00:00.000000000",
          "2019-04-23T00:00:00.000000000",
          "2019-04-24T00:00:00.000000000",
          "2019-04-25T00:00:00.000000000",
          "2019-04-26T00:00:00.000000000",
          "2019-04-27T00:00:00.000000000",
          "2019-04-28T00:00:00.000000000",
          "2019-04-29T00:00:00.000000000",
          "2019-04-30T00:00:00.000000000",
          "2019-05-02T00:00:00.000000000",
          "2019-05-03T00:00:00.000000000",
          "2019-05-04T00:00:00.000000000",
          "2019-05-05T00:00:00.000000000",
          "2019-05-06T00:00:00.000000000",
          "2019-05-07T00:00:00.000000000",
          "2019-05-08T00:00:00.000000000",
          "2019-05-09T00:00:00.000000000",
          "2019-05-10T00:00:00.000000000",
          "2019-05-11T00:00:00.000000000",
          "2019-05-12T00:00:00.000000000",
          "2019-05-13T00:00:00.000000000",
          "2019-05-14T00:00:00.000000000",
          "2019-05-15T00:00:00.000000000",
          "2019-05-16T00:00:00.000000000",
          "2019-05-17T00:00:00.000000000",
          "2019-05-18T00:00:00.000000000",
          "2019-05-19T00:00:00.000000000",
          "2019-05-20T00:00:00.000000000",
          "2019-05-21T00:00:00.000000000",
          "2019-05-22T00:00:00.000000000",
          "2019-05-23T00:00:00.000000000",
          "2019-05-24T00:00:00.000000000",
          "2019-05-25T00:00:00.000000000",
          "2019-05-26T00:00:00.000000000",
          "2019-05-27T00:00:00.000000000",
          "2019-05-28T00:00:00.000000000",
          "2019-05-29T00:00:00.000000000",
          "2019-05-30T00:00:00.000000000",
          "2019-05-31T00:00:00.000000000",
          "2019-06-02T00:00:00.000000000",
          "2019-06-03T00:00:00.000000000",
          "2019-06-04T00:00:00.000000000",
          "2019-06-05T00:00:00.000000000",
          "2019-06-06T00:00:00.000000000",
          "2019-06-07T00:00:00.000000000",
          "2019-06-08T00:00:00.000000000",
          "2019-06-09T00:00:00.000000000",
          "2019-06-10T00:00:00.000000000",
          "2019-06-11T00:00:00.000000000",
          "2019-06-12T00:00:00.000000000",
          "2019-06-13T00:00:00.000000000",
          "2019-06-14T00:00:00.000000000",
          "2019-06-15T00:00:00.000000000",
          "2019-06-16T00:00:00.000000000",
          "2019-06-17T00:00:00.000000000",
          "2019-06-18T00:00:00.000000000",
          "2019-06-19T00:00:00.000000000",
          "2019-06-20T00:00:00.000000000",
          "2019-06-21T00:00:00.000000000",
          "2019-06-22T00:00:00.000000000",
          "2019-06-23T00:00:00.000000000",
          "2019-06-24T00:00:00.000000000",
          "2019-06-25T00:00:00.000000000",
          "2019-06-26T00:00:00.000000000",
          "2019-06-27T00:00:00.000000000",
          "2019-06-28T00:00:00.000000000",
          "2019-06-29T00:00:00.000000000",
          "2019-06-30T00:00:00.000000000",
          "2019-07-01T00:00:00.000000000",
          "2019-07-02T00:00:00.000000000",
          "2019-07-03T00:00:00.000000000",
          "2019-07-04T00:00:00.000000000",
          "2019-07-05T00:00:00.000000000",
          "2019-07-06T00:00:00.000000000",
          "2019-07-07T00:00:00.000000000",
          "2019-07-08T00:00:00.000000000",
          "2019-07-09T00:00:00.000000000",
          "2019-07-10T00:00:00.000000000",
          "2019-07-11T00:00:00.000000000",
          "2019-07-12T00:00:00.000000000",
          "2019-07-13T00:00:00.000000000",
          "2019-07-14T00:00:00.000000000",
          "2019-07-15T00:00:00.000000000",
          "2019-07-16T00:00:00.000000000",
          "2019-07-17T00:00:00.000000000",
          "2019-07-18T00:00:00.000000000",
          "2019-07-19T00:00:00.000000000",
          "2019-07-20T00:00:00.000000000",
          "2019-07-21T00:00:00.000000000",
          "2019-07-22T00:00:00.000000000",
          "2019-07-23T00:00:00.000000000",
          "2019-07-24T00:00:00.000000000",
          "2019-07-25T00:00:00.000000000",
          "2019-07-26T00:00:00.000000000",
          "2019-07-27T00:00:00.000000000",
          "2019-07-28T00:00:00.000000000",
          "2019-07-29T00:00:00.000000000",
          "2019-07-30T00:00:00.000000000",
          "2019-07-31T00:00:00.000000000",
          "2019-08-01T00:00:00.000000000",
          "2019-08-02T00:00:00.000000000",
          "2019-08-03T00:00:00.000000000",
          "2019-08-04T00:00:00.000000000",
          "2019-08-05T00:00:00.000000000",
          "2019-08-06T00:00:00.000000000",
          "2019-08-08T00:00:00.000000000",
          "2019-08-09T00:00:00.000000000",
          "2019-08-10T00:00:00.000000000",
          "2019-08-11T00:00:00.000000000",
          "2019-08-12T00:00:00.000000000",
          "2019-08-13T00:00:00.000000000",
          "2019-08-14T00:00:00.000000000",
          "2019-08-15T00:00:00.000000000",
          "2019-08-16T00:00:00.000000000",
          "2019-08-17T00:00:00.000000000",
          "2019-08-18T00:00:00.000000000",
          "2019-08-19T00:00:00.000000000",
          "2019-08-20T00:00:00.000000000",
          "2019-08-21T00:00:00.000000000",
          "2019-08-22T00:00:00.000000000",
          "2019-08-23T00:00:00.000000000",
          "2019-08-24T00:00:00.000000000",
          "2019-08-25T00:00:00.000000000",
          "2019-08-26T00:00:00.000000000",
          "2019-08-27T00:00:00.000000000",
          "2019-08-28T00:00:00.000000000",
          "2019-08-29T00:00:00.000000000",
          "2019-08-30T00:00:00.000000000",
          "2019-08-31T00:00:00.000000000",
          "2019-09-01T00:00:00.000000000",
          "2019-09-02T00:00:00.000000000",
          "2019-09-03T00:00:00.000000000",
          "2019-09-04T00:00:00.000000000",
          "2019-09-05T00:00:00.000000000",
          "2019-09-06T00:00:00.000000000",
          "2019-09-08T00:00:00.000000000",
          "2019-09-09T00:00:00.000000000",
          "2019-09-10T00:00:00.000000000",
          "2019-09-11T00:00:00.000000000",
          "2019-09-12T00:00:00.000000000",
          "2019-09-13T00:00:00.000000000",
          "2019-09-14T00:00:00.000000000",
          "2019-09-15T00:00:00.000000000",
          "2019-09-16T00:00:00.000000000",
          "2019-09-17T00:00:00.000000000",
          "2019-09-18T00:00:00.000000000",
          "2019-09-19T00:00:00.000000000",
          "2019-09-20T00:00:00.000000000",
          "2019-09-21T00:00:00.000000000",
          "2019-09-22T00:00:00.000000000",
          "2019-09-23T00:00:00.000000000",
          "2019-09-24T00:00:00.000000000",
          "2019-09-25T00:00:00.000000000",
          "2019-09-26T00:00:00.000000000",
          "2019-09-27T00:00:00.000000000",
          "2019-09-28T00:00:00.000000000",
          "2019-09-29T00:00:00.000000000",
          "2019-09-30T00:00:00.000000000",
          "2019-10-01T00:00:00.000000000",
          "2019-10-02T00:00:00.000000000",
          "2019-10-03T00:00:00.000000000",
          "2019-10-04T00:00:00.000000000",
          "2019-10-05T00:00:00.000000000",
          "2019-10-06T00:00:00.000000000",
          "2019-10-08T00:00:00.000000000",
          "2019-10-09T00:00:00.000000000",
          "2019-10-10T00:00:00.000000000",
          "2019-10-11T00:00:00.000000000",
          "2019-10-12T00:00:00.000000000",
          "2019-10-13T00:00:00.000000000",
          "2019-10-14T00:00:00.000000000",
          "2019-10-15T00:00:00.000000000",
          "2019-10-16T00:00:00.000000000",
          "2019-10-17T00:00:00.000000000",
          "2019-10-18T00:00:00.000000000",
          "2019-10-19T00:00:00.000000000",
          "2019-10-20T00:00:00.000000000",
          "2019-10-21T00:00:00.000000000",
          "2019-10-22T00:00:00.000000000",
          "2019-10-23T00:00:00.000000000",
          "2019-10-24T00:00:00.000000000",
          "2019-10-25T00:00:00.000000000",
          "2019-10-26T00:00:00.000000000",
          "2019-10-27T00:00:00.000000000",
          "2019-10-28T00:00:00.000000000",
          "2019-10-29T00:00:00.000000000",
          "2019-10-30T00:00:00.000000000",
          "2019-10-31T00:00:00.000000000",
          "2019-11-01T00:00:00.000000000",
          "2019-11-02T00:00:00.000000000",
          "2019-11-03T00:00:00.000000000",
          "2019-11-04T00:00:00.000000000",
          "2019-11-05T00:00:00.000000000",
          "2019-11-06T00:00:00.000000000",
          "2019-11-08T00:00:00.000000000",
          "2019-11-09T00:00:00.000000000",
          "2019-11-10T00:00:00.000000000",
          "2019-11-11T00:00:00.000000000",
          "2019-11-12T00:00:00.000000000",
          "2019-11-13T00:00:00.000000000",
          "2019-11-14T00:00:00.000000000",
          "2019-11-15T00:00:00.000000000",
          "2019-11-16T00:00:00.000000000",
          "2019-11-17T00:00:00.000000000",
          "2019-11-18T00:00:00.000000000",
          "2019-11-19T00:00:00.000000000",
          "2019-11-20T00:00:00.000000000",
          "2019-11-21T00:00:00.000000000",
          "2019-11-22T00:00:00.000000000",
          "2019-11-23T00:00:00.000000000",
          "2019-11-24T00:00:00.000000000",
          "2019-11-25T00:00:00.000000000",
          "2019-11-26T00:00:00.000000000",
          "2019-11-27T00:00:00.000000000",
          "2019-11-28T00:00:00.000000000",
          "2019-11-29T00:00:00.000000000",
          "2019-11-30T00:00:00.000000000",
          "2019-12-01T00:00:00.000000000",
          "2019-12-02T00:00:00.000000000",
          "2019-12-03T00:00:00.000000000",
          "2019-12-04T00:00:00.000000000",
          "2019-12-05T00:00:00.000000000",
          "2019-12-06T00:00:00.000000000",
          "2019-12-08T00:00:00.000000000",
          "2019-12-09T00:00:00.000000000",
          "2019-12-10T00:00:00.000000000",
          "2019-12-11T00:00:00.000000000",
          "2019-12-12T00:00:00.000000000",
          "2019-12-13T00:00:00.000000000",
          "2019-12-14T00:00:00.000000000",
          "2019-12-15T00:00:00.000000000",
          "2019-12-16T00:00:00.000000000",
          "2019-12-17T00:00:00.000000000",
          "2019-12-18T00:00:00.000000000",
          "2019-12-19T00:00:00.000000000",
          "2019-12-20T00:00:00.000000000",
          "2019-12-21T00:00:00.000000000",
          "2019-12-22T00:00:00.000000000",
          "2019-12-23T00:00:00.000000000",
          "2019-12-24T00:00:00.000000000",
          "2019-12-25T00:00:00.000000000",
          "2019-12-26T00:00:00.000000000",
          "2019-12-27T00:00:00.000000000",
          "2019-12-28T00:00:00.000000000",
          "2019-12-29T00:00:00.000000000",
          "2019-12-30T00:00:00.000000000",
          "2019-12-31T00:00:00.000000000",
          "2020-01-01T00:00:00.000000000",
          "2020-01-02T00:00:00.000000000",
          "2020-01-03T00:00:00.000000000",
          "2020-01-04T00:00:00.000000000",
          "2020-01-05T00:00:00.000000000",
          "2020-01-13T00:00:00.000000000",
          "2020-01-14T00:00:00.000000000",
          "2020-01-15T00:00:00.000000000",
          "2020-01-16T00:00:00.000000000",
          "2020-01-17T00:00:00.000000000",
          "2020-01-18T00:00:00.000000000",
          "2020-01-19T00:00:00.000000000",
          "2020-01-20T00:00:00.000000000",
          "2020-01-21T00:00:00.000000000",
          "2020-01-22T00:00:00.000000000",
          "2020-01-23T00:00:00.000000000",
          "2020-01-24T00:00:00.000000000",
          "2020-01-25T00:00:00.000000000",
          "2020-01-26T00:00:00.000000000",
          "2020-01-27T00:00:00.000000000",
          "2020-01-28T00:00:00.000000000",
          "2020-01-29T00:00:00.000000000",
          "2020-01-30T00:00:00.000000000",
          "2020-01-31T00:00:00.000000000",
          "2020-02-01T00:00:00.000000000",
          "2020-02-02T00:00:00.000000000",
          "2020-02-03T00:00:00.000000000",
          "2020-02-04T00:00:00.000000000",
          "2020-02-05T00:00:00.000000000",
          "2020-02-13T00:00:00.000000000",
          "2020-02-14T00:00:00.000000000",
          "2020-02-15T00:00:00.000000000",
          "2020-02-16T00:00:00.000000000",
          "2020-02-17T00:00:00.000000000",
          "2020-02-18T00:00:00.000000000",
          "2020-02-19T00:00:00.000000000",
          "2020-02-20T00:00:00.000000000",
          "2020-02-21T00:00:00.000000000",
          "2020-02-22T00:00:00.000000000",
          "2020-02-23T00:00:00.000000000",
          "2020-02-24T00:00:00.000000000",
          "2020-02-25T00:00:00.000000000",
          "2020-02-26T00:00:00.000000000",
          "2020-02-27T00:00:00.000000000",
          "2020-02-28T00:00:00.000000000",
          "2020-02-29T00:00:00.000000000",
          "2020-03-01T00:00:00.000000000",
          "2020-03-02T00:00:00.000000000",
          "2020-03-03T00:00:00.000000000",
          "2020-03-04T00:00:00.000000000",
          "2020-03-05T00:00:00.000000000",
          "2020-03-13T00:00:00.000000000",
          "2020-03-14T00:00:00.000000000",
          "2020-03-15T00:00:00.000000000",
          "2020-03-16T00:00:00.000000000",
          "2020-03-17T00:00:00.000000000",
          "2020-03-18T00:00:00.000000000",
          "2020-03-19T00:00:00.000000000",
          "2020-03-20T00:00:00.000000000",
          "2020-03-21T00:00:00.000000000",
          "2020-03-22T00:00:00.000000000",
          "2020-03-23T00:00:00.000000000",
          "2020-03-24T00:00:00.000000000",
          "2020-03-25T00:00:00.000000000",
          "2020-03-26T00:00:00.000000000",
          "2020-03-27T00:00:00.000000000",
          "2020-03-28T00:00:00.000000000",
          "2020-03-29T00:00:00.000000000",
          "2020-03-30T00:00:00.000000000",
          "2020-03-31T00:00:00.000000000",
          "2020-04-01T00:00:00.000000000",
          "2020-04-02T00:00:00.000000000",
          "2020-04-03T00:00:00.000000000",
          "2020-04-04T00:00:00.000000000",
          "2020-04-05T00:00:00.000000000",
          "2020-04-13T00:00:00.000000000",
          "2020-04-14T00:00:00.000000000",
          "2020-04-15T00:00:00.000000000",
          "2020-04-16T00:00:00.000000000",
          "2020-04-17T00:00:00.000000000",
          "2020-04-18T00:00:00.000000000",
          "2020-04-19T00:00:00.000000000",
          "2020-04-20T00:00:00.000000000",
          "2020-04-21T00:00:00.000000000",
          "2020-04-22T00:00:00.000000000",
          "2020-04-23T00:00:00.000000000",
          "2020-04-24T00:00:00.000000000",
          "2020-04-25T00:00:00.000000000",
          "2020-04-26T00:00:00.000000000",
          "2020-04-27T00:00:00.000000000",
          "2020-04-28T00:00:00.000000000",
          "2020-04-29T00:00:00.000000000",
          "2020-04-30T00:00:00.000000000",
          "2020-05-01T00:00:00.000000000",
          "2020-05-02T00:00:00.000000000",
          "2020-05-03T00:00:00.000000000",
          "2020-05-04T00:00:00.000000000",
          "2020-05-05T00:00:00.000000000",
          "2020-05-13T00:00:00.000000000",
          "2020-05-14T00:00:00.000000000",
          "2020-05-15T00:00:00.000000000",
          "2020-05-16T00:00:00.000000000",
          "2020-05-17T00:00:00.000000000",
          "2020-05-18T00:00:00.000000000",
          "2020-05-19T00:00:00.000000000",
          "2020-05-20T00:00:00.000000000",
          "2020-05-21T00:00:00.000000000",
          "2020-05-22T00:00:00.000000000",
          "2020-05-23T00:00:00.000000000",
          "2020-06-01T00:00:00.000000000",
          "2020-06-02T00:00:00.000000000",
          "2020-06-03T00:00:00.000000000",
          "2020-06-04T00:00:00.000000000",
          "2020-06-05T00:00:00.000000000",
          "2020-07-01T00:00:00.000000000",
          "2020-07-02T00:00:00.000000000",
          "2020-07-03T00:00:00.000000000",
          "2020-07-04T00:00:00.000000000",
          "2020-07-05T00:00:00.000000000",
          "2020-08-01T00:00:00.000000000",
          "2020-08-02T00:00:00.000000000",
          "2020-08-03T00:00:00.000000000",
          "2020-08-04T00:00:00.000000000",
          "2020-08-05T00:00:00.000000000",
          "2020-09-01T00:00:00.000000000",
          "2020-09-02T00:00:00.000000000",
          "2020-09-03T00:00:00.000000000",
          "2020-09-04T00:00:00.000000000",
          "2020-09-05T00:00:00.000000000",
          "2020-10-01T00:00:00.000000000",
          "2020-10-02T00:00:00.000000000",
          "2020-10-03T00:00:00.000000000",
          "2020-10-04T00:00:00.000000000",
          "2020-10-05T00:00:00.000000000",
          "2020-11-01T00:00:00.000000000",
          "2020-11-02T00:00:00.000000000",
          "2020-11-03T00:00:00.000000000",
          "2020-11-04T00:00:00.000000000",
          "2020-11-05T00:00:00.000000000",
          "2020-12-01T00:00:00.000000000",
          "2020-12-02T00:00:00.000000000",
          "2020-12-03T00:00:00.000000000",
          "2020-12-04T00:00:00.000000000",
          "2020-12-05T00:00:00.000000000",
          "2020-12-06T00:00:00.000000000",
          "2020-12-07T00:00:00.000000000",
          "2020-12-08T00:00:00.000000000",
          "2020-12-09T00:00:00.000000000",
          "2020-12-10T00:00:00.000000000",
          "2020-12-11T00:00:00.000000000",
          "2020-12-12T00:00:00.000000000",
          "2020-12-13T00:00:00.000000000",
          "2020-12-14T00:00:00.000000000",
          "2020-12-15T00:00:00.000000000",
          "2020-12-16T00:00:00.000000000",
          "2020-12-17T00:00:00.000000000",
          "2020-12-18T00:00:00.000000000",
          "2020-12-19T00:00:00.000000000",
          "2020-12-20T00:00:00.000000000",
          "2020-12-21T00:00:00.000000000",
          "2020-12-22T00:00:00.000000000",
          "2020-12-23T00:00:00.000000000",
          "2020-12-24T00:00:00.000000000",
          "2020-12-25T00:00:00.000000000",
          "2020-12-26T00:00:00.000000000",
          "2020-12-27T00:00:00.000000000",
          "2020-12-28T00:00:00.000000000",
          "2020-12-29T00:00:00.000000000",
          "2020-12-30T00:00:00.000000000",
          "2020-12-31T00:00:00.000000000",
          "2021-01-01T00:00:00.000000000",
          "2021-01-02T00:00:00.000000000",
          "2021-01-03T00:00:00.000000000",
          "2021-01-04T00:00:00.000000000",
          "2021-01-05T00:00:00.000000000",
          "2021-01-06T00:00:00.000000000",
          "2021-01-07T00:00:00.000000000",
          "2021-01-08T00:00:00.000000000",
          "2021-01-09T00:00:00.000000000",
          "2021-01-10T00:00:00.000000000",
          "2021-01-11T00:00:00.000000000",
          "2021-01-12T00:00:00.000000000",
          "2021-01-13T00:00:00.000000000",
          "2021-01-14T00:00:00.000000000",
          "2021-01-15T00:00:00.000000000",
          "2021-01-16T00:00:00.000000000",
          "2021-01-17T00:00:00.000000000",
          "2021-01-18T00:00:00.000000000",
          "2021-01-19T00:00:00.000000000",
          "2021-01-20T00:00:00.000000000",
          "2021-01-21T00:00:00.000000000",
          "2021-01-22T00:00:00.000000000",
          "2021-01-23T00:00:00.000000000",
          "2021-01-24T00:00:00.000000000",
          "2021-01-25T00:00:00.000000000",
          "2021-01-26T00:00:00.000000000",
          "2021-01-27T00:00:00.000000000",
          "2021-01-28T00:00:00.000000000",
          "2021-01-29T00:00:00.000000000",
          "2021-01-30T00:00:00.000000000",
          "2021-01-31T00:00:00.000000000",
          "2021-02-01T00:00:00.000000000",
          "2021-02-02T00:00:00.000000000",
          "2021-02-03T00:00:00.000000000",
          "2021-02-04T00:00:00.000000000",
          "2021-02-05T00:00:00.000000000",
          "2021-02-06T00:00:00.000000000",
          "2021-02-07T00:00:00.000000000",
          "2021-02-08T00:00:00.000000000",
          "2021-02-09T00:00:00.000000000",
          "2021-02-10T00:00:00.000000000",
          "2021-02-11T00:00:00.000000000",
          "2021-02-12T00:00:00.000000000",
          "2021-02-13T00:00:00.000000000",
          "2021-02-14T00:00:00.000000000",
          "2021-02-15T00:00:00.000000000",
          "2021-02-16T00:00:00.000000000",
          "2021-02-17T00:00:00.000000000",
          "2021-02-18T00:00:00.000000000",
          "2021-02-19T00:00:00.000000000",
          "2021-02-20T00:00:00.000000000",
          "2021-02-21T00:00:00.000000000",
          "2021-02-22T00:00:00.000000000",
          "2021-02-23T00:00:00.000000000",
          "2021-02-24T00:00:00.000000000",
          "2021-02-25T00:00:00.000000000",
          "2021-02-26T00:00:00.000000000",
          "2021-02-27T00:00:00.000000000",
          "2021-02-28T00:00:00.000000000",
          "2021-03-01T00:00:00.000000000",
          "2021-03-02T00:00:00.000000000",
          "2021-03-03T00:00:00.000000000",
          "2021-03-04T00:00:00.000000000",
          "2021-03-05T00:00:00.000000000",
          "2021-03-06T00:00:00.000000000",
          "2021-03-07T00:00:00.000000000",
          "2021-03-08T00:00:00.000000000",
          "2021-03-09T00:00:00.000000000",
          "2021-03-10T00:00:00.000000000",
          "2021-03-11T00:00:00.000000000",
          "2021-03-12T00:00:00.000000000",
          "2021-03-13T00:00:00.000000000",
          "2021-03-14T00:00:00.000000000",
          "2021-03-15T00:00:00.000000000",
          "2021-03-16T00:00:00.000000000",
          "2021-03-17T00:00:00.000000000",
          "2021-03-18T00:00:00.000000000",
          "2021-03-19T00:00:00.000000000",
          "2021-03-20T00:00:00.000000000",
          "2021-03-21T00:00:00.000000000",
          "2021-03-22T00:00:00.000000000",
          "2021-03-23T00:00:00.000000000",
          "2021-03-24T00:00:00.000000000",
          "2021-03-25T00:00:00.000000000",
          "2021-03-26T00:00:00.000000000",
          "2021-03-27T00:00:00.000000000",
          "2021-03-28T00:00:00.000000000",
          "2021-03-29T00:00:00.000000000",
          "2021-03-30T00:00:00.000000000",
          "2021-03-31T00:00:00.000000000",
          "2021-04-01T00:00:00.000000000",
          "2021-04-02T00:00:00.000000000",
          "2021-04-03T00:00:00.000000000",
          "2021-04-04T00:00:00.000000000",
          "2021-04-05T00:00:00.000000000",
          "2021-04-06T00:00:00.000000000",
          "2021-04-07T00:00:00.000000000",
          "2021-04-08T00:00:00.000000000",
          "2021-04-09T00:00:00.000000000",
          "2021-04-10T00:00:00.000000000",
          "2021-04-11T00:00:00.000000000",
          "2021-04-12T00:00:00.000000000",
          "2021-04-13T00:00:00.000000000",
          "2021-04-14T00:00:00.000000000",
          "2021-04-15T00:00:00.000000000",
          "2021-04-16T00:00:00.000000000",
          "2021-04-17T00:00:00.000000000",
          "2021-04-18T00:00:00.000000000",
          "2021-04-19T00:00:00.000000000",
          "2021-04-20T00:00:00.000000000",
          "2021-04-21T00:00:00.000000000",
          "2021-04-22T00:00:00.000000000",
          "2021-04-23T00:00:00.000000000",
          "2021-04-24T00:00:00.000000000",
          "2021-04-25T00:00:00.000000000",
          "2021-04-26T00:00:00.000000000",
          "2021-04-27T00:00:00.000000000",
          "2021-04-28T00:00:00.000000000",
          "2021-04-29T00:00:00.000000000",
          "2021-04-30T00:00:00.000000000",
          "2021-05-01T00:00:00.000000000",
          "2021-05-02T00:00:00.000000000",
          "2021-05-03T00:00:00.000000000",
          "2021-05-04T00:00:00.000000000",
          "2021-05-05T00:00:00.000000000",
          "2021-05-06T00:00:00.000000000",
          "2021-05-07T00:00:00.000000000",
          "2021-05-08T00:00:00.000000000",
          "2021-05-09T00:00:00.000000000",
          "2021-05-10T00:00:00.000000000",
          "2021-05-11T00:00:00.000000000",
          "2021-05-12T00:00:00.000000000",
          "2021-05-13T00:00:00.000000000",
          "2021-05-14T00:00:00.000000000",
          "2021-05-15T00:00:00.000000000",
          "2021-05-16T00:00:00.000000000",
          "2021-05-17T00:00:00.000000000",
          "2021-05-18T00:00:00.000000000",
          "2021-05-19T00:00:00.000000000",
          "2021-05-20T00:00:00.000000000",
          "2021-05-21T00:00:00.000000000",
          "2021-05-22T00:00:00.000000000",
          "2021-05-23T00:00:00.000000000",
          "2021-05-24T00:00:00.000000000",
          "2021-05-25T00:00:00.000000000",
          "2021-05-26T00:00:00.000000000",
          "2021-05-27T00:00:00.000000000",
          "2021-05-28T00:00:00.000000000",
          "2021-05-29T00:00:00.000000000",
          "2021-05-30T00:00:00.000000000",
          "2021-05-31T00:00:00.000000000",
          "2021-06-01T00:00:00.000000000",
          "2021-06-02T00:00:00.000000000",
          "2021-06-03T00:00:00.000000000",
          "2021-06-04T00:00:00.000000000",
          "2021-06-05T00:00:00.000000000",
          "2021-06-06T00:00:00.000000000",
          "2021-06-07T00:00:00.000000000",
          "2021-06-08T00:00:00.000000000",
          "2021-06-09T00:00:00.000000000",
          "2021-06-10T00:00:00.000000000",
          "2021-06-11T00:00:00.000000000",
          "2021-06-12T00:00:00.000000000",
          "2021-06-13T00:00:00.000000000",
          "2021-06-14T00:00:00.000000000",
          "2021-06-15T00:00:00.000000000",
          "2021-06-16T00:00:00.000000000",
          "2021-06-17T00:00:00.000000000",
          "2021-06-18T00:00:00.000000000",
          "2021-06-19T00:00:00.000000000",
          "2021-06-20T00:00:00.000000000",
          "2021-06-21T00:00:00.000000000",
          "2021-06-22T00:00:00.000000000",
          "2021-06-23T00:00:00.000000000",
          "2021-06-24T00:00:00.000000000",
          "2021-06-25T00:00:00.000000000",
          "2021-06-26T00:00:00.000000000",
          "2021-06-27T00:00:00.000000000",
          "2021-06-28T00:00:00.000000000",
          "2021-06-29T00:00:00.000000000",
          "2021-06-30T00:00:00.000000000",
          "2021-07-01T00:00:00.000000000",
          "2021-07-02T00:00:00.000000000",
          "2021-07-03T00:00:00.000000000",
          "2021-07-04T00:00:00.000000000",
          "2021-07-05T00:00:00.000000000",
          "2021-07-06T00:00:00.000000000",
          "2021-07-07T00:00:00.000000000",
          "2021-07-08T00:00:00.000000000",
          "2021-07-09T00:00:00.000000000",
          "2021-07-10T00:00:00.000000000",
          "2021-07-11T00:00:00.000000000",
          "2021-07-12T00:00:00.000000000",
          "2021-07-13T00:00:00.000000000",
          "2021-07-14T00:00:00.000000000",
          "2021-07-15T00:00:00.000000000",
          "2021-07-16T00:00:00.000000000",
          "2021-07-17T00:00:00.000000000",
          "2021-07-18T00:00:00.000000000",
          "2021-07-19T00:00:00.000000000",
          "2021-07-20T00:00:00.000000000",
          "2021-07-21T00:00:00.000000000",
          "2021-07-22T00:00:00.000000000",
          "2021-07-23T00:00:00.000000000",
          "2021-07-24T00:00:00.000000000",
          "2021-07-25T00:00:00.000000000",
          "2021-07-26T00:00:00.000000000",
          "2021-07-27T00:00:00.000000000",
          "2021-07-28T00:00:00.000000000",
          "2021-07-29T00:00:00.000000000",
          "2021-07-30T00:00:00.000000000",
          "2021-07-31T00:00:00.000000000",
          "2021-08-01T00:00:00.000000000",
          "2021-08-02T00:00:00.000000000",
          "2021-08-03T00:00:00.000000000",
          "2021-08-04T00:00:00.000000000",
          "2021-08-05T00:00:00.000000000",
          "2021-08-06T00:00:00.000000000",
          "2021-08-07T00:00:00.000000000",
          "2021-08-08T00:00:00.000000000",
          "2021-08-09T00:00:00.000000000",
          "2021-08-10T00:00:00.000000000",
          "2021-08-11T00:00:00.000000000",
          "2021-08-12T00:00:00.000000000",
          "2021-08-13T00:00:00.000000000",
          "2021-08-14T00:00:00.000000000",
          "2021-08-15T00:00:00.000000000",
          "2021-08-16T00:00:00.000000000",
          "2021-08-17T00:00:00.000000000",
          "2021-08-18T00:00:00.000000000",
          "2021-08-19T00:00:00.000000000",
          "2021-08-20T00:00:00.000000000",
          "2021-08-21T00:00:00.000000000",
          "2021-08-22T00:00:00.000000000",
          "2021-08-23T00:00:00.000000000",
          "2021-08-24T00:00:00.000000000",
          "2021-08-25T00:00:00.000000000",
          "2021-08-26T00:00:00.000000000",
          "2021-08-27T00:00:00.000000000",
          "2021-08-28T00:00:00.000000000",
          "2021-08-29T00:00:00.000000000",
          "2021-08-30T00:00:00.000000000",
          "2021-08-31T00:00:00.000000000",
          "2021-09-01T00:00:00.000000000",
          "2021-09-02T00:00:00.000000000",
          "2021-09-03T00:00:00.000000000",
          "2021-09-04T00:00:00.000000000",
          "2021-09-05T00:00:00.000000000",
          "2021-09-06T00:00:00.000000000",
          "2021-09-07T00:00:00.000000000",
          "2021-09-08T00:00:00.000000000",
          "2021-09-09T00:00:00.000000000",
          "2021-09-10T00:00:00.000000000",
          "2021-09-11T00:00:00.000000000",
          "2021-09-12T00:00:00.000000000",
          "2021-09-13T00:00:00.000000000",
          "2021-09-14T00:00:00.000000000",
          "2021-09-15T00:00:00.000000000",
          "2021-09-16T00:00:00.000000000",
          "2021-09-17T00:00:00.000000000",
          "2021-09-18T00:00:00.000000000",
          "2021-09-19T00:00:00.000000000",
          "2021-09-20T00:00:00.000000000",
          "2021-09-21T00:00:00.000000000",
          "2021-09-22T00:00:00.000000000",
          "2021-09-23T00:00:00.000000000",
          "2021-09-24T00:00:00.000000000",
          "2021-09-25T00:00:00.000000000",
          "2021-09-26T00:00:00.000000000",
          "2021-09-27T00:00:00.000000000",
          "2021-09-28T00:00:00.000000000",
          "2021-09-29T00:00:00.000000000",
          "2021-09-30T00:00:00.000000000",
          "2021-10-01T00:00:00.000000000",
          "2021-10-02T00:00:00.000000000",
          "2021-10-03T00:00:00.000000000",
          "2021-10-04T00:00:00.000000000",
          "2021-10-05T00:00:00.000000000",
          "2021-10-06T00:00:00.000000000",
          "2021-10-07T00:00:00.000000000",
          "2021-10-08T00:00:00.000000000",
          "2021-10-09T00:00:00.000000000",
          "2021-10-10T00:00:00.000000000",
          "2021-10-11T00:00:00.000000000",
          "2021-10-12T00:00:00.000000000",
          "2021-10-13T00:00:00.000000000",
          "2021-10-14T00:00:00.000000000",
          "2021-10-15T00:00:00.000000000",
          "2021-10-16T00:00:00.000000000",
          "2021-10-17T00:00:00.000000000",
          "2021-10-18T00:00:00.000000000",
          "2021-10-19T00:00:00.000000000",
          "2021-10-20T00:00:00.000000000",
          "2021-10-21T00:00:00.000000000",
          "2021-10-22T00:00:00.000000000",
          "2021-10-23T00:00:00.000000000",
          "2021-10-24T00:00:00.000000000",
          "2021-10-25T00:00:00.000000000",
          "2021-10-26T00:00:00.000000000",
          "2021-10-27T00:00:00.000000000",
          "2021-10-28T00:00:00.000000000",
          "2021-10-29T00:00:00.000000000",
          "2021-10-30T00:00:00.000000000",
          "2021-10-31T00:00:00.000000000",
          "2021-11-01T00:00:00.000000000",
          "2021-11-02T00:00:00.000000000",
          "2021-11-03T00:00:00.000000000",
          "2021-11-04T00:00:00.000000000",
          "2021-11-05T00:00:00.000000000",
          "2021-11-06T00:00:00.000000000",
          "2021-11-07T00:00:00.000000000",
          "2021-11-08T00:00:00.000000000",
          "2021-11-09T00:00:00.000000000",
          "2021-11-10T00:00:00.000000000",
          "2021-11-11T00:00:00.000000000",
          "2021-11-12T00:00:00.000000000",
          "2021-11-13T00:00:00.000000000",
          "2021-11-14T00:00:00.000000000",
          "2021-11-15T00:00:00.000000000",
          "2021-11-16T00:00:00.000000000",
          "2021-11-17T00:00:00.000000000",
          "2021-11-18T00:00:00.000000000",
          "2021-11-19T00:00:00.000000000",
          "2021-11-20T00:00:00.000000000",
          "2021-11-21T00:00:00.000000000",
          "2021-11-22T00:00:00.000000000",
          "2021-11-23T00:00:00.000000000",
          "2021-11-24T00:00:00.000000000",
          "2021-11-25T00:00:00.000000000",
          "2021-11-26T00:00:00.000000000",
          "2021-11-27T00:00:00.000000000",
          "2021-11-28T00:00:00.000000000",
          "2021-11-29T00:00:00.000000000",
          "2021-11-30T00:00:00.000000000",
          "2021-12-01T00:00:00.000000000",
          "2021-12-02T00:00:00.000000000",
          "2021-12-03T00:00:00.000000000",
          "2021-12-04T00:00:00.000000000",
          "2021-12-05T00:00:00.000000000"
         ],
         "y": {
          "bdata": "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",
          "dtype": "f8"
         }
        }
       ],
       "layout": {
        "template": {
         "data": {
          "bar": [
           {
            "error_x": {
             "color": "#2a3f5f"
            },
            "error_y": {
             "color": "#2a3f5f"
            },
            "marker": {
             "line": {
              "color": "#E5ECF6",
              "width": 0.5
             },
             "pattern": {
              "fillmode": "overlay",
              "size": 10,
              "solidity": 0.2
             }
            },
            "type": "bar"
           }
          ],
          "barpolar": [
           {
            "marker": {
             "line": {
              "color": "#E5ECF6",
              "width": 0.5
             },
             "pattern": {
              "fillmode": "overlay",
              "size": 10,
              "solidity": 0.2
             }
            },
            "type": "barpolar"
           }
          ],
          "carpet": [
           {
            "aaxis": {
             "endlinecolor": "#2a3f5f",
             "gridcolor": "white",
             "linecolor": "white",
             "minorgridcolor": "white",
             "startlinecolor": "#2a3f5f"
            },
            "baxis": {
             "endlinecolor": "#2a3f5f",
             "gridcolor": "white",
             "linecolor": "white",
             "minorgridcolor": "white",
             "startlinecolor": "#2a3f5f"
            },
            "type": "carpet"
           }
          ],
          "choropleth": [
           {
            "colorbar": {
             "outlinewidth": 0,
             "ticks": ""
            },
            "type": "choropleth"
           }
          ],
          "contour": [
           {
            "colorbar": {
             "outlinewidth": 0,
             "ticks": ""
            },
            "colorscale": [
             [
              0,
              "#0d0887"
             ],
             [
              0.1111111111111111,
              "#46039f"
             ],
             [
              0.2222222222222222,
              "#7201a8"
             ],
             [
              0.3333333333333333,
              "#9c179e"
             ],
             [
              0.4444444444444444,
              "#bd3786"
             ],
             [
              0.5555555555555556,
              "#d8576b"
             ],
             [
              0.6666666666666666,
              "#ed7953"
             ],
             [
              0.7777777777777778,
              "#fb9f3a"
             ],
             [
              0.8888888888888888,
              "#fdca26"
             ],
             [
              1,
              "#f0f921"
             ]
            ],
            "type": "contour"
           }
          ],
          "contourcarpet": [
           {
            "colorbar": {
             "outlinewidth": 0,
             "ticks": ""
            },
            "type": "contourcarpet"
           }
          ],
          "heatmap": [
           {
            "colorbar": {
             "outlinewidth": 0,
             "ticks": ""
            },
            "colorscale": [
             [
              0,
              "#0d0887"
             ],
             [
              0.1111111111111111,
              "#46039f"
             ],
             [
              0.2222222222222222,
              "#7201a8"
             ],
             [
              0.3333333333333333,
              "#9c179e"
             ],
             [
              0.4444444444444444,
              "#bd3786"
             ],
             [
              0.5555555555555556,
              "#d8576b"
             ],
             [
              0.6666666666666666,
              "#ed7953"
             ],
             [
              0.7777777777777778,
              "#fb9f3a"
             ],
             [
              0.8888888888888888,
              "#fdca26"
             ],
             [
              1,
              "#f0f921"
             ]
            ],
            "type": "heatmap"
           }
          ],
          "histogram": [
           {
            "marker": {
             "pattern": {
              "fillmode": "overlay",
              "size": 10,
              "solidity": 0.2
             }
            },
            "type": "histogram"
           }
          ],
          "histogram2d": [
           {
            "colorbar": {
             "outlinewidth": 0,
             "ticks": ""
            },
            "colorscale": [
             [
              0,
              "#0d0887"
             ],
             [
              0.1111111111111111,
              "#46039f"
             ],
             [
              0.2222222222222222,
              "#7201a8"
             ],
             [
              0.3333333333333333,
              "#9c179e"
             ],
             [
              0.4444444444444444,
              "#bd3786"
             ],
             [
              0.5555555555555556,
              "#d8576b"
             ],
             [
              0.6666666666666666,
              "#ed7953"
             ],
             [
              0.7777777777777778,
              "#fb9f3a"
             ],
             [
              0.8888888888888888,
              "#fdca26"
             ],
             [
              1,
              "#f0f921"
             ]
            ],
            "type": "histogram2d"
           }
          ],
          "histogram2dcontour": [
           {
            "colorbar": {
             "outlinewidth": 0,
             "ticks": ""
            },
            "colorscale": [
             [
              0,
              "#0d0887"
             ],
             [
              0.1111111111111111,
              "#46039f"
             ],
             [
              0.2222222222222222,
              "#7201a8"
             ],
             [
              0.3333333333333333,
              "#9c179e"
             ],
             [
              0.4444444444444444,
              "#bd3786"
             ],
             [
              0.5555555555555556,
              "#d8576b"
             ],
             [
              0.6666666666666666,
              "#ed7953"
             ],
             [
              0.7777777777777778,
              "#fb9f3a"
             ],
             [
              0.8888888888888888,
              "#fdca26"
             ],
             [
              1,
              "#f0f921"
             ]
            ],
            "type": "histogram2dcontour"
           }
          ],
          "mesh3d": [
           {
            "colorbar": {
             "outlinewidth": 0,
             "ticks": ""
            },
            "type": "mesh3d"
           }
          ],
          "parcoords": [
           {
            "line": {
             "colorbar": {
              "outlinewidth": 0,
              "ticks": ""
             }
            },
            "type": "parcoords"
           }
          ],
          "pie": [
           {
            "automargin": true,
            "type": "pie"
           }
          ],
          "scatter": [
           {
            "fillpattern": {
             "fillmode": "overlay",
             "size": 10,
             "solidity": 0.2
            },
            "type": "scatter"
           }
          ],
          "scatter3d": [
           {
            "line": {
             "colorbar": {
              "outlinewidth": 0,
              "ticks": ""
             }
            },
            "marker": {
             "colorbar": {
              "outlinewidth": 0,
              "ticks": ""
             }
            },
            "type": "scatter3d"
           }
          ],
          "scattercarpet": [
           {
            "marker": {
             "colorbar": {
              "outlinewidth": 0,
              "ticks": ""
             }
            },
            "type": "scattercarpet"
           }
          ],
          "scattergeo": [
           {
            "marker": {
             "colorbar": {
              "outlinewidth": 0,
              "ticks": ""
             }
            },
            "type": "scattergeo"
           }
          ],
          "scattergl": [
           {
            "marker": {
             "colorbar": {
              "outlinewidth": 0,
              "ticks": ""
             }
            },
            "type": "scattergl"
           }
          ],
          "scattermap": [
           {
            "marker": {
             "colorbar": {
              "outlinewidth": 0,
              "ticks": ""
             }
            },
            "type": "scattermap"
           }
          ],
          "scattermapbox": [
           {
            "marker": {
             "colorbar": {
              "outlinewidth": 0,
              "ticks": ""
             }
            },
            "type": "scattermapbox"
           }
          ],
          "scatterpolar": [
           {
            "marker": {
             "colorbar": {
              "outlinewidth": 0,
              "ticks": ""
             }
            },
            "type": "scatterpolar"
           }
          ],
          "scatterpolargl": [
           {
            "marker": {
             "colorbar": {
              "outlinewidth": 0,
              "ticks": ""
             }
            },
            "type": "scatterpolargl"
           }
          ],
          "scatterternary": [
           {
            "marker": {
             "colorbar": {
              "outlinewidth": 0,
              "ticks": ""
             }
            },
            "type": "scatterternary"
           }
          ],
          "surface": [
           {
            "colorbar": {
             "outlinewidth": 0,
             "ticks": ""
            },
            "colorscale": [
             [
              0,
              "#0d0887"
             ],
             [
              0.1111111111111111,
              "#46039f"
             ],
             [
              0.2222222222222222,
              "#7201a8"
             ],
             [
              0.3333333333333333,
              "#9c179e"
             ],
             [
              0.4444444444444444,
              "#bd3786"
             ],
             [
              0.5555555555555556,
              "#d8576b"
             ],
             [
              0.6666666666666666,
              "#ed7953"
             ],
             [
              0.7777777777777778,
              "#fb9f3a"
             ],
             [
              0.8888888888888888,
              "#fdca26"
             ],
             [
              1,
              "#f0f921"
             ]
            ],
            "type": "surface"
           }
          ],
          "table": [
           {
            "cells": {
             "fill": {
              "color": "#EBF0F8"
             },
             "line": {
              "color": "white"
             }
            },
            "header": {
             "fill": {
              "color": "#C8D4E3"
             },
             "line": {
              "color": "white"
             }
            },
            "type": "table"
           }
          ]
         },
         "layout": {
          "annotationdefaults": {
           "arrowcolor": "#2a3f5f",
           "arrowhead": 0,
           "arrowwidth": 1
          },
          "autotypenumbers": "strict",
          "coloraxis": {
           "colorbar": {
            "outlinewidth": 0,
            "ticks": ""
           }
          },
          "colorscale": {
           "diverging": [
            [
             0,
             "#8e0152"
            ],
            [
             0.1,
             "#c51b7d"
            ],
            [
             0.2,
             "#de77ae"
            ],
            [
             0.3,
             "#f1b6da"
            ],
            [
             0.4,
             "#fde0ef"
            ],
            [
             0.5,
             "#f7f7f7"
            ],
            [
             0.6,
             "#e6f5d0"
            ],
            [
             0.7,
             "#b8e186"
            ],
            [
             0.8,
             "#7fbc41"
            ],
            [
             0.9,
             "#4d9221"
            ],
            [
             1,
             "#276419"
            ]
           ],
           "sequential": [
            [
             0,
             "#0d0887"
            ],
            [
             0.1111111111111111,
             "#46039f"
            ],
            [
             0.2222222222222222,
             "#7201a8"
            ],
            [
             0.3333333333333333,
             "#9c179e"
            ],
            [
             0.4444444444444444,
             "#bd3786"
            ],
            [
             0.5555555555555556,
             "#d8576b"
            ],
            [
             0.6666666666666666,
             "#ed7953"
            ],
            [
             0.7777777777777778,
             "#fb9f3a"
            ],
            [
             0.8888888888888888,
             "#fdca26"
            ],
            [
             1,
             "#f0f921"
            ]
           ],
           "sequentialminus": [
            [
             0,
             "#0d0887"
            ],
            [
             0.1111111111111111,
             "#46039f"
            ],
            [
             0.2222222222222222,
             "#7201a8"
            ],
            [
             0.3333333333333333,
             "#9c179e"
            ],
            [
             0.4444444444444444,
             "#bd3786"
            ],
            [
             0.5555555555555556,
             "#d8576b"
            ],
            [
             0.6666666666666666,
             "#ed7953"
            ],
            [
             0.7777777777777778,
             "#fb9f3a"
            ],
            [
             0.8888888888888888,
             "#fdca26"
            ],
            [
             1,
             "#f0f921"
            ]
           ]
          },
          "colorway": [
           "#636efa",
           "#EF553B",
           "#00cc96",
           "#ab63fa",
           "#FFA15A",
           "#19d3f3",
           "#FF6692",
           "#B6E880",
           "#FF97FF",
           "#FECB52"
          ],
          "font": {
           "color": "#2a3f5f"
          },
          "geo": {
           "bgcolor": "white",
           "lakecolor": "white",
           "landcolor": "#E5ECF6",
           "showlakes": true,
           "showland": true,
           "subunitcolor": "white"
          },
          "hoverlabel": {
           "align": "left"
          },
          "hovermode": "closest",
          "mapbox": {
           "style": "light"
          },
          "paper_bgcolor": "white",
          "plot_bgcolor": "#E5ECF6",
          "polar": {
           "angularaxis": {
            "gridcolor": "white",
            "linecolor": "white",
            "ticks": ""
           },
           "bgcolor": "#E5ECF6",
           "radialaxis": {
            "gridcolor": "white",
            "linecolor": "white",
            "ticks": ""
           }
          },
          "scene": {
           "xaxis": {
            "backgroundcolor": "#E5ECF6",
            "gridcolor": "white",
            "gridwidth": 2,
            "linecolor": "white",
            "showbackground": true,
            "ticks": "",
            "zerolinecolor": "white"
           },
           "yaxis": {
            "backgroundcolor": "#E5ECF6",
            "gridcolor": "white",
            "gridwidth": 2,
            "linecolor": "white",
            "showbackground": true,
            "ticks": "",
            "zerolinecolor": "white"
           },
           "zaxis": {
            "backgroundcolor": "#E5ECF6",
            "gridcolor": "white",
            "gridwidth": 2,
            "linecolor": "white",
            "showbackground": true,
            "ticks": "",
            "zerolinecolor": "white"
           }
          },
          "shapedefaults": {
           "line": {
            "color": "#2a3f5f"
           }
          },
          "ternary": {
           "aaxis": {
            "gridcolor": "white",
            "linecolor": "white",
            "ticks": ""
           },
           "baxis": {
            "gridcolor": "white",
            "linecolor": "white",
            "ticks": ""
           },
           "bgcolor": "#E5ECF6",
           "caxis": {
            "gridcolor": "white",
            "linecolor": "white",
            "ticks": ""
           }
          },
          "title": {
           "x": 0.05
          },
          "xaxis": {
           "automargin": true,
           "gridcolor": "white",
           "linecolor": "white",
           "ticks": "",
           "title": {
            "standoff": 15
           },
           "zerolinecolor": "white",
           "zerolinewidth": 2
          },
          "yaxis": {
           "automargin": true,
           "gridcolor": "white",
           "linecolor": "white",
           "ticks": "",
           "title": {
            "standoff": 15
           },
           "zerolinecolor": "white",
           "zerolinewidth": 2
          }
         }
        }
       }
      }
     },
     "metadata": {},
     "output_type": "display_data"
    }
   ],
   "source": [
    "import plotly.graph_objects as go\n",
    "fig = go.Figure([go.Scatter(x=df['ds'], y=df['y'],mode='lines',\n",
    "                    name='Actual')])\n",
    "\n",
    "fig.add_trace(go.Scatter(x=prediction1['ds'], y=prediction1['yhat'],\n",
    "                   mode='lines+markers',\n",
    "                    name='predicted'))\n",
    "\n",
    "fig.show()"
   ]
  }
 ],
 "metadata": {
  "kernelspec": {
   "display_name": ".venv",
   "language": "python",
   "name": "python3"
  },
  "language_info": {
   "codemirror_mode": {
    "name": "ipython",
    "version": 3
   },
   "file_extension": ".py",
   "mimetype": "text/x-python",
   "name": "python",
   "nbconvert_exporter": "python",
   "pygments_lexer": "ipython3",
   "version": "3.13.0"
  }
 },
 "nbformat": 4,
 "nbformat_minor": 5
}
